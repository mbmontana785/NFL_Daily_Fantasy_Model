{
 "cells": [
  {
   "cell_type": "markdown",
   "id": "e581f059-438b-4c7a-8e21-047e990e1e03",
   "metadata": {},
   "source": [
    "# Flex model\n",
    "This notebook is basically a clone of our QB model."
   ]
  },
  {
   "cell_type": "code",
   "execution_count": 1,
   "id": "28909481-8321-40f2-b571-08ed1fde1783",
   "metadata": {},
   "outputs": [],
   "source": [
    "import numpy as np\n",
    "import pandas as pd\n",
    "import matplotlib.pyplot as plt\n",
    "import nfl_data_py as nfl\n",
    "import sqlite3"
   ]
  },
  {
   "cell_type": "code",
   "execution_count": 2,
   "id": "1135c428-1816-4c01-b711-b52142ab9fbd",
   "metadata": {},
   "outputs": [],
   "source": [
    "#from collections import defaultdict"
   ]
  },
  {
   "cell_type": "markdown",
   "id": "5f159a75-27b0-4c25-9530-4bcd603273e9",
   "metadata": {},
   "source": [
    "Let's set up our error dictionaries to keep track of the models. We'll need separate models for FanDuel and DraftKings since the scoring is a little different."
   ]
  },
  {
   "cell_type": "code",
   "execution_count": 3,
   "id": "19559f53-3c9d-4afa-aa3b-8ac4cc796162",
   "metadata": {},
   "outputs": [],
   "source": [
    "# error_dict_FD = defaultdict(float)\n",
    "# error_dict_DK = defaultdict(float)"
   ]
  },
  {
   "cell_type": "markdown",
   "id": "84c373da-2250-4a22-8201-fbc38732384a",
   "metadata": {},
   "source": [
    "Let's bring in our dataset from the database."
   ]
  },
  {
   "cell_type": "code",
   "execution_count": 4,
   "id": "c47ef344-80fe-4434-8988-caa04378f8c3",
   "metadata": {},
   "outputs": [],
   "source": [
    "# Connect to the SQLite database\n",
    "conn = sqlite3.connect('nfl_dfs.db')\n",
    "\n",
    "# Query specific columns from the table\n",
    "query = \"SELECT * FROM flex_dataset\"\n",
    "flex_df = pd.read_sql_query(query, conn)\n",
    "\n",
    "# Close the connection\n",
    "conn.close()"
   ]
  },
  {
   "cell_type": "code",
   "execution_count": 5,
   "id": "93f37886-bff4-4c8f-8553-78cbe4ba0e0e",
   "metadata": {},
   "outputs": [
    {
     "data": {
      "text/html": [
       "<div>\n",
       "<style scoped>\n",
       "    .dataframe tbody tr th:only-of-type {\n",
       "        vertical-align: middle;\n",
       "    }\n",
       "\n",
       "    .dataframe tbody tr th {\n",
       "        vertical-align: top;\n",
       "    }\n",
       "\n",
       "    .dataframe thead th {\n",
       "        text-align: right;\n",
       "    }\n",
       "</style>\n",
       "<table border=\"1\" class=\"dataframe\">\n",
       "  <thead>\n",
       "    <tr style=\"text-align: right;\">\n",
       "      <th></th>\n",
       "      <th>season</th>\n",
       "      <th>week</th>\n",
       "      <th>team</th>\n",
       "      <th>player_id</th>\n",
       "      <th>player_display_name</th>\n",
       "      <th>position</th>\n",
       "      <th>FD_Pts</th>\n",
       "      <th>DK_Pts</th>\n",
       "      <th>DK_Pts_RB_DvP</th>\n",
       "      <th>DK_Pts_TE_DvP</th>\n",
       "      <th>...</th>\n",
       "      <th>opp_total</th>\n",
       "      <th>qb_comp</th>\n",
       "      <th>qb_att</th>\n",
       "      <th>qb_yds</th>\n",
       "      <th>qb_pass_td</th>\n",
       "      <th>qb_int</th>\n",
       "      <th>qb_comp_pct</th>\n",
       "      <th>qb_yds_per_att</th>\n",
       "      <th>qb_td_pct</th>\n",
       "      <th>qb_int_pct</th>\n",
       "    </tr>\n",
       "  </thead>\n",
       "  <tbody>\n",
       "    <tr>\n",
       "      <th>0</th>\n",
       "      <td>2006</td>\n",
       "      <td>2</td>\n",
       "      <td>ARI</td>\n",
       "      <td>00-0000552</td>\n",
       "      <td>Obafemi Ayanbadejo</td>\n",
       "      <td>RB</td>\n",
       "      <td>2.7</td>\n",
       "      <td>3.7</td>\n",
       "      <td>13.3</td>\n",
       "      <td>8.1</td>\n",
       "      <td>...</td>\n",
       "      <td>27.5</td>\n",
       "      <td>23.0</td>\n",
       "      <td>37.0</td>\n",
       "      <td>301.0</td>\n",
       "      <td>3.0</td>\n",
       "      <td>0.0</td>\n",
       "      <td>0.621622</td>\n",
       "      <td>8.135135</td>\n",
       "      <td>0.081081</td>\n",
       "      <td>0.0</td>\n",
       "    </tr>\n",
       "    <tr>\n",
       "      <th>1</th>\n",
       "      <td>2006</td>\n",
       "      <td>2</td>\n",
       "      <td>ARI</td>\n",
       "      <td>00-0008241</td>\n",
       "      <td>Edgerrin James</td>\n",
       "      <td>RB</td>\n",
       "      <td>13.2</td>\n",
       "      <td>16.7</td>\n",
       "      <td>13.3</td>\n",
       "      <td>8.1</td>\n",
       "      <td>...</td>\n",
       "      <td>27.5</td>\n",
       "      <td>23.0</td>\n",
       "      <td>37.0</td>\n",
       "      <td>301.0</td>\n",
       "      <td>3.0</td>\n",
       "      <td>0.0</td>\n",
       "      <td>0.621622</td>\n",
       "      <td>8.135135</td>\n",
       "      <td>0.081081</td>\n",
       "      <td>0.0</td>\n",
       "    </tr>\n",
       "    <tr>\n",
       "      <th>2</th>\n",
       "      <td>2006</td>\n",
       "      <td>2</td>\n",
       "      <td>ARI</td>\n",
       "      <td>00-0019552</td>\n",
       "      <td>Troy Walters</td>\n",
       "      <td>WR</td>\n",
       "      <td>2.0</td>\n",
       "      <td>3.0</td>\n",
       "      <td>13.3</td>\n",
       "      <td>8.1</td>\n",
       "      <td>...</td>\n",
       "      <td>27.5</td>\n",
       "      <td>23.0</td>\n",
       "      <td>37.0</td>\n",
       "      <td>301.0</td>\n",
       "      <td>3.0</td>\n",
       "      <td>0.0</td>\n",
       "      <td>0.621622</td>\n",
       "      <td>8.135135</td>\n",
       "      <td>0.081081</td>\n",
       "      <td>0.0</td>\n",
       "    </tr>\n",
       "    <tr>\n",
       "      <th>3</th>\n",
       "      <td>2006</td>\n",
       "      <td>2</td>\n",
       "      <td>ARI</td>\n",
       "      <td>00-0022084</td>\n",
       "      <td>Anquan Boldin</td>\n",
       "      <td>WR</td>\n",
       "      <td>9.2</td>\n",
       "      <td>12.2</td>\n",
       "      <td>13.3</td>\n",
       "      <td>8.1</td>\n",
       "      <td>...</td>\n",
       "      <td>27.5</td>\n",
       "      <td>23.0</td>\n",
       "      <td>37.0</td>\n",
       "      <td>301.0</td>\n",
       "      <td>3.0</td>\n",
       "      <td>0.0</td>\n",
       "      <td>0.621622</td>\n",
       "      <td>8.135135</td>\n",
       "      <td>0.081081</td>\n",
       "      <td>0.0</td>\n",
       "    </tr>\n",
       "    <tr>\n",
       "      <th>4</th>\n",
       "      <td>2006</td>\n",
       "      <td>2</td>\n",
       "      <td>ARI</td>\n",
       "      <td>00-0022156</td>\n",
       "      <td>Bryant Johnson</td>\n",
       "      <td>WR</td>\n",
       "      <td>10.5</td>\n",
       "      <td>11.0</td>\n",
       "      <td>13.3</td>\n",
       "      <td>8.1</td>\n",
       "      <td>...</td>\n",
       "      <td>27.5</td>\n",
       "      <td>23.0</td>\n",
       "      <td>37.0</td>\n",
       "      <td>301.0</td>\n",
       "      <td>3.0</td>\n",
       "      <td>0.0</td>\n",
       "      <td>0.621622</td>\n",
       "      <td>8.135135</td>\n",
       "      <td>0.081081</td>\n",
       "      <td>0.0</td>\n",
       "    </tr>\n",
       "  </tbody>\n",
       "</table>\n",
       "<p>5 rows × 50 columns</p>\n",
       "</div>"
      ],
      "text/plain": [
       "   season  week team   player_id player_display_name position  FD_Pts  DK_Pts  \\\n",
       "0    2006     2  ARI  00-0000552  Obafemi Ayanbadejo       RB     2.7     3.7   \n",
       "1    2006     2  ARI  00-0008241      Edgerrin James       RB    13.2    16.7   \n",
       "2    2006     2  ARI  00-0019552        Troy Walters       WR     2.0     3.0   \n",
       "3    2006     2  ARI  00-0022084       Anquan Boldin       WR     9.2    12.2   \n",
       "4    2006     2  ARI  00-0022156      Bryant Johnson       WR    10.5    11.0   \n",
       "\n",
       "   DK_Pts_RB_DvP  DK_Pts_TE_DvP  ...  opp_total  qb_comp  qb_att  qb_yds  \\\n",
       "0           13.3            8.1  ...       27.5     23.0    37.0   301.0   \n",
       "1           13.3            8.1  ...       27.5     23.0    37.0   301.0   \n",
       "2           13.3            8.1  ...       27.5     23.0    37.0   301.0   \n",
       "3           13.3            8.1  ...       27.5     23.0    37.0   301.0   \n",
       "4           13.3            8.1  ...       27.5     23.0    37.0   301.0   \n",
       "\n",
       "   qb_pass_td  qb_int  qb_comp_pct  qb_yds_per_att  qb_td_pct  qb_int_pct  \n",
       "0         3.0     0.0     0.621622        8.135135   0.081081         0.0  \n",
       "1         3.0     0.0     0.621622        8.135135   0.081081         0.0  \n",
       "2         3.0     0.0     0.621622        8.135135   0.081081         0.0  \n",
       "3         3.0     0.0     0.621622        8.135135   0.081081         0.0  \n",
       "4         3.0     0.0     0.621622        8.135135   0.081081         0.0  \n",
       "\n",
       "[5 rows x 50 columns]"
      ]
     },
     "execution_count": 5,
     "metadata": {},
     "output_type": "execute_result"
    }
   ],
   "source": [
    "flex_df.head()"
   ]
  },
  {
   "cell_type": "code",
   "execution_count": 6,
   "id": "8c4689cc-ea22-4c0b-b719-40cb3fa26367",
   "metadata": {},
   "outputs": [
    {
     "data": {
      "text/html": [
       "<div>\n",
       "<style scoped>\n",
       "    .dataframe tbody tr th:only-of-type {\n",
       "        vertical-align: middle;\n",
       "    }\n",
       "\n",
       "    .dataframe tbody tr th {\n",
       "        vertical-align: top;\n",
       "    }\n",
       "\n",
       "    .dataframe thead th {\n",
       "        text-align: right;\n",
       "    }\n",
       "</style>\n",
       "<table border=\"1\" class=\"dataframe\">\n",
       "  <thead>\n",
       "    <tr style=\"text-align: right;\">\n",
       "      <th></th>\n",
       "      <th>season</th>\n",
       "      <th>week</th>\n",
       "      <th>team</th>\n",
       "      <th>player_id</th>\n",
       "      <th>player_display_name</th>\n",
       "      <th>position</th>\n",
       "      <th>FD_Pts</th>\n",
       "      <th>DK_Pts</th>\n",
       "      <th>DK_Pts_RB_DvP</th>\n",
       "      <th>DK_Pts_TE_DvP</th>\n",
       "      <th>...</th>\n",
       "      <th>opp_total</th>\n",
       "      <th>qb_comp</th>\n",
       "      <th>qb_att</th>\n",
       "      <th>qb_yds</th>\n",
       "      <th>qb_pass_td</th>\n",
       "      <th>qb_int</th>\n",
       "      <th>qb_comp_pct</th>\n",
       "      <th>qb_yds_per_att</th>\n",
       "      <th>qb_td_pct</th>\n",
       "      <th>qb_int_pct</th>\n",
       "    </tr>\n",
       "  </thead>\n",
       "  <tbody>\n",
       "    <tr>\n",
       "      <th>80810</th>\n",
       "      <td>2023</td>\n",
       "      <td>22</td>\n",
       "      <td>SF</td>\n",
       "      <td>00-0034407</td>\n",
       "      <td>Ray-Ray McCloud</td>\n",
       "      <td>WR</td>\n",
       "      <td>2.40</td>\n",
       "      <td>2.90</td>\n",
       "      <td>19.6125</td>\n",
       "      <td>11.85</td>\n",
       "      <td>...</td>\n",
       "      <td>22.75</td>\n",
       "      <td>19.75</td>\n",
       "      <td>29.875</td>\n",
       "      <td>267.125</td>\n",
       "      <td>1.875</td>\n",
       "      <td>0.875</td>\n",
       "      <td>0.661088</td>\n",
       "      <td>8.941423</td>\n",
       "      <td>0.062762</td>\n",
       "      <td>0.029289</td>\n",
       "    </tr>\n",
       "    <tr>\n",
       "      <th>80811</th>\n",
       "      <td>2023</td>\n",
       "      <td>22</td>\n",
       "      <td>SF</td>\n",
       "      <td>00-0035719</td>\n",
       "      <td>Deebo Samuel</td>\n",
       "      <td>WR</td>\n",
       "      <td>5.60</td>\n",
       "      <td>7.10</td>\n",
       "      <td>19.6125</td>\n",
       "      <td>11.85</td>\n",
       "      <td>...</td>\n",
       "      <td>22.75</td>\n",
       "      <td>19.75</td>\n",
       "      <td>29.875</td>\n",
       "      <td>267.125</td>\n",
       "      <td>1.875</td>\n",
       "      <td>0.875</td>\n",
       "      <td>0.661088</td>\n",
       "      <td>8.941423</td>\n",
       "      <td>0.062762</td>\n",
       "      <td>0.029289</td>\n",
       "    </tr>\n",
       "    <tr>\n",
       "      <th>80812</th>\n",
       "      <td>2023</td>\n",
       "      <td>22</td>\n",
       "      <td>SF</td>\n",
       "      <td>00-0036259</td>\n",
       "      <td>Jauan Jennings</td>\n",
       "      <td>WR</td>\n",
       "      <td>17.04</td>\n",
       "      <td>19.04</td>\n",
       "      <td>19.6125</td>\n",
       "      <td>11.85</td>\n",
       "      <td>...</td>\n",
       "      <td>22.75</td>\n",
       "      <td>19.75</td>\n",
       "      <td>29.875</td>\n",
       "      <td>267.125</td>\n",
       "      <td>1.875</td>\n",
       "      <td>0.875</td>\n",
       "      <td>0.661088</td>\n",
       "      <td>8.941423</td>\n",
       "      <td>0.062762</td>\n",
       "      <td>0.029289</td>\n",
       "    </tr>\n",
       "    <tr>\n",
       "      <th>80813</th>\n",
       "      <td>2023</td>\n",
       "      <td>22</td>\n",
       "      <td>SF</td>\n",
       "      <td>00-0036261</td>\n",
       "      <td>Brandon Aiyuk</td>\n",
       "      <td>WR</td>\n",
       "      <td>6.40</td>\n",
       "      <td>7.90</td>\n",
       "      <td>19.6125</td>\n",
       "      <td>11.85</td>\n",
       "      <td>...</td>\n",
       "      <td>22.75</td>\n",
       "      <td>19.75</td>\n",
       "      <td>29.875</td>\n",
       "      <td>267.125</td>\n",
       "      <td>1.875</td>\n",
       "      <td>0.875</td>\n",
       "      <td>0.661088</td>\n",
       "      <td>8.941423</td>\n",
       "      <td>0.062762</td>\n",
       "      <td>0.029289</td>\n",
       "    </tr>\n",
       "    <tr>\n",
       "      <th>80814</th>\n",
       "      <td>2023</td>\n",
       "      <td>22</td>\n",
       "      <td>SF</td>\n",
       "      <td>00-0036567</td>\n",
       "      <td>Elijah Mitchell</td>\n",
       "      <td>RB</td>\n",
       "      <td>0.80</td>\n",
       "      <td>0.80</td>\n",
       "      <td>19.6125</td>\n",
       "      <td>11.85</td>\n",
       "      <td>...</td>\n",
       "      <td>22.75</td>\n",
       "      <td>19.75</td>\n",
       "      <td>29.875</td>\n",
       "      <td>267.125</td>\n",
       "      <td>1.875</td>\n",
       "      <td>0.875</td>\n",
       "      <td>0.661088</td>\n",
       "      <td>8.941423</td>\n",
       "      <td>0.062762</td>\n",
       "      <td>0.029289</td>\n",
       "    </tr>\n",
       "  </tbody>\n",
       "</table>\n",
       "<p>5 rows × 50 columns</p>\n",
       "</div>"
      ],
      "text/plain": [
       "       season  week team   player_id player_display_name position  FD_Pts  \\\n",
       "80810    2023    22   SF  00-0034407     Ray-Ray McCloud       WR    2.40   \n",
       "80811    2023    22   SF  00-0035719        Deebo Samuel       WR    5.60   \n",
       "80812    2023    22   SF  00-0036259      Jauan Jennings       WR   17.04   \n",
       "80813    2023    22   SF  00-0036261       Brandon Aiyuk       WR    6.40   \n",
       "80814    2023    22   SF  00-0036567     Elijah Mitchell       RB    0.80   \n",
       "\n",
       "       DK_Pts  DK_Pts_RB_DvP  DK_Pts_TE_DvP  ...  opp_total  qb_comp  qb_att  \\\n",
       "80810    2.90        19.6125          11.85  ...      22.75    19.75  29.875   \n",
       "80811    7.10        19.6125          11.85  ...      22.75    19.75  29.875   \n",
       "80812   19.04        19.6125          11.85  ...      22.75    19.75  29.875   \n",
       "80813    7.90        19.6125          11.85  ...      22.75    19.75  29.875   \n",
       "80814    0.80        19.6125          11.85  ...      22.75    19.75  29.875   \n",
       "\n",
       "        qb_yds  qb_pass_td  qb_int  qb_comp_pct  qb_yds_per_att  qb_td_pct  \\\n",
       "80810  267.125       1.875   0.875     0.661088        8.941423   0.062762   \n",
       "80811  267.125       1.875   0.875     0.661088        8.941423   0.062762   \n",
       "80812  267.125       1.875   0.875     0.661088        8.941423   0.062762   \n",
       "80813  267.125       1.875   0.875     0.661088        8.941423   0.062762   \n",
       "80814  267.125       1.875   0.875     0.661088        8.941423   0.062762   \n",
       "\n",
       "       qb_int_pct  \n",
       "80810    0.029289  \n",
       "80811    0.029289  \n",
       "80812    0.029289  \n",
       "80813    0.029289  \n",
       "80814    0.029289  \n",
       "\n",
       "[5 rows x 50 columns]"
      ]
     },
     "execution_count": 6,
     "metadata": {},
     "output_type": "execute_result"
    }
   ],
   "source": [
    "flex_df.tail()"
   ]
  },
  {
   "cell_type": "code",
   "execution_count": 7,
   "id": "f10b469f-4511-423d-822f-ffcc8406a7e6",
   "metadata": {},
   "outputs": [
    {
     "name": "stdout",
     "output_type": "stream",
     "text": [
      "<class 'pandas.core.frame.DataFrame'>\n",
      "RangeIndex: 80815 entries, 0 to 80814\n",
      "Data columns (total 50 columns):\n",
      " #   Column                          Non-Null Count  Dtype  \n",
      "---  ------                          --------------  -----  \n",
      " 0   season                          80815 non-null  int64  \n",
      " 1   week                            80815 non-null  int64  \n",
      " 2   team                            80815 non-null  object \n",
      " 3   player_id                       80815 non-null  object \n",
      " 4   player_display_name             80815 non-null  object \n",
      " 5   position                        80815 non-null  object \n",
      " 6   FD_Pts                          80815 non-null  float64\n",
      " 7   DK_Pts                          80815 non-null  float64\n",
      " 8   DK_Pts_RB_DvP                   80815 non-null  float64\n",
      " 9   DK_Pts_TE_DvP                   80815 non-null  float64\n",
      " 10  DK_Pts_WR_DvP                   80815 non-null  float64\n",
      " 11  FD_Pts_RB_DvP                   80815 non-null  float64\n",
      " 12  FD_Pts_TE_DvP                   80815 non-null  float64\n",
      " 13  FD_Pts_WR_DvP                   80815 non-null  float64\n",
      " 14  rushing_yards_L8                80815 non-null  float64\n",
      " 15  rushing_tds_L8                  80815 non-null  float64\n",
      " 16  rushing_fumbles_lost_L8         80815 non-null  float64\n",
      " 17  receptions_L8                   80815 non-null  float64\n",
      " 18  receiving_yards_L8              80815 non-null  float64\n",
      " 19  receiving_tds_L8                80815 non-null  float64\n",
      " 20  receiving_fumbles_lost_L8       80815 non-null  float64\n",
      " 21  targets_L8                      80815 non-null  float64\n",
      " 22  carries_L8                      80815 non-null  float64\n",
      " 23  receiving_yards_after_catch_L8  80815 non-null  float64\n",
      " 24  receiving_air_yards_L8          80815 non-null  float64\n",
      " 25  target_share_L8                 80815 non-null  float64\n",
      " 26  carry_share_L8                  80815 non-null  float64\n",
      " 27  in_10_share_L8                  80815 non-null  float64\n",
      " 28  yards_per_carry_L8              80815 non-null  float64\n",
      " 29  yards_per_reception_L8          80815 non-null  float64\n",
      " 30  yards_per_target_L8             80815 non-null  float64\n",
      " 31  wind                            80815 non-null  float64\n",
      " 32  div_game                        80815 non-null  int64  \n",
      " 33  opponent                        80815 non-null  object \n",
      " 34  spread_line                     80815 non-null  float64\n",
      " 35  total_line                      80815 non-null  float64\n",
      " 36  outdoors                        80815 non-null  int64  \n",
      " 37  grass                           80815 non-null  int64  \n",
      " 38  home_team                       80815 non-null  int64  \n",
      " 39  pred_total                      80815 non-null  float64\n",
      " 40  opp_total                       80815 non-null  float64\n",
      " 41  qb_comp                         80815 non-null  float64\n",
      " 42  qb_att                          80815 non-null  float64\n",
      " 43  qb_yds                          80815 non-null  float64\n",
      " 44  qb_pass_td                      80815 non-null  float64\n",
      " 45  qb_int                          80815 non-null  float64\n",
      " 46  qb_comp_pct                     80815 non-null  float64\n",
      " 47  qb_yds_per_att                  80815 non-null  float64\n",
      " 48  qb_td_pct                       80815 non-null  float64\n",
      " 49  qb_int_pct                      80815 non-null  float64\n",
      "dtypes: float64(39), int64(6), object(5)\n",
      "memory usage: 30.8+ MB\n"
     ]
    }
   ],
   "source": [
    "flex_df.info()"
   ]
  },
  {
   "cell_type": "code",
   "execution_count": 8,
   "id": "e04ecc24-3395-439b-89b9-e151eb2b25ab",
   "metadata": {},
   "outputs": [],
   "source": [
    "from sklearn.metrics import mean_squared_error, mean_absolute_error, r2_score \n",
    "from sklearn.model_selection import train_test_split \n",
    "from sklearn import linear_model, preprocessing "
   ]
  },
  {
   "cell_type": "code",
   "execution_count": 9,
   "id": "77203064-93e3-4aa9-b4ab-5e35e39f624b",
   "metadata": {},
   "outputs": [],
   "source": [
    "flex_model_even = flex_df[flex_df['season']%2 == 0]"
   ]
  },
  {
   "cell_type": "code",
   "execution_count": 10,
   "id": "544cf777-cc18-47f5-8e54-413ad9d97ee3",
   "metadata": {},
   "outputs": [],
   "source": [
    "main_df = flex_model_even"
   ]
  },
  {
   "cell_type": "code",
   "execution_count": 11,
   "id": "bc0641c1-5d38-4d20-b78b-8fc45f058e28",
   "metadata": {},
   "outputs": [
    {
     "name": "stdout",
     "output_type": "stream",
     "text": [
      "<class 'pandas.core.frame.DataFrame'>\n",
      "Index: 40039 entries, 0 to 75971\n",
      "Data columns (total 50 columns):\n",
      " #   Column                          Non-Null Count  Dtype  \n",
      "---  ------                          --------------  -----  \n",
      " 0   season                          40039 non-null  int64  \n",
      " 1   week                            40039 non-null  int64  \n",
      " 2   team                            40039 non-null  object \n",
      " 3   player_id                       40039 non-null  object \n",
      " 4   player_display_name             40039 non-null  object \n",
      " 5   position                        40039 non-null  object \n",
      " 6   FD_Pts                          40039 non-null  float64\n",
      " 7   DK_Pts                          40039 non-null  float64\n",
      " 8   DK_Pts_RB_DvP                   40039 non-null  float64\n",
      " 9   DK_Pts_TE_DvP                   40039 non-null  float64\n",
      " 10  DK_Pts_WR_DvP                   40039 non-null  float64\n",
      " 11  FD_Pts_RB_DvP                   40039 non-null  float64\n",
      " 12  FD_Pts_TE_DvP                   40039 non-null  float64\n",
      " 13  FD_Pts_WR_DvP                   40039 non-null  float64\n",
      " 14  rushing_yards_L8                40039 non-null  float64\n",
      " 15  rushing_tds_L8                  40039 non-null  float64\n",
      " 16  rushing_fumbles_lost_L8         40039 non-null  float64\n",
      " 17  receptions_L8                   40039 non-null  float64\n",
      " 18  receiving_yards_L8              40039 non-null  float64\n",
      " 19  receiving_tds_L8                40039 non-null  float64\n",
      " 20  receiving_fumbles_lost_L8       40039 non-null  float64\n",
      " 21  targets_L8                      40039 non-null  float64\n",
      " 22  carries_L8                      40039 non-null  float64\n",
      " 23  receiving_yards_after_catch_L8  40039 non-null  float64\n",
      " 24  receiving_air_yards_L8          40039 non-null  float64\n",
      " 25  target_share_L8                 40039 non-null  float64\n",
      " 26  carry_share_L8                  40039 non-null  float64\n",
      " 27  in_10_share_L8                  40039 non-null  float64\n",
      " 28  yards_per_carry_L8              40039 non-null  float64\n",
      " 29  yards_per_reception_L8          40039 non-null  float64\n",
      " 30  yards_per_target_L8             40039 non-null  float64\n",
      " 31  wind                            40039 non-null  float64\n",
      " 32  div_game                        40039 non-null  int64  \n",
      " 33  opponent                        40039 non-null  object \n",
      " 34  spread_line                     40039 non-null  float64\n",
      " 35  total_line                      40039 non-null  float64\n",
      " 36  outdoors                        40039 non-null  int64  \n",
      " 37  grass                           40039 non-null  int64  \n",
      " 38  home_team                       40039 non-null  int64  \n",
      " 39  pred_total                      40039 non-null  float64\n",
      " 40  opp_total                       40039 non-null  float64\n",
      " 41  qb_comp                         40039 non-null  float64\n",
      " 42  qb_att                          40039 non-null  float64\n",
      " 43  qb_yds                          40039 non-null  float64\n",
      " 44  qb_pass_td                      40039 non-null  float64\n",
      " 45  qb_int                          40039 non-null  float64\n",
      " 46  qb_comp_pct                     40039 non-null  float64\n",
      " 47  qb_yds_per_att                  40039 non-null  float64\n",
      " 48  qb_td_pct                       40039 non-null  float64\n",
      " 49  qb_int_pct                      40039 non-null  float64\n",
      "dtypes: float64(39), int64(6), object(5)\n",
      "memory usage: 15.6+ MB\n"
     ]
    }
   ],
   "source": [
    "main_df.info()"
   ]
  },
  {
   "cell_type": "code",
   "execution_count": 12,
   "id": "e4573f02-1b57-4a9c-82d2-7d8fcaf10fff",
   "metadata": {},
   "outputs": [
    {
     "data": {
      "text/plain": [
       "season\n",
       "2022    4863\n",
       "2020    4681\n",
       "2014    4604\n",
       "2012    4549\n",
       "2016    4547\n",
       "2018    4545\n",
       "2010    4437\n",
       "2008    4099\n",
       "2006    3714\n",
       "Name: count, dtype: int64"
      ]
     },
     "execution_count": 12,
     "metadata": {},
     "output_type": "execute_result"
    }
   ],
   "source": [
    "main_df['season'].value_counts()"
   ]
  },
  {
   "cell_type": "code",
   "execution_count": 13,
   "id": "053e62f6-f57d-41db-81c6-a973e7720654",
   "metadata": {},
   "outputs": [
    {
     "data": {
      "text/html": [
       "<div>\n",
       "<style scoped>\n",
       "    .dataframe tbody tr th:only-of-type {\n",
       "        vertical-align: middle;\n",
       "    }\n",
       "\n",
       "    .dataframe tbody tr th {\n",
       "        vertical-align: top;\n",
       "    }\n",
       "\n",
       "    .dataframe thead th {\n",
       "        text-align: right;\n",
       "    }\n",
       "</style>\n",
       "<table border=\"1\" class=\"dataframe\">\n",
       "  <thead>\n",
       "    <tr style=\"text-align: right;\">\n",
       "      <th></th>\n",
       "      <th>count</th>\n",
       "      <th>mean</th>\n",
       "      <th>std</th>\n",
       "      <th>min</th>\n",
       "      <th>25%</th>\n",
       "      <th>50%</th>\n",
       "      <th>75%</th>\n",
       "      <th>max</th>\n",
       "    </tr>\n",
       "  </thead>\n",
       "  <tbody>\n",
       "    <tr>\n",
       "      <th>season</th>\n",
       "      <td>40039.0</td>\n",
       "      <td>2014.327481</td>\n",
       "      <td>5.098584</td>\n",
       "      <td>2006.00</td>\n",
       "      <td>2010.000000</td>\n",
       "      <td>2014.000000</td>\n",
       "      <td>2018.000000</td>\n",
       "      <td>2022.000000</td>\n",
       "    </tr>\n",
       "    <tr>\n",
       "      <th>week</th>\n",
       "      <td>40039.0</td>\n",
       "      <td>9.620445</td>\n",
       "      <td>5.279488</td>\n",
       "      <td>1.00</td>\n",
       "      <td>5.000000</td>\n",
       "      <td>10.000000</td>\n",
       "      <td>14.000000</td>\n",
       "      <td>22.000000</td>\n",
       "    </tr>\n",
       "    <tr>\n",
       "      <th>FD_Pts</th>\n",
       "      <td>40039.0</td>\n",
       "      <td>6.897175</td>\n",
       "      <td>6.784428</td>\n",
       "      <td>-4.70</td>\n",
       "      <td>1.700000</td>\n",
       "      <td>4.800000</td>\n",
       "      <td>10.200000</td>\n",
       "      <td>54.700000</td>\n",
       "    </tr>\n",
       "    <tr>\n",
       "      <th>DK_Pts</th>\n",
       "      <td>40039.0</td>\n",
       "      <td>8.404293</td>\n",
       "      <td>8.071240</td>\n",
       "      <td>-2.70</td>\n",
       "      <td>2.200000</td>\n",
       "      <td>6.000000</td>\n",
       "      <td>12.200000</td>\n",
       "      <td>60.900000</td>\n",
       "    </tr>\n",
       "    <tr>\n",
       "      <th>DK_Pts_RB_DvP</th>\n",
       "      <td>40039.0</td>\n",
       "      <td>24.267485</td>\n",
       "      <td>4.804113</td>\n",
       "      <td>5.30</td>\n",
       "      <td>20.875000</td>\n",
       "      <td>23.912500</td>\n",
       "      <td>27.312500</td>\n",
       "      <td>47.133333</td>\n",
       "    </tr>\n",
       "    <tr>\n",
       "      <th>DK_Pts_TE_DvP</th>\n",
       "      <td>40039.0</td>\n",
       "      <td>12.039609</td>\n",
       "      <td>3.315715</td>\n",
       "      <td>0.00</td>\n",
       "      <td>9.750000</td>\n",
       "      <td>11.825000</td>\n",
       "      <td>14.150000</td>\n",
       "      <td>25.800000</td>\n",
       "    </tr>\n",
       "    <tr>\n",
       "      <th>DK_Pts_WR_DvP</th>\n",
       "      <td>40039.0</td>\n",
       "      <td>34.478590</td>\n",
       "      <td>6.020137</td>\n",
       "      <td>6.40</td>\n",
       "      <td>30.562500</td>\n",
       "      <td>34.437500</td>\n",
       "      <td>38.367500</td>\n",
       "      <td>63.312500</td>\n",
       "    </tr>\n",
       "    <tr>\n",
       "      <th>FD_Pts_RB_DvP</th>\n",
       "      <td>40039.0</td>\n",
       "      <td>20.973706</td>\n",
       "      <td>4.317832</td>\n",
       "      <td>4.80</td>\n",
       "      <td>17.900000</td>\n",
       "      <td>20.637500</td>\n",
       "      <td>23.762500</td>\n",
       "      <td>42.300000</td>\n",
       "    </tr>\n",
       "    <tr>\n",
       "      <th>FD_Pts_TE_DvP</th>\n",
       "      <td>40039.0</td>\n",
       "      <td>9.602321</td>\n",
       "      <td>2.755943</td>\n",
       "      <td>0.00</td>\n",
       "      <td>7.650000</td>\n",
       "      <td>9.462500</td>\n",
       "      <td>11.325000</td>\n",
       "      <td>21.925000</td>\n",
       "    </tr>\n",
       "    <tr>\n",
       "      <th>FD_Pts_WR_DvP</th>\n",
       "      <td>40039.0</td>\n",
       "      <td>27.530229</td>\n",
       "      <td>4.878245</td>\n",
       "      <td>4.90</td>\n",
       "      <td>24.357143</td>\n",
       "      <td>27.502500</td>\n",
       "      <td>30.800000</td>\n",
       "      <td>48.812500</td>\n",
       "    </tr>\n",
       "    <tr>\n",
       "      <th>rushing_yards_L8</th>\n",
       "      <td>40039.0</td>\n",
       "      <td>12.346198</td>\n",
       "      <td>22.960919</td>\n",
       "      <td>-10.00</td>\n",
       "      <td>0.000000</td>\n",
       "      <td>0.250000</td>\n",
       "      <td>12.153535</td>\n",
       "      <td>165.250000</td>\n",
       "    </tr>\n",
       "    <tr>\n",
       "      <th>rushing_tds_L8</th>\n",
       "      <td>40039.0</td>\n",
       "      <td>0.088247</td>\n",
       "      <td>0.204273</td>\n",
       "      <td>0.00</td>\n",
       "      <td>0.000000</td>\n",
       "      <td>0.000000</td>\n",
       "      <td>0.085163</td>\n",
       "      <td>2.625000</td>\n",
       "    </tr>\n",
       "    <tr>\n",
       "      <th>rushing_fumbles_lost_L8</th>\n",
       "      <td>40039.0</td>\n",
       "      <td>0.016124</td>\n",
       "      <td>0.059038</td>\n",
       "      <td>0.00</td>\n",
       "      <td>0.000000</td>\n",
       "      <td>0.000000</td>\n",
       "      <td>0.000000</td>\n",
       "      <td>1.000000</td>\n",
       "    </tr>\n",
       "    <tr>\n",
       "      <th>receptions_L8</th>\n",
       "      <td>40039.0</td>\n",
       "      <td>2.568280</td>\n",
       "      <td>1.640440</td>\n",
       "      <td>0.00</td>\n",
       "      <td>1.250000</td>\n",
       "      <td>2.250000</td>\n",
       "      <td>3.500000</td>\n",
       "      <td>11.000000</td>\n",
       "    </tr>\n",
       "    <tr>\n",
       "      <th>receiving_yards_L8</th>\n",
       "      <td>40039.0</td>\n",
       "      <td>29.407277</td>\n",
       "      <td>22.807988</td>\n",
       "      <td>-7.00</td>\n",
       "      <td>11.750000</td>\n",
       "      <td>24.200000</td>\n",
       "      <td>41.500000</td>\n",
       "      <td>161.000000</td>\n",
       "    </tr>\n",
       "    <tr>\n",
       "      <th>receiving_tds_L8</th>\n",
       "      <td>40039.0</td>\n",
       "      <td>0.180771</td>\n",
       "      <td>0.216795</td>\n",
       "      <td>0.00</td>\n",
       "      <td>0.000000</td>\n",
       "      <td>0.125000</td>\n",
       "      <td>0.250000</td>\n",
       "      <td>2.000000</td>\n",
       "    </tr>\n",
       "    <tr>\n",
       "      <th>receiving_fumbles_lost_L8</th>\n",
       "      <td>40039.0</td>\n",
       "      <td>0.016210</td>\n",
       "      <td>0.049859</td>\n",
       "      <td>0.00</td>\n",
       "      <td>0.000000</td>\n",
       "      <td>0.000000</td>\n",
       "      <td>0.000000</td>\n",
       "      <td>1.000000</td>\n",
       "    </tr>\n",
       "    <tr>\n",
       "      <th>targets_L8</th>\n",
       "      <td>40039.0</td>\n",
       "      <td>3.718507</td>\n",
       "      <td>2.437304</td>\n",
       "      <td>0.00</td>\n",
       "      <td>1.833333</td>\n",
       "      <td>3.250000</td>\n",
       "      <td>5.125000</td>\n",
       "      <td>15.000000</td>\n",
       "    </tr>\n",
       "    <tr>\n",
       "      <th>carries_L8</th>\n",
       "      <td>40039.0</td>\n",
       "      <td>2.868573</td>\n",
       "      <td>5.238264</td>\n",
       "      <td>0.00</td>\n",
       "      <td>0.000000</td>\n",
       "      <td>0.125000</td>\n",
       "      <td>2.831559</td>\n",
       "      <td>31.000000</td>\n",
       "    </tr>\n",
       "    <tr>\n",
       "      <th>receiving_yards_after_catch_L8</th>\n",
       "      <td>40039.0</td>\n",
       "      <td>13.155896</td>\n",
       "      <td>9.696120</td>\n",
       "      <td>-5.00</td>\n",
       "      <td>6.125000</td>\n",
       "      <td>11.250000</td>\n",
       "      <td>17.875000</td>\n",
       "      <td>98.000000</td>\n",
       "    </tr>\n",
       "    <tr>\n",
       "      <th>receiving_air_yards_L8</th>\n",
       "      <td>40039.0</td>\n",
       "      <td>30.161591</td>\n",
       "      <td>32.354894</td>\n",
       "      <td>-20.00</td>\n",
       "      <td>3.000000</td>\n",
       "      <td>21.375000</td>\n",
       "      <td>47.125000</td>\n",
       "      <td>242.000000</td>\n",
       "    </tr>\n",
       "    <tr>\n",
       "      <th>target_share_L8</th>\n",
       "      <td>40039.0</td>\n",
       "      <td>0.119970</td>\n",
       "      <td>0.073988</td>\n",
       "      <td>0.00</td>\n",
       "      <td>0.061092</td>\n",
       "      <td>0.107899</td>\n",
       "      <td>0.167852</td>\n",
       "      <td>0.562500</td>\n",
       "    </tr>\n",
       "    <tr>\n",
       "      <th>carry_share_L8</th>\n",
       "      <td>40039.0</td>\n",
       "      <td>0.108718</td>\n",
       "      <td>0.197444</td>\n",
       "      <td>0.00</td>\n",
       "      <td>0.000000</td>\n",
       "      <td>0.005000</td>\n",
       "      <td>0.107587</td>\n",
       "      <td>0.938000</td>\n",
       "    </tr>\n",
       "    <tr>\n",
       "      <th>in_10_share_L8</th>\n",
       "      <td>40039.0</td>\n",
       "      <td>0.100855</td>\n",
       "      <td>0.117519</td>\n",
       "      <td>0.00</td>\n",
       "      <td>0.019250</td>\n",
       "      <td>0.062500</td>\n",
       "      <td>0.133375</td>\n",
       "      <td>1.000000</td>\n",
       "    </tr>\n",
       "    <tr>\n",
       "      <th>yards_per_carry_L8</th>\n",
       "      <td>40039.0</td>\n",
       "      <td>2.552447</td>\n",
       "      <td>3.960131</td>\n",
       "      <td>-14.00</td>\n",
       "      <td>0.000000</td>\n",
       "      <td>1.000000</td>\n",
       "      <td>4.292170</td>\n",
       "      <td>72.000000</td>\n",
       "    </tr>\n",
       "    <tr>\n",
       "      <th>yards_per_reception_L8</th>\n",
       "      <td>40039.0</td>\n",
       "      <td>10.688761</td>\n",
       "      <td>4.512960</td>\n",
       "      <td>-7.00</td>\n",
       "      <td>7.880000</td>\n",
       "      <td>10.652174</td>\n",
       "      <td>13.083333</td>\n",
       "      <td>80.000000</td>\n",
       "    </tr>\n",
       "    <tr>\n",
       "      <th>yards_per_target_L8</th>\n",
       "      <td>40039.0</td>\n",
       "      <td>7.557243</td>\n",
       "      <td>3.467835</td>\n",
       "      <td>-7.00</td>\n",
       "      <td>5.576923</td>\n",
       "      <td>7.269231</td>\n",
       "      <td>9.000000</td>\n",
       "      <td>80.000000</td>\n",
       "    </tr>\n",
       "    <tr>\n",
       "      <th>wind</th>\n",
       "      <td>40039.0</td>\n",
       "      <td>6.154130</td>\n",
       "      <td>5.772859</td>\n",
       "      <td>0.00</td>\n",
       "      <td>0.000000</td>\n",
       "      <td>6.000000</td>\n",
       "      <td>9.000000</td>\n",
       "      <td>70.000000</td>\n",
       "    </tr>\n",
       "    <tr>\n",
       "      <th>div_game</th>\n",
       "      <td>40039.0</td>\n",
       "      <td>0.362846</td>\n",
       "      <td>0.480827</td>\n",
       "      <td>0.00</td>\n",
       "      <td>0.000000</td>\n",
       "      <td>0.000000</td>\n",
       "      <td>1.000000</td>\n",
       "      <td>1.000000</td>\n",
       "    </tr>\n",
       "    <tr>\n",
       "      <th>spread_line</th>\n",
       "      <td>40039.0</td>\n",
       "      <td>0.053123</td>\n",
       "      <td>6.210892</td>\n",
       "      <td>-20.00</td>\n",
       "      <td>-4.000000</td>\n",
       "      <td>1.000000</td>\n",
       "      <td>4.000000</td>\n",
       "      <td>20.000000</td>\n",
       "    </tr>\n",
       "    <tr>\n",
       "      <th>total_line</th>\n",
       "      <td>40039.0</td>\n",
       "      <td>44.754127</td>\n",
       "      <td>4.737014</td>\n",
       "      <td>31.00</td>\n",
       "      <td>41.500000</td>\n",
       "      <td>44.500000</td>\n",
       "      <td>48.000000</td>\n",
       "      <td>63.500000</td>\n",
       "    </tr>\n",
       "    <tr>\n",
       "      <th>outdoors</th>\n",
       "      <td>40039.0</td>\n",
       "      <td>0.738580</td>\n",
       "      <td>0.439414</td>\n",
       "      <td>0.00</td>\n",
       "      <td>0.000000</td>\n",
       "      <td>1.000000</td>\n",
       "      <td>1.000000</td>\n",
       "      <td>1.000000</td>\n",
       "    </tr>\n",
       "    <tr>\n",
       "      <th>grass</th>\n",
       "      <td>40039.0</td>\n",
       "      <td>0.561652</td>\n",
       "      <td>0.496191</td>\n",
       "      <td>0.00</td>\n",
       "      <td>0.000000</td>\n",
       "      <td>1.000000</td>\n",
       "      <td>1.000000</td>\n",
       "      <td>1.000000</td>\n",
       "    </tr>\n",
       "    <tr>\n",
       "      <th>home_team</th>\n",
       "      <td>40039.0</td>\n",
       "      <td>0.498139</td>\n",
       "      <td>0.500003</td>\n",
       "      <td>0.00</td>\n",
       "      <td>0.000000</td>\n",
       "      <td>0.000000</td>\n",
       "      <td>1.000000</td>\n",
       "      <td>1.000000</td>\n",
       "    </tr>\n",
       "    <tr>\n",
       "      <th>pred_total</th>\n",
       "      <td>40039.0</td>\n",
       "      <td>22.403625</td>\n",
       "      <td>3.891340</td>\n",
       "      <td>10.50</td>\n",
       "      <td>19.750000</td>\n",
       "      <td>22.250000</td>\n",
       "      <td>25.250000</td>\n",
       "      <td>36.250000</td>\n",
       "    </tr>\n",
       "    <tr>\n",
       "      <th>opp_total</th>\n",
       "      <td>40039.0</td>\n",
       "      <td>22.350502</td>\n",
       "      <td>3.919785</td>\n",
       "      <td>9.75</td>\n",
       "      <td>19.500000</td>\n",
       "      <td>22.250000</td>\n",
       "      <td>25.250000</td>\n",
       "      <td>36.250000</td>\n",
       "    </tr>\n",
       "    <tr>\n",
       "      <th>qb_comp</th>\n",
       "      <td>40039.0</td>\n",
       "      <td>19.774633</td>\n",
       "      <td>5.341346</td>\n",
       "      <td>0.00</td>\n",
       "      <td>17.250000</td>\n",
       "      <td>20.500000</td>\n",
       "      <td>23.250000</td>\n",
       "      <td>34.000000</td>\n",
       "    </tr>\n",
       "    <tr>\n",
       "      <th>qb_att</th>\n",
       "      <td>40039.0</td>\n",
       "      <td>31.437177</td>\n",
       "      <td>7.633609</td>\n",
       "      <td>0.50</td>\n",
       "      <td>28.250000</td>\n",
       "      <td>32.625000</td>\n",
       "      <td>36.375000</td>\n",
       "      <td>61.000000</td>\n",
       "    </tr>\n",
       "    <tr>\n",
       "      <th>qb_yds</th>\n",
       "      <td>40039.0</td>\n",
       "      <td>225.332370</td>\n",
       "      <td>62.802799</td>\n",
       "      <td>0.00</td>\n",
       "      <td>194.250000</td>\n",
       "      <td>233.250000</td>\n",
       "      <td>268.125000</td>\n",
       "      <td>423.000000</td>\n",
       "    </tr>\n",
       "    <tr>\n",
       "      <th>qb_pass_td</th>\n",
       "      <td>40039.0</td>\n",
       "      <td>1.406160</td>\n",
       "      <td>0.649641</td>\n",
       "      <td>0.00</td>\n",
       "      <td>1.000000</td>\n",
       "      <td>1.375000</td>\n",
       "      <td>1.875000</td>\n",
       "      <td>3.750000</td>\n",
       "    </tr>\n",
       "    <tr>\n",
       "      <th>qb_int</th>\n",
       "      <td>40039.0</td>\n",
       "      <td>0.776745</td>\n",
       "      <td>0.405833</td>\n",
       "      <td>0.00</td>\n",
       "      <td>0.500000</td>\n",
       "      <td>0.750000</td>\n",
       "      <td>1.000000</td>\n",
       "      <td>4.000000</td>\n",
       "    </tr>\n",
       "    <tr>\n",
       "      <th>qb_comp_pct</th>\n",
       "      <td>40039.0</td>\n",
       "      <td>0.625194</td>\n",
       "      <td>0.056844</td>\n",
       "      <td>0.00</td>\n",
       "      <td>0.593103</td>\n",
       "      <td>0.630208</td>\n",
       "      <td>0.661710</td>\n",
       "      <td>1.000000</td>\n",
       "    </tr>\n",
       "    <tr>\n",
       "      <th>qb_yds_per_att</th>\n",
       "      <td>40039.0</td>\n",
       "      <td>7.131214</td>\n",
       "      <td>0.974112</td>\n",
       "      <td>0.00</td>\n",
       "      <td>6.572549</td>\n",
       "      <td>7.141566</td>\n",
       "      <td>7.726826</td>\n",
       "      <td>17.500000</td>\n",
       "    </tr>\n",
       "    <tr>\n",
       "      <th>qb_td_pct</th>\n",
       "      <td>40039.0</td>\n",
       "      <td>0.043890</td>\n",
       "      <td>0.019253</td>\n",
       "      <td>0.00</td>\n",
       "      <td>0.032110</td>\n",
       "      <td>0.043189</td>\n",
       "      <td>0.054902</td>\n",
       "      <td>0.500000</td>\n",
       "    </tr>\n",
       "    <tr>\n",
       "      <th>qb_int_pct</th>\n",
       "      <td>40039.0</td>\n",
       "      <td>0.025711</td>\n",
       "      <td>0.017713</td>\n",
       "      <td>0.00</td>\n",
       "      <td>0.016194</td>\n",
       "      <td>0.023729</td>\n",
       "      <td>0.032558</td>\n",
       "      <td>0.500000</td>\n",
       "    </tr>\n",
       "  </tbody>\n",
       "</table>\n",
       "</div>"
      ],
      "text/plain": [
       "                                  count         mean        std      min  \\\n",
       "season                          40039.0  2014.327481   5.098584  2006.00   \n",
       "week                            40039.0     9.620445   5.279488     1.00   \n",
       "FD_Pts                          40039.0     6.897175   6.784428    -4.70   \n",
       "DK_Pts                          40039.0     8.404293   8.071240    -2.70   \n",
       "DK_Pts_RB_DvP                   40039.0    24.267485   4.804113     5.30   \n",
       "DK_Pts_TE_DvP                   40039.0    12.039609   3.315715     0.00   \n",
       "DK_Pts_WR_DvP                   40039.0    34.478590   6.020137     6.40   \n",
       "FD_Pts_RB_DvP                   40039.0    20.973706   4.317832     4.80   \n",
       "FD_Pts_TE_DvP                   40039.0     9.602321   2.755943     0.00   \n",
       "FD_Pts_WR_DvP                   40039.0    27.530229   4.878245     4.90   \n",
       "rushing_yards_L8                40039.0    12.346198  22.960919   -10.00   \n",
       "rushing_tds_L8                  40039.0     0.088247   0.204273     0.00   \n",
       "rushing_fumbles_lost_L8         40039.0     0.016124   0.059038     0.00   \n",
       "receptions_L8                   40039.0     2.568280   1.640440     0.00   \n",
       "receiving_yards_L8              40039.0    29.407277  22.807988    -7.00   \n",
       "receiving_tds_L8                40039.0     0.180771   0.216795     0.00   \n",
       "receiving_fumbles_lost_L8       40039.0     0.016210   0.049859     0.00   \n",
       "targets_L8                      40039.0     3.718507   2.437304     0.00   \n",
       "carries_L8                      40039.0     2.868573   5.238264     0.00   \n",
       "receiving_yards_after_catch_L8  40039.0    13.155896   9.696120    -5.00   \n",
       "receiving_air_yards_L8          40039.0    30.161591  32.354894   -20.00   \n",
       "target_share_L8                 40039.0     0.119970   0.073988     0.00   \n",
       "carry_share_L8                  40039.0     0.108718   0.197444     0.00   \n",
       "in_10_share_L8                  40039.0     0.100855   0.117519     0.00   \n",
       "yards_per_carry_L8              40039.0     2.552447   3.960131   -14.00   \n",
       "yards_per_reception_L8          40039.0    10.688761   4.512960    -7.00   \n",
       "yards_per_target_L8             40039.0     7.557243   3.467835    -7.00   \n",
       "wind                            40039.0     6.154130   5.772859     0.00   \n",
       "div_game                        40039.0     0.362846   0.480827     0.00   \n",
       "spread_line                     40039.0     0.053123   6.210892   -20.00   \n",
       "total_line                      40039.0    44.754127   4.737014    31.00   \n",
       "outdoors                        40039.0     0.738580   0.439414     0.00   \n",
       "grass                           40039.0     0.561652   0.496191     0.00   \n",
       "home_team                       40039.0     0.498139   0.500003     0.00   \n",
       "pred_total                      40039.0    22.403625   3.891340    10.50   \n",
       "opp_total                       40039.0    22.350502   3.919785     9.75   \n",
       "qb_comp                         40039.0    19.774633   5.341346     0.00   \n",
       "qb_att                          40039.0    31.437177   7.633609     0.50   \n",
       "qb_yds                          40039.0   225.332370  62.802799     0.00   \n",
       "qb_pass_td                      40039.0     1.406160   0.649641     0.00   \n",
       "qb_int                          40039.0     0.776745   0.405833     0.00   \n",
       "qb_comp_pct                     40039.0     0.625194   0.056844     0.00   \n",
       "qb_yds_per_att                  40039.0     7.131214   0.974112     0.00   \n",
       "qb_td_pct                       40039.0     0.043890   0.019253     0.00   \n",
       "qb_int_pct                      40039.0     0.025711   0.017713     0.00   \n",
       "\n",
       "                                        25%          50%          75%  \\\n",
       "season                          2010.000000  2014.000000  2018.000000   \n",
       "week                               5.000000    10.000000    14.000000   \n",
       "FD_Pts                             1.700000     4.800000    10.200000   \n",
       "DK_Pts                             2.200000     6.000000    12.200000   \n",
       "DK_Pts_RB_DvP                     20.875000    23.912500    27.312500   \n",
       "DK_Pts_TE_DvP                      9.750000    11.825000    14.150000   \n",
       "DK_Pts_WR_DvP                     30.562500    34.437500    38.367500   \n",
       "FD_Pts_RB_DvP                     17.900000    20.637500    23.762500   \n",
       "FD_Pts_TE_DvP                      7.650000     9.462500    11.325000   \n",
       "FD_Pts_WR_DvP                     24.357143    27.502500    30.800000   \n",
       "rushing_yards_L8                   0.000000     0.250000    12.153535   \n",
       "rushing_tds_L8                     0.000000     0.000000     0.085163   \n",
       "rushing_fumbles_lost_L8            0.000000     0.000000     0.000000   \n",
       "receptions_L8                      1.250000     2.250000     3.500000   \n",
       "receiving_yards_L8                11.750000    24.200000    41.500000   \n",
       "receiving_tds_L8                   0.000000     0.125000     0.250000   \n",
       "receiving_fumbles_lost_L8          0.000000     0.000000     0.000000   \n",
       "targets_L8                         1.833333     3.250000     5.125000   \n",
       "carries_L8                         0.000000     0.125000     2.831559   \n",
       "receiving_yards_after_catch_L8     6.125000    11.250000    17.875000   \n",
       "receiving_air_yards_L8             3.000000    21.375000    47.125000   \n",
       "target_share_L8                    0.061092     0.107899     0.167852   \n",
       "carry_share_L8                     0.000000     0.005000     0.107587   \n",
       "in_10_share_L8                     0.019250     0.062500     0.133375   \n",
       "yards_per_carry_L8                 0.000000     1.000000     4.292170   \n",
       "yards_per_reception_L8             7.880000    10.652174    13.083333   \n",
       "yards_per_target_L8                5.576923     7.269231     9.000000   \n",
       "wind                               0.000000     6.000000     9.000000   \n",
       "div_game                           0.000000     0.000000     1.000000   \n",
       "spread_line                       -4.000000     1.000000     4.000000   \n",
       "total_line                        41.500000    44.500000    48.000000   \n",
       "outdoors                           0.000000     1.000000     1.000000   \n",
       "grass                              0.000000     1.000000     1.000000   \n",
       "home_team                          0.000000     0.000000     1.000000   \n",
       "pred_total                        19.750000    22.250000    25.250000   \n",
       "opp_total                         19.500000    22.250000    25.250000   \n",
       "qb_comp                           17.250000    20.500000    23.250000   \n",
       "qb_att                            28.250000    32.625000    36.375000   \n",
       "qb_yds                           194.250000   233.250000   268.125000   \n",
       "qb_pass_td                         1.000000     1.375000     1.875000   \n",
       "qb_int                             0.500000     0.750000     1.000000   \n",
       "qb_comp_pct                        0.593103     0.630208     0.661710   \n",
       "qb_yds_per_att                     6.572549     7.141566     7.726826   \n",
       "qb_td_pct                          0.032110     0.043189     0.054902   \n",
       "qb_int_pct                         0.016194     0.023729     0.032558   \n",
       "\n",
       "                                        max  \n",
       "season                          2022.000000  \n",
       "week                              22.000000  \n",
       "FD_Pts                            54.700000  \n",
       "DK_Pts                            60.900000  \n",
       "DK_Pts_RB_DvP                     47.133333  \n",
       "DK_Pts_TE_DvP                     25.800000  \n",
       "DK_Pts_WR_DvP                     63.312500  \n",
       "FD_Pts_RB_DvP                     42.300000  \n",
       "FD_Pts_TE_DvP                     21.925000  \n",
       "FD_Pts_WR_DvP                     48.812500  \n",
       "rushing_yards_L8                 165.250000  \n",
       "rushing_tds_L8                     2.625000  \n",
       "rushing_fumbles_lost_L8            1.000000  \n",
       "receptions_L8                     11.000000  \n",
       "receiving_yards_L8               161.000000  \n",
       "receiving_tds_L8                   2.000000  \n",
       "receiving_fumbles_lost_L8          1.000000  \n",
       "targets_L8                        15.000000  \n",
       "carries_L8                        31.000000  \n",
       "receiving_yards_after_catch_L8    98.000000  \n",
       "receiving_air_yards_L8           242.000000  \n",
       "target_share_L8                    0.562500  \n",
       "carry_share_L8                     0.938000  \n",
       "in_10_share_L8                     1.000000  \n",
       "yards_per_carry_L8                72.000000  \n",
       "yards_per_reception_L8            80.000000  \n",
       "yards_per_target_L8               80.000000  \n",
       "wind                              70.000000  \n",
       "div_game                           1.000000  \n",
       "spread_line                       20.000000  \n",
       "total_line                        63.500000  \n",
       "outdoors                           1.000000  \n",
       "grass                              1.000000  \n",
       "home_team                          1.000000  \n",
       "pred_total                        36.250000  \n",
       "opp_total                         36.250000  \n",
       "qb_comp                           34.000000  \n",
       "qb_att                            61.000000  \n",
       "qb_yds                           423.000000  \n",
       "qb_pass_td                         3.750000  \n",
       "qb_int                             4.000000  \n",
       "qb_comp_pct                        1.000000  \n",
       "qb_yds_per_att                    17.500000  \n",
       "qb_td_pct                          0.500000  \n",
       "qb_int_pct                         0.500000  "
      ]
     },
     "execution_count": 13,
     "metadata": {},
     "output_type": "execute_result"
    }
   ],
   "source": [
    "main_df.describe().T"
   ]
  },
  {
   "cell_type": "code",
   "execution_count": null,
   "id": "f9ab776d-4e0f-44d3-b08a-6fb3f6a08b5b",
   "metadata": {},
   "outputs": [],
   "source": []
  },
  {
   "cell_type": "markdown",
   "id": "d577f6d0-9914-4272-9b04-ad7bc6711266",
   "metadata": {},
   "source": [
    "# One-hot encoding\n",
    "We create a categorical variable from the players' positions, as receiving_yards_after_catch_L8 matter a lot more for WRs and TEs than for RBs and rushing_yards_L8 matter a lot more for RBs than WRs and TEs."
   ]
  },
  {
   "cell_type": "code",
   "execution_count": 14,
   "id": "0832c0cc-60b3-4cb5-a90d-2b6d98af18ad",
   "metadata": {},
   "outputs": [],
   "source": [
    "position_dummies = pd.get_dummies(main_df['position'], prefix='pos')"
   ]
  },
  {
   "cell_type": "code",
   "execution_count": 15,
   "id": "f350cf1c-f43a-4427-8c08-c8178b3fd37c",
   "metadata": {},
   "outputs": [],
   "source": [
    "main_df = pd.concat([main_df, position_dummies], axis=1)"
   ]
  },
  {
   "cell_type": "code",
   "execution_count": 16,
   "id": "778891f8-144d-4503-8346-18903d5b90e5",
   "metadata": {},
   "outputs": [
    {
     "data": {
      "text/html": [
       "<div>\n",
       "<style scoped>\n",
       "    .dataframe tbody tr th:only-of-type {\n",
       "        vertical-align: middle;\n",
       "    }\n",
       "\n",
       "    .dataframe tbody tr th {\n",
       "        vertical-align: top;\n",
       "    }\n",
       "\n",
       "    .dataframe thead th {\n",
       "        text-align: right;\n",
       "    }\n",
       "</style>\n",
       "<table border=\"1\" class=\"dataframe\">\n",
       "  <thead>\n",
       "    <tr style=\"text-align: right;\">\n",
       "      <th></th>\n",
       "      <th>season</th>\n",
       "      <th>week</th>\n",
       "      <th>team</th>\n",
       "      <th>player_id</th>\n",
       "      <th>player_display_name</th>\n",
       "      <th>position</th>\n",
       "      <th>FD_Pts</th>\n",
       "      <th>DK_Pts</th>\n",
       "      <th>DK_Pts_RB_DvP</th>\n",
       "      <th>DK_Pts_TE_DvP</th>\n",
       "      <th>...</th>\n",
       "      <th>qb_yds</th>\n",
       "      <th>qb_pass_td</th>\n",
       "      <th>qb_int</th>\n",
       "      <th>qb_comp_pct</th>\n",
       "      <th>qb_yds_per_att</th>\n",
       "      <th>qb_td_pct</th>\n",
       "      <th>qb_int_pct</th>\n",
       "      <th>pos_RB</th>\n",
       "      <th>pos_TE</th>\n",
       "      <th>pos_WR</th>\n",
       "    </tr>\n",
       "  </thead>\n",
       "  <tbody>\n",
       "    <tr>\n",
       "      <th>0</th>\n",
       "      <td>2006</td>\n",
       "      <td>2</td>\n",
       "      <td>ARI</td>\n",
       "      <td>00-0000552</td>\n",
       "      <td>Obafemi Ayanbadejo</td>\n",
       "      <td>RB</td>\n",
       "      <td>2.7</td>\n",
       "      <td>3.7</td>\n",
       "      <td>13.3</td>\n",
       "      <td>8.1</td>\n",
       "      <td>...</td>\n",
       "      <td>301.0</td>\n",
       "      <td>3.0</td>\n",
       "      <td>0.0</td>\n",
       "      <td>0.621622</td>\n",
       "      <td>8.135135</td>\n",
       "      <td>0.081081</td>\n",
       "      <td>0.0</td>\n",
       "      <td>True</td>\n",
       "      <td>False</td>\n",
       "      <td>False</td>\n",
       "    </tr>\n",
       "    <tr>\n",
       "      <th>1</th>\n",
       "      <td>2006</td>\n",
       "      <td>2</td>\n",
       "      <td>ARI</td>\n",
       "      <td>00-0008241</td>\n",
       "      <td>Edgerrin James</td>\n",
       "      <td>RB</td>\n",
       "      <td>13.2</td>\n",
       "      <td>16.7</td>\n",
       "      <td>13.3</td>\n",
       "      <td>8.1</td>\n",
       "      <td>...</td>\n",
       "      <td>301.0</td>\n",
       "      <td>3.0</td>\n",
       "      <td>0.0</td>\n",
       "      <td>0.621622</td>\n",
       "      <td>8.135135</td>\n",
       "      <td>0.081081</td>\n",
       "      <td>0.0</td>\n",
       "      <td>True</td>\n",
       "      <td>False</td>\n",
       "      <td>False</td>\n",
       "    </tr>\n",
       "    <tr>\n",
       "      <th>2</th>\n",
       "      <td>2006</td>\n",
       "      <td>2</td>\n",
       "      <td>ARI</td>\n",
       "      <td>00-0019552</td>\n",
       "      <td>Troy Walters</td>\n",
       "      <td>WR</td>\n",
       "      <td>2.0</td>\n",
       "      <td>3.0</td>\n",
       "      <td>13.3</td>\n",
       "      <td>8.1</td>\n",
       "      <td>...</td>\n",
       "      <td>301.0</td>\n",
       "      <td>3.0</td>\n",
       "      <td>0.0</td>\n",
       "      <td>0.621622</td>\n",
       "      <td>8.135135</td>\n",
       "      <td>0.081081</td>\n",
       "      <td>0.0</td>\n",
       "      <td>False</td>\n",
       "      <td>False</td>\n",
       "      <td>True</td>\n",
       "    </tr>\n",
       "    <tr>\n",
       "      <th>3</th>\n",
       "      <td>2006</td>\n",
       "      <td>2</td>\n",
       "      <td>ARI</td>\n",
       "      <td>00-0022084</td>\n",
       "      <td>Anquan Boldin</td>\n",
       "      <td>WR</td>\n",
       "      <td>9.2</td>\n",
       "      <td>12.2</td>\n",
       "      <td>13.3</td>\n",
       "      <td>8.1</td>\n",
       "      <td>...</td>\n",
       "      <td>301.0</td>\n",
       "      <td>3.0</td>\n",
       "      <td>0.0</td>\n",
       "      <td>0.621622</td>\n",
       "      <td>8.135135</td>\n",
       "      <td>0.081081</td>\n",
       "      <td>0.0</td>\n",
       "      <td>False</td>\n",
       "      <td>False</td>\n",
       "      <td>True</td>\n",
       "    </tr>\n",
       "    <tr>\n",
       "      <th>4</th>\n",
       "      <td>2006</td>\n",
       "      <td>2</td>\n",
       "      <td>ARI</td>\n",
       "      <td>00-0022156</td>\n",
       "      <td>Bryant Johnson</td>\n",
       "      <td>WR</td>\n",
       "      <td>10.5</td>\n",
       "      <td>11.0</td>\n",
       "      <td>13.3</td>\n",
       "      <td>8.1</td>\n",
       "      <td>...</td>\n",
       "      <td>301.0</td>\n",
       "      <td>3.0</td>\n",
       "      <td>0.0</td>\n",
       "      <td>0.621622</td>\n",
       "      <td>8.135135</td>\n",
       "      <td>0.081081</td>\n",
       "      <td>0.0</td>\n",
       "      <td>False</td>\n",
       "      <td>False</td>\n",
       "      <td>True</td>\n",
       "    </tr>\n",
       "  </tbody>\n",
       "</table>\n",
       "<p>5 rows × 53 columns</p>\n",
       "</div>"
      ],
      "text/plain": [
       "   season  week team   player_id player_display_name position  FD_Pts  DK_Pts  \\\n",
       "0    2006     2  ARI  00-0000552  Obafemi Ayanbadejo       RB     2.7     3.7   \n",
       "1    2006     2  ARI  00-0008241      Edgerrin James       RB    13.2    16.7   \n",
       "2    2006     2  ARI  00-0019552        Troy Walters       WR     2.0     3.0   \n",
       "3    2006     2  ARI  00-0022084       Anquan Boldin       WR     9.2    12.2   \n",
       "4    2006     2  ARI  00-0022156      Bryant Johnson       WR    10.5    11.0   \n",
       "\n",
       "   DK_Pts_RB_DvP  DK_Pts_TE_DvP  ...  qb_yds  qb_pass_td  qb_int  qb_comp_pct  \\\n",
       "0           13.3            8.1  ...   301.0         3.0     0.0     0.621622   \n",
       "1           13.3            8.1  ...   301.0         3.0     0.0     0.621622   \n",
       "2           13.3            8.1  ...   301.0         3.0     0.0     0.621622   \n",
       "3           13.3            8.1  ...   301.0         3.0     0.0     0.621622   \n",
       "4           13.3            8.1  ...   301.0         3.0     0.0     0.621622   \n",
       "\n",
       "   qb_yds_per_att  qb_td_pct  qb_int_pct  pos_RB  pos_TE  pos_WR  \n",
       "0        8.135135   0.081081         0.0    True   False   False  \n",
       "1        8.135135   0.081081         0.0    True   False   False  \n",
       "2        8.135135   0.081081         0.0   False   False    True  \n",
       "3        8.135135   0.081081         0.0   False   False    True  \n",
       "4        8.135135   0.081081         0.0   False   False    True  \n",
       "\n",
       "[5 rows x 53 columns]"
      ]
     },
     "execution_count": 16,
     "metadata": {},
     "output_type": "execute_result"
    }
   ],
   "source": [
    "main_df.head()"
   ]
  },
  {
   "cell_type": "code",
   "execution_count": 17,
   "id": "ab6f687b-08f2-4dac-8f9d-0dd487b412da",
   "metadata": {},
   "outputs": [],
   "source": [
    "main_df['pos_RB'] = main_df['pos_RB'].astype(int)\n",
    "main_df['pos_TE'] = main_df['pos_TE'].astype(int)\n",
    "main_df['pos_WR'] = main_df['pos_WR'].astype(int)"
   ]
  },
  {
   "cell_type": "code",
   "execution_count": 18,
   "id": "b99bd266-5942-4af1-8c79-6373da09dffa",
   "metadata": {},
   "outputs": [
    {
     "data": {
      "text/html": [
       "<div>\n",
       "<style scoped>\n",
       "    .dataframe tbody tr th:only-of-type {\n",
       "        vertical-align: middle;\n",
       "    }\n",
       "\n",
       "    .dataframe tbody tr th {\n",
       "        vertical-align: top;\n",
       "    }\n",
       "\n",
       "    .dataframe thead th {\n",
       "        text-align: right;\n",
       "    }\n",
       "</style>\n",
       "<table border=\"1\" class=\"dataframe\">\n",
       "  <thead>\n",
       "    <tr style=\"text-align: right;\">\n",
       "      <th></th>\n",
       "      <th>season</th>\n",
       "      <th>week</th>\n",
       "      <th>team</th>\n",
       "      <th>player_id</th>\n",
       "      <th>player_display_name</th>\n",
       "      <th>position</th>\n",
       "      <th>FD_Pts</th>\n",
       "      <th>DK_Pts</th>\n",
       "      <th>DK_Pts_RB_DvP</th>\n",
       "      <th>DK_Pts_TE_DvP</th>\n",
       "      <th>...</th>\n",
       "      <th>qb_yds</th>\n",
       "      <th>qb_pass_td</th>\n",
       "      <th>qb_int</th>\n",
       "      <th>qb_comp_pct</th>\n",
       "      <th>qb_yds_per_att</th>\n",
       "      <th>qb_td_pct</th>\n",
       "      <th>qb_int_pct</th>\n",
       "      <th>pos_RB</th>\n",
       "      <th>pos_TE</th>\n",
       "      <th>pos_WR</th>\n",
       "    </tr>\n",
       "  </thead>\n",
       "  <tbody>\n",
       "    <tr>\n",
       "      <th>0</th>\n",
       "      <td>2006</td>\n",
       "      <td>2</td>\n",
       "      <td>ARI</td>\n",
       "      <td>00-0000552</td>\n",
       "      <td>Obafemi Ayanbadejo</td>\n",
       "      <td>RB</td>\n",
       "      <td>2.7</td>\n",
       "      <td>3.7</td>\n",
       "      <td>13.3</td>\n",
       "      <td>8.1</td>\n",
       "      <td>...</td>\n",
       "      <td>301.0</td>\n",
       "      <td>3.0</td>\n",
       "      <td>0.0</td>\n",
       "      <td>0.621622</td>\n",
       "      <td>8.135135</td>\n",
       "      <td>0.081081</td>\n",
       "      <td>0.0</td>\n",
       "      <td>1</td>\n",
       "      <td>0</td>\n",
       "      <td>0</td>\n",
       "    </tr>\n",
       "    <tr>\n",
       "      <th>1</th>\n",
       "      <td>2006</td>\n",
       "      <td>2</td>\n",
       "      <td>ARI</td>\n",
       "      <td>00-0008241</td>\n",
       "      <td>Edgerrin James</td>\n",
       "      <td>RB</td>\n",
       "      <td>13.2</td>\n",
       "      <td>16.7</td>\n",
       "      <td>13.3</td>\n",
       "      <td>8.1</td>\n",
       "      <td>...</td>\n",
       "      <td>301.0</td>\n",
       "      <td>3.0</td>\n",
       "      <td>0.0</td>\n",
       "      <td>0.621622</td>\n",
       "      <td>8.135135</td>\n",
       "      <td>0.081081</td>\n",
       "      <td>0.0</td>\n",
       "      <td>1</td>\n",
       "      <td>0</td>\n",
       "      <td>0</td>\n",
       "    </tr>\n",
       "    <tr>\n",
       "      <th>2</th>\n",
       "      <td>2006</td>\n",
       "      <td>2</td>\n",
       "      <td>ARI</td>\n",
       "      <td>00-0019552</td>\n",
       "      <td>Troy Walters</td>\n",
       "      <td>WR</td>\n",
       "      <td>2.0</td>\n",
       "      <td>3.0</td>\n",
       "      <td>13.3</td>\n",
       "      <td>8.1</td>\n",
       "      <td>...</td>\n",
       "      <td>301.0</td>\n",
       "      <td>3.0</td>\n",
       "      <td>0.0</td>\n",
       "      <td>0.621622</td>\n",
       "      <td>8.135135</td>\n",
       "      <td>0.081081</td>\n",
       "      <td>0.0</td>\n",
       "      <td>0</td>\n",
       "      <td>0</td>\n",
       "      <td>1</td>\n",
       "    </tr>\n",
       "    <tr>\n",
       "      <th>3</th>\n",
       "      <td>2006</td>\n",
       "      <td>2</td>\n",
       "      <td>ARI</td>\n",
       "      <td>00-0022084</td>\n",
       "      <td>Anquan Boldin</td>\n",
       "      <td>WR</td>\n",
       "      <td>9.2</td>\n",
       "      <td>12.2</td>\n",
       "      <td>13.3</td>\n",
       "      <td>8.1</td>\n",
       "      <td>...</td>\n",
       "      <td>301.0</td>\n",
       "      <td>3.0</td>\n",
       "      <td>0.0</td>\n",
       "      <td>0.621622</td>\n",
       "      <td>8.135135</td>\n",
       "      <td>0.081081</td>\n",
       "      <td>0.0</td>\n",
       "      <td>0</td>\n",
       "      <td>0</td>\n",
       "      <td>1</td>\n",
       "    </tr>\n",
       "    <tr>\n",
       "      <th>4</th>\n",
       "      <td>2006</td>\n",
       "      <td>2</td>\n",
       "      <td>ARI</td>\n",
       "      <td>00-0022156</td>\n",
       "      <td>Bryant Johnson</td>\n",
       "      <td>WR</td>\n",
       "      <td>10.5</td>\n",
       "      <td>11.0</td>\n",
       "      <td>13.3</td>\n",
       "      <td>8.1</td>\n",
       "      <td>...</td>\n",
       "      <td>301.0</td>\n",
       "      <td>3.0</td>\n",
       "      <td>0.0</td>\n",
       "      <td>0.621622</td>\n",
       "      <td>8.135135</td>\n",
       "      <td>0.081081</td>\n",
       "      <td>0.0</td>\n",
       "      <td>0</td>\n",
       "      <td>0</td>\n",
       "      <td>1</td>\n",
       "    </tr>\n",
       "  </tbody>\n",
       "</table>\n",
       "<p>5 rows × 53 columns</p>\n",
       "</div>"
      ],
      "text/plain": [
       "   season  week team   player_id player_display_name position  FD_Pts  DK_Pts  \\\n",
       "0    2006     2  ARI  00-0000552  Obafemi Ayanbadejo       RB     2.7     3.7   \n",
       "1    2006     2  ARI  00-0008241      Edgerrin James       RB    13.2    16.7   \n",
       "2    2006     2  ARI  00-0019552        Troy Walters       WR     2.0     3.0   \n",
       "3    2006     2  ARI  00-0022084       Anquan Boldin       WR     9.2    12.2   \n",
       "4    2006     2  ARI  00-0022156      Bryant Johnson       WR    10.5    11.0   \n",
       "\n",
       "   DK_Pts_RB_DvP  DK_Pts_TE_DvP  ...  qb_yds  qb_pass_td  qb_int  qb_comp_pct  \\\n",
       "0           13.3            8.1  ...   301.0         3.0     0.0     0.621622   \n",
       "1           13.3            8.1  ...   301.0         3.0     0.0     0.621622   \n",
       "2           13.3            8.1  ...   301.0         3.0     0.0     0.621622   \n",
       "3           13.3            8.1  ...   301.0         3.0     0.0     0.621622   \n",
       "4           13.3            8.1  ...   301.0         3.0     0.0     0.621622   \n",
       "\n",
       "   qb_yds_per_att  qb_td_pct  qb_int_pct  pos_RB  pos_TE  pos_WR  \n",
       "0        8.135135   0.081081         0.0       1       0       0  \n",
       "1        8.135135   0.081081         0.0       1       0       0  \n",
       "2        8.135135   0.081081         0.0       0       0       1  \n",
       "3        8.135135   0.081081         0.0       0       0       1  \n",
       "4        8.135135   0.081081         0.0       0       0       1  \n",
       "\n",
       "[5 rows x 53 columns]"
      ]
     },
     "execution_count": 18,
     "metadata": {},
     "output_type": "execute_result"
    }
   ],
   "source": [
    "main_df.head()"
   ]
  },
  {
   "cell_type": "code",
   "execution_count": 19,
   "id": "906fa77f-cfa0-4581-991d-a109fe093562",
   "metadata": {},
   "outputs": [],
   "source": [
    "main_df.set_index(['season', 'week', 'player_id', 'player_display_name', 'position', 'team', 'opponent'], inplace = True)"
   ]
  },
  {
   "cell_type": "code",
   "execution_count": 20,
   "id": "e65a7190-b531-4c67-a447-752c98046236",
   "metadata": {},
   "outputs": [
    {
     "name": "stdout",
     "output_type": "stream",
     "text": [
      "<class 'pandas.core.frame.DataFrame'>\n",
      "MultiIndex: 40039 entries, (2006, 2, '00-0000552', 'Obafemi Ayanbadejo', 'RB', 'ARI', 'SEA') to (2022, 22, '00-0036919', 'Kenneth Gainwell', 'RB', 'PHI', 'KC')\n",
      "Data columns (total 46 columns):\n",
      " #   Column                          Non-Null Count  Dtype  \n",
      "---  ------                          --------------  -----  \n",
      " 0   FD_Pts                          40039 non-null  float64\n",
      " 1   DK_Pts                          40039 non-null  float64\n",
      " 2   DK_Pts_RB_DvP                   40039 non-null  float64\n",
      " 3   DK_Pts_TE_DvP                   40039 non-null  float64\n",
      " 4   DK_Pts_WR_DvP                   40039 non-null  float64\n",
      " 5   FD_Pts_RB_DvP                   40039 non-null  float64\n",
      " 6   FD_Pts_TE_DvP                   40039 non-null  float64\n",
      " 7   FD_Pts_WR_DvP                   40039 non-null  float64\n",
      " 8   rushing_yards_L8                40039 non-null  float64\n",
      " 9   rushing_tds_L8                  40039 non-null  float64\n",
      " 10  rushing_fumbles_lost_L8         40039 non-null  float64\n",
      " 11  receptions_L8                   40039 non-null  float64\n",
      " 12  receiving_yards_L8              40039 non-null  float64\n",
      " 13  receiving_tds_L8                40039 non-null  float64\n",
      " 14  receiving_fumbles_lost_L8       40039 non-null  float64\n",
      " 15  targets_L8                      40039 non-null  float64\n",
      " 16  carries_L8                      40039 non-null  float64\n",
      " 17  receiving_yards_after_catch_L8  40039 non-null  float64\n",
      " 18  receiving_air_yards_L8          40039 non-null  float64\n",
      " 19  target_share_L8                 40039 non-null  float64\n",
      " 20  carry_share_L8                  40039 non-null  float64\n",
      " 21  in_10_share_L8                  40039 non-null  float64\n",
      " 22  yards_per_carry_L8              40039 non-null  float64\n",
      " 23  yards_per_reception_L8          40039 non-null  float64\n",
      " 24  yards_per_target_L8             40039 non-null  float64\n",
      " 25  wind                            40039 non-null  float64\n",
      " 26  div_game                        40039 non-null  int64  \n",
      " 27  spread_line                     40039 non-null  float64\n",
      " 28  total_line                      40039 non-null  float64\n",
      " 29  outdoors                        40039 non-null  int64  \n",
      " 30  grass                           40039 non-null  int64  \n",
      " 31  home_team                       40039 non-null  int64  \n",
      " 32  pred_total                      40039 non-null  float64\n",
      " 33  opp_total                       40039 non-null  float64\n",
      " 34  qb_comp                         40039 non-null  float64\n",
      " 35  qb_att                          40039 non-null  float64\n",
      " 36  qb_yds                          40039 non-null  float64\n",
      " 37  qb_pass_td                      40039 non-null  float64\n",
      " 38  qb_int                          40039 non-null  float64\n",
      " 39  qb_comp_pct                     40039 non-null  float64\n",
      " 40  qb_yds_per_att                  40039 non-null  float64\n",
      " 41  qb_td_pct                       40039 non-null  float64\n",
      " 42  qb_int_pct                      40039 non-null  float64\n",
      " 43  pos_RB                          40039 non-null  int32  \n",
      " 44  pos_TE                          40039 non-null  int32  \n",
      " 45  pos_WR                          40039 non-null  int32  \n",
      "dtypes: float64(39), int32(3), int64(4)\n",
      "memory usage: 14.1+ MB\n"
     ]
    }
   ],
   "source": [
    "main_df.info()"
   ]
  },
  {
   "cell_type": "markdown",
   "id": "4bf57c9b-68d7-48c3-b925-51df2d4919a2",
   "metadata": {},
   "source": [
    "# Correlations"
   ]
  },
  {
   "cell_type": "code",
   "execution_count": 21,
   "id": "3bdbfed6-6116-459d-a882-45dd1108c8bc",
   "metadata": {},
   "outputs": [],
   "source": [
    "corr_df = main_df.corr()"
   ]
  },
  {
   "cell_type": "code",
   "execution_count": 22,
   "id": "b09353a1-d1a2-44ab-9e42-9b27d6f780d4",
   "metadata": {},
   "outputs": [
    {
     "data": {
      "text/plain": [
       "FD_Pts                            1.000000\n",
       "DK_Pts                            0.991358\n",
       "receiving_yards_after_catch_L8    0.385577\n",
       "receptions_L8                     0.382620\n",
       "target_share_L8                   0.359013\n",
       "targets_L8                        0.347801\n",
       "receiving_yards_L8                0.343311\n",
       "in_10_share_L8                    0.315164\n",
       "rushing_yards_L8                  0.276919\n",
       "carry_share_L8                    0.265971\n",
       "carries_L8                        0.265165\n",
       "rushing_tds_L8                    0.242546\n",
       "receiving_tds_L8                  0.227152\n",
       "receiving_air_yards_L8            0.213579\n",
       "rushing_fumbles_lost_L8           0.125841\n",
       "pred_total                        0.105739\n",
       "yards_per_carry_L8                0.090849\n",
       "yards_per_target_L8               0.088149\n",
       "spread_line                       0.079499\n",
       "qb_pass_td                        0.076429\n",
       "qb_yds                            0.075921\n",
       "total_line                        0.069490\n",
       "qb_comp                           0.068338\n",
       "pos_WR                            0.068118\n",
       "receiving_fumbles_lost_L8         0.067505\n",
       "yards_per_reception_L8            0.064567\n",
       "qb_att                            0.058653\n",
       "qb_yds_per_att                    0.057263\n",
       "qb_td_pct                         0.056806\n",
       "qb_comp_pct                       0.052502\n",
       "pos_RB                            0.052395\n",
       "FD_Pts_RB_DvP                     0.027645\n",
       "DK_Pts_RB_DvP                     0.027518\n",
       "home_team                         0.023442\n",
       "FD_Pts_WR_DvP                     0.006614\n",
       "DK_Pts_WR_DvP                     0.006115\n",
       "FD_Pts_TE_DvP                    -0.002100\n",
       "DK_Pts_TE_DvP                    -0.002363\n",
       "qb_int                           -0.008096\n",
       "div_game                         -0.011075\n",
       "grass                            -0.017302\n",
       "opp_total                        -0.020994\n",
       "outdoors                         -0.021416\n",
       "wind                             -0.024401\n",
       "qb_int_pct                       -0.034657\n",
       "pos_TE                           -0.141188\n",
       "Name: FD_Pts, dtype: float64"
      ]
     },
     "execution_count": 22,
     "metadata": {},
     "output_type": "execute_result"
    }
   ],
   "source": [
    "corr_df['FD_Pts'].sort_values(ascending = False)"
   ]
  },
  {
   "cell_type": "code",
   "execution_count": 23,
   "id": "e27eacb5-8220-4180-aae1-d89b2e8e7d3e",
   "metadata": {},
   "outputs": [
    {
     "data": {
      "text/plain": [
       "DK_Pts                            1.000000\n",
       "FD_Pts                            0.991358\n",
       "receptions_L8                     0.423298\n",
       "receiving_yards_after_catch_L8    0.406460\n",
       "target_share_L8                   0.400407\n",
       "targets_L8                        0.389418\n",
       "receiving_yards_L8                0.386355\n",
       "in_10_share_L8                    0.294587\n",
       "receiving_tds_L8                  0.257146\n",
       "receiving_air_yards_L8            0.254788\n",
       "rushing_yards_L8                  0.238196\n",
       "carry_share_L8                    0.227062\n",
       "carries_L8                        0.225546\n",
       "rushing_tds_L8                    0.208494\n",
       "rushing_fumbles_lost_L8           0.108424\n",
       "yards_per_target_L8               0.105408\n",
       "pred_total                        0.102673\n",
       "pos_WR                            0.098017\n",
       "yards_per_reception_L8            0.086044\n",
       "yards_per_carry_L8                0.080313\n",
       "qb_yds                            0.078828\n",
       "qb_pass_td                        0.077890\n",
       "spread_line                       0.074984\n",
       "receiving_fumbles_lost_L8         0.074330\n",
       "qb_comp                           0.072541\n",
       "total_line                        0.070372\n",
       "qb_att                            0.062528\n",
       "qb_yds_per_att                    0.056072\n",
       "qb_td_pct                         0.055784\n",
       "qb_comp_pct                       0.054257\n",
       "DK_Pts_RB_DvP                     0.025405\n",
       "FD_Pts_RB_DvP                     0.025387\n",
       "home_team                         0.021670\n",
       "pos_RB                            0.012912\n",
       "FD_Pts_WR_DvP                     0.006307\n",
       "DK_Pts_WR_DvP                     0.006083\n",
       "FD_Pts_TE_DvP                    -0.002268\n",
       "DK_Pts_TE_DvP                    -0.002590\n",
       "qb_int                           -0.006586\n",
       "div_game                         -0.012411\n",
       "opp_total                        -0.016884\n",
       "grass                            -0.017207\n",
       "outdoors                         -0.023484\n",
       "wind                             -0.026394\n",
       "qb_int_pct                       -0.034455\n",
       "pos_TE                           -0.131984\n",
       "Name: DK_Pts, dtype: float64"
      ]
     },
     "execution_count": 23,
     "metadata": {},
     "output_type": "execute_result"
    }
   ],
   "source": [
    "corr_df['DK_Pts'].sort_values(ascending = False)"
   ]
  },
  {
   "cell_type": "code",
   "execution_count": null,
   "id": "e4afbdf4-31d9-4eab-ab83-00e704024201",
   "metadata": {},
   "outputs": [],
   "source": []
  },
  {
   "cell_type": "code",
   "execution_count": 24,
   "id": "10e2760a-8584-4107-ba8c-6c539e6c5834",
   "metadata": {},
   "outputs": [],
   "source": [
    "X_FD = main_df.drop(columns = ['FD_Pts', 'DK_Pts'])\n",
    "X_DK = main_df.drop(columns = ['FD_Pts', 'DK_Pts'])"
   ]
  },
  {
   "cell_type": "code",
   "execution_count": 25,
   "id": "7f5bf4c4-f71c-4013-a33a-a375cb03cc7d",
   "metadata": {},
   "outputs": [],
   "source": [
    "y_FD = main_df[['FD_Pts']]\n",
    "y_DK = main_df[['DK_Pts']]"
   ]
  },
  {
   "cell_type": "code",
   "execution_count": 26,
   "id": "1f203820-5f2d-48b0-8cbd-85d3dca562da",
   "metadata": {},
   "outputs": [],
   "source": [
    "X_FD_train, X_FD_test, y_FD_train, y_FD_test = train_test_split(X_FD, y_FD, test_size = .25, random_state = 42)"
   ]
  },
  {
   "cell_type": "code",
   "execution_count": 27,
   "id": "6a59ccfa-0653-4525-a61c-fa9b7810753d",
   "metadata": {},
   "outputs": [],
   "source": [
    "X_DK_train, X_DK_test, y_DK_train, y_DK_test = train_test_split(X_DK, y_DK, test_size = .25, random_state = 42)"
   ]
  },
  {
   "cell_type": "code",
   "execution_count": 28,
   "id": "183e9f4c-c479-437d-92aa-6104971241e4",
   "metadata": {},
   "outputs": [],
   "source": [
    "from sklearn.preprocessing import StandardScaler"
   ]
  },
  {
   "cell_type": "code",
   "execution_count": 29,
   "id": "f6f106ec-7a3a-415e-85c2-8acc8b9ed3b0",
   "metadata": {},
   "outputs": [],
   "source": [
    "# Initialize the scaler\n",
    "scaler_fd = StandardScaler()\n",
    "scaler_dk = StandardScaler()"
   ]
  },
  {
   "cell_type": "code",
   "execution_count": 30,
   "id": "fc23e6aa-c198-4439-84f0-d8dcb6fa7baf",
   "metadata": {},
   "outputs": [],
   "source": [
    "# Fit the scaler on the training data and transform the training data for FanDuel\n",
    "X_FD_train_scaled = scaler_fd.fit_transform(X_FD_train)"
   ]
  },
  {
   "cell_type": "code",
   "execution_count": 31,
   "id": "51e45ebb-9136-4e66-b0cb-c624c6865e04",
   "metadata": {},
   "outputs": [],
   "source": [
    "# Use the already-fitted scaler to transform the test data for FanDuel\n",
    "X_FD_test_scaled = scaler_fd.transform(X_FD_test)"
   ]
  },
  {
   "cell_type": "code",
   "execution_count": 32,
   "id": "7ed7a796-2896-4398-90c5-a27243343cc3",
   "metadata": {},
   "outputs": [],
   "source": [
    "# Fit the scaler on the training data and transform the training data for DraftKings\n",
    "X_DK_train_scaled = scaler_dk.fit_transform(X_DK_train)"
   ]
  },
  {
   "cell_type": "code",
   "execution_count": 33,
   "id": "2d4b6797-41e6-44c8-ac03-0e0619ca92b1",
   "metadata": {},
   "outputs": [],
   "source": [
    "# Use the already-fitted scaler to transform the test data for DraftKings\n",
    "X_DK_test_scaled = scaler_dk.transform(X_DK_test)"
   ]
  },
  {
   "cell_type": "code",
   "execution_count": 34,
   "id": "dcaf9318-e1f2-44bb-a194-1abdfe21c4e8",
   "metadata": {},
   "outputs": [],
   "source": [
    "X_FD_scaled_df = pd.DataFrame(X_FD_train_scaled, columns = X_FD_train.columns)"
   ]
  },
  {
   "cell_type": "code",
   "execution_count": 35,
   "id": "ace7b3a3-90b4-4d77-bb9f-00d12c2934de",
   "metadata": {},
   "outputs": [
    {
     "name": "stdout",
     "output_type": "stream",
     "text": [
      "FanDuel Scaled Data - Mean:\n",
      "DK_Pts_RB_DvP                     1.166531e-16\n",
      "DK_Pts_TE_DvP                     5.158291e-17\n",
      "DK_Pts_WR_DvP                    -6.156822e-16\n",
      "FD_Pts_RB_DvP                    -3.714916e-16\n",
      "FD_Pts_TE_DvP                     2.015993e-16\n",
      "FD_Pts_WR_DvP                    -3.234580e-16\n",
      "rushing_yards_L8                 -1.230418e-17\n",
      "rushing_tds_L8                    5.891809e-17\n",
      "rushing_fumbles_lost_L8           8.045041e-18\n",
      "receptions_L8                    -2.687990e-16\n",
      "receiving_yards_L8               -1.325066e-17\n",
      "receiving_tds_L8                  2.129570e-17\n",
      "receiving_fumbles_lost_L8        -1.774641e-17\n",
      "targets_L8                        7.098565e-17\n",
      "carries_L8                       -1.325066e-17\n",
      "receiving_yards_after_catch_L8    1.484783e-16\n",
      "receiving_air_yards_L8            1.074250e-16\n",
      "target_share_L8                   3.312664e-18\n",
      "carry_share_L8                    1.019827e-16\n",
      "in_10_share_L8                   -7.855746e-17\n",
      "yards_per_carry_L8               -6.885608e-17\n",
      "yards_per_reception_L8           -3.677057e-16\n",
      "yards_per_target_L8              -2.621737e-16\n",
      "wind                             -2.153232e-17\n",
      "div_game                          3.501959e-17\n",
      "spread_line                      -2.425343e-17\n",
      "total_line                        2.787370e-16\n",
      "outdoors                          2.460836e-17\n",
      "grass                             1.159432e-16\n",
      "home_team                         8.045041e-18\n",
      "pred_total                       -3.324495e-16\n",
      "opp_total                        -2.476216e-16\n",
      "qb_comp                           1.798303e-17\n",
      "qb_att                            1.202024e-16\n",
      "qb_yds                            7.950393e-17\n",
      "qb_pass_td                       -1.892951e-17\n",
      "qb_int                           -2.976665e-16\n",
      "qb_comp_pct                      -1.001844e-15\n",
      "qb_yds_per_att                    3.860436e-16\n",
      "qb_td_pct                         4.625898e-16\n",
      "qb_int_pct                        1.972218e-16\n",
      "pos_RB                           -5.678852e-18\n",
      "pos_TE                            2.366188e-17\n",
      "pos_WR                            4.732377e-19\n",
      "dtype: float64\n",
      "\n",
      "FanDuel Scaled Data - Standard Deviation:\n",
      "DK_Pts_RB_DvP                     1.000017\n",
      "DK_Pts_TE_DvP                     1.000017\n",
      "DK_Pts_WR_DvP                     1.000017\n",
      "FD_Pts_RB_DvP                     1.000017\n",
      "FD_Pts_TE_DvP                     1.000017\n",
      "FD_Pts_WR_DvP                     1.000017\n",
      "rushing_yards_L8                  1.000017\n",
      "rushing_tds_L8                    1.000017\n",
      "rushing_fumbles_lost_L8           1.000017\n",
      "receptions_L8                     1.000017\n",
      "receiving_yards_L8                1.000017\n",
      "receiving_tds_L8                  1.000017\n",
      "receiving_fumbles_lost_L8         1.000017\n",
      "targets_L8                        1.000017\n",
      "carries_L8                        1.000017\n",
      "receiving_yards_after_catch_L8    1.000017\n",
      "receiving_air_yards_L8            1.000017\n",
      "target_share_L8                   1.000017\n",
      "carry_share_L8                    1.000017\n",
      "in_10_share_L8                    1.000017\n",
      "yards_per_carry_L8                1.000017\n",
      "yards_per_reception_L8            1.000017\n",
      "yards_per_target_L8               1.000017\n",
      "wind                              1.000017\n",
      "div_game                          1.000017\n",
      "spread_line                       1.000017\n",
      "total_line                        1.000017\n",
      "outdoors                          1.000017\n",
      "grass                             1.000017\n",
      "home_team                         1.000017\n",
      "pred_total                        1.000017\n",
      "opp_total                         1.000017\n",
      "qb_comp                           1.000017\n",
      "qb_att                            1.000017\n",
      "qb_yds                            1.000017\n",
      "qb_pass_td                        1.000017\n",
      "qb_int                            1.000017\n",
      "qb_comp_pct                       1.000017\n",
      "qb_yds_per_att                    1.000017\n",
      "qb_td_pct                         1.000017\n",
      "qb_int_pct                        1.000017\n",
      "pos_RB                            1.000017\n",
      "pos_TE                            1.000017\n",
      "pos_WR                            1.000017\n",
      "dtype: float64\n"
     ]
    }
   ],
   "source": [
    "# Check the mean and standard deviation of the scaled data\n",
    "print(\"FanDuel Scaled Data - Mean:\")\n",
    "print(X_FD_scaled_df.mean(axis=0))\n",
    "\n",
    "print(\"\\nFanDuel Scaled Data - Standard Deviation:\")\n",
    "print(X_FD_scaled_df.std(axis=0))"
   ]
  },
  {
   "cell_type": "code",
   "execution_count": 36,
   "id": "2bef6743-a909-44f1-8296-736f13f43646",
   "metadata": {},
   "outputs": [],
   "source": [
    "X_DK_scaled_df = pd.DataFrame(X_DK_train_scaled, columns = X_DK_train.columns)"
   ]
  },
  {
   "cell_type": "code",
   "execution_count": 37,
   "id": "f03ae33a-1a37-4e0c-b2b8-7adac18aa6ff",
   "metadata": {},
   "outputs": [
    {
     "name": "stdout",
     "output_type": "stream",
     "text": [
      "\n",
      "DraftKings Scaled Data - Mean:\n",
      "DK_Pts_RB_DvP                     1.166531e-16\n",
      "DK_Pts_TE_DvP                     5.158291e-17\n",
      "DK_Pts_WR_DvP                    -6.156822e-16\n",
      "FD_Pts_RB_DvP                    -3.714916e-16\n",
      "FD_Pts_TE_DvP                     2.015993e-16\n",
      "FD_Pts_WR_DvP                    -3.234580e-16\n",
      "rushing_yards_L8                 -1.230418e-17\n",
      "rushing_tds_L8                    5.891809e-17\n",
      "rushing_fumbles_lost_L8           8.045041e-18\n",
      "receptions_L8                    -2.687990e-16\n",
      "receiving_yards_L8               -1.325066e-17\n",
      "receiving_tds_L8                  2.129570e-17\n",
      "receiving_fumbles_lost_L8        -1.774641e-17\n",
      "targets_L8                        7.098565e-17\n",
      "carries_L8                       -1.325066e-17\n",
      "receiving_yards_after_catch_L8    1.484783e-16\n",
      "receiving_air_yards_L8            1.074250e-16\n",
      "target_share_L8                   3.312664e-18\n",
      "carry_share_L8                    1.019827e-16\n",
      "in_10_share_L8                   -7.855746e-17\n",
      "yards_per_carry_L8               -6.885608e-17\n",
      "yards_per_reception_L8           -3.677057e-16\n",
      "yards_per_target_L8              -2.621737e-16\n",
      "wind                             -2.153232e-17\n",
      "div_game                          3.501959e-17\n",
      "spread_line                      -2.425343e-17\n",
      "total_line                        2.787370e-16\n",
      "outdoors                          2.460836e-17\n",
      "grass                             1.159432e-16\n",
      "home_team                         8.045041e-18\n",
      "pred_total                       -3.324495e-16\n",
      "opp_total                        -2.476216e-16\n",
      "qb_comp                           1.798303e-17\n",
      "qb_att                            1.202024e-16\n",
      "qb_yds                            7.950393e-17\n",
      "qb_pass_td                       -1.892951e-17\n",
      "qb_int                           -2.976665e-16\n",
      "qb_comp_pct                      -1.001844e-15\n",
      "qb_yds_per_att                    3.860436e-16\n",
      "qb_td_pct                         4.625898e-16\n",
      "qb_int_pct                        1.972218e-16\n",
      "pos_RB                           -5.678852e-18\n",
      "pos_TE                            2.366188e-17\n",
      "pos_WR                            4.732377e-19\n",
      "dtype: float64\n",
      "\n",
      "DraftKings Scaled Data - Standard Deviation:\n",
      "DK_Pts_RB_DvP                     1.000017\n",
      "DK_Pts_TE_DvP                     1.000017\n",
      "DK_Pts_WR_DvP                     1.000017\n",
      "FD_Pts_RB_DvP                     1.000017\n",
      "FD_Pts_TE_DvP                     1.000017\n",
      "FD_Pts_WR_DvP                     1.000017\n",
      "rushing_yards_L8                  1.000017\n",
      "rushing_tds_L8                    1.000017\n",
      "rushing_fumbles_lost_L8           1.000017\n",
      "receptions_L8                     1.000017\n",
      "receiving_yards_L8                1.000017\n",
      "receiving_tds_L8                  1.000017\n",
      "receiving_fumbles_lost_L8         1.000017\n",
      "targets_L8                        1.000017\n",
      "carries_L8                        1.000017\n",
      "receiving_yards_after_catch_L8    1.000017\n",
      "receiving_air_yards_L8            1.000017\n",
      "target_share_L8                   1.000017\n",
      "carry_share_L8                    1.000017\n",
      "in_10_share_L8                    1.000017\n",
      "yards_per_carry_L8                1.000017\n",
      "yards_per_reception_L8            1.000017\n",
      "yards_per_target_L8               1.000017\n",
      "wind                              1.000017\n",
      "div_game                          1.000017\n",
      "spread_line                       1.000017\n",
      "total_line                        1.000017\n",
      "outdoors                          1.000017\n",
      "grass                             1.000017\n",
      "home_team                         1.000017\n",
      "pred_total                        1.000017\n",
      "opp_total                         1.000017\n",
      "qb_comp                           1.000017\n",
      "qb_att                            1.000017\n",
      "qb_yds                            1.000017\n",
      "qb_pass_td                        1.000017\n",
      "qb_int                            1.000017\n",
      "qb_comp_pct                       1.000017\n",
      "qb_yds_per_att                    1.000017\n",
      "qb_td_pct                         1.000017\n",
      "qb_int_pct                        1.000017\n",
      "pos_RB                            1.000017\n",
      "pos_TE                            1.000017\n",
      "pos_WR                            1.000017\n",
      "dtype: float64\n"
     ]
    }
   ],
   "source": [
    "# Check the mean and standard deviation of the scaled data\n",
    "print(\"\\nDraftKings Scaled Data - Mean:\")\n",
    "print(X_DK_scaled_df.mean(axis=0))\n",
    "\n",
    "print(\"\\nDraftKings Scaled Data - Standard Deviation:\")\n",
    "print(X_DK_scaled_df.std(axis=0))"
   ]
  },
  {
   "cell_type": "code",
   "execution_count": null,
   "id": "7f25d2b5-4aaa-464b-a849-2d95a5e31196",
   "metadata": {},
   "outputs": [],
   "source": []
  },
  {
   "cell_type": "code",
   "execution_count": null,
   "id": "b67ab697-c279-4d60-ba67-0b59bc99ca28",
   "metadata": {},
   "outputs": [],
   "source": []
  },
  {
   "cell_type": "code",
   "execution_count": 38,
   "id": "84490f71-fe43-4306-a941-9affae5a613b",
   "metadata": {},
   "outputs": [],
   "source": [
    "from sklearn.linear_model import LinearRegression\n",
    "from sklearn.neighbors import KNeighborsRegressor"
   ]
  },
  {
   "cell_type": "code",
   "execution_count": 39,
   "id": "555e6113-ea81-4a46-bc2f-09d3d0add452",
   "metadata": {},
   "outputs": [],
   "source": [
    "from sklearn.metrics import mean_absolute_error"
   ]
  },
  {
   "cell_type": "code",
   "execution_count": 40,
   "id": "f49749f3-16cc-4e7b-9e83-1869dea8a3d9",
   "metadata": {},
   "outputs": [],
   "source": [
    "from sklearn.model_selection import GridSearchCV"
   ]
  },
  {
   "cell_type": "code",
   "execution_count": null,
   "id": "5a70465d-a0f3-4262-ae95-850210f067a3",
   "metadata": {},
   "outputs": [],
   "source": []
  },
  {
   "cell_type": "markdown",
   "id": "76174aa0-b8b5-4054-9f6f-a1c093c282f2",
   "metadata": {},
   "source": [
    "# K Nearest Neighbors\n",
    "## FanDuel"
   ]
  },
  {
   "cell_type": "code",
   "execution_count": 41,
   "id": "b4134f59-f52b-4518-a0f0-7c7387fcaf6a",
   "metadata": {},
   "outputs": [],
   "source": [
    "# Lists to store the RMSE values and corresponding number of neighbors\n",
    "# rmse_list_FD = []\n",
    "# neighbors_list_FD = []"
   ]
  },
  {
   "cell_type": "code",
   "execution_count": 42,
   "id": "9586670d-da16-4ab5-aa70-b643d8e4eca9",
   "metadata": {},
   "outputs": [],
   "source": [
    "# param_grid = {\n",
    "#     # 'n_neighbors': range(1, 101),  # Testing n_neighbors from 1 to 100\n",
    "# }"
   ]
  },
  {
   "cell_type": "code",
   "execution_count": 43,
   "id": "c7a8a19a-23e0-4dd2-aa7c-7fcc0440b3d6",
   "metadata": {},
   "outputs": [],
   "source": [
    "# knn_FD = KNeighborsRegressor()"
   ]
  },
  {
   "cell_type": "code",
   "execution_count": 44,
   "id": "c3fa1f65-edcd-4cfe-988e-efecab696208",
   "metadata": {},
   "outputs": [],
   "source": [
    "# grid_search = GridSearchCV(knn_FD, param_grid, cv=5, scoring='neg_mean_squared_error', verbose=1, n_jobs=-1)"
   ]
  },
  {
   "cell_type": "code",
   "execution_count": 45,
   "id": "ccf293ef-7619-41da-b1f4-9b94b064ebde",
   "metadata": {},
   "outputs": [],
   "source": [
    "# grid_search.fit(X_FD_train_scaled, y_FD_train)"
   ]
  },
  {
   "cell_type": "code",
   "execution_count": 46,
   "id": "36484cbc-2797-4e72-8a05-8403d06de6ba",
   "metadata": {},
   "outputs": [],
   "source": [
    "# # Best parameters found by GridSearchCV\n",
    "# best_params = grid_search.best_params_\n",
    "# print(f\"Best parameters: {best_params}\")\n",
    "\n",
    "# # Best model\n",
    "# best_knn_model = grid_search.best_estimator_\n",
    "\n",
    "# # Evaluate on the test set\n",
    "# y_pred = best_knn_model.predict(X_FD_test_scaled)\n",
    "\n",
    "# best_rmse = mean_squared_error(y_FD_test, y_pred, squared=False)\n",
    "# # Calculate and print the final errors\n",
    "# print(f\"Mean Absolute Error: {mean_absolute_error(y_FD_test, y_pred)}\")\n",
    "# print(f\"Root Mean Squared Error: {best_rmse}\")"
   ]
  },
  {
   "cell_type": "code",
   "execution_count": 47,
   "id": "d42556cb-6f50-48b4-9ff3-198f5600be81",
   "metadata": {},
   "outputs": [],
   "source": [
    "# error_dict_FD['KNN'] = {'best_params': best_params, 'best_rmse': best_rmse}"
   ]
  },
  {
   "cell_type": "markdown",
   "id": "b5779aad-de1c-4921-aea6-b0b1ea9a5615",
   "metadata": {},
   "source": [
    "## DraftKings"
   ]
  },
  {
   "cell_type": "code",
   "execution_count": 48,
   "id": "75298a96-2bf9-470c-bf0b-f4d35c091d09",
   "metadata": {},
   "outputs": [],
   "source": [
    "# knn_DK = KNeighborsRegressor()"
   ]
  },
  {
   "cell_type": "code",
   "execution_count": 49,
   "id": "0ede9d16-aca1-4b41-ae19-39950679a1af",
   "metadata": {},
   "outputs": [],
   "source": [
    "# grid_search = GridSearchCV(knn_DK, param_grid, cv=5, scoring='neg_mean_squared_error', verbose=1, n_jobs=-1)"
   ]
  },
  {
   "cell_type": "code",
   "execution_count": 50,
   "id": "3d5e0bcc-3785-428a-8b85-da3f374435d1",
   "metadata": {},
   "outputs": [],
   "source": [
    "# grid_search.fit(X_DK_train_scaled, y_DK_train)"
   ]
  },
  {
   "cell_type": "code",
   "execution_count": 51,
   "id": "f11150f2-f4c6-486a-ab46-ceca8b878ad8",
   "metadata": {},
   "outputs": [],
   "source": [
    "# # Best parameters found by GridSearchCV\n",
    "# best_params = grid_search.best_params_\n",
    "# print(f\"Best parameters: {best_params}\")\n",
    "\n",
    "# # Best model\n",
    "# best_knn_model = grid_search.best_estimator_\n",
    "\n",
    "# # Evaluate on the test set\n",
    "# y_pred = best_knn_model.predict(X_DK_test_scaled)\n",
    "\n",
    "# best_rmse = mean_squared_error(y_DK_test, y_pred, squared=False)\n",
    "# # Calculate and print the final errors\n",
    "# print(f\"Mean Absolute Error: {mean_absolute_error(y_DK_test, y_pred)}\")\n",
    "# print(f\"Root Mean Squared Error: {best_rmse}\")"
   ]
  },
  {
   "cell_type": "code",
   "execution_count": 52,
   "id": "e4b8e7b9-0d68-42b4-b872-3f0bd81e5573",
   "metadata": {},
   "outputs": [],
   "source": [
    "# error_dict_DK['KNN'] = {'best_params': best_params, 'best_rmse': best_rmse}"
   ]
  },
  {
   "cell_type": "code",
   "execution_count": null,
   "id": "95c32ac1-470f-47a2-b3b5-79ede965c675",
   "metadata": {},
   "outputs": [],
   "source": []
  },
  {
   "cell_type": "markdown",
   "id": "92936982-1c29-40e9-8202-da9dff60c724",
   "metadata": {},
   "source": [
    "# Linear Regression"
   ]
  },
  {
   "cell_type": "markdown",
   "id": "caf20651-a0c6-4166-b353-8992152efe8c",
   "metadata": {},
   "source": [
    "## FanDuel"
   ]
  },
  {
   "cell_type": "code",
   "execution_count": 53,
   "id": "6b46a21f-f0b9-4281-b135-0cfbf7b43465",
   "metadata": {},
   "outputs": [],
   "source": [
    "# base_LR_FD = LinearRegression()"
   ]
  },
  {
   "cell_type": "code",
   "execution_count": 54,
   "id": "b36eba9f-3f90-4b07-8595-e0cb0088e0b2",
   "metadata": {},
   "outputs": [],
   "source": [
    "# base_LR_FD.fit(X_FD_train_scaled, y_FD_train)"
   ]
  },
  {
   "cell_type": "code",
   "execution_count": 55,
   "id": "77b8af86-514b-4315-9ce0-0b90c3bfd82e",
   "metadata": {},
   "outputs": [],
   "source": [
    "# base_LR_FD_pred = base_LR_FD.predict(X_FD_test_scaled)"
   ]
  },
  {
   "cell_type": "code",
   "execution_count": 56,
   "id": "048218e5-4154-4530-8a1e-56c17eb91fad",
   "metadata": {},
   "outputs": [],
   "source": [
    "# print(f\"R_squared_train: {base_LR_FD.score(X_FD_train_scaled, y_FD_train)}\")\n",
    "# print(f\"R_squared_test: {base_LR_FD.score(X_FD_test_scaled, y_FD_test)}\")\n",
    "# print(f\"MAE: {mean_absolute_error(y_FD_test, base_LR_FD_pred)}\")\n",
    "# print(f\"MSE: {mean_squared_error(y_FD_test, base_LR_FD_pred)}\")\n",
    "# print(f\"RMSE: {mean_squared_error(y_FD_test, base_LR_FD_pred, squared = False)}\")"
   ]
  },
  {
   "cell_type": "code",
   "execution_count": 57,
   "id": "f0591168-a0ea-4e95-b19d-7739148670f1",
   "metadata": {},
   "outputs": [],
   "source": [
    "# from sklearn.linear_model import Ridge"
   ]
  },
  {
   "cell_type": "code",
   "execution_count": 58,
   "id": "b621b127-d72b-401d-a138-b14044bd4efa",
   "metadata": {},
   "outputs": [],
   "source": [
    "# alpha_values = np.linspace(0.1, 100, 50)"
   ]
  },
  {
   "cell_type": "code",
   "execution_count": 59,
   "id": "cfb460bf-0721-45fc-9fd0-1a145f794c29",
   "metadata": {},
   "outputs": [],
   "source": [
    "# param_grid = {'alpha': alpha_values}\n",
    "# Ridge_LR_FD = Ridge()\n",
    "# Ridge_CV_FD = GridSearchCV(Ridge_LR_FD, param_grid, cv = 5, scoring = 'neg_root_mean_squared_error')\n",
    "# Ridge_CV_FD.fit(X_FD_train_scaled, y_FD_train)\n",
    "# best_params = Ridge_CV_FD.best_params_\n",
    "# print(f\"Ridge_model best params: {best_params}\")\n",
    "# print(f\"Ridge_model best score: {-Ridge_CV_FD.best_score_}\")"
   ]
  },
  {
   "cell_type": "code",
   "execution_count": 60,
   "id": "0b7b1779-4d06-4b89-af9e-7016ac42dba9",
   "metadata": {},
   "outputs": [],
   "source": [
    "# best_ridge_FD = Ridge(alpha=100, random_state=42)\n",
    "# best_ridge_FD.fit(X_FD_train_scaled, y_FD_train)  # Use the correct variable name\n",
    "# y_pred = best_ridge_FD.predict(X_FD_test_scaled)  # Use the correct variable name\n",
    "\n",
    "# best_rmse = mean_squared_error(y_FD_test, y_pred, squared=False)\n",
    "# print(f\"best_ridge train R-squared: {best_ridge_FD.score(X_FD_train_scaled, y_FD_train)}\")\n",
    "# print(f\"best_ridge test R-squared: {best_ridge_FD.score(X_FD_test_scaled, y_FD_test)}\")\n",
    "# print(f\"best_ridge MAE: {mean_absolute_error(y_FD_test, y_pred)}\")\n",
    "# print(f\"best_ridge RMSE: {best_rmse}\")\n",
    "# print(f\"best_ridge MSE: {mean_squared_error(y_FD_test, y_pred)}\")"
   ]
  },
  {
   "cell_type": "code",
   "execution_count": 61,
   "id": "5ce5373d-4b6f-4c07-b599-b94b741296bd",
   "metadata": {},
   "outputs": [],
   "source": [
    "# error_dict_FD['Linear_Regression'] = {'best_params': best_params, 'best_rmse': best_rmse}"
   ]
  },
  {
   "cell_type": "markdown",
   "id": "8be93ed4-816b-4051-8053-850b79536068",
   "metadata": {},
   "source": [
    "## DraftKings"
   ]
  },
  {
   "cell_type": "code",
   "execution_count": 62,
   "id": "1b46628e-3a3b-4e2f-af6e-17a441604015",
   "metadata": {},
   "outputs": [],
   "source": [
    "# base_LR_DK = LinearRegression()"
   ]
  },
  {
   "cell_type": "code",
   "execution_count": 63,
   "id": "069f00ab-59dd-41ef-9c82-bca47f8d7f69",
   "metadata": {},
   "outputs": [],
   "source": [
    "# base_LR_DK.fit(X_DK_train_scaled, y_DK_train)"
   ]
  },
  {
   "cell_type": "code",
   "execution_count": 64,
   "id": "4ddbfa21-a0e2-46fe-ba89-fcc89b35ed84",
   "metadata": {},
   "outputs": [],
   "source": [
    "# base_LR_DK_pred = base_LR_DK.predict(X_DK_test_scaled)"
   ]
  },
  {
   "cell_type": "code",
   "execution_count": 65,
   "id": "a9f52c99-2744-473d-baf5-c3e9e475c860",
   "metadata": {},
   "outputs": [],
   "source": [
    "# print(f\"R_squared_train: {base_LR_DK.score(X_DK_train_scaled, y_DK_train)}\")\n",
    "# print(f\"R_squared_test: {base_LR_DK.score(X_DK_test_scaled, y_DK_test)}\")\n",
    "# print(f\"MAE: {mean_absolute_error(y_DK_test, base_LR_DK_pred)}\")\n",
    "# print(f\"MSE: {mean_squared_error(y_DK_test, base_LR_DK_pred)}\")\n",
    "# print(f\"RMSE: {mean_squared_error(y_DK_test, base_LR_DK_pred, squared = False)}\")"
   ]
  },
  {
   "cell_type": "code",
   "execution_count": 66,
   "id": "63cbe50c-6d08-498e-939a-a19422124614",
   "metadata": {},
   "outputs": [],
   "source": [
    "# alpha_values = np.linspace(0.1, 100, 50)"
   ]
  },
  {
   "cell_type": "code",
   "execution_count": 67,
   "id": "6ba90c54-fdc7-4a52-98e9-2f190dde851e",
   "metadata": {},
   "outputs": [],
   "source": [
    "# param_grid = {'alpha': alpha_values}\n",
    "# Ridge_LR_DK = Ridge()\n",
    "# Ridge_CV_DK = GridSearchCV(Ridge_LR_DK, param_grid, cv = 5, scoring = 'neg_root_mean_squared_error')\n",
    "# Ridge_CV_DK.fit(X_DK_train_scaled, y_DK_train)\n",
    "# best_params = Ridge_CV_DK.best_params_\n",
    "# print(f\"Ridge_model best params: {best_params}\")\n",
    "# print(f\"Ridge_model best score: {-Ridge_CV_DK.best_score_}\")"
   ]
  },
  {
   "cell_type": "code",
   "execution_count": 68,
   "id": "410e3dfa-8ef4-4b55-95f6-eb477ad7e819",
   "metadata": {},
   "outputs": [],
   "source": [
    "# best_ridge_DK = Ridge(alpha=100, random_state=42)\n",
    "# best_ridge_DK.fit(X_DK_train_scaled, y_DK_train)  # Use the correct variable name\n",
    "# y_pred = best_ridge_DK.predict(X_DK_test_scaled)  # Use the correct variable name\n",
    "\n",
    "# best_rmse = mean_squared_error(y_DK_test, y_pred, squared=False)\n",
    "# print(f\"best_ridge train R-squared: {best_ridge_DK.score(X_DK_train_scaled, y_DK_train)}\")\n",
    "# print(f\"best_ridge test R-squared: {best_ridge_DK.score(X_DK_test_scaled, y_DK_test)}\")\n",
    "# print(f\"best_ridge MAE: {mean_absolute_error(y_DK_test, y_pred)}\")\n",
    "# print(f\"best_ridge RMSE: {best_rmse}\")\n",
    "# print(f\"best_ridge MSE: {mean_squared_error(y_DK_test, y_pred)}\")"
   ]
  },
  {
   "cell_type": "code",
   "execution_count": 69,
   "id": "51c3338b-b322-488a-8078-e43e5b806ea7",
   "metadata": {},
   "outputs": [],
   "source": [
    "# error_dict_DK['Linear_Regression'] = {'best_params': best_params, 'best_rmse': best_rmse}"
   ]
  },
  {
   "cell_type": "code",
   "execution_count": 70,
   "id": "bc66980b-d406-4c59-9e49-7ba1b5e2a8d4",
   "metadata": {},
   "outputs": [],
   "source": [
    "# error_dict_DK"
   ]
  },
  {
   "cell_type": "code",
   "execution_count": null,
   "id": "aea05d68-1b0e-4657-a6e8-ef9248be78ad",
   "metadata": {},
   "outputs": [],
   "source": []
  },
  {
   "cell_type": "code",
   "execution_count": 71,
   "id": "815f4520-9425-4c26-a85a-dee458432f27",
   "metadata": {},
   "outputs": [],
   "source": [
    "from sklearn.metrics import make_scorer"
   ]
  },
  {
   "cell_type": "code",
   "execution_count": 72,
   "id": "40c4c924-fa7a-4776-aa76-f72278f70f1d",
   "metadata": {},
   "outputs": [],
   "source": [
    "rmse_scorer = make_scorer(mean_squared_error, squared=False, greater_is_better=False)"
   ]
  },
  {
   "cell_type": "code",
   "execution_count": 73,
   "id": "fe6a92c0-6629-4b50-a160-607389f59a67",
   "metadata": {},
   "outputs": [],
   "source": [
    "from sklearn.ensemble import RandomForestRegressor"
   ]
  },
  {
   "cell_type": "markdown",
   "id": "79bba62f-9d82-4e4a-b99c-4a076bdd7fe4",
   "metadata": {},
   "source": [
    "# Random Forest"
   ]
  },
  {
   "cell_type": "markdown",
   "id": "20357f98-e665-47cb-ada3-e9ec7c0ec5b8",
   "metadata": {},
   "source": [
    "## FanDuel"
   ]
  },
  {
   "cell_type": "code",
   "execution_count": 74,
   "id": "c8e44e85-7cbf-456c-8bfb-f2a67510008c",
   "metadata": {},
   "outputs": [],
   "source": [
    "# base_RF_FD = RandomForestRegressor(random_state = 42)"
   ]
  },
  {
   "cell_type": "code",
   "execution_count": 75,
   "id": "aae9317d-ea07-4ee4-ade9-87473da5bd2f",
   "metadata": {},
   "outputs": [],
   "source": [
    "# base_RF_FD.fit(X_FD_train_scaled, y_FD_train)"
   ]
  },
  {
   "cell_type": "code",
   "execution_count": 76,
   "id": "1cdbacf5-c5ff-4f9b-9f98-afd31009ba86",
   "metadata": {},
   "outputs": [],
   "source": [
    "# base_RF_FD_pred = base_RF_FD.predict(X_FD_test_scaled)"
   ]
  },
  {
   "cell_type": "code",
   "execution_count": 77,
   "id": "c749ebe3-d8d1-4b30-b7a2-1110ef4459f0",
   "metadata": {},
   "outputs": [],
   "source": [
    "# print(f\"R_squared_train: {base_RF_FD.score(X_FD_train_scaled, y_FD_train)}\")\n",
    "# print(f\"R_squared_test: {base_RF_FD.score(X_FD_test_scaled, y_FD_test)}\")\n",
    "# print(f\"MAE: {mean_absolute_error(y_FD_test, base_RF_FD_pred)}\")\n",
    "# print(f\"MSE: {mean_squared_error(y_FD_test, base_RF_FD_pred)}\")\n",
    "# print(f\"RMSE: {mean_squared_error(y_FD_test, base_RF_FD_pred, squared = False)}\")"
   ]
  },
  {
   "cell_type": "code",
   "execution_count": 78,
   "id": "c9f83772-1b55-4edd-b9e9-1b79761f6ce1",
   "metadata": {},
   "outputs": [],
   "source": [
    "from sklearn.model_selection import RandomizedSearchCV"
   ]
  },
  {
   "cell_type": "code",
   "execution_count": 79,
   "id": "73830dad-47c4-47cb-82aa-e6e42643b648",
   "metadata": {},
   "outputs": [],
   "source": [
    "# param_dist = {'max_depth': [3, 6, 9, 12],\\\n",
    "#               'n_estimators': [100, 250, 400],\\\n",
    "#              'min_samples_split': [2, 5, 10],\\\n",
    "#               'min_samples_leaf': [1, 2, 4]}\n",
    "# y_FD_train = y_FD_train.ravel()\n",
    "# RF_Random_CV_FD = RandomizedSearchCV(base_RF_FD, param_distributions=param_dist, n_iter=36, scoring=rmse_scorer,\\\n",
    "#                                      cv=3, n_jobs=6, verbose=2, random_state=42)\n",
    "# RF_Random_CV_FD.fit(X_FD_train_scaled, y_FD_train)\n",
    "# best_params = RF_Random_CV_FD.best_params_\n",
    "# print(f\"Tuned Random Forest Best Estimator: {RF_Random_CV_FD.best_estimator_}\")\n",
    "# print(f\"Tuned Random Forest Best Score: {RF_Random_CV_FD.best_score_}\")\n",
    "# print(f\"Tuned Random Forest Best Params: {best_params}\")"
   ]
  },
  {
   "cell_type": "code",
   "execution_count": 80,
   "id": "03fdfcb4-fffa-4f36-a11b-e44f8563bcee",
   "metadata": {},
   "outputs": [],
   "source": [
    "# best_RF_FD = RandomForestRegressor(max_depth=9, n_estimators=400, min_samples_split = 10, min_samples_leaf = 4, random_state=42)\n",
    "# best_RF_FD.fit(X_FD_train_scaled, y_FD_train)  # Correct the variable name for consistency\n",
    "# y_pred = best_RF_FD.predict(X_FD_test_scaled)  # Correct the variable name for consistency\n",
    "\n",
    "# best_rmse = mean_squared_error(y_FD_test, y_pred, squared=False)\n",
    "# print(f\"Best_RF Train R-squared: {best_RF_FD.score(X_FD_train_scaled, y_FD_train)}\")\n",
    "# print(f\"Best_RF Test R-squared: {best_RF_FD.score(X_FD_test_scaled, y_FD_test)}\")\n",
    "# print(f\"Best_RF MAE: {mean_absolute_error(y_FD_test, y_pred)}\")\n",
    "# print(f\"Best_RF RMSE: {best_rmse}\")\n",
    "# print(f\"Best_RF MSE: {mean_squared_error(y_FD_test, y_pred)}\")"
   ]
  },
  {
   "cell_type": "code",
   "execution_count": 81,
   "id": "e4f88cb8-0756-4438-a7f0-fad828afb1b9",
   "metadata": {},
   "outputs": [],
   "source": [
    "# error_dict_FD['Random_Forest'] = {'best_params': best_params, 'best_rmse': best_rmse}"
   ]
  },
  {
   "cell_type": "markdown",
   "id": "e4ffdc64-074f-488b-9b6c-d1136c11a22f",
   "metadata": {},
   "source": [
    "# DraftKings\n",
    "Since the param_grid took a while for FanDuel, even with a randomized search, we're going to reel the grid in a little bit for DraftKings."
   ]
  },
  {
   "cell_type": "code",
   "execution_count": 82,
   "id": "fb498f79-bf2f-4e78-8fb9-bfea49e550e9",
   "metadata": {},
   "outputs": [],
   "source": [
    "base_RF_DK = RandomForestRegressor(random_state = 42)"
   ]
  },
  {
   "cell_type": "code",
   "execution_count": 83,
   "id": "8f1593b9-cd7d-48f7-ab67-821812974215",
   "metadata": {},
   "outputs": [
    {
     "name": "stderr",
     "output_type": "stream",
     "text": [
      "C:\\Users\\Owner\\anaconda3\\envs\\nfl_dfs_model\\lib\\site-packages\\sklearn\\base.py:1152: DataConversionWarning: A column-vector y was passed when a 1d array was expected. Please change the shape of y to (n_samples,), for example using ravel().\n",
      "  return fit_method(estimator, *args, **kwargs)\n"
     ]
    },
    {
     "data": {
      "text/html": [
       "<style>#sk-container-id-1 {color: black;}#sk-container-id-1 pre{padding: 0;}#sk-container-id-1 div.sk-toggleable {background-color: white;}#sk-container-id-1 label.sk-toggleable__label {cursor: pointer;display: block;width: 100%;margin-bottom: 0;padding: 0.3em;box-sizing: border-box;text-align: center;}#sk-container-id-1 label.sk-toggleable__label-arrow:before {content: \"▸\";float: left;margin-right: 0.25em;color: #696969;}#sk-container-id-1 label.sk-toggleable__label-arrow:hover:before {color: black;}#sk-container-id-1 div.sk-estimator:hover label.sk-toggleable__label-arrow:before {color: black;}#sk-container-id-1 div.sk-toggleable__content {max-height: 0;max-width: 0;overflow: hidden;text-align: left;background-color: #f0f8ff;}#sk-container-id-1 div.sk-toggleable__content pre {margin: 0.2em;color: black;border-radius: 0.25em;background-color: #f0f8ff;}#sk-container-id-1 input.sk-toggleable__control:checked~div.sk-toggleable__content {max-height: 200px;max-width: 100%;overflow: auto;}#sk-container-id-1 input.sk-toggleable__control:checked~label.sk-toggleable__label-arrow:before {content: \"▾\";}#sk-container-id-1 div.sk-estimator input.sk-toggleable__control:checked~label.sk-toggleable__label {background-color: #d4ebff;}#sk-container-id-1 div.sk-label input.sk-toggleable__control:checked~label.sk-toggleable__label {background-color: #d4ebff;}#sk-container-id-1 input.sk-hidden--visually {border: 0;clip: rect(1px 1px 1px 1px);clip: rect(1px, 1px, 1px, 1px);height: 1px;margin: -1px;overflow: hidden;padding: 0;position: absolute;width: 1px;}#sk-container-id-1 div.sk-estimator {font-family: monospace;background-color: #f0f8ff;border: 1px dotted black;border-radius: 0.25em;box-sizing: border-box;margin-bottom: 0.5em;}#sk-container-id-1 div.sk-estimator:hover {background-color: #d4ebff;}#sk-container-id-1 div.sk-parallel-item::after {content: \"\";width: 100%;border-bottom: 1px solid gray;flex-grow: 1;}#sk-container-id-1 div.sk-label:hover label.sk-toggleable__label {background-color: #d4ebff;}#sk-container-id-1 div.sk-serial::before {content: \"\";position: absolute;border-left: 1px solid gray;box-sizing: border-box;top: 0;bottom: 0;left: 50%;z-index: 0;}#sk-container-id-1 div.sk-serial {display: flex;flex-direction: column;align-items: center;background-color: white;padding-right: 0.2em;padding-left: 0.2em;position: relative;}#sk-container-id-1 div.sk-item {position: relative;z-index: 1;}#sk-container-id-1 div.sk-parallel {display: flex;align-items: stretch;justify-content: center;background-color: white;position: relative;}#sk-container-id-1 div.sk-item::before, #sk-container-id-1 div.sk-parallel-item::before {content: \"\";position: absolute;border-left: 1px solid gray;box-sizing: border-box;top: 0;bottom: 0;left: 50%;z-index: -1;}#sk-container-id-1 div.sk-parallel-item {display: flex;flex-direction: column;z-index: 1;position: relative;background-color: white;}#sk-container-id-1 div.sk-parallel-item:first-child::after {align-self: flex-end;width: 50%;}#sk-container-id-1 div.sk-parallel-item:last-child::after {align-self: flex-start;width: 50%;}#sk-container-id-1 div.sk-parallel-item:only-child::after {width: 0;}#sk-container-id-1 div.sk-dashed-wrapped {border: 1px dashed gray;margin: 0 0.4em 0.5em 0.4em;box-sizing: border-box;padding-bottom: 0.4em;background-color: white;}#sk-container-id-1 div.sk-label label {font-family: monospace;font-weight: bold;display: inline-block;line-height: 1.2em;}#sk-container-id-1 div.sk-label-container {text-align: center;}#sk-container-id-1 div.sk-container {/* jupyter's `normalize.less` sets `[hidden] { display: none; }` but bootstrap.min.css set `[hidden] { display: none !important; }` so we also need the `!important` here to be able to override the default hidden behavior on the sphinx rendered scikit-learn.org. See: https://github.com/scikit-learn/scikit-learn/issues/21755 */display: inline-block !important;position: relative;}#sk-container-id-1 div.sk-text-repr-fallback {display: none;}</style><div id=\"sk-container-id-1\" class=\"sk-top-container\"><div class=\"sk-text-repr-fallback\"><pre>RandomForestRegressor(random_state=42)</pre><b>In a Jupyter environment, please rerun this cell to show the HTML representation or trust the notebook. <br />On GitHub, the HTML representation is unable to render, please try loading this page with nbviewer.org.</b></div><div class=\"sk-container\" hidden><div class=\"sk-item\"><div class=\"sk-estimator sk-toggleable\"><input class=\"sk-toggleable__control sk-hidden--visually\" id=\"sk-estimator-id-1\" type=\"checkbox\" checked><label for=\"sk-estimator-id-1\" class=\"sk-toggleable__label sk-toggleable__label-arrow\">RandomForestRegressor</label><div class=\"sk-toggleable__content\"><pre>RandomForestRegressor(random_state=42)</pre></div></div></div></div></div>"
      ],
      "text/plain": [
       "RandomForestRegressor(random_state=42)"
      ]
     },
     "execution_count": 83,
     "metadata": {},
     "output_type": "execute_result"
    }
   ],
   "source": [
    "base_RF_DK.fit(X_DK_train_scaled, y_DK_train)"
   ]
  },
  {
   "cell_type": "code",
   "execution_count": 84,
   "id": "a2e88c3d-5d01-4d62-bce0-6cb7fbda4cbe",
   "metadata": {},
   "outputs": [],
   "source": [
    "base_RF_DK_pred = base_RF_DK.predict(X_DK_test_scaled)"
   ]
  },
  {
   "cell_type": "code",
   "execution_count": 85,
   "id": "88b2856a-1774-4cac-900f-6ebeecee63a2",
   "metadata": {},
   "outputs": [
    {
     "name": "stdout",
     "output_type": "stream",
     "text": [
      "R_squared_train: 0.8983720584142745\n",
      "R_squared_test: 0.27525438371728617\n",
      "MAE: 5.129305972836688\n",
      "MSE: 46.85643231949449\n",
      "RMSE: 6.84517584284688\n"
     ]
    }
   ],
   "source": [
    "print(f\"R_squared_train: {base_RF_DK.score(X_DK_train_scaled, y_DK_train)}\")\n",
    "print(f\"R_squared_test: {base_RF_DK.score(X_DK_test_scaled, y_DK_test)}\")\n",
    "print(f\"MAE: {mean_absolute_error(y_DK_test, base_RF_DK_pred)}\")\n",
    "print(f\"MSE: {mean_squared_error(y_DK_test, base_RF_DK_pred)}\")\n",
    "print(f\"RMSE: {mean_squared_error(y_DK_test, base_RF_DK_pred, squared = False)}\")"
   ]
  },
  {
   "cell_type": "code",
   "execution_count": 86,
   "id": "c1da4d22-5dd2-4840-b398-ce37a2a4d06e",
   "metadata": {},
   "outputs": [
    {
     "name": "stdout",
     "output_type": "stream",
     "text": [
      "Fitting 3 folds for each of 18 candidates, totalling 54 fits\n",
      "Tuned Random Forest Best Estimator: RandomForestRegressor(max_depth=9, min_samples_leaf=4, min_samples_split=10,\n",
      "                      n_estimators=250, random_state=42)\n",
      "Tuned Random Forest Best Score: -6.804304122194972\n",
      "Tuned Random Forest Best Params: {'n_estimators': 250, 'min_samples_split': 10, 'min_samples_leaf': 4, 'max_depth': 9}\n"
     ]
    }
   ],
   "source": [
    "param_dist = {'max_depth': [6, 9, 12],\\\n",
    "              'n_estimators': [250, 400],\\\n",
    "             'min_samples_split': [2, 5, 10],\\\n",
    "              'min_samples_leaf': [1, 2, 4]}\n",
    "y_DK_train = y_DK_train.values.ravel()\n",
    "RF_Random_CV_DK = RandomizedSearchCV(base_RF_DK, param_distributions=param_dist, n_iter=18, scoring=rmse_scorer,\\\n",
    "                                     cv=3, n_jobs=6, verbose=2, random_state=42)\n",
    "RF_Random_CV_DK.fit(X_DK_train_scaled, y_DK_train)\n",
    "best_params = RF_Random_CV_DK.best_params_\n",
    "print(f\"Tuned Random Forest Best Estimator: {RF_Random_CV_DK.best_estimator_}\")\n",
    "print(f\"Tuned Random Forest Best Score: {RF_Random_CV_DK.best_score_}\")\n",
    "print(f\"Tuned Random Forest Best Params: {best_params}\")"
   ]
  },
  {
   "cell_type": "code",
   "execution_count": 87,
   "id": "3f94571a-0d0d-4b6c-be6e-e01f7d3e6d95",
   "metadata": {},
   "outputs": [
    {
     "name": "stdout",
     "output_type": "stream",
     "text": [
      "Best_RF Train R-squared: 0.42427279444036625\n",
      "Best_RF Test R-squared: 0.30368142880460014\n",
      "Best_RF MAE: 4.974051542505229\n",
      "Best_RF RMSE: 6.70958716985463\n",
      "Best_RF MSE: 45.018559989877865\n"
     ]
    }
   ],
   "source": [
    "best_RF_DK = RandomForestRegressor(max_depth=9, n_estimators=250, min_samples_split = 10, min_samples_leaf = 4, random_state=42)\n",
    "best_RF_DK.fit(X_DK_train_scaled, y_DK_train)  # Correct the variable name for consistency\n",
    "y_pred = best_RF_DK.predict(X_DK_test_scaled)  # Correct the variable name for consistency\n",
    "\n",
    "best_rmse = mean_squared_error(y_DK_test, y_pred, squared=False)\n",
    "print(f\"Best_RF Train R-squared: {best_RF_DK.score(X_DK_train_scaled, y_DK_train)}\")\n",
    "print(f\"Best_RF Test R-squared: {best_RF_DK.score(X_DK_test_scaled, y_DK_test)}\")\n",
    "print(f\"Best_RF MAE: {mean_absolute_error(y_DK_test, y_pred)}\")\n",
    "print(f\"Best_RF RMSE: {best_rmse}\")\n",
    "print(f\"Best_RF MSE: {mean_squared_error(y_DK_test, y_pred)}\")"
   ]
  },
  {
   "cell_type": "code",
   "execution_count": 88,
   "id": "47c0c8e1-be7e-4d7c-bec2-91a46c8e6d0d",
   "metadata": {},
   "outputs": [],
   "source": [
    "# error_dict_DK['Random_Forest'] = {'best_params': best_params, 'best_rmse': best_rmse}"
   ]
  },
  {
   "cell_type": "code",
   "execution_count": 89,
   "id": "2e85194b-5f1c-4811-bc54-f0fdafb43037",
   "metadata": {},
   "outputs": [],
   "source": [
    "# error_dict_DK"
   ]
  },
  {
   "cell_type": "code",
   "execution_count": null,
   "id": "a7c9e3e4-0ec5-46a7-96c1-9d068c482f1a",
   "metadata": {},
   "outputs": [],
   "source": []
  },
  {
   "cell_type": "code",
   "execution_count": 90,
   "id": "429a305f-1212-40e5-bf30-d5ccf2f15875",
   "metadata": {},
   "outputs": [],
   "source": [
    "from sklearn.ensemble import GradientBoostingRegressor"
   ]
  },
  {
   "cell_type": "markdown",
   "id": "fdd4247a-418d-418d-bcd7-c89e1fa08556",
   "metadata": {},
   "source": [
    "# Gradient Boost"
   ]
  },
  {
   "cell_type": "markdown",
   "id": "579b68fc-13b0-4603-9067-76b7c0b6c375",
   "metadata": {},
   "source": [
    "## DraftKings\n",
    "For this one, we'll do DraftKings first, then if we have to compromise the grid, this time it will be FanDuel that gets the reduced grid."
   ]
  },
  {
   "cell_type": "code",
   "execution_count": 91,
   "id": "658666e1-9559-4131-a538-096648599e23",
   "metadata": {},
   "outputs": [],
   "source": [
    "base_GB_DK = GradientBoostingRegressor(random_state = 42)"
   ]
  },
  {
   "cell_type": "code",
   "execution_count": 92,
   "id": "75a657bf-2a61-4154-8c66-60a47a35caf4",
   "metadata": {},
   "outputs": [
    {
     "data": {
      "text/html": [
       "<style>#sk-container-id-2 {color: black;}#sk-container-id-2 pre{padding: 0;}#sk-container-id-2 div.sk-toggleable {background-color: white;}#sk-container-id-2 label.sk-toggleable__label {cursor: pointer;display: block;width: 100%;margin-bottom: 0;padding: 0.3em;box-sizing: border-box;text-align: center;}#sk-container-id-2 label.sk-toggleable__label-arrow:before {content: \"▸\";float: left;margin-right: 0.25em;color: #696969;}#sk-container-id-2 label.sk-toggleable__label-arrow:hover:before {color: black;}#sk-container-id-2 div.sk-estimator:hover label.sk-toggleable__label-arrow:before {color: black;}#sk-container-id-2 div.sk-toggleable__content {max-height: 0;max-width: 0;overflow: hidden;text-align: left;background-color: #f0f8ff;}#sk-container-id-2 div.sk-toggleable__content pre {margin: 0.2em;color: black;border-radius: 0.25em;background-color: #f0f8ff;}#sk-container-id-2 input.sk-toggleable__control:checked~div.sk-toggleable__content {max-height: 200px;max-width: 100%;overflow: auto;}#sk-container-id-2 input.sk-toggleable__control:checked~label.sk-toggleable__label-arrow:before {content: \"▾\";}#sk-container-id-2 div.sk-estimator input.sk-toggleable__control:checked~label.sk-toggleable__label {background-color: #d4ebff;}#sk-container-id-2 div.sk-label input.sk-toggleable__control:checked~label.sk-toggleable__label {background-color: #d4ebff;}#sk-container-id-2 input.sk-hidden--visually {border: 0;clip: rect(1px 1px 1px 1px);clip: rect(1px, 1px, 1px, 1px);height: 1px;margin: -1px;overflow: hidden;padding: 0;position: absolute;width: 1px;}#sk-container-id-2 div.sk-estimator {font-family: monospace;background-color: #f0f8ff;border: 1px dotted black;border-radius: 0.25em;box-sizing: border-box;margin-bottom: 0.5em;}#sk-container-id-2 div.sk-estimator:hover {background-color: #d4ebff;}#sk-container-id-2 div.sk-parallel-item::after {content: \"\";width: 100%;border-bottom: 1px solid gray;flex-grow: 1;}#sk-container-id-2 div.sk-label:hover label.sk-toggleable__label {background-color: #d4ebff;}#sk-container-id-2 div.sk-serial::before {content: \"\";position: absolute;border-left: 1px solid gray;box-sizing: border-box;top: 0;bottom: 0;left: 50%;z-index: 0;}#sk-container-id-2 div.sk-serial {display: flex;flex-direction: column;align-items: center;background-color: white;padding-right: 0.2em;padding-left: 0.2em;position: relative;}#sk-container-id-2 div.sk-item {position: relative;z-index: 1;}#sk-container-id-2 div.sk-parallel {display: flex;align-items: stretch;justify-content: center;background-color: white;position: relative;}#sk-container-id-2 div.sk-item::before, #sk-container-id-2 div.sk-parallel-item::before {content: \"\";position: absolute;border-left: 1px solid gray;box-sizing: border-box;top: 0;bottom: 0;left: 50%;z-index: -1;}#sk-container-id-2 div.sk-parallel-item {display: flex;flex-direction: column;z-index: 1;position: relative;background-color: white;}#sk-container-id-2 div.sk-parallel-item:first-child::after {align-self: flex-end;width: 50%;}#sk-container-id-2 div.sk-parallel-item:last-child::after {align-self: flex-start;width: 50%;}#sk-container-id-2 div.sk-parallel-item:only-child::after {width: 0;}#sk-container-id-2 div.sk-dashed-wrapped {border: 1px dashed gray;margin: 0 0.4em 0.5em 0.4em;box-sizing: border-box;padding-bottom: 0.4em;background-color: white;}#sk-container-id-2 div.sk-label label {font-family: monospace;font-weight: bold;display: inline-block;line-height: 1.2em;}#sk-container-id-2 div.sk-label-container {text-align: center;}#sk-container-id-2 div.sk-container {/* jupyter's `normalize.less` sets `[hidden] { display: none; }` but bootstrap.min.css set `[hidden] { display: none !important; }` so we also need the `!important` here to be able to override the default hidden behavior on the sphinx rendered scikit-learn.org. See: https://github.com/scikit-learn/scikit-learn/issues/21755 */display: inline-block !important;position: relative;}#sk-container-id-2 div.sk-text-repr-fallback {display: none;}</style><div id=\"sk-container-id-2\" class=\"sk-top-container\"><div class=\"sk-text-repr-fallback\"><pre>GradientBoostingRegressor(random_state=42)</pre><b>In a Jupyter environment, please rerun this cell to show the HTML representation or trust the notebook. <br />On GitHub, the HTML representation is unable to render, please try loading this page with nbviewer.org.</b></div><div class=\"sk-container\" hidden><div class=\"sk-item\"><div class=\"sk-estimator sk-toggleable\"><input class=\"sk-toggleable__control sk-hidden--visually\" id=\"sk-estimator-id-2\" type=\"checkbox\" checked><label for=\"sk-estimator-id-2\" class=\"sk-toggleable__label sk-toggleable__label-arrow\">GradientBoostingRegressor</label><div class=\"sk-toggleable__content\"><pre>GradientBoostingRegressor(random_state=42)</pre></div></div></div></div></div>"
      ],
      "text/plain": [
       "GradientBoostingRegressor(random_state=42)"
      ]
     },
     "execution_count": 92,
     "metadata": {},
     "output_type": "execute_result"
    }
   ],
   "source": [
    "base_GB_DK.fit(X_DK_train_scaled, y_DK_train)"
   ]
  },
  {
   "cell_type": "code",
   "execution_count": 93,
   "id": "cbd9be70-17e2-4aaa-bce7-316f34bd89e9",
   "metadata": {},
   "outputs": [],
   "source": [
    "y_pred = base_GB_DK.predict(X_DK_test_scaled)"
   ]
  },
  {
   "cell_type": "code",
   "execution_count": 94,
   "id": "93e6e467-dc5f-4cba-908e-4d02de69dd0b",
   "metadata": {},
   "outputs": [
    {
     "name": "stdout",
     "output_type": "stream",
     "text": [
      "Base GB R_squared_train: 0.3277394606904285\n",
      "Base GB R_squared_test: 0.3066739883846069\n",
      "Base GB MAE: 4.960263375038516\n",
      "Base GB MSE: 44.825084289891095\n",
      "Base GB RMSE: 6.6951537913546915\n"
     ]
    }
   ],
   "source": [
    "print(f\"Base GB R_squared_train: {base_GB_DK.score(X_DK_train_scaled, y_DK_train)}\")\n",
    "print(f\"Base GB R_squared_test: {base_GB_DK.score(X_DK_test_scaled, y_DK_test)}\")\n",
    "print(f\"Base GB MAE: {mean_absolute_error(y_DK_test, y_pred)}\")\n",
    "print(f\"Base GB MSE: {mean_squared_error(y_DK_test, y_pred)}\")\n",
    "print(f\"Base GB RMSE: {mean_squared_error(y_DK_test, y_pred, squared = False)}\")"
   ]
  },
  {
   "cell_type": "code",
   "execution_count": 95,
   "id": "7727db9d-5c81-4313-ac2b-d990bc0d4623",
   "metadata": {},
   "outputs": [],
   "source": [
    "param_dist = {\n",
    "    'n_estimators': [100, 300, 500],\n",
    "    'learning_rate': [0.001, 0.01, 0.05, 0.1, 0.2, 0.3],  # Expanded learning rates\n",
    "    'max_depth': [4, 6, 8]\n",
    "}"
   ]
  },
  {
   "cell_type": "code",
   "execution_count": 96,
   "id": "717e87d7-fe20-43f1-83cf-37422254811f",
   "metadata": {},
   "outputs": [
    {
     "name": "stdout",
     "output_type": "stream",
     "text": [
      "Fitting 3 folds for each of 18 candidates, totalling 54 fits\n",
      "Tuned Gradient Boost Best Estimator: GradientBoostingRegressor(learning_rate=0.01, max_depth=4, n_estimators=500,\n",
      "                          random_state=42)\n",
      "Tuned Gradient Boost Best Score: -6.79868533901557\n",
      "Tuned Gradient Boost Best Params: {'n_estimators': 500, 'max_depth': 4, 'learning_rate': 0.01}\n"
     ]
    }
   ],
   "source": [
    "GB_CV_DK = RandomizedSearchCV(base_GB_DK, param_dist, scoring=rmse_scorer, cv = 3, n_iter = 18, n_jobs = 6, verbose = 3)\n",
    "GB_CV_DK.fit(X_DK_train_scaled, y_DK_train)\n",
    "best_params = GB_CV_DK.best_params_\n",
    "print(f\"Tuned Gradient Boost Best Estimator: {GB_CV_DK.best_estimator_}\")\n",
    "print(f\"Tuned Gradient Boost Best Score: {GB_CV_DK.best_score_}\")\n",
    "print(f\"Tuned Gradient Boost Best Params: {best_params}\")"
   ]
  },
  {
   "cell_type": "code",
   "execution_count": 97,
   "id": "389bc452-96c4-403d-8b91-3ac7fdcddf5a",
   "metadata": {},
   "outputs": [
    {
     "name": "stdout",
     "output_type": "stream",
     "text": [
      "Best_GB Train R-squared: 0.3337526325017415\n",
      "Best_GB Test R-squared: 0.30789600677571527\n",
      "Best_GB MAE: 4.969178948086518\n",
      "Best_GB RMSE: 6.6892509338114206\n",
      "Best_GB MSE: 44.746078055496966\n"
     ]
    }
   ],
   "source": [
    "best_GB_DK = GradientBoostingRegressor(max_depth=4, n_estimators=500, learning_rate = 0.01, random_state=42)\n",
    "best_GB_DK.fit(X_DK_train_scaled, y_DK_train)  # Correct the variable name for consistency\n",
    "y_pred = best_GB_DK.predict(X_DK_test_scaled)  # Correct the variable name for consistency\n",
    "\n",
    "best_rmse = mean_squared_error(y_DK_test, y_pred, squared=False)\n",
    "print(f\"Best_GB Train R-squared: {best_GB_DK.score(X_DK_train_scaled, y_DK_train)}\")\n",
    "print(f\"Best_GB Test R-squared: {best_GB_DK.score(X_DK_test_scaled, y_DK_test)}\")\n",
    "print(f\"Best_GB MAE: {mean_absolute_error(y_DK_test, y_pred)}\")\n",
    "print(f\"Best_GB RMSE: {best_rmse}\")\n",
    "print(f\"Best_GB MSE: {mean_squared_error(y_DK_test, y_pred)}\")"
   ]
  },
  {
   "cell_type": "code",
   "execution_count": 390,
   "id": "8a744fef-578c-4812-8318-f18439a82eff",
   "metadata": {},
   "outputs": [],
   "source": [
    "# error_dict_DK['Gradient_Boost'] = {'best_params': best_params, 'best_rmse': best_rmse}"
   ]
  },
  {
   "cell_type": "code",
   "execution_count": 391,
   "id": "ecd5e0b4-fb1c-4b84-9438-fbf24a1b8452",
   "metadata": {},
   "outputs": [
    {
     "data": {
      "text/plain": [
       "defaultdict(float,\n",
       "            {'KNN': {'best_params': {'n_neighbors': 35},\n",
       "              'best_rmse': 7.704548048681453},\n",
       "             'Linear_Regression': {'best_params': {'alpha': 24.565306122448984},\n",
       "              'best_rmse': 7.470141938786919},\n",
       "             'Random_Forest': {'best_params': {'n_estimators': 500,\n",
       "               'min_samples_split': 2,\n",
       "               'min_samples_leaf': 4,\n",
       "               'max_depth': 6},\n",
       "              'best_rmse': 7.405278678453883},\n",
       "             'Gradient_Boost': {'best_params': {'n_estimators': 100,\n",
       "               'max_depth': 2,\n",
       "               'learning_rate': 0.1},\n",
       "              'best_rmse': 7.44117424990967}})"
      ]
     },
     "execution_count": 391,
     "metadata": {},
     "output_type": "execute_result"
    }
   ],
   "source": [
    "# error_dict_DK"
   ]
  },
  {
   "cell_type": "markdown",
   "id": "7141b5d7-488f-4757-8f93-2b994ed76497",
   "metadata": {},
   "source": [
    "## FanDuel"
   ]
  },
  {
   "cell_type": "code",
   "execution_count": 98,
   "id": "6d669f2f-4c9c-4f0d-9389-fc258e2d1193",
   "metadata": {},
   "outputs": [],
   "source": [
    "base_GB_FD = GradientBoostingRegressor(random_state = 42)"
   ]
  },
  {
   "cell_type": "code",
   "execution_count": 99,
   "id": "fc5075a2-c361-470e-bd91-ae605a10776c",
   "metadata": {},
   "outputs": [
    {
     "name": "stderr",
     "output_type": "stream",
     "text": [
      "C:\\Users\\Owner\\anaconda3\\envs\\nfl_dfs_model\\lib\\site-packages\\sklearn\\ensemble\\_gb.py:424: DataConversionWarning: A column-vector y was passed when a 1d array was expected. Please change the shape of y to (n_samples, ), for example using ravel().\n",
      "  y = column_or_1d(y, warn=True)\n"
     ]
    },
    {
     "data": {
      "text/html": [
       "<style>#sk-container-id-3 {color: black;}#sk-container-id-3 pre{padding: 0;}#sk-container-id-3 div.sk-toggleable {background-color: white;}#sk-container-id-3 label.sk-toggleable__label {cursor: pointer;display: block;width: 100%;margin-bottom: 0;padding: 0.3em;box-sizing: border-box;text-align: center;}#sk-container-id-3 label.sk-toggleable__label-arrow:before {content: \"▸\";float: left;margin-right: 0.25em;color: #696969;}#sk-container-id-3 label.sk-toggleable__label-arrow:hover:before {color: black;}#sk-container-id-3 div.sk-estimator:hover label.sk-toggleable__label-arrow:before {color: black;}#sk-container-id-3 div.sk-toggleable__content {max-height: 0;max-width: 0;overflow: hidden;text-align: left;background-color: #f0f8ff;}#sk-container-id-3 div.sk-toggleable__content pre {margin: 0.2em;color: black;border-radius: 0.25em;background-color: #f0f8ff;}#sk-container-id-3 input.sk-toggleable__control:checked~div.sk-toggleable__content {max-height: 200px;max-width: 100%;overflow: auto;}#sk-container-id-3 input.sk-toggleable__control:checked~label.sk-toggleable__label-arrow:before {content: \"▾\";}#sk-container-id-3 div.sk-estimator input.sk-toggleable__control:checked~label.sk-toggleable__label {background-color: #d4ebff;}#sk-container-id-3 div.sk-label input.sk-toggleable__control:checked~label.sk-toggleable__label {background-color: #d4ebff;}#sk-container-id-3 input.sk-hidden--visually {border: 0;clip: rect(1px 1px 1px 1px);clip: rect(1px, 1px, 1px, 1px);height: 1px;margin: -1px;overflow: hidden;padding: 0;position: absolute;width: 1px;}#sk-container-id-3 div.sk-estimator {font-family: monospace;background-color: #f0f8ff;border: 1px dotted black;border-radius: 0.25em;box-sizing: border-box;margin-bottom: 0.5em;}#sk-container-id-3 div.sk-estimator:hover {background-color: #d4ebff;}#sk-container-id-3 div.sk-parallel-item::after {content: \"\";width: 100%;border-bottom: 1px solid gray;flex-grow: 1;}#sk-container-id-3 div.sk-label:hover label.sk-toggleable__label {background-color: #d4ebff;}#sk-container-id-3 div.sk-serial::before {content: \"\";position: absolute;border-left: 1px solid gray;box-sizing: border-box;top: 0;bottom: 0;left: 50%;z-index: 0;}#sk-container-id-3 div.sk-serial {display: flex;flex-direction: column;align-items: center;background-color: white;padding-right: 0.2em;padding-left: 0.2em;position: relative;}#sk-container-id-3 div.sk-item {position: relative;z-index: 1;}#sk-container-id-3 div.sk-parallel {display: flex;align-items: stretch;justify-content: center;background-color: white;position: relative;}#sk-container-id-3 div.sk-item::before, #sk-container-id-3 div.sk-parallel-item::before {content: \"\";position: absolute;border-left: 1px solid gray;box-sizing: border-box;top: 0;bottom: 0;left: 50%;z-index: -1;}#sk-container-id-3 div.sk-parallel-item {display: flex;flex-direction: column;z-index: 1;position: relative;background-color: white;}#sk-container-id-3 div.sk-parallel-item:first-child::after {align-self: flex-end;width: 50%;}#sk-container-id-3 div.sk-parallel-item:last-child::after {align-self: flex-start;width: 50%;}#sk-container-id-3 div.sk-parallel-item:only-child::after {width: 0;}#sk-container-id-3 div.sk-dashed-wrapped {border: 1px dashed gray;margin: 0 0.4em 0.5em 0.4em;box-sizing: border-box;padding-bottom: 0.4em;background-color: white;}#sk-container-id-3 div.sk-label label {font-family: monospace;font-weight: bold;display: inline-block;line-height: 1.2em;}#sk-container-id-3 div.sk-label-container {text-align: center;}#sk-container-id-3 div.sk-container {/* jupyter's `normalize.less` sets `[hidden] { display: none; }` but bootstrap.min.css set `[hidden] { display: none !important; }` so we also need the `!important` here to be able to override the default hidden behavior on the sphinx rendered scikit-learn.org. See: https://github.com/scikit-learn/scikit-learn/issues/21755 */display: inline-block !important;position: relative;}#sk-container-id-3 div.sk-text-repr-fallback {display: none;}</style><div id=\"sk-container-id-3\" class=\"sk-top-container\"><div class=\"sk-text-repr-fallback\"><pre>GradientBoostingRegressor(random_state=42)</pre><b>In a Jupyter environment, please rerun this cell to show the HTML representation or trust the notebook. <br />On GitHub, the HTML representation is unable to render, please try loading this page with nbviewer.org.</b></div><div class=\"sk-container\" hidden><div class=\"sk-item\"><div class=\"sk-estimator sk-toggleable\"><input class=\"sk-toggleable__control sk-hidden--visually\" id=\"sk-estimator-id-3\" type=\"checkbox\" checked><label for=\"sk-estimator-id-3\" class=\"sk-toggleable__label sk-toggleable__label-arrow\">GradientBoostingRegressor</label><div class=\"sk-toggleable__content\"><pre>GradientBoostingRegressor(random_state=42)</pre></div></div></div></div></div>"
      ],
      "text/plain": [
       "GradientBoostingRegressor(random_state=42)"
      ]
     },
     "execution_count": 99,
     "metadata": {},
     "output_type": "execute_result"
    }
   ],
   "source": [
    "base_GB_FD.fit(X_FD_train_scaled, y_FD_train)"
   ]
  },
  {
   "cell_type": "code",
   "execution_count": 100,
   "id": "a69f0988-c68f-4485-a1be-92d46d04019e",
   "metadata": {},
   "outputs": [],
   "source": [
    "y_pred = base_GB_FD.predict(X_FD_test_scaled)"
   ]
  },
  {
   "cell_type": "code",
   "execution_count": 101,
   "id": "9f90c1d8-3148-4a2a-9a47-7ceee0b54641",
   "metadata": {},
   "outputs": [
    {
     "name": "stdout",
     "output_type": "stream",
     "text": [
      "Base GB R_squared_train: 0.3173687856165539\n",
      "Base GB R_squared_test: 0.2947525202531307\n",
      "Base GB MAE: 4.231682018699661\n",
      "Base GB MSE: 32.25119990555209\n",
      "Base GB RMSE: 5.679013990610702\n"
     ]
    }
   ],
   "source": [
    "print(f\"Base GB R_squared_train: {base_GB_FD.score(X_FD_train_scaled, y_FD_train)}\")\n",
    "print(f\"Base GB R_squared_test: {base_GB_FD.score(X_FD_test_scaled, y_FD_test)}\")\n",
    "print(f\"Base GB MAE: {mean_absolute_error(y_FD_test, y_pred)}\")\n",
    "print(f\"Base GB MSE: {mean_squared_error(y_FD_test, y_pred)}\")\n",
    "print(f\"Base GB RMSE: {mean_squared_error(y_FD_test, y_pred, squared = False)}\")"
   ]
  },
  {
   "cell_type": "code",
   "execution_count": 102,
   "id": "74a0e77b-f15a-4ad2-ab7a-729db555241a",
   "metadata": {},
   "outputs": [],
   "source": [
    "param_dist = {\n",
    "    'n_estimators': [100, 300, 500],\n",
    "    'learning_rate': [0.001, 0.01, 0.05, 0.1, 0.2, 0.3],  # Expanded learning rates\n",
    "    'max_depth': [4, 6, 8]\n",
    "}"
   ]
  },
  {
   "cell_type": "code",
   "execution_count": 103,
   "id": "baa061ca-4297-4436-93a6-43292cb3e9ac",
   "metadata": {},
   "outputs": [
    {
     "name": "stdout",
     "output_type": "stream",
     "text": [
      "Fitting 3 folds for each of 18 candidates, totalling 54 fits\n"
     ]
    },
    {
     "name": "stderr",
     "output_type": "stream",
     "text": [
      "C:\\Users\\Owner\\anaconda3\\envs\\nfl_dfs_model\\lib\\site-packages\\sklearn\\ensemble\\_gb.py:424: DataConversionWarning: A column-vector y was passed when a 1d array was expected. Please change the shape of y to (n_samples, ), for example using ravel().\n",
      "  y = column_or_1d(y, warn=True)\n"
     ]
    },
    {
     "name": "stdout",
     "output_type": "stream",
     "text": [
      "Tuned Gradient Boost Best Estimator: GradientBoostingRegressor(learning_rate=0.01, max_depth=4, n_estimators=500,\n",
      "                          random_state=42)\n",
      "Tuned Gradient Boost Best Score: -5.760182092404126\n",
      "Tuned Gradient Boost Best Params: {'n_estimators': 500, 'max_depth': 4, 'learning_rate': 0.01}\n"
     ]
    }
   ],
   "source": [
    "GB_CV_FD = RandomizedSearchCV(base_GB_FD, param_dist, scoring=rmse_scorer, cv = 3, n_iter = 18, n_jobs = 6, verbose = 3)\n",
    "GB_CV_FD.fit(X_FD_train_scaled, y_FD_train)\n",
    "best_params = GB_CV_FD.best_params_\n",
    "print(f\"Tuned Gradient Boost Best Estimator: {GB_CV_FD.best_estimator_}\")\n",
    "print(f\"Tuned Gradient Boost Best Score: {GB_CV_FD.best_score_}\")\n",
    "print(f\"Tuned Gradient Boost Best Params: {best_params}\")"
   ]
  },
  {
   "cell_type": "code",
   "execution_count": 104,
   "id": "71785e21-7c96-4de6-9759-1758da68df53",
   "metadata": {},
   "outputs": [
    {
     "name": "stderr",
     "output_type": "stream",
     "text": [
      "C:\\Users\\Owner\\anaconda3\\envs\\nfl_dfs_model\\lib\\site-packages\\sklearn\\ensemble\\_gb.py:424: DataConversionWarning: A column-vector y was passed when a 1d array was expected. Please change the shape of y to (n_samples, ), for example using ravel().\n",
      "  y = column_or_1d(y, warn=True)\n"
     ]
    },
    {
     "name": "stdout",
     "output_type": "stream",
     "text": [
      "Best_GB Train R-squared: 0.32304697289018935\n",
      "Best_GB Test R-squared: 0.2954862267672601\n",
      "Best_GB MAE: 4.236497715331216\n",
      "Best_GB RMSE: 5.676059131529178\n",
      "Best_GB MSE: 32.21764726461577\n"
     ]
    }
   ],
   "source": [
    "best_GB_FD = GradientBoostingRegressor(max_depth=4, n_estimators=500, learning_rate = 0.01, random_state=42)\n",
    "best_GB_FD.fit(X_FD_train_scaled, y_FD_train)  # Correct the variable name for consistency\n",
    "y_pred = best_GB_FD.predict(X_FD_test_scaled)  # Correct the variable name for consistency\n",
    "\n",
    "best_rmse = mean_squared_error(y_FD_test, y_pred, squared=False)\n",
    "print(f\"Best_GB Train R-squared: {best_GB_FD.score(X_FD_train_scaled, y_FD_train)}\")\n",
    "print(f\"Best_GB Test R-squared: {best_GB_FD.score(X_FD_test_scaled, y_FD_test)}\")\n",
    "print(f\"Best_GB MAE: {mean_absolute_error(y_FD_test, y_pred)}\")\n",
    "print(f\"Best_GB RMSE: {best_rmse}\")\n",
    "print(f\"Best_GB MSE: {mean_squared_error(y_FD_test, y_pred)}\")"
   ]
  },
  {
   "cell_type": "code",
   "execution_count": 400,
   "id": "8f6b09e3-d790-473a-a83d-a351db83b426",
   "metadata": {},
   "outputs": [],
   "source": [
    "# error_dict_FD['Gradient_Boost'] = {'best_params': best_params, 'best_rmse': best_rmse}"
   ]
  },
  {
   "cell_type": "code",
   "execution_count": 401,
   "id": "fc3bcb9f-3043-41bd-a8c4-c379422e6958",
   "metadata": {},
   "outputs": [
    {
     "data": {
      "text/plain": [
       "defaultdict(float,\n",
       "            {'KNN': {'best_params': {'n_neighbors': 35},\n",
       "              'best_rmse': 7.077679118367947},\n",
       "             'Linear_Regression': {'best_params': {'alpha': 36.79795918367348},\n",
       "              'best_rmse': 6.851643471593359},\n",
       "             'Random_Forest': {'best_params': {'n_estimators': 300,\n",
       "               'min_samples_split': 5,\n",
       "               'min_samples_leaf': 4,\n",
       "               'max_depth': 6},\n",
       "              'best_rmse': 6.794550117882793},\n",
       "             'Gradient_Boost': {'best_params': {'n_estimators': 100,\n",
       "               'max_depth': 2,\n",
       "               'learning_rate': 0.05},\n",
       "              'best_rmse': 6.837069043873724}})"
      ]
     },
     "execution_count": 401,
     "metadata": {},
     "output_type": "execute_result"
    }
   ],
   "source": [
    "# error_dict_FD"
   ]
  },
  {
   "cell_type": "code",
   "execution_count": null,
   "id": "7c5edcc5-d5db-4354-b66d-ceb80369b02e",
   "metadata": {},
   "outputs": [],
   "source": []
  },
  {
   "cell_type": "markdown",
   "id": "a76bfdfb-f33a-4712-832b-c90d7980ee5b",
   "metadata": {},
   "source": [
    "# XGBoost"
   ]
  },
  {
   "cell_type": "markdown",
   "id": "7cc1c918-cffb-454e-86fc-fa8b3b07c561",
   "metadata": {},
   "source": [
    "## FanDuel"
   ]
  },
  {
   "cell_type": "code",
   "execution_count": 105,
   "id": "482dd171-e9dd-465a-b7ed-b7150e356f08",
   "metadata": {},
   "outputs": [],
   "source": [
    "import xgboost as xgb"
   ]
  },
  {
   "cell_type": "code",
   "execution_count": 106,
   "id": "d6ba790a-968d-4233-9697-5aa4831ba143",
   "metadata": {},
   "outputs": [],
   "source": [
    "base_XGB_FD = xgb.XGBRegressor(objective='reg:squarederror', random_state=42)"
   ]
  },
  {
   "cell_type": "code",
   "execution_count": 107,
   "id": "8fd6d63b-53eb-4531-bc91-139df34fac81",
   "metadata": {},
   "outputs": [
    {
     "data": {
      "text/html": [
       "<style>#sk-container-id-4 {color: black;}#sk-container-id-4 pre{padding: 0;}#sk-container-id-4 div.sk-toggleable {background-color: white;}#sk-container-id-4 label.sk-toggleable__label {cursor: pointer;display: block;width: 100%;margin-bottom: 0;padding: 0.3em;box-sizing: border-box;text-align: center;}#sk-container-id-4 label.sk-toggleable__label-arrow:before {content: \"▸\";float: left;margin-right: 0.25em;color: #696969;}#sk-container-id-4 label.sk-toggleable__label-arrow:hover:before {color: black;}#sk-container-id-4 div.sk-estimator:hover label.sk-toggleable__label-arrow:before {color: black;}#sk-container-id-4 div.sk-toggleable__content {max-height: 0;max-width: 0;overflow: hidden;text-align: left;background-color: #f0f8ff;}#sk-container-id-4 div.sk-toggleable__content pre {margin: 0.2em;color: black;border-radius: 0.25em;background-color: #f0f8ff;}#sk-container-id-4 input.sk-toggleable__control:checked~div.sk-toggleable__content {max-height: 200px;max-width: 100%;overflow: auto;}#sk-container-id-4 input.sk-toggleable__control:checked~label.sk-toggleable__label-arrow:before {content: \"▾\";}#sk-container-id-4 div.sk-estimator input.sk-toggleable__control:checked~label.sk-toggleable__label {background-color: #d4ebff;}#sk-container-id-4 div.sk-label input.sk-toggleable__control:checked~label.sk-toggleable__label {background-color: #d4ebff;}#sk-container-id-4 input.sk-hidden--visually {border: 0;clip: rect(1px 1px 1px 1px);clip: rect(1px, 1px, 1px, 1px);height: 1px;margin: -1px;overflow: hidden;padding: 0;position: absolute;width: 1px;}#sk-container-id-4 div.sk-estimator {font-family: monospace;background-color: #f0f8ff;border: 1px dotted black;border-radius: 0.25em;box-sizing: border-box;margin-bottom: 0.5em;}#sk-container-id-4 div.sk-estimator:hover {background-color: #d4ebff;}#sk-container-id-4 div.sk-parallel-item::after {content: \"\";width: 100%;border-bottom: 1px solid gray;flex-grow: 1;}#sk-container-id-4 div.sk-label:hover label.sk-toggleable__label {background-color: #d4ebff;}#sk-container-id-4 div.sk-serial::before {content: \"\";position: absolute;border-left: 1px solid gray;box-sizing: border-box;top: 0;bottom: 0;left: 50%;z-index: 0;}#sk-container-id-4 div.sk-serial {display: flex;flex-direction: column;align-items: center;background-color: white;padding-right: 0.2em;padding-left: 0.2em;position: relative;}#sk-container-id-4 div.sk-item {position: relative;z-index: 1;}#sk-container-id-4 div.sk-parallel {display: flex;align-items: stretch;justify-content: center;background-color: white;position: relative;}#sk-container-id-4 div.sk-item::before, #sk-container-id-4 div.sk-parallel-item::before {content: \"\";position: absolute;border-left: 1px solid gray;box-sizing: border-box;top: 0;bottom: 0;left: 50%;z-index: -1;}#sk-container-id-4 div.sk-parallel-item {display: flex;flex-direction: column;z-index: 1;position: relative;background-color: white;}#sk-container-id-4 div.sk-parallel-item:first-child::after {align-self: flex-end;width: 50%;}#sk-container-id-4 div.sk-parallel-item:last-child::after {align-self: flex-start;width: 50%;}#sk-container-id-4 div.sk-parallel-item:only-child::after {width: 0;}#sk-container-id-4 div.sk-dashed-wrapped {border: 1px dashed gray;margin: 0 0.4em 0.5em 0.4em;box-sizing: border-box;padding-bottom: 0.4em;background-color: white;}#sk-container-id-4 div.sk-label label {font-family: monospace;font-weight: bold;display: inline-block;line-height: 1.2em;}#sk-container-id-4 div.sk-label-container {text-align: center;}#sk-container-id-4 div.sk-container {/* jupyter's `normalize.less` sets `[hidden] { display: none; }` but bootstrap.min.css set `[hidden] { display: none !important; }` so we also need the `!important` here to be able to override the default hidden behavior on the sphinx rendered scikit-learn.org. See: https://github.com/scikit-learn/scikit-learn/issues/21755 */display: inline-block !important;position: relative;}#sk-container-id-4 div.sk-text-repr-fallback {display: none;}</style><div id=\"sk-container-id-4\" class=\"sk-top-container\"><div class=\"sk-text-repr-fallback\"><pre>XGBRegressor(base_score=None, booster=None, callbacks=None,\n",
       "             colsample_bylevel=None, colsample_bynode=None,\n",
       "             colsample_bytree=None, device=None, early_stopping_rounds=None,\n",
       "             enable_categorical=False, eval_metric=None, feature_types=None,\n",
       "             gamma=None, grow_policy=None, importance_type=None,\n",
       "             interaction_constraints=None, learning_rate=None, max_bin=None,\n",
       "             max_cat_threshold=None, max_cat_to_onehot=None,\n",
       "             max_delta_step=None, max_depth=None, max_leaves=None,\n",
       "             min_child_weight=None, missing=nan, monotone_constraints=None,\n",
       "             multi_strategy=None, n_estimators=None, n_jobs=None,\n",
       "             num_parallel_tree=None, random_state=42, ...)</pre><b>In a Jupyter environment, please rerun this cell to show the HTML representation or trust the notebook. <br />On GitHub, the HTML representation is unable to render, please try loading this page with nbviewer.org.</b></div><div class=\"sk-container\" hidden><div class=\"sk-item\"><div class=\"sk-estimator sk-toggleable\"><input class=\"sk-toggleable__control sk-hidden--visually\" id=\"sk-estimator-id-4\" type=\"checkbox\" checked><label for=\"sk-estimator-id-4\" class=\"sk-toggleable__label sk-toggleable__label-arrow\">XGBRegressor</label><div class=\"sk-toggleable__content\"><pre>XGBRegressor(base_score=None, booster=None, callbacks=None,\n",
       "             colsample_bylevel=None, colsample_bynode=None,\n",
       "             colsample_bytree=None, device=None, early_stopping_rounds=None,\n",
       "             enable_categorical=False, eval_metric=None, feature_types=None,\n",
       "             gamma=None, grow_policy=None, importance_type=None,\n",
       "             interaction_constraints=None, learning_rate=None, max_bin=None,\n",
       "             max_cat_threshold=None, max_cat_to_onehot=None,\n",
       "             max_delta_step=None, max_depth=None, max_leaves=None,\n",
       "             min_child_weight=None, missing=nan, monotone_constraints=None,\n",
       "             multi_strategy=None, n_estimators=None, n_jobs=None,\n",
       "             num_parallel_tree=None, random_state=42, ...)</pre></div></div></div></div></div>"
      ],
      "text/plain": [
       "XGBRegressor(base_score=None, booster=None, callbacks=None,\n",
       "             colsample_bylevel=None, colsample_bynode=None,\n",
       "             colsample_bytree=None, device=None, early_stopping_rounds=None,\n",
       "             enable_categorical=False, eval_metric=None, feature_types=None,\n",
       "             gamma=None, grow_policy=None, importance_type=None,\n",
       "             interaction_constraints=None, learning_rate=None, max_bin=None,\n",
       "             max_cat_threshold=None, max_cat_to_onehot=None,\n",
       "             max_delta_step=None, max_depth=None, max_leaves=None,\n",
       "             min_child_weight=None, missing=nan, monotone_constraints=None,\n",
       "             multi_strategy=None, n_estimators=None, n_jobs=None,\n",
       "             num_parallel_tree=None, random_state=42, ...)"
      ]
     },
     "execution_count": 107,
     "metadata": {},
     "output_type": "execute_result"
    }
   ],
   "source": [
    "# Fit the best model on the training data\n",
    "base_XGB_FD.fit(X_FD_train_scaled, y_FD_train)"
   ]
  },
  {
   "cell_type": "code",
   "execution_count": 108,
   "id": "beae3cc6-fe96-4076-adf3-a71a734d5587",
   "metadata": {},
   "outputs": [],
   "source": [
    "# Make predictions on the test data\n",
    "y_pred = base_XGB_FD.predict(X_FD_test_scaled)"
   ]
  },
  {
   "cell_type": "code",
   "execution_count": 109,
   "id": "d3c605ea-fd40-4ecb-b19c-aa1a9fed3a3d",
   "metadata": {},
   "outputs": [
    {
     "name": "stdout",
     "output_type": "stream",
     "text": [
      "Base XGB R_squared_train: 0.6083049984671678\n",
      "Base XGB R_squared_test: 0.23894014367911398\n",
      "Base XGB MAE: 4.3696285401426564\n",
      "Base XGB MSE: 34.80351829843545\n",
      "Base XGB RMSE: 5.899450677684784\n"
     ]
    }
   ],
   "source": [
    "print(f\"Base XGB R_squared_train: {base_XGB_FD.score(X_FD_train_scaled, y_FD_train)}\")\n",
    "print(f\"Base XGB R_squared_test: {base_XGB_FD.score(X_FD_test_scaled, y_FD_test)}\")\n",
    "print(f\"Base XGB MAE: {mean_absolute_error(y_FD_test, y_pred)}\")\n",
    "print(f\"Base XGB MSE: {mean_squared_error(y_FD_test, y_pred)}\")\n",
    "print(f\"Base XGB RMSE: {mean_squared_error(y_FD_test, y_pred, squared=False)}\")"
   ]
  },
  {
   "cell_type": "code",
   "execution_count": 110,
   "id": "155e3872-7f1e-4418-980e-6236740066e1",
   "metadata": {},
   "outputs": [],
   "source": [
    "param_dist = {\n",
    "    'n_estimators': [300, 500, 700],\n",
    "    'learning_rate': [0.01, 0.05, 0.1, 0.2, 0.3],\n",
    "    'max_depth': [2, 4, 6],\n",
    "    'subsample': [0.6, 0.8, 1.0],\n",
    "    'colsample_bytree': [0.6, 0.8, 1.0],\n",
    "    'gamma': [0, 0.1, 0.3],\n",
    "    'reg_alpha': [0, 0.01, 0.1],\n",
    "    'reg_lambda': [1, 1.5, 2]\n",
    "}"
   ]
  },
  {
   "cell_type": "code",
   "execution_count": 111,
   "id": "4d86c24d-b7f5-48b0-9a16-61a66ff11c38",
   "metadata": {},
   "outputs": [
    {
     "name": "stdout",
     "output_type": "stream",
     "text": [
      "Fitting 3 folds for each of 100 candidates, totalling 300 fits\n",
      "Tuned XGBoost Best Estimator: XGBRegressor(base_score=None, booster=None, callbacks=None,\n",
      "             colsample_bylevel=None, colsample_bynode=None,\n",
      "             colsample_bytree=1.0, device=None, early_stopping_rounds=None,\n",
      "             enable_categorical=False, eval_metric=None, feature_types=None,\n",
      "             gamma=0, grow_policy=None, importance_type=None,\n",
      "             interaction_constraints=None, learning_rate=0.01, max_bin=None,\n",
      "             max_cat_threshold=None, max_cat_to_onehot=None,\n",
      "             max_delta_step=None, max_depth=4, max_leaves=None,\n",
      "             min_child_weight=None, missing=nan, monotone_constraints=None,\n",
      "             multi_strategy=None, n_estimators=500, n_jobs=None,\n",
      "             num_parallel_tree=None, random_state=42, ...)\n",
      "Tuned XGBoost Best Score: -5.754595860304164\n",
      "Tuned XGBoost Best Params: {'subsample': 0.8, 'reg_lambda': 1.5, 'reg_alpha': 0.1, 'n_estimators': 500, 'max_depth': 4, 'learning_rate': 0.01, 'gamma': 0, 'colsample_bytree': 1.0}\n"
     ]
    }
   ],
   "source": [
    "# Set up the GridSearchCV with XGBoost\n",
    "XGB_CV_FD = RandomizedSearchCV(base_XGB_FD, param_dist, scoring=rmse_scorer, n_iter = 100, cv=3, n_jobs=6, verbose=3)\n",
    "XGB_CV_FD.fit(X_FD_train_scaled, y_FD_train)\n",
    "best_params = XGB_CV_FD.best_params_\n",
    "print(f\"Tuned XGBoost Best Estimator: {XGB_CV_FD.best_estimator_}\")\n",
    "print(f\"Tuned XGBoost Best Score: {XGB_CV_FD.best_score_}\")\n",
    "print(f\"Tuned XGBoost Best Params: {best_params}\")"
   ]
  },
  {
   "cell_type": "code",
   "execution_count": 112,
   "id": "c65309f9-9c2d-4164-86f2-755714e452f6",
   "metadata": {},
   "outputs": [],
   "source": [
    "best_XGB_FD = xgb.XGBRegressor(max_depth=4, n_estimators=500, learning_rate=0.01,\\\n",
    "                               subsample = 0.8, reg_lambda = 1.5, reg_alpha = 0.1,\\\n",
    "                               gamma = 0, colsample_bytree = 1.0, objective='reg:squarederror', random_state=42)"
   ]
  },
  {
   "cell_type": "code",
   "execution_count": 113,
   "id": "af77ab66-cbf4-424b-8516-21428eadd256",
   "metadata": {},
   "outputs": [],
   "source": [
    "best_XGB_FD.fit(X_FD_train_scaled, y_FD_train)\n",
    "y_pred = best_XGB_FD.predict(X_FD_test_scaled)"
   ]
  },
  {
   "cell_type": "code",
   "execution_count": 114,
   "id": "cd4eff80-a884-4533-b57f-fee2438fb3dd",
   "metadata": {},
   "outputs": [
    {
     "name": "stdout",
     "output_type": "stream",
     "text": [
      "Best_XGB Train R-squared: 0.3213694002326647\n",
      "Best_XGB Test R-squared: 0.29848365212156247\n",
      "Best_XGB MAE: 4.22626695069495\n",
      "Best_XGB RMSE: 5.663971576052591\n",
      "Best_XGB MSE: 32.08057401433167\n"
     ]
    }
   ],
   "source": [
    "# Print evaluation metrics for the best model\n",
    "best_rmse = mean_squared_error(y_FD_test, y_pred, squared=False)\n",
    "print(f\"Best_XGB Train R-squared: {best_XGB_FD.score(X_FD_train_scaled, y_FD_train)}\")\n",
    "print(f\"Best_XGB Test R-squared: {best_XGB_FD.score(X_FD_test_scaled, y_FD_test)}\")\n",
    "print(f\"Best_XGB MAE: {mean_absolute_error(y_FD_test, y_pred)}\")\n",
    "print(f\"Best_XGB RMSE: {best_rmse}\")\n",
    "print(f\"Best_XGB MSE: {mean_squared_error(y_FD_test, y_pred)}\")"
   ]
  },
  {
   "cell_type": "code",
   "execution_count": 412,
   "id": "118eb9cf-93ef-4ddb-965d-a683ff16d009",
   "metadata": {},
   "outputs": [],
   "source": [
    "# error_dict_FD['XGBoost'] = {'best_params': best_params, 'best_rmse': best_rmse}"
   ]
  },
  {
   "cell_type": "code",
   "execution_count": 413,
   "id": "8434ba09-532c-4d4d-adeb-e4fde3e545e6",
   "metadata": {},
   "outputs": [
    {
     "data": {
      "text/plain": [
       "defaultdict(float,\n",
       "            {'KNN': {'best_params': {'n_neighbors': 35},\n",
       "              'best_rmse': 7.077679118367947},\n",
       "             'Linear_Regression': {'best_params': {'alpha': 36.79795918367348},\n",
       "              'best_rmse': 6.851643471593359},\n",
       "             'Random_Forest': {'best_params': {'n_estimators': 300,\n",
       "               'min_samples_split': 5,\n",
       "               'min_samples_leaf': 4,\n",
       "               'max_depth': 6},\n",
       "              'best_rmse': 6.794550117882793},\n",
       "             'Gradient_Boost': {'best_params': {'n_estimators': 100,\n",
       "               'max_depth': 2,\n",
       "               'learning_rate': 0.05},\n",
       "              'best_rmse': 6.837069043873724},\n",
       "             'XGBoost': {'best_params': {'subsample': 0.6,\n",
       "               'reg_lambda': 1.5,\n",
       "               'reg_alpha': 0.01,\n",
       "               'n_estimators': 100,\n",
       "               'max_depth': 2,\n",
       "               'learning_rate': 0.05,\n",
       "               'gamma': 0.3,\n",
       "               'colsample_bytree': 1.0},\n",
       "              'best_rmse': 6.825956219360698}})"
      ]
     },
     "execution_count": 413,
     "metadata": {},
     "output_type": "execute_result"
    }
   ],
   "source": [
    "# error_dict_FD"
   ]
  },
  {
   "cell_type": "code",
   "execution_count": 414,
   "id": "bf658b7c-7ae3-407e-8e67-3a240163ae94",
   "metadata": {},
   "outputs": [],
   "source": [
    "# errors_FD = pd.DataFrame(error_dict_FD)"
   ]
  },
  {
   "cell_type": "code",
   "execution_count": 415,
   "id": "15d553e2-1f24-4210-b36d-02c702b54521",
   "metadata": {},
   "outputs": [
    {
     "data": {
      "text/html": [
       "<div>\n",
       "<style scoped>\n",
       "    .dataframe tbody tr th:only-of-type {\n",
       "        vertical-align: middle;\n",
       "    }\n",
       "\n",
       "    .dataframe tbody tr th {\n",
       "        vertical-align: top;\n",
       "    }\n",
       "\n",
       "    .dataframe thead th {\n",
       "        text-align: right;\n",
       "    }\n",
       "</style>\n",
       "<table border=\"1\" class=\"dataframe\">\n",
       "  <thead>\n",
       "    <tr style=\"text-align: right;\">\n",
       "      <th></th>\n",
       "      <th>KNN</th>\n",
       "      <th>Linear_Regression</th>\n",
       "      <th>Random_Forest</th>\n",
       "      <th>Gradient_Boost</th>\n",
       "      <th>XGBoost</th>\n",
       "    </tr>\n",
       "  </thead>\n",
       "  <tbody>\n",
       "    <tr>\n",
       "      <th>best_params</th>\n",
       "      <td>{'n_neighbors': 35}</td>\n",
       "      <td>{'alpha': 36.79795918367348}</td>\n",
       "      <td>{'n_estimators': 300, 'min_samples_split': 5, ...</td>\n",
       "      <td>{'n_estimators': 100, 'max_depth': 2, 'learnin...</td>\n",
       "      <td>{'subsample': 0.6, 'reg_lambda': 1.5, 'reg_alp...</td>\n",
       "    </tr>\n",
       "    <tr>\n",
       "      <th>best_rmse</th>\n",
       "      <td>7.077679</td>\n",
       "      <td>6.851643</td>\n",
       "      <td>6.79455</td>\n",
       "      <td>6.837069</td>\n",
       "      <td>6.825956</td>\n",
       "    </tr>\n",
       "  </tbody>\n",
       "</table>\n",
       "</div>"
      ],
      "text/plain": [
       "                             KNN             Linear_Regression  \\\n",
       "best_params  {'n_neighbors': 35}  {'alpha': 36.79795918367348}   \n",
       "best_rmse               7.077679                      6.851643   \n",
       "\n",
       "                                                 Random_Forest  \\\n",
       "best_params  {'n_estimators': 300, 'min_samples_split': 5, ...   \n",
       "best_rmse                                              6.79455   \n",
       "\n",
       "                                                Gradient_Boost  \\\n",
       "best_params  {'n_estimators': 100, 'max_depth': 2, 'learnin...   \n",
       "best_rmse                                             6.837069   \n",
       "\n",
       "                                                       XGBoost  \n",
       "best_params  {'subsample': 0.6, 'reg_lambda': 1.5, 'reg_alp...  \n",
       "best_rmse                                             6.825956  "
      ]
     },
     "execution_count": 415,
     "metadata": {},
     "output_type": "execute_result"
    }
   ],
   "source": [
    "# errors_FD"
   ]
  },
  {
   "cell_type": "code",
   "execution_count": 416,
   "id": "18044c3d-40f0-40ed-be06-b3710384420a",
   "metadata": {},
   "outputs": [],
   "source": [
    "# errors_FD.to_csv('errors_FLEX_FD.csv', index = False)"
   ]
  },
  {
   "cell_type": "code",
   "execution_count": 425,
   "id": "a5f39485-9071-465d-aec3-7c5fa59dd425",
   "metadata": {},
   "outputs": [
    {
     "data": {
      "text/plain": [
       "{'subsample': 0.6,\n",
       " 'reg_lambda': 1.5,\n",
       " 'reg_alpha': 0.01,\n",
       " 'n_estimators': 100,\n",
       " 'max_depth': 2,\n",
       " 'learning_rate': 0.05,\n",
       " 'gamma': 0.3,\n",
       " 'colsample_bytree': 1.0}"
      ]
     },
     "execution_count": 425,
     "metadata": {},
     "output_type": "execute_result"
    }
   ],
   "source": [
    "# errors_FD.loc['best_params', 'XGBoost']"
   ]
  },
  {
   "cell_type": "markdown",
   "id": "6935d7b4-cd96-472f-a010-c0c969120c9d",
   "metadata": {},
   "source": [
    "## DraftKings"
   ]
  },
  {
   "cell_type": "code",
   "execution_count": 115,
   "id": "213a825a-8b6a-4fe5-862f-a3b85a752824",
   "metadata": {},
   "outputs": [],
   "source": [
    "base_XGB_DK = xgb.XGBRegressor(objective='reg:squarederror', random_state=42)"
   ]
  },
  {
   "cell_type": "code",
   "execution_count": 116,
   "id": "41c9d8ed-b926-4445-8e56-ab931ae4bd88",
   "metadata": {},
   "outputs": [
    {
     "data": {
      "text/html": [
       "<style>#sk-container-id-5 {color: black;}#sk-container-id-5 pre{padding: 0;}#sk-container-id-5 div.sk-toggleable {background-color: white;}#sk-container-id-5 label.sk-toggleable__label {cursor: pointer;display: block;width: 100%;margin-bottom: 0;padding: 0.3em;box-sizing: border-box;text-align: center;}#sk-container-id-5 label.sk-toggleable__label-arrow:before {content: \"▸\";float: left;margin-right: 0.25em;color: #696969;}#sk-container-id-5 label.sk-toggleable__label-arrow:hover:before {color: black;}#sk-container-id-5 div.sk-estimator:hover label.sk-toggleable__label-arrow:before {color: black;}#sk-container-id-5 div.sk-toggleable__content {max-height: 0;max-width: 0;overflow: hidden;text-align: left;background-color: #f0f8ff;}#sk-container-id-5 div.sk-toggleable__content pre {margin: 0.2em;color: black;border-radius: 0.25em;background-color: #f0f8ff;}#sk-container-id-5 input.sk-toggleable__control:checked~div.sk-toggleable__content {max-height: 200px;max-width: 100%;overflow: auto;}#sk-container-id-5 input.sk-toggleable__control:checked~label.sk-toggleable__label-arrow:before {content: \"▾\";}#sk-container-id-5 div.sk-estimator input.sk-toggleable__control:checked~label.sk-toggleable__label {background-color: #d4ebff;}#sk-container-id-5 div.sk-label input.sk-toggleable__control:checked~label.sk-toggleable__label {background-color: #d4ebff;}#sk-container-id-5 input.sk-hidden--visually {border: 0;clip: rect(1px 1px 1px 1px);clip: rect(1px, 1px, 1px, 1px);height: 1px;margin: -1px;overflow: hidden;padding: 0;position: absolute;width: 1px;}#sk-container-id-5 div.sk-estimator {font-family: monospace;background-color: #f0f8ff;border: 1px dotted black;border-radius: 0.25em;box-sizing: border-box;margin-bottom: 0.5em;}#sk-container-id-5 div.sk-estimator:hover {background-color: #d4ebff;}#sk-container-id-5 div.sk-parallel-item::after {content: \"\";width: 100%;border-bottom: 1px solid gray;flex-grow: 1;}#sk-container-id-5 div.sk-label:hover label.sk-toggleable__label {background-color: #d4ebff;}#sk-container-id-5 div.sk-serial::before {content: \"\";position: absolute;border-left: 1px solid gray;box-sizing: border-box;top: 0;bottom: 0;left: 50%;z-index: 0;}#sk-container-id-5 div.sk-serial {display: flex;flex-direction: column;align-items: center;background-color: white;padding-right: 0.2em;padding-left: 0.2em;position: relative;}#sk-container-id-5 div.sk-item {position: relative;z-index: 1;}#sk-container-id-5 div.sk-parallel {display: flex;align-items: stretch;justify-content: center;background-color: white;position: relative;}#sk-container-id-5 div.sk-item::before, #sk-container-id-5 div.sk-parallel-item::before {content: \"\";position: absolute;border-left: 1px solid gray;box-sizing: border-box;top: 0;bottom: 0;left: 50%;z-index: -1;}#sk-container-id-5 div.sk-parallel-item {display: flex;flex-direction: column;z-index: 1;position: relative;background-color: white;}#sk-container-id-5 div.sk-parallel-item:first-child::after {align-self: flex-end;width: 50%;}#sk-container-id-5 div.sk-parallel-item:last-child::after {align-self: flex-start;width: 50%;}#sk-container-id-5 div.sk-parallel-item:only-child::after {width: 0;}#sk-container-id-5 div.sk-dashed-wrapped {border: 1px dashed gray;margin: 0 0.4em 0.5em 0.4em;box-sizing: border-box;padding-bottom: 0.4em;background-color: white;}#sk-container-id-5 div.sk-label label {font-family: monospace;font-weight: bold;display: inline-block;line-height: 1.2em;}#sk-container-id-5 div.sk-label-container {text-align: center;}#sk-container-id-5 div.sk-container {/* jupyter's `normalize.less` sets `[hidden] { display: none; }` but bootstrap.min.css set `[hidden] { display: none !important; }` so we also need the `!important` here to be able to override the default hidden behavior on the sphinx rendered scikit-learn.org. See: https://github.com/scikit-learn/scikit-learn/issues/21755 */display: inline-block !important;position: relative;}#sk-container-id-5 div.sk-text-repr-fallback {display: none;}</style><div id=\"sk-container-id-5\" class=\"sk-top-container\"><div class=\"sk-text-repr-fallback\"><pre>XGBRegressor(base_score=None, booster=None, callbacks=None,\n",
       "             colsample_bylevel=None, colsample_bynode=None,\n",
       "             colsample_bytree=None, device=None, early_stopping_rounds=None,\n",
       "             enable_categorical=False, eval_metric=None, feature_types=None,\n",
       "             gamma=None, grow_policy=None, importance_type=None,\n",
       "             interaction_constraints=None, learning_rate=None, max_bin=None,\n",
       "             max_cat_threshold=None, max_cat_to_onehot=None,\n",
       "             max_delta_step=None, max_depth=None, max_leaves=None,\n",
       "             min_child_weight=None, missing=nan, monotone_constraints=None,\n",
       "             multi_strategy=None, n_estimators=None, n_jobs=None,\n",
       "             num_parallel_tree=None, random_state=42, ...)</pre><b>In a Jupyter environment, please rerun this cell to show the HTML representation or trust the notebook. <br />On GitHub, the HTML representation is unable to render, please try loading this page with nbviewer.org.</b></div><div class=\"sk-container\" hidden><div class=\"sk-item\"><div class=\"sk-estimator sk-toggleable\"><input class=\"sk-toggleable__control sk-hidden--visually\" id=\"sk-estimator-id-5\" type=\"checkbox\" checked><label for=\"sk-estimator-id-5\" class=\"sk-toggleable__label sk-toggleable__label-arrow\">XGBRegressor</label><div class=\"sk-toggleable__content\"><pre>XGBRegressor(base_score=None, booster=None, callbacks=None,\n",
       "             colsample_bylevel=None, colsample_bynode=None,\n",
       "             colsample_bytree=None, device=None, early_stopping_rounds=None,\n",
       "             enable_categorical=False, eval_metric=None, feature_types=None,\n",
       "             gamma=None, grow_policy=None, importance_type=None,\n",
       "             interaction_constraints=None, learning_rate=None, max_bin=None,\n",
       "             max_cat_threshold=None, max_cat_to_onehot=None,\n",
       "             max_delta_step=None, max_depth=None, max_leaves=None,\n",
       "             min_child_weight=None, missing=nan, monotone_constraints=None,\n",
       "             multi_strategy=None, n_estimators=None, n_jobs=None,\n",
       "             num_parallel_tree=None, random_state=42, ...)</pre></div></div></div></div></div>"
      ],
      "text/plain": [
       "XGBRegressor(base_score=None, booster=None, callbacks=None,\n",
       "             colsample_bylevel=None, colsample_bynode=None,\n",
       "             colsample_bytree=None, device=None, early_stopping_rounds=None,\n",
       "             enable_categorical=False, eval_metric=None, feature_types=None,\n",
       "             gamma=None, grow_policy=None, importance_type=None,\n",
       "             interaction_constraints=None, learning_rate=None, max_bin=None,\n",
       "             max_cat_threshold=None, max_cat_to_onehot=None,\n",
       "             max_delta_step=None, max_depth=None, max_leaves=None,\n",
       "             min_child_weight=None, missing=nan, monotone_constraints=None,\n",
       "             multi_strategy=None, n_estimators=None, n_jobs=None,\n",
       "             num_parallel_tree=None, random_state=42, ...)"
      ]
     },
     "execution_count": 116,
     "metadata": {},
     "output_type": "execute_result"
    }
   ],
   "source": [
    "# Fit the best model on the training data\n",
    "base_XGB_DK.fit(X_DK_train_scaled, y_DK_train)"
   ]
  },
  {
   "cell_type": "code",
   "execution_count": 117,
   "id": "884c0918-b914-44e1-ad59-27d9b632330f",
   "metadata": {},
   "outputs": [],
   "source": [
    "# Make predictions on the test data\n",
    "y_pred = base_XGB_DK.predict(X_DK_test_scaled)"
   ]
  },
  {
   "cell_type": "code",
   "execution_count": 119,
   "id": "f7ba5602-a4c1-48b9-8789-3730512549a9",
   "metadata": {},
   "outputs": [
    {
     "name": "stdout",
     "output_type": "stream",
     "text": [
      "Base XGB R_squared_train: 0.6100629336667105\n",
      "Base XGB R_squared_test: 0.24806973153403866\n",
      "Base XGB MAE: 5.146628449958908\n",
      "Base XGB MSE: 48.61398115668049\n",
      "Base XGB RMSE: 6.972372706380554\n"
     ]
    }
   ],
   "source": [
    "print(f\"Base XGB R_squared_train: {base_XGB_DK.score(X_DK_train_scaled, y_DK_train)}\")\n",
    "print(f\"Base XGB R_squared_test: {base_XGB_DK.score(X_DK_test_scaled, y_DK_test)}\")\n",
    "print(f\"Base XGB MAE: {mean_absolute_error(y_DK_test, y_pred)}\")\n",
    "print(f\"Base XGB MSE: {mean_squared_error(y_DK_test, y_pred)}\")\n",
    "print(f\"Base XGB RMSE: {mean_squared_error(y_DK_test, y_pred, squared=False)}\")"
   ]
  },
  {
   "cell_type": "code",
   "execution_count": 118,
   "id": "7ad3cb6a-89e6-418b-8605-ec01c9e753a4",
   "metadata": {},
   "outputs": [],
   "source": [
    "param_dist = {\n",
    "    'n_estimators': [300, 500, 700],\n",
    "    'learning_rate': [0.01, 0.05, 0.1, 0.2, 0.3],\n",
    "    'max_depth': [4, 6, 8],\n",
    "    'subsample': [0.6, 0.8, 1.0],\n",
    "    'colsample_bytree': [0.6, 0.8, 1.0],\n",
    "    'gamma': [0, 0.1, 0.3],\n",
    "    'reg_alpha': [0, 0.01, 0.1],\n",
    "    'reg_lambda': [1, 1.5, 2]\n",
    "}"
   ]
  },
  {
   "cell_type": "code",
   "execution_count": 120,
   "id": "970bf29b-3ea3-428a-a6e0-e775eeb42d3d",
   "metadata": {},
   "outputs": [
    {
     "name": "stdout",
     "output_type": "stream",
     "text": [
      "Fitting 3 folds for each of 100 candidates, totalling 300 fits\n",
      "Tuned XGBoost Best Estimator: XGBRegressor(base_score=None, booster=None, callbacks=None,\n",
      "             colsample_bylevel=None, colsample_bynode=None,\n",
      "             colsample_bytree=0.6, device=None, early_stopping_rounds=None,\n",
      "             enable_categorical=False, eval_metric=None, feature_types=None,\n",
      "             gamma=0.1, grow_policy=None, importance_type=None,\n",
      "             interaction_constraints=None, learning_rate=0.01, max_bin=None,\n",
      "             max_cat_threshold=None, max_cat_to_onehot=None,\n",
      "             max_delta_step=None, max_depth=4, max_leaves=None,\n",
      "             min_child_weight=None, missing=nan, monotone_constraints=None,\n",
      "             multi_strategy=None, n_estimators=500, n_jobs=None,\n",
      "             num_parallel_tree=None, random_state=42, ...)\n",
      "Tuned XGBoost Best Score: -6.787525458885561\n",
      "Tuned XGBoost Best Params: {'subsample': 0.8, 'reg_lambda': 1.5, 'reg_alpha': 0, 'n_estimators': 500, 'max_depth': 4, 'learning_rate': 0.01, 'gamma': 0.1, 'colsample_bytree': 0.6}\n"
     ]
    }
   ],
   "source": [
    "# Set up the GridSearchCV with XGBoost\n",
    "XGB_CV_DK = RandomizedSearchCV(base_XGB_DK, param_dist, scoring=rmse_scorer, n_iter = 100, cv=3, n_jobs=6, verbose=3)\n",
    "XGB_CV_DK.fit(X_DK_train_scaled, y_DK_train)\n",
    "best_params = XGB_CV_DK.best_params_\n",
    "print(f\"Tuned XGBoost Best Estimator: {XGB_CV_DK.best_estimator_}\")\n",
    "print(f\"Tuned XGBoost Best Score: {XGB_CV_DK.best_score_}\")\n",
    "print(f\"Tuned XGBoost Best Params: {best_params}\")"
   ]
  },
  {
   "cell_type": "code",
   "execution_count": 122,
   "id": "5ce1d896-aa4b-4d04-8a5d-59c3969228a2",
   "metadata": {},
   "outputs": [],
   "source": [
    "best_XGB_DK = xgb.XGBRegressor(max_depth=4, n_estimators=500, learning_rate=0.01,\\\n",
    "                               subsample = 0.8, reg_lambda = 1.5, reg_alpha = 0,\\\n",
    "                               gamma = 0.1, colsample_bytree = 0.6, objective='reg:squarederror', random_state=42)"
   ]
  },
  {
   "cell_type": "code",
   "execution_count": 123,
   "id": "e5c5e59d-846f-4e93-8fe7-76d6ebe866bd",
   "metadata": {},
   "outputs": [],
   "source": [
    "best_XGB_DK.fit(X_DK_train_scaled, y_DK_train)\n",
    "y_pred = best_XGB_DK.predict(X_DK_test_scaled)"
   ]
  },
  {
   "cell_type": "code",
   "execution_count": 124,
   "id": "909c1c0d-bc31-47e8-b215-838dd9c8ec75",
   "metadata": {},
   "outputs": [
    {
     "name": "stdout",
     "output_type": "stream",
     "text": [
      "Best_XGB Train R-squared: 0.3300371592098784\n",
      "Best_XGB Test R-squared: 0.311512329670687\n",
      "Best_XGB MAE: 4.9545485543366325\n",
      "Best_XGB RMSE: 6.671751992980524\n",
      "Best_XGB MSE: 44.51227465583959\n"
     ]
    }
   ],
   "source": [
    "# Print evaluation metrics for the best model\n",
    "best_rmse = mean_squared_error(y_DK_test, y_pred, squared=False)\n",
    "print(f\"Best_XGB Train R-squared: {best_XGB_DK.score(X_DK_train_scaled, y_DK_train)}\")\n",
    "print(f\"Best_XGB Test R-squared: {best_XGB_DK.score(X_DK_test_scaled, y_DK_test)}\")\n",
    "print(f\"Best_XGB MAE: {mean_absolute_error(y_DK_test, y_pred)}\")\n",
    "print(f\"Best_XGB RMSE: {best_rmse}\")\n",
    "print(f\"Best_XGB MSE: {mean_squared_error(y_DK_test, y_pred)}\")"
   ]
  },
  {
   "cell_type": "code",
   "execution_count": 429,
   "id": "cfa2b907-f624-4c4c-91bd-827c20f5297e",
   "metadata": {},
   "outputs": [],
   "source": [
    "error_dict_DK['XGBoost'] = {'best_params': best_params, 'best_rmse': best_rmse}"
   ]
  },
  {
   "cell_type": "code",
   "execution_count": 430,
   "id": "e3909294-26ae-4d57-9139-53f00e6f6b69",
   "metadata": {},
   "outputs": [
    {
     "data": {
      "text/plain": [
       "defaultdict(float,\n",
       "            {'KNN': {'best_params': {'n_neighbors': 35},\n",
       "              'best_rmse': 7.704548048681453},\n",
       "             'Linear_Regression': {'best_params': {'alpha': 24.565306122448984},\n",
       "              'best_rmse': 7.470141938786919},\n",
       "             'Random_Forest': {'best_params': {'n_estimators': 500,\n",
       "               'min_samples_split': 2,\n",
       "               'min_samples_leaf': 4,\n",
       "               'max_depth': 6},\n",
       "              'best_rmse': 7.405278678453883},\n",
       "             'Gradient_Boost': {'best_params': {'n_estimators': 100,\n",
       "               'max_depth': 2,\n",
       "               'learning_rate': 0.1},\n",
       "              'best_rmse': 7.44117424990967},\n",
       "             'XGBoost': {'best_params': {'subsample': 0.8,\n",
       "               'reg_lambda': 1,\n",
       "               'reg_alpha': 0.01,\n",
       "               'n_estimators': 100,\n",
       "               'max_depth': 2,\n",
       "               'learning_rate': 0.05,\n",
       "               'gamma': 0.1,\n",
       "               'colsample_bytree': 1.0},\n",
       "              'best_rmse': 7.449694639196441}})"
      ]
     },
     "execution_count": 430,
     "metadata": {},
     "output_type": "execute_result"
    }
   ],
   "source": [
    "error_dict_DK"
   ]
  },
  {
   "cell_type": "code",
   "execution_count": 431,
   "id": "9b457e5a-6aff-40f4-b133-a8c6088ab0d1",
   "metadata": {},
   "outputs": [],
   "source": [
    "errors_DK = pd.DataFrame(error_dict_DK)"
   ]
  },
  {
   "cell_type": "code",
   "execution_count": 432,
   "id": "3c238adf-ab9d-4a18-9e76-bb53c5fc12c3",
   "metadata": {},
   "outputs": [
    {
     "data": {
      "text/html": [
       "<div>\n",
       "<style scoped>\n",
       "    .dataframe tbody tr th:only-of-type {\n",
       "        vertical-align: middle;\n",
       "    }\n",
       "\n",
       "    .dataframe tbody tr th {\n",
       "        vertical-align: top;\n",
       "    }\n",
       "\n",
       "    .dataframe thead th {\n",
       "        text-align: right;\n",
       "    }\n",
       "</style>\n",
       "<table border=\"1\" class=\"dataframe\">\n",
       "  <thead>\n",
       "    <tr style=\"text-align: right;\">\n",
       "      <th></th>\n",
       "      <th>KNN</th>\n",
       "      <th>Linear_Regression</th>\n",
       "      <th>Random_Forest</th>\n",
       "      <th>Gradient_Boost</th>\n",
       "      <th>XGBoost</th>\n",
       "    </tr>\n",
       "  </thead>\n",
       "  <tbody>\n",
       "    <tr>\n",
       "      <th>best_params</th>\n",
       "      <td>{'n_neighbors': 35}</td>\n",
       "      <td>{'alpha': 24.565306122448984}</td>\n",
       "      <td>{'n_estimators': 500, 'min_samples_split': 2, ...</td>\n",
       "      <td>{'n_estimators': 100, 'max_depth': 2, 'learnin...</td>\n",
       "      <td>{'subsample': 0.8, 'reg_lambda': 1, 'reg_alpha...</td>\n",
       "    </tr>\n",
       "    <tr>\n",
       "      <th>best_rmse</th>\n",
       "      <td>7.704548</td>\n",
       "      <td>7.470142</td>\n",
       "      <td>7.405279</td>\n",
       "      <td>7.441174</td>\n",
       "      <td>7.449695</td>\n",
       "    </tr>\n",
       "  </tbody>\n",
       "</table>\n",
       "</div>"
      ],
      "text/plain": [
       "                             KNN              Linear_Regression  \\\n",
       "best_params  {'n_neighbors': 35}  {'alpha': 24.565306122448984}   \n",
       "best_rmse               7.704548                       7.470142   \n",
       "\n",
       "                                                 Random_Forest  \\\n",
       "best_params  {'n_estimators': 500, 'min_samples_split': 2, ...   \n",
       "best_rmse                                             7.405279   \n",
       "\n",
       "                                                Gradient_Boost  \\\n",
       "best_params  {'n_estimators': 100, 'max_depth': 2, 'learnin...   \n",
       "best_rmse                                             7.441174   \n",
       "\n",
       "                                                       XGBoost  \n",
       "best_params  {'subsample': 0.8, 'reg_lambda': 1, 'reg_alpha...  \n",
       "best_rmse                                             7.449695  "
      ]
     },
     "execution_count": 432,
     "metadata": {},
     "output_type": "execute_result"
    }
   ],
   "source": [
    "errors_DK"
   ]
  },
  {
   "cell_type": "code",
   "execution_count": 433,
   "id": "2c8df9e4-271d-47b6-812e-be0bbe9fc4d8",
   "metadata": {},
   "outputs": [],
   "source": [
    "errors_DK.to_csv('errors_FLEX_DK.csv', index = False)"
   ]
  },
  {
   "cell_type": "code",
   "execution_count": null,
   "id": "9492a7e5-e46f-445b-b21a-84c67f0fd145",
   "metadata": {},
   "outputs": [],
   "source": []
  }
 ],
 "metadata": {
  "kernelspec": {
   "display_name": "Python (nfl_dfs_model)",
   "language": "python",
   "name": "nfl_dfs_model"
  },
  "language_info": {
   "codemirror_mode": {
    "name": "ipython",
    "version": 3
   },
   "file_extension": ".py",
   "mimetype": "text/x-python",
   "name": "python",
   "nbconvert_exporter": "python",
   "pygments_lexer": "ipython3",
   "version": "3.8.19"
  }
 },
 "nbformat": 4,
 "nbformat_minor": 5
}
