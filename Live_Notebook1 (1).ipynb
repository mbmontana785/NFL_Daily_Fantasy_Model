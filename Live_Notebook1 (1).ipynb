{
 "cells": [
  {
   "cell_type": "markdown",
   "id": "a6cd397f-09a1-4801-b261-3bb4c9b89830",
   "metadata": {},
   "source": [
    "# Processing FanDuel and DraftKings CSVs\n",
    "This notebook, the first step in the live deployment of our model, takes the player lists and processes them into a format that can be merged with the data that will be used for the model.<br>\n",
    "\n",
    "This notebook can be repeated at various points during the week to update injury status, as that information is included in the FanDuel csv and will be transferred to the DraftKings csv."
   ]
  },
  {
   "cell_type": "code",
   "execution_count": 79,
   "id": "a9829924-153b-4d4a-b8d2-8bce75cbce9d",
   "metadata": {},
   "outputs": [],
   "source": [
    "import numpy as np\n",
    "import pandas as pd\n",
    "#from datetime import datetime, timedelta\n",
    "import os\n",
    "from functions import get_current_weekday, calculate_nfl_week, get_next_sunday, get_current_year"
   ]
  },
  {
   "cell_type": "code",
   "execution_count": 80,
   "id": "ad63ca3d-7bea-4325-a8b4-9f61029be416",
   "metadata": {},
   "outputs": [],
   "source": [
    "import re"
   ]
  },
  {
   "cell_type": "markdown",
   "id": "ebf40943-a9ae-4a71-8459-bd837b313789",
   "metadata": {},
   "source": [
    "# Automating datestring\n",
    "This function gets the date string we need to read the CSVs. It returns the date of the next Sunday. Then the following function uses the date to get the week number of the season."
   ]
  },
  {
   "cell_type": "code",
   "execution_count": 81,
   "id": "9d567117-b73f-4183-89a6-231c7d2fb30c",
   "metadata": {},
   "outputs": [],
   "source": [
    "day = get_current_weekday()"
   ]
  },
  {
   "cell_type": "code",
   "execution_count": 82,
   "id": "e06c988a-aa76-404d-b221-835d7de78f69",
   "metadata": {},
   "outputs": [],
   "source": [
    "date_string = get_next_sunday(day)"
   ]
  },
  {
   "cell_type": "code",
   "execution_count": 83,
   "id": "2812f103-8bc3-40ea-a846-727501919526",
   "metadata": {},
   "outputs": [
    {
     "data": {
      "text/plain": [
       "'2024-10-06'"
      ]
     },
     "execution_count": 83,
     "metadata": {},
     "output_type": "execute_result"
    }
   ],
   "source": [
    "date_string"
   ]
  },
  {
   "cell_type": "code",
   "execution_count": 84,
   "id": "dc13a692-3ba7-4bbf-9b28-a69362248456",
   "metadata": {},
   "outputs": [],
   "source": [
    "week = calculate_nfl_week(date_string)"
   ]
  },
  {
   "cell_type": "code",
   "execution_count": 85,
   "id": "90711bc9-8499-4505-b509-39fc4f663145",
   "metadata": {},
   "outputs": [],
   "source": [
    "season = get_current_year()"
   ]
  },
  {
   "cell_type": "markdown",
   "id": "d4c4afbb-861c-41cd-a029-cf1c3976c288",
   "metadata": {},
   "source": [
    "# Renaming CSVs\n",
    "So that we can just download the CSVs and move them into our directory without renaming them, the code below will rename the FanDuel and DraftKings player lists.<br>\n",
    "\n",
    "**This requires a little bit of housekeeping** as we first need to delete the previous week's FanDuel and DraftKings CSVs before downloading the new ones. Yes, it would be easier to automate the process of deleting the CSVs and then downloading the new ones, but we don't want to do any scraping on the FanDuel and DraftKings sites. If we do too much of it, we're blocked from playing."
   ]
  },
  {
   "cell_type": "code",
   "execution_count": 86,
   "id": "67a99694-80e6-46ea-9341-35924e719b1f",
   "metadata": {},
   "outputs": [],
   "source": [
    "# Get the list of files in the current directory\n",
    "files = os.listdir()"
   ]
  },
  {
   "cell_type": "code",
   "execution_count": 87,
   "id": "b37f7d93-0524-4780-93de-12293537e303",
   "metadata": {},
   "outputs": [
    {
     "name": "stdout",
     "output_type": "stream",
     "text": [
      "Renamed DK CSV to: DK_2024-10-06_list.csv\n",
      "Deleted original FanDuel CSV: DKSalaries (14).csv\n",
      "Renamed FanDuel CSV to: FD_2024-10-06_list.csv\n",
      "Deleted original FanDuel CSV: FanDuel-NFL-2024 ET-10 ET-06 ET-107566-players-list.csv\n"
     ]
    }
   ],
   "source": [
    "# Loop through each file in the directory\n",
    "for file_name in files:\n",
    "    if file_name.startswith(\"FanDuel\"):\n",
    "        # Read the FanDuel CSV file\n",
    "        fd_df = pd.read_csv(file_name)\n",
    "        \n",
    "        # Create the new filename\n",
    "        new_fd_filename = f\"FD_{date_string}_list.csv\"\n",
    "        \n",
    "        # Save the DataFrame with the new filename\n",
    "        fd_df.to_csv(new_fd_filename, index=False)\n",
    "        \n",
    "        print(f\"Renamed FanDuel CSV to: {new_fd_filename}\")\n",
    "\n",
    "        # Delete the original FanDuel CSV file\n",
    "        os.remove(file_name)\n",
    "        print(f\"Deleted original FanDuel CSV: {file_name}\")\n",
    "    \n",
    "    elif file_name.startswith(\"DKSalaries\"):\n",
    "        # Read the DK CSV file\n",
    "        dk_df = pd.read_csv(file_name)\n",
    "        \n",
    "        # Create the new filename\n",
    "        new_dk_filename = f\"DK_{date_string}_list.csv\"\n",
    "        \n",
    "        # Save the DataFrame with the new filename\n",
    "        dk_df.to_csv(new_dk_filename, index=False)\n",
    "        \n",
    "        print(f\"Renamed DK CSV to: {new_dk_filename}\")\n",
    "\n",
    "        # Delete the original FanDuel CSV file\n",
    "        os.remove(file_name)\n",
    "        print(f\"Deleted original FanDuel CSV: {file_name}\")"
   ]
  },
  {
   "cell_type": "code",
   "execution_count": null,
   "id": "342b5882-4356-4ca1-96b8-485f4547c7fb",
   "metadata": {},
   "outputs": [],
   "source": []
  },
  {
   "cell_type": "markdown",
   "id": "a6b37619-87f7-4757-970b-fe2ebce8bc62",
   "metadata": {},
   "source": [
    "# Reading and processing FanDuel csv"
   ]
  },
  {
   "cell_type": "code",
   "execution_count": 88,
   "id": "fd368aba-6dae-41b9-a3f3-ffa71c32926a",
   "metadata": {},
   "outputs": [],
   "source": [
    "fd_df = pd.read_csv('FD_' + date_string + '_list.csv')"
   ]
  },
  {
   "cell_type": "code",
   "execution_count": 89,
   "id": "63776142-65bc-45bf-9bd2-a4058165b990",
   "metadata": {},
   "outputs": [],
   "source": [
    "fd_df.rename(columns = {'Nickname': 'Name'}, inplace = True)"
   ]
  },
  {
   "cell_type": "code",
   "execution_count": 90,
   "id": "86237bf3-b53f-41a2-96a1-897f9e0d0771",
   "metadata": {},
   "outputs": [],
   "source": [
    "fd_df = fd_df[['Id', 'Position', 'First Name', 'Name', 'Last Name', 'Salary', 'Game', 'Team', 'Opponent', 'Injury Indicator']]"
   ]
  },
  {
   "cell_type": "code",
   "execution_count": 91,
   "id": "ff5be3be-baba-4ebf-9c9f-5e95a8f6af86",
   "metadata": {},
   "outputs": [],
   "source": [
    "fd_df[['Away_Team', 'Home_Team']] = fd_df['Game'].str.split('@', expand=True)"
   ]
  },
  {
   "cell_type": "code",
   "execution_count": 92,
   "id": "330d7d1d-cb7a-4fe6-946b-d28fc0bb5b86",
   "metadata": {},
   "outputs": [],
   "source": [
    "fd_df.drop(columns = ['Game'], inplace = True)"
   ]
  },
  {
   "cell_type": "code",
   "execution_count": 93,
   "id": "09d13fc1-103f-4afd-b224-94067389278a",
   "metadata": {},
   "outputs": [],
   "source": [
    "fd_df['home_team'] = np.where(fd_df['Team'] == fd_df['Home_Team'], 1, 0)"
   ]
  },
  {
   "cell_type": "code",
   "execution_count": 94,
   "id": "fcb862ac-0eae-4908-ae46-1fcfa0a2bbd0",
   "metadata": {},
   "outputs": [],
   "source": [
    "fd_df.drop(columns = ['Home_Team', 'Away_Team'], inplace = True)"
   ]
  },
  {
   "cell_type": "code",
   "execution_count": 95,
   "id": "3abb46ac-2643-4c3e-9ea4-722e7aff7eaa",
   "metadata": {},
   "outputs": [],
   "source": [
    "#Replace JAC with JAX so that team abbreviations for Jaguars match\n",
    "fd_df['Team'] = fd_df['Team'].replace({'JAC' : 'JAX'})\n",
    "fd_df['Opponent'] = fd_df['Opponent'].replace({'JAC' : 'JAX'})"
   ]
  },
  {
   "cell_type": "code",
   "execution_count": 96,
   "id": "d2b7588c-f4f2-4456-b0c7-ad846b8fd9ce",
   "metadata": {},
   "outputs": [
    {
     "data": {
      "text/html": [
       "<div>\n",
       "<style scoped>\n",
       "    .dataframe tbody tr th:only-of-type {\n",
       "        vertical-align: middle;\n",
       "    }\n",
       "\n",
       "    .dataframe tbody tr th {\n",
       "        vertical-align: top;\n",
       "    }\n",
       "\n",
       "    .dataframe thead th {\n",
       "        text-align: right;\n",
       "    }\n",
       "</style>\n",
       "<table border=\"1\" class=\"dataframe\">\n",
       "  <thead>\n",
       "    <tr style=\"text-align: right;\">\n",
       "      <th></th>\n",
       "      <th>Id</th>\n",
       "      <th>Position</th>\n",
       "      <th>First Name</th>\n",
       "      <th>Name</th>\n",
       "      <th>Last Name</th>\n",
       "      <th>Salary</th>\n",
       "      <th>Team</th>\n",
       "      <th>Opponent</th>\n",
       "      <th>Injury Indicator</th>\n",
       "      <th>home_team</th>\n",
       "    </tr>\n",
       "  </thead>\n",
       "  <tbody>\n",
       "    <tr>\n",
       "      <th>0</th>\n",
       "      <td>107566-86631</td>\n",
       "      <td>WR</td>\n",
       "      <td>CeeDee</td>\n",
       "      <td>CeeDee Lamb</td>\n",
       "      <td>Lamb</td>\n",
       "      <td>9400</td>\n",
       "      <td>DAL</td>\n",
       "      <td>PIT</td>\n",
       "      <td>NaN</td>\n",
       "      <td>0</td>\n",
       "    </tr>\n",
       "    <tr>\n",
       "      <th>1</th>\n",
       "      <td>107566-85701</td>\n",
       "      <td>WR</td>\n",
       "      <td>Ja'Marr</td>\n",
       "      <td>Ja'Marr Chase</td>\n",
       "      <td>Chase</td>\n",
       "      <td>9300</td>\n",
       "      <td>CIN</td>\n",
       "      <td>BAL</td>\n",
       "      <td>NaN</td>\n",
       "      <td>1</td>\n",
       "    </tr>\n",
       "    <tr>\n",
       "      <th>2</th>\n",
       "      <td>107566-62239</td>\n",
       "      <td>QB</td>\n",
       "      <td>Josh</td>\n",
       "      <td>Josh Allen</td>\n",
       "      <td>Allen</td>\n",
       "      <td>9300</td>\n",
       "      <td>BUF</td>\n",
       "      <td>HOU</td>\n",
       "      <td>NaN</td>\n",
       "      <td>0</td>\n",
       "    </tr>\n",
       "    <tr>\n",
       "      <th>3</th>\n",
       "      <td>107566-39280</td>\n",
       "      <td>RB</td>\n",
       "      <td>Derrick</td>\n",
       "      <td>Derrick Henry</td>\n",
       "      <td>Henry</td>\n",
       "      <td>9200</td>\n",
       "      <td>BAL</td>\n",
       "      <td>CIN</td>\n",
       "      <td>NaN</td>\n",
       "      <td>0</td>\n",
       "    </tr>\n",
       "    <tr>\n",
       "      <th>4</th>\n",
       "      <td>107566-91419</td>\n",
       "      <td>WR</td>\n",
       "      <td>Nico</td>\n",
       "      <td>Nico Collins</td>\n",
       "      <td>Collins</td>\n",
       "      <td>8800</td>\n",
       "      <td>HOU</td>\n",
       "      <td>BUF</td>\n",
       "      <td>NaN</td>\n",
       "      <td>1</td>\n",
       "    </tr>\n",
       "  </tbody>\n",
       "</table>\n",
       "</div>"
      ],
      "text/plain": [
       "             Id Position First Name           Name Last Name  Salary Team  \\\n",
       "0  107566-86631       WR     CeeDee    CeeDee Lamb      Lamb    9400  DAL   \n",
       "1  107566-85701       WR    Ja'Marr  Ja'Marr Chase     Chase    9300  CIN   \n",
       "2  107566-62239       QB       Josh     Josh Allen     Allen    9300  BUF   \n",
       "3  107566-39280       RB    Derrick  Derrick Henry     Henry    9200  BAL   \n",
       "4  107566-91419       WR       Nico   Nico Collins   Collins    8800  HOU   \n",
       "\n",
       "  Opponent Injury Indicator  home_team  \n",
       "0      PIT              NaN          0  \n",
       "1      BAL              NaN          1  \n",
       "2      HOU              NaN          0  \n",
       "3      CIN              NaN          0  \n",
       "4      BUF              NaN          1  "
      ]
     },
     "execution_count": 96,
     "metadata": {},
     "output_type": "execute_result"
    }
   ],
   "source": [
    "fd_df.head()"
   ]
  },
  {
   "cell_type": "code",
   "execution_count": null,
   "id": "8b6d57f3-bd7a-4cca-881f-ddc25bff58d9",
   "metadata": {},
   "outputs": [],
   "source": []
  },
  {
   "cell_type": "markdown",
   "id": "b1462c76-7174-4cdf-9762-b468cd53bf6b",
   "metadata": {},
   "source": [
    "# Reading and processing DraftKings csv"
   ]
  },
  {
   "cell_type": "code",
   "execution_count": 97,
   "id": "c42eb245-aae5-4a0c-814b-4ad46f0d4e3b",
   "metadata": {},
   "outputs": [],
   "source": [
    "dk_df = pd.read_csv('DK_' + date_string + '_list.csv')"
   ]
  },
  {
   "cell_type": "code",
   "execution_count": 98,
   "id": "1f9d17b9-5cba-42d1-9907-96159adff8c7",
   "metadata": {},
   "outputs": [
    {
     "name": "stdout",
     "output_type": "stream",
     "text": [
      "<class 'pandas.core.frame.DataFrame'>\n",
      "RangeIndex: 495 entries, 0 to 494\n",
      "Data columns (total 9 columns):\n",
      " #   Column            Non-Null Count  Dtype  \n",
      "---  ------            --------------  -----  \n",
      " 0   Position          495 non-null    object \n",
      " 1   Name + ID         495 non-null    object \n",
      " 2   Name              495 non-null    object \n",
      " 3   ID                495 non-null    int64  \n",
      " 4   Roster Position   495 non-null    object \n",
      " 5   Salary            495 non-null    int64  \n",
      " 6   Game Info         495 non-null    object \n",
      " 7   TeamAbbrev        495 non-null    object \n",
      " 8   AvgPointsPerGame  495 non-null    float64\n",
      "dtypes: float64(1), int64(2), object(6)\n",
      "memory usage: 34.9+ KB\n"
     ]
    }
   ],
   "source": [
    "dk_df.info()"
   ]
  },
  {
   "cell_type": "code",
   "execution_count": 99,
   "id": "c46fa05c-9f06-4728-8704-d8434cae66a7",
   "metadata": {},
   "outputs": [],
   "source": [
    "##We'll need to match FD and DK names so we can merge FD injury designations to DK.\n",
    "#Then hopefully the names we have will match the names used for the model.\n",
    "#Then we'll pare down the DK columns, create a mini df for home teams and merge that with DK\n",
    "#The goal of this notebook should be to have FD and DK dataframes that include:\n",
    "#full name, salary, position, team, opponent, home team (binary), injury designation, id (just in case)"
   ]
  },
  {
   "cell_type": "markdown",
   "id": "7766679a-4593-4bde-ba1d-7f312140460b",
   "metadata": {},
   "source": [
    "This dictionary and function will be used later to convert team names to abbrevation strings"
   ]
  },
  {
   "cell_type": "code",
   "execution_count": 100,
   "id": "06255213-66ed-422b-8ecd-9108597fc7a1",
   "metadata": {},
   "outputs": [],
   "source": [
    "nfl_teams = [\n",
    "    'Bills', 'Dolphins', 'Patriots', 'Jets',\n",
    "    'Bengals', 'Browns', 'Ravens', 'Steelers',\n",
    "    'Texans', 'Colts', 'Jaguars', 'Titans',\n",
    "    'Broncos', 'Chiefs', 'Raiders', 'Chargers',\n",
    "    'Cowboys', 'Giants', 'Eagles', 'Commanders',\n",
    "    'Bears', 'Lions', 'Packers', 'Vikings',\n",
    "    'Falcons', 'Panthers', 'Saints', 'Buccaneers',\n",
    "    'Cardinals', 'Rams', '49ers', 'Seahawks'\n",
    "]"
   ]
  },
  {
   "cell_type": "code",
   "execution_count": 101,
   "id": "994465dd-bcf4-42be-9aae-8836195877b3",
   "metadata": {},
   "outputs": [],
   "source": [
    "team_abbreviations = [\n",
    "    'BUF', 'MIA', 'NE', 'NYJ',\n",
    "    'CIN', 'CLE', 'BAL', 'PIT',\n",
    "    'HOU', 'IND', 'JAX', 'TEN',\n",
    "    'DEN', 'KC', 'LV', 'LAC',\n",
    "    'DAL', 'NYG', 'PHI', 'WAS',\n",
    "    'CHI', 'DET', 'GB', 'MIN',\n",
    "    'ATL', 'CAR', 'NO', 'TB',\n",
    "    'ARI', 'LAR', 'SF', 'SEA'\n",
    "]"
   ]
  },
  {
   "cell_type": "code",
   "execution_count": 102,
   "id": "a641afd9-aa03-40ad-8776-3bb185f6cd03",
   "metadata": {},
   "outputs": [],
   "source": [
    "# Creating the dictionary\n",
    "team_abbrev = dict(zip(nfl_teams, team_abbreviations))"
   ]
  },
  {
   "cell_type": "code",
   "execution_count": 103,
   "id": "f717cda2-e52d-45c5-86a8-a8cc296d4c94",
   "metadata": {},
   "outputs": [
    {
     "data": {
      "text/plain": [
       "{'Bills': 'BUF',\n",
       " 'Dolphins': 'MIA',\n",
       " 'Patriots': 'NE',\n",
       " 'Jets': 'NYJ',\n",
       " 'Bengals': 'CIN',\n",
       " 'Browns': 'CLE',\n",
       " 'Ravens': 'BAL',\n",
       " 'Steelers': 'PIT',\n",
       " 'Texans': 'HOU',\n",
       " 'Colts': 'IND',\n",
       " 'Jaguars': 'JAX',\n",
       " 'Titans': 'TEN',\n",
       " 'Broncos': 'DEN',\n",
       " 'Chiefs': 'KC',\n",
       " 'Raiders': 'LV',\n",
       " 'Chargers': 'LAC',\n",
       " 'Cowboys': 'DAL',\n",
       " 'Giants': 'NYG',\n",
       " 'Eagles': 'PHI',\n",
       " 'Commanders': 'WAS',\n",
       " 'Bears': 'CHI',\n",
       " 'Lions': 'DET',\n",
       " 'Packers': 'GB',\n",
       " 'Vikings': 'MIN',\n",
       " 'Falcons': 'ATL',\n",
       " 'Panthers': 'CAR',\n",
       " 'Saints': 'NO',\n",
       " 'Buccaneers': 'TB',\n",
       " 'Cardinals': 'ARI',\n",
       " 'Rams': 'LAR',\n",
       " '49ers': 'SF',\n",
       " 'Seahawks': 'SEA'}"
      ]
     },
     "execution_count": 103,
     "metadata": {},
     "output_type": "execute_result"
    }
   ],
   "source": [
    "team_abbrev"
   ]
  },
  {
   "cell_type": "code",
   "execution_count": 104,
   "id": "ab1cc3d6-fdd2-4185-b70e-6413fdba6fb6",
   "metadata": {},
   "outputs": [],
   "source": [
    "# Function to convert team names to abbreviations, leaving other values unchanged\n",
    "def convert_team_names(opponent):\n",
    "    return team_abbrev.get(opponent, opponent)"
   ]
  },
  {
   "cell_type": "code",
   "execution_count": null,
   "id": "6b26bd05-09a7-4d52-bb6e-8fd4eaa01675",
   "metadata": {},
   "outputs": [],
   "source": []
  },
  {
   "cell_type": "code",
   "execution_count": 105,
   "id": "4d1b0d61-a327-4ae6-a11e-8273f54a0789",
   "metadata": {},
   "outputs": [],
   "source": [
    "fd_def = fd_df[fd_df['Position'] == 'D']"
   ]
  },
  {
   "cell_type": "markdown",
   "id": "70747b7b-cc62-4cf0-89db-7a1873dbb538",
   "metadata": {},
   "source": [
    "# Name matching\n",
    "Name matching will be a chore. Let's start with defense, where DK uses just team name while FD uses city and name. We'll change it to just names in FD.<br>\n",
    "\n",
    "The following line of code takes the city names off defense for FD."
   ]
  },
  {
   "cell_type": "code",
   "execution_count": 106,
   "id": "1080ec32-383d-45e9-9812-2d870aa2437d",
   "metadata": {},
   "outputs": [],
   "source": [
    "fd_df['Name'] = np.where(fd_df['Position'] == 'D', fd_df['Last Name'], fd_df['Name'])"
   ]
  },
  {
   "cell_type": "code",
   "execution_count": 107,
   "id": "00bd5ded-7728-41e7-b407-b8d5d6fe3ebb",
   "metadata": {},
   "outputs": [],
   "source": [
    "dk_df['Name'] = dk_df['Name'].str.strip()"
   ]
  },
  {
   "cell_type": "code",
   "execution_count": null,
   "id": "007e6612-fa9f-4bff-98d5-911a11ed9382",
   "metadata": {},
   "outputs": [],
   "source": []
  },
  {
   "cell_type": "code",
   "execution_count": null,
   "id": "14843955-74c9-43eb-be10-fb55bea70029",
   "metadata": {},
   "outputs": [],
   "source": []
  },
  {
   "cell_type": "markdown",
   "id": "68cca1fc-cb3a-4ab8-813b-f89ea62f13a5",
   "metadata": {},
   "source": [
    "# Merging columns to DK\n",
    "We'll merge Opponent, home_team (binary) and Status (injury) to the DK dataframe. But first, we have to take suffixes off all names and then match the names."
   ]
  },
  {
   "cell_type": "code",
   "execution_count": 108,
   "id": "c03fb2df-406f-4d5e-b486-62359035a921",
   "metadata": {},
   "outputs": [],
   "source": [
    "fd_df.rename(columns = {'Injury Indicator': 'Status', 'Id': 'ID'}, inplace = True)"
   ]
  },
  {
   "cell_type": "code",
   "execution_count": 109,
   "id": "c93b3a07-2a81-4fe7-84bb-a1cca747d4ea",
   "metadata": {},
   "outputs": [],
   "source": [
    "dk_df.rename(columns = {'TeamAbbrev': 'Team'}, inplace = True)"
   ]
  },
  {
   "cell_type": "code",
   "execution_count": 110,
   "id": "22529cee-481b-47e6-ab53-d8338fd4846e",
   "metadata": {},
   "outputs": [
    {
     "name": "stdout",
     "output_type": "stream",
     "text": [
      "<class 'pandas.core.frame.DataFrame'>\n",
      "RangeIndex: 713 entries, 0 to 712\n",
      "Data columns (total 10 columns):\n",
      " #   Column      Non-Null Count  Dtype \n",
      "---  ------      --------------  ----- \n",
      " 0   ID          713 non-null    object\n",
      " 1   Position    713 non-null    object\n",
      " 2   First Name  713 non-null    object\n",
      " 3   Name        713 non-null    object\n",
      " 4   Last Name   713 non-null    object\n",
      " 5   Salary      713 non-null    int64 \n",
      " 6   Team        713 non-null    object\n",
      " 7   Opponent    713 non-null    object\n",
      " 8   Status      128 non-null    object\n",
      " 9   home_team   713 non-null    int32 \n",
      "dtypes: int32(1), int64(1), object(8)\n",
      "memory usage: 53.0+ KB\n"
     ]
    }
   ],
   "source": [
    "fd_df.info()"
   ]
  },
  {
   "cell_type": "code",
   "execution_count": 111,
   "id": "36dc5230-bb68-40ba-a478-bb802485e7a5",
   "metadata": {},
   "outputs": [
    {
     "name": "stdout",
     "output_type": "stream",
     "text": [
      "<class 'pandas.core.frame.DataFrame'>\n",
      "RangeIndex: 495 entries, 0 to 494\n",
      "Data columns (total 9 columns):\n",
      " #   Column            Non-Null Count  Dtype  \n",
      "---  ------            --------------  -----  \n",
      " 0   Position          495 non-null    object \n",
      " 1   Name + ID         495 non-null    object \n",
      " 2   Name              495 non-null    object \n",
      " 3   ID                495 non-null    int64  \n",
      " 4   Roster Position   495 non-null    object \n",
      " 5   Salary            495 non-null    int64  \n",
      " 6   Game Info         495 non-null    object \n",
      " 7   Team              495 non-null    object \n",
      " 8   AvgPointsPerGame  495 non-null    float64\n",
      "dtypes: float64(1), int64(2), object(6)\n",
      "memory usage: 34.9+ KB\n"
     ]
    }
   ],
   "source": [
    "dk_df.info()"
   ]
  },
  {
   "cell_type": "code",
   "execution_count": null,
   "id": "3ac95f69-2e99-4189-9610-2dcd85b142a4",
   "metadata": {},
   "outputs": [],
   "source": []
  },
  {
   "cell_type": "code",
   "execution_count": 112,
   "id": "13381e6c-ad35-4bce-a8b8-fa5929a5b877",
   "metadata": {},
   "outputs": [],
   "source": [
    "def clean_name(name):\n",
    "    # Remove periods between initials like C.J., D.J. (case-sensitive)\n",
    "    name = re.sub(r'\\b([A-Z])\\.\\s*([A-Z])\\.\\b', r'\\1\\2', name)\n",
    "    \n",
    "    # Remove common suffixes like Jr., Sr., III, II, IV (case-sensitive)\n",
    "    cleaned_name = re.sub(r'(\\,|\\.|Sr|Jr|III|II|IV)', '', name).strip()\n",
    "    \n",
    "    return cleaned_name"
   ]
  },
  {
   "cell_type": "code",
   "execution_count": 113,
   "id": "7a0b03e7-622a-4474-ac78-b4a728921f94",
   "metadata": {},
   "outputs": [],
   "source": [
    "fd_df['Name'] = fd_df['Name'].apply(clean_name)\n",
    "dk_df['Name'] = dk_df['Name'].apply(clean_name)"
   ]
  },
  {
   "cell_type": "code",
   "execution_count": 114,
   "id": "cb180972-4575-49f0-a4ad-469746ae099a",
   "metadata": {},
   "outputs": [],
   "source": [
    "from rapidfuzz import process, fuzz"
   ]
  },
  {
   "cell_type": "code",
   "execution_count": 115,
   "id": "3a32cdfe-666b-4e18-8300-6d35407598e7",
   "metadata": {},
   "outputs": [],
   "source": [
    "SIMILARITY_THRESHOLD = 80"
   ]
  },
  {
   "cell_type": "code",
   "execution_count": 116,
   "id": "8ef73c39-a846-448f-a604-deb26890355a",
   "metadata": {},
   "outputs": [],
   "source": [
    "def fuzzy_match(name, dk_names):\n",
    "    match, score, _ = process.extractOne(name, dk_names, scorer=fuzz.token_sort_ratio)\n",
    "    return match if score >= SIMILARITY_THRESHOLD else None"
   ]
  },
  {
   "cell_type": "code",
   "execution_count": 117,
   "id": "981c3948-fe6a-4729-a9f9-b622a9786a29",
   "metadata": {},
   "outputs": [],
   "source": [
    "dk_names = dk_df['Name']"
   ]
  },
  {
   "cell_type": "code",
   "execution_count": 118,
   "id": "bb888a92-ec63-49a6-b8c2-ed5022dca436",
   "metadata": {},
   "outputs": [
    {
     "data": {
      "text/plain": [
       "495"
      ]
     },
     "execution_count": 118,
     "metadata": {},
     "output_type": "execute_result"
    }
   ],
   "source": [
    "len(dk_names)"
   ]
  },
  {
   "cell_type": "markdown",
   "id": "0ee627e4-bba5-4922-bf03-e19ff9c5e3d9",
   "metadata": {},
   "source": [
    "This checks for names in DraftKings that have a matching score of at least 80 with names in FanDuel, and adds a column to the FanDuel dataframe."
   ]
  },
  {
   "cell_type": "code",
   "execution_count": 119,
   "id": "b19e4478-0eea-41c0-9529-dcbeaf62bcc1",
   "metadata": {},
   "outputs": [],
   "source": [
    "fd_df['matched_name'] = fd_df['Name'].apply(lambda x: fuzzy_match(x, dk_names))"
   ]
  },
  {
   "cell_type": "markdown",
   "id": "47a2faa9-7cb1-4dff-94cd-b82446c59ac8",
   "metadata": {},
   "source": [
    "Now we filter the dataframe for FanDuel names that don't have DraftKings matches."
   ]
  },
  {
   "cell_type": "code",
   "execution_count": 120,
   "id": "3bcd2345-4898-4b0e-8935-58a0da7136bd",
   "metadata": {},
   "outputs": [],
   "source": [
    "unmatched_in_fd = fd_df[fd_df['matched_name'].isna()]"
   ]
  },
  {
   "cell_type": "markdown",
   "id": "5bfd2eef-f17c-414f-a496-7440ec37fefe",
   "metadata": {},
   "source": [
    "We filter out the Sunday night teams since DraftKings does not include the Sunday night game in the main slate."
   ]
  },
  {
   "cell_type": "code",
   "execution_count": 121,
   "id": "82115d5a-d4ac-4e92-bce4-b7031a3cf938",
   "metadata": {},
   "outputs": [],
   "source": [
    "unmatched_in_fd = unmatched_in_fd[~((unmatched_in_fd['Team'] == 'PIT') | (unmatched_in_fd['Team'] == 'DAL'))]"
   ]
  },
  {
   "cell_type": "code",
   "execution_count": 122,
   "id": "a977fcb1-3480-4056-ae32-dd2f0fa564b5",
   "metadata": {},
   "outputs": [],
   "source": [
    "unmatched_in_fd.reset_index(inplace = True, drop = True)"
   ]
  },
  {
   "cell_type": "code",
   "execution_count": 123,
   "id": "e208b59c-a55b-4938-8df0-a1d0f9784986",
   "metadata": {},
   "outputs": [
    {
     "data": {
      "text/html": [
       "<div>\n",
       "<style scoped>\n",
       "    .dataframe tbody tr th:only-of-type {\n",
       "        vertical-align: middle;\n",
       "    }\n",
       "\n",
       "    .dataframe tbody tr th {\n",
       "        vertical-align: top;\n",
       "    }\n",
       "\n",
       "    .dataframe thead th {\n",
       "        text-align: right;\n",
       "    }\n",
       "</style>\n",
       "<table border=\"1\" class=\"dataframe\">\n",
       "  <thead>\n",
       "    <tr style=\"text-align: right;\">\n",
       "      <th></th>\n",
       "      <th>ID</th>\n",
       "      <th>Position</th>\n",
       "      <th>First Name</th>\n",
       "      <th>Name</th>\n",
       "      <th>Last Name</th>\n",
       "      <th>Salary</th>\n",
       "      <th>Team</th>\n",
       "      <th>Opponent</th>\n",
       "      <th>Status</th>\n",
       "      <th>home_team</th>\n",
       "      <th>matched_name</th>\n",
       "    </tr>\n",
       "  </thead>\n",
       "  <tbody>\n",
       "    <tr>\n",
       "      <th>0</th>\n",
       "      <td>107566-86081</td>\n",
       "      <td>QB</td>\n",
       "      <td>Emory</td>\n",
       "      <td>Emory Jones</td>\n",
       "      <td>Jones</td>\n",
       "      <td>6000</td>\n",
       "      <td>BAL</td>\n",
       "      <td>CIN</td>\n",
       "      <td>NaN</td>\n",
       "      <td>0</td>\n",
       "      <td>None</td>\n",
       "    </tr>\n",
       "    <tr>\n",
       "      <th>1</th>\n",
       "      <td>107566-114763</td>\n",
       "      <td>QB</td>\n",
       "      <td>Gavin</td>\n",
       "      <td>Gavin Hardison</td>\n",
       "      <td>Hardison</td>\n",
       "      <td>6000</td>\n",
       "      <td>MIA</td>\n",
       "      <td>NE</td>\n",
       "      <td>NaN</td>\n",
       "      <td>0</td>\n",
       "      <td>None</td>\n",
       "    </tr>\n",
       "    <tr>\n",
       "      <th>2</th>\n",
       "      <td>107566-88147</td>\n",
       "      <td>QB</td>\n",
       "      <td>Chevan</td>\n",
       "      <td>Chevan Cordeiro</td>\n",
       "      <td>Cordeiro</td>\n",
       "      <td>6000</td>\n",
       "      <td>SEA</td>\n",
       "      <td>NYG</td>\n",
       "      <td>NaN</td>\n",
       "      <td>1</td>\n",
       "      <td>None</td>\n",
       "    </tr>\n",
       "    <tr>\n",
       "      <th>3</th>\n",
       "      <td>107566-54507</td>\n",
       "      <td>QB</td>\n",
       "      <td>Alex</td>\n",
       "      <td>Alex McGough</td>\n",
       "      <td>McGough</td>\n",
       "      <td>6000</td>\n",
       "      <td>GB</td>\n",
       "      <td>LAR</td>\n",
       "      <td>Q</td>\n",
       "      <td>0</td>\n",
       "      <td>None</td>\n",
       "    </tr>\n",
       "    <tr>\n",
       "      <th>4</th>\n",
       "      <td>107566-185640</td>\n",
       "      <td>QB</td>\n",
       "      <td>Dresser</td>\n",
       "      <td>Dresser Winn</td>\n",
       "      <td>Winn</td>\n",
       "      <td>6000</td>\n",
       "      <td>LAR</td>\n",
       "      <td>GB</td>\n",
       "      <td>NaN</td>\n",
       "      <td>1</td>\n",
       "      <td>None</td>\n",
       "    </tr>\n",
       "    <tr>\n",
       "      <th>...</th>\n",
       "      <td>...</td>\n",
       "      <td>...</td>\n",
       "      <td>...</td>\n",
       "      <td>...</td>\n",
       "      <td>...</td>\n",
       "      <td>...</td>\n",
       "      <td>...</td>\n",
       "      <td>...</td>\n",
       "      <td>...</td>\n",
       "      <td>...</td>\n",
       "      <td>...</td>\n",
       "    </tr>\n",
       "    <tr>\n",
       "      <th>53</th>\n",
       "      <td>107566-114039</td>\n",
       "      <td>WR</td>\n",
       "      <td>Peter</td>\n",
       "      <td>Peter LeBlanc</td>\n",
       "      <td>LeBlanc</td>\n",
       "      <td>4000</td>\n",
       "      <td>CHI</td>\n",
       "      <td>CAR</td>\n",
       "      <td>NaN</td>\n",
       "      <td>1</td>\n",
       "      <td>None</td>\n",
       "    </tr>\n",
       "    <tr>\n",
       "      <th>52</th>\n",
       "      <td>107566-90483</td>\n",
       "      <td>TE</td>\n",
       "      <td>Bernhard</td>\n",
       "      <td>Bernhard Raimann</td>\n",
       "      <td>Raimann</td>\n",
       "      <td>4000</td>\n",
       "      <td>IND</td>\n",
       "      <td>JAX</td>\n",
       "      <td>NaN</td>\n",
       "      <td>0</td>\n",
       "      <td>None</td>\n",
       "    </tr>\n",
       "    <tr>\n",
       "      <th>51</th>\n",
       "      <td>107566-68975</td>\n",
       "      <td>TE</td>\n",
       "      <td>Josh</td>\n",
       "      <td>Josh Pederson</td>\n",
       "      <td>Pederson</td>\n",
       "      <td>4000</td>\n",
       "      <td>JAX</td>\n",
       "      <td>IND</td>\n",
       "      <td>Q</td>\n",
       "      <td>1</td>\n",
       "      <td>None</td>\n",
       "    </tr>\n",
       "    <tr>\n",
       "      <th>50</th>\n",
       "      <td>107566-63851</td>\n",
       "      <td>TE</td>\n",
       "      <td>Tyree</td>\n",
       "      <td>Tyree Jackson</td>\n",
       "      <td>Jackson</td>\n",
       "      <td>4000</td>\n",
       "      <td>NYG</td>\n",
       "      <td>SEA</td>\n",
       "      <td>Q</td>\n",
       "      <td>0</td>\n",
       "      <td>None</td>\n",
       "    </tr>\n",
       "    <tr>\n",
       "      <th>147</th>\n",
       "      <td>107566-104421</td>\n",
       "      <td>TE</td>\n",
       "      <td>Jesper</td>\n",
       "      <td>Jesper Horsted</td>\n",
       "      <td>Horsted</td>\n",
       "      <td>4000</td>\n",
       "      <td>CAR</td>\n",
       "      <td>CHI</td>\n",
       "      <td>NaN</td>\n",
       "      <td>0</td>\n",
       "      <td>None</td>\n",
       "    </tr>\n",
       "  </tbody>\n",
       "</table>\n",
       "<p>148 rows × 11 columns</p>\n",
       "</div>"
      ],
      "text/plain": [
       "                ID Position First Name              Name Last Name  Salary  \\\n",
       "0     107566-86081       QB      Emory       Emory Jones     Jones    6000   \n",
       "1    107566-114763       QB      Gavin    Gavin Hardison  Hardison    6000   \n",
       "2     107566-88147       QB     Chevan   Chevan Cordeiro  Cordeiro    6000   \n",
       "3     107566-54507       QB       Alex      Alex McGough   McGough    6000   \n",
       "4    107566-185640       QB    Dresser      Dresser Winn      Winn    6000   \n",
       "..             ...      ...        ...               ...       ...     ...   \n",
       "53   107566-114039       WR      Peter     Peter LeBlanc   LeBlanc    4000   \n",
       "52    107566-90483       TE   Bernhard  Bernhard Raimann   Raimann    4000   \n",
       "51    107566-68975       TE       Josh     Josh Pederson  Pederson    4000   \n",
       "50    107566-63851       TE      Tyree     Tyree Jackson   Jackson    4000   \n",
       "147  107566-104421       TE     Jesper    Jesper Horsted   Horsted    4000   \n",
       "\n",
       "    Team Opponent Status  home_team matched_name  \n",
       "0    BAL      CIN    NaN          0         None  \n",
       "1    MIA       NE    NaN          0         None  \n",
       "2    SEA      NYG    NaN          1         None  \n",
       "3     GB      LAR      Q          0         None  \n",
       "4    LAR       GB    NaN          1         None  \n",
       "..   ...      ...    ...        ...          ...  \n",
       "53   CHI      CAR    NaN          1         None  \n",
       "52   IND      JAX    NaN          0         None  \n",
       "51   JAX      IND      Q          1         None  \n",
       "50   NYG      SEA      Q          0         None  \n",
       "147  CAR      CHI    NaN          0         None  \n",
       "\n",
       "[148 rows x 11 columns]"
      ]
     },
     "execution_count": 123,
     "metadata": {},
     "output_type": "execute_result"
    }
   ],
   "source": [
    "unmatched_in_fd.sort_values(by = ['Salary'], ascending = False)"
   ]
  },
  {
   "cell_type": "markdown",
   "id": "b074c78d-221f-4a88-a115-55930816094c",
   "metadata": {},
   "source": [
    "Since 4000 is the min FLEX salary on FanDuel and 6000 is the min QB salary, most unmatched names with those salaries are probably players who wouldn't be rostered anyway."
   ]
  },
  {
   "cell_type": "code",
   "execution_count": 124,
   "id": "ae9b99d7-6d97-4e7a-80ca-5ef7169d4fdb",
   "metadata": {},
   "outputs": [
    {
     "data": {
      "text/plain": [
       "Salary\n",
       "4000    131\n",
       "6000     16\n",
       "4200      1\n",
       "Name: count, dtype: int64"
      ]
     },
     "execution_count": 124,
     "metadata": {},
     "output_type": "execute_result"
    }
   ],
   "source": [
    "unmatched_in_fd['Salary'].value_counts()"
   ]
  },
  {
   "cell_type": "markdown",
   "id": "5a77a94a-ef17-4478-8514-c367501853dd",
   "metadata": {},
   "source": [
    "Now we check for names with a matching score of 80 or more, and see if it's the same player."
   ]
  },
  {
   "cell_type": "code",
   "execution_count": 125,
   "id": "2973cbb1-a02f-4b25-8fe2-b33d0e0ac71c",
   "metadata": {},
   "outputs": [
    {
     "data": {
      "text/html": [
       "<div>\n",
       "<style scoped>\n",
       "    .dataframe tbody tr th:only-of-type {\n",
       "        vertical-align: middle;\n",
       "    }\n",
       "\n",
       "    .dataframe tbody tr th {\n",
       "        vertical-align: top;\n",
       "    }\n",
       "\n",
       "    .dataframe thead th {\n",
       "        text-align: right;\n",
       "    }\n",
       "</style>\n",
       "<table border=\"1\" class=\"dataframe\">\n",
       "  <thead>\n",
       "    <tr style=\"text-align: right;\">\n",
       "      <th></th>\n",
       "      <th>ID</th>\n",
       "      <th>Position</th>\n",
       "      <th>First Name</th>\n",
       "      <th>Name</th>\n",
       "      <th>Last Name</th>\n",
       "      <th>Salary</th>\n",
       "      <th>Team</th>\n",
       "      <th>Opponent</th>\n",
       "      <th>Status</th>\n",
       "      <th>home_team</th>\n",
       "      <th>matched_name</th>\n",
       "    </tr>\n",
       "  </thead>\n",
       "  <tbody>\n",
       "    <tr>\n",
       "      <th>235</th>\n",
       "      <td>107566-133477</td>\n",
       "      <td>TE</td>\n",
       "      <td>Darnell</td>\n",
       "      <td>Darnell Washington</td>\n",
       "      <td>Washington</td>\n",
       "      <td>4800</td>\n",
       "      <td>PIT</td>\n",
       "      <td>DAL</td>\n",
       "      <td>NaN</td>\n",
       "      <td>1</td>\n",
       "      <td>Parker Washington</td>\n",
       "    </tr>\n",
       "    <tr>\n",
       "      <th>341</th>\n",
       "      <td>107566-92166</td>\n",
       "      <td>WR</td>\n",
       "      <td>Marcus</td>\n",
       "      <td>Marcus Jones</td>\n",
       "      <td>Jones</td>\n",
       "      <td>4000</td>\n",
       "      <td>NE</td>\n",
       "      <td>MIA</td>\n",
       "      <td>Q</td>\n",
       "      <td>1</td>\n",
       "      <td>Mac Jones</td>\n",
       "    </tr>\n",
       "    <tr>\n",
       "      <th>365</th>\n",
       "      <td>107566-112737</td>\n",
       "      <td>WR</td>\n",
       "      <td>Isaiah</td>\n",
       "      <td>Isaiah Washington</td>\n",
       "      <td>Washington</td>\n",
       "      <td>4000</td>\n",
       "      <td>BAL</td>\n",
       "      <td>CIN</td>\n",
       "      <td>Q</td>\n",
       "      <td>0</td>\n",
       "      <td>Tahj Washington</td>\n",
       "    </tr>\n",
       "    <tr>\n",
       "      <th>431</th>\n",
       "      <td>107566-185639</td>\n",
       "      <td>WR</td>\n",
       "      <td>Keilahn</td>\n",
       "      <td>Keilahn Harris</td>\n",
       "      <td>Harris</td>\n",
       "      <td>4000</td>\n",
       "      <td>PIT</td>\n",
       "      <td>DAL</td>\n",
       "      <td>Q</td>\n",
       "      <td>1</td>\n",
       "      <td>Kevin Harris</td>\n",
       "    </tr>\n",
       "    <tr>\n",
       "      <th>441</th>\n",
       "      <td>107566-90456</td>\n",
       "      <td>WR</td>\n",
       "      <td>Ty</td>\n",
       "      <td>Ty Scott</td>\n",
       "      <td>Scott</td>\n",
       "      <td>4000</td>\n",
       "      <td>SEA</td>\n",
       "      <td>NYG</td>\n",
       "      <td>NaN</td>\n",
       "      <td>1</td>\n",
       "      <td>Tyler Scott</td>\n",
       "    </tr>\n",
       "    <tr>\n",
       "      <th>494</th>\n",
       "      <td>107566-109008</td>\n",
       "      <td>WR</td>\n",
       "      <td>Jalen</td>\n",
       "      <td>Jalen Cropper</td>\n",
       "      <td>Cropper</td>\n",
       "      <td>4000</td>\n",
       "      <td>DAL</td>\n",
       "      <td>PIT</td>\n",
       "      <td>NaN</td>\n",
       "      <td>0</td>\n",
       "      <td>Jalen Coker</td>\n",
       "    </tr>\n",
       "    <tr>\n",
       "      <th>614</th>\n",
       "      <td>107566-26355</td>\n",
       "      <td>TE</td>\n",
       "      <td>Logan</td>\n",
       "      <td>Logan Thomas</td>\n",
       "      <td>Thomas</td>\n",
       "      <td>4000</td>\n",
       "      <td>SF</td>\n",
       "      <td>ARI</td>\n",
       "      <td>NaN</td>\n",
       "      <td>1</td>\n",
       "      <td>Ian Thomas</td>\n",
       "    </tr>\n",
       "  </tbody>\n",
       "</table>\n",
       "</div>"
      ],
      "text/plain": [
       "                ID Position First Name                Name   Last Name  \\\n",
       "235  107566-133477       TE    Darnell  Darnell Washington  Washington   \n",
       "341   107566-92166       WR     Marcus        Marcus Jones       Jones   \n",
       "365  107566-112737       WR     Isaiah   Isaiah Washington  Washington   \n",
       "431  107566-185639       WR    Keilahn      Keilahn Harris      Harris   \n",
       "441   107566-90456       WR         Ty            Ty Scott       Scott   \n",
       "494  107566-109008       WR      Jalen       Jalen Cropper     Cropper   \n",
       "614   107566-26355       TE      Logan        Logan Thomas      Thomas   \n",
       "\n",
       "     Salary Team Opponent Status  home_team       matched_name  \n",
       "235    4800  PIT      DAL    NaN          1  Parker Washington  \n",
       "341    4000   NE      MIA      Q          1          Mac Jones  \n",
       "365    4000  BAL      CIN      Q          0    Tahj Washington  \n",
       "431    4000  PIT      DAL      Q          1       Kevin Harris  \n",
       "441    4000  SEA      NYG    NaN          1        Tyler Scott  \n",
       "494    4000  DAL      PIT    NaN          0        Jalen Coker  \n",
       "614    4000   SF      ARI    NaN          1         Ian Thomas  "
      ]
     },
     "execution_count": 125,
     "metadata": {},
     "output_type": "execute_result"
    }
   ],
   "source": [
    "fd_df[(fd_df['Name'] != fd_df['matched_name']) & (fd_df['matched_name'].notna())]"
   ]
  },
  {
   "cell_type": "code",
   "execution_count": 126,
   "id": "7ed608ff-6fdd-4ee5-8f5f-fba7cbf98dd5",
   "metadata": {},
   "outputs": [],
   "source": [
    "fd_merge = fd_df[['Name', 'Team', 'Opponent', 'home_team', 'Status']]"
   ]
  },
  {
   "cell_type": "code",
   "execution_count": 127,
   "id": "d4d47f53-cc65-4d8d-ba56-7500159e5594",
   "metadata": {},
   "outputs": [],
   "source": [
    "dk_df = pd.merge(dk_df, fd_merge, on = ['Name', 'Team'], how = 'left')"
   ]
  },
  {
   "cell_type": "markdown",
   "id": "6937574d-67e3-4e0a-acd9-d7f6e7ae3793",
   "metadata": {},
   "source": [
    "Now we still have to fill missing Opponent and home_team values in DK for the players not in the FD list."
   ]
  },
  {
   "cell_type": "code",
   "execution_count": 128,
   "id": "1fcbb957-32eb-4aab-88b7-707bcf26d50c",
   "metadata": {},
   "outputs": [],
   "source": [
    "team_dict = {team: (group['Opponent'].values[0], group['home_team'].values[0]) \n",
    "             for team, group in fd_df.groupby('Team')}"
   ]
  },
  {
   "cell_type": "code",
   "execution_count": 129,
   "id": "c48c2d6d-8041-48af-98fc-c2703f45de78",
   "metadata": {},
   "outputs": [],
   "source": [
    "dk_df['Opponent_filled'] = dk_df['Team'].map(lambda x: team_dict.get(x, (None, None))[0])\n",
    "dk_df['home_team_filled'] = dk_df['Team'].map(lambda x: team_dict.get(x, (None, None))[1])\n",
    "\n",
    "# Fill missing values in the original columns with the new columns\n",
    "dk_df['Opponent'].fillna(dk_df['Opponent_filled'], inplace=True)\n",
    "dk_df['home_team'].fillna(dk_df['home_team_filled'], inplace=True)\n",
    "\n",
    "# Drop the temporary filled columns\n",
    "dk_df.drop(columns=['Opponent_filled', 'home_team_filled'], inplace=True)"
   ]
  },
  {
   "cell_type": "code",
   "execution_count": 130,
   "id": "d996e2f6-74b9-43f6-9c4d-6b48214f1cc6",
   "metadata": {},
   "outputs": [],
   "source": [
    "dk_df = dk_df[['ID', 'Name', 'Position', 'Salary', 'Team', 'Opponent', 'home_team', 'Status']]\n",
    "fd_df = fd_df[['ID', 'Name', 'Position', 'Salary', 'Team', 'Opponent', 'home_team', 'Status']]"
   ]
  },
  {
   "cell_type": "code",
   "execution_count": 131,
   "id": "48aa8722-6a84-4e09-b1d2-d1684731fb46",
   "metadata": {},
   "outputs": [],
   "source": [
    "#Adding date and week indicator columns\n",
    "fd_df['Date'] = pd.to_datetime(date_string).strftime('%m-%d-%Y')\n",
    "dk_df['Date'] = pd.to_datetime(date_string).strftime('%m-%d-%Y')\n",
    "fd_df['Week'] = week\n",
    "dk_df['Week'] = week"
   ]
  },
  {
   "cell_type": "code",
   "execution_count": 132,
   "id": "2be419fc-74cb-4e88-9719-95a2ba37a75d",
   "metadata": {},
   "outputs": [
    {
     "data": {
      "text/html": [
       "<div>\n",
       "<style scoped>\n",
       "    .dataframe tbody tr th:only-of-type {\n",
       "        vertical-align: middle;\n",
       "    }\n",
       "\n",
       "    .dataframe tbody tr th {\n",
       "        vertical-align: top;\n",
       "    }\n",
       "\n",
       "    .dataframe thead th {\n",
       "        text-align: right;\n",
       "    }\n",
       "</style>\n",
       "<table border=\"1\" class=\"dataframe\">\n",
       "  <thead>\n",
       "    <tr style=\"text-align: right;\">\n",
       "      <th></th>\n",
       "      <th>ID</th>\n",
       "      <th>Name</th>\n",
       "      <th>Position</th>\n",
       "      <th>Salary</th>\n",
       "      <th>Team</th>\n",
       "      <th>Opponent</th>\n",
       "      <th>home_team</th>\n",
       "      <th>Status</th>\n",
       "      <th>Date</th>\n",
       "      <th>Week</th>\n",
       "    </tr>\n",
       "  </thead>\n",
       "  <tbody>\n",
       "    <tr>\n",
       "      <th>0</th>\n",
       "      <td>107566-86631</td>\n",
       "      <td>CeeDee Lamb</td>\n",
       "      <td>WR</td>\n",
       "      <td>9400</td>\n",
       "      <td>DAL</td>\n",
       "      <td>PIT</td>\n",
       "      <td>0</td>\n",
       "      <td>NaN</td>\n",
       "      <td>10-06-2024</td>\n",
       "      <td>5</td>\n",
       "    </tr>\n",
       "    <tr>\n",
       "      <th>1</th>\n",
       "      <td>107566-85701</td>\n",
       "      <td>Ja'Marr Chase</td>\n",
       "      <td>WR</td>\n",
       "      <td>9300</td>\n",
       "      <td>CIN</td>\n",
       "      <td>BAL</td>\n",
       "      <td>1</td>\n",
       "      <td>NaN</td>\n",
       "      <td>10-06-2024</td>\n",
       "      <td>5</td>\n",
       "    </tr>\n",
       "    <tr>\n",
       "      <th>2</th>\n",
       "      <td>107566-62239</td>\n",
       "      <td>Josh Allen</td>\n",
       "      <td>QB</td>\n",
       "      <td>9300</td>\n",
       "      <td>BUF</td>\n",
       "      <td>HOU</td>\n",
       "      <td>0</td>\n",
       "      <td>NaN</td>\n",
       "      <td>10-06-2024</td>\n",
       "      <td>5</td>\n",
       "    </tr>\n",
       "    <tr>\n",
       "      <th>3</th>\n",
       "      <td>107566-39280</td>\n",
       "      <td>Derrick Henry</td>\n",
       "      <td>RB</td>\n",
       "      <td>9200</td>\n",
       "      <td>BAL</td>\n",
       "      <td>CIN</td>\n",
       "      <td>0</td>\n",
       "      <td>NaN</td>\n",
       "      <td>10-06-2024</td>\n",
       "      <td>5</td>\n",
       "    </tr>\n",
       "    <tr>\n",
       "      <th>4</th>\n",
       "      <td>107566-91419</td>\n",
       "      <td>Nico Collins</td>\n",
       "      <td>WR</td>\n",
       "      <td>8800</td>\n",
       "      <td>HOU</td>\n",
       "      <td>BUF</td>\n",
       "      <td>1</td>\n",
       "      <td>NaN</td>\n",
       "      <td>10-06-2024</td>\n",
       "      <td>5</td>\n",
       "    </tr>\n",
       "  </tbody>\n",
       "</table>\n",
       "</div>"
      ],
      "text/plain": [
       "             ID           Name Position  Salary Team Opponent  home_team  \\\n",
       "0  107566-86631    CeeDee Lamb       WR    9400  DAL      PIT          0   \n",
       "1  107566-85701  Ja'Marr Chase       WR    9300  CIN      BAL          1   \n",
       "2  107566-62239     Josh Allen       QB    9300  BUF      HOU          0   \n",
       "3  107566-39280  Derrick Henry       RB    9200  BAL      CIN          0   \n",
       "4  107566-91419   Nico Collins       WR    8800  HOU      BUF          1   \n",
       "\n",
       "  Status        Date  Week  \n",
       "0    NaN  10-06-2024     5  \n",
       "1    NaN  10-06-2024     5  \n",
       "2    NaN  10-06-2024     5  \n",
       "3    NaN  10-06-2024     5  \n",
       "4    NaN  10-06-2024     5  "
      ]
     },
     "execution_count": 132,
     "metadata": {},
     "output_type": "execute_result"
    }
   ],
   "source": [
    "fd_df.head()"
   ]
  },
  {
   "cell_type": "code",
   "execution_count": 133,
   "id": "ffac7f43-a5cb-410a-9968-ad28645d8bb7",
   "metadata": {},
   "outputs": [
    {
     "data": {
      "text/html": [
       "<div>\n",
       "<style scoped>\n",
       "    .dataframe tbody tr th:only-of-type {\n",
       "        vertical-align: middle;\n",
       "    }\n",
       "\n",
       "    .dataframe tbody tr th {\n",
       "        vertical-align: top;\n",
       "    }\n",
       "\n",
       "    .dataframe thead th {\n",
       "        text-align: right;\n",
       "    }\n",
       "</style>\n",
       "<table border=\"1\" class=\"dataframe\">\n",
       "  <thead>\n",
       "    <tr style=\"text-align: right;\">\n",
       "      <th></th>\n",
       "      <th>ID</th>\n",
       "      <th>Name</th>\n",
       "      <th>Position</th>\n",
       "      <th>Salary</th>\n",
       "      <th>Team</th>\n",
       "      <th>Opponent</th>\n",
       "      <th>home_team</th>\n",
       "      <th>Status</th>\n",
       "      <th>Date</th>\n",
       "      <th>Week</th>\n",
       "    </tr>\n",
       "  </thead>\n",
       "  <tbody>\n",
       "    <tr>\n",
       "      <th>0</th>\n",
       "      <td>36142122</td>\n",
       "      <td>Ja'Marr Chase</td>\n",
       "      <td>WR</td>\n",
       "      <td>8000</td>\n",
       "      <td>CIN</td>\n",
       "      <td>BAL</td>\n",
       "      <td>1</td>\n",
       "      <td>NaN</td>\n",
       "      <td>10-06-2024</td>\n",
       "      <td>5</td>\n",
       "    </tr>\n",
       "    <tr>\n",
       "      <th>1</th>\n",
       "      <td>36142124</td>\n",
       "      <td>Cooper Kupp</td>\n",
       "      <td>WR</td>\n",
       "      <td>7900</td>\n",
       "      <td>LAR</td>\n",
       "      <td>GB</td>\n",
       "      <td>1</td>\n",
       "      <td>O</td>\n",
       "      <td>10-06-2024</td>\n",
       "      <td>5</td>\n",
       "    </tr>\n",
       "    <tr>\n",
       "      <th>2</th>\n",
       "      <td>36141894</td>\n",
       "      <td>Derrick Henry</td>\n",
       "      <td>RB</td>\n",
       "      <td>7800</td>\n",
       "      <td>BAL</td>\n",
       "      <td>CIN</td>\n",
       "      <td>0</td>\n",
       "      <td>NaN</td>\n",
       "      <td>10-06-2024</td>\n",
       "      <td>5</td>\n",
       "    </tr>\n",
       "    <tr>\n",
       "      <th>3</th>\n",
       "      <td>36141829</td>\n",
       "      <td>Josh Allen</td>\n",
       "      <td>QB</td>\n",
       "      <td>7700</td>\n",
       "      <td>BUF</td>\n",
       "      <td>HOU</td>\n",
       "      <td>0</td>\n",
       "      <td>NaN</td>\n",
       "      <td>10-06-2024</td>\n",
       "      <td>5</td>\n",
       "    </tr>\n",
       "    <tr>\n",
       "      <th>4</th>\n",
       "      <td>36142126</td>\n",
       "      <td>Nico Collins</td>\n",
       "      <td>WR</td>\n",
       "      <td>7700</td>\n",
       "      <td>HOU</td>\n",
       "      <td>BUF</td>\n",
       "      <td>1</td>\n",
       "      <td>NaN</td>\n",
       "      <td>10-06-2024</td>\n",
       "      <td>5</td>\n",
       "    </tr>\n",
       "  </tbody>\n",
       "</table>\n",
       "</div>"
      ],
      "text/plain": [
       "         ID           Name Position  Salary Team Opponent  home_team Status  \\\n",
       "0  36142122  Ja'Marr Chase       WR    8000  CIN      BAL          1    NaN   \n",
       "1  36142124    Cooper Kupp       WR    7900  LAR       GB          1      O   \n",
       "2  36141894  Derrick Henry       RB    7800  BAL      CIN          0    NaN   \n",
       "3  36141829     Josh Allen       QB    7700  BUF      HOU          0    NaN   \n",
       "4  36142126   Nico Collins       WR    7700  HOU      BUF          1    NaN   \n",
       "\n",
       "         Date  Week  \n",
       "0  10-06-2024     5  \n",
       "1  10-06-2024     5  \n",
       "2  10-06-2024     5  \n",
       "3  10-06-2024     5  \n",
       "4  10-06-2024     5  "
      ]
     },
     "execution_count": 133,
     "metadata": {},
     "output_type": "execute_result"
    }
   ],
   "source": [
    "dk_df.head()"
   ]
  },
  {
   "cell_type": "code",
   "execution_count": 134,
   "id": "3d7f2ce1-e9b1-4d79-b669-2646fe5c9438",
   "metadata": {},
   "outputs": [
    {
     "name": "stdout",
     "output_type": "stream",
     "text": [
      "<class 'pandas.core.frame.DataFrame'>\n",
      "RangeIndex: 495 entries, 0 to 494\n",
      "Data columns (total 10 columns):\n",
      " #   Column     Non-Null Count  Dtype \n",
      "---  ------     --------------  ----- \n",
      " 0   ID         495 non-null    int64 \n",
      " 1   Name       495 non-null    object\n",
      " 2   Position   495 non-null    object\n",
      " 3   Salary     495 non-null    int64 \n",
      " 4   Team       495 non-null    object\n",
      " 5   Opponent   495 non-null    object\n",
      " 6   home_team  495 non-null    int32 \n",
      " 7   Status     77 non-null     object\n",
      " 8   Date       495 non-null    object\n",
      " 9   Week       495 non-null    int64 \n",
      "dtypes: int32(1), int64(3), object(6)\n",
      "memory usage: 36.9+ KB\n"
     ]
    }
   ],
   "source": [
    "dk_df.info()"
   ]
  },
  {
   "cell_type": "code",
   "execution_count": 135,
   "id": "686ef594-e33d-41e5-8328-a7529e0910c2",
   "metadata": {},
   "outputs": [
    {
     "name": "stdout",
     "output_type": "stream",
     "text": [
      "<class 'pandas.core.frame.DataFrame'>\n",
      "RangeIndex: 713 entries, 0 to 712\n",
      "Data columns (total 10 columns):\n",
      " #   Column     Non-Null Count  Dtype \n",
      "---  ------     --------------  ----- \n",
      " 0   ID         713 non-null    object\n",
      " 1   Name       713 non-null    object\n",
      " 2   Position   713 non-null    object\n",
      " 3   Salary     713 non-null    int64 \n",
      " 4   Team       713 non-null    object\n",
      " 5   Opponent   713 non-null    object\n",
      " 6   home_team  713 non-null    int32 \n",
      " 7   Status     128 non-null    object\n",
      " 8   Date       713 non-null    object\n",
      " 9   Week       713 non-null    int64 \n",
      "dtypes: int32(1), int64(2), object(7)\n",
      "memory usage: 53.0+ KB\n"
     ]
    }
   ],
   "source": [
    "fd_df.info()"
   ]
  },
  {
   "cell_type": "code",
   "execution_count": 136,
   "id": "06267167-68e2-4fb7-88c9-6c56a22245cd",
   "metadata": {},
   "outputs": [
    {
     "data": {
      "text/html": [
       "<div>\n",
       "<style scoped>\n",
       "    .dataframe tbody tr th:only-of-type {\n",
       "        vertical-align: middle;\n",
       "    }\n",
       "\n",
       "    .dataframe tbody tr th {\n",
       "        vertical-align: top;\n",
       "    }\n",
       "\n",
       "    .dataframe thead th {\n",
       "        text-align: right;\n",
       "    }\n",
       "</style>\n",
       "<table border=\"1\" class=\"dataframe\">\n",
       "  <thead>\n",
       "    <tr style=\"text-align: right;\">\n",
       "      <th></th>\n",
       "      <th>ID</th>\n",
       "      <th>Name</th>\n",
       "      <th>Position</th>\n",
       "      <th>Salary</th>\n",
       "      <th>Team</th>\n",
       "      <th>Opponent</th>\n",
       "      <th>home_team</th>\n",
       "      <th>Status</th>\n",
       "      <th>Date</th>\n",
       "      <th>Week</th>\n",
       "    </tr>\n",
       "  </thead>\n",
       "  <tbody>\n",
       "  </tbody>\n",
       "</table>\n",
       "</div>"
      ],
      "text/plain": [
       "Empty DataFrame\n",
       "Columns: [ID, Name, Position, Salary, Team, Opponent, home_team, Status, Date, Week]\n",
       "Index: []"
      ]
     },
     "execution_count": 136,
     "metadata": {},
     "output_type": "execute_result"
    }
   ],
   "source": [
    "dk_df[dk_df[['Opponent', 'home_team']].isnull().any(axis = 1)]"
   ]
  },
  {
   "cell_type": "code",
   "execution_count": 137,
   "id": "da837974-0ff6-4e27-b295-bf46196cd44c",
   "metadata": {},
   "outputs": [],
   "source": [
    "#Drops all free agents since they can't be rostered\n",
    "dk_df = dk_df[dk_df['Team'] != 'FA']\n",
    "fd_df = fd_df[fd_df['Team'] != 'FA']"
   ]
  },
  {
   "cell_type": "code",
   "execution_count": 138,
   "id": "c243943a-f4bc-460c-bcbc-f66e7cc5d2a8",
   "metadata": {},
   "outputs": [],
   "source": [
    "#Filling Status missing values with Active, which we'll assume since there is no injury designation.\n",
    "dk_df['Status'].fillna('Active', inplace=True)\n",
    "fd_df['Status'].fillna('Active', inplace = True)"
   ]
  },
  {
   "cell_type": "code",
   "execution_count": 139,
   "id": "0ad48b44-0351-4125-ab76-5b31371f902c",
   "metadata": {},
   "outputs": [],
   "source": [
    "dk_df['Position'] = dk_df['Position'].replace({'DST':'D'})\n",
    "dk_df['home_team'] = dk_df['home_team'].astype('int')\n",
    "dk_df.reset_index(drop = True, inplace = True)"
   ]
  },
  {
   "cell_type": "code",
   "execution_count": 140,
   "id": "c2a1033b-9b54-4792-a3a0-e12541963ddd",
   "metadata": {},
   "outputs": [],
   "source": [
    "# Converting team names in opponent columns for FD and DK\n",
    "fd_df['Name'] = fd_df['Name'].apply(convert_team_names)"
   ]
  },
  {
   "cell_type": "code",
   "execution_count": 141,
   "id": "f260fb23-6807-45c8-9050-92e9547a15f1",
   "metadata": {},
   "outputs": [],
   "source": [
    "dk_df['Name'] = dk_df['Name'].apply(convert_team_names)"
   ]
  },
  {
   "cell_type": "code",
   "execution_count": 142,
   "id": "8cdca3b4-9a91-4165-9597-bccb4ad7cb7f",
   "metadata": {},
   "outputs": [],
   "source": [
    "fd_df.rename(columns = {'Name': 'name', 'Position': 'position', 'Salary': 'salary', 'Team': 'team', 'Opponent': 'opponent',\\\n",
    "                       'Status': 'status', 'Date': 'date', 'Week': 'week'}, inplace = True)"
   ]
  },
  {
   "cell_type": "code",
   "execution_count": 143,
   "id": "19c0a865-e657-4e7c-a4b9-8dd17b287991",
   "metadata": {},
   "outputs": [],
   "source": [
    "dk_df.rename(columns = {'Name': 'name', 'Position': 'position', 'Salary': 'salary', 'Team': 'team', 'Opponent': 'opponent',\\\n",
    "                       'Status': 'status', 'Date': 'date', 'Week': 'week'}, inplace = True)"
   ]
  },
  {
   "cell_type": "code",
   "execution_count": 144,
   "id": "1b1223db-3e7a-49da-a7aa-865d473563a2",
   "metadata": {},
   "outputs": [
    {
     "name": "stdout",
     "output_type": "stream",
     "text": [
      "<class 'pandas.core.frame.DataFrame'>\n",
      "RangeIndex: 713 entries, 0 to 712\n",
      "Data columns (total 10 columns):\n",
      " #   Column     Non-Null Count  Dtype \n",
      "---  ------     --------------  ----- \n",
      " 0   ID         713 non-null    object\n",
      " 1   name       713 non-null    object\n",
      " 2   position   713 non-null    object\n",
      " 3   salary     713 non-null    int64 \n",
      " 4   team       713 non-null    object\n",
      " 5   opponent   713 non-null    object\n",
      " 6   home_team  713 non-null    int32 \n",
      " 7   status     713 non-null    object\n",
      " 8   date       713 non-null    object\n",
      " 9   week       713 non-null    int64 \n",
      "dtypes: int32(1), int64(2), object(7)\n",
      "memory usage: 53.0+ KB\n"
     ]
    }
   ],
   "source": [
    "fd_df.info()"
   ]
  },
  {
   "cell_type": "code",
   "execution_count": 145,
   "id": "dd0fe80e-570b-49bd-a44e-552a88e6c693",
   "metadata": {},
   "outputs": [
    {
     "name": "stdout",
     "output_type": "stream",
     "text": [
      "<class 'pandas.core.frame.DataFrame'>\n",
      "RangeIndex: 495 entries, 0 to 494\n",
      "Data columns (total 10 columns):\n",
      " #   Column     Non-Null Count  Dtype \n",
      "---  ------     --------------  ----- \n",
      " 0   ID         495 non-null    int64 \n",
      " 1   name       495 non-null    object\n",
      " 2   position   495 non-null    object\n",
      " 3   salary     495 non-null    int64 \n",
      " 4   team       495 non-null    object\n",
      " 5   opponent   495 non-null    object\n",
      " 6   home_team  495 non-null    int32 \n",
      " 7   status     495 non-null    object\n",
      " 8   date       495 non-null    object\n",
      " 9   week       495 non-null    int64 \n",
      "dtypes: int32(1), int64(3), object(6)\n",
      "memory usage: 36.9+ KB\n"
     ]
    }
   ],
   "source": [
    "dk_df.info()"
   ]
  },
  {
   "cell_type": "code",
   "execution_count": 146,
   "id": "75f0d454-9868-4a86-b27a-3e32ff4dfa2b",
   "metadata": {},
   "outputs": [
    {
     "data": {
      "text/html": [
       "<div>\n",
       "<style scoped>\n",
       "    .dataframe tbody tr th:only-of-type {\n",
       "        vertical-align: middle;\n",
       "    }\n",
       "\n",
       "    .dataframe tbody tr th {\n",
       "        vertical-align: top;\n",
       "    }\n",
       "\n",
       "    .dataframe thead th {\n",
       "        text-align: right;\n",
       "    }\n",
       "</style>\n",
       "<table border=\"1\" class=\"dataframe\">\n",
       "  <thead>\n",
       "    <tr style=\"text-align: right;\">\n",
       "      <th></th>\n",
       "      <th>ID</th>\n",
       "      <th>name</th>\n",
       "      <th>position</th>\n",
       "      <th>salary</th>\n",
       "      <th>team</th>\n",
       "      <th>opponent</th>\n",
       "      <th>home_team</th>\n",
       "      <th>status</th>\n",
       "      <th>date</th>\n",
       "      <th>week</th>\n",
       "    </tr>\n",
       "  </thead>\n",
       "  <tbody>\n",
       "    <tr>\n",
       "      <th>0</th>\n",
       "      <td>107566-86631</td>\n",
       "      <td>CeeDee Lamb</td>\n",
       "      <td>WR</td>\n",
       "      <td>9400</td>\n",
       "      <td>DAL</td>\n",
       "      <td>PIT</td>\n",
       "      <td>0</td>\n",
       "      <td>Active</td>\n",
       "      <td>10-06-2024</td>\n",
       "      <td>5</td>\n",
       "    </tr>\n",
       "    <tr>\n",
       "      <th>1</th>\n",
       "      <td>107566-85701</td>\n",
       "      <td>Ja'Marr Chase</td>\n",
       "      <td>WR</td>\n",
       "      <td>9300</td>\n",
       "      <td>CIN</td>\n",
       "      <td>BAL</td>\n",
       "      <td>1</td>\n",
       "      <td>Active</td>\n",
       "      <td>10-06-2024</td>\n",
       "      <td>5</td>\n",
       "    </tr>\n",
       "    <tr>\n",
       "      <th>2</th>\n",
       "      <td>107566-62239</td>\n",
       "      <td>Josh Allen</td>\n",
       "      <td>QB</td>\n",
       "      <td>9300</td>\n",
       "      <td>BUF</td>\n",
       "      <td>HOU</td>\n",
       "      <td>0</td>\n",
       "      <td>Active</td>\n",
       "      <td>10-06-2024</td>\n",
       "      <td>5</td>\n",
       "    </tr>\n",
       "    <tr>\n",
       "      <th>3</th>\n",
       "      <td>107566-39280</td>\n",
       "      <td>Derrick Henry</td>\n",
       "      <td>RB</td>\n",
       "      <td>9200</td>\n",
       "      <td>BAL</td>\n",
       "      <td>CIN</td>\n",
       "      <td>0</td>\n",
       "      <td>Active</td>\n",
       "      <td>10-06-2024</td>\n",
       "      <td>5</td>\n",
       "    </tr>\n",
       "    <tr>\n",
       "      <th>4</th>\n",
       "      <td>107566-91419</td>\n",
       "      <td>Nico Collins</td>\n",
       "      <td>WR</td>\n",
       "      <td>8800</td>\n",
       "      <td>HOU</td>\n",
       "      <td>BUF</td>\n",
       "      <td>1</td>\n",
       "      <td>Active</td>\n",
       "      <td>10-06-2024</td>\n",
       "      <td>5</td>\n",
       "    </tr>\n",
       "  </tbody>\n",
       "</table>\n",
       "</div>"
      ],
      "text/plain": [
       "             ID           name position  salary team opponent  home_team  \\\n",
       "0  107566-86631    CeeDee Lamb       WR    9400  DAL      PIT          0   \n",
       "1  107566-85701  Ja'Marr Chase       WR    9300  CIN      BAL          1   \n",
       "2  107566-62239     Josh Allen       QB    9300  BUF      HOU          0   \n",
       "3  107566-39280  Derrick Henry       RB    9200  BAL      CIN          0   \n",
       "4  107566-91419   Nico Collins       WR    8800  HOU      BUF          1   \n",
       "\n",
       "   status        date  week  \n",
       "0  Active  10-06-2024     5  \n",
       "1  Active  10-06-2024     5  \n",
       "2  Active  10-06-2024     5  \n",
       "3  Active  10-06-2024     5  \n",
       "4  Active  10-06-2024     5  "
      ]
     },
     "execution_count": 146,
     "metadata": {},
     "output_type": "execute_result"
    }
   ],
   "source": [
    "fd_df.head()"
   ]
  },
  {
   "cell_type": "code",
   "execution_count": 158,
   "id": "4a607e5d-d176-406c-aac4-d4f35d59a662",
   "metadata": {},
   "outputs": [
    {
     "data": {
      "text/html": [
       "<div>\n",
       "<style scoped>\n",
       "    .dataframe tbody tr th:only-of-type {\n",
       "        vertical-align: middle;\n",
       "    }\n",
       "\n",
       "    .dataframe tbody tr th {\n",
       "        vertical-align: top;\n",
       "    }\n",
       "\n",
       "    .dataframe thead th {\n",
       "        text-align: right;\n",
       "    }\n",
       "</style>\n",
       "<table border=\"1\" class=\"dataframe\">\n",
       "  <thead>\n",
       "    <tr style=\"text-align: right;\">\n",
       "      <th></th>\n",
       "      <th>ID</th>\n",
       "      <th>name</th>\n",
       "      <th>position</th>\n",
       "      <th>salary</th>\n",
       "      <th>team</th>\n",
       "      <th>opponent</th>\n",
       "      <th>home_team</th>\n",
       "      <th>status</th>\n",
       "      <th>date</th>\n",
       "      <th>week</th>\n",
       "    </tr>\n",
       "  </thead>\n",
       "  <tbody>\n",
       "    <tr>\n",
       "      <th>3</th>\n",
       "      <td>36141829</td>\n",
       "      <td>Josh Allen</td>\n",
       "      <td>QB</td>\n",
       "      <td>7700</td>\n",
       "      <td>BUF</td>\n",
       "      <td>HOU</td>\n",
       "      <td>0</td>\n",
       "      <td>Active</td>\n",
       "      <td>10-06-2024</td>\n",
       "      <td>5</td>\n",
       "    </tr>\n",
       "    <tr>\n",
       "      <th>8</th>\n",
       "      <td>36141830</td>\n",
       "      <td>Lamar Jackson</td>\n",
       "      <td>QB</td>\n",
       "      <td>7500</td>\n",
       "      <td>BAL</td>\n",
       "      <td>CIN</td>\n",
       "      <td>0</td>\n",
       "      <td>Active</td>\n",
       "      <td>10-06-2024</td>\n",
       "      <td>5</td>\n",
       "    </tr>\n",
       "    <tr>\n",
       "      <th>13</th>\n",
       "      <td>36141831</td>\n",
       "      <td>CJ Stroud</td>\n",
       "      <td>QB</td>\n",
       "      <td>7200</td>\n",
       "      <td>HOU</td>\n",
       "      <td>BUF</td>\n",
       "      <td>1</td>\n",
       "      <td>Active</td>\n",
       "      <td>10-06-2024</td>\n",
       "      <td>5</td>\n",
       "    </tr>\n",
       "    <tr>\n",
       "      <th>20</th>\n",
       "      <td>36141832</td>\n",
       "      <td>Jayden Daniels</td>\n",
       "      <td>QB</td>\n",
       "      <td>6800</td>\n",
       "      <td>WAS</td>\n",
       "      <td>CLE</td>\n",
       "      <td>1</td>\n",
       "      <td>Active</td>\n",
       "      <td>10-06-2024</td>\n",
       "      <td>5</td>\n",
       "    </tr>\n",
       "    <tr>\n",
       "      <th>24</th>\n",
       "      <td>36141833</td>\n",
       "      <td>Kyler Murray</td>\n",
       "      <td>QB</td>\n",
       "      <td>6700</td>\n",
       "      <td>ARI</td>\n",
       "      <td>SF</td>\n",
       "      <td>0</td>\n",
       "      <td>Active</td>\n",
       "      <td>10-06-2024</td>\n",
       "      <td>5</td>\n",
       "    </tr>\n",
       "    <tr>\n",
       "      <th>...</th>\n",
       "      <td>...</td>\n",
       "      <td>...</td>\n",
       "      <td>...</td>\n",
       "      <td>...</td>\n",
       "      <td>...</td>\n",
       "      <td>...</td>\n",
       "      <td>...</td>\n",
       "      <td>...</td>\n",
       "      <td>...</td>\n",
       "      <td>...</td>\n",
       "    </tr>\n",
       "    <tr>\n",
       "      <th>224</th>\n",
       "      <td>36141876</td>\n",
       "      <td>Clayton Tune</td>\n",
       "      <td>QB</td>\n",
       "      <td>4000</td>\n",
       "      <td>ARI</td>\n",
       "      <td>SF</td>\n",
       "      <td>0</td>\n",
       "      <td>Active</td>\n",
       "      <td>10-06-2024</td>\n",
       "      <td>5</td>\n",
       "    </tr>\n",
       "    <tr>\n",
       "      <th>232</th>\n",
       "      <td>36141871</td>\n",
       "      <td>Jimmy Garoppolo</td>\n",
       "      <td>QB</td>\n",
       "      <td>4000</td>\n",
       "      <td>LAR</td>\n",
       "      <td>GB</td>\n",
       "      <td>1</td>\n",
       "      <td>Active</td>\n",
       "      <td>10-06-2024</td>\n",
       "      <td>5</td>\n",
       "    </tr>\n",
       "    <tr>\n",
       "      <th>233</th>\n",
       "      <td>36141872</td>\n",
       "      <td>Stetson Bennett</td>\n",
       "      <td>QB</td>\n",
       "      <td>4000</td>\n",
       "      <td>LAR</td>\n",
       "      <td>GB</td>\n",
       "      <td>1</td>\n",
       "      <td>Active</td>\n",
       "      <td>10-06-2024</td>\n",
       "      <td>5</td>\n",
       "    </tr>\n",
       "    <tr>\n",
       "      <th>234</th>\n",
       "      <td>36141873</td>\n",
       "      <td>Sean Clifford</td>\n",
       "      <td>QB</td>\n",
       "      <td>4000</td>\n",
       "      <td>GB</td>\n",
       "      <td>LAR</td>\n",
       "      <td>0</td>\n",
       "      <td>Active</td>\n",
       "      <td>10-06-2024</td>\n",
       "      <td>5</td>\n",
       "    </tr>\n",
       "    <tr>\n",
       "      <th>241</th>\n",
       "      <td>36141870</td>\n",
       "      <td>Jaren Hall</td>\n",
       "      <td>QB</td>\n",
       "      <td>4000</td>\n",
       "      <td>SEA</td>\n",
       "      <td>NYG</td>\n",
       "      <td>1</td>\n",
       "      <td>Active</td>\n",
       "      <td>10-06-2024</td>\n",
       "      <td>5</td>\n",
       "    </tr>\n",
       "  </tbody>\n",
       "</table>\n",
       "<p>65 rows × 10 columns</p>\n",
       "</div>"
      ],
      "text/plain": [
       "           ID             name position  salary team opponent  home_team  \\\n",
       "3    36141829       Josh Allen       QB    7700  BUF      HOU          0   \n",
       "8    36141830    Lamar Jackson       QB    7500  BAL      CIN          0   \n",
       "13   36141831        CJ Stroud       QB    7200  HOU      BUF          1   \n",
       "20   36141832   Jayden Daniels       QB    6800  WAS      CLE          1   \n",
       "24   36141833     Kyler Murray       QB    6700  ARI       SF          0   \n",
       "..        ...              ...      ...     ...  ...      ...        ...   \n",
       "224  36141876     Clayton Tune       QB    4000  ARI       SF          0   \n",
       "232  36141871  Jimmy Garoppolo       QB    4000  LAR       GB          1   \n",
       "233  36141872  Stetson Bennett       QB    4000  LAR       GB          1   \n",
       "234  36141873    Sean Clifford       QB    4000   GB      LAR          0   \n",
       "241  36141870       Jaren Hall       QB    4000  SEA      NYG          1   \n",
       "\n",
       "     status        date  week  \n",
       "3    Active  10-06-2024     5  \n",
       "8    Active  10-06-2024     5  \n",
       "13   Active  10-06-2024     5  \n",
       "20   Active  10-06-2024     5  \n",
       "24   Active  10-06-2024     5  \n",
       "..      ...         ...   ...  \n",
       "224  Active  10-06-2024     5  \n",
       "232  Active  10-06-2024     5  \n",
       "233  Active  10-06-2024     5  \n",
       "234  Active  10-06-2024     5  \n",
       "241  Active  10-06-2024     5  \n",
       "\n",
       "[65 rows x 10 columns]"
      ]
     },
     "execution_count": 158,
     "metadata": {},
     "output_type": "execute_result"
    }
   ],
   "source": [
    "dk_df[dk_df['position'] == 'QB']"
   ]
  },
  {
   "cell_type": "code",
   "execution_count": 148,
   "id": "75cc5ff2-be67-41af-b005-ee29824f49b6",
   "metadata": {},
   "outputs": [
    {
     "data": {
      "text/html": [
       "<div>\n",
       "<style scoped>\n",
       "    .dataframe tbody tr th:only-of-type {\n",
       "        vertical-align: middle;\n",
       "    }\n",
       "\n",
       "    .dataframe tbody tr th {\n",
       "        vertical-align: top;\n",
       "    }\n",
       "\n",
       "    .dataframe thead th {\n",
       "        text-align: right;\n",
       "    }\n",
       "</style>\n",
       "<table border=\"1\" class=\"dataframe\">\n",
       "  <thead>\n",
       "    <tr style=\"text-align: right;\">\n",
       "      <th></th>\n",
       "      <th>ID</th>\n",
       "      <th>name</th>\n",
       "      <th>position</th>\n",
       "      <th>salary</th>\n",
       "      <th>team</th>\n",
       "      <th>opponent</th>\n",
       "      <th>home_team</th>\n",
       "      <th>status</th>\n",
       "      <th>date</th>\n",
       "      <th>week</th>\n",
       "    </tr>\n",
       "  </thead>\n",
       "  <tbody>\n",
       "    <tr>\n",
       "      <th>490</th>\n",
       "      <td>36142600</td>\n",
       "      <td>Jakob Johnson</td>\n",
       "      <td>TE</td>\n",
       "      <td>2500</td>\n",
       "      <td>NYG</td>\n",
       "      <td>SEA</td>\n",
       "      <td>0</td>\n",
       "      <td>Active</td>\n",
       "      <td>10-06-2024</td>\n",
       "      <td>5</td>\n",
       "    </tr>\n",
       "    <tr>\n",
       "      <th>491</th>\n",
       "      <td>36142602</td>\n",
       "      <td>Joel Wilson</td>\n",
       "      <td>TE</td>\n",
       "      <td>2500</td>\n",
       "      <td>NYG</td>\n",
       "      <td>SEA</td>\n",
       "      <td>0</td>\n",
       "      <td>Active</td>\n",
       "      <td>10-06-2024</td>\n",
       "      <td>5</td>\n",
       "    </tr>\n",
       "    <tr>\n",
       "      <th>492</th>\n",
       "      <td>36142731</td>\n",
       "      <td>CAR</td>\n",
       "      <td>D</td>\n",
       "      <td>2400</td>\n",
       "      <td>CAR</td>\n",
       "      <td>CHI</td>\n",
       "      <td>0</td>\n",
       "      <td>Active</td>\n",
       "      <td>10-06-2024</td>\n",
       "      <td>5</td>\n",
       "    </tr>\n",
       "    <tr>\n",
       "      <th>493</th>\n",
       "      <td>36142732</td>\n",
       "      <td>NYG</td>\n",
       "      <td>D</td>\n",
       "      <td>2400</td>\n",
       "      <td>NYG</td>\n",
       "      <td>SEA</td>\n",
       "      <td>0</td>\n",
       "      <td>Active</td>\n",
       "      <td>10-06-2024</td>\n",
       "      <td>5</td>\n",
       "    </tr>\n",
       "    <tr>\n",
       "      <th>494</th>\n",
       "      <td>36142733</td>\n",
       "      <td>ARI</td>\n",
       "      <td>D</td>\n",
       "      <td>2300</td>\n",
       "      <td>ARI</td>\n",
       "      <td>SF</td>\n",
       "      <td>0</td>\n",
       "      <td>Active</td>\n",
       "      <td>10-06-2024</td>\n",
       "      <td>5</td>\n",
       "    </tr>\n",
       "  </tbody>\n",
       "</table>\n",
       "</div>"
      ],
      "text/plain": [
       "           ID           name position  salary team opponent  home_team  \\\n",
       "490  36142600  Jakob Johnson       TE    2500  NYG      SEA          0   \n",
       "491  36142602    Joel Wilson       TE    2500  NYG      SEA          0   \n",
       "492  36142731            CAR        D    2400  CAR      CHI          0   \n",
       "493  36142732            NYG        D    2400  NYG      SEA          0   \n",
       "494  36142733            ARI        D    2300  ARI       SF          0   \n",
       "\n",
       "     status        date  week  \n",
       "490  Active  10-06-2024     5  \n",
       "491  Active  10-06-2024     5  \n",
       "492  Active  10-06-2024     5  \n",
       "493  Active  10-06-2024     5  \n",
       "494  Active  10-06-2024     5  "
      ]
     },
     "execution_count": 148,
     "metadata": {},
     "output_type": "execute_result"
    }
   ],
   "source": [
    "dk_df.tail()"
   ]
  },
  {
   "cell_type": "code",
   "execution_count": 149,
   "id": "8ea72fb1-2eb5-42c4-af18-fbe353e3678b",
   "metadata": {},
   "outputs": [],
   "source": [
    "# fd_names = set(list(fd_df['name']))"
   ]
  },
  {
   "cell_type": "code",
   "execution_count": 150,
   "id": "7516b22a-6660-4aa8-afda-e15c3b365918",
   "metadata": {},
   "outputs": [],
   "source": [
    "# dk_names = set(list(dk_df['name']))"
   ]
  },
  {
   "cell_type": "code",
   "execution_count": 151,
   "id": "136a0f24-c1d9-4189-a0e8-5a00b8216d26",
   "metadata": {},
   "outputs": [],
   "source": [
    "# fd_not_in_dk = list(fd_names.difference(dk_names))"
   ]
  },
  {
   "cell_type": "code",
   "execution_count": 152,
   "id": "e49b8987-ff76-4708-a53b-e2585337dc00",
   "metadata": {},
   "outputs": [],
   "source": [
    "# dk_not_in_fd = list(dk_names.difference(fd_names))"
   ]
  },
  {
   "cell_type": "code",
   "execution_count": 153,
   "id": "9ca5534d-6ec2-484f-9b0d-047669b3880a",
   "metadata": {},
   "outputs": [],
   "source": [
    "# dk_names.difference(fd_names)"
   ]
  },
  {
   "cell_type": "code",
   "execution_count": 154,
   "id": "26d681f9-0056-4691-87c2-9ecc7b32bff4",
   "metadata": {},
   "outputs": [],
   "source": [
    "# fd_names.difference(dk_names)"
   ]
  },
  {
   "cell_type": "code",
   "execution_count": 155,
   "id": "affc298f-a47c-4047-99f7-f2649f2fa9f8",
   "metadata": {},
   "outputs": [],
   "source": [
    "#It seems as though FanDuel just naturally lists more available players than DraftKings.\n",
    "#FanDuel now includes Sunday night games in its main slate, but that alone doesn't account\n",
    "#for all the names in the FanDuel list that aren't in the DraftKings list.\n",
    "#What really matters is whether these names for both sites match up \n",
    "#with the way the names are written in the nfl_data_py package"
   ]
  },
  {
   "cell_type": "markdown",
   "id": "8e24434a-ffa3-4ace-887a-07f150a983fc",
   "metadata": {},
   "source": [
    "# Adding to database\n",
    "This will put the data we've just wrangled into our database, and it will be joined with the features used to make predictions."
   ]
  },
  {
   "cell_type": "code",
   "execution_count": 156,
   "id": "f29f994d-5a95-49eb-862d-8dc8ac39fcc5",
   "metadata": {},
   "outputs": [
    {
     "name": "stdout",
     "output_type": "stream",
     "text": [
      "Data written to table fd_table_5_24 in SQLite database nfl_dfs.db\n",
      "Data written to table dk_table_5_24 in SQLite database nfl_dfs.db\n"
     ]
    }
   ],
   "source": [
    "import sqlite3\n",
    "\n",
    "# Establish the connection to the database\n",
    "conn = sqlite3.connect('nfl_dfs.db')\n",
    "\n",
    "# Define the table names for FanDuel and DraftKings\n",
    "fd_table_name = 'fd_table_' + str(week) + '_24'\n",
    "dk_table_name = 'dk_table_' + str(week) + '_24'\n",
    "\n",
    "# Specify data types for the FanDuel dataframe\n",
    "fd_dtype = {\n",
    "    'ID': 'TEXT',\n",
    "    'Name': 'TEXT',\n",
    "    'Position': 'TEXT',\n",
    "    'Salary': 'INTEGER',\n",
    "    'Team': 'TEXT',\n",
    "    'Opponent': 'TEXT',\n",
    "    'home_team': 'INTEGER',\n",
    "    'Status': 'TEXT',\n",
    "    'Date': 'TEXT',\n",
    "    'Week': 'INTEGER'\n",
    "}\n",
    "\n",
    "# Write the FanDuel dataframe to the SQLite table\n",
    "fd_df.to_sql(fd_table_name, conn, if_exists='replace', index=False, dtype=fd_dtype)\n",
    "\n",
    "# Confirm that the FanDuel data has been written\n",
    "print(f\"Data written to table {fd_table_name} in SQLite database nfl_dfs.db\")\n",
    "\n",
    "# Specify data types for the DraftKings dataframe\n",
    "dk_dtype = {\n",
    "    'ID': 'INTEGER',\n",
    "    'Name': 'TEXT',\n",
    "    'Position': 'TEXT',\n",
    "    'Salary': 'INTEGER',\n",
    "    'Team': 'TEXT',\n",
    "    'Opponent': 'TEXT',\n",
    "    'home_team': 'INTEGER',\n",
    "    'Status': 'TEXT',\n",
    "    'Date': 'TEXT',\n",
    "    'Week': 'INTEGER'\n",
    "}\n",
    "\n",
    "# Write the DraftKings dataframe to the SQLite table\n",
    "dk_df.to_sql(dk_table_name, conn, if_exists='replace', index=False, dtype=dk_dtype)\n",
    "\n",
    "# Confirm that the DraftKings data has been written\n",
    "print(f\"Data written to table {dk_table_name} in SQLite database nfl_dfs.db\")\n",
    "\n",
    "# Close the connection\n",
    "conn.close()\n"
   ]
  },
  {
   "cell_type": "code",
   "execution_count": null,
   "id": "825c38b5-81c9-49cd-8350-bef4920ff6d1",
   "metadata": {},
   "outputs": [],
   "source": []
  },
  {
   "cell_type": "code",
   "execution_count": null,
   "id": "4818bb9e-dfee-48ce-a6ed-07bddcb8ef06",
   "metadata": {},
   "outputs": [],
   "source": []
  },
  {
   "cell_type": "code",
   "execution_count": 157,
   "id": "ed8034e3-a764-4de4-8c05-84d4d73b9eb1",
   "metadata": {},
   "outputs": [],
   "source": [
    "# fd_df.to_csv('FD_' + date_string + '_prep.csv', index = False)\n",
    "# dk_df.to_csv('DK_' + date_string + '_prep.csv', index = False)"
   ]
  },
  {
   "cell_type": "code",
   "execution_count": null,
   "id": "8cdd74c3-5a56-490e-8077-c53aa2080a72",
   "metadata": {},
   "outputs": [],
   "source": []
  }
 ],
 "metadata": {
  "kernelspec": {
   "display_name": "Python (nfl_dfs_model)",
   "language": "python",
   "name": "nfl_dfs_model"
  },
  "language_info": {
   "codemirror_mode": {
    "name": "ipython",
    "version": 3
   },
   "file_extension": ".py",
   "mimetype": "text/x-python",
   "name": "python",
   "nbconvert_exporter": "python",
   "pygments_lexer": "ipython3",
   "version": "3.8.19"
  }
 },
 "nbformat": 4,
 "nbformat_minor": 5
}
