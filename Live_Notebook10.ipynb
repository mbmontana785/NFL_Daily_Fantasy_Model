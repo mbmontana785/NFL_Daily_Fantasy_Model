{
 "cells": [
  {
   "cell_type": "markdown",
   "id": "b4554ac0-78e9-44a3-84fd-54d207db0652",
   "metadata": {},
   "source": [
    "# Predictions"
   ]
  },
  {
   "cell_type": "code",
   "execution_count": 66,
   "id": "c44bbe89-3ea1-4e8d-8352-959ba70a8931",
   "metadata": {},
   "outputs": [],
   "source": [
    "import numpy as np\n",
    "import pandas as pd\n",
    "import pickle\n",
    "from functions import get_current_weekday, calculate_nfl_week, get_next_sunday, get_current_year"
   ]
  },
  {
   "cell_type": "code",
   "execution_count": 67,
   "id": "d0ea07a2-315f-4f6b-9fd1-eebd17665b1b",
   "metadata": {},
   "outputs": [],
   "source": [
    "day = get_current_weekday()"
   ]
  },
  {
   "cell_type": "code",
   "execution_count": 68,
   "id": "10ef4042-8d9e-48a7-a686-f97d88aef0a8",
   "metadata": {},
   "outputs": [],
   "source": [
    "date_string = get_next_sunday(day)"
   ]
  },
  {
   "cell_type": "code",
   "execution_count": 69,
   "id": "01dc5ccd-24e0-4ec9-b5e4-a36c17b30e7a",
   "metadata": {},
   "outputs": [],
   "source": [
    "week = calculate_nfl_week(date_string)"
   ]
  },
  {
   "cell_type": "code",
   "execution_count": 70,
   "id": "54c1f6cd-5cec-416a-90b6-7a567e8c3650",
   "metadata": {},
   "outputs": [],
   "source": [
    "season = get_current_year()"
   ]
  },
  {
   "cell_type": "code",
   "execution_count": null,
   "id": "be855b19-4c5e-474d-8f08-a713bcd96868",
   "metadata": {},
   "outputs": [],
   "source": []
  },
  {
   "cell_type": "code",
   "execution_count": 71,
   "id": "27ec2a61-3df8-4e54-a480-7bbd0f1bbc34",
   "metadata": {},
   "outputs": [],
   "source": [
    "fd_def_df = pd.read_csv('FD_def_for_model_' + str(season) + '_' + str(week) + '.csv')\n",
    "dk_def_df = pd.read_csv('DK_def_for_model_' + str(season) + '_' + str(week) + '.csv')\n",
    "fd_qb_df = pd.read_csv('FD_qb_for_model_' + str(season) + '_' + str(week) + '.csv')\n",
    "dk_qb_df = pd.read_csv('DK_qb_for_model_' + str(season) + '_' + str(week) + '.csv')\n",
    "fd_flex_df = pd.read_csv('FD_FLEX_for_model_' + str(season) + '_' + str(week) + '.csv')\n",
    "dk_flex_df = pd.read_csv('DK_FLEX_for_model_' + str(season) + '_' + str(week) + '.csv')"
   ]
  },
  {
   "cell_type": "code",
   "execution_count": 72,
   "id": "28f61bd9-5169-46b2-9565-11ec1688f52a",
   "metadata": {},
   "outputs": [],
   "source": [
    "fd_def_df = fd_def_df.set_index(['name', 'team', 'position', 'salary', 'opponent', 'status', 'season', 'week'])\n",
    "dk_def_df = dk_def_df.set_index(['name', 'team', 'position', 'salary', 'opponent', 'status', 'season', 'week'])\n",
    "fd_qb_df = fd_qb_df.set_index(['name', 'team', 'position', 'salary', 'opponent', 'status', 'season', 'week'])\n",
    "dk_qb_df = dk_qb_df.set_index(['name', 'team', 'position', 'salary', 'opponent', 'status', 'season', 'week'])\n",
    "fd_flex_df = fd_flex_df.set_index(['name', 'team', 'position', 'salary', 'opponent', 'status', 'season', 'week'])\n",
    "dk_flex_df = dk_flex_df.set_index(['name', 'team', 'position', 'salary', 'opponent', 'status', 'season', 'week'])"
   ]
  },
  {
   "cell_type": "code",
   "execution_count": 73,
   "id": "a378fd6f-1f8c-4b76-848d-6176d98044a6",
   "metadata": {},
   "outputs": [],
   "source": [
    "def_features = list(fd_def_df.columns)"
   ]
  },
  {
   "cell_type": "code",
   "execution_count": 74,
   "id": "84f84794-a12d-433b-b422-8d868466de3e",
   "metadata": {},
   "outputs": [
    {
     "data": {
      "text/plain": [
       "['spread_line',\n",
       " 'home_team',\n",
       " 'outdoors',\n",
       " 'grass',\n",
       " 'total_line',\n",
       " 'opp_total',\n",
       " 'opp_vs_def_L8',\n",
       " 'opp_vs_def_L8_lin',\n",
       " 'opp_vs_def_L8_exp']"
      ]
     },
     "execution_count": 74,
     "metadata": {},
     "output_type": "execute_result"
    }
   ],
   "source": [
    "def_features"
   ]
  },
  {
   "cell_type": "code",
   "execution_count": 75,
   "id": "25059494-6647-4fe5-8597-3457ec5e965d",
   "metadata": {},
   "outputs": [],
   "source": [
    "fd_def_df_reset = fd_def_df.reset_index()"
   ]
  },
  {
   "cell_type": "code",
   "execution_count": 76,
   "id": "c997c883-f48c-4bd4-a8f7-8d72c6899e6d",
   "metadata": {},
   "outputs": [],
   "source": [
    "with open('def_scaler.pkl', 'rb') as f:\n",
    "    def_scaler = pickle.load(f)"
   ]
  },
  {
   "cell_type": "code",
   "execution_count": 77,
   "id": "33415f6d-e48b-4a4c-97f1-9cb326faa7fa",
   "metadata": {},
   "outputs": [],
   "source": [
    "fd_def_scaled = def_scaler.transform(fd_def_df[def_features])"
   ]
  },
  {
   "cell_type": "code",
   "execution_count": 78,
   "id": "7f2daf3c-6d6f-443f-8e7d-c0867fab6ea3",
   "metadata": {},
   "outputs": [],
   "source": [
    "fd_def_df_reset[def_features] = fd_def_scaled"
   ]
  },
  {
   "cell_type": "code",
   "execution_count": 79,
   "id": "61af8f8a-f138-442b-a759-f33ba7b302e9",
   "metadata": {},
   "outputs": [],
   "source": [
    "fd_def_df_scaled = fd_def_df_reset.set_index(['name', 'team', 'position', 'salary', 'opponent', 'status', 'season', 'week'])"
   ]
  },
  {
   "cell_type": "code",
   "execution_count": null,
   "id": "3833df1e-7d81-4931-b2ea-541567d1fc92",
   "metadata": {},
   "outputs": [],
   "source": []
  },
  {
   "cell_type": "code",
   "execution_count": 80,
   "id": "a1da2792-0d98-4f49-bc76-85f1fd91d09b",
   "metadata": {},
   "outputs": [],
   "source": [
    "with open('def_ridge_model.pkl', 'rb') as f:\n",
    "    def_ridge_model = pickle.load(f)"
   ]
  },
  {
   "cell_type": "code",
   "execution_count": 81,
   "id": "4272c8d0-f4e8-447a-a043-1f9d9ac608d6",
   "metadata": {},
   "outputs": [],
   "source": [
    "ridge_pred = def_ridge_model.predict(fd_def_df_scaled[def_features].values)"
   ]
  },
  {
   "cell_type": "code",
   "execution_count": 82,
   "id": "29805f4f-0d3c-40b9-91fa-87c3fd8acfc7",
   "metadata": {},
   "outputs": [],
   "source": [
    "fd_def_df_scaled['pred_Ridge'] = ridge_pred"
   ]
  },
  {
   "cell_type": "code",
   "execution_count": null,
   "id": "c3ca7171-ec91-46fe-94f6-d43c8c906629",
   "metadata": {},
   "outputs": [],
   "source": []
  },
  {
   "cell_type": "code",
   "execution_count": 83,
   "id": "d24147de-a046-4a79-bc95-35c9db1c79ff",
   "metadata": {},
   "outputs": [],
   "source": [
    "with open('def_GB_model.pkl', 'rb') as f:\n",
    "    def_GB_model = pickle.load(f)"
   ]
  },
  {
   "cell_type": "code",
   "execution_count": 84,
   "id": "a64a7aeb-ba0e-488d-b804-ed1f3c98c692",
   "metadata": {},
   "outputs": [],
   "source": [
    "gb_pred = def_GB_model.predict(fd_def_df_scaled[def_features].values)"
   ]
  },
  {
   "cell_type": "code",
   "execution_count": 85,
   "id": "1f60405f-e708-4b61-8488-51de4e674535",
   "metadata": {},
   "outputs": [],
   "source": [
    "fd_def_df_scaled['pred_GB'] = gb_pred"
   ]
  },
  {
   "cell_type": "code",
   "execution_count": null,
   "id": "861b3570-2b6d-4ca5-a96a-f2b3a9eeadb7",
   "metadata": {},
   "outputs": [],
   "source": []
  },
  {
   "cell_type": "code",
   "execution_count": 86,
   "id": "cc48f24c-3eeb-4996-b6f5-edf46750b18a",
   "metadata": {},
   "outputs": [],
   "source": [
    "with open('def_XGB_model.pkl', 'rb') as f:\n",
    "    def_XGB_model = pickle.load(f)"
   ]
  },
  {
   "cell_type": "code",
   "execution_count": 87,
   "id": "78da7d88-de1c-49e0-b9d3-5324b81f4c0b",
   "metadata": {},
   "outputs": [],
   "source": [
    "xgb_pred = def_XGB_model.predict(fd_def_df_scaled[def_features].values)"
   ]
  },
  {
   "cell_type": "code",
   "execution_count": 88,
   "id": "e55955c5-d97c-4798-9373-fa2dda41dbb9",
   "metadata": {},
   "outputs": [],
   "source": [
    "fd_def_df_scaled['pred_XGB'] = xgb_pred"
   ]
  },
  {
   "cell_type": "code",
   "execution_count": 89,
   "id": "9e760919-f58f-4c02-83d3-8570b29d7814",
   "metadata": {},
   "outputs": [],
   "source": [
    "# pd.set_option('display.max_rows', None)"
   ]
  },
  {
   "cell_type": "code",
   "execution_count": null,
   "id": "0de0b8da-8008-436a-9ce6-8106ae36426c",
   "metadata": {},
   "outputs": [],
   "source": []
  },
  {
   "cell_type": "code",
   "execution_count": 90,
   "id": "8e5b1c1e-a7d1-4369-aa55-7052bde8e209",
   "metadata": {},
   "outputs": [],
   "source": [
    "dk_def_df_reset = dk_def_df.reset_index()"
   ]
  },
  {
   "cell_type": "code",
   "execution_count": 91,
   "id": "387d5468-569d-4910-82cf-0c6e5d4caa76",
   "metadata": {},
   "outputs": [],
   "source": [
    "dk_def_df_scaled = def_scaler.transform(dk_def_df[def_features])"
   ]
  },
  {
   "cell_type": "code",
   "execution_count": 92,
   "id": "1c1a849d-86ce-477d-9db1-5dc60b8ac84a",
   "metadata": {},
   "outputs": [],
   "source": [
    "dk_def_df_reset[def_features] = dk_def_df_scaled"
   ]
  },
  {
   "cell_type": "code",
   "execution_count": 93,
   "id": "9755924b-e310-4a82-9541-f8a15353b36a",
   "metadata": {},
   "outputs": [],
   "source": [
    "dk_def_df_scaled = dk_def_df_reset.set_index(['name', 'team', 'position', 'salary', 'opponent', 'status', 'season', 'week'])"
   ]
  },
  {
   "cell_type": "code",
   "execution_count": null,
   "id": "d98da11f-45fa-44ba-8f87-eef810024069",
   "metadata": {},
   "outputs": [],
   "source": []
  },
  {
   "cell_type": "code",
   "execution_count": 94,
   "id": "bb20e1d2-b7c0-400b-a155-8ed57543b250",
   "metadata": {},
   "outputs": [],
   "source": [
    "#Same defense model for FD and DK"
   ]
  },
  {
   "cell_type": "code",
   "execution_count": 95,
   "id": "2cc03423-6b9b-4cfa-9d5a-8b61e4743610",
   "metadata": {},
   "outputs": [],
   "source": [
    "ridge_pred = def_ridge_model.predict(dk_def_df_scaled[def_features].values)"
   ]
  },
  {
   "cell_type": "code",
   "execution_count": 96,
   "id": "d6ba37fc-98c8-44ae-ad39-93b5e25d11f4",
   "metadata": {},
   "outputs": [],
   "source": [
    "dk_def_df_scaled['pred_Ridge'] = ridge_pred"
   ]
  },
  {
   "cell_type": "code",
   "execution_count": 97,
   "id": "442b703a-d213-45b1-b8c9-b0f31bec5ff9",
   "metadata": {},
   "outputs": [],
   "source": [
    "gb_pred = def_GB_model.predict(dk_def_df_scaled[def_features].values)"
   ]
  },
  {
   "cell_type": "code",
   "execution_count": 98,
   "id": "652bc23b-760e-4616-afd8-0cac7e06eee6",
   "metadata": {},
   "outputs": [],
   "source": [
    "dk_def_df_scaled['pred_GB'] = gb_pred"
   ]
  },
  {
   "cell_type": "code",
   "execution_count": 100,
   "id": "23b7d18c-e49d-4048-9eaf-11a05c589cca",
   "metadata": {},
   "outputs": [],
   "source": [
    "xgb_pred = def_XGB_model.predict(dk_def_df_scaled[def_features].values)"
   ]
  },
  {
   "cell_type": "code",
   "execution_count": 101,
   "id": "879a7b6b-2a2a-4c6c-87e8-a20d09e9a1b8",
   "metadata": {},
   "outputs": [],
   "source": [
    "dk_def_df_scaled['pred_XGB'] = xgb_pred"
   ]
  },
  {
   "cell_type": "code",
   "execution_count": null,
   "id": "97866d42-8501-4701-ab22-9c7c9476af7b",
   "metadata": {},
   "outputs": [],
   "source": []
  },
  {
   "cell_type": "code",
   "execution_count": 102,
   "id": "250b28c6-fd50-4996-acd2-013a2b56fe75",
   "metadata": {},
   "outputs": [],
   "source": [
    "#FD Quarterbacks"
   ]
  },
  {
   "cell_type": "code",
   "execution_count": 103,
   "id": "fd977b3d-6ed1-4d09-a74d-d6e61d7718e7",
   "metadata": {},
   "outputs": [],
   "source": [
    "qb_features = list(fd_qb_df.columns)"
   ]
  },
  {
   "cell_type": "code",
   "execution_count": 104,
   "id": "cbade585-3464-402c-951c-62f2357ae60c",
   "metadata": {},
   "outputs": [],
   "source": [
    "fd_qb_df_reset = fd_qb_df.reset_index()"
   ]
  },
  {
   "cell_type": "code",
   "execution_count": 105,
   "id": "1068de69-50b1-4286-90fc-153749591b45",
   "metadata": {},
   "outputs": [],
   "source": [
    "#Scaling"
   ]
  },
  {
   "cell_type": "code",
   "execution_count": 106,
   "id": "f15fb579-3fb6-4842-a3ef-61557003ad52",
   "metadata": {},
   "outputs": [],
   "source": [
    "with open('qb_scaler_fd.pkl', 'rb') as f:\n",
    "    qb_scaler_fd = pickle.load(f)"
   ]
  },
  {
   "cell_type": "code",
   "execution_count": 107,
   "id": "341d31a0-250f-4435-a108-5662579f971b",
   "metadata": {},
   "outputs": [],
   "source": [
    "fd_qb_scaled = qb_scaler_fd.transform(fd_qb_df[qb_features])"
   ]
  },
  {
   "cell_type": "code",
   "execution_count": 108,
   "id": "b52b5074-e112-4d87-b095-e8e25c3b8c8c",
   "metadata": {},
   "outputs": [],
   "source": [
    "fd_qb_df_reset[qb_features] = fd_qb_scaled"
   ]
  },
  {
   "cell_type": "code",
   "execution_count": 109,
   "id": "b77b1988-5eef-48f4-9dee-219052b4946c",
   "metadata": {},
   "outputs": [],
   "source": [
    "fd_qb_df_scaled = fd_qb_df_reset.set_index(['name', 'team', 'position', 'salary', 'opponent', 'status', 'season', 'week'])"
   ]
  },
  {
   "cell_type": "code",
   "execution_count": null,
   "id": "8cf5fbcb-edfa-48b4-b500-369ae547c4ca",
   "metadata": {},
   "outputs": [],
   "source": []
  },
  {
   "cell_type": "code",
   "execution_count": 110,
   "id": "8a9bc854-b939-453d-9fad-89745f58936c",
   "metadata": {},
   "outputs": [],
   "source": [
    "with open('qb_RF_model_FD.pkl', 'rb') as f:\n",
    "    qb_RF_model_FD = pickle.load(f)"
   ]
  },
  {
   "cell_type": "code",
   "execution_count": 111,
   "id": "3b2c0016-84c6-440d-95f0-2e493ee9d665",
   "metadata": {},
   "outputs": [],
   "source": [
    "rf_pred = qb_RF_model_FD.predict(fd_qb_df_scaled[qb_features].values)"
   ]
  },
  {
   "cell_type": "code",
   "execution_count": 112,
   "id": "2eb71737-b911-41d1-ac47-363cc01e9a12",
   "metadata": {},
   "outputs": [],
   "source": [
    "fd_qb_df_scaled['pred_RF'] = rf_pred"
   ]
  },
  {
   "cell_type": "code",
   "execution_count": 113,
   "id": "91deb827-c3ed-4bdf-a380-cd7b89acfbaa",
   "metadata": {},
   "outputs": [],
   "source": [
    "with open('qb_GB_model_FD.pkl', 'rb') as f:\n",
    "    qb_GB_model_FD = pickle.load(f)"
   ]
  },
  {
   "cell_type": "code",
   "execution_count": 114,
   "id": "3e2898ab-ffbc-409d-8f6f-30073cb9af08",
   "metadata": {},
   "outputs": [],
   "source": [
    "gb_pred = qb_GB_model_FD.predict(fd_qb_df_scaled[qb_features].values)"
   ]
  },
  {
   "cell_type": "code",
   "execution_count": 115,
   "id": "6252216f-e639-4afa-837e-91af014bc488",
   "metadata": {},
   "outputs": [],
   "source": [
    "fd_qb_df_scaled['pred_GB'] = gb_pred"
   ]
  },
  {
   "cell_type": "code",
   "execution_count": 116,
   "id": "617b1d02-6e8f-49f5-9105-d870d126de9b",
   "metadata": {},
   "outputs": [],
   "source": [
    "with open('qb_XGB_model_FD.pkl', 'rb') as f:\n",
    "    qb_XGB_model_FD = pickle.load(f)"
   ]
  },
  {
   "cell_type": "code",
   "execution_count": 118,
   "id": "9b2a38cc-8cef-43bd-8b1e-24b6b85a6bfe",
   "metadata": {},
   "outputs": [],
   "source": [
    "xgb_pred = qb_XGB_model_FD.predict(fd_qb_df_scaled[qb_features].values)"
   ]
  },
  {
   "cell_type": "code",
   "execution_count": 119,
   "id": "d52eb9e2-4ddd-4cdb-83f3-0a2873709f3e",
   "metadata": {},
   "outputs": [],
   "source": [
    "fd_qb_df_scaled['pred_XGB'] = xgb_pred"
   ]
  },
  {
   "cell_type": "code",
   "execution_count": null,
   "id": "7af10acb-11de-41b9-9c51-f1a65d5ad87a",
   "metadata": {},
   "outputs": [],
   "source": []
  },
  {
   "cell_type": "code",
   "execution_count": 120,
   "id": "73608a95-5a29-4c06-b26c-51a682870b38",
   "metadata": {},
   "outputs": [],
   "source": [
    "#DK Quarterbacks"
   ]
  },
  {
   "cell_type": "code",
   "execution_count": 121,
   "id": "2a13951a-3ab2-40f7-8315-722b66a7c09a",
   "metadata": {},
   "outputs": [],
   "source": [
    "dk_qb_df_reset = dk_qb_df.reset_index()"
   ]
  },
  {
   "cell_type": "code",
   "execution_count": 122,
   "id": "5cfc6cee-36b0-44c0-856f-e1adab72fbbc",
   "metadata": {},
   "outputs": [],
   "source": [
    "with open('qb_scaler_dk.pkl', 'rb') as f:\n",
    "    qb_scaler_dk = pickle.load(f)"
   ]
  },
  {
   "cell_type": "code",
   "execution_count": 123,
   "id": "ed42316c-ea0f-4814-b34e-abe75f88a214",
   "metadata": {},
   "outputs": [],
   "source": [
    "dk_qb_scaled = qb_scaler_dk.transform(dk_qb_df_reset[qb_features])"
   ]
  },
  {
   "cell_type": "code",
   "execution_count": 124,
   "id": "e1f19cbb-1f35-4e8a-9745-46afaa4e1bfa",
   "metadata": {},
   "outputs": [],
   "source": [
    "dk_qb_df_reset[qb_features] = dk_qb_scaled"
   ]
  },
  {
   "cell_type": "code",
   "execution_count": 125,
   "id": "fc236127-b50f-4eac-ba23-eb7a8d1e3311",
   "metadata": {},
   "outputs": [],
   "source": [
    "dk_qb_df_scaled = dk_qb_df_reset.set_index(['name', 'team', 'position', 'salary', 'opponent', 'status', 'season', 'week'])"
   ]
  },
  {
   "cell_type": "code",
   "execution_count": null,
   "id": "82edd0cb-4164-4e3f-98ab-457092cddd3e",
   "metadata": {},
   "outputs": [],
   "source": []
  },
  {
   "cell_type": "code",
   "execution_count": 126,
   "id": "ecec9c6b-1e65-44b7-9128-f235e72870a2",
   "metadata": {},
   "outputs": [],
   "source": [
    "with open('qb_RF_model_DK.pkl', 'rb') as f:\n",
    "    qb_RF_model_DK = pickle.load(f)"
   ]
  },
  {
   "cell_type": "code",
   "execution_count": 127,
   "id": "77c57628-7b88-4e5c-aa72-4dfed0e6c838",
   "metadata": {},
   "outputs": [],
   "source": [
    "rf_pred = qb_RF_model_DK.predict(dk_qb_df_scaled[qb_features].values)"
   ]
  },
  {
   "cell_type": "code",
   "execution_count": 128,
   "id": "ffd69636-62d8-4aa7-bcfc-c2ff7e88cf5f",
   "metadata": {},
   "outputs": [],
   "source": [
    "dk_qb_df_scaled['pred_RF'] = rf_pred"
   ]
  },
  {
   "cell_type": "code",
   "execution_count": 129,
   "id": "97239e23-e26d-488c-ab81-aa1c1da9bfa3",
   "metadata": {},
   "outputs": [],
   "source": [
    "with open('qb_GB_model_DK.pkl', 'rb') as f:\n",
    "    qb_GB_model_DK = pickle.load(f)"
   ]
  },
  {
   "cell_type": "code",
   "execution_count": 130,
   "id": "281961b1-68e8-43d6-a6e1-93faf11e0ccd",
   "metadata": {},
   "outputs": [],
   "source": [
    "gb_pred = qb_GB_model_DK.predict(dk_qb_df_scaled[qb_features].values)"
   ]
  },
  {
   "cell_type": "code",
   "execution_count": 131,
   "id": "ddfa96f7-85b8-4bcd-b428-ec8c174b4e80",
   "metadata": {},
   "outputs": [],
   "source": [
    "dk_qb_df_scaled['pred_GB'] = gb_pred"
   ]
  },
  {
   "cell_type": "code",
   "execution_count": 132,
   "id": "1939e70c-1deb-4309-b1a7-f50a73be4079",
   "metadata": {},
   "outputs": [],
   "source": [
    "with open('qb_XGB_model_DK.pkl', 'rb') as f:\n",
    "    qb_XGB_model_DK = pickle.load(f)"
   ]
  },
  {
   "cell_type": "code",
   "execution_count": 133,
   "id": "537a2cef-20cb-45dd-b83e-a2824f10828b",
   "metadata": {},
   "outputs": [],
   "source": [
    "xgb_pred = qb_XGB_model_DK.predict(dk_qb_df_scaled[qb_features].values)"
   ]
  },
  {
   "cell_type": "code",
   "execution_count": 134,
   "id": "212e7fae-5a61-4afb-b109-61a9c71dc4d9",
   "metadata": {},
   "outputs": [],
   "source": [
    "dk_qb_df_scaled['pred_XGB'] = xgb_pred"
   ]
  },
  {
   "cell_type": "code",
   "execution_count": null,
   "id": "be488583-00c0-43a7-8ac4-bc77541dfb1f",
   "metadata": {},
   "outputs": [],
   "source": []
  },
  {
   "cell_type": "code",
   "execution_count": 135,
   "id": "c00e00ce-8062-44dd-8769-2117304ed14b",
   "metadata": {},
   "outputs": [],
   "source": [
    "#FD Flex"
   ]
  },
  {
   "cell_type": "code",
   "execution_count": 136,
   "id": "42340b92-5c43-4371-bcfe-76ebde0a7205",
   "metadata": {},
   "outputs": [],
   "source": [
    "flex_features = list(fd_flex_df.columns)"
   ]
  },
  {
   "cell_type": "code",
   "execution_count": 137,
   "id": "c6b94ef4-1579-49c7-bc1c-76d4c5f19107",
   "metadata": {},
   "outputs": [],
   "source": [
    "fd_flex_df_reset = fd_flex_df.reset_index()"
   ]
  },
  {
   "cell_type": "code",
   "execution_count": 138,
   "id": "ce5d3255-0a97-496e-91bf-8bdbaef378a7",
   "metadata": {},
   "outputs": [],
   "source": [
    "#Scaling"
   ]
  },
  {
   "cell_type": "code",
   "execution_count": 139,
   "id": "7091a113-64de-4eea-b309-37e5c3e86fd9",
   "metadata": {},
   "outputs": [],
   "source": [
    "with open('flex_scaler_fd.pkl', 'rb') as f:\n",
    "    flex_scaler_fd = pickle.load(f)"
   ]
  },
  {
   "cell_type": "code",
   "execution_count": 140,
   "id": "9b70758a-c9c5-491f-a94b-d0194c28b30d",
   "metadata": {},
   "outputs": [],
   "source": [
    "fd_flex_scaled = flex_scaler_fd.transform(fd_flex_df_reset[flex_features])"
   ]
  },
  {
   "cell_type": "code",
   "execution_count": 141,
   "id": "b686522c-2a5f-45d2-b9f6-d43e51b26d37",
   "metadata": {},
   "outputs": [],
   "source": [
    "fd_flex_df_reset[flex_features] = fd_flex_scaled"
   ]
  },
  {
   "cell_type": "code",
   "execution_count": 142,
   "id": "ed13718d-b71f-4247-a585-442db0ed2e08",
   "metadata": {},
   "outputs": [],
   "source": [
    "fd_flex_df_scaled = fd_flex_df_reset.set_index(['name', 'team', 'position', 'salary', 'opponent', 'status', 'season', 'week'])"
   ]
  },
  {
   "cell_type": "code",
   "execution_count": null,
   "id": "1b5df820-7e97-4c4d-9317-d489f99fd74e",
   "metadata": {},
   "outputs": [],
   "source": []
  },
  {
   "cell_type": "code",
   "execution_count": 143,
   "id": "799b55a8-22a6-4b59-9957-2e9938ba1f66",
   "metadata": {},
   "outputs": [],
   "source": [
    "with open('flex_RF_model_FD.pkl', 'rb') as f:\n",
    "    flex_RF_model_FD = pickle.load(f)"
   ]
  },
  {
   "cell_type": "code",
   "execution_count": 144,
   "id": "14e35edd-0640-42bd-af7e-9ec7bb32f610",
   "metadata": {},
   "outputs": [],
   "source": [
    "rf_pred = flex_RF_model_FD.predict(fd_flex_df_scaled[flex_features].values)"
   ]
  },
  {
   "cell_type": "code",
   "execution_count": 145,
   "id": "8dae6ef8-4e1c-4d11-836b-27379c244ed4",
   "metadata": {},
   "outputs": [],
   "source": [
    "fd_flex_df_scaled['pred_RF'] = rf_pred"
   ]
  },
  {
   "cell_type": "code",
   "execution_count": 146,
   "id": "d58bca55-0c0d-42d2-a015-cd95953111d2",
   "metadata": {},
   "outputs": [],
   "source": [
    "with open('flex_GB_model_FD.pkl', 'rb') as f:\n",
    "    flex_GB_model_FD = pickle.load(f)"
   ]
  },
  {
   "cell_type": "code",
   "execution_count": 147,
   "id": "74b6b83f-7514-4107-9023-0e7e68e00c1a",
   "metadata": {},
   "outputs": [],
   "source": [
    "gb_pred = flex_GB_model_FD.predict(fd_flex_df_scaled[flex_features].values)"
   ]
  },
  {
   "cell_type": "code",
   "execution_count": 148,
   "id": "8518dcef-606f-44ff-80ba-1312d39c1530",
   "metadata": {},
   "outputs": [],
   "source": [
    "fd_flex_df_scaled['pred_GB'] = gb_pred"
   ]
  },
  {
   "cell_type": "code",
   "execution_count": 149,
   "id": "c0752257-533d-4665-b151-ded52aba9708",
   "metadata": {},
   "outputs": [],
   "source": [
    "with open('flex_XGB_model_FD.pkl', 'rb') as f:\n",
    "    flex_XGB_model_FD = pickle.load(f)"
   ]
  },
  {
   "cell_type": "code",
   "execution_count": 150,
   "id": "087ed598-c04b-459a-95e7-f4e129a309b9",
   "metadata": {},
   "outputs": [],
   "source": [
    "xgb_pred = flex_XGB_model_FD.predict(fd_flex_df_scaled[flex_features].values)"
   ]
  },
  {
   "cell_type": "code",
   "execution_count": 151,
   "id": "520ce088-100a-4a93-9964-37e4b2759e6d",
   "metadata": {},
   "outputs": [],
   "source": [
    "fd_flex_df_scaled['pred_XGB'] = xgb_pred"
   ]
  },
  {
   "cell_type": "code",
   "execution_count": null,
   "id": "508ce5d5-2ac6-4cec-9c0f-a6fdbe032513",
   "metadata": {},
   "outputs": [],
   "source": []
  },
  {
   "cell_type": "code",
   "execution_count": 152,
   "id": "1754dc54-6f10-421e-b295-673d65e45fd0",
   "metadata": {},
   "outputs": [],
   "source": [
    "#DK Flex"
   ]
  },
  {
   "cell_type": "code",
   "execution_count": 153,
   "id": "d52a5d06-c4e6-418e-98a3-907c8ccb5dc9",
   "metadata": {},
   "outputs": [],
   "source": [
    "dk_flex_df_reset = dk_flex_df.reset_index()"
   ]
  },
  {
   "cell_type": "code",
   "execution_count": 154,
   "id": "5f8acaa5-c99c-40f0-9854-34e1ffc7fd92",
   "metadata": {},
   "outputs": [],
   "source": [
    "with open('flex_scaler_dk.pkl', 'rb') as f:\n",
    "    flex_scaler_dk = pickle.load(f)"
   ]
  },
  {
   "cell_type": "code",
   "execution_count": 157,
   "id": "d65fed1c-9a1b-4868-8fbb-df44fc09e320",
   "metadata": {},
   "outputs": [],
   "source": [
    "dk_flex_scaled = flex_scaler_dk.transform(dk_flex_df_reset[flex_features])"
   ]
  },
  {
   "cell_type": "code",
   "execution_count": 158,
   "id": "1e4602c8-6e28-467f-a235-813a27135aee",
   "metadata": {},
   "outputs": [],
   "source": [
    "dk_flex_df_reset[flex_features] = dk_flex_scaled"
   ]
  },
  {
   "cell_type": "code",
   "execution_count": 159,
   "id": "2cfdbf74-fce7-4cae-9384-1fa198b17978",
   "metadata": {},
   "outputs": [],
   "source": [
    "dk_flex_df_scaled = dk_flex_df_reset.set_index(['name', 'team', 'position', 'salary', 'opponent', 'status', 'season', 'week'])"
   ]
  },
  {
   "cell_type": "code",
   "execution_count": null,
   "id": "6084bc4b-39ae-404b-a427-25a4b8f61759",
   "metadata": {},
   "outputs": [],
   "source": []
  },
  {
   "cell_type": "code",
   "execution_count": 160,
   "id": "71f340e0-1ca7-4dd9-acf2-bc5b941d0c4e",
   "metadata": {},
   "outputs": [],
   "source": [
    "with open('flex_RF_model_DK.pkl', 'rb') as f:\n",
    "    flex_RF_model_DK = pickle.load(f)"
   ]
  },
  {
   "cell_type": "code",
   "execution_count": 161,
   "id": "c5490477-c59b-422e-823c-bb7ef070c407",
   "metadata": {},
   "outputs": [],
   "source": [
    "rf_pred = flex_RF_model_DK.predict(dk_flex_df_scaled[flex_features].values)"
   ]
  },
  {
   "cell_type": "code",
   "execution_count": 162,
   "id": "5f668364-c6ad-47d3-9b85-73676c01ec93",
   "metadata": {},
   "outputs": [],
   "source": [
    "dk_flex_df_scaled['pred_RF'] = rf_pred"
   ]
  },
  {
   "cell_type": "code",
   "execution_count": 163,
   "id": "df7b6d62-dcc0-4da2-9c40-6eca85a31efa",
   "metadata": {},
   "outputs": [],
   "source": [
    "with open('flex_GB_model_DK.pkl', 'rb') as f:\n",
    "    flex_GB_model_DK = pickle.load(f)"
   ]
  },
  {
   "cell_type": "code",
   "execution_count": 164,
   "id": "1c5f637f-a1ae-4a8c-a9c1-2dfac985afb0",
   "metadata": {},
   "outputs": [],
   "source": [
    "gb_pred = flex_GB_model_DK.predict(dk_flex_df_scaled[flex_features].values)"
   ]
  },
  {
   "cell_type": "code",
   "execution_count": 165,
   "id": "659284ba-6fc0-4f47-9b45-4ab8b591f00d",
   "metadata": {},
   "outputs": [],
   "source": [
    "dk_flex_df_scaled['pred_GB'] = gb_pred"
   ]
  },
  {
   "cell_type": "code",
   "execution_count": 166,
   "id": "7aa56887-4f5e-4b88-9f19-ffd11bb1758e",
   "metadata": {},
   "outputs": [],
   "source": [
    "with open('flex_XGB_model_DK.pkl', 'rb') as f:\n",
    "    flex_XGB_model_DK = pickle.load(f)"
   ]
  },
  {
   "cell_type": "code",
   "execution_count": 167,
   "id": "dc28f47c-79bd-4c2d-ac5d-222304574f22",
   "metadata": {},
   "outputs": [],
   "source": [
    "xgb_pred = flex_XGB_model_DK.predict(dk_flex_df_scaled[flex_features].values)"
   ]
  },
  {
   "cell_type": "code",
   "execution_count": 168,
   "id": "e5d0cf64-efe7-4453-9a87-485837c46905",
   "metadata": {},
   "outputs": [],
   "source": [
    "dk_flex_df_scaled['pred_XGB'] = xgb_pred"
   ]
  },
  {
   "cell_type": "code",
   "execution_count": null,
   "id": "e55d35e7-178f-4561-ae20-7d527a80b3e9",
   "metadata": {},
   "outputs": [],
   "source": []
  },
  {
   "cell_type": "code",
   "execution_count": 173,
   "id": "4a51ea1c-b3c0-4bcf-8269-cfc2ef2ec812",
   "metadata": {},
   "outputs": [],
   "source": [
    "fd_def_df_scaled['pred_RF'] = None\n",
    "dk_def_df_scaled['pred_RF'] = None\n",
    "fd_qb_df_scaled['pred_Ridge'] = None\n",
    "dk_qb_df_scaled['pred_Ridge'] = None\n",
    "fd_flex_df_scaled['pred_Ridge'] = None\n",
    "dk_flex_df_scaled['pred_Ridge'] = None\n"
   ]
  },
  {
   "cell_type": "code",
   "execution_count": 174,
   "id": "9b50bf1c-ec96-4a01-88bc-2bac5678562e",
   "metadata": {},
   "outputs": [],
   "source": [
    "fd_def_df_scaled = fd_def_df_scaled[['pred_Ridge', 'pred_RF', 'pred_GB', 'pred_XGB']]\n",
    "dk_def_df_scaled = dk_def_df_scaled[['pred_Ridge', 'pred_RF', 'pred_GB', 'pred_XGB']]\n",
    "fd_qb_df_scaled = fd_qb_df_scaled[['pred_Ridge', 'pred_RF', 'pred_GB', 'pred_XGB']]\n",
    "dk_qb_df_scaled = dk_qb_df_scaled[['pred_Ridge', 'pred_RF', 'pred_GB', 'pred_XGB']]\n",
    "fd_flex_df_scaled = fd_flex_df_scaled[['pred_Ridge', 'pred_RF', 'pred_GB', 'pred_XGB']]\n",
    "dk_flex_df_scaled = dk_flex_df_scaled[['pred_Ridge', 'pred_RF', 'pred_GB', 'pred_XGB']]"
   ]
  },
  {
   "cell_type": "code",
   "execution_count": 177,
   "id": "892e31fc-e4c6-4038-9a16-6d8fc979ca54",
   "metadata": {},
   "outputs": [],
   "source": [
    "fd_predictions = pd.concat([fd_def_df_scaled, fd_qb_df_scaled, fd_flex_df_scaled], axis = 0)"
   ]
  },
  {
   "cell_type": "code",
   "execution_count": 178,
   "id": "b39cc036-d132-4d03-bb5e-13a5ad51b997",
   "metadata": {},
   "outputs": [],
   "source": [
    "dk_predictions = pd.concat([dk_def_df_scaled, dk_qb_df_scaled, dk_flex_df_scaled], axis = 0)"
   ]
  },
  {
   "cell_type": "code",
   "execution_count": 180,
   "id": "81d01dca-8481-4237-9510-5e3a07be9675",
   "metadata": {},
   "outputs": [
    {
     "data": {
      "text/html": [
       "<div>\n",
       "<style scoped>\n",
       "    .dataframe tbody tr th:only-of-type {\n",
       "        vertical-align: middle;\n",
       "    }\n",
       "\n",
       "    .dataframe tbody tr th {\n",
       "        vertical-align: top;\n",
       "    }\n",
       "\n",
       "    .dataframe thead th {\n",
       "        text-align: right;\n",
       "    }\n",
       "</style>\n",
       "<table border=\"1\" class=\"dataframe\">\n",
       "  <thead>\n",
       "    <tr style=\"text-align: right;\">\n",
       "      <th></th>\n",
       "      <th></th>\n",
       "      <th></th>\n",
       "      <th></th>\n",
       "      <th></th>\n",
       "      <th></th>\n",
       "      <th></th>\n",
       "      <th></th>\n",
       "      <th>pred_Ridge</th>\n",
       "      <th>pred_RF</th>\n",
       "      <th>pred_GB</th>\n",
       "      <th>pred_XGB</th>\n",
       "      <th>max_pred</th>\n",
       "      <th>min_pred</th>\n",
       "      <th>median_pred</th>\n",
       "    </tr>\n",
       "    <tr>\n",
       "      <th>name</th>\n",
       "      <th>team</th>\n",
       "      <th>position</th>\n",
       "      <th>salary</th>\n",
       "      <th>opponent</th>\n",
       "      <th>status</th>\n",
       "      <th>season</th>\n",
       "      <th>week</th>\n",
       "      <th></th>\n",
       "      <th></th>\n",
       "      <th></th>\n",
       "      <th></th>\n",
       "      <th></th>\n",
       "      <th></th>\n",
       "      <th></th>\n",
       "    </tr>\n",
       "  </thead>\n",
       "  <tbody>\n",
       "    <tr>\n",
       "      <th>CLE</th>\n",
       "      <th>CLE</th>\n",
       "      <th>D</th>\n",
       "      <th>3800</th>\n",
       "      <th>NYG</th>\n",
       "      <th>Active</th>\n",
       "      <th>2024.0</th>\n",
       "      <th>3</th>\n",
       "      <td>10.349126</td>\n",
       "      <td>NaN</td>\n",
       "      <td>10.252088</td>\n",
       "      <td>10.299079</td>\n",
       "      <td>10.349126</td>\n",
       "      <td>10.252088</td>\n",
       "      <td>10.299079</td>\n",
       "    </tr>\n",
       "    <tr>\n",
       "      <th>LV</th>\n",
       "      <th>LV</th>\n",
       "      <th>D</th>\n",
       "      <th>3700</th>\n",
       "      <th>CAR</th>\n",
       "      <th>Active</th>\n",
       "      <th>2024.0</th>\n",
       "      <th>3</th>\n",
       "      <td>10.108474</td>\n",
       "      <td>NaN</td>\n",
       "      <td>9.470763</td>\n",
       "      <td>9.429079</td>\n",
       "      <td>10.108474</td>\n",
       "      <td>9.429079</td>\n",
       "      <td>9.470763</td>\n",
       "    </tr>\n",
       "    <tr>\n",
       "      <th>LAC</th>\n",
       "      <th>LAC</th>\n",
       "      <th>D</th>\n",
       "      <th>3600</th>\n",
       "      <th>PIT</th>\n",
       "      <th>Active</th>\n",
       "      <th>2024.0</th>\n",
       "      <th>3</th>\n",
       "      <td>8.577688</td>\n",
       "      <td>NaN</td>\n",
       "      <td>8.607619</td>\n",
       "      <td>8.595581</td>\n",
       "      <td>8.607619</td>\n",
       "      <td>8.577688</td>\n",
       "      <td>8.595581</td>\n",
       "    </tr>\n",
       "    <tr>\n",
       "      <th>SEA</th>\n",
       "      <th>SEA</th>\n",
       "      <th>D</th>\n",
       "      <th>3500</th>\n",
       "      <th>MIA</th>\n",
       "      <th>Active</th>\n",
       "      <th>2024.0</th>\n",
       "      <th>3</th>\n",
       "      <td>8.950732</td>\n",
       "      <td>NaN</td>\n",
       "      <td>9.003687</td>\n",
       "      <td>9.001910</td>\n",
       "      <td>9.003687</td>\n",
       "      <td>8.950732</td>\n",
       "      <td>9.001910</td>\n",
       "    </tr>\n",
       "    <tr>\n",
       "      <th>SF</th>\n",
       "      <th>SF</th>\n",
       "      <th>D</th>\n",
       "      <th>3500</th>\n",
       "      <th>LAR</th>\n",
       "      <th>Active</th>\n",
       "      <th>2024.0</th>\n",
       "      <th>3</th>\n",
       "      <td>9.127979</td>\n",
       "      <td>NaN</td>\n",
       "      <td>9.191542</td>\n",
       "      <td>9.213709</td>\n",
       "      <td>9.213709</td>\n",
       "      <td>9.127979</td>\n",
       "      <td>9.191542</td>\n",
       "    </tr>\n",
       "  </tbody>\n",
       "</table>\n",
       "</div>"
      ],
      "text/plain": [
       "                                                       pred_Ridge  pred_RF  \\\n",
       "name team position salary opponent status season week                        \n",
       "CLE  CLE  D        3800   NYG      Active 2024.0 3      10.349126      NaN   \n",
       "LV   LV   D        3700   CAR      Active 2024.0 3      10.108474      NaN   \n",
       "LAC  LAC  D        3600   PIT      Active 2024.0 3       8.577688      NaN   \n",
       "SEA  SEA  D        3500   MIA      Active 2024.0 3       8.950732      NaN   \n",
       "SF   SF   D        3500   LAR      Active 2024.0 3       9.127979      NaN   \n",
       "\n",
       "                                                         pred_GB   pred_XGB  \\\n",
       "name team position salary opponent status season week                         \n",
       "CLE  CLE  D        3800   NYG      Active 2024.0 3     10.252088  10.299079   \n",
       "LV   LV   D        3700   CAR      Active 2024.0 3      9.470763   9.429079   \n",
       "LAC  LAC  D        3600   PIT      Active 2024.0 3      8.607619   8.595581   \n",
       "SEA  SEA  D        3500   MIA      Active 2024.0 3      9.003687   9.001910   \n",
       "SF   SF   D        3500   LAR      Active 2024.0 3      9.191542   9.213709   \n",
       "\n",
       "                                                        max_pred   min_pred  \\\n",
       "name team position salary opponent status season week                         \n",
       "CLE  CLE  D        3800   NYG      Active 2024.0 3     10.349126  10.252088   \n",
       "LV   LV   D        3700   CAR      Active 2024.0 3     10.108474   9.429079   \n",
       "LAC  LAC  D        3600   PIT      Active 2024.0 3      8.607619   8.577688   \n",
       "SEA  SEA  D        3500   MIA      Active 2024.0 3      9.003687   8.950732   \n",
       "SF   SF   D        3500   LAR      Active 2024.0 3      9.213709   9.127979   \n",
       "\n",
       "                                                       median_pred  \n",
       "name team position salary opponent status season week               \n",
       "CLE  CLE  D        3800   NYG      Active 2024.0 3       10.299079  \n",
       "LV   LV   D        3700   CAR      Active 2024.0 3        9.470763  \n",
       "LAC  LAC  D        3600   PIT      Active 2024.0 3        8.595581  \n",
       "SEA  SEA  D        3500   MIA      Active 2024.0 3        9.001910  \n",
       "SF   SF   D        3500   LAR      Active 2024.0 3        9.191542  "
      ]
     },
     "execution_count": 180,
     "metadata": {},
     "output_type": "execute_result"
    }
   ],
   "source": [
    "# List of prediction columns\n",
    "pred_columns = ['pred_Ridge', 'pred_RF', 'pred_GB', 'pred_XGB']\n",
    "\n",
    "# For fd_predictions\n",
    "fd_predictions['max_pred'] = fd_predictions[pred_columns].max(axis=1)\n",
    "fd_predictions['min_pred'] = fd_predictions[pred_columns].min(axis=1)\n",
    "fd_predictions['median_pred'] = fd_predictions[pred_columns].median(axis=1)\n",
    "\n",
    "# For dk_predictions\n",
    "dk_predictions['max_pred'] = dk_predictions[pred_columns].max(axis=1)\n",
    "dk_predictions['min_pred'] = dk_predictions[pred_columns].min(axis=1)\n",
    "dk_predictions['median_pred'] = dk_predictions[pred_columns].median(axis=1)\n",
    "\n",
    "# Display the first few rows to check the result\n",
    "fd_predictions.head()\n",
    "dk_predictions.head()\n"
   ]
  },
  {
   "cell_type": "code",
   "execution_count": 184,
   "id": "78360d38-4e2b-4314-b927-e20e1b60b8ad",
   "metadata": {},
   "outputs": [
    {
     "data": {
      "text/plain": [
       "0.0033333333333333335"
      ]
     },
     "execution_count": 184,
     "metadata": {},
     "output_type": "execute_result"
    }
   ],
   "source": []
  },
  {
   "cell_type": "code",
   "execution_count": 181,
   "id": "485db305-3d82-48ab-b494-614bff77fefb",
   "metadata": {},
   "outputs": [
    {
     "data": {
      "text/html": [
       "<div>\n",
       "<style scoped>\n",
       "    .dataframe tbody tr th:only-of-type {\n",
       "        vertical-align: middle;\n",
       "    }\n",
       "\n",
       "    .dataframe tbody tr th {\n",
       "        vertical-align: top;\n",
       "    }\n",
       "\n",
       "    .dataframe thead th {\n",
       "        text-align: right;\n",
       "    }\n",
       "</style>\n",
       "<table border=\"1\" class=\"dataframe\">\n",
       "  <thead>\n",
       "    <tr style=\"text-align: right;\">\n",
       "      <th></th>\n",
       "      <th></th>\n",
       "      <th></th>\n",
       "      <th></th>\n",
       "      <th></th>\n",
       "      <th></th>\n",
       "      <th></th>\n",
       "      <th></th>\n",
       "      <th>pred_Ridge</th>\n",
       "      <th>pred_RF</th>\n",
       "      <th>pred_GB</th>\n",
       "      <th>pred_XGB</th>\n",
       "      <th>max_pred</th>\n",
       "      <th>min_pred</th>\n",
       "      <th>median_pred</th>\n",
       "    </tr>\n",
       "    <tr>\n",
       "      <th>name</th>\n",
       "      <th>team</th>\n",
       "      <th>position</th>\n",
       "      <th>salary</th>\n",
       "      <th>opponent</th>\n",
       "      <th>status</th>\n",
       "      <th>season</th>\n",
       "      <th>week</th>\n",
       "      <th></th>\n",
       "      <th></th>\n",
       "      <th></th>\n",
       "      <th></th>\n",
       "      <th></th>\n",
       "      <th></th>\n",
       "      <th></th>\n",
       "    </tr>\n",
       "  </thead>\n",
       "  <tbody>\n",
       "    <tr>\n",
       "      <th>CLE</th>\n",
       "      <th>CLE</th>\n",
       "      <th>D</th>\n",
       "      <th>3800</th>\n",
       "      <th>NYG</th>\n",
       "      <th>Active</th>\n",
       "      <th>2024.0</th>\n",
       "      <th>3</th>\n",
       "      <td>10.349126</td>\n",
       "      <td>NaN</td>\n",
       "      <td>10.252088</td>\n",
       "      <td>10.299079</td>\n",
       "      <td>10.349126</td>\n",
       "      <td>10.252088</td>\n",
       "      <td>10.299079</td>\n",
       "    </tr>\n",
       "    <tr>\n",
       "      <th>LV</th>\n",
       "      <th>LV</th>\n",
       "      <th>D</th>\n",
       "      <th>3700</th>\n",
       "      <th>CAR</th>\n",
       "      <th>Active</th>\n",
       "      <th>2024.0</th>\n",
       "      <th>3</th>\n",
       "      <td>10.108474</td>\n",
       "      <td>NaN</td>\n",
       "      <td>9.470763</td>\n",
       "      <td>9.429079</td>\n",
       "      <td>10.108474</td>\n",
       "      <td>9.429079</td>\n",
       "      <td>9.470763</td>\n",
       "    </tr>\n",
       "    <tr>\n",
       "      <th>LAC</th>\n",
       "      <th>LAC</th>\n",
       "      <th>D</th>\n",
       "      <th>3600</th>\n",
       "      <th>PIT</th>\n",
       "      <th>Active</th>\n",
       "      <th>2024.0</th>\n",
       "      <th>3</th>\n",
       "      <td>8.577688</td>\n",
       "      <td>NaN</td>\n",
       "      <td>8.607619</td>\n",
       "      <td>8.595581</td>\n",
       "      <td>8.607619</td>\n",
       "      <td>8.577688</td>\n",
       "      <td>8.595581</td>\n",
       "    </tr>\n",
       "    <tr>\n",
       "      <th>SEA</th>\n",
       "      <th>SEA</th>\n",
       "      <th>D</th>\n",
       "      <th>3500</th>\n",
       "      <th>MIA</th>\n",
       "      <th>Active</th>\n",
       "      <th>2024.0</th>\n",
       "      <th>3</th>\n",
       "      <td>8.950732</td>\n",
       "      <td>NaN</td>\n",
       "      <td>9.003687</td>\n",
       "      <td>9.001910</td>\n",
       "      <td>9.003687</td>\n",
       "      <td>8.950732</td>\n",
       "      <td>9.001910</td>\n",
       "    </tr>\n",
       "    <tr>\n",
       "      <th>SF</th>\n",
       "      <th>SF</th>\n",
       "      <th>D</th>\n",
       "      <th>3500</th>\n",
       "      <th>LAR</th>\n",
       "      <th>Active</th>\n",
       "      <th>2024.0</th>\n",
       "      <th>3</th>\n",
       "      <td>9.127979</td>\n",
       "      <td>NaN</td>\n",
       "      <td>9.191542</td>\n",
       "      <td>9.213709</td>\n",
       "      <td>9.213709</td>\n",
       "      <td>9.127979</td>\n",
       "      <td>9.191542</td>\n",
       "    </tr>\n",
       "  </tbody>\n",
       "</table>\n",
       "</div>"
      ],
      "text/plain": [
       "                                                       pred_Ridge  pred_RF  \\\n",
       "name team position salary opponent status season week                        \n",
       "CLE  CLE  D        3800   NYG      Active 2024.0 3      10.349126      NaN   \n",
       "LV   LV   D        3700   CAR      Active 2024.0 3      10.108474      NaN   \n",
       "LAC  LAC  D        3600   PIT      Active 2024.0 3       8.577688      NaN   \n",
       "SEA  SEA  D        3500   MIA      Active 2024.0 3       8.950732      NaN   \n",
       "SF   SF   D        3500   LAR      Active 2024.0 3       9.127979      NaN   \n",
       "\n",
       "                                                         pred_GB   pred_XGB  \\\n",
       "name team position salary opponent status season week                         \n",
       "CLE  CLE  D        3800   NYG      Active 2024.0 3     10.252088  10.299079   \n",
       "LV   LV   D        3700   CAR      Active 2024.0 3      9.470763   9.429079   \n",
       "LAC  LAC  D        3600   PIT      Active 2024.0 3      8.607619   8.595581   \n",
       "SEA  SEA  D        3500   MIA      Active 2024.0 3      9.003687   9.001910   \n",
       "SF   SF   D        3500   LAR      Active 2024.0 3      9.191542   9.213709   \n",
       "\n",
       "                                                        max_pred   min_pred  \\\n",
       "name team position salary opponent status season week                         \n",
       "CLE  CLE  D        3800   NYG      Active 2024.0 3     10.349126  10.252088   \n",
       "LV   LV   D        3700   CAR      Active 2024.0 3     10.108474   9.429079   \n",
       "LAC  LAC  D        3600   PIT      Active 2024.0 3      8.607619   8.577688   \n",
       "SEA  SEA  D        3500   MIA      Active 2024.0 3      9.003687   8.950732   \n",
       "SF   SF   D        3500   LAR      Active 2024.0 3      9.213709   9.127979   \n",
       "\n",
       "                                                       median_pred  \n",
       "name team position salary opponent status season week               \n",
       "CLE  CLE  D        3800   NYG      Active 2024.0 3       10.299079  \n",
       "LV   LV   D        3700   CAR      Active 2024.0 3        9.470763  \n",
       "LAC  LAC  D        3600   PIT      Active 2024.0 3        8.595581  \n",
       "SEA  SEA  D        3500   MIA      Active 2024.0 3        9.001910  \n",
       "SF   SF   D        3500   LAR      Active 2024.0 3        9.191542  "
      ]
     },
     "execution_count": 181,
     "metadata": {},
     "output_type": "execute_result"
    }
   ],
   "source": [
    "dk_predictions.head()"
   ]
  },
  {
   "cell_type": "code",
   "execution_count": 182,
   "id": "4bf41b1f-2455-4f3a-a62a-01fdc91c0ac3",
   "metadata": {},
   "outputs": [],
   "source": [
    "fd_predictions = fd_predictions.sort_values(by = ['median_pred'], ascending = False)\n",
    "dk_predictions = dk_predictions.sort_values(by = ['median_pred'], ascending = False)"
   ]
  },
  {
   "cell_type": "code",
   "execution_count": 185,
   "id": "67609719-6f00-4b9c-b6e3-713ba93343df",
   "metadata": {},
   "outputs": [],
   "source": [
    "fd_predictions.to_csv('FD_predictions_' + str(season) + '_' + str(week) + '.csv', index = True)\n",
    "dk_predictions.to_csv('DK_predictions_' + str(season) + '_' + str(week) + '.csv', index = True)"
   ]
  },
  {
   "cell_type": "code",
   "execution_count": null,
   "id": "c12ab1fe-8e80-4776-82e8-8d0d8307b1ff",
   "metadata": {},
   "outputs": [],
   "source": []
  }
 ],
 "metadata": {
  "kernelspec": {
   "display_name": "Python (nfl_dfs_model)",
   "language": "python",
   "name": "nfl_dfs_model"
  },
  "language_info": {
   "codemirror_mode": {
    "name": "ipython",
    "version": 3
   },
   "file_extension": ".py",
   "mimetype": "text/x-python",
   "name": "python",
   "nbconvert_exporter": "python",
   "pygments_lexer": "ipython3",
   "version": "3.8.19"
  }
 },
 "nbformat": 4,
 "nbformat_minor": 5
}
