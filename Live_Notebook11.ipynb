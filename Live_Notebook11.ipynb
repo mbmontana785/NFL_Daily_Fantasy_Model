{
 "cells": [
  {
   "cell_type": "code",
   "execution_count": 34,
   "id": "4c4f939d-eb26-4148-9e45-6f9077e02680",
   "metadata": {},
   "outputs": [],
   "source": [
    "import pandas as pd\n",
    "import numpy as np\n",
    "import pulp"
   ]
  },
  {
   "cell_type": "code",
   "execution_count": 35,
   "id": "02ef2dc1-055d-45b0-94b5-9a4088189467",
   "metadata": {},
   "outputs": [],
   "source": [
    "from functions import get_current_weekday, calculate_nfl_week, get_next_sunday, get_current_year"
   ]
  },
  {
   "cell_type": "code",
   "execution_count": 36,
   "id": "a4d7b488-a097-412a-8a66-7751b0088b49",
   "metadata": {},
   "outputs": [],
   "source": [
    "day = get_current_weekday()"
   ]
  },
  {
   "cell_type": "code",
   "execution_count": 37,
   "id": "408602db-4c46-4152-aeb9-d9510af9a7b7",
   "metadata": {},
   "outputs": [],
   "source": [
    "date_string = get_next_sunday(day)"
   ]
  },
  {
   "cell_type": "code",
   "execution_count": 38,
   "id": "990c22a2-2890-43f7-93db-d179735acbf6",
   "metadata": {},
   "outputs": [],
   "source": [
    "week = calculate_nfl_week(date_string)"
   ]
  },
  {
   "cell_type": "code",
   "execution_count": 39,
   "id": "a2517d2c-76bf-48b4-9666-bed5cce28eee",
   "metadata": {},
   "outputs": [],
   "source": [
    "season = get_current_year()"
   ]
  },
  {
   "cell_type": "code",
   "execution_count": null,
   "id": "cec61d26-d2c7-4eff-8d32-4ca4733a1446",
   "metadata": {},
   "outputs": [],
   "source": []
  },
  {
   "cell_type": "code",
   "execution_count": 40,
   "id": "5e936377-8c7f-4c88-a87e-fca386f18d03",
   "metadata": {},
   "outputs": [
    {
     "name": "stdin",
     "output_type": "stream",
     "text": [
      "Do you want to generate lineups for FanDuel or DraftKings?  DK\n"
     ]
    }
   ],
   "source": [
    "site_for_pred = input('Do you want to generate lineups for FanDuel or DraftKings? ')\n",
    "if site_for_pred == 'FD':\n",
    "    df = pd.read_csv('FD_predictions_' + str(season) + '_' + str(week) + '.csv')\n",
    "else: \n",
    "    df = pd.read_csv('DK_predictions_' + str(season) + '_' + str(week) + '.csv')"
   ]
  },
  {
   "cell_type": "code",
   "execution_count": 41,
   "id": "c7c8ed51-c550-478d-bbcd-f0dc02777724",
   "metadata": {},
   "outputs": [],
   "source": [
    "# dk_preds['Value'] = np.round((dk_preds['median_pred'] / dk_preds['salary']) * 1000, 3)"
   ]
  },
  {
   "cell_type": "code",
   "execution_count": 42,
   "id": "2d7f65c7-05fd-4dcd-8fdd-e939218fbbde",
   "metadata": {},
   "outputs": [],
   "source": [
    "# dk_preds.sort_values(by = ['Value'], ascending = False)"
   ]
  },
  {
   "cell_type": "code",
   "execution_count": 43,
   "id": "c5336223-f30f-4459-936c-d3bcb65c6736",
   "metadata": {},
   "outputs": [],
   "source": [
    "# prob = pulp.LpProblem('DK_NFL_weekly', pulp.LpMaximize)\n",
    "# player_vars = [pulp.LpVariable(f'player_{row.name}', cat='Binary') for row in df.itertuples()]"
   ]
  },
  {
   "cell_type": "code",
   "execution_count": 44,
   "id": "88b85909-606d-447a-b2a2-b4c247b52d67",
   "metadata": {},
   "outputs": [],
   "source": [
    "# total assigned players constraint\n",
    "# prob += pulp.lpSum(player_var for player_var in player_vars) == 9\n",
    "# # total salary constraint\n",
    "# prob += pulp.lpSum(df.salary.iloc[i] * player_vars[i] for i in range(len(df))) <= 50000\n",
    "# # create a helper function to return the number of players assigned each position\n",
    "# def get_position_sum(player_vars, df, position):\n",
    "#     return pulp.lpSum([player_vars[i] * (position in df['position'].iloc[i]) for i in range(len(df))])\n",
    "    \n",
    "# # for QB and DST, require 1 of each in the lineup\n",
    "# prob += get_position_sum(player_vars, df, 'QB') == 1\n",
    "# prob += get_position_sum(player_vars, df, 'D') == 1\n",
    "# prob += get_position_sum(player_vars, df, 'TE') == 1\n",
    "# # to account for the FLEX position, we allow additional selections of the 3 FLEX-eligible positions: RB, WR, TE\n",
    "# prob += get_position_sum(player_vars, df, 'RB') >= 2\n",
    "# prob += get_position_sum(player_vars, df, 'WR') >= 3\n"
   ]
  },
  {
   "cell_type": "code",
   "execution_count": 45,
   "id": "6b96e3ea-e781-4b5f-b6db-406ade2fba59",
   "metadata": {},
   "outputs": [],
   "source": [
    "# prob += pulp.lpSum([df.max_pred.iloc[i] * player_vars[i] for i in range(len(df))])"
   ]
  },
  {
   "cell_type": "code",
   "execution_count": 46,
   "id": "759d61dd-9bfe-47be-8542-992ffcea3567",
   "metadata": {},
   "outputs": [],
   "source": [
    "# solve and print the status\n",
    "# prob.solve()\n",
    "# print(pulp.LpStatus[prob.status])"
   ]
  },
  {
   "cell_type": "code",
   "execution_count": 47,
   "id": "4ad7315f-4d54-467a-ad56-b2ff8e43ab75",
   "metadata": {},
   "outputs": [],
   "source": [
    "# total_salary_used = 0\n",
    "# mean_pred_points = 0\n",
    "# for i in range(len(df)):\n",
    "#     if player_vars[i].value() == 1:\n",
    "#         row = df.iloc[i]\n",
    "#         print(row['position'], row['name'], row.team, row.salary, row.median_pred)\n",
    "#         total_salary_used += row.salary\n",
    "#         mean_pred_points += row.median_pred\n",
    "# mean_pred_points /= 9  # divide by total players in roster to get a mean\n",
    "\n",
    "# print(f\"Total salary used: {total_salary_used}\")\n",
    "# print(f\"Total predicted points: {mean_pred_points * 9}\")  # Multiply mean by 9 to get total points\n"
   ]
  },
  {
   "cell_type": "code",
   "execution_count": 48,
   "id": "c305c44f-8a89-41fa-b1a2-87f8ddbfcccd",
   "metadata": {},
   "outputs": [],
   "source": [
    "exclude_list = []"
   ]
  },
  {
   "cell_type": "code",
   "execution_count": 49,
   "id": "f7d2afeb-ad46-4588-98dd-53e23aaf07c3",
   "metadata": {},
   "outputs": [
    {
     "name": "stdin",
     "output_type": "stream",
     "text": [
      "Do you want to exclude any players from lineups?  y\n",
      "Which player?  Tank Dell\n",
      "Any other players?  n\n"
     ]
    },
    {
     "name": "stdout",
     "output_type": "stream",
     "text": [
      "Optimal\n",
      "('QB', 'Kyler Murray', 'ARI', 6900, 21.87380790710449)\n",
      "('RB', 'Alvin Kamara', 'NO', 7500, 19.410806604037347)\n",
      "('WR', 'Chris Godwin', 'TB', 6500, 17.29442596435547)\n",
      "('RB', 'James Conner', 'ARI', 6600, 16.56440541264341)\n",
      "('WR', 'Malik Nabers', 'NYG', 6400, 16.050303919766336)\n",
      "('TE', 'Brock Bowers', 'LV', 5400, 15.089193344116213)\n",
      "('RB', 'Jaret Patterson', 'LAC', 4000, 11.685183450597531)\n",
      "('WR', 'Devaughn Vele', 'DEN', 3400, 10.61919116973877)\n",
      "('D', 'PIT', 'PIT', 3300, 10.12870979309082)\n",
      "Total salary used: 50000\n",
      "Total predicted points: 138.7160275654504\n"
     ]
    },
    {
     "name": "stdin",
     "output_type": "stream",
     "text": [
      "Do you want to generate any more lineups?  y\n",
      "Which site?  DK\n",
      "Do you want to exclude any players from lineups?  n\n"
     ]
    },
    {
     "name": "stdout",
     "output_type": "stream",
     "text": [
      "Optimal\n",
      "('QB', 'Kyler Murray', 'ARI', 6900, 21.87380790710449)\n",
      "('RB', 'Alvin Kamara', 'NO', 7500, 19.410806604037347)\n",
      "('WR', 'Chris Godwin', 'TB', 6500, 17.29442596435547)\n",
      "('RB', 'James Conner', 'ARI', 6600, 16.56440541264341)\n",
      "('WR', 'Malik Nabers', 'NYG', 6400, 16.050303919766336)\n",
      "('TE', 'Brock Bowers', 'LV', 5400, 15.089193344116213)\n",
      "('RB', 'Jaret Patterson', 'LAC', 4000, 11.685183450597531)\n",
      "('WR', 'Devaughn Vele', 'DEN', 3400, 10.61919116973877)\n",
      "('D', 'PIT', 'PIT', 3300, 10.12870979309082)\n",
      "Total salary used: 50000\n",
      "Total predicted points: 138.7160275654504\n"
     ]
    },
    {
     "name": "stdin",
     "output_type": "stream",
     "text": [
      "Do you want to generate any more lineups?  n\n"
     ]
    }
   ],
   "source": [
    "exclude = input('Do you want to exclude any players from lineups? ')\n",
    "while exclude == 'y':\n",
    "    player = input('Which player? ')\n",
    "    exclude_list.append(player)\n",
    "    exclude = input('Any other players? ')\n",
    "\n",
    "if site_for_pred == 'FD':\n",
    "    cap = 60000\n",
    "else:\n",
    "    cap = 50000\n",
    "\n",
    "# Define the lineup generation function with a salary cap parameter\n",
    "def generate_lineup(df, salary_cap, excluded_players=exclude_list):\n",
    "    if excluded_players is None:\n",
    "        excluded_players = []\n",
    "\n",
    "    # Create the pulp problem\n",
    "    prob = pulp.LpProblem('NFL_weekly', pulp.LpMaximize)\n",
    "\n",
    "    # Create variables for each player indicating whether they are included in the lineup\n",
    "    player_vars = [pulp.LpVariable(f'player_{row.name}', cat='Binary') for row in df.itertuples()]\n",
    "\n",
    "    # Total assigned players constraint\n",
    "    prob += pulp.lpSum(player_var for player_var in player_vars) == 9\n",
    "\n",
    "    # Total salary constraint using the provided salary cap\n",
    "    prob += pulp.lpSum(df.salary.iloc[i] * player_vars[i] for i in range(len(df))) <= salary_cap\n",
    "\n",
    "    # Create a helper function to return the number of players assigned each position\n",
    "    def get_position_sum(player_vars, df, position):\n",
    "        return pulp.lpSum([player_vars[i] * (position in df['position'].iloc[i]) for i in range(len(df))])\n",
    "\n",
    "    # Position constraints: 1 QB, 1 Defense, 1 TE, 2 RBs, 3 WRs, 1 FLEX (RB, WR, or TE)\n",
    "    prob += get_position_sum(player_vars, df, 'QB') == 1\n",
    "    prob += get_position_sum(player_vars, df, 'D') == 1\n",
    "    prob += get_position_sum(player_vars, df, 'TE') == 1\n",
    "    prob += get_position_sum(player_vars, df, 'RB') >= 2\n",
    "    prob += get_position_sum(player_vars, df, 'WR') >= 3\n",
    "\n",
    "    # Objective: Maximize total predicted points\n",
    "    prob += pulp.lpSum([df.max_pred.iloc[i] * player_vars[i] for i in range(len(df))])\n",
    "\n",
    "    # Exclude specific players\n",
    "    for i, row in df.iterrows():\n",
    "        if row['name'] in excluded_players:\n",
    "            prob += player_vars[i] == 0  # Prevent this player from being selected\n",
    "\n",
    "    # Solve the problem and print the status\n",
    "    prob.solve()\n",
    "    print(pulp.LpStatus[prob.status])\n",
    "\n",
    "    total_salary_used = 0\n",
    "    mean_pred_points = 0\n",
    "    lineup = []\n",
    "\n",
    "    # Gather lineup details\n",
    "    for i in range(len(df)):\n",
    "        if player_vars[i].value() == 1:\n",
    "            row = df.iloc[i]\n",
    "            lineup.append((row['position'], row['name'], row.team, row.salary, row.median_pred))\n",
    "            total_salary_used += row.salary\n",
    "            mean_pred_points += row.median_pred\n",
    "\n",
    "    mean_pred_points /= 9  # Divide by total players in roster to get a mean\n",
    "\n",
    "    # Print the lineup details\n",
    "    for player in lineup:\n",
    "        print(player)\n",
    "\n",
    "    print(f\"Total salary used: {total_salary_used}\")\n",
    "    print(f\"Total predicted points: {mean_pred_points * 9}\")  # Multiply mean by 9 to get total points\n",
    "\n",
    "    return lineup\n",
    "\n",
    "# Example of how to call the function for DraftKings\n",
    "\n",
    "generate_lineup(df, cap, exclude_list)\n",
    "\n",
    "generate = input('Do you want to generate any more lineups? ')\n",
    "while generate == 'y':\n",
    "    site_for_pred = input('Which site? ')\n",
    "    if site_for_pred == 'FD':\n",
    "        df = pd.read_csv('FD_predictions_' + str(season) + '_' + str(week) + '.csv')\n",
    "        cap = 60000\n",
    "    else: \n",
    "        df = pd.read_csv('DK_predictions_' + str(season) + '_' + str(week) + '.csv')\n",
    "        cap = 50000\n",
    "    exclude = input('Do you want to exclude any players from lineups? ')\n",
    "    while exclude == 'y':\n",
    "        player = input('Which player? ')\n",
    "        exclude_list.append(player)\n",
    "        exclude = input('Any other players? ')\n",
    "    generate_lineup(df, cap, exclude_list)\n",
    "    generate = input('Do you want to generate any more lineups? ')"
   ]
  },
  {
   "cell_type": "code",
   "execution_count": null,
   "id": "b2d6c227-af3c-40c6-a445-6cc14279caad",
   "metadata": {},
   "outputs": [],
   "source": []
  },
  {
   "cell_type": "code",
   "execution_count": null,
   "id": "48f8b5d7-2c6e-4c18-b299-e563e453f291",
   "metadata": {},
   "outputs": [],
   "source": [
    "\n"
   ]
  },
  {
   "cell_type": "code",
   "execution_count": null,
   "id": "28e673da-a336-4f2a-9f74-b4f67207e1a3",
   "metadata": {},
   "outputs": [],
   "source": []
  },
  {
   "cell_type": "code",
   "execution_count": null,
   "id": "5954382d-73db-4286-9bea-56858e8fa86a",
   "metadata": {},
   "outputs": [],
   "source": []
  },
  {
   "cell_type": "code",
   "execution_count": null,
   "id": "472cda53-08cb-462a-8dfb-0eee8274ff5a",
   "metadata": {},
   "outputs": [],
   "source": []
  },
  {
   "cell_type": "code",
   "execution_count": null,
   "id": "c62a3338-8c84-43dc-80e4-52f567dde3e0",
   "metadata": {},
   "outputs": [],
   "source": [
    "# generate_lineup(df, 50000, exclude)"
   ]
  },
  {
   "cell_type": "code",
   "execution_count": null,
   "id": "ba7def47-e25a-41bb-a685-734749577599",
   "metadata": {},
   "outputs": [],
   "source": []
  }
 ],
 "metadata": {
  "kernelspec": {
   "display_name": "Python (nfl_dfs_model)",
   "language": "python",
   "name": "nfl_dfs_model"
  },
  "language_info": {
   "codemirror_mode": {
    "name": "ipython",
    "version": 3
   },
   "file_extension": ".py",
   "mimetype": "text/x-python",
   "name": "python",
   "nbconvert_exporter": "python",
   "pygments_lexer": "ipython3",
   "version": "3.8.19"
  }
 },
 "nbformat": 4,
 "nbformat_minor": 5
}
