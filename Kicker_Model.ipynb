{
 "cells": [
  {
   "cell_type": "markdown",
   "id": "60596817-2338-4c0e-8bed-7a0261e6dac5",
   "metadata": {},
   "source": [
    "# Predicting fantasy points for kickers\n",
    "In this notebook we'll bring in the target varible we've derived and create a model to predict fantasy points for kickers.<br>\n",
    "\n",
    "Below are the model results."
   ]
  },
  {
   "cell_type": "code",
   "execution_count": 123,
   "id": "b03d0e98-eec5-4b65-99b7-52634410a2e1",
   "metadata": {},
   "outputs": [],
   "source": [
    "error_dict = {'KNN': [45, 4.093921840711748],\\\n",
    "              'Ridge': [{'alpha': 100.0}, 4.158989477787983],\\\n",
    "              'Random Forest': [{'max_depth': 4, 'n_estimators': 100}, 4.064566369207579],\\\n",
    "              'Gradient Boost': [{'learning_rate': 0.01, 'max_depth': 3, 'n_estimators': 300}, 4.065429448613024],\\\n",
    "              'XG Boost': [{'learning_rate': 0.01, 'max_depth': 3, 'n_estimators': 300}, 4.065833788432901]}"
   ]
  },
  {
   "cell_type": "code",
   "execution_count": 1,
   "id": "a00ded45",
   "metadata": {},
   "outputs": [],
   "source": [
    "import numpy as np\n",
    "import pandas as pd\n",
    "import matplotlib.pyplot as plt\n",
    "import nfl_data_py as nfl\n",
    "import sqlite3"
   ]
  },
  {
   "cell_type": "markdown",
   "id": "2129b0db",
   "metadata": {},
   "source": [
    "# Connecting to the database\n",
    "Here we'll connect to the team_defense and kicker_target tables in our sqlite database. Team_defense is the table we used to derive our defense target variable. It will probably work here, too. When we get to QB, RB, WR, and TE models, we'll probably need different features from that data and will have to create a new table."
   ]
  },
  {
   "cell_type": "code",
   "execution_count": 2,
   "id": "ca659640",
   "metadata": {},
   "outputs": [],
   "source": [
    "# Connect to the SQLite database\n",
    "conn = sqlite3.connect('nfl_dfs.db')\n",
    "\n",
    "# Query specific columns from the table\n",
    "query1 = \"SELECT * FROM team_defense\"\n",
    "kicker_df = pd.read_sql_query(query1, conn)\n",
    "\n",
    "query2 = \"SELECT * FROM kicker_target\"\n",
    "kicker_target = pd.read_sql_query(query2, conn)\n",
    "\n",
    "# Close the connection\n",
    "conn.close()"
   ]
  },
  {
   "cell_type": "code",
   "execution_count": 3,
   "id": "92d5a37c",
   "metadata": {},
   "outputs": [
    {
     "data": {
      "text/html": [
       "<div>\n",
       "<style scoped>\n",
       "    .dataframe tbody tr th:only-of-type {\n",
       "        vertical-align: middle;\n",
       "    }\n",
       "\n",
       "    .dataframe tbody tr th {\n",
       "        vertical-align: top;\n",
       "    }\n",
       "\n",
       "    .dataframe thead th {\n",
       "        text-align: right;\n",
       "    }\n",
       "</style>\n",
       "<table border=\"1\" class=\"dataframe\">\n",
       "  <thead>\n",
       "    <tr style=\"text-align: right;\">\n",
       "      <th></th>\n",
       "      <th>id</th>\n",
       "      <th>Unnamed: 0</th>\n",
       "      <th>play_id</th>\n",
       "      <th>game_id</th>\n",
       "      <th>old_game_id</th>\n",
       "      <th>home_team</th>\n",
       "      <th>away_team</th>\n",
       "      <th>season_type</th>\n",
       "      <th>week</th>\n",
       "      <th>posteam</th>\n",
       "      <th>...</th>\n",
       "      <th>div_game</th>\n",
       "      <th>roof</th>\n",
       "      <th>surface</th>\n",
       "      <th>pass</th>\n",
       "      <th>rush</th>\n",
       "      <th>posteam_score</th>\n",
       "      <th>posteam_score_post</th>\n",
       "      <th>defteam_score</th>\n",
       "      <th>defteam_score_post</th>\n",
       "      <th>desc</th>\n",
       "    </tr>\n",
       "  </thead>\n",
       "  <tbody>\n",
       "    <tr>\n",
       "      <th>0</th>\n",
       "      <td>0</td>\n",
       "      <td>0</td>\n",
       "      <td>34.0</td>\n",
       "      <td>2000_01_ARI_NYG</td>\n",
       "      <td>2000090300</td>\n",
       "      <td>NYG</td>\n",
       "      <td>ARI</td>\n",
       "      <td>REG</td>\n",
       "      <td>1</td>\n",
       "      <td>ARI</td>\n",
       "      <td>...</td>\n",
       "      <td>1</td>\n",
       "      <td>outdoors</td>\n",
       "      <td>grass</td>\n",
       "      <td>0.0</td>\n",
       "      <td>0.0</td>\n",
       "      <td>NaN</td>\n",
       "      <td>0.0</td>\n",
       "      <td>NaN</td>\n",
       "      <td>0.0</td>\n",
       "      <td>B.Daluiso kicks 72 yards from NYG 30 to ARI -2...</td>\n",
       "    </tr>\n",
       "    <tr>\n",
       "      <th>1</th>\n",
       "      <td>1</td>\n",
       "      <td>1</td>\n",
       "      <td>70.0</td>\n",
       "      <td>2000_01_ARI_NYG</td>\n",
       "      <td>2000090300</td>\n",
       "      <td>NYG</td>\n",
       "      <td>ARI</td>\n",
       "      <td>REG</td>\n",
       "      <td>1</td>\n",
       "      <td>ARI</td>\n",
       "      <td>...</td>\n",
       "      <td>1</td>\n",
       "      <td>outdoors</td>\n",
       "      <td>grass</td>\n",
       "      <td>0.0</td>\n",
       "      <td>0.0</td>\n",
       "      <td>0.0</td>\n",
       "      <td>0.0</td>\n",
       "      <td>0.0</td>\n",
       "      <td>0.0</td>\n",
       "      <td>B.Daluiso kicks 69 yards from NYG 25 to ARI 6....</td>\n",
       "    </tr>\n",
       "    <tr>\n",
       "      <th>2</th>\n",
       "      <td>2</td>\n",
       "      <td>2</td>\n",
       "      <td>106.0</td>\n",
       "      <td>2000_01_ARI_NYG</td>\n",
       "      <td>2000090300</td>\n",
       "      <td>NYG</td>\n",
       "      <td>ARI</td>\n",
       "      <td>REG</td>\n",
       "      <td>1</td>\n",
       "      <td>ARI</td>\n",
       "      <td>...</td>\n",
       "      <td>1</td>\n",
       "      <td>outdoors</td>\n",
       "      <td>grass</td>\n",
       "      <td>0.0</td>\n",
       "      <td>1.0</td>\n",
       "      <td>0.0</td>\n",
       "      <td>0.0</td>\n",
       "      <td>0.0</td>\n",
       "      <td>0.0</td>\n",
       "      <td>(15:00) T.Jones left end to ARI 37 for 2 yards...</td>\n",
       "    </tr>\n",
       "    <tr>\n",
       "      <th>3</th>\n",
       "      <td>3</td>\n",
       "      <td>3</td>\n",
       "      <td>131.0</td>\n",
       "      <td>2000_01_ARI_NYG</td>\n",
       "      <td>2000090300</td>\n",
       "      <td>NYG</td>\n",
       "      <td>ARI</td>\n",
       "      <td>REG</td>\n",
       "      <td>1</td>\n",
       "      <td>ARI</td>\n",
       "      <td>...</td>\n",
       "      <td>1</td>\n",
       "      <td>outdoors</td>\n",
       "      <td>grass</td>\n",
       "      <td>1.0</td>\n",
       "      <td>0.0</td>\n",
       "      <td>0.0</td>\n",
       "      <td>0.0</td>\n",
       "      <td>0.0</td>\n",
       "      <td>0.0</td>\n",
       "      <td>(14:04) J.Plummer pass incomplete to T.Jones.</td>\n",
       "    </tr>\n",
       "    <tr>\n",
       "      <th>4</th>\n",
       "      <td>4</td>\n",
       "      <td>4</td>\n",
       "      <td>148.0</td>\n",
       "      <td>2000_01_ARI_NYG</td>\n",
       "      <td>2000090300</td>\n",
       "      <td>NYG</td>\n",
       "      <td>ARI</td>\n",
       "      <td>REG</td>\n",
       "      <td>1</td>\n",
       "      <td>ARI</td>\n",
       "      <td>...</td>\n",
       "      <td>1</td>\n",
       "      <td>outdoors</td>\n",
       "      <td>grass</td>\n",
       "      <td>1.0</td>\n",
       "      <td>0.0</td>\n",
       "      <td>0.0</td>\n",
       "      <td>0.0</td>\n",
       "      <td>0.0</td>\n",
       "      <td>0.0</td>\n",
       "      <td>(13:57) (Shotgun) J.Plummer pass incomplete to...</td>\n",
       "    </tr>\n",
       "  </tbody>\n",
       "</table>\n",
       "<p>5 rows × 67 columns</p>\n",
       "</div>"
      ],
      "text/plain": [
       "   id  Unnamed: 0  play_id          game_id  old_game_id home_team away_team  \\\n",
       "0   0           0     34.0  2000_01_ARI_NYG   2000090300       NYG       ARI   \n",
       "1   1           1     70.0  2000_01_ARI_NYG   2000090300       NYG       ARI   \n",
       "2   2           2    106.0  2000_01_ARI_NYG   2000090300       NYG       ARI   \n",
       "3   3           3    131.0  2000_01_ARI_NYG   2000090300       NYG       ARI   \n",
       "4   4           4    148.0  2000_01_ARI_NYG   2000090300       NYG       ARI   \n",
       "\n",
       "  season_type  week posteam  ... div_game      roof  surface pass rush  \\\n",
       "0         REG     1     ARI  ...        1  outdoors    grass  0.0  0.0   \n",
       "1         REG     1     ARI  ...        1  outdoors    grass  0.0  0.0   \n",
       "2         REG     1     ARI  ...        1  outdoors    grass  0.0  1.0   \n",
       "3         REG     1     ARI  ...        1  outdoors    grass  1.0  0.0   \n",
       "4         REG     1     ARI  ...        1  outdoors    grass  1.0  0.0   \n",
       "\n",
       "  posteam_score posteam_score_post defteam_score  defteam_score_post  \\\n",
       "0           NaN                0.0           NaN                 0.0   \n",
       "1           0.0                0.0           0.0                 0.0   \n",
       "2           0.0                0.0           0.0                 0.0   \n",
       "3           0.0                0.0           0.0                 0.0   \n",
       "4           0.0                0.0           0.0                 0.0   \n",
       "\n",
       "                                                desc  \n",
       "0  B.Daluiso kicks 72 yards from NYG 30 to ARI -2...  \n",
       "1  B.Daluiso kicks 69 yards from NYG 25 to ARI 6....  \n",
       "2  (15:00) T.Jones left end to ARI 37 for 2 yards...  \n",
       "3      (14:04) J.Plummer pass incomplete to T.Jones.  \n",
       "4  (13:57) (Shotgun) J.Plummer pass incomplete to...  \n",
       "\n",
       "[5 rows x 67 columns]"
      ]
     },
     "execution_count": 3,
     "metadata": {},
     "output_type": "execute_result"
    }
   ],
   "source": [
    "kicker_df.head()"
   ]
  },
  {
   "cell_type": "code",
   "execution_count": 4,
   "id": "20fe62f5",
   "metadata": {},
   "outputs": [
    {
     "data": {
      "text/html": [
       "<div>\n",
       "<style scoped>\n",
       "    .dataframe tbody tr th:only-of-type {\n",
       "        vertical-align: middle;\n",
       "    }\n",
       "\n",
       "    .dataframe tbody tr th {\n",
       "        vertical-align: top;\n",
       "    }\n",
       "\n",
       "    .dataframe thead th {\n",
       "        text-align: right;\n",
       "    }\n",
       "</style>\n",
       "<table border=\"1\" class=\"dataframe\">\n",
       "  <thead>\n",
       "    <tr style=\"text-align: right;\">\n",
       "      <th></th>\n",
       "      <th>season</th>\n",
       "      <th>week</th>\n",
       "      <th>game_id</th>\n",
       "      <th>kicker_player_name</th>\n",
       "      <th>home_team</th>\n",
       "      <th>away_team</th>\n",
       "      <th>posteam</th>\n",
       "      <th>defteam</th>\n",
       "      <th>FD_Pts</th>\n",
       "      <th>FG_39</th>\n",
       "      <th>FG_49</th>\n",
       "      <th>FG_50_plus</th>\n",
       "    </tr>\n",
       "  </thead>\n",
       "  <tbody>\n",
       "    <tr>\n",
       "      <th>0</th>\n",
       "      <td>2001</td>\n",
       "      <td>1</td>\n",
       "      <td>2001_01_ATL_SF</td>\n",
       "      <td>J.Cortez</td>\n",
       "      <td>SF</td>\n",
       "      <td>ATL</td>\n",
       "      <td>SF</td>\n",
       "      <td>ATL</td>\n",
       "      <td>10.0</td>\n",
       "      <td>3</td>\n",
       "      <td>0</td>\n",
       "      <td>0</td>\n",
       "    </tr>\n",
       "    <tr>\n",
       "      <th>1</th>\n",
       "      <td>2001</td>\n",
       "      <td>1</td>\n",
       "      <td>2001_01_ATL_SF</td>\n",
       "      <td>J.Feely</td>\n",
       "      <td>SF</td>\n",
       "      <td>ATL</td>\n",
       "      <td>ATL</td>\n",
       "      <td>SF</td>\n",
       "      <td>7.0</td>\n",
       "      <td>2</td>\n",
       "      <td>0</td>\n",
       "      <td>0</td>\n",
       "    </tr>\n",
       "    <tr>\n",
       "      <th>2</th>\n",
       "      <td>2001</td>\n",
       "      <td>1</td>\n",
       "      <td>2001_01_CAR_MIN</td>\n",
       "      <td>G.Anderson</td>\n",
       "      <td>MIN</td>\n",
       "      <td>CAR</td>\n",
       "      <td>MIN</td>\n",
       "      <td>CAR</td>\n",
       "      <td>1.0</td>\n",
       "      <td>0</td>\n",
       "      <td>0</td>\n",
       "      <td>0</td>\n",
       "    </tr>\n",
       "    <tr>\n",
       "      <th>3</th>\n",
       "      <td>2001</td>\n",
       "      <td>1</td>\n",
       "      <td>2001_01_CAR_MIN</td>\n",
       "      <td>J.Kasay</td>\n",
       "      <td>MIN</td>\n",
       "      <td>CAR</td>\n",
       "      <td>CAR</td>\n",
       "      <td>MIN</td>\n",
       "      <td>6.0</td>\n",
       "      <td>1</td>\n",
       "      <td>0</td>\n",
       "      <td>0</td>\n",
       "    </tr>\n",
       "    <tr>\n",
       "      <th>4</th>\n",
       "      <td>2001</td>\n",
       "      <td>1</td>\n",
       "      <td>2001_01_CHI_BAL</td>\n",
       "      <td>M.Stover</td>\n",
       "      <td>BAL</td>\n",
       "      <td>CHI</td>\n",
       "      <td>BAL</td>\n",
       "      <td>CHI</td>\n",
       "      <td>5.0</td>\n",
       "      <td>1</td>\n",
       "      <td>0</td>\n",
       "      <td>0</td>\n",
       "    </tr>\n",
       "  </tbody>\n",
       "</table>\n",
       "</div>"
      ],
      "text/plain": [
       "   season  week          game_id kicker_player_name home_team away_team  \\\n",
       "0    2001     1   2001_01_ATL_SF           J.Cortez        SF       ATL   \n",
       "1    2001     1   2001_01_ATL_SF            J.Feely        SF       ATL   \n",
       "2    2001     1  2001_01_CAR_MIN         G.Anderson       MIN       CAR   \n",
       "3    2001     1  2001_01_CAR_MIN            J.Kasay       MIN       CAR   \n",
       "4    2001     1  2001_01_CHI_BAL           M.Stover       BAL       CHI   \n",
       "\n",
       "  posteam defteam  FD_Pts  FG_39  FG_49  FG_50_plus  \n",
       "0      SF     ATL    10.0      3      0           0  \n",
       "1     ATL      SF     7.0      2      0           0  \n",
       "2     MIN     CAR     1.0      0      0           0  \n",
       "3     CAR     MIN     6.0      1      0           0  \n",
       "4     BAL     CHI     5.0      1      0           0  "
      ]
     },
     "execution_count": 4,
     "metadata": {},
     "output_type": "execute_result"
    }
   ],
   "source": [
    "kicker_target.head()"
   ]
  },
  {
   "cell_type": "code",
   "execution_count": 5,
   "id": "b031c6b5",
   "metadata": {},
   "outputs": [
    {
     "data": {
      "text/plain": [
       "12162"
      ]
     },
     "execution_count": 5,
     "metadata": {},
     "output_type": "execute_result"
    }
   ],
   "source": [
    "len(kicker_target)"
   ]
  },
  {
   "cell_type": "code",
   "execution_count": 6,
   "id": "9ca1dd25",
   "metadata": {},
   "outputs": [
    {
     "name": "stdout",
     "output_type": "stream",
     "text": [
      "<class 'pandas.core.frame.DataFrame'>\n",
      "RangeIndex: 12162 entries, 0 to 12161\n",
      "Data columns (total 12 columns):\n",
      " #   Column              Non-Null Count  Dtype  \n",
      "---  ------              --------------  -----  \n",
      " 0   season              12162 non-null  int64  \n",
      " 1   week                12162 non-null  int64  \n",
      " 2   game_id             12162 non-null  object \n",
      " 3   kicker_player_name  12162 non-null  object \n",
      " 4   home_team           12162 non-null  object \n",
      " 5   away_team           12162 non-null  object \n",
      " 6   posteam             12162 non-null  object \n",
      " 7   defteam             12162 non-null  object \n",
      " 8   FD_Pts              12162 non-null  float64\n",
      " 9   FG_39               12162 non-null  int64  \n",
      " 10  FG_49               12162 non-null  int64  \n",
      " 11  FG_50_plus          12162 non-null  int64  \n",
      "dtypes: float64(1), int64(5), object(6)\n",
      "memory usage: 1.1+ MB\n"
     ]
    }
   ],
   "source": [
    "kicker_target.info()"
   ]
  },
  {
   "cell_type": "code",
   "execution_count": 7,
   "id": "bfc8b5b1",
   "metadata": {},
   "outputs": [
    {
     "name": "stdout",
     "output_type": "stream",
     "text": [
      "<class 'pandas.core.frame.DataFrame'>\n",
      "RangeIndex: 1135207 entries, 0 to 1135206\n",
      "Data columns (total 67 columns):\n",
      " #   Column                         Non-Null Count    Dtype  \n",
      "---  ------                         --------------    -----  \n",
      " 0   id                             1135207 non-null  int64  \n",
      " 1   Unnamed: 0                     1135207 non-null  int64  \n",
      " 2   play_id                        1135207 non-null  float64\n",
      " 3   game_id                        1135207 non-null  object \n",
      " 4   old_game_id                    1135207 non-null  int64  \n",
      " 5   home_team                      1135207 non-null  object \n",
      " 6   away_team                      1135207 non-null  object \n",
      " 7   season_type                    1135207 non-null  object \n",
      " 8   week                           1135207 non-null  int64  \n",
      " 9   posteam                        1071824 non-null  object \n",
      " 10  posteam_type                   1071888 non-null  object \n",
      " 11  defteam                        1071888 non-null  object \n",
      " 12  sp                             1135207 non-null  float64\n",
      " 13  play_type                      1098706 non-null  object \n",
      " 14  field_goal_result              24471 non-null    object \n",
      " 15  extra_point_result             29793 non-null    object \n",
      " 16  two_point_conv_result          2134 non-null     object \n",
      " 17  td_team                        32059 non-null    object \n",
      " 18  punt_blocked                   1099760 non-null  float64\n",
      " 19  interception                   1099760 non-null  float64\n",
      " 20  fumble_forced                  1099760 non-null  float64\n",
      " 21  fumble_not_forced              1099760 non-null  float64\n",
      " 22  safety                         1099760 non-null  float64\n",
      " 23  fumble_lost                    1099760 non-null  float64\n",
      " 24  own_kickoff_recovery           1099760 non-null  float64\n",
      " 25  own_kickoff_recovery_td        1099760 non-null  float64\n",
      " 26  sack                           1099760 non-null  float64\n",
      " 27  touchdown                      1099760 non-null  float64\n",
      " 28  pass_touchdown                 1099760 non-null  float64\n",
      " 29  rush_touchdown                 1099760 non-null  float64\n",
      " 30  return_touchdown               1099760 non-null  float64\n",
      " 31  extra_point_attempt            1099760 non-null  float64\n",
      " 32  two_point_attempt              1099760 non-null  float64\n",
      " 33  field_goal_attempt             1099760 non-null  float64\n",
      " 34  kickoff_attempt                1099787 non-null  float64\n",
      " 35  punt_attempt                   1099760 non-null  float64\n",
      " 36  fumble                         1099760 non-null  float64\n",
      " 37  forced_fumble_player_1_team    11821 non-null    object \n",
      " 38  forced_fumble_player_2_team    73 non-null       object \n",
      " 39  fumbled_1_team                 17526 non-null    object \n",
      " 40  fumbled_2_team                 127 non-null      object \n",
      " 41  fumble_recovery_1_team         16136 non-null    object \n",
      " 42  fumble_recovery_2_team         134 non-null      object \n",
      " 43  return_team                    133999 non-null   object \n",
      " 44  defensive_two_point_attempt    1099760 non-null  float64\n",
      " 45  defensive_two_point_conv       1099760 non-null  float64\n",
      " 46  defensive_extra_point_attempt  1099760 non-null  float64\n",
      " 47  defensive_extra_point_conv     1099760 non-null  float64\n",
      " 48  season                         1135207 non-null  int64  \n",
      " 49  drive_ended_with_score         1126320 non-null  float64\n",
      " 50  away_score                     1135207 non-null  int64  \n",
      " 51  home_score                     1135207 non-null  int64  \n",
      " 52  location                       1135207 non-null  object \n",
      " 53  result                         1135207 non-null  int64  \n",
      " 54  total                          1135207 non-null  int64  \n",
      " 55  spread_line                    1135207 non-null  float64\n",
      " 56  total_line                     1135207 non-null  float64\n",
      " 57  div_game                       1135207 non-null  int64  \n",
      " 58  roof                           1135207 non-null  object \n",
      " 59  surface                        1127984 non-null  object \n",
      " 60  pass                           1135207 non-null  float64\n",
      " 61  rush                           1135207 non-null  float64\n",
      " 62  posteam_score                  1071420 non-null  float64\n",
      " 63  posteam_score_post             1071888 non-null  float64\n",
      " 64  defteam_score                  1071420 non-null  float64\n",
      " 65  defteam_score_post             1071888 non-null  float64\n",
      " 66  desc                           1135207 non-null  object \n",
      "dtypes: float64(34), int64(10), object(23)\n",
      "memory usage: 580.3+ MB\n"
     ]
    }
   ],
   "source": [
    "kicker_df.info()"
   ]
  },
  {
   "cell_type": "code",
   "execution_count": 8,
   "id": "0d4ab835",
   "metadata": {},
   "outputs": [],
   "source": [
    "group_list = ['season', 'week', 'game_id', 'home_team', 'away_team']"
   ]
  },
  {
   "cell_type": "code",
   "execution_count": 9,
   "id": "69bb776b",
   "metadata": {},
   "outputs": [],
   "source": [
    "spread_df = kicker_df.groupby(group_list).agg({'spread_line': 'mean', 'total_line' : 'mean', 'roof': 'first', 'surface': 'first'}).reset_index()"
   ]
  },
  {
   "cell_type": "code",
   "execution_count": 10,
   "id": "62373673",
   "metadata": {},
   "outputs": [],
   "source": [
    "spread_df = pd.DataFrame(spread_df)"
   ]
  },
  {
   "cell_type": "code",
   "execution_count": 11,
   "id": "40dcdea6",
   "metadata": {},
   "outputs": [
    {
     "data": {
      "text/html": [
       "<div>\n",
       "<style scoped>\n",
       "    .dataframe tbody tr th:only-of-type {\n",
       "        vertical-align: middle;\n",
       "    }\n",
       "\n",
       "    .dataframe tbody tr th {\n",
       "        vertical-align: top;\n",
       "    }\n",
       "\n",
       "    .dataframe thead th {\n",
       "        text-align: right;\n",
       "    }\n",
       "</style>\n",
       "<table border=\"1\" class=\"dataframe\">\n",
       "  <thead>\n",
       "    <tr style=\"text-align: right;\">\n",
       "      <th></th>\n",
       "      <th>season</th>\n",
       "      <th>week</th>\n",
       "      <th>game_id</th>\n",
       "      <th>home_team</th>\n",
       "      <th>away_team</th>\n",
       "      <th>spread_line</th>\n",
       "      <th>total_line</th>\n",
       "      <th>roof</th>\n",
       "      <th>surface</th>\n",
       "    </tr>\n",
       "  </thead>\n",
       "  <tbody>\n",
       "    <tr>\n",
       "      <th>0</th>\n",
       "      <td>2000</td>\n",
       "      <td>1</td>\n",
       "      <td>2000_01_ARI_NYG</td>\n",
       "      <td>NYG</td>\n",
       "      <td>ARI</td>\n",
       "      <td>6.5</td>\n",
       "      <td>40.0</td>\n",
       "      <td>outdoors</td>\n",
       "      <td>grass</td>\n",
       "    </tr>\n",
       "    <tr>\n",
       "      <th>1</th>\n",
       "      <td>2000</td>\n",
       "      <td>1</td>\n",
       "      <td>2000_01_BAL_PIT</td>\n",
       "      <td>PIT</td>\n",
       "      <td>BAL</td>\n",
       "      <td>-2.5</td>\n",
       "      <td>37.0</td>\n",
       "      <td>outdoors</td>\n",
       "      <td>astroturf</td>\n",
       "    </tr>\n",
       "    <tr>\n",
       "      <th>2</th>\n",
       "      <td>2000</td>\n",
       "      <td>1</td>\n",
       "      <td>2000_01_CAR_WAS</td>\n",
       "      <td>WAS</td>\n",
       "      <td>CAR</td>\n",
       "      <td>10.5</td>\n",
       "      <td>47.5</td>\n",
       "      <td>outdoors</td>\n",
       "      <td>grass</td>\n",
       "    </tr>\n",
       "    <tr>\n",
       "      <th>3</th>\n",
       "      <td>2000</td>\n",
       "      <td>1</td>\n",
       "      <td>2000_01_CHI_MIN</td>\n",
       "      <td>MIN</td>\n",
       "      <td>CHI</td>\n",
       "      <td>4.5</td>\n",
       "      <td>46.5</td>\n",
       "      <td>dome</td>\n",
       "      <td>astroturf</td>\n",
       "    </tr>\n",
       "    <tr>\n",
       "      <th>4</th>\n",
       "      <td>2000</td>\n",
       "      <td>1</td>\n",
       "      <td>2000_01_DEN_STL</td>\n",
       "      <td>LA</td>\n",
       "      <td>DEN</td>\n",
       "      <td>6.5</td>\n",
       "      <td>48.5</td>\n",
       "      <td>dome</td>\n",
       "      <td>astroturf</td>\n",
       "    </tr>\n",
       "  </tbody>\n",
       "</table>\n",
       "</div>"
      ],
      "text/plain": [
       "   season  week          game_id home_team away_team  spread_line  total_line  \\\n",
       "0    2000     1  2000_01_ARI_NYG       NYG       ARI          6.5        40.0   \n",
       "1    2000     1  2000_01_BAL_PIT       PIT       BAL         -2.5        37.0   \n",
       "2    2000     1  2000_01_CAR_WAS       WAS       CAR         10.5        47.5   \n",
       "3    2000     1  2000_01_CHI_MIN       MIN       CHI          4.5        46.5   \n",
       "4    2000     1  2000_01_DEN_STL        LA       DEN          6.5        48.5   \n",
       "\n",
       "       roof    surface  \n",
       "0  outdoors      grass  \n",
       "1  outdoors  astroturf  \n",
       "2  outdoors      grass  \n",
       "3      dome  astroturf  \n",
       "4      dome  astroturf  "
      ]
     },
     "execution_count": 11,
     "metadata": {},
     "output_type": "execute_result"
    }
   ],
   "source": [
    "spread_df.head()"
   ]
  },
  {
   "cell_type": "code",
   "execution_count": 12,
   "id": "05387f48",
   "metadata": {},
   "outputs": [],
   "source": [
    "spread_df['roof'] = np.where((spread_df['roof'] == 'outdoors') | (spread_df['roof'] == 'open'), 1, 0)\n",
    "spread_df['surface'] = np.where((spread_df['surface'] == 'grass') | (spread_df['surface'] == 'grass '), 1, 0)\n",
    "spread_df['home'] = 0"
   ]
  },
  {
   "cell_type": "code",
   "execution_count": 13,
   "id": "6784ec1d",
   "metadata": {},
   "outputs": [],
   "source": [
    "spread_df_H = spread_df.copy()\n",
    "spread_df_A = spread_df.copy()"
   ]
  },
  {
   "cell_type": "code",
   "execution_count": 14,
   "id": "7d77e275",
   "metadata": {},
   "outputs": [],
   "source": [
    "# Assign new column 'def_team' and keep only necessary columns for each new row\n",
    "spread_df_H['defteam'] = spread_df_H['home_team']\n",
    "spread_df_H['opponent'] = spread_df_H['away_team']\n",
    "spread_df_H = spread_df_H[['season', 'week', 'game_id', 'defteam', 'opponent', 'spread_line', 'total_line', 'roof', 'surface', 'home_team']]\n",
    "spread_df_H.columns = ['season', 'week', 'game_id', 'defteam', 'opponent', 'spread_line', 'total_line', 'roof', 'surface', 'home_team']\n",
    "spread_df_H['home_team'] = 1\n",
    "\n",
    "spread_df_A['defteam'] = spread_df_A['away_team']\n",
    "spread_df_A['opponent'] = spread_df_A['home_team']\n",
    "spread_df_A = spread_df_A[['season', 'week', 'game_id', 'defteam', 'opponent', 'spread_line', 'total_line', 'roof', 'surface', 'home_team']]\n",
    "spread_df_A.columns = ['season', 'week', 'game_id', 'defteam', 'opponent', 'spread_line', 'total_line', 'roof', 'surface', 'home_team']\n",
    "spread_df_A['home_team'] = 0"
   ]
  },
  {
   "cell_type": "code",
   "execution_count": 15,
   "id": "90de8f67",
   "metadata": {},
   "outputs": [],
   "source": [
    "#Point spread needs to be negated for away team since it's from perspective of home team\n",
    "spread_df_A['spread_line'] = np.where(spread_df_A['spread_line'] == 0, 0, -spread_df_A['spread_line'])"
   ]
  },
  {
   "cell_type": "code",
   "execution_count": 16,
   "id": "480a7050",
   "metadata": {},
   "outputs": [],
   "source": [
    "spread_df = pd.concat([spread_df_A, spread_df_H])"
   ]
  },
  {
   "cell_type": "code",
   "execution_count": 17,
   "id": "8bad111e",
   "metadata": {},
   "outputs": [],
   "source": [
    "spread_df = spread_df.sort_values(['season', 'week', 'game_id', 'defteam']).reset_index(drop = True)"
   ]
  },
  {
   "cell_type": "code",
   "execution_count": 18,
   "id": "3becae80",
   "metadata": {},
   "outputs": [],
   "source": [
    "spread_df.rename(columns = {'roof': 'outdoors', 'surface' : 'grass'}, inplace = True)"
   ]
  },
  {
   "cell_type": "markdown",
   "id": "cbd2f88d",
   "metadata": {},
   "source": [
    "# Predicted total\n",
    "We derive the predicted point total for the kicker's team. For defense, this variable was the predicted point total of the opponent. For kickers and the rest of our models, this variable is the predicted points in the game for the player's team."
   ]
  },
  {
   "cell_type": "code",
   "execution_count": 19,
   "id": "7e0815f9",
   "metadata": {},
   "outputs": [],
   "source": [
    "spread_df['pred_total'] = np.round((spread_df['total_line']/2) + (spread_df['spread_line']/2), 2)"
   ]
  },
  {
   "cell_type": "code",
   "execution_count": 20,
   "id": "fd195cbb",
   "metadata": {},
   "outputs": [],
   "source": [
    "spread_df['opp_total'] = np.round((spread_df['total_line']/2) - (spread_df['spread_line']/2), 2)"
   ]
  },
  {
   "cell_type": "code",
   "execution_count": 21,
   "id": "8ae0281f",
   "metadata": {},
   "outputs": [],
   "source": [
    "spread_df.rename(columns = {'defteam' : 'team'}, inplace = True)"
   ]
  },
  {
   "cell_type": "code",
   "execution_count": 22,
   "id": "a00f55df",
   "metadata": {},
   "outputs": [
    {
     "data": {
      "text/html": [
       "<div>\n",
       "<style scoped>\n",
       "    .dataframe tbody tr th:only-of-type {\n",
       "        vertical-align: middle;\n",
       "    }\n",
       "\n",
       "    .dataframe tbody tr th {\n",
       "        vertical-align: top;\n",
       "    }\n",
       "\n",
       "    .dataframe thead th {\n",
       "        text-align: right;\n",
       "    }\n",
       "</style>\n",
       "<table border=\"1\" class=\"dataframe\">\n",
       "  <thead>\n",
       "    <tr style=\"text-align: right;\">\n",
       "      <th></th>\n",
       "      <th>season</th>\n",
       "      <th>week</th>\n",
       "      <th>game_id</th>\n",
       "      <th>team</th>\n",
       "      <th>opponent</th>\n",
       "      <th>spread_line</th>\n",
       "      <th>total_line</th>\n",
       "      <th>outdoors</th>\n",
       "      <th>grass</th>\n",
       "      <th>home_team</th>\n",
       "      <th>pred_total</th>\n",
       "      <th>opp_total</th>\n",
       "    </tr>\n",
       "  </thead>\n",
       "  <tbody>\n",
       "    <tr>\n",
       "      <th>0</th>\n",
       "      <td>2000</td>\n",
       "      <td>1</td>\n",
       "      <td>2000_01_ARI_NYG</td>\n",
       "      <td>ARI</td>\n",
       "      <td>NYG</td>\n",
       "      <td>-6.5</td>\n",
       "      <td>40.0</td>\n",
       "      <td>1</td>\n",
       "      <td>1</td>\n",
       "      <td>0</td>\n",
       "      <td>16.75</td>\n",
       "      <td>23.25</td>\n",
       "    </tr>\n",
       "    <tr>\n",
       "      <th>1</th>\n",
       "      <td>2000</td>\n",
       "      <td>1</td>\n",
       "      <td>2000_01_ARI_NYG</td>\n",
       "      <td>NYG</td>\n",
       "      <td>ARI</td>\n",
       "      <td>6.5</td>\n",
       "      <td>40.0</td>\n",
       "      <td>1</td>\n",
       "      <td>1</td>\n",
       "      <td>1</td>\n",
       "      <td>23.25</td>\n",
       "      <td>16.75</td>\n",
       "    </tr>\n",
       "    <tr>\n",
       "      <th>2</th>\n",
       "      <td>2000</td>\n",
       "      <td>1</td>\n",
       "      <td>2000_01_BAL_PIT</td>\n",
       "      <td>BAL</td>\n",
       "      <td>PIT</td>\n",
       "      <td>2.5</td>\n",
       "      <td>37.0</td>\n",
       "      <td>1</td>\n",
       "      <td>0</td>\n",
       "      <td>0</td>\n",
       "      <td>19.75</td>\n",
       "      <td>17.25</td>\n",
       "    </tr>\n",
       "    <tr>\n",
       "      <th>3</th>\n",
       "      <td>2000</td>\n",
       "      <td>1</td>\n",
       "      <td>2000_01_BAL_PIT</td>\n",
       "      <td>PIT</td>\n",
       "      <td>BAL</td>\n",
       "      <td>-2.5</td>\n",
       "      <td>37.0</td>\n",
       "      <td>1</td>\n",
       "      <td>0</td>\n",
       "      <td>1</td>\n",
       "      <td>17.25</td>\n",
       "      <td>19.75</td>\n",
       "    </tr>\n",
       "    <tr>\n",
       "      <th>4</th>\n",
       "      <td>2000</td>\n",
       "      <td>1</td>\n",
       "      <td>2000_01_CAR_WAS</td>\n",
       "      <td>CAR</td>\n",
       "      <td>WAS</td>\n",
       "      <td>-10.5</td>\n",
       "      <td>47.5</td>\n",
       "      <td>1</td>\n",
       "      <td>1</td>\n",
       "      <td>0</td>\n",
       "      <td>18.50</td>\n",
       "      <td>29.00</td>\n",
       "    </tr>\n",
       "    <tr>\n",
       "      <th>5</th>\n",
       "      <td>2000</td>\n",
       "      <td>1</td>\n",
       "      <td>2000_01_CAR_WAS</td>\n",
       "      <td>WAS</td>\n",
       "      <td>CAR</td>\n",
       "      <td>10.5</td>\n",
       "      <td>47.5</td>\n",
       "      <td>1</td>\n",
       "      <td>1</td>\n",
       "      <td>1</td>\n",
       "      <td>29.00</td>\n",
       "      <td>18.50</td>\n",
       "    </tr>\n",
       "    <tr>\n",
       "      <th>6</th>\n",
       "      <td>2000</td>\n",
       "      <td>1</td>\n",
       "      <td>2000_01_CHI_MIN</td>\n",
       "      <td>CHI</td>\n",
       "      <td>MIN</td>\n",
       "      <td>-4.5</td>\n",
       "      <td>46.5</td>\n",
       "      <td>0</td>\n",
       "      <td>0</td>\n",
       "      <td>0</td>\n",
       "      <td>21.00</td>\n",
       "      <td>25.50</td>\n",
       "    </tr>\n",
       "    <tr>\n",
       "      <th>7</th>\n",
       "      <td>2000</td>\n",
       "      <td>1</td>\n",
       "      <td>2000_01_CHI_MIN</td>\n",
       "      <td>MIN</td>\n",
       "      <td>CHI</td>\n",
       "      <td>4.5</td>\n",
       "      <td>46.5</td>\n",
       "      <td>0</td>\n",
       "      <td>0</td>\n",
       "      <td>1</td>\n",
       "      <td>25.50</td>\n",
       "      <td>21.00</td>\n",
       "    </tr>\n",
       "    <tr>\n",
       "      <th>8</th>\n",
       "      <td>2000</td>\n",
       "      <td>1</td>\n",
       "      <td>2000_01_DEN_STL</td>\n",
       "      <td>DEN</td>\n",
       "      <td>LA</td>\n",
       "      <td>-6.5</td>\n",
       "      <td>48.5</td>\n",
       "      <td>0</td>\n",
       "      <td>0</td>\n",
       "      <td>0</td>\n",
       "      <td>21.00</td>\n",
       "      <td>27.50</td>\n",
       "    </tr>\n",
       "    <tr>\n",
       "      <th>9</th>\n",
       "      <td>2000</td>\n",
       "      <td>1</td>\n",
       "      <td>2000_01_DEN_STL</td>\n",
       "      <td>LA</td>\n",
       "      <td>DEN</td>\n",
       "      <td>6.5</td>\n",
       "      <td>48.5</td>\n",
       "      <td>0</td>\n",
       "      <td>0</td>\n",
       "      <td>1</td>\n",
       "      <td>27.50</td>\n",
       "      <td>21.00</td>\n",
       "    </tr>\n",
       "  </tbody>\n",
       "</table>\n",
       "</div>"
      ],
      "text/plain": [
       "   season  week          game_id team opponent  spread_line  total_line  \\\n",
       "0    2000     1  2000_01_ARI_NYG  ARI      NYG         -6.5        40.0   \n",
       "1    2000     1  2000_01_ARI_NYG  NYG      ARI          6.5        40.0   \n",
       "2    2000     1  2000_01_BAL_PIT  BAL      PIT          2.5        37.0   \n",
       "3    2000     1  2000_01_BAL_PIT  PIT      BAL         -2.5        37.0   \n",
       "4    2000     1  2000_01_CAR_WAS  CAR      WAS        -10.5        47.5   \n",
       "5    2000     1  2000_01_CAR_WAS  WAS      CAR         10.5        47.5   \n",
       "6    2000     1  2000_01_CHI_MIN  CHI      MIN         -4.5        46.5   \n",
       "7    2000     1  2000_01_CHI_MIN  MIN      CHI          4.5        46.5   \n",
       "8    2000     1  2000_01_DEN_STL  DEN       LA         -6.5        48.5   \n",
       "9    2000     1  2000_01_DEN_STL   LA      DEN          6.5        48.5   \n",
       "\n",
       "   outdoors  grass  home_team  pred_total  opp_total  \n",
       "0         1      1          0       16.75      23.25  \n",
       "1         1      1          1       23.25      16.75  \n",
       "2         1      0          0       19.75      17.25  \n",
       "3         1      0          1       17.25      19.75  \n",
       "4         1      1          0       18.50      29.00  \n",
       "5         1      1          1       29.00      18.50  \n",
       "6         0      0          0       21.00      25.50  \n",
       "7         0      0          1       25.50      21.00  \n",
       "8         0      0          0       21.00      27.50  \n",
       "9         0      0          1       27.50      21.00  "
      ]
     },
     "execution_count": 22,
     "metadata": {},
     "output_type": "execute_result"
    }
   ],
   "source": [
    "spread_df.head(10)"
   ]
  },
  {
   "cell_type": "markdown",
   "id": "656b889b",
   "metadata": {},
   "source": [
    "# Creating a point spreads table\n",
    "We've created spread_df manually for the defense and kicker models. Since this data will be used for the four other models we still need to create, we'll put this in our database so we can just fetch it in the future."
   ]
  },
  {
   "cell_type": "code",
   "execution_count": 23,
   "id": "ff4131c6",
   "metadata": {},
   "outputs": [
    {
     "name": "stdout",
     "output_type": "stream",
     "text": [
      "Data written to table spreads_totals in SQLite database nfl_fantasy.db\n"
     ]
    }
   ],
   "source": [
    "# conn = sqlite3.connect('nfl_dfs.db')\n",
    "\n",
    "# # Define the table name\n",
    "# table_name = 'spreads_totals'\n",
    "\n",
    "# # Specify data types\n",
    "# dtype = {\n",
    "#     'season': 'INTEGER',\n",
    "#     'week': 'INTEGER',\n",
    "#     'game_id': 'TEXT',\n",
    "#     'team': 'TEXT',\n",
    "#     'opponent': 'TEXT',\n",
    "#     'spread_line': 'REAL',\n",
    "#     'total_line': 'REAL',\n",
    "#     'outdoors': 'INTEGER',\n",
    "#     'grass': 'INTEGER',\n",
    "#     'home_team': 'INTEGER',\n",
    "#     'pred_total': 'REAL',\n",
    "#     'opp_total': 'REAL'\n",
    "# }\n",
    "\n",
    "# # Write the dataframe to the SQLite table\n",
    "# spread_df.to_sql(table_name, conn, if_exists='replace', index=False, dtype=dtype)\n",
    "\n",
    "# # Confirm that the data has been written\n",
    "# print(f\"Data written to table {table_name} in SQLite database nfl_fantasy.db\")\n",
    "\n",
    "# # Close the connection\n",
    "# conn.close()"
   ]
  },
  {
   "cell_type": "code",
   "execution_count": 24,
   "id": "7e9ec341",
   "metadata": {},
   "outputs": [],
   "source": [
    "# Connect to the SQLite database\n",
    "conn = sqlite3.connect('nfl_dfs.db')\n",
    "\n",
    "# Query specific columns from the table\n",
    "query1 = \"SELECT * FROM spreads_totals\"\n",
    "spread_df = pd.read_sql_query(query1, conn)\n",
    "\n",
    "# Close the connection\n",
    "conn.close()"
   ]
  },
  {
   "cell_type": "code",
   "execution_count": 25,
   "id": "9b527e54",
   "metadata": {},
   "outputs": [
    {
     "data": {
      "text/html": [
       "<div>\n",
       "<style scoped>\n",
       "    .dataframe tbody tr th:only-of-type {\n",
       "        vertical-align: middle;\n",
       "    }\n",
       "\n",
       "    .dataframe tbody tr th {\n",
       "        vertical-align: top;\n",
       "    }\n",
       "\n",
       "    .dataframe thead th {\n",
       "        text-align: right;\n",
       "    }\n",
       "</style>\n",
       "<table border=\"1\" class=\"dataframe\">\n",
       "  <thead>\n",
       "    <tr style=\"text-align: right;\">\n",
       "      <th></th>\n",
       "      <th>season</th>\n",
       "      <th>week</th>\n",
       "      <th>game_id</th>\n",
       "      <th>kicker_player_name</th>\n",
       "      <th>home_team</th>\n",
       "      <th>away_team</th>\n",
       "      <th>posteam</th>\n",
       "      <th>defteam</th>\n",
       "      <th>FD_Pts</th>\n",
       "      <th>FG_39</th>\n",
       "      <th>FG_49</th>\n",
       "      <th>FG_50_plus</th>\n",
       "    </tr>\n",
       "  </thead>\n",
       "  <tbody>\n",
       "    <tr>\n",
       "      <th>0</th>\n",
       "      <td>2001</td>\n",
       "      <td>1</td>\n",
       "      <td>2001_01_ATL_SF</td>\n",
       "      <td>J.Cortez</td>\n",
       "      <td>SF</td>\n",
       "      <td>ATL</td>\n",
       "      <td>SF</td>\n",
       "      <td>ATL</td>\n",
       "      <td>10.0</td>\n",
       "      <td>3</td>\n",
       "      <td>0</td>\n",
       "      <td>0</td>\n",
       "    </tr>\n",
       "    <tr>\n",
       "      <th>1</th>\n",
       "      <td>2001</td>\n",
       "      <td>1</td>\n",
       "      <td>2001_01_ATL_SF</td>\n",
       "      <td>J.Feely</td>\n",
       "      <td>SF</td>\n",
       "      <td>ATL</td>\n",
       "      <td>ATL</td>\n",
       "      <td>SF</td>\n",
       "      <td>7.0</td>\n",
       "      <td>2</td>\n",
       "      <td>0</td>\n",
       "      <td>0</td>\n",
       "    </tr>\n",
       "    <tr>\n",
       "      <th>2</th>\n",
       "      <td>2001</td>\n",
       "      <td>1</td>\n",
       "      <td>2001_01_CAR_MIN</td>\n",
       "      <td>G.Anderson</td>\n",
       "      <td>MIN</td>\n",
       "      <td>CAR</td>\n",
       "      <td>MIN</td>\n",
       "      <td>CAR</td>\n",
       "      <td>1.0</td>\n",
       "      <td>0</td>\n",
       "      <td>0</td>\n",
       "      <td>0</td>\n",
       "    </tr>\n",
       "    <tr>\n",
       "      <th>3</th>\n",
       "      <td>2001</td>\n",
       "      <td>1</td>\n",
       "      <td>2001_01_CAR_MIN</td>\n",
       "      <td>J.Kasay</td>\n",
       "      <td>MIN</td>\n",
       "      <td>CAR</td>\n",
       "      <td>CAR</td>\n",
       "      <td>MIN</td>\n",
       "      <td>6.0</td>\n",
       "      <td>1</td>\n",
       "      <td>0</td>\n",
       "      <td>0</td>\n",
       "    </tr>\n",
       "    <tr>\n",
       "      <th>4</th>\n",
       "      <td>2001</td>\n",
       "      <td>1</td>\n",
       "      <td>2001_01_CHI_BAL</td>\n",
       "      <td>M.Stover</td>\n",
       "      <td>BAL</td>\n",
       "      <td>CHI</td>\n",
       "      <td>BAL</td>\n",
       "      <td>CHI</td>\n",
       "      <td>5.0</td>\n",
       "      <td>1</td>\n",
       "      <td>0</td>\n",
       "      <td>0</td>\n",
       "    </tr>\n",
       "  </tbody>\n",
       "</table>\n",
       "</div>"
      ],
      "text/plain": [
       "   season  week          game_id kicker_player_name home_team away_team  \\\n",
       "0    2001     1   2001_01_ATL_SF           J.Cortez        SF       ATL   \n",
       "1    2001     1   2001_01_ATL_SF            J.Feely        SF       ATL   \n",
       "2    2001     1  2001_01_CAR_MIN         G.Anderson       MIN       CAR   \n",
       "3    2001     1  2001_01_CAR_MIN            J.Kasay       MIN       CAR   \n",
       "4    2001     1  2001_01_CHI_BAL           M.Stover       BAL       CHI   \n",
       "\n",
       "  posteam defteam  FD_Pts  FG_39  FG_49  FG_50_plus  \n",
       "0      SF     ATL    10.0      3      0           0  \n",
       "1     ATL      SF     7.0      2      0           0  \n",
       "2     MIN     CAR     1.0      0      0           0  \n",
       "3     CAR     MIN     6.0      1      0           0  \n",
       "4     BAL     CHI     5.0      1      0           0  "
      ]
     },
     "execution_count": 25,
     "metadata": {},
     "output_type": "execute_result"
    }
   ],
   "source": [
    "kicker_target.head()"
   ]
  },
  {
   "cell_type": "markdown",
   "id": "19b240e5",
   "metadata": {},
   "source": [
    "# Dropping columns from kicker_target\n",
    "We only really need a column to indicate each kicker's team, along with the target variable and the variables we'll use. Home team and away team will be indicated in the point spread data."
   ]
  },
  {
   "cell_type": "code",
   "execution_count": 26,
   "id": "8d5ab4e8",
   "metadata": {},
   "outputs": [],
   "source": [
    "kicker_target.drop(columns = ['home_team', 'away_team', 'defteam'], inplace = True)"
   ]
  },
  {
   "cell_type": "code",
   "execution_count": 27,
   "id": "39591399",
   "metadata": {},
   "outputs": [],
   "source": [
    "kicker_target.rename(columns = {'posteam': 'team'}, inplace = True)"
   ]
  },
  {
   "cell_type": "code",
   "execution_count": 28,
   "id": "0d0f8aaf",
   "metadata": {},
   "outputs": [
    {
     "data": {
      "text/html": [
       "<div>\n",
       "<style scoped>\n",
       "    .dataframe tbody tr th:only-of-type {\n",
       "        vertical-align: middle;\n",
       "    }\n",
       "\n",
       "    .dataframe tbody tr th {\n",
       "        vertical-align: top;\n",
       "    }\n",
       "\n",
       "    .dataframe thead th {\n",
       "        text-align: right;\n",
       "    }\n",
       "</style>\n",
       "<table border=\"1\" class=\"dataframe\">\n",
       "  <thead>\n",
       "    <tr style=\"text-align: right;\">\n",
       "      <th></th>\n",
       "      <th>season</th>\n",
       "      <th>week</th>\n",
       "      <th>game_id</th>\n",
       "      <th>kicker_player_name</th>\n",
       "      <th>team</th>\n",
       "      <th>FD_Pts</th>\n",
       "      <th>FG_39</th>\n",
       "      <th>FG_49</th>\n",
       "      <th>FG_50_plus</th>\n",
       "    </tr>\n",
       "  </thead>\n",
       "  <tbody>\n",
       "    <tr>\n",
       "      <th>0</th>\n",
       "      <td>2001</td>\n",
       "      <td>1</td>\n",
       "      <td>2001_01_ATL_SF</td>\n",
       "      <td>J.Cortez</td>\n",
       "      <td>SF</td>\n",
       "      <td>10.0</td>\n",
       "      <td>3</td>\n",
       "      <td>0</td>\n",
       "      <td>0</td>\n",
       "    </tr>\n",
       "    <tr>\n",
       "      <th>1</th>\n",
       "      <td>2001</td>\n",
       "      <td>1</td>\n",
       "      <td>2001_01_ATL_SF</td>\n",
       "      <td>J.Feely</td>\n",
       "      <td>ATL</td>\n",
       "      <td>7.0</td>\n",
       "      <td>2</td>\n",
       "      <td>0</td>\n",
       "      <td>0</td>\n",
       "    </tr>\n",
       "    <tr>\n",
       "      <th>2</th>\n",
       "      <td>2001</td>\n",
       "      <td>1</td>\n",
       "      <td>2001_01_CAR_MIN</td>\n",
       "      <td>G.Anderson</td>\n",
       "      <td>MIN</td>\n",
       "      <td>1.0</td>\n",
       "      <td>0</td>\n",
       "      <td>0</td>\n",
       "      <td>0</td>\n",
       "    </tr>\n",
       "    <tr>\n",
       "      <th>3</th>\n",
       "      <td>2001</td>\n",
       "      <td>1</td>\n",
       "      <td>2001_01_CAR_MIN</td>\n",
       "      <td>J.Kasay</td>\n",
       "      <td>CAR</td>\n",
       "      <td>6.0</td>\n",
       "      <td>1</td>\n",
       "      <td>0</td>\n",
       "      <td>0</td>\n",
       "    </tr>\n",
       "    <tr>\n",
       "      <th>4</th>\n",
       "      <td>2001</td>\n",
       "      <td>1</td>\n",
       "      <td>2001_01_CHI_BAL</td>\n",
       "      <td>M.Stover</td>\n",
       "      <td>BAL</td>\n",
       "      <td>5.0</td>\n",
       "      <td>1</td>\n",
       "      <td>0</td>\n",
       "      <td>0</td>\n",
       "    </tr>\n",
       "  </tbody>\n",
       "</table>\n",
       "</div>"
      ],
      "text/plain": [
       "   season  week          game_id kicker_player_name team  FD_Pts  FG_39  \\\n",
       "0    2001     1   2001_01_ATL_SF           J.Cortez   SF    10.0      3   \n",
       "1    2001     1   2001_01_ATL_SF            J.Feely  ATL     7.0      2   \n",
       "2    2001     1  2001_01_CAR_MIN         G.Anderson  MIN     1.0      0   \n",
       "3    2001     1  2001_01_CAR_MIN            J.Kasay  CAR     6.0      1   \n",
       "4    2001     1  2001_01_CHI_BAL           M.Stover  BAL     5.0      1   \n",
       "\n",
       "   FG_49  FG_50_plus  \n",
       "0      0           0  \n",
       "1      0           0  \n",
       "2      0           0  \n",
       "3      0           0  \n",
       "4      0           0  "
      ]
     },
     "execution_count": 28,
     "metadata": {},
     "output_type": "execute_result"
    }
   ],
   "source": [
    "kicker_target.head()"
   ]
  },
  {
   "cell_type": "code",
   "execution_count": 29,
   "id": "70f917ca",
   "metadata": {},
   "outputs": [],
   "source": [
    "kick_model = pd.merge(kicker_target, spread_df, on = ['season', 'week', 'game_id', 'team'], how = 'left')"
   ]
  },
  {
   "cell_type": "code",
   "execution_count": 30,
   "id": "c0198ee7",
   "metadata": {},
   "outputs": [],
   "source": [
    "kick_model.drop(columns = 'opp_total', inplace = True)"
   ]
  },
  {
   "cell_type": "markdown",
   "id": "fa0dd5c1",
   "metadata": {},
   "source": [
    "# Creating defense_vs_position columns\n",
    "Just like we did with defense, we're creating columns to indicate how many points kickers have scored against each opponent in the previous eight games, and we're weighing them so that more recent games carry more weight. Instead of opp_vs_def, the name convention now will be def_vs_pos. It will be that way for the rest of the project as we'll be looking at how many points kickers, QBs, RBs, WRs and TEs tend to score against certain teams."
   ]
  },
  {
   "cell_type": "code",
   "execution_count": 31,
   "id": "cb569bad",
   "metadata": {},
   "outputs": [],
   "source": [
    "def_vs_pos = kick_model[['season', 'week', 'game_id', 'kicker_player_name', 'opponent', 'FD_Pts']]"
   ]
  },
  {
   "cell_type": "code",
   "execution_count": 32,
   "id": "60941930",
   "metadata": {},
   "outputs": [],
   "source": [
    "def_vs_pos = def_vs_pos.sort_values(by=['opponent', 'season', 'week', 'game_id'])"
   ]
  },
  {
   "cell_type": "code",
   "execution_count": 33,
   "id": "3a09b693",
   "metadata": {},
   "outputs": [],
   "source": [
    "def_vs_pos['game_num'] = def_vs_pos.groupby(['opponent', 'season']).cumcount() + 1"
   ]
  },
  {
   "cell_type": "code",
   "execution_count": 34,
   "id": "d917df12",
   "metadata": {},
   "outputs": [],
   "source": [
    "# Function to calculate equally weighted rolling mean\n",
    "def calculate_equal_rolling_mean(group):\n",
    "    # Calculate the equally weighted rolling mean of the last 8 games, excluding the current game\n",
    "    group['rolling_mean_8'] = (\n",
    "        group['FD_Pts'].shift().rolling(window=8, min_periods=1).mean()\n",
    "    )\n",
    "    return group\n",
    "\n",
    "# Apply the rolling mean calculation using groupby\n",
    "def_vs_pos = def_vs_pos.groupby('opponent', group_keys=False).apply(calculate_equal_rolling_mean)\n"
   ]
  },
  {
   "cell_type": "code",
   "execution_count": 35,
   "id": "1d9ba943",
   "metadata": {},
   "outputs": [],
   "source": [
    "# Linear and Exponential weights\n",
    "# linear_weights = np.array([0.25, 0.20, 0.15, 0.13, 0.10, 0.08, 0.05, 0.04])\n",
    "# exponential_weights = np.array([0.27, 0.23, 0.19, 0.15, 0.11, 0.09, 0.07, 0.05])\n",
    "\n",
    "# Corrected Linear and Exponential weights\n",
    "linear_weights = np.array([0.01, 0.03, 0.06, 0.10, 0.14, 0.18, 0.24, 0.28])\n",
    "exponential_weights = np.array([0.015, 0.025, 0.04, 0.07, 0.10, 0.15, 0.25, 0.35])\n"
   ]
  },
  {
   "cell_type": "code",
   "execution_count": 36,
   "id": "5c28bdae",
   "metadata": {},
   "outputs": [],
   "source": [
    "# Function to calculate rolling means with different weights\n",
    "def calculate_weighted_means(group):\n",
    "    # Calculate the linear weighted rolling mean\n",
    "    group['linear_rolling_mean_8'] = (\n",
    "        group['FD_Pts'].shift().rolling(window=8, min_periods=1)\n",
    "        .apply(lambda x: np.dot(x, linear_weights[-len(x):]), raw=False)\n",
    "    )\n",
    "    \n",
    "    # Calculate the exponential weighted rolling mean\n",
    "    group['exponential_rolling_mean_8'] = (\n",
    "        group['FD_Pts'].shift().rolling(window=8, min_periods=1)\n",
    "        .apply(lambda x: np.dot(x, exponential_weights[-len(x):]), raw=False)\n",
    "    )\n",
    "    return group"
   ]
  },
  {
   "cell_type": "code",
   "execution_count": 37,
   "id": "023c2c9e",
   "metadata": {},
   "outputs": [],
   "source": [
    "# Apply the calculations using groupby\n",
    "def_vs_pos = def_vs_pos.groupby('opponent', group_keys=False).apply(calculate_weighted_means)"
   ]
  },
  {
   "cell_type": "code",
   "execution_count": 38,
   "id": "d06feb8c",
   "metadata": {},
   "outputs": [],
   "source": [
    "def_vs_pos.rename(columns = {'rolling_mean_8': 'def_vs_pos_L8',\\\n",
    "                             'linear_rolling_mean_8': 'def_vs_pos_L8_lin',\\\n",
    "                            'exponential_rolling_mean_8': 'def_vs_pos_L8_exp'}, inplace = True)"
   ]
  },
  {
   "cell_type": "code",
   "execution_count": 39,
   "id": "5902d157",
   "metadata": {},
   "outputs": [],
   "source": [
    "def_vs_pos.drop(columns = ['FD_Pts', 'game_num'], inplace = True)"
   ]
  },
  {
   "cell_type": "code",
   "execution_count": 40,
   "id": "d1884535",
   "metadata": {},
   "outputs": [
    {
     "data": {
      "text/html": [
       "<div>\n",
       "<style scoped>\n",
       "    .dataframe tbody tr th:only-of-type {\n",
       "        vertical-align: middle;\n",
       "    }\n",
       "\n",
       "    .dataframe tbody tr th {\n",
       "        vertical-align: top;\n",
       "    }\n",
       "\n",
       "    .dataframe thead th {\n",
       "        text-align: right;\n",
       "    }\n",
       "</style>\n",
       "<table border=\"1\" class=\"dataframe\">\n",
       "  <thead>\n",
       "    <tr style=\"text-align: right;\">\n",
       "      <th></th>\n",
       "      <th>season</th>\n",
       "      <th>week</th>\n",
       "      <th>game_id</th>\n",
       "      <th>kicker_player_name</th>\n",
       "      <th>opponent</th>\n",
       "      <th>def_vs_pos_L8</th>\n",
       "      <th>def_vs_pos_L8_lin</th>\n",
       "      <th>def_vs_pos_L8_exp</th>\n",
       "    </tr>\n",
       "  </thead>\n",
       "  <tbody>\n",
       "    <tr>\n",
       "      <th>38</th>\n",
       "      <td>2001</td>\n",
       "      <td>2</td>\n",
       "      <td>2001_02_DEN_ARI</td>\n",
       "      <td>J.Elam</td>\n",
       "      <td>ARI</td>\n",
       "      <td>NaN</td>\n",
       "      <td>NaN</td>\n",
       "      <td>NaN</td>\n",
       "    </tr>\n",
       "    <tr>\n",
       "      <th>59</th>\n",
       "      <td>2001</td>\n",
       "      <td>3</td>\n",
       "      <td>2001_03_ATL_ARI</td>\n",
       "      <td>J.Feely</td>\n",
       "      <td>ARI</td>\n",
       "      <td>13.000000</td>\n",
       "      <td>NaN</td>\n",
       "      <td>NaN</td>\n",
       "    </tr>\n",
       "    <tr>\n",
       "      <th>87</th>\n",
       "      <td>2001</td>\n",
       "      <td>4</td>\n",
       "      <td>2001_04_ARI_PHI</td>\n",
       "      <td>D.Akers</td>\n",
       "      <td>ARI</td>\n",
       "      <td>12.500000</td>\n",
       "      <td>NaN</td>\n",
       "      <td>NaN</td>\n",
       "    </tr>\n",
       "    <tr>\n",
       "      <th>116</th>\n",
       "      <td>2001</td>\n",
       "      <td>5</td>\n",
       "      <td>2001_05_ARI_CHI</td>\n",
       "      <td>P. Edinger</td>\n",
       "      <td>ARI</td>\n",
       "      <td>11.333333</td>\n",
       "      <td>NaN</td>\n",
       "      <td>NaN</td>\n",
       "    </tr>\n",
       "    <tr>\n",
       "      <th>158</th>\n",
       "      <td>2001</td>\n",
       "      <td>6</td>\n",
       "      <td>2001_06_KC_ARI</td>\n",
       "      <td>T. Peterson</td>\n",
       "      <td>ARI</td>\n",
       "      <td>11.000000</td>\n",
       "      <td>NaN</td>\n",
       "      <td>NaN</td>\n",
       "    </tr>\n",
       "    <tr>\n",
       "      <th>...</th>\n",
       "      <td>...</td>\n",
       "      <td>...</td>\n",
       "      <td>...</td>\n",
       "      <td>...</td>\n",
       "      <td>...</td>\n",
       "      <td>...</td>\n",
       "      <td>...</td>\n",
       "      <td>...</td>\n",
       "    </tr>\n",
       "    <tr>\n",
       "      <th>11992</th>\n",
       "      <td>2023</td>\n",
       "      <td>13</td>\n",
       "      <td>2023_13_MIA_WAS</td>\n",
       "      <td>J.Sanders</td>\n",
       "      <td>WAS</td>\n",
       "      <td>3.000000</td>\n",
       "      <td>3.41</td>\n",
       "      <td>3.415</td>\n",
       "    </tr>\n",
       "    <tr>\n",
       "      <th>12053</th>\n",
       "      <td>2023</td>\n",
       "      <td>15</td>\n",
       "      <td>2023_15_WAS_LA</td>\n",
       "      <td>L.Havrisik</td>\n",
       "      <td>WAS</td>\n",
       "      <td>3.250000</td>\n",
       "      <td>4.21</td>\n",
       "      <td>4.305</td>\n",
       "    </tr>\n",
       "    <tr>\n",
       "      <th>12081</th>\n",
       "      <td>2023</td>\n",
       "      <td>16</td>\n",
       "      <td>2023_16_WAS_NYJ</td>\n",
       "      <td>G.Zuerlein</td>\n",
       "      <td>WAS</td>\n",
       "      <td>3.375000</td>\n",
       "      <td>3.77</td>\n",
       "      <td>3.575</td>\n",
       "    </tr>\n",
       "    <tr>\n",
       "      <th>12109</th>\n",
       "      <td>2023</td>\n",
       "      <td>17</td>\n",
       "      <td>2023_17_SF_WAS</td>\n",
       "      <td>J.Moody</td>\n",
       "      <td>WAS</td>\n",
       "      <td>3.500000</td>\n",
       "      <td>3.59</td>\n",
       "      <td>3.335</td>\n",
       "    </tr>\n",
       "    <tr>\n",
       "      <th>12119</th>\n",
       "      <td>2023</td>\n",
       "      <td>18</td>\n",
       "      <td>2023_18_DAL_WAS</td>\n",
       "      <td>B.Aubrey</td>\n",
       "      <td>WAS</td>\n",
       "      <td>3.250000</td>\n",
       "      <td>3.48</td>\n",
       "      <td>3.220</td>\n",
       "    </tr>\n",
       "  </tbody>\n",
       "</table>\n",
       "<p>12162 rows × 8 columns</p>\n",
       "</div>"
      ],
      "text/plain": [
       "       season  week          game_id kicker_player_name opponent  \\\n",
       "38       2001     2  2001_02_DEN_ARI             J.Elam      ARI   \n",
       "59       2001     3  2001_03_ATL_ARI            J.Feely      ARI   \n",
       "87       2001     4  2001_04_ARI_PHI            D.Akers      ARI   \n",
       "116      2001     5  2001_05_ARI_CHI         P. Edinger      ARI   \n",
       "158      2001     6   2001_06_KC_ARI        T. Peterson      ARI   \n",
       "...       ...   ...              ...                ...      ...   \n",
       "11992    2023    13  2023_13_MIA_WAS          J.Sanders      WAS   \n",
       "12053    2023    15   2023_15_WAS_LA         L.Havrisik      WAS   \n",
       "12081    2023    16  2023_16_WAS_NYJ         G.Zuerlein      WAS   \n",
       "12109    2023    17   2023_17_SF_WAS            J.Moody      WAS   \n",
       "12119    2023    18  2023_18_DAL_WAS           B.Aubrey      WAS   \n",
       "\n",
       "       def_vs_pos_L8  def_vs_pos_L8_lin  def_vs_pos_L8_exp  \n",
       "38               NaN                NaN                NaN  \n",
       "59         13.000000                NaN                NaN  \n",
       "87         12.500000                NaN                NaN  \n",
       "116        11.333333                NaN                NaN  \n",
       "158        11.000000                NaN                NaN  \n",
       "...              ...                ...                ...  \n",
       "11992       3.000000               3.41              3.415  \n",
       "12053       3.250000               4.21              4.305  \n",
       "12081       3.375000               3.77              3.575  \n",
       "12109       3.500000               3.59              3.335  \n",
       "12119       3.250000               3.48              3.220  \n",
       "\n",
       "[12162 rows x 8 columns]"
      ]
     },
     "execution_count": 40,
     "metadata": {},
     "output_type": "execute_result"
    }
   ],
   "source": [
    "def_vs_pos"
   ]
  },
  {
   "cell_type": "code",
   "execution_count": 41,
   "id": "7d859adf",
   "metadata": {},
   "outputs": [],
   "source": [
    "kick_model.drop(columns = ['FG_39', 'FG_49', 'FG_50_plus'], inplace = True)"
   ]
  },
  {
   "cell_type": "code",
   "execution_count": 42,
   "id": "0b83667a",
   "metadata": {},
   "outputs": [],
   "source": [
    "def_vs_pos.drop(columns = ['opponent'], inplace = True)"
   ]
  },
  {
   "cell_type": "code",
   "execution_count": 43,
   "id": "7284b90b",
   "metadata": {},
   "outputs": [],
   "source": [
    "kick_model = pd.merge(kick_model, def_vs_pos, on = ['season', 'week', 'game_id', 'kicker_player_name'], how = 'left')"
   ]
  },
  {
   "cell_type": "code",
   "execution_count": 44,
   "id": "4fe5120b",
   "metadata": {},
   "outputs": [
    {
     "data": {
      "text/html": [
       "<div>\n",
       "<style scoped>\n",
       "    .dataframe tbody tr th:only-of-type {\n",
       "        vertical-align: middle;\n",
       "    }\n",
       "\n",
       "    .dataframe tbody tr th {\n",
       "        vertical-align: top;\n",
       "    }\n",
       "\n",
       "    .dataframe thead th {\n",
       "        text-align: right;\n",
       "    }\n",
       "</style>\n",
       "<table border=\"1\" class=\"dataframe\">\n",
       "  <thead>\n",
       "    <tr style=\"text-align: right;\">\n",
       "      <th></th>\n",
       "      <th>season</th>\n",
       "      <th>week</th>\n",
       "      <th>game_id</th>\n",
       "      <th>kicker_player_name</th>\n",
       "      <th>team</th>\n",
       "      <th>FD_Pts</th>\n",
       "      <th>opponent</th>\n",
       "      <th>spread_line</th>\n",
       "      <th>total_line</th>\n",
       "      <th>outdoors</th>\n",
       "      <th>grass</th>\n",
       "      <th>home_team</th>\n",
       "      <th>pred_total</th>\n",
       "      <th>def_vs_pos_L8</th>\n",
       "      <th>def_vs_pos_L8_lin</th>\n",
       "      <th>def_vs_pos_L8_exp</th>\n",
       "    </tr>\n",
       "  </thead>\n",
       "  <tbody>\n",
       "    <tr>\n",
       "      <th>0</th>\n",
       "      <td>2001</td>\n",
       "      <td>1</td>\n",
       "      <td>2001_01_ATL_SF</td>\n",
       "      <td>J.Cortez</td>\n",
       "      <td>SF</td>\n",
       "      <td>10.0</td>\n",
       "      <td>ATL</td>\n",
       "      <td>3.5</td>\n",
       "      <td>46.0</td>\n",
       "      <td>1</td>\n",
       "      <td>1</td>\n",
       "      <td>1</td>\n",
       "      <td>24.75</td>\n",
       "      <td>NaN</td>\n",
       "      <td>NaN</td>\n",
       "      <td>NaN</td>\n",
       "    </tr>\n",
       "    <tr>\n",
       "      <th>1</th>\n",
       "      <td>2001</td>\n",
       "      <td>1</td>\n",
       "      <td>2001_01_ATL_SF</td>\n",
       "      <td>J.Feely</td>\n",
       "      <td>ATL</td>\n",
       "      <td>7.0</td>\n",
       "      <td>SF</td>\n",
       "      <td>-3.5</td>\n",
       "      <td>46.0</td>\n",
       "      <td>1</td>\n",
       "      <td>1</td>\n",
       "      <td>0</td>\n",
       "      <td>21.25</td>\n",
       "      <td>NaN</td>\n",
       "      <td>NaN</td>\n",
       "      <td>NaN</td>\n",
       "    </tr>\n",
       "    <tr>\n",
       "      <th>2</th>\n",
       "      <td>2001</td>\n",
       "      <td>1</td>\n",
       "      <td>2001_01_CAR_MIN</td>\n",
       "      <td>G.Anderson</td>\n",
       "      <td>MIN</td>\n",
       "      <td>1.0</td>\n",
       "      <td>CAR</td>\n",
       "      <td>10.0</td>\n",
       "      <td>45.0</td>\n",
       "      <td>0</td>\n",
       "      <td>0</td>\n",
       "      <td>1</td>\n",
       "      <td>27.50</td>\n",
       "      <td>NaN</td>\n",
       "      <td>NaN</td>\n",
       "      <td>NaN</td>\n",
       "    </tr>\n",
       "    <tr>\n",
       "      <th>3</th>\n",
       "      <td>2001</td>\n",
       "      <td>1</td>\n",
       "      <td>2001_01_CAR_MIN</td>\n",
       "      <td>J.Kasay</td>\n",
       "      <td>CAR</td>\n",
       "      <td>6.0</td>\n",
       "      <td>MIN</td>\n",
       "      <td>-10.0</td>\n",
       "      <td>45.0</td>\n",
       "      <td>0</td>\n",
       "      <td>0</td>\n",
       "      <td>0</td>\n",
       "      <td>17.50</td>\n",
       "      <td>NaN</td>\n",
       "      <td>NaN</td>\n",
       "      <td>NaN</td>\n",
       "    </tr>\n",
       "    <tr>\n",
       "      <th>4</th>\n",
       "      <td>2001</td>\n",
       "      <td>1</td>\n",
       "      <td>2001_01_CHI_BAL</td>\n",
       "      <td>M.Stover</td>\n",
       "      <td>BAL</td>\n",
       "      <td>5.0</td>\n",
       "      <td>CHI</td>\n",
       "      <td>10.5</td>\n",
       "      <td>33.5</td>\n",
       "      <td>1</td>\n",
       "      <td>1</td>\n",
       "      <td>1</td>\n",
       "      <td>22.00</td>\n",
       "      <td>NaN</td>\n",
       "      <td>NaN</td>\n",
       "      <td>NaN</td>\n",
       "    </tr>\n",
       "  </tbody>\n",
       "</table>\n",
       "</div>"
      ],
      "text/plain": [
       "   season  week          game_id kicker_player_name team  FD_Pts opponent  \\\n",
       "0    2001     1   2001_01_ATL_SF           J.Cortez   SF    10.0      ATL   \n",
       "1    2001     1   2001_01_ATL_SF            J.Feely  ATL     7.0       SF   \n",
       "2    2001     1  2001_01_CAR_MIN         G.Anderson  MIN     1.0      CAR   \n",
       "3    2001     1  2001_01_CAR_MIN            J.Kasay  CAR     6.0      MIN   \n",
       "4    2001     1  2001_01_CHI_BAL           M.Stover  BAL     5.0      CHI   \n",
       "\n",
       "   spread_line  total_line  outdoors  grass  home_team  pred_total  \\\n",
       "0          3.5        46.0         1      1          1       24.75   \n",
       "1         -3.5        46.0         1      1          0       21.25   \n",
       "2         10.0        45.0         0      0          1       27.50   \n",
       "3        -10.0        45.0         0      0          0       17.50   \n",
       "4         10.5        33.5         1      1          1       22.00   \n",
       "\n",
       "   def_vs_pos_L8  def_vs_pos_L8_lin  def_vs_pos_L8_exp  \n",
       "0            NaN                NaN                NaN  \n",
       "1            NaN                NaN                NaN  \n",
       "2            NaN                NaN                NaN  \n",
       "3            NaN                NaN                NaN  \n",
       "4            NaN                NaN                NaN  "
      ]
     },
     "execution_count": 44,
     "metadata": {},
     "output_type": "execute_result"
    }
   ],
   "source": [
    "kick_model.head()"
   ]
  },
  {
   "cell_type": "code",
   "execution_count": 45,
   "id": "10cd65dc",
   "metadata": {},
   "outputs": [],
   "source": [
    "kick_model.dropna(inplace = True)"
   ]
  },
  {
   "cell_type": "code",
   "execution_count": 46,
   "id": "5eb9c30f",
   "metadata": {},
   "outputs": [],
   "source": [
    "kick_model.drop(columns = ['opponent'], inplace = True)"
   ]
  },
  {
   "cell_type": "code",
   "execution_count": 47,
   "id": "73c5eadb",
   "metadata": {},
   "outputs": [
    {
     "name": "stdout",
     "output_type": "stream",
     "text": [
      "<class 'pandas.core.frame.DataFrame'>\n",
      "Index: 11906 entries, 205 to 12161\n",
      "Data columns (total 15 columns):\n",
      " #   Column              Non-Null Count  Dtype  \n",
      "---  ------              --------------  -----  \n",
      " 0   season              11906 non-null  int64  \n",
      " 1   week                11906 non-null  int64  \n",
      " 2   game_id             11906 non-null  object \n",
      " 3   kicker_player_name  11906 non-null  object \n",
      " 4   team                11906 non-null  object \n",
      " 5   FD_Pts              11906 non-null  float64\n",
      " 6   spread_line         11906 non-null  float64\n",
      " 7   total_line          11906 non-null  float64\n",
      " 8   outdoors            11906 non-null  int64  \n",
      " 9   grass               11906 non-null  int64  \n",
      " 10  home_team           11906 non-null  int64  \n",
      " 11  pred_total          11906 non-null  float64\n",
      " 12  def_vs_pos_L8       11906 non-null  float64\n",
      " 13  def_vs_pos_L8_lin   11906 non-null  float64\n",
      " 14  def_vs_pos_L8_exp   11906 non-null  float64\n",
      "dtypes: float64(7), int64(5), object(3)\n",
      "memory usage: 1.5+ MB\n"
     ]
    }
   ],
   "source": [
    "kick_model.info()"
   ]
  },
  {
   "cell_type": "markdown",
   "id": "eccdd632-0beb-4c2b-a585-a075b4993d0c",
   "metadata": {},
   "source": [
    "# Splitting data into odd and even years\n",
    "We're going to run the model on even years only. That way if we want to refine the model down the road, we'll have untouched data we can use. "
   ]
  },
  {
   "cell_type": "code",
   "execution_count": 48,
   "id": "11dd5989",
   "metadata": {},
   "outputs": [],
   "source": [
    "kick_model_even = kick_model[kick_model['season']%2 == 0]"
   ]
  },
  {
   "cell_type": "code",
   "execution_count": 49,
   "id": "1e7e26d9",
   "metadata": {},
   "outputs": [
    {
     "data": {
      "text/plain": [
       "season\n",
       "2020    539\n",
       "2004    533\n",
       "2010    532\n",
       "2008    531\n",
       "2016    531\n",
       "2012    529\n",
       "2014    527\n",
       "2006    526\n",
       "2018    524\n",
       "2022    524\n",
       "2002    522\n",
       "Name: count, dtype: int64"
      ]
     },
     "execution_count": 49,
     "metadata": {},
     "output_type": "execute_result"
    }
   ],
   "source": [
    "kick_model_even['season'].value_counts()"
   ]
  },
  {
   "cell_type": "code",
   "execution_count": 50,
   "id": "9b338160",
   "metadata": {},
   "outputs": [],
   "source": [
    "kick_model_even.set_index(['season', 'week', 'game_id', 'kicker_player_name', 'team'], inplace = True)"
   ]
  },
  {
   "cell_type": "code",
   "execution_count": 51,
   "id": "35081a16",
   "metadata": {},
   "outputs": [
    {
     "data": {
      "text/html": [
       "<div>\n",
       "<style scoped>\n",
       "    .dataframe tbody tr th:only-of-type {\n",
       "        vertical-align: middle;\n",
       "    }\n",
       "\n",
       "    .dataframe tbody tr th {\n",
       "        vertical-align: top;\n",
       "    }\n",
       "\n",
       "    .dataframe thead th {\n",
       "        text-align: right;\n",
       "    }\n",
       "</style>\n",
       "<table border=\"1\" class=\"dataframe\">\n",
       "  <thead>\n",
       "    <tr style=\"text-align: right;\">\n",
       "      <th></th>\n",
       "      <th></th>\n",
       "      <th></th>\n",
       "      <th></th>\n",
       "      <th></th>\n",
       "      <th>FD_Pts</th>\n",
       "      <th>spread_line</th>\n",
       "      <th>total_line</th>\n",
       "      <th>outdoors</th>\n",
       "      <th>grass</th>\n",
       "      <th>home_team</th>\n",
       "      <th>pred_total</th>\n",
       "      <th>def_vs_pos_L8</th>\n",
       "      <th>def_vs_pos_L8_lin</th>\n",
       "      <th>def_vs_pos_L8_exp</th>\n",
       "    </tr>\n",
       "    <tr>\n",
       "      <th>season</th>\n",
       "      <th>week</th>\n",
       "      <th>game_id</th>\n",
       "      <th>kicker_player_name</th>\n",
       "      <th>team</th>\n",
       "      <th></th>\n",
       "      <th></th>\n",
       "      <th></th>\n",
       "      <th></th>\n",
       "      <th></th>\n",
       "      <th></th>\n",
       "      <th></th>\n",
       "      <th></th>\n",
       "      <th></th>\n",
       "      <th></th>\n",
       "    </tr>\n",
       "  </thead>\n",
       "  <tbody>\n",
       "    <tr>\n",
       "      <th rowspan=\"5\" valign=\"top\">2002</th>\n",
       "      <th rowspan=\"5\" valign=\"top\">1</th>\n",
       "      <th rowspan=\"2\" valign=\"top\">2002_01_ARI_WAS</th>\n",
       "      <th>B.Conway</th>\n",
       "      <th>WAS</th>\n",
       "      <td>7.0</td>\n",
       "      <td>6.0</td>\n",
       "      <td>44.5</td>\n",
       "      <td>1</td>\n",
       "      <td>1</td>\n",
       "      <td>1</td>\n",
       "      <td>25.25</td>\n",
       "      <td>5.750</td>\n",
       "      <td>4.90</td>\n",
       "      <td>4.620</td>\n",
       "    </tr>\n",
       "    <tr>\n",
       "      <th>B.Gramatica</th>\n",
       "      <th>ARI</th>\n",
       "      <td>11.0</td>\n",
       "      <td>-6.0</td>\n",
       "      <td>44.5</td>\n",
       "      <td>1</td>\n",
       "      <td>1</td>\n",
       "      <td>0</td>\n",
       "      <td>19.25</td>\n",
       "      <td>6.000</td>\n",
       "      <td>6.38</td>\n",
       "      <td>5.810</td>\n",
       "    </tr>\n",
       "    <tr>\n",
       "      <th rowspan=\"2\" valign=\"top\">2002_01_ATL_GB</th>\n",
       "      <th>J.Feely</th>\n",
       "      <th>ATL</th>\n",
       "      <td>12.0</td>\n",
       "      <td>-7.0</td>\n",
       "      <td>42.5</td>\n",
       "      <td>1</td>\n",
       "      <td>1</td>\n",
       "      <td>0</td>\n",
       "      <td>17.75</td>\n",
       "      <td>3.750</td>\n",
       "      <td>4.55</td>\n",
       "      <td>4.685</td>\n",
       "    </tr>\n",
       "    <tr>\n",
       "      <th>R.Longwell</th>\n",
       "      <th>GB</th>\n",
       "      <td>14.0</td>\n",
       "      <td>7.0</td>\n",
       "      <td>42.5</td>\n",
       "      <td>1</td>\n",
       "      <td>1</td>\n",
       "      <td>1</td>\n",
       "      <td>24.75</td>\n",
       "      <td>5.750</td>\n",
       "      <td>6.12</td>\n",
       "      <td>5.840</td>\n",
       "    </tr>\n",
       "    <tr>\n",
       "      <th>2002_01_BAL_CAR</th>\n",
       "      <th>J.Kasay</th>\n",
       "      <th>CAR</th>\n",
       "      <td>4.0</td>\n",
       "      <td>0.0</td>\n",
       "      <td>33.0</td>\n",
       "      <td>1</td>\n",
       "      <td>1</td>\n",
       "      <td>1</td>\n",
       "      <td>16.50</td>\n",
       "      <td>7.125</td>\n",
       "      <td>7.13</td>\n",
       "      <td>6.945</td>\n",
       "    </tr>\n",
       "    <tr>\n",
       "      <th>...</th>\n",
       "      <th>...</th>\n",
       "      <th>...</th>\n",
       "      <th>...</th>\n",
       "      <th>...</th>\n",
       "      <td>...</td>\n",
       "      <td>...</td>\n",
       "      <td>...</td>\n",
       "      <td>...</td>\n",
       "      <td>...</td>\n",
       "      <td>...</td>\n",
       "      <td>...</td>\n",
       "      <td>...</td>\n",
       "      <td>...</td>\n",
       "      <td>...</td>\n",
       "    </tr>\n",
       "    <tr>\n",
       "      <th rowspan=\"5\" valign=\"top\">2022</th>\n",
       "      <th rowspan=\"3\" valign=\"top\">21</th>\n",
       "      <th>2022_21_CIN_KC</th>\n",
       "      <th>H.Butker</th>\n",
       "      <th>KC</th>\n",
       "      <td>2.0</td>\n",
       "      <td>2.0</td>\n",
       "      <td>48.5</td>\n",
       "      <td>1</td>\n",
       "      <td>1</td>\n",
       "      <td>1</td>\n",
       "      <td>25.25</td>\n",
       "      <td>1.375</td>\n",
       "      <td>1.30</td>\n",
       "      <td>1.270</td>\n",
       "    </tr>\n",
       "    <tr>\n",
       "      <th rowspan=\"2\" valign=\"top\">2022_21_SF_PHI</th>\n",
       "      <th>J.Elliott</th>\n",
       "      <th>PHI</th>\n",
       "      <td>4.0</td>\n",
       "      <td>2.5</td>\n",
       "      <td>45.0</td>\n",
       "      <td>1</td>\n",
       "      <td>1</td>\n",
       "      <td>1</td>\n",
       "      <td>23.75</td>\n",
       "      <td>1.625</td>\n",
       "      <td>1.53</td>\n",
       "      <td>1.285</td>\n",
       "    </tr>\n",
       "    <tr>\n",
       "      <th>R.Gould</th>\n",
       "      <th>SF</th>\n",
       "      <td>1.0</td>\n",
       "      <td>-2.5</td>\n",
       "      <td>45.0</td>\n",
       "      <td>1</td>\n",
       "      <td>1</td>\n",
       "      <td>0</td>\n",
       "      <td>21.25</td>\n",
       "      <td>2.000</td>\n",
       "      <td>1.82</td>\n",
       "      <td>1.590</td>\n",
       "    </tr>\n",
       "    <tr>\n",
       "      <th rowspan=\"2\" valign=\"top\">22</th>\n",
       "      <th rowspan=\"2\" valign=\"top\">2022_22_KC_PHI</th>\n",
       "      <th>H.Butker</th>\n",
       "      <th>KC</th>\n",
       "      <td>5.0</td>\n",
       "      <td>-1.0</td>\n",
       "      <td>51.0</td>\n",
       "      <td>0</td>\n",
       "      <td>1</td>\n",
       "      <td>0</td>\n",
       "      <td>25.00</td>\n",
       "      <td>1.750</td>\n",
       "      <td>1.57</td>\n",
       "      <td>1.375</td>\n",
       "    </tr>\n",
       "    <tr>\n",
       "      <th>J.Elliott</th>\n",
       "      <th>PHI</th>\n",
       "      <td>3.0</td>\n",
       "      <td>1.0</td>\n",
       "      <td>51.0</td>\n",
       "      <td>0</td>\n",
       "      <td>1</td>\n",
       "      <td>1</td>\n",
       "      <td>26.00</td>\n",
       "      <td>2.375</td>\n",
       "      <td>2.07</td>\n",
       "      <td>1.985</td>\n",
       "    </tr>\n",
       "  </tbody>\n",
       "</table>\n",
       "<p>5818 rows × 10 columns</p>\n",
       "</div>"
      ],
      "text/plain": [
       "                                                     FD_Pts  spread_line  \\\n",
       "season week game_id         kicker_player_name team                        \n",
       "2002   1    2002_01_ARI_WAS B.Conway           WAS      7.0          6.0   \n",
       "                            B.Gramatica        ARI     11.0         -6.0   \n",
       "            2002_01_ATL_GB  J.Feely            ATL     12.0         -7.0   \n",
       "                            R.Longwell         GB      14.0          7.0   \n",
       "            2002_01_BAL_CAR J.Kasay            CAR      4.0          0.0   \n",
       "...                                                     ...          ...   \n",
       "2022   21   2022_21_CIN_KC  H.Butker           KC       2.0          2.0   \n",
       "            2022_21_SF_PHI  J.Elliott          PHI      4.0          2.5   \n",
       "                            R.Gould            SF       1.0         -2.5   \n",
       "       22   2022_22_KC_PHI  H.Butker           KC       5.0         -1.0   \n",
       "                            J.Elliott          PHI      3.0          1.0   \n",
       "\n",
       "                                                     total_line  outdoors  \\\n",
       "season week game_id         kicker_player_name team                         \n",
       "2002   1    2002_01_ARI_WAS B.Conway           WAS         44.5         1   \n",
       "                            B.Gramatica        ARI         44.5         1   \n",
       "            2002_01_ATL_GB  J.Feely            ATL         42.5         1   \n",
       "                            R.Longwell         GB          42.5         1   \n",
       "            2002_01_BAL_CAR J.Kasay            CAR         33.0         1   \n",
       "...                                                         ...       ...   \n",
       "2022   21   2022_21_CIN_KC  H.Butker           KC          48.5         1   \n",
       "            2022_21_SF_PHI  J.Elliott          PHI         45.0         1   \n",
       "                            R.Gould            SF          45.0         1   \n",
       "       22   2022_22_KC_PHI  H.Butker           KC          51.0         0   \n",
       "                            J.Elliott          PHI         51.0         0   \n",
       "\n",
       "                                                     grass  home_team  \\\n",
       "season week game_id         kicker_player_name team                     \n",
       "2002   1    2002_01_ARI_WAS B.Conway           WAS       1          1   \n",
       "                            B.Gramatica        ARI       1          0   \n",
       "            2002_01_ATL_GB  J.Feely            ATL       1          0   \n",
       "                            R.Longwell         GB        1          1   \n",
       "            2002_01_BAL_CAR J.Kasay            CAR       1          1   \n",
       "...                                                    ...        ...   \n",
       "2022   21   2022_21_CIN_KC  H.Butker           KC        1          1   \n",
       "            2022_21_SF_PHI  J.Elliott          PHI       1          1   \n",
       "                            R.Gould            SF        1          0   \n",
       "       22   2022_22_KC_PHI  H.Butker           KC        1          0   \n",
       "                            J.Elliott          PHI       1          1   \n",
       "\n",
       "                                                     pred_total  \\\n",
       "season week game_id         kicker_player_name team               \n",
       "2002   1    2002_01_ARI_WAS B.Conway           WAS        25.25   \n",
       "                            B.Gramatica        ARI        19.25   \n",
       "            2002_01_ATL_GB  J.Feely            ATL        17.75   \n",
       "                            R.Longwell         GB         24.75   \n",
       "            2002_01_BAL_CAR J.Kasay            CAR        16.50   \n",
       "...                                                         ...   \n",
       "2022   21   2022_21_CIN_KC  H.Butker           KC         25.25   \n",
       "            2022_21_SF_PHI  J.Elliott          PHI        23.75   \n",
       "                            R.Gould            SF         21.25   \n",
       "       22   2022_22_KC_PHI  H.Butker           KC         25.00   \n",
       "                            J.Elliott          PHI        26.00   \n",
       "\n",
       "                                                     def_vs_pos_L8  \\\n",
       "season week game_id         kicker_player_name team                  \n",
       "2002   1    2002_01_ARI_WAS B.Conway           WAS           5.750   \n",
       "                            B.Gramatica        ARI           6.000   \n",
       "            2002_01_ATL_GB  J.Feely            ATL           3.750   \n",
       "                            R.Longwell         GB            5.750   \n",
       "            2002_01_BAL_CAR J.Kasay            CAR           7.125   \n",
       "...                                                            ...   \n",
       "2022   21   2022_21_CIN_KC  H.Butker           KC            1.375   \n",
       "            2022_21_SF_PHI  J.Elliott          PHI           1.625   \n",
       "                            R.Gould            SF            2.000   \n",
       "       22   2022_22_KC_PHI  H.Butker           KC            1.750   \n",
       "                            J.Elliott          PHI           2.375   \n",
       "\n",
       "                                                     def_vs_pos_L8_lin  \\\n",
       "season week game_id         kicker_player_name team                      \n",
       "2002   1    2002_01_ARI_WAS B.Conway           WAS                4.90   \n",
       "                            B.Gramatica        ARI                6.38   \n",
       "            2002_01_ATL_GB  J.Feely            ATL                4.55   \n",
       "                            R.Longwell         GB                 6.12   \n",
       "            2002_01_BAL_CAR J.Kasay            CAR                7.13   \n",
       "...                                                                ...   \n",
       "2022   21   2022_21_CIN_KC  H.Butker           KC                 1.30   \n",
       "            2022_21_SF_PHI  J.Elliott          PHI                1.53   \n",
       "                            R.Gould            SF                 1.82   \n",
       "       22   2022_22_KC_PHI  H.Butker           KC                 1.57   \n",
       "                            J.Elliott          PHI                2.07   \n",
       "\n",
       "                                                     def_vs_pos_L8_exp  \n",
       "season week game_id         kicker_player_name team                     \n",
       "2002   1    2002_01_ARI_WAS B.Conway           WAS               4.620  \n",
       "                            B.Gramatica        ARI               5.810  \n",
       "            2002_01_ATL_GB  J.Feely            ATL               4.685  \n",
       "                            R.Longwell         GB                5.840  \n",
       "            2002_01_BAL_CAR J.Kasay            CAR               6.945  \n",
       "...                                                                ...  \n",
       "2022   21   2022_21_CIN_KC  H.Butker           KC                1.270  \n",
       "            2022_21_SF_PHI  J.Elliott          PHI               1.285  \n",
       "                            R.Gould            SF                1.590  \n",
       "       22   2022_22_KC_PHI  H.Butker           KC                1.375  \n",
       "                            J.Elliott          PHI               1.985  \n",
       "\n",
       "[5818 rows x 10 columns]"
      ]
     },
     "execution_count": 51,
     "metadata": {},
     "output_type": "execute_result"
    }
   ],
   "source": [
    "kick_model_even"
   ]
  },
  {
   "cell_type": "markdown",
   "id": "114a2603",
   "metadata": {},
   "source": [
    "# Exploratory Data Analysis"
   ]
  },
  {
   "cell_type": "code",
   "execution_count": 52,
   "id": "2f9ed1e0",
   "metadata": {},
   "outputs": [],
   "source": [
    "from sklearn.metrics import mean_squared_error, mean_absolute_error, r2_score \n",
    "from sklearn.model_selection import train_test_split \n",
    "from sklearn import linear_model, preprocessing "
   ]
  },
  {
   "cell_type": "code",
   "execution_count": 53,
   "id": "711759f9",
   "metadata": {},
   "outputs": [
    {
     "data": {
      "text/html": [
       "<div>\n",
       "<style scoped>\n",
       "    .dataframe tbody tr th:only-of-type {\n",
       "        vertical-align: middle;\n",
       "    }\n",
       "\n",
       "    .dataframe tbody tr th {\n",
       "        vertical-align: top;\n",
       "    }\n",
       "\n",
       "    .dataframe thead th {\n",
       "        text-align: right;\n",
       "    }\n",
       "</style>\n",
       "<table border=\"1\" class=\"dataframe\">\n",
       "  <thead>\n",
       "    <tr style=\"text-align: right;\">\n",
       "      <th></th>\n",
       "      <th>FD_Pts</th>\n",
       "      <th>spread_line</th>\n",
       "      <th>total_line</th>\n",
       "      <th>outdoors</th>\n",
       "      <th>grass</th>\n",
       "      <th>home_team</th>\n",
       "      <th>pred_total</th>\n",
       "      <th>def_vs_pos_L8</th>\n",
       "      <th>def_vs_pos_L8_lin</th>\n",
       "      <th>def_vs_pos_L8_exp</th>\n",
       "    </tr>\n",
       "  </thead>\n",
       "  <tbody>\n",
       "    <tr>\n",
       "      <th>count</th>\n",
       "      <td>5818.000000</td>\n",
       "      <td>5818.000000</td>\n",
       "      <td>5818.000000</td>\n",
       "      <td>5818.000000</td>\n",
       "      <td>5818.000000</td>\n",
       "      <td>5818.000000</td>\n",
       "      <td>5818.000000</td>\n",
       "      <td>5818.000000</td>\n",
       "      <td>5818.000000</td>\n",
       "      <td>5818.000000</td>\n",
       "    </tr>\n",
       "    <tr>\n",
       "      <th>mean</th>\n",
       "      <td>7.277838</td>\n",
       "      <td>0.031024</td>\n",
       "      <td>44.112152</td>\n",
       "      <td>0.750773</td>\n",
       "      <td>0.568408</td>\n",
       "      <td>0.501031</td>\n",
       "      <td>22.071588</td>\n",
       "      <td>7.437254</td>\n",
       "      <td>7.686541</td>\n",
       "      <td>7.380758</td>\n",
       "    </tr>\n",
       "    <tr>\n",
       "      <th>std</th>\n",
       "      <td>4.314002</td>\n",
       "      <td>6.158997</td>\n",
       "      <td>4.990623</td>\n",
       "      <td>0.432602</td>\n",
       "      <td>0.495341</td>\n",
       "      <td>0.500042</td>\n",
       "      <td>3.967345</td>\n",
       "      <td>2.030930</td>\n",
       "      <td>2.421588</td>\n",
       "      <td>2.463192</td>\n",
       "    </tr>\n",
       "    <tr>\n",
       "      <th>min</th>\n",
       "      <td>0.000000</td>\n",
       "      <td>-20.000000</td>\n",
       "      <td>30.000000</td>\n",
       "      <td>0.000000</td>\n",
       "      <td>0.000000</td>\n",
       "      <td>0.000000</td>\n",
       "      <td>8.500000</td>\n",
       "      <td>1.000000</td>\n",
       "      <td>0.670000</td>\n",
       "      <td>0.565000</td>\n",
       "    </tr>\n",
       "    <tr>\n",
       "      <th>25%</th>\n",
       "      <td>4.000000</td>\n",
       "      <td>-4.000000</td>\n",
       "      <td>41.000000</td>\n",
       "      <td>1.000000</td>\n",
       "      <td>0.000000</td>\n",
       "      <td>0.000000</td>\n",
       "      <td>19.250000</td>\n",
       "      <td>6.375000</td>\n",
       "      <td>6.250000</td>\n",
       "      <td>5.850000</td>\n",
       "    </tr>\n",
       "    <tr>\n",
       "      <th>50%</th>\n",
       "      <td>7.000000</td>\n",
       "      <td>1.000000</td>\n",
       "      <td>44.000000</td>\n",
       "      <td>1.000000</td>\n",
       "      <td>1.000000</td>\n",
       "      <td>1.000000</td>\n",
       "      <td>22.000000</td>\n",
       "      <td>7.500000</td>\n",
       "      <td>7.780000</td>\n",
       "      <td>7.412500</td>\n",
       "    </tr>\n",
       "    <tr>\n",
       "      <th>75%</th>\n",
       "      <td>10.000000</td>\n",
       "      <td>4.000000</td>\n",
       "      <td>47.500000</td>\n",
       "      <td>1.000000</td>\n",
       "      <td>1.000000</td>\n",
       "      <td>1.000000</td>\n",
       "      <td>25.000000</td>\n",
       "      <td>8.750000</td>\n",
       "      <td>9.310000</td>\n",
       "      <td>9.035000</td>\n",
       "    </tr>\n",
       "    <tr>\n",
       "      <th>max</th>\n",
       "      <td>29.500000</td>\n",
       "      <td>20.000000</td>\n",
       "      <td>63.500000</td>\n",
       "      <td>1.000000</td>\n",
       "      <td>1.000000</td>\n",
       "      <td>1.000000</td>\n",
       "      <td>36.250000</td>\n",
       "      <td>13.250000</td>\n",
       "      <td>16.050000</td>\n",
       "      <td>16.675000</td>\n",
       "    </tr>\n",
       "  </tbody>\n",
       "</table>\n",
       "</div>"
      ],
      "text/plain": [
       "            FD_Pts  spread_line   total_line     outdoors        grass  \\\n",
       "count  5818.000000  5818.000000  5818.000000  5818.000000  5818.000000   \n",
       "mean      7.277838     0.031024    44.112152     0.750773     0.568408   \n",
       "std       4.314002     6.158997     4.990623     0.432602     0.495341   \n",
       "min       0.000000   -20.000000    30.000000     0.000000     0.000000   \n",
       "25%       4.000000    -4.000000    41.000000     1.000000     0.000000   \n",
       "50%       7.000000     1.000000    44.000000     1.000000     1.000000   \n",
       "75%      10.000000     4.000000    47.500000     1.000000     1.000000   \n",
       "max      29.500000    20.000000    63.500000     1.000000     1.000000   \n",
       "\n",
       "         home_team   pred_total  def_vs_pos_L8  def_vs_pos_L8_lin  \\\n",
       "count  5818.000000  5818.000000    5818.000000        5818.000000   \n",
       "mean      0.501031    22.071588       7.437254           7.686541   \n",
       "std       0.500042     3.967345       2.030930           2.421588   \n",
       "min       0.000000     8.500000       1.000000           0.670000   \n",
       "25%       0.000000    19.250000       6.375000           6.250000   \n",
       "50%       1.000000    22.000000       7.500000           7.780000   \n",
       "75%       1.000000    25.000000       8.750000           9.310000   \n",
       "max       1.000000    36.250000      13.250000          16.050000   \n",
       "\n",
       "       def_vs_pos_L8_exp  \n",
       "count        5818.000000  \n",
       "mean            7.380758  \n",
       "std             2.463192  \n",
       "min             0.565000  \n",
       "25%             5.850000  \n",
       "50%             7.412500  \n",
       "75%             9.035000  \n",
       "max            16.675000  "
      ]
     },
     "execution_count": 53,
     "metadata": {},
     "output_type": "execute_result"
    }
   ],
   "source": [
    "kick_model_even.describe()"
   ]
  },
  {
   "cell_type": "code",
   "execution_count": 54,
   "id": "c13af2e6",
   "metadata": {},
   "outputs": [
    {
     "data": {
      "image/png": "[encoded data removed]",
      "text/plain": [
       "<Figure size 1200x1200 with 12 Axes>"
      ]
     },
     "metadata": {},
     "output_type": "display_data"
    }
   ],
   "source": [
    "kick_model_even.hist(layout = (3, 4), figsize = (12, 12))\n",
    "#plt.subplots_adjust(hspace=1)\n",
    "plt.show();"
   ]
  },
  {
   "cell_type": "code",
   "execution_count": 55,
   "id": "bae66a75",
   "metadata": {},
   "outputs": [],
   "source": [
    "corr_df = kick_model_even.corr()"
   ]
  },
  {
   "cell_type": "code",
   "execution_count": 56,
   "id": "c726cb51",
   "metadata": {},
   "outputs": [
    {
     "data": {
      "text/plain": [
       "FD_Pts               1.000000\n",
       "def_vs_pos_L8        0.256449\n",
       "def_vs_pos_L8_lin    0.255996\n",
       "def_vs_pos_L8_exp    0.245935\n",
       "pred_total           0.158835\n",
       "spread_line          0.133579\n",
       "total_line           0.087684\n",
       "home_team            0.034770\n",
       "outdoors            -0.034032\n",
       "grass               -0.034719\n",
       "Name: FD_Pts, dtype: float64"
      ]
     },
     "execution_count": 56,
     "metadata": {},
     "output_type": "execute_result"
    }
   ],
   "source": [
    "corr_df['FD_Pts'].sort_values(ascending = False)"
   ]
  },
  {
   "cell_type": "code",
   "execution_count": 57,
   "id": "ac7f6eeb",
   "metadata": {},
   "outputs": [],
   "source": [
    "main_df = kick_model_even"
   ]
  },
  {
   "cell_type": "code",
   "execution_count": 58,
   "id": "a64634f9",
   "metadata": {},
   "outputs": [],
   "source": [
    "X = main_df[['spread_line', 'home_team', 'outdoors', 'grass', 'total_line', 'pred_total', 'def_vs_pos_L8', 'def_vs_pos_L8_lin', 'def_vs_pos_L8_exp']]"
   ]
  },
  {
   "cell_type": "code",
   "execution_count": 59,
   "id": "2dab5e4c",
   "metadata": {},
   "outputs": [],
   "source": [
    "y = main_df[['FD_Pts']]"
   ]
  },
  {
   "cell_type": "code",
   "execution_count": 60,
   "id": "d18ad0b0",
   "metadata": {},
   "outputs": [],
   "source": [
    "X_train, X_test, y_train, y_test = train_test_split(X, y, test_size = .30, random_state = 42)"
   ]
  },
  {
   "cell_type": "code",
   "execution_count": 61,
   "id": "35ca9d59",
   "metadata": {},
   "outputs": [],
   "source": [
    "from sklearn.preprocessing import StandardScaler"
   ]
  },
  {
   "cell_type": "code",
   "execution_count": 62,
   "id": "023aba07",
   "metadata": {},
   "outputs": [],
   "source": [
    "scaler = StandardScaler()"
   ]
  },
  {
   "cell_type": "code",
   "execution_count": 63,
   "id": "9932f25d",
   "metadata": {},
   "outputs": [],
   "source": [
    "X_train_scaled = scaler.fit_transform(X_train)\n",
    "X_test_scaled = scaler.transform(X_test)"
   ]
  },
  {
   "cell_type": "code",
   "execution_count": 64,
   "id": "3017f661",
   "metadata": {},
   "outputs": [],
   "source": [
    "X_scaled_df = pd.DataFrame(X_train_scaled, columns = X.columns)"
   ]
  },
  {
   "cell_type": "code",
   "execution_count": 65,
   "id": "7596419d",
   "metadata": {},
   "outputs": [
    {
     "data": {
      "text/plain": [
       "spread_line         -1.832195e-17\n",
       "home_team            3.489896e-17\n",
       "outdoors            -2.966411e-17\n",
       "grass               -2.268432e-17\n",
       "total_line          -1.134216e-17\n",
       "pred_total           4.022105e-16\n",
       "def_vs_pos_L8        1.526829e-16\n",
       "def_vs_pos_L8_lin    1.064418e-16\n",
       "def_vs_pos_L8_exp   -6.805296e-17\n",
       "dtype: float64"
      ]
     },
     "execution_count": 65,
     "metadata": {},
     "output_type": "execute_result"
    }
   ],
   "source": [
    "X_scaled_df.mean()"
   ]
  },
  {
   "cell_type": "code",
   "execution_count": 66,
   "id": "b5a38a26",
   "metadata": {},
   "outputs": [
    {
     "data": {
      "text/plain": [
       "spread_line          1.000123\n",
       "home_team            1.000123\n",
       "outdoors             1.000123\n",
       "grass                1.000123\n",
       "total_line           1.000123\n",
       "pred_total           1.000123\n",
       "def_vs_pos_L8        1.000123\n",
       "def_vs_pos_L8_lin    1.000123\n",
       "def_vs_pos_L8_exp    1.000123\n",
       "dtype: float64"
      ]
     },
     "execution_count": 66,
     "metadata": {},
     "output_type": "execute_result"
    }
   ],
   "source": [
    "X_scaled_df.std()"
   ]
  },
  {
   "cell_type": "code",
   "execution_count": null,
   "id": "1fa8ad93-f7eb-4ebf-a9e0-540e480f11c2",
   "metadata": {},
   "outputs": [],
   "source": []
  },
  {
   "cell_type": "code",
   "execution_count": 67,
   "id": "0743ea4b",
   "metadata": {},
   "outputs": [],
   "source": [
    "from sklearn.linear_model import LinearRegression\n",
    "from sklearn.neighbors import KNeighborsRegressor"
   ]
  },
  {
   "cell_type": "code",
   "execution_count": 68,
   "id": "e069e96a",
   "metadata": {},
   "outputs": [],
   "source": [
    "from sklearn.metrics import mean_absolute_error"
   ]
  },
  {
   "cell_type": "code",
   "execution_count": 69,
   "id": "df4d7907-5aba-4080-8240-cffbd6828aa9",
   "metadata": {},
   "outputs": [],
   "source": [
    "from collections import defaultdict"
   ]
  },
  {
   "cell_type": "code",
   "execution_count": 71,
   "id": "39714e7b-592f-4be5-850d-cf8dbacb1fc2",
   "metadata": {},
   "outputs": [],
   "source": [
    "error_dict = defaultdict(float)"
   ]
  },
  {
   "cell_type": "code",
   "execution_count": null,
   "id": "2fed7646-58e6-4b6b-821d-d8ee6fd1b860",
   "metadata": {},
   "outputs": [],
   "source": []
  },
  {
   "cell_type": "markdown",
   "id": "34bd1542-317e-414a-a214-d85b61b9cfca",
   "metadata": {},
   "source": [
    "# K Nearest Neighbors"
   ]
  },
  {
   "cell_type": "code",
   "execution_count": 72,
   "id": "ba353c52-4868-43f9-9772-fe7f05228609",
   "metadata": {},
   "outputs": [
    {
     "name": "stdout",
     "output_type": "stream",
     "text": [
      "Mean Absolute Error with 1 neighbors: 4.379851088205188\n",
      "Mean Squared Error with 1 neighbors: 31.735054066478337\n",
      "Root Mean Squared Error with 1 neighbors: 5.633387441538026\n",
      "\n",
      "Mean Absolute Error with 2 neighbors: 3.863487972512005\n",
      "Mean Squared Error with 2 neighbors: 24.613333505231807\n",
      "Root Mean Squared Error with 2 neighbors: 4.961182672028093\n",
      "\n",
      "Mean Absolute Error with 3 neighbors: 3.676193203518196\n",
      "Mean Squared Error with 3 neighbors: 21.799929464241544\n",
      "Root Mean Squared Error with 3 neighbors: 4.669039458415568\n",
      "\n",
      "Mean Absolute Error with 4 neighbors: 3.575429553270579\n",
      "Mean Squared Error with 4 neighbors: 20.33743989125532\n",
      "Root Mean Squared Error with 4 neighbors: 4.5097050780794214\n",
      "\n",
      "Mean Absolute Error with 5 neighbors: 3.512345933565125\n",
      "Mean Squared Error with 5 neighbors: 19.675429984018205\n",
      "Root Mean Squared Error with 5 neighbors: 4.435699492077682\n",
      "\n",
      "Mean Absolute Error with 6 neighbors: 3.462773959524716\n",
      "Mean Squared Error with 6 neighbors: 19.333927586871326\n",
      "Root Mean Squared Error with 6 neighbors: 4.397036227605058\n",
      "\n",
      "Mean Absolute Error with 7 neighbors: 3.42935362461338\n",
      "Mean Squared Error with 7 neighbors: 18.802765981744624\n",
      "Root Mean Squared Error with 7 neighbors: 4.33621562906466\n",
      "\n",
      "Mean Absolute Error with 8 neighbors: 3.3979839633463245\n",
      "Mean Squared Error with 8 neighbors: 18.434346670988603\n",
      "Root Mean Squared Error with 8 neighbors: 4.293523805802013\n",
      "\n",
      "Mean Absolute Error with 9 neighbors: 3.3727465953905003\n",
      "Mean Squared Error with 9 neighbors: 18.138226529761827\n",
      "Root Mean Squared Error with 9 neighbors: 4.258899685336792\n",
      "\n",
      "Mean Absolute Error with 10 neighbors: 3.362843069870277\n",
      "Mean Squared Error with 10 neighbors: 17.960548609375184\n",
      "Root Mean Squared Error with 10 neighbors: 4.237988745782035\n",
      "\n",
      "Mean Absolute Error with 11 neighbors: 3.3581911902496477\n",
      "Mean Squared Error with 11 neighbors: 17.806215756417274\n",
      "Root Mean Squared Error with 11 neighbors: 4.21974119543098\n",
      "\n",
      "Mean Absolute Error with 12 neighbors: 3.352572546772582\n",
      "Mean Squared Error with 12 neighbors: 17.717305678059592\n",
      "Root Mean Squared Error with 12 neighbors: 4.209192996057509\n",
      "\n",
      "Mean Absolute Error with 13 neighbors: 3.3380156842016317\n",
      "Mean Squared Error with 13 neighbors: 17.506135819488282\n",
      "Root Mean Squared Error with 13 neighbors: 4.1840334390977665\n",
      "\n",
      "Mean Absolute Error with 14 neighbors: 3.32881934217154\n",
      "Mean Squared Error with 14 neighbors: 17.44650563738362\n",
      "Root Mean Squared Error with 14 neighbors: 4.17690143974976\n",
      "\n",
      "Mean Absolute Error with 15 neighbors: 3.3443092783522568\n",
      "Mean Squared Error with 15 neighbors: 17.53660442713846\n",
      "Root Mean Squared Error with 15 neighbors: 4.187672913103226\n",
      "\n",
      "Mean Absolute Error with 16 neighbors: 3.345055126005257\n",
      "Mean Squared Error with 16 neighbors: 17.518596870536733\n",
      "Root Mean Squared Error with 16 neighbors: 4.185522293637526\n",
      "\n",
      "Mean Absolute Error with 17 neighbors: 3.3353305033381564\n",
      "Mean Squared Error with 17 neighbors: 17.444895183069004\n",
      "Root Mean Squared Error with 17 neighbors: 4.176708654319691\n",
      "\n",
      "Mean Absolute Error with 18 neighbors: 3.3283428789632183\n",
      "Mean Squared Error with 18 neighbors: 17.335322140208557\n",
      "Root Mean Squared Error with 18 neighbors: 4.163570840061276\n",
      "\n",
      "Mean Absolute Error with 19 neighbors: 3.3293941038189456\n",
      "Mean Squared Error with 19 neighbors: 17.302605968542387\n",
      "Root Mean Squared Error with 19 neighbors: 4.159640124883689\n",
      "\n",
      "Mean Absolute Error with 20 neighbors: 3.3294135166125165\n",
      "Mean Squared Error with 20 neighbors: 17.25550717985754\n",
      "Root Mean Squared Error with 20 neighbors: 4.153974865096988\n",
      "\n",
      "Mean Absolute Error with 21 neighbors: 3.322317133040563\n",
      "Mean Squared Error with 21 neighbors: 17.191493635479365\n",
      "Root Mean Squared Error with 21 neighbors: 4.146262610530038\n",
      "\n",
      "Mean Absolute Error with 22 neighbors: 3.319351244405941\n",
      "Mean Squared Error with 22 neighbors: 17.179366197129507\n",
      "Root Mean Squared Error with 22 neighbors: 4.144799898321933\n",
      "\n",
      "Mean Absolute Error with 23 neighbors: 3.310990089151258\n",
      "Mean Squared Error with 23 neighbors: 17.120569504815286\n",
      "Root Mean Squared Error with 23 neighbors: 4.137700992678819\n",
      "\n",
      "Mean Absolute Error with 24 neighbors: 3.3106911034778803\n",
      "Mean Squared Error with 24 neighbors: 17.088799941145272\n",
      "Root Mean Squared Error with 24 neighbors: 4.133860174358256\n",
      "\n",
      "Mean Absolute Error with 25 neighbors: 3.3096549828210575\n",
      "Mean Squared Error with 25 neighbors: 17.08407876252984\n",
      "Root Mean Squared Error with 25 neighbors: 4.1332890973811445\n",
      "\n",
      "Mean Absolute Error with 26 neighbors: 3.310343642614625\n",
      "Mean Squared Error with 26 neighbors: 17.072884523219244\n",
      "Root Mean Squared Error with 26 neighbors: 4.1319347191381475\n",
      "\n",
      "Mean Absolute Error with 27 neighbors: 3.310560434435093\n",
      "Mean Squared Error with 27 neighbors: 17.055471499990805\n",
      "Root Mean Squared Error with 27 neighbors: 4.1298270544891835\n",
      "\n",
      "Mean Absolute Error with 28 neighbors: 3.3089911634792233\n",
      "Mean Squared Error with 28 neighbors: 17.02853399843001\n",
      "Root Mean Squared Error with 28 neighbors: 4.1265644304227225\n",
      "\n",
      "Mean Absolute Error with 29 neighbors: 3.301816170955638\n",
      "Mean Squared Error with 29 neighbors: 16.99714112612415\n",
      "Root Mean Squared Error with 29 neighbors: 4.1227589216596385\n",
      "\n",
      "Mean Absolute Error with 30 neighbors: 3.3074944635391597\n",
      "Mean Squared Error with 30 neighbors: 17.042664912835477\n",
      "Root Mean Squared Error with 30 neighbors: 4.128276264112599\n",
      "\n",
      "Mean Absolute Error with 31 neighbors: 3.306061781772018\n",
      "Mean Squared Error with 31 neighbors: 17.031274195591\n",
      "Root Mean Squared Error with 31 neighbors: 4.126896436257033\n",
      "\n",
      "Mean Absolute Error with 32 neighbors: 3.3000315005759275\n",
      "Mean Squared Error with 32 neighbors: 16.974033672070064\n",
      "Root Mean Squared Error with 32 neighbors: 4.119955542487086\n",
      "\n",
      "Mean Absolute Error with 33 neighbors: 3.3028272414912507\n",
      "Mean Squared Error with 33 neighbors: 17.002133764410996\n",
      "Root Mean Squared Error with 33 neighbors: 4.123364374441215\n",
      "\n",
      "Mean Absolute Error with 34 neighbors: 3.300122633249072\n",
      "Mean Squared Error with 34 neighbors: 16.971850029549813\n",
      "Root Mean Squared Error with 34 neighbors: 4.119690525943644\n",
      "\n",
      "Mean Absolute Error with 35 neighbors: 3.2940828015088717\n",
      "Mean Squared Error with 35 neighbors: 16.90458473480973\n",
      "Root Mean Squared Error with 35 neighbors: 4.111518543653881\n",
      "\n",
      "Mean Absolute Error with 36 neighbors: 3.2956051928250445\n",
      "Mean Squared Error with 36 neighbors: 16.907469974071663\n",
      "Root Mean Squared Error with 36 neighbors: 4.111869401388092\n",
      "\n",
      "Mean Absolute Error with 37 neighbors: 3.293633324049224\n",
      "Mean Squared Error with 37 neighbors: 16.883247498008135\n",
      "Root Mean Squared Error with 37 neighbors: 4.108922912152057\n",
      "\n",
      "Mean Absolute Error with 38 neighbors: 3.292854946647712\n",
      "Mean Squared Error with 38 neighbors: 16.871166256885797\n",
      "Root Mean Squared Error with 38 neighbors: 4.107452526431169\n",
      "\n",
      "Mean Absolute Error with 39 neighbors: 3.2910958381092503\n",
      "Mean Squared Error with 39 neighbors: 16.848743640523534\n",
      "Root Mean Squared Error with 39 neighbors: 4.104722114896882\n",
      "\n",
      "Mean Absolute Error with 40 neighbors: 3.2898791523513737\n",
      "Mean Squared Error with 40 neighbors: 16.849259920409917\n",
      "Root Mean Squared Error with 40 neighbors: 4.104785002945942\n",
      "\n",
      "Mean Absolute Error with 41 neighbors: 3.288085659210001\n",
      "Mean Squared Error with 41 neighbors: 16.843719929042976\n",
      "Root Mean Squared Error with 41 neighbors: 4.104110126329821\n",
      "\n",
      "Mean Absolute Error with 42 neighbors: 3.2847335406128533\n",
      "Mean Squared Error with 42 neighbors: 16.82493247619527\n",
      "Root Mean Squared Error with 42 neighbors: 4.101820629451667\n",
      "\n",
      "Mean Absolute Error with 43 neighbors: 3.2811476064923273\n",
      "Mean Squared Error with 43 neighbors: 16.804439235864642\n",
      "Root Mean Squared Error with 43 neighbors: 4.099321801940492\n",
      "\n",
      "Mean Absolute Error with 44 neighbors: 3.2784809434576374\n",
      "Mean Squared Error with 44 neighbors: 16.78858406619166\n",
      "Root Mean Squared Error with 44 neighbors: 4.097387468398816\n",
      "\n",
      "Mean Absolute Error with 45 neighbors: 3.275709049257728\n",
      "Mean Squared Error with 45 neighbors: 16.760196037856666\n",
      "Root Mean Squared Error with 45 neighbors: 4.093921840711748\n",
      "\n",
      "Mean Absolute Error with 46 neighbors: 3.2743694905158818\n",
      "Mean Squared Error with 46 neighbors: 16.771741073321174\n",
      "Root Mean Squared Error with 46 neighbors: 4.095331619456619\n",
      "\n",
      "Mean Absolute Error with 47 neighbors: 3.275726889428646\n",
      "Mean Squared Error with 47 neighbors: 16.782594980250646\n",
      "Root Mean Squared Error with 47 neighbors: 4.096656561178963\n",
      "\n",
      "Mean Absolute Error with 48 neighbors: 3.2742313383000967\n",
      "Mean Squared Error with 48 neighbors: 16.77863650717244\n",
      "Root Mean Squared Error with 48 neighbors: 4.096173398084173\n",
      "\n",
      "Mean Absolute Error with 49 neighbors: 3.274877387384633\n",
      "Mean Squared Error with 49 neighbors: 16.791285010892878\n",
      "Root Mean Squared Error with 49 neighbors: 4.097717048661715\n",
      "\n",
      "Mean Absolute Error with 50 neighbors: 3.273600458193481\n",
      "Mean Squared Error with 50 neighbors: 16.78955828528877\n",
      "Root Mean Squared Error with 50 neighbors: 4.0975063496337345\n",
      "\n",
      "Mean Absolute Error with 51 neighbors: 3.2735768030038126\n",
      "Mean Squared Error with 51 neighbors: 16.79770288581511\n",
      "Root Mean Squared Error with 51 neighbors: 4.098500077566805\n",
      "\n",
      "Mean Absolute Error with 52 neighbors: 3.274223059303392\n",
      "Mean Squared Error with 52 neighbors: 16.7882392639828\n",
      "Root Mean Squared Error with 52 neighbors: 4.097345392322058\n",
      "\n",
      "Mean Absolute Error with 53 neighbors: 3.2781348202930927\n",
      "Mean Squared Error with 53 neighbors: 16.801722975874053\n",
      "Root Mean Squared Error with 53 neighbors: 4.098990482530309\n",
      "\n",
      "Mean Absolute Error with 54 neighbors: 3.280546646305372\n",
      "Mean Squared Error with 54 neighbors: 16.813645756260854\n",
      "Root Mean Squared Error with 54 neighbors: 4.100444580318195\n",
      "\n",
      "Mean Absolute Error with 55 neighbors: 3.2832110798738\n",
      "Mean Squared Error with 55 neighbors: 16.820888480853974\n",
      "Root Mean Squared Error with 55 neighbors: 4.101327648561375\n",
      "\n",
      "Mean Absolute Error with 56 neighbors: 3.2837489772566073\n",
      "Mean Squared Error with 56 neighbors: 16.824065994885853\n",
      "Root Mean Squared Error with 56 neighbors: 4.10171500654127\n",
      "\n",
      "Mean Absolute Error with 57 neighbors: 3.28168766705101\n",
      "Mean Squared Error with 57 neighbors: 16.816674110263367\n",
      "Root Mean Squared Error with 57 neighbors: 4.100813835114119\n",
      "\n",
      "Mean Absolute Error with 58 neighbors: 3.282108267174675\n",
      "Mean Squared Error with 58 neighbors: 16.81978860662343\n",
      "Root Mean Squared Error with 58 neighbors: 4.10119355878547\n",
      "\n",
      "Mean Absolute Error with 59 neighbors: 3.2821529112577754\n",
      "Mean Squared Error with 59 neighbors: 16.8123154851272\n",
      "Root Mean Squared Error with 59 neighbors: 4.100282366511751\n",
      "\n",
      "Mean Absolute Error with 60 neighbors: 3.28516876670799\n",
      "Mean Squared Error with 60 neighbors: 16.827304518156044\n",
      "Root Mean Squared Error with 60 neighbors: 4.1021097642744815\n",
      "\n",
      "Mean Absolute Error with 61 neighbors: 3.285555555558379\n",
      "Mean Squared Error with 61 neighbors: 16.828419429261047\n",
      "Root Mean Squared Error with 61 neighbors: 4.1022456568641825\n",
      "\n",
      "Mean Absolute Error with 62 neighbors: 3.2836361452937126\n",
      "Mean Squared Error with 62 neighbors: 16.813447236571896\n",
      "Root Mean Squared Error with 62 neighbors: 4.100420373153452\n",
      "\n",
      "Mean Absolute Error with 63 neighbors: 3.2867304860121664\n",
      "Mean Squared Error with 63 neighbors: 16.838146760378947\n",
      "Root Mean Squared Error with 63 neighbors: 4.103431096092506\n",
      "\n",
      "Mean Absolute Error with 64 neighbors: 3.2874387886627487\n",
      "Mean Squared Error with 64 neighbors: 16.83905750210135\n",
      "Root Mean Squared Error with 64 neighbors: 4.103542067787457\n",
      "\n",
      "Mean Absolute Error with 65 neighbors: 3.2865482421393453\n",
      "Mean Squared Error with 65 neighbors: 16.837022818489203\n",
      "Root Mean Squared Error with 65 neighbors: 4.103294142331159\n",
      "\n",
      "Mean Absolute Error with 66 neighbors: 3.2880631052833036\n",
      "Mean Squared Error with 66 neighbors: 16.84642716367327\n",
      "Root Mean Squared Error with 66 neighbors: 4.104439933008311\n",
      "\n",
      "Mean Absolute Error with 67 neighbors: 3.2872113658545525\n",
      "Mean Squared Error with 67 neighbors: 16.836912240275023\n",
      "Root Mean Squared Error with 67 neighbors: 4.1032806679869\n",
      "\n",
      "Mean Absolute Error with 68 neighbors: 3.288464726099792\n",
      "Mean Squared Error with 68 neighbors: 16.84111869673485\n",
      "Root Mean Squared Error with 68 neighbors: 4.103793208329929\n",
      "\n",
      "Mean Absolute Error with 69 neighbors: 3.28759151352509\n",
      "Mean Squared Error with 69 neighbors: 16.824840905451097\n",
      "Root Mean Squared Error with 69 neighbors: 4.1018094672292005\n",
      "\n",
      "Mean Absolute Error with 70 neighbors: 3.287315660288136\n",
      "Mean Squared Error with 70 neighbors: 16.822717978749843\n",
      "Root Mean Squared Error with 70 neighbors: 4.101550679773425\n",
      "\n",
      "Mean Absolute Error with 71 neighbors: 3.2871104980429506\n",
      "Mean Squared Error with 71 neighbors: 16.81474557033447\n",
      "Root Mean Squared Error with 71 neighbors: 4.100578687250675\n",
      "\n",
      "Mean Absolute Error with 72 neighbors: 3.286303137333046\n",
      "Mean Squared Error with 72 neighbors: 16.80369880704166\n",
      "Root Mean Squared Error with 72 neighbors: 4.099231489808993\n",
      "\n",
      "Mean Absolute Error with 73 neighbors: 3.285430965497446\n",
      "Mean Squared Error with 73 neighbors: 16.796826139430657\n",
      "Root Mean Squared Error with 73 neighbors: 4.098393116750839\n",
      "\n",
      "Mean Absolute Error with 74 neighbors: 3.2871189746478753\n",
      "Mean Squared Error with 74 neighbors: 16.807481948284956\n",
      "Root Mean Squared Error with 74 neighbors: 4.099692909021962\n",
      "\n",
      "Mean Absolute Error with 75 neighbors: 3.290193203515784\n",
      "Mean Squared Error with 75 neighbors: 16.825471904150238\n",
      "Root Mean Squared Error with 75 neighbors: 4.101886383622813\n",
      "\n",
      "Mean Absolute Error with 76 neighbors: 3.289392144453784\n",
      "Mean Squared Error with 76 neighbors: 16.81945216734528\n",
      "Root Mean Squared Error with 76 neighbors: 4.101152541340699\n",
      "\n",
      "Mean Absolute Error with 77 neighbors: 3.2876605525091565\n",
      "Mean Squared Error with 77 neighbors: 16.811551834148222\n",
      "Root Mean Squared Error with 77 neighbors: 4.100189243699396\n",
      "\n",
      "Mean Absolute Error with 78 neighbors: 3.287479219905393\n",
      "Mean Squared Error with 78 neighbors: 16.810303067995893\n",
      "Root Mean Squared Error with 78 neighbors: 4.100036959345109\n",
      "\n",
      "Mean Absolute Error with 79 neighbors: 3.287834761556159\n",
      "Mean Squared Error with 79 neighbors: 16.801201904810085\n",
      "Root Mean Squared Error with 79 neighbors: 4.09892692113559\n",
      "\n",
      "Mean Absolute Error with 80 neighbors: 3.28818886025573\n",
      "Mean Squared Error with 80 neighbors: 16.798930840342646\n",
      "Root Mean Squared Error with 80 neighbors: 4.09864988018526\n",
      "\n"
     ]
    },
    {
     "data": {
      "text/plain": [
       "{45: 4.093921840711748,\n",
       " 46: 4.095331619456619,\n",
       " 48: 4.096173398084173,\n",
       " 47: 4.096656561178963,\n",
       " 52: 4.097345392322058,\n",
       " 44: 4.097387468398816,\n",
       " 50: 4.0975063496337345,\n",
       " 49: 4.097717048661715,\n",
       " 73: 4.098393116750839,\n",
       " 51: 4.098500077566805,\n",
       " 80: 4.09864988018526,\n",
       " 79: 4.09892692113559,\n",
       " 53: 4.098990482530309,\n",
       " 72: 4.099231489808993,\n",
       " 43: 4.099321801940492,\n",
       " 74: 4.099692909021962,\n",
       " 78: 4.100036959345109,\n",
       " 77: 4.100189243699396,\n",
       " 59: 4.100282366511751,\n",
       " 62: 4.100420373153452,\n",
       " 54: 4.100444580318195,\n",
       " 71: 4.100578687250675,\n",
       " 57: 4.100813835114119,\n",
       " 76: 4.101152541340699,\n",
       " 58: 4.10119355878547,\n",
       " 55: 4.101327648561375,\n",
       " 70: 4.101550679773425,\n",
       " 56: 4.10171500654127,\n",
       " 69: 4.1018094672292005,\n",
       " 42: 4.101820629451667,\n",
       " 75: 4.101886383622813,\n",
       " 60: 4.1021097642744815,\n",
       " 61: 4.1022456568641825,\n",
       " 67: 4.1032806679869,\n",
       " 65: 4.103294142331159,\n",
       " 63: 4.103431096092506,\n",
       " 64: 4.103542067787457,\n",
       " 68: 4.103793208329929,\n",
       " 41: 4.104110126329821,\n",
       " 66: 4.104439933008311,\n",
       " 39: 4.104722114896882,\n",
       " 40: 4.104785002945942,\n",
       " 38: 4.107452526431169,\n",
       " 37: 4.108922912152057,\n",
       " 35: 4.111518543653881,\n",
       " 36: 4.111869401388092,\n",
       " 34: 4.119690525943644,\n",
       " 32: 4.119955542487086,\n",
       " 29: 4.1227589216596385,\n",
       " 33: 4.123364374441215,\n",
       " 28: 4.1265644304227225,\n",
       " 31: 4.126896436257033,\n",
       " 30: 4.128276264112599,\n",
       " 27: 4.1298270544891835,\n",
       " 26: 4.1319347191381475,\n",
       " 25: 4.1332890973811445,\n",
       " 24: 4.133860174358256,\n",
       " 23: 4.137700992678819,\n",
       " 22: 4.144799898321933,\n",
       " 21: 4.146262610530038,\n",
       " 20: 4.153974865096988,\n",
       " 19: 4.159640124883689,\n",
       " 18: 4.163570840061276,\n",
       " 17: 4.176708654319691,\n",
       " 14: 4.17690143974976,\n",
       " 13: 4.1840334390977665,\n",
       " 16: 4.185522293637526,\n",
       " 15: 4.187672913103226,\n",
       " 12: 4.209192996057509,\n",
       " 11: 4.21974119543098,\n",
       " 10: 4.237988745782035,\n",
       " 9: 4.258899685336792,\n",
       " 8: 4.293523805802013,\n",
       " 7: 4.33621562906466,\n",
       " 6: 4.397036227605058,\n",
       " 5: 4.435699492077682,\n",
       " 4: 4.5097050780794214,\n",
       " 3: 4.669039458415568,\n",
       " 2: 4.961182672028093,\n",
       " 1: 5.633387441538026}"
      ]
     },
     "execution_count": 72,
     "metadata": {},
     "output_type": "execute_result"
    }
   ],
   "source": [
    "# Lists to store the RMSE values and corresponding number of neighbors\n",
    "rmse_list = []\n",
    "neighbors_list = []\n",
    "\n",
    "# Loop over a range of 1 to 80 neighbors\n",
    "for i in range(1, 81):\n",
    "    knn = KNeighborsRegressor(n_neighbors=i)\n",
    "    knn.fit(X_train_scaled, y_train)\n",
    "    y_pred = knn.predict(X_test_scaled)\n",
    "    \n",
    "    # Calculate and print the errors\n",
    "    print(f\"Mean Absolute Error with {i} neighbors: {mean_absolute_error(y_test, y_pred)}\")\n",
    "    print(f\"Mean Squared Error with {i} neighbors: {mean_squared_error(y_test, y_pred)}\")\n",
    "    print(f\"Root Mean Squared Error with {i} neighbors: {mean_squared_error(y_test, y_pred, squared=False)}\")\n",
    "    print()\n",
    "    \n",
    "    # Append the results to the lists\n",
    "    rmse_list.append(mean_squared_error(y_test, y_pred, squared=False))\n",
    "    neighbors_list.append(i)\n",
    "\n",
    "# Combine the lists into a dictionary and sort by RMSE\n",
    "knn_dict = dict(zip(neighbors_list, rmse_list))\n",
    "sorted_knn = dict(sorted(knn_dict.items(), key=lambda item: item[1]))\n",
    "\n",
    "sorted_knn"
   ]
  },
  {
   "cell_type": "code",
   "execution_count": 73,
   "id": "ac2fdc54-8e5d-4cd9-a11e-a7daf91cefbf",
   "metadata": {},
   "outputs": [
    {
     "name": "stdout",
     "output_type": "stream",
     "text": [
      "45: 4.093921840711748\n"
     ]
    }
   ],
   "source": [
    "for i, (k, v) in enumerate(sorted_knn.items()):\n",
    "    neighbors = k\n",
    "    best_rmse = v\n",
    "    print(f\"{k}: {v}\")\n",
    "    break"
   ]
  },
  {
   "cell_type": "code",
   "execution_count": 74,
   "id": "2d01bb40-929d-4d97-9c6b-29e341f490cd",
   "metadata": {},
   "outputs": [],
   "source": [
    "error_dict['KNN'] = [neighbors, min(rmse_list)]"
   ]
  },
  {
   "cell_type": "code",
   "execution_count": null,
   "id": "7431bd26-bad5-4897-a72e-fbf9d82e7da0",
   "metadata": {},
   "outputs": [],
   "source": []
  },
  {
   "cell_type": "markdown",
   "id": "753b0b07-f75d-4bb3-9ff2-02b13655b413",
   "metadata": {},
   "source": [
    "# Linear Regression"
   ]
  },
  {
   "cell_type": "code",
   "execution_count": 75,
   "id": "73076578",
   "metadata": {},
   "outputs": [],
   "source": [
    "base_LR = LinearRegression()"
   ]
  },
  {
   "cell_type": "code",
   "execution_count": 76,
   "id": "c992de9b",
   "metadata": {},
   "outputs": [
    {
     "data": {
      "text/html": [
       "<style>#sk-container-id-1 {color: black;}#sk-container-id-1 pre{padding: 0;}#sk-container-id-1 div.sk-toggleable {background-color: white;}#sk-container-id-1 label.sk-toggleable__label {cursor: pointer;display: block;width: 100%;margin-bottom: 0;padding: 0.3em;box-sizing: border-box;text-align: center;}#sk-container-id-1 label.sk-toggleable__label-arrow:before {content: \"▸\";float: left;margin-right: 0.25em;color: #696969;}#sk-container-id-1 label.sk-toggleable__label-arrow:hover:before {color: black;}#sk-container-id-1 div.sk-estimator:hover label.sk-toggleable__label-arrow:before {color: black;}#sk-container-id-1 div.sk-toggleable__content {max-height: 0;max-width: 0;overflow: hidden;text-align: left;background-color: #f0f8ff;}#sk-container-id-1 div.sk-toggleable__content pre {margin: 0.2em;color: black;border-radius: 0.25em;background-color: #f0f8ff;}#sk-container-id-1 input.sk-toggleable__control:checked~div.sk-toggleable__content {max-height: 200px;max-width: 100%;overflow: auto;}#sk-container-id-1 input.sk-toggleable__control:checked~label.sk-toggleable__label-arrow:before {content: \"▾\";}#sk-container-id-1 div.sk-estimator input.sk-toggleable__control:checked~label.sk-toggleable__label {background-color: #d4ebff;}#sk-container-id-1 div.sk-label input.sk-toggleable__control:checked~label.sk-toggleable__label {background-color: #d4ebff;}#sk-container-id-1 input.sk-hidden--visually {border: 0;clip: rect(1px 1px 1px 1px);clip: rect(1px, 1px, 1px, 1px);height: 1px;margin: -1px;overflow: hidden;padding: 0;position: absolute;width: 1px;}#sk-container-id-1 div.sk-estimator {font-family: monospace;background-color: #f0f8ff;border: 1px dotted black;border-radius: 0.25em;box-sizing: border-box;margin-bottom: 0.5em;}#sk-container-id-1 div.sk-estimator:hover {background-color: #d4ebff;}#sk-container-id-1 div.sk-parallel-item::after {content: \"\";width: 100%;border-bottom: 1px solid gray;flex-grow: 1;}#sk-container-id-1 div.sk-label:hover label.sk-toggleable__label {background-color: #d4ebff;}#sk-container-id-1 div.sk-serial::before {content: \"\";position: absolute;border-left: 1px solid gray;box-sizing: border-box;top: 0;bottom: 0;left: 50%;z-index: 0;}#sk-container-id-1 div.sk-serial {display: flex;flex-direction: column;align-items: center;background-color: white;padding-right: 0.2em;padding-left: 0.2em;position: relative;}#sk-container-id-1 div.sk-item {position: relative;z-index: 1;}#sk-container-id-1 div.sk-parallel {display: flex;align-items: stretch;justify-content: center;background-color: white;position: relative;}#sk-container-id-1 div.sk-item::before, #sk-container-id-1 div.sk-parallel-item::before {content: \"\";position: absolute;border-left: 1px solid gray;box-sizing: border-box;top: 0;bottom: 0;left: 50%;z-index: -1;}#sk-container-id-1 div.sk-parallel-item {display: flex;flex-direction: column;z-index: 1;position: relative;background-color: white;}#sk-container-id-1 div.sk-parallel-item:first-child::after {align-self: flex-end;width: 50%;}#sk-container-id-1 div.sk-parallel-item:last-child::after {align-self: flex-start;width: 50%;}#sk-container-id-1 div.sk-parallel-item:only-child::after {width: 0;}#sk-container-id-1 div.sk-dashed-wrapped {border: 1px dashed gray;margin: 0 0.4em 0.5em 0.4em;box-sizing: border-box;padding-bottom: 0.4em;background-color: white;}#sk-container-id-1 div.sk-label label {font-family: monospace;font-weight: bold;display: inline-block;line-height: 1.2em;}#sk-container-id-1 div.sk-label-container {text-align: center;}#sk-container-id-1 div.sk-container {/* jupyter's `normalize.less` sets `[hidden] { display: none; }` but bootstrap.min.css set `[hidden] { display: none !important; }` so we also need the `!important` here to be able to override the default hidden behavior on the sphinx rendered scikit-learn.org. See: https://github.com/scikit-learn/scikit-learn/issues/21755 */display: inline-block !important;position: relative;}#sk-container-id-1 div.sk-text-repr-fallback {display: none;}</style><div id=\"sk-container-id-1\" class=\"sk-top-container\"><div class=\"sk-text-repr-fallback\"><pre>LinearRegression()</pre><b>In a Jupyter environment, please rerun this cell to show the HTML representation or trust the notebook. <br />On GitHub, the HTML representation is unable to render, please try loading this page with nbviewer.org.</b></div><div class=\"sk-container\" hidden><div class=\"sk-item\"><div class=\"sk-estimator sk-toggleable\"><input class=\"sk-toggleable__control sk-hidden--visually\" id=\"sk-estimator-id-1\" type=\"checkbox\" checked><label for=\"sk-estimator-id-1\" class=\"sk-toggleable__label sk-toggleable__label-arrow\">LinearRegression</label><div class=\"sk-toggleable__content\"><pre>LinearRegression()</pre></div></div></div></div></div>"
      ],
      "text/plain": [
       "LinearRegression()"
      ]
     },
     "execution_count": 76,
     "metadata": {},
     "output_type": "execute_result"
    }
   ],
   "source": [
    "base_LR.fit(X_train_scaled, y_train)"
   ]
  },
  {
   "cell_type": "code",
   "execution_count": 77,
   "id": "188a06d4",
   "metadata": {},
   "outputs": [],
   "source": [
    "base_LR_pred = base_LR.predict(X_test_scaled)"
   ]
  },
  {
   "cell_type": "code",
   "execution_count": 78,
   "id": "e92ac4af",
   "metadata": {},
   "outputs": [
    {
     "name": "stdout",
     "output_type": "stream",
     "text": [
      "R_squared_train: 0.08921588555350612\n",
      "R_squared_test: 0.06510430241764442\n",
      "MAE: 3.349950238484027\n",
      "MSE: 17.280401861872505\n",
      "RMSE: 4.156970274355171\n"
     ]
    }
   ],
   "source": [
    "print(f\"R_squared_train: {base_LR.score(X_train_scaled, y_train)}\")\n",
    "print(f\"R_squared_test: {base_LR.score(X_test_scaled, y_test)}\")\n",
    "print(f\"MAE: {mean_absolute_error(y_test, base_LR_pred)}\")\n",
    "print(f\"MSE: {mean_squared_error(y_test, base_LR_pred)}\")\n",
    "print(f\"RMSE: {mean_squared_error(y_test, base_LR_pred, squared = False)}\")"
   ]
  },
  {
   "cell_type": "code",
   "execution_count": 79,
   "id": "3af123c6",
   "metadata": {},
   "outputs": [],
   "source": [
    "from sklearn.linear_model import Ridge\n",
    "from sklearn.model_selection import GridSearchCV"
   ]
  },
  {
   "cell_type": "code",
   "execution_count": 80,
   "id": "4ed6d833",
   "metadata": {},
   "outputs": [],
   "source": [
    "alpha_values = np.linspace(0.1, 100, 50)"
   ]
  },
  {
   "cell_type": "code",
   "execution_count": 81,
   "id": "da606b8f",
   "metadata": {},
   "outputs": [
    {
     "name": "stdout",
     "output_type": "stream",
     "text": [
      "Ridge_model best params: {'alpha': 100.0}\n",
      "Ridge_model best score: 4.131592606993969\n"
     ]
    }
   ],
   "source": [
    "param_grid = {'alpha': alpha_values}\n",
    "Ridge_LR = Ridge()\n",
    "Ridge_CV = GridSearchCV(Ridge_LR, param_grid, cv = 5, scoring = 'neg_root_mean_squared_error')\n",
    "Ridge_CV.fit(X_train_scaled, y_train)\n",
    "best_params = Ridge_CV.best_params_\n",
    "print(f\"Ridge_model best params: {best_params}\")\n",
    "print(f\"Ridge_model best score: {-Ridge_CV.best_score_}\")"
   ]
  },
  {
   "cell_type": "code",
   "execution_count": 82,
   "id": "1fa38836",
   "metadata": {},
   "outputs": [
    {
     "name": "stdout",
     "output_type": "stream",
     "text": [
      "best_ridge train R-squared: 0.08931152594843206\n",
      "best_ridge test R-squared: 0.06419585085170088\n",
      "best_ridge MAE: 3.349874978336791\n",
      "best_ridge RMSE: 4.158989477787983\n",
      "best_ridge MSE: 17.297193476351154\n"
     ]
    }
   ],
   "source": [
    "best_ridge = Ridge(alpha=100, random_state=42)\n",
    "best_ridge.fit(X_train_scaled, y_train)  # Use the correct variable name\n",
    "y_pred = best_ridge.predict(X_test_scaled)  # Use the correct variable name\n",
    "\n",
    "best_rmse = mean_squared_error(y_test, y_pred, squared=False)\n",
    "print(f\"best_ridge train R-squared: {best_ridge.score(X_train_scaled, y_train)}\")\n",
    "print(f\"best_ridge test R-squared: {best_ridge.score(X_test_scaled, y_test)}\")\n",
    "print(f\"best_ridge MAE: {mean_absolute_error(y_test, y_pred)}\")\n",
    "print(f\"best_ridge RMSE: {best_rmse}\")\n",
    "print(f\"best_ridge MSE: {mean_squared_error(y_test, y_pred)}\")"
   ]
  },
  {
   "cell_type": "code",
   "execution_count": 83,
   "id": "9ab1014f",
   "metadata": {},
   "outputs": [],
   "source": [
    "error_dict['Ridge'] = [best_params, best_rmse]"
   ]
  },
  {
   "cell_type": "code",
   "execution_count": null,
   "id": "626a351b-150c-46f7-9163-720452efcd6f",
   "metadata": {},
   "outputs": [],
   "source": []
  },
  {
   "cell_type": "markdown",
   "id": "a0bf77b7-7c50-4ba5-913c-ad837b182e46",
   "metadata": {},
   "source": [
    "# Random Forest"
   ]
  },
  {
   "cell_type": "code",
   "execution_count": 85,
   "id": "83a86cd4",
   "metadata": {},
   "outputs": [],
   "source": [
    "from sklearn.ensemble import RandomForestRegressor"
   ]
  },
  {
   "cell_type": "code",
   "execution_count": 86,
   "id": "6008a566",
   "metadata": {},
   "outputs": [],
   "source": [
    "base_RF = RandomForestRegressor(random_state = 42)"
   ]
  },
  {
   "cell_type": "code",
   "execution_count": 87,
   "id": "6fbd9e3a",
   "metadata": {},
   "outputs": [
    {
     "name": "stderr",
     "output_type": "stream",
     "text": [
      "C:\\Users\\Owner\\anaconda3\\envs\\nfl_dfs_model\\lib\\site-packages\\sklearn\\base.py:1152: DataConversionWarning: A column-vector y was passed when a 1d array was expected. Please change the shape of y to (n_samples,), for example using ravel().\n",
      "  return fit_method(estimator, *args, **kwargs)\n"
     ]
    },
    {
     "data": {
      "text/html": [
       "<style>#sk-container-id-2 {color: black;}#sk-container-id-2 pre{padding: 0;}#sk-container-id-2 div.sk-toggleable {background-color: white;}#sk-container-id-2 label.sk-toggleable__label {cursor: pointer;display: block;width: 100%;margin-bottom: 0;padding: 0.3em;box-sizing: border-box;text-align: center;}#sk-container-id-2 label.sk-toggleable__label-arrow:before {content: \"▸\";float: left;margin-right: 0.25em;color: #696969;}#sk-container-id-2 label.sk-toggleable__label-arrow:hover:before {color: black;}#sk-container-id-2 div.sk-estimator:hover label.sk-toggleable__label-arrow:before {color: black;}#sk-container-id-2 div.sk-toggleable__content {max-height: 0;max-width: 0;overflow: hidden;text-align: left;background-color: #f0f8ff;}#sk-container-id-2 div.sk-toggleable__content pre {margin: 0.2em;color: black;border-radius: 0.25em;background-color: #f0f8ff;}#sk-container-id-2 input.sk-toggleable__control:checked~div.sk-toggleable__content {max-height: 200px;max-width: 100%;overflow: auto;}#sk-container-id-2 input.sk-toggleable__control:checked~label.sk-toggleable__label-arrow:before {content: \"▾\";}#sk-container-id-2 div.sk-estimator input.sk-toggleable__control:checked~label.sk-toggleable__label {background-color: #d4ebff;}#sk-container-id-2 div.sk-label input.sk-toggleable__control:checked~label.sk-toggleable__label {background-color: #d4ebff;}#sk-container-id-2 input.sk-hidden--visually {border: 0;clip: rect(1px 1px 1px 1px);clip: rect(1px, 1px, 1px, 1px);height: 1px;margin: -1px;overflow: hidden;padding: 0;position: absolute;width: 1px;}#sk-container-id-2 div.sk-estimator {font-family: monospace;background-color: #f0f8ff;border: 1px dotted black;border-radius: 0.25em;box-sizing: border-box;margin-bottom: 0.5em;}#sk-container-id-2 div.sk-estimator:hover {background-color: #d4ebff;}#sk-container-id-2 div.sk-parallel-item::after {content: \"\";width: 100%;border-bottom: 1px solid gray;flex-grow: 1;}#sk-container-id-2 div.sk-label:hover label.sk-toggleable__label {background-color: #d4ebff;}#sk-container-id-2 div.sk-serial::before {content: \"\";position: absolute;border-left: 1px solid gray;box-sizing: border-box;top: 0;bottom: 0;left: 50%;z-index: 0;}#sk-container-id-2 div.sk-serial {display: flex;flex-direction: column;align-items: center;background-color: white;padding-right: 0.2em;padding-left: 0.2em;position: relative;}#sk-container-id-2 div.sk-item {position: relative;z-index: 1;}#sk-container-id-2 div.sk-parallel {display: flex;align-items: stretch;justify-content: center;background-color: white;position: relative;}#sk-container-id-2 div.sk-item::before, #sk-container-id-2 div.sk-parallel-item::before {content: \"\";position: absolute;border-left: 1px solid gray;box-sizing: border-box;top: 0;bottom: 0;left: 50%;z-index: -1;}#sk-container-id-2 div.sk-parallel-item {display: flex;flex-direction: column;z-index: 1;position: relative;background-color: white;}#sk-container-id-2 div.sk-parallel-item:first-child::after {align-self: flex-end;width: 50%;}#sk-container-id-2 div.sk-parallel-item:last-child::after {align-self: flex-start;width: 50%;}#sk-container-id-2 div.sk-parallel-item:only-child::after {width: 0;}#sk-container-id-2 div.sk-dashed-wrapped {border: 1px dashed gray;margin: 0 0.4em 0.5em 0.4em;box-sizing: border-box;padding-bottom: 0.4em;background-color: white;}#sk-container-id-2 div.sk-label label {font-family: monospace;font-weight: bold;display: inline-block;line-height: 1.2em;}#sk-container-id-2 div.sk-label-container {text-align: center;}#sk-container-id-2 div.sk-container {/* jupyter's `normalize.less` sets `[hidden] { display: none; }` but bootstrap.min.css set `[hidden] { display: none !important; }` so we also need the `!important` here to be able to override the default hidden behavior on the sphinx rendered scikit-learn.org. See: https://github.com/scikit-learn/scikit-learn/issues/21755 */display: inline-block !important;position: relative;}#sk-container-id-2 div.sk-text-repr-fallback {display: none;}</style><div id=\"sk-container-id-2\" class=\"sk-top-container\"><div class=\"sk-text-repr-fallback\"><pre>RandomForestRegressor(random_state=42)</pre><b>In a Jupyter environment, please rerun this cell to show the HTML representation or trust the notebook. <br />On GitHub, the HTML representation is unable to render, please try loading this page with nbviewer.org.</b></div><div class=\"sk-container\" hidden><div class=\"sk-item\"><div class=\"sk-estimator sk-toggleable\"><input class=\"sk-toggleable__control sk-hidden--visually\" id=\"sk-estimator-id-2\" type=\"checkbox\" checked><label for=\"sk-estimator-id-2\" class=\"sk-toggleable__label sk-toggleable__label-arrow\">RandomForestRegressor</label><div class=\"sk-toggleable__content\"><pre>RandomForestRegressor(random_state=42)</pre></div></div></div></div></div>"
      ],
      "text/plain": [
       "RandomForestRegressor(random_state=42)"
      ]
     },
     "execution_count": 87,
     "metadata": {},
     "output_type": "execute_result"
    }
   ],
   "source": [
    "base_RF.fit(X_train_scaled, y_train)"
   ]
  },
  {
   "cell_type": "code",
   "execution_count": 88,
   "id": "2222c7c0",
   "metadata": {},
   "outputs": [],
   "source": [
    "base_RF_pred = base_RF.predict(X_test_scaled)"
   ]
  },
  {
   "cell_type": "code",
   "execution_count": 89,
   "id": "460fa0d5",
   "metadata": {},
   "outputs": [
    {
     "name": "stdout",
     "output_type": "stream",
     "text": [
      "R_squared_train: 0.8701539230154418\n",
      "R_squared_test: 0.022158193982793062\n",
      "MAE: 3.353569988549899\n",
      "MSE: 18.074208073706536\n",
      "RMSE: 4.251377197298134\n"
     ]
    }
   ],
   "source": [
    "print(f\"R_squared_train: {base_RF.score(X_train_scaled, y_train)}\")\n",
    "print(f\"R_squared_test: {base_RF.score(X_test_scaled, y_test)}\")\n",
    "print(f\"MAE: {mean_absolute_error(y_test, base_RF_pred)}\")\n",
    "print(f\"MSE: {mean_squared_error(y_test, base_RF_pred)}\")\n",
    "print(f\"RMSE: {mean_squared_error(y_test, base_RF_pred, squared = False)}\")"
   ]
  },
  {
   "cell_type": "code",
   "execution_count": 90,
   "id": "0b722161",
   "metadata": {},
   "outputs": [],
   "source": [
    "from sklearn.metrics import make_scorer"
   ]
  },
  {
   "cell_type": "code",
   "execution_count": 91,
   "id": "575ff3b7-a5ce-41cc-acb5-63375c097508",
   "metadata": {},
   "outputs": [],
   "source": [
    "rmse_scorer = make_scorer(mean_squared_error, squared=False, greater_is_better=False)"
   ]
  },
  {
   "cell_type": "code",
   "execution_count": 92,
   "id": "22ec6a64",
   "metadata": {},
   "outputs": [
    {
     "name": "stdout",
     "output_type": "stream",
     "text": [
      "Fitting 5 folds for each of 9 candidates, totalling 45 fits\n"
     ]
    },
    {
     "name": "stderr",
     "output_type": "stream",
     "text": [
      "C:\\Users\\Owner\\anaconda3\\envs\\nfl_dfs_model\\lib\\site-packages\\sklearn\\base.py:1152: DataConversionWarning: A column-vector y was passed when a 1d array was expected. Please change the shape of y to (n_samples,), for example using ravel().\n",
      "  return fit_method(estimator, *args, **kwargs)\n"
     ]
    },
    {
     "name": "stdout",
     "output_type": "stream",
     "text": [
      "Tuned Random Forest Best Estimator: RandomForestRegressor(max_depth=4, random_state=42)\n",
      "Tuned Random Forest Best Score: -4.055598614010492\n",
      "Tuned Random Forest Best Params: {'max_depth': 4, 'n_estimators': 100}\n"
     ]
    }
   ],
   "source": [
    "param_grid = {'max_depth': [2, 3, 4], 'n_estimators': [100, 200, 300]}\n",
    "RF_CV = GridSearchCV(base_RF, param_grid, scoring=rmse_scorer, cv = 5, n_jobs = 2, verbose = 3)\n",
    "RF_CV.fit(X_train_scaled, y_train)\n",
    "best_params = RF_CV.best_params_\n",
    "print(f\"Tuned Random Forest Best Estimator: {RF_CV.best_estimator_}\")\n",
    "print(f\"Tuned Random Forest Best Score: {RF_CV.best_score_}\")\n",
    "print(f\"Tuned Random Forest Best Params: {best_params}\")"
   ]
  },
  {
   "cell_type": "code",
   "execution_count": 93,
   "id": "8336ac3f",
   "metadata": {},
   "outputs": [
    {
     "name": "stderr",
     "output_type": "stream",
     "text": [
      "C:\\Users\\Owner\\anaconda3\\envs\\nfl_dfs_model\\lib\\site-packages\\sklearn\\base.py:1152: DataConversionWarning: A column-vector y was passed when a 1d array was expected. Please change the shape of y to (n_samples,), for example using ravel().\n",
      "  return fit_method(estimator, *args, **kwargs)\n"
     ]
    },
    {
     "name": "stdout",
     "output_type": "stream",
     "text": [
      "Best_RF Train R-squared: 0.14753070124432321\n",
      "Best_RF Test R-squared: 0.10620532675144467\n",
      "Best_RF MAE: 3.222125227945887\n",
      "Best_RF RMSE: 4.064566369207579\n",
      "Best_RF MSE: 16.52069976969328\n"
     ]
    }
   ],
   "source": [
    "best_RF = RandomForestRegressor(max_depth=4, n_estimators=100, random_state=42)\n",
    "best_RF.fit(X_train_scaled, y_train)  # Correct the variable name for consistency\n",
    "y_pred = best_RF.predict(X_test_scaled)  # Correct the variable name for consistency\n",
    "\n",
    "best_rmse = mean_squared_error(y_test, y_pred, squared=False)\n",
    "print(f\"Best_RF Train R-squared: {best_RF.score(X_train_scaled, y_train)}\")\n",
    "print(f\"Best_RF Test R-squared: {best_RF.score(X_test_scaled, y_test)}\")\n",
    "print(f\"Best_RF MAE: {mean_absolute_error(y_test, y_pred)}\")\n",
    "print(f\"Best_RF RMSE: {best_rmse}\")\n",
    "print(f\"Best_RF MSE: {mean_squared_error(y_test, y_pred)}\")"
   ]
  },
  {
   "cell_type": "code",
   "execution_count": 94,
   "id": "85e6f211-31df-4efd-bd21-33e6615c9b96",
   "metadata": {},
   "outputs": [],
   "source": [
    "error_dict[\"Random Forest\"] = [best_params, best_rmse]"
   ]
  },
  {
   "cell_type": "code",
   "execution_count": 95,
   "id": "b9711729-85d1-42e1-858f-0e78f316b822",
   "metadata": {},
   "outputs": [
    {
     "data": {
      "text/plain": [
       "defaultdict(float,\n",
       "            {'KNN': [45, 4.093921840711748],\n",
       "             'Ridge': [{'alpha': 100.0}, 4.158989477787983],\n",
       "             'Random Forest': [{'max_depth': 4, 'n_estimators': 100},\n",
       "              4.064566369207579]})"
      ]
     },
     "execution_count": 95,
     "metadata": {},
     "output_type": "execute_result"
    }
   ],
   "source": [
    "error_dict"
   ]
  },
  {
   "cell_type": "code",
   "execution_count": null,
   "id": "0ea6b6bc-9782-46a3-b980-496f746c426b",
   "metadata": {},
   "outputs": [],
   "source": []
  },
  {
   "cell_type": "markdown",
   "id": "a312c111-3571-48e7-860e-cd29d2c4a4af",
   "metadata": {},
   "source": [
    "# Gradient Boost"
   ]
  },
  {
   "cell_type": "code",
   "execution_count": 96,
   "id": "0dd83e67",
   "metadata": {},
   "outputs": [],
   "source": [
    "from sklearn.ensemble import GradientBoostingRegressor"
   ]
  },
  {
   "cell_type": "code",
   "execution_count": 97,
   "id": "e6000738",
   "metadata": {},
   "outputs": [],
   "source": [
    "base_GB = GradientBoostingRegressor(random_state = 42)"
   ]
  },
  {
   "cell_type": "code",
   "execution_count": 98,
   "id": "6440a3ec",
   "metadata": {},
   "outputs": [
    {
     "name": "stderr",
     "output_type": "stream",
     "text": [
      "C:\\Users\\Owner\\anaconda3\\envs\\nfl_dfs_model\\lib\\site-packages\\sklearn\\ensemble\\_gb.py:424: DataConversionWarning: A column-vector y was passed when a 1d array was expected. Please change the shape of y to (n_samples, ), for example using ravel().\n",
      "  y = column_or_1d(y, warn=True)\n"
     ]
    },
    {
     "data": {
      "text/html": [
       "<style>#sk-container-id-3 {color: black;}#sk-container-id-3 pre{padding: 0;}#sk-container-id-3 div.sk-toggleable {background-color: white;}#sk-container-id-3 label.sk-toggleable__label {cursor: pointer;display: block;width: 100%;margin-bottom: 0;padding: 0.3em;box-sizing: border-box;text-align: center;}#sk-container-id-3 label.sk-toggleable__label-arrow:before {content: \"▸\";float: left;margin-right: 0.25em;color: #696969;}#sk-container-id-3 label.sk-toggleable__label-arrow:hover:before {color: black;}#sk-container-id-3 div.sk-estimator:hover label.sk-toggleable__label-arrow:before {color: black;}#sk-container-id-3 div.sk-toggleable__content {max-height: 0;max-width: 0;overflow: hidden;text-align: left;background-color: #f0f8ff;}#sk-container-id-3 div.sk-toggleable__content pre {margin: 0.2em;color: black;border-radius: 0.25em;background-color: #f0f8ff;}#sk-container-id-3 input.sk-toggleable__control:checked~div.sk-toggleable__content {max-height: 200px;max-width: 100%;overflow: auto;}#sk-container-id-3 input.sk-toggleable__control:checked~label.sk-toggleable__label-arrow:before {content: \"▾\";}#sk-container-id-3 div.sk-estimator input.sk-toggleable__control:checked~label.sk-toggleable__label {background-color: #d4ebff;}#sk-container-id-3 div.sk-label input.sk-toggleable__control:checked~label.sk-toggleable__label {background-color: #d4ebff;}#sk-container-id-3 input.sk-hidden--visually {border: 0;clip: rect(1px 1px 1px 1px);clip: rect(1px, 1px, 1px, 1px);height: 1px;margin: -1px;overflow: hidden;padding: 0;position: absolute;width: 1px;}#sk-container-id-3 div.sk-estimator {font-family: monospace;background-color: #f0f8ff;border: 1px dotted black;border-radius: 0.25em;box-sizing: border-box;margin-bottom: 0.5em;}#sk-container-id-3 div.sk-estimator:hover {background-color: #d4ebff;}#sk-container-id-3 div.sk-parallel-item::after {content: \"\";width: 100%;border-bottom: 1px solid gray;flex-grow: 1;}#sk-container-id-3 div.sk-label:hover label.sk-toggleable__label {background-color: #d4ebff;}#sk-container-id-3 div.sk-serial::before {content: \"\";position: absolute;border-left: 1px solid gray;box-sizing: border-box;top: 0;bottom: 0;left: 50%;z-index: 0;}#sk-container-id-3 div.sk-serial {display: flex;flex-direction: column;align-items: center;background-color: white;padding-right: 0.2em;padding-left: 0.2em;position: relative;}#sk-container-id-3 div.sk-item {position: relative;z-index: 1;}#sk-container-id-3 div.sk-parallel {display: flex;align-items: stretch;justify-content: center;background-color: white;position: relative;}#sk-container-id-3 div.sk-item::before, #sk-container-id-3 div.sk-parallel-item::before {content: \"\";position: absolute;border-left: 1px solid gray;box-sizing: border-box;top: 0;bottom: 0;left: 50%;z-index: -1;}#sk-container-id-3 div.sk-parallel-item {display: flex;flex-direction: column;z-index: 1;position: relative;background-color: white;}#sk-container-id-3 div.sk-parallel-item:first-child::after {align-self: flex-end;width: 50%;}#sk-container-id-3 div.sk-parallel-item:last-child::after {align-self: flex-start;width: 50%;}#sk-container-id-3 div.sk-parallel-item:only-child::after {width: 0;}#sk-container-id-3 div.sk-dashed-wrapped {border: 1px dashed gray;margin: 0 0.4em 0.5em 0.4em;box-sizing: border-box;padding-bottom: 0.4em;background-color: white;}#sk-container-id-3 div.sk-label label {font-family: monospace;font-weight: bold;display: inline-block;line-height: 1.2em;}#sk-container-id-3 div.sk-label-container {text-align: center;}#sk-container-id-3 div.sk-container {/* jupyter's `normalize.less` sets `[hidden] { display: none; }` but bootstrap.min.css set `[hidden] { display: none !important; }` so we also need the `!important` here to be able to override the default hidden behavior on the sphinx rendered scikit-learn.org. See: https://github.com/scikit-learn/scikit-learn/issues/21755 */display: inline-block !important;position: relative;}#sk-container-id-3 div.sk-text-repr-fallback {display: none;}</style><div id=\"sk-container-id-3\" class=\"sk-top-container\"><div class=\"sk-text-repr-fallback\"><pre>GradientBoostingRegressor(random_state=42)</pre><b>In a Jupyter environment, please rerun this cell to show the HTML representation or trust the notebook. <br />On GitHub, the HTML representation is unable to render, please try loading this page with nbviewer.org.</b></div><div class=\"sk-container\" hidden><div class=\"sk-item\"><div class=\"sk-estimator sk-toggleable\"><input class=\"sk-toggleable__control sk-hidden--visually\" id=\"sk-estimator-id-3\" type=\"checkbox\" checked><label for=\"sk-estimator-id-3\" class=\"sk-toggleable__label sk-toggleable__label-arrow\">GradientBoostingRegressor</label><div class=\"sk-toggleable__content\"><pre>GradientBoostingRegressor(random_state=42)</pre></div></div></div></div></div>"
      ],
      "text/plain": [
       "GradientBoostingRegressor(random_state=42)"
      ]
     },
     "execution_count": 98,
     "metadata": {},
     "output_type": "execute_result"
    }
   ],
   "source": [
    "base_GB.fit(X_train_scaled, y_train)"
   ]
  },
  {
   "cell_type": "code",
   "execution_count": 99,
   "id": "6958f8cc",
   "metadata": {},
   "outputs": [],
   "source": [
    "y_pred = base_GB.predict(X_test_scaled)"
   ]
  },
  {
   "cell_type": "code",
   "execution_count": 100,
   "id": "d7127bd6",
   "metadata": {},
   "outputs": [
    {
     "name": "stdout",
     "output_type": "stream",
     "text": [
      "Base GB R_squared_train: 0.2131871540200373\n",
      "Base GB R_squared_test: 0.09533746067389903\n",
      "Base GB MAE: 3.2312561026218463\n",
      "Base GB MSE: 16.721578962619997\n",
      "Base GB RMSE: 4.089202729459619\n"
     ]
    }
   ],
   "source": [
    "print(f\"Base GB R_squared_train: {base_GB.score(X_train_scaled, y_train)}\")\n",
    "print(f\"Base GB R_squared_test: {base_GB.score(X_test_scaled, y_test)}\")\n",
    "print(f\"Base GB MAE: {mean_absolute_error(y_test, y_pred)}\")\n",
    "print(f\"Base GB MSE: {mean_squared_error(y_test, y_pred)}\")\n",
    "print(f\"Base GB RMSE: {mean_squared_error(y_test, y_pred, squared = False)}\")"
   ]
  },
  {
   "cell_type": "code",
   "execution_count": 101,
   "id": "72d26f25",
   "metadata": {},
   "outputs": [],
   "source": [
    "param_grid = {\n",
    "    'n_estimators': [100, 200, 300],\n",
    "    'learning_rate': [0.01, 0.1, 0.2],\n",
    "    'max_depth': [2, 3, 4]\n",
    "}"
   ]
  },
  {
   "cell_type": "code",
   "execution_count": 102,
   "id": "a2948296",
   "metadata": {},
   "outputs": [
    {
     "name": "stdout",
     "output_type": "stream",
     "text": [
      "Fitting 5 folds for each of 27 candidates, totalling 135 fits\n"
     ]
    },
    {
     "name": "stderr",
     "output_type": "stream",
     "text": [
      "C:\\Users\\Owner\\anaconda3\\envs\\nfl_dfs_model\\lib\\site-packages\\sklearn\\ensemble\\_gb.py:424: DataConversionWarning: A column-vector y was passed when a 1d array was expected. Please change the shape of y to (n_samples, ), for example using ravel().\n",
      "  y = column_or_1d(y, warn=True)\n"
     ]
    },
    {
     "name": "stdout",
     "output_type": "stream",
     "text": [
      "Tuned Gradient Boost Best Estimator: GradientBoostingRegressor(learning_rate=0.01, n_estimators=300, random_state=42)\n",
      "Tuned Gradient Boost Best Score: -4.054667857193908\n",
      "Tuned Gradient Boost Best Params: {'learning_rate': 0.01, 'max_depth': 3, 'n_estimators': 300}\n"
     ]
    }
   ],
   "source": [
    "GB_CV = GridSearchCV(base_GB, param_grid, scoring=rmse_scorer, cv = 5, n_jobs = 2, verbose = 3)\n",
    "GB_CV.fit(X_train_scaled, y_train)\n",
    "best_params = GB_CV.best_params_\n",
    "print(f\"Tuned Gradient Boost Best Estimator: {GB_CV.best_estimator_}\")\n",
    "print(f\"Tuned Gradient Boost Best Score: {GB_CV.best_score_}\")\n",
    "print(f\"Tuned Gradient Boost Best Params: {best_params}\")"
   ]
  },
  {
   "cell_type": "code",
   "execution_count": 103,
   "id": "1ef65c9e",
   "metadata": {},
   "outputs": [
    {
     "name": "stderr",
     "output_type": "stream",
     "text": [
      "C:\\Users\\Owner\\anaconda3\\envs\\nfl_dfs_model\\lib\\site-packages\\sklearn\\ensemble\\_gb.py:424: DataConversionWarning: A column-vector y was passed when a 1d array was expected. Please change the shape of y to (n_samples, ), for example using ravel().\n",
      "  y = column_or_1d(y, warn=True)\n"
     ]
    },
    {
     "name": "stdout",
     "output_type": "stream",
     "text": [
      "Best_GB Train R-squared: 0.1564978854137845\n",
      "Best_GB Test R-squared: 0.10582570560261806\n",
      "Best_GB MAE: 3.2238002888431505\n",
      "Best_GB RMSE: 4.065429448613024\n",
      "Best_GB MSE: 16.527716601649995\n"
     ]
    }
   ],
   "source": [
    "best_GB = GradientBoostingRegressor(max_depth=3, n_estimators=300, learning_rate = 0.01, random_state=42)\n",
    "best_GB.fit(X_train_scaled, y_train)  # Correct the variable name for consistency\n",
    "y_pred = best_GB.predict(X_test_scaled)  # Correct the variable name for consistency\n",
    "\n",
    "best_rmse = mean_squared_error(y_test, y_pred, squared=False)\n",
    "print(f\"Best_GB Train R-squared: {best_GB.score(X_train_scaled, y_train)}\")\n",
    "print(f\"Best_GB Test R-squared: {best_GB.score(X_test_scaled, y_test)}\")\n",
    "print(f\"Best_GB MAE: {mean_absolute_error(y_test, y_pred)}\")\n",
    "print(f\"Best_GB RMSE: {best_rmse}\")\n",
    "print(f\"Best_GB MSE: {mean_squared_error(y_test, y_pred)}\")"
   ]
  },
  {
   "cell_type": "code",
   "execution_count": 104,
   "id": "50d9d056-5e57-414a-93ff-e72c5a28be9b",
   "metadata": {},
   "outputs": [],
   "source": [
    "error_dict[\"Gradient Boost\"] = [best_params, best_rmse]"
   ]
  },
  {
   "cell_type": "code",
   "execution_count": null,
   "id": "a8b84555-8cab-4cb0-ad67-32e101df3605",
   "metadata": {},
   "outputs": [],
   "source": []
  },
  {
   "cell_type": "markdown",
   "id": "de8885f9-5c67-408c-abd8-e446bf02180d",
   "metadata": {},
   "source": [
    "# XG Boost"
   ]
  },
  {
   "cell_type": "code",
   "execution_count": 106,
   "id": "ea7153a1-598e-4f82-9ab9-577d43b1ece1",
   "metadata": {},
   "outputs": [],
   "source": [
    "import xgboost as xgb"
   ]
  },
  {
   "cell_type": "code",
   "execution_count": 107,
   "id": "732ce749-6d3f-4a55-a300-525268b6df2b",
   "metadata": {},
   "outputs": [],
   "source": [
    "base_XGB = xgb.XGBRegressor(objective='reg:squarederror', random_state=42)"
   ]
  },
  {
   "cell_type": "code",
   "execution_count": 108,
   "id": "719f7323-eec4-432d-b548-f1bb3aae18d7",
   "metadata": {},
   "outputs": [
    {
     "data": {
      "text/html": [
       "<style>#sk-container-id-4 {color: black;}#sk-container-id-4 pre{padding: 0;}#sk-container-id-4 div.sk-toggleable {background-color: white;}#sk-container-id-4 label.sk-toggleable__label {cursor: pointer;display: block;width: 100%;margin-bottom: 0;padding: 0.3em;box-sizing: border-box;text-align: center;}#sk-container-id-4 label.sk-toggleable__label-arrow:before {content: \"▸\";float: left;margin-right: 0.25em;color: #696969;}#sk-container-id-4 label.sk-toggleable__label-arrow:hover:before {color: black;}#sk-container-id-4 div.sk-estimator:hover label.sk-toggleable__label-arrow:before {color: black;}#sk-container-id-4 div.sk-toggleable__content {max-height: 0;max-width: 0;overflow: hidden;text-align: left;background-color: #f0f8ff;}#sk-container-id-4 div.sk-toggleable__content pre {margin: 0.2em;color: black;border-radius: 0.25em;background-color: #f0f8ff;}#sk-container-id-4 input.sk-toggleable__control:checked~div.sk-toggleable__content {max-height: 200px;max-width: 100%;overflow: auto;}#sk-container-id-4 input.sk-toggleable__control:checked~label.sk-toggleable__label-arrow:before {content: \"▾\";}#sk-container-id-4 div.sk-estimator input.sk-toggleable__control:checked~label.sk-toggleable__label {background-color: #d4ebff;}#sk-container-id-4 div.sk-label input.sk-toggleable__control:checked~label.sk-toggleable__label {background-color: #d4ebff;}#sk-container-id-4 input.sk-hidden--visually {border: 0;clip: rect(1px 1px 1px 1px);clip: rect(1px, 1px, 1px, 1px);height: 1px;margin: -1px;overflow: hidden;padding: 0;position: absolute;width: 1px;}#sk-container-id-4 div.sk-estimator {font-family: monospace;background-color: #f0f8ff;border: 1px dotted black;border-radius: 0.25em;box-sizing: border-box;margin-bottom: 0.5em;}#sk-container-id-4 div.sk-estimator:hover {background-color: #d4ebff;}#sk-container-id-4 div.sk-parallel-item::after {content: \"\";width: 100%;border-bottom: 1px solid gray;flex-grow: 1;}#sk-container-id-4 div.sk-label:hover label.sk-toggleable__label {background-color: #d4ebff;}#sk-container-id-4 div.sk-serial::before {content: \"\";position: absolute;border-left: 1px solid gray;box-sizing: border-box;top: 0;bottom: 0;left: 50%;z-index: 0;}#sk-container-id-4 div.sk-serial {display: flex;flex-direction: column;align-items: center;background-color: white;padding-right: 0.2em;padding-left: 0.2em;position: relative;}#sk-container-id-4 div.sk-item {position: relative;z-index: 1;}#sk-container-id-4 div.sk-parallel {display: flex;align-items: stretch;justify-content: center;background-color: white;position: relative;}#sk-container-id-4 div.sk-item::before, #sk-container-id-4 div.sk-parallel-item::before {content: \"\";position: absolute;border-left: 1px solid gray;box-sizing: border-box;top: 0;bottom: 0;left: 50%;z-index: -1;}#sk-container-id-4 div.sk-parallel-item {display: flex;flex-direction: column;z-index: 1;position: relative;background-color: white;}#sk-container-id-4 div.sk-parallel-item:first-child::after {align-self: flex-end;width: 50%;}#sk-container-id-4 div.sk-parallel-item:last-child::after {align-self: flex-start;width: 50%;}#sk-container-id-4 div.sk-parallel-item:only-child::after {width: 0;}#sk-container-id-4 div.sk-dashed-wrapped {border: 1px dashed gray;margin: 0 0.4em 0.5em 0.4em;box-sizing: border-box;padding-bottom: 0.4em;background-color: white;}#sk-container-id-4 div.sk-label label {font-family: monospace;font-weight: bold;display: inline-block;line-height: 1.2em;}#sk-container-id-4 div.sk-label-container {text-align: center;}#sk-container-id-4 div.sk-container {/* jupyter's `normalize.less` sets `[hidden] { display: none; }` but bootstrap.min.css set `[hidden] { display: none !important; }` so we also need the `!important` here to be able to override the default hidden behavior on the sphinx rendered scikit-learn.org. See: https://github.com/scikit-learn/scikit-learn/issues/21755 */display: inline-block !important;position: relative;}#sk-container-id-4 div.sk-text-repr-fallback {display: none;}</style><div id=\"sk-container-id-4\" class=\"sk-top-container\"><div class=\"sk-text-repr-fallback\"><pre>XGBRegressor(base_score=None, booster=None, callbacks=None,\n",
       "             colsample_bylevel=None, colsample_bynode=None,\n",
       "             colsample_bytree=None, device=None, early_stopping_rounds=None,\n",
       "             enable_categorical=False, eval_metric=None, feature_types=None,\n",
       "             gamma=None, grow_policy=None, importance_type=None,\n",
       "             interaction_constraints=None, learning_rate=None, max_bin=None,\n",
       "             max_cat_threshold=None, max_cat_to_onehot=None,\n",
       "             max_delta_step=None, max_depth=None, max_leaves=None,\n",
       "             min_child_weight=None, missing=nan, monotone_constraints=None,\n",
       "             multi_strategy=None, n_estimators=None, n_jobs=None,\n",
       "             num_parallel_tree=None, random_state=42, ...)</pre><b>In a Jupyter environment, please rerun this cell to show the HTML representation or trust the notebook. <br />On GitHub, the HTML representation is unable to render, please try loading this page with nbviewer.org.</b></div><div class=\"sk-container\" hidden><div class=\"sk-item\"><div class=\"sk-estimator sk-toggleable\"><input class=\"sk-toggleable__control sk-hidden--visually\" id=\"sk-estimator-id-4\" type=\"checkbox\" checked><label for=\"sk-estimator-id-4\" class=\"sk-toggleable__label sk-toggleable__label-arrow\">XGBRegressor</label><div class=\"sk-toggleable__content\"><pre>XGBRegressor(base_score=None, booster=None, callbacks=None,\n",
       "             colsample_bylevel=None, colsample_bynode=None,\n",
       "             colsample_bytree=None, device=None, early_stopping_rounds=None,\n",
       "             enable_categorical=False, eval_metric=None, feature_types=None,\n",
       "             gamma=None, grow_policy=None, importance_type=None,\n",
       "             interaction_constraints=None, learning_rate=None, max_bin=None,\n",
       "             max_cat_threshold=None, max_cat_to_onehot=None,\n",
       "             max_delta_step=None, max_depth=None, max_leaves=None,\n",
       "             min_child_weight=None, missing=nan, monotone_constraints=None,\n",
       "             multi_strategy=None, n_estimators=None, n_jobs=None,\n",
       "             num_parallel_tree=None, random_state=42, ...)</pre></div></div></div></div></div>"
      ],
      "text/plain": [
       "XGBRegressor(base_score=None, booster=None, callbacks=None,\n",
       "             colsample_bylevel=None, colsample_bynode=None,\n",
       "             colsample_bytree=None, device=None, early_stopping_rounds=None,\n",
       "             enable_categorical=False, eval_metric=None, feature_types=None,\n",
       "             gamma=None, grow_policy=None, importance_type=None,\n",
       "             interaction_constraints=None, learning_rate=None, max_bin=None,\n",
       "             max_cat_threshold=None, max_cat_to_onehot=None,\n",
       "             max_delta_step=None, max_depth=None, max_leaves=None,\n",
       "             min_child_weight=None, missing=nan, monotone_constraints=None,\n",
       "             multi_strategy=None, n_estimators=None, n_jobs=None,\n",
       "             num_parallel_tree=None, random_state=42, ...)"
      ]
     },
     "execution_count": 108,
     "metadata": {},
     "output_type": "execute_result"
    }
   ],
   "source": [
    "# Fit the best model on the training data\n",
    "base_XGB.fit(X_train_scaled, y_train)"
   ]
  },
  {
   "cell_type": "code",
   "execution_count": 109,
   "id": "a2bc21eb-d12c-45d1-974c-8d39a4418176",
   "metadata": {},
   "outputs": [],
   "source": [
    "# Make predictions on the test data\n",
    "y_pred = base_XGB.predict(X_test_scaled)"
   ]
  },
  {
   "cell_type": "code",
   "execution_count": 110,
   "id": "f4fc6546-26e4-48cb-9b4d-b0720c7a6054",
   "metadata": {},
   "outputs": [
    {
     "name": "stdout",
     "output_type": "stream",
     "text": [
      "Base XGB R_squared_train: 0.7848822445375019\n",
      "Base XGB R_squared_test: -0.10018624630865047\n",
      "Base XGB MAE: 3.550053401859765\n",
      "Base XGB MSE: 20.335595198782883\n",
      "Base XGB RMSE: 4.5095005487063515\n"
     ]
    }
   ],
   "source": [
    "print(f\"Base XGB R_squared_train: {base_XGB.score(X_train_scaled, y_train)}\")\n",
    "print(f\"Base XGB R_squared_test: {base_XGB.score(X_test_scaled, y_test)}\")\n",
    "print(f\"Base XGB MAE: {mean_absolute_error(y_test, y_pred)}\")\n",
    "print(f\"Base XGB MSE: {mean_squared_error(y_test, y_pred)}\")\n",
    "print(f\"Base XGB RMSE: {mean_squared_error(y_test, y_pred, squared=False)}\")"
   ]
  },
  {
   "cell_type": "code",
   "execution_count": 111,
   "id": "0053269c-57c3-4928-86e7-44fceec53e08",
   "metadata": {},
   "outputs": [],
   "source": [
    "# Define the parameter grid for GridSearchCV\n",
    "param_grid = {\n",
    "    'n_estimators': [100, 200, 300],\n",
    "    'learning_rate': [0.01, 0.1, 0.2],\n",
    "    'max_depth': [2, 3, 4]\n",
    "}"
   ]
  },
  {
   "cell_type": "code",
   "execution_count": 112,
   "id": "21859fa4-1b42-4c35-a9e2-82205aafb892",
   "metadata": {},
   "outputs": [],
   "source": [
    "# Set up the GridSearchCV with XGBoost\n",
    "XGB_CV = GridSearchCV(base_XGB, param_grid, scoring=rmse_scorer, cv=5, n_jobs=2, verbose=3)"
   ]
  },
  {
   "cell_type": "code",
   "execution_count": 113,
   "id": "52dc739f-5ae8-4874-9494-e032a2872e35",
   "metadata": {},
   "outputs": [
    {
     "name": "stdout",
     "output_type": "stream",
     "text": [
      "Fitting 5 folds for each of 27 candidates, totalling 135 fits\n"
     ]
    },
    {
     "data": {
      "text/html": [
       "<style>#sk-container-id-5 {color: black;}#sk-container-id-5 pre{padding: 0;}#sk-container-id-5 div.sk-toggleable {background-color: white;}#sk-container-id-5 label.sk-toggleable__label {cursor: pointer;display: block;width: 100%;margin-bottom: 0;padding: 0.3em;box-sizing: border-box;text-align: center;}#sk-container-id-5 label.sk-toggleable__label-arrow:before {content: \"▸\";float: left;margin-right: 0.25em;color: #696969;}#sk-container-id-5 label.sk-toggleable__label-arrow:hover:before {color: black;}#sk-container-id-5 div.sk-estimator:hover label.sk-toggleable__label-arrow:before {color: black;}#sk-container-id-5 div.sk-toggleable__content {max-height: 0;max-width: 0;overflow: hidden;text-align: left;background-color: #f0f8ff;}#sk-container-id-5 div.sk-toggleable__content pre {margin: 0.2em;color: black;border-radius: 0.25em;background-color: #f0f8ff;}#sk-container-id-5 input.sk-toggleable__control:checked~div.sk-toggleable__content {max-height: 200px;max-width: 100%;overflow: auto;}#sk-container-id-5 input.sk-toggleable__control:checked~label.sk-toggleable__label-arrow:before {content: \"▾\";}#sk-container-id-5 div.sk-estimator input.sk-toggleable__control:checked~label.sk-toggleable__label {background-color: #d4ebff;}#sk-container-id-5 div.sk-label input.sk-toggleable__control:checked~label.sk-toggleable__label {background-color: #d4ebff;}#sk-container-id-5 input.sk-hidden--visually {border: 0;clip: rect(1px 1px 1px 1px);clip: rect(1px, 1px, 1px, 1px);height: 1px;margin: -1px;overflow: hidden;padding: 0;position: absolute;width: 1px;}#sk-container-id-5 div.sk-estimator {font-family: monospace;background-color: #f0f8ff;border: 1px dotted black;border-radius: 0.25em;box-sizing: border-box;margin-bottom: 0.5em;}#sk-container-id-5 div.sk-estimator:hover {background-color: #d4ebff;}#sk-container-id-5 div.sk-parallel-item::after {content: \"\";width: 100%;border-bottom: 1px solid gray;flex-grow: 1;}#sk-container-id-5 div.sk-label:hover label.sk-toggleable__label {background-color: #d4ebff;}#sk-container-id-5 div.sk-serial::before {content: \"\";position: absolute;border-left: 1px solid gray;box-sizing: border-box;top: 0;bottom: 0;left: 50%;z-index: 0;}#sk-container-id-5 div.sk-serial {display: flex;flex-direction: column;align-items: center;background-color: white;padding-right: 0.2em;padding-left: 0.2em;position: relative;}#sk-container-id-5 div.sk-item {position: relative;z-index: 1;}#sk-container-id-5 div.sk-parallel {display: flex;align-items: stretch;justify-content: center;background-color: white;position: relative;}#sk-container-id-5 div.sk-item::before, #sk-container-id-5 div.sk-parallel-item::before {content: \"\";position: absolute;border-left: 1px solid gray;box-sizing: border-box;top: 0;bottom: 0;left: 50%;z-index: -1;}#sk-container-id-5 div.sk-parallel-item {display: flex;flex-direction: column;z-index: 1;position: relative;background-color: white;}#sk-container-id-5 div.sk-parallel-item:first-child::after {align-self: flex-end;width: 50%;}#sk-container-id-5 div.sk-parallel-item:last-child::after {align-self: flex-start;width: 50%;}#sk-container-id-5 div.sk-parallel-item:only-child::after {width: 0;}#sk-container-id-5 div.sk-dashed-wrapped {border: 1px dashed gray;margin: 0 0.4em 0.5em 0.4em;box-sizing: border-box;padding-bottom: 0.4em;background-color: white;}#sk-container-id-5 div.sk-label label {font-family: monospace;font-weight: bold;display: inline-block;line-height: 1.2em;}#sk-container-id-5 div.sk-label-container {text-align: center;}#sk-container-id-5 div.sk-container {/* jupyter's `normalize.less` sets `[hidden] { display: none; }` but bootstrap.min.css set `[hidden] { display: none !important; }` so we also need the `!important` here to be able to override the default hidden behavior on the sphinx rendered scikit-learn.org. See: https://github.com/scikit-learn/scikit-learn/issues/21755 */display: inline-block !important;position: relative;}#sk-container-id-5 div.sk-text-repr-fallback {display: none;}</style><div id=\"sk-container-id-5\" class=\"sk-top-container\"><div class=\"sk-text-repr-fallback\"><pre>GridSearchCV(cv=5,\n",
       "             estimator=XGBRegressor(base_score=None, booster=None,\n",
       "                                    callbacks=None, colsample_bylevel=None,\n",
       "                                    colsample_bynode=None,\n",
       "                                    colsample_bytree=None, device=None,\n",
       "                                    early_stopping_rounds=None,\n",
       "                                    enable_categorical=False, eval_metric=None,\n",
       "                                    feature_types=None, gamma=None,\n",
       "                                    grow_policy=None, importance_type=None,\n",
       "                                    interaction_constraints=None,\n",
       "                                    learning_rate=None, m...\n",
       "                                    max_depth=None, max_leaves=None,\n",
       "                                    min_child_weight=None, missing=nan,\n",
       "                                    monotone_constraints=None,\n",
       "                                    multi_strategy=None, n_estimators=None,\n",
       "                                    n_jobs=None, num_parallel_tree=None,\n",
       "                                    random_state=42, ...),\n",
       "             n_jobs=2,\n",
       "             param_grid={&#x27;learning_rate&#x27;: [0.01, 0.1, 0.2],\n",
       "                         &#x27;max_depth&#x27;: [2, 3, 4],\n",
       "                         &#x27;n_estimators&#x27;: [100, 200, 300]},\n",
       "             scoring=make_scorer(mean_squared_error, greater_is_better=False, squared=False),\n",
       "             verbose=3)</pre><b>In a Jupyter environment, please rerun this cell to show the HTML representation or trust the notebook. <br />On GitHub, the HTML representation is unable to render, please try loading this page with nbviewer.org.</b></div><div class=\"sk-container\" hidden><div class=\"sk-item sk-dashed-wrapped\"><div class=\"sk-label-container\"><div class=\"sk-label sk-toggleable\"><input class=\"sk-toggleable__control sk-hidden--visually\" id=\"sk-estimator-id-5\" type=\"checkbox\" ><label for=\"sk-estimator-id-5\" class=\"sk-toggleable__label sk-toggleable__label-arrow\">GridSearchCV</label><div class=\"sk-toggleable__content\"><pre>GridSearchCV(cv=5,\n",
       "             estimator=XGBRegressor(base_score=None, booster=None,\n",
       "                                    callbacks=None, colsample_bylevel=None,\n",
       "                                    colsample_bynode=None,\n",
       "                                    colsample_bytree=None, device=None,\n",
       "                                    early_stopping_rounds=None,\n",
       "                                    enable_categorical=False, eval_metric=None,\n",
       "                                    feature_types=None, gamma=None,\n",
       "                                    grow_policy=None, importance_type=None,\n",
       "                                    interaction_constraints=None,\n",
       "                                    learning_rate=None, m...\n",
       "                                    max_depth=None, max_leaves=None,\n",
       "                                    min_child_weight=None, missing=nan,\n",
       "                                    monotone_constraints=None,\n",
       "                                    multi_strategy=None, n_estimators=None,\n",
       "                                    n_jobs=None, num_parallel_tree=None,\n",
       "                                    random_state=42, ...),\n",
       "             n_jobs=2,\n",
       "             param_grid={&#x27;learning_rate&#x27;: [0.01, 0.1, 0.2],\n",
       "                         &#x27;max_depth&#x27;: [2, 3, 4],\n",
       "                         &#x27;n_estimators&#x27;: [100, 200, 300]},\n",
       "             scoring=make_scorer(mean_squared_error, greater_is_better=False, squared=False),\n",
       "             verbose=3)</pre></div></div></div><div class=\"sk-parallel\"><div class=\"sk-parallel-item\"><div class=\"sk-item\"><div class=\"sk-label-container\"><div class=\"sk-label sk-toggleable\"><input class=\"sk-toggleable__control sk-hidden--visually\" id=\"sk-estimator-id-6\" type=\"checkbox\" ><label for=\"sk-estimator-id-6\" class=\"sk-toggleable__label sk-toggleable__label-arrow\">estimator: XGBRegressor</label><div class=\"sk-toggleable__content\"><pre>XGBRegressor(base_score=None, booster=None, callbacks=None,\n",
       "             colsample_bylevel=None, colsample_bynode=None,\n",
       "             colsample_bytree=None, device=None, early_stopping_rounds=None,\n",
       "             enable_categorical=False, eval_metric=None, feature_types=None,\n",
       "             gamma=None, grow_policy=None, importance_type=None,\n",
       "             interaction_constraints=None, learning_rate=None, max_bin=None,\n",
       "             max_cat_threshold=None, max_cat_to_onehot=None,\n",
       "             max_delta_step=None, max_depth=None, max_leaves=None,\n",
       "             min_child_weight=None, missing=nan, monotone_constraints=None,\n",
       "             multi_strategy=None, n_estimators=None, n_jobs=None,\n",
       "             num_parallel_tree=None, random_state=42, ...)</pre></div></div></div><div class=\"sk-serial\"><div class=\"sk-item\"><div class=\"sk-estimator sk-toggleable\"><input class=\"sk-toggleable__control sk-hidden--visually\" id=\"sk-estimator-id-7\" type=\"checkbox\" ><label for=\"sk-estimator-id-7\" class=\"sk-toggleable__label sk-toggleable__label-arrow\">XGBRegressor</label><div class=\"sk-toggleable__content\"><pre>XGBRegressor(base_score=None, booster=None, callbacks=None,\n",
       "             colsample_bylevel=None, colsample_bynode=None,\n",
       "             colsample_bytree=None, device=None, early_stopping_rounds=None,\n",
       "             enable_categorical=False, eval_metric=None, feature_types=None,\n",
       "             gamma=None, grow_policy=None, importance_type=None,\n",
       "             interaction_constraints=None, learning_rate=None, max_bin=None,\n",
       "             max_cat_threshold=None, max_cat_to_onehot=None,\n",
       "             max_delta_step=None, max_depth=None, max_leaves=None,\n",
       "             min_child_weight=None, missing=nan, monotone_constraints=None,\n",
       "             multi_strategy=None, n_estimators=None, n_jobs=None,\n",
       "             num_parallel_tree=None, random_state=42, ...)</pre></div></div></div></div></div></div></div></div></div></div>"
      ],
      "text/plain": [
       "GridSearchCV(cv=5,\n",
       "             estimator=XGBRegressor(base_score=None, booster=None,\n",
       "                                    callbacks=None, colsample_bylevel=None,\n",
       "                                    colsample_bynode=None,\n",
       "                                    colsample_bytree=None, device=None,\n",
       "                                    early_stopping_rounds=None,\n",
       "                                    enable_categorical=False, eval_metric=None,\n",
       "                                    feature_types=None, gamma=None,\n",
       "                                    grow_policy=None, importance_type=None,\n",
       "                                    interaction_constraints=None,\n",
       "                                    learning_rate=None, m...\n",
       "                                    max_depth=None, max_leaves=None,\n",
       "                                    min_child_weight=None, missing=nan,\n",
       "                                    monotone_constraints=None,\n",
       "                                    multi_strategy=None, n_estimators=None,\n",
       "                                    n_jobs=None, num_parallel_tree=None,\n",
       "                                    random_state=42, ...),\n",
       "             n_jobs=2,\n",
       "             param_grid={'learning_rate': [0.01, 0.1, 0.2],\n",
       "                         'max_depth': [2, 3, 4],\n",
       "                         'n_estimators': [100, 200, 300]},\n",
       "             scoring=make_scorer(mean_squared_error, greater_is_better=False, squared=False),\n",
       "             verbose=3)"
      ]
     },
     "execution_count": 113,
     "metadata": {},
     "output_type": "execute_result"
    }
   ],
   "source": [
    "# Fit the GridSearchCV on the training data\n",
    "XGB_CV.fit(X_train_scaled, y_train)"
   ]
  },
  {
   "cell_type": "code",
   "execution_count": 114,
   "id": "be126125-db51-43f7-8154-58773c086b10",
   "metadata": {},
   "outputs": [
    {
     "name": "stdout",
     "output_type": "stream",
     "text": [
      "Tuned XGBoost Best Estimator: XGBRegressor(base_score=None, booster=None, callbacks=None,\n",
      "             colsample_bylevel=None, colsample_bynode=None,\n",
      "             colsample_bytree=None, device=None, early_stopping_rounds=None,\n",
      "             enable_categorical=False, eval_metric=None, feature_types=None,\n",
      "             gamma=None, grow_policy=None, importance_type=None,\n",
      "             interaction_constraints=None, learning_rate=0.01, max_bin=None,\n",
      "             max_cat_threshold=None, max_cat_to_onehot=None,\n",
      "             max_delta_step=None, max_depth=3, max_leaves=None,\n",
      "             min_child_weight=None, missing=nan, monotone_constraints=None,\n",
      "             multi_strategy=None, n_estimators=300, n_jobs=None,\n",
      "             num_parallel_tree=None, random_state=42, ...)\n",
      "Tuned XGBoost Best Score: -4.052883956923405\n",
      "Tuned XGBoost Best Params: {'learning_rate': 0.01, 'max_depth': 3, 'n_estimators': 300}\n"
     ]
    }
   ],
   "source": [
    "best_params = XGB_CV.best_params_\n",
    "print(f\"Tuned XGBoost Best Estimator: {XGB_CV.best_estimator_}\")\n",
    "print(f\"Tuned XGBoost Best Score: {XGB_CV.best_score_}\")\n",
    "print(f\"Tuned XGBoost Best Params: {best_params}\")"
   ]
  },
  {
   "cell_type": "code",
   "execution_count": 115,
   "id": "fea7e1d6-b0b8-4cfa-8871-f8134e1b91cc",
   "metadata": {},
   "outputs": [],
   "source": [
    "best_XGB = xgb.XGBRegressor(max_depth=3, n_estimators=300, learning_rate=0.01, objective='reg:squarederror', random_state=42)"
   ]
  },
  {
   "cell_type": "code",
   "execution_count": 116,
   "id": "9a021952-c9d1-4a0a-8df3-557edc0f0e22",
   "metadata": {},
   "outputs": [
    {
     "data": {
      "text/html": [
       "<style>#sk-container-id-6 {color: black;}#sk-container-id-6 pre{padding: 0;}#sk-container-id-6 div.sk-toggleable {background-color: white;}#sk-container-id-6 label.sk-toggleable__label {cursor: pointer;display: block;width: 100%;margin-bottom: 0;padding: 0.3em;box-sizing: border-box;text-align: center;}#sk-container-id-6 label.sk-toggleable__label-arrow:before {content: \"▸\";float: left;margin-right: 0.25em;color: #696969;}#sk-container-id-6 label.sk-toggleable__label-arrow:hover:before {color: black;}#sk-container-id-6 div.sk-estimator:hover label.sk-toggleable__label-arrow:before {color: black;}#sk-container-id-6 div.sk-toggleable__content {max-height: 0;max-width: 0;overflow: hidden;text-align: left;background-color: #f0f8ff;}#sk-container-id-6 div.sk-toggleable__content pre {margin: 0.2em;color: black;border-radius: 0.25em;background-color: #f0f8ff;}#sk-container-id-6 input.sk-toggleable__control:checked~div.sk-toggleable__content {max-height: 200px;max-width: 100%;overflow: auto;}#sk-container-id-6 input.sk-toggleable__control:checked~label.sk-toggleable__label-arrow:before {content: \"▾\";}#sk-container-id-6 div.sk-estimator input.sk-toggleable__control:checked~label.sk-toggleable__label {background-color: #d4ebff;}#sk-container-id-6 div.sk-label input.sk-toggleable__control:checked~label.sk-toggleable__label {background-color: #d4ebff;}#sk-container-id-6 input.sk-hidden--visually {border: 0;clip: rect(1px 1px 1px 1px);clip: rect(1px, 1px, 1px, 1px);height: 1px;margin: -1px;overflow: hidden;padding: 0;position: absolute;width: 1px;}#sk-container-id-6 div.sk-estimator {font-family: monospace;background-color: #f0f8ff;border: 1px dotted black;border-radius: 0.25em;box-sizing: border-box;margin-bottom: 0.5em;}#sk-container-id-6 div.sk-estimator:hover {background-color: #d4ebff;}#sk-container-id-6 div.sk-parallel-item::after {content: \"\";width: 100%;border-bottom: 1px solid gray;flex-grow: 1;}#sk-container-id-6 div.sk-label:hover label.sk-toggleable__label {background-color: #d4ebff;}#sk-container-id-6 div.sk-serial::before {content: \"\";position: absolute;border-left: 1px solid gray;box-sizing: border-box;top: 0;bottom: 0;left: 50%;z-index: 0;}#sk-container-id-6 div.sk-serial {display: flex;flex-direction: column;align-items: center;background-color: white;padding-right: 0.2em;padding-left: 0.2em;position: relative;}#sk-container-id-6 div.sk-item {position: relative;z-index: 1;}#sk-container-id-6 div.sk-parallel {display: flex;align-items: stretch;justify-content: center;background-color: white;position: relative;}#sk-container-id-6 div.sk-item::before, #sk-container-id-6 div.sk-parallel-item::before {content: \"\";position: absolute;border-left: 1px solid gray;box-sizing: border-box;top: 0;bottom: 0;left: 50%;z-index: -1;}#sk-container-id-6 div.sk-parallel-item {display: flex;flex-direction: column;z-index: 1;position: relative;background-color: white;}#sk-container-id-6 div.sk-parallel-item:first-child::after {align-self: flex-end;width: 50%;}#sk-container-id-6 div.sk-parallel-item:last-child::after {align-self: flex-start;width: 50%;}#sk-container-id-6 div.sk-parallel-item:only-child::after {width: 0;}#sk-container-id-6 div.sk-dashed-wrapped {border: 1px dashed gray;margin: 0 0.4em 0.5em 0.4em;box-sizing: border-box;padding-bottom: 0.4em;background-color: white;}#sk-container-id-6 div.sk-label label {font-family: monospace;font-weight: bold;display: inline-block;line-height: 1.2em;}#sk-container-id-6 div.sk-label-container {text-align: center;}#sk-container-id-6 div.sk-container {/* jupyter's `normalize.less` sets `[hidden] { display: none; }` but bootstrap.min.css set `[hidden] { display: none !important; }` so we also need the `!important` here to be able to override the default hidden behavior on the sphinx rendered scikit-learn.org. See: https://github.com/scikit-learn/scikit-learn/issues/21755 */display: inline-block !important;position: relative;}#sk-container-id-6 div.sk-text-repr-fallback {display: none;}</style><div id=\"sk-container-id-6\" class=\"sk-top-container\"><div class=\"sk-text-repr-fallback\"><pre>XGBRegressor(base_score=None, booster=None, callbacks=None,\n",
       "             colsample_bylevel=None, colsample_bynode=None,\n",
       "             colsample_bytree=None, device=None, early_stopping_rounds=None,\n",
       "             enable_categorical=False, eval_metric=None, feature_types=None,\n",
       "             gamma=None, grow_policy=None, importance_type=None,\n",
       "             interaction_constraints=None, learning_rate=0.01, max_bin=None,\n",
       "             max_cat_threshold=None, max_cat_to_onehot=None,\n",
       "             max_delta_step=None, max_depth=3, max_leaves=None,\n",
       "             min_child_weight=None, missing=nan, monotone_constraints=None,\n",
       "             multi_strategy=None, n_estimators=300, n_jobs=None,\n",
       "             num_parallel_tree=None, random_state=42, ...)</pre><b>In a Jupyter environment, please rerun this cell to show the HTML representation or trust the notebook. <br />On GitHub, the HTML representation is unable to render, please try loading this page with nbviewer.org.</b></div><div class=\"sk-container\" hidden><div class=\"sk-item\"><div class=\"sk-estimator sk-toggleable\"><input class=\"sk-toggleable__control sk-hidden--visually\" id=\"sk-estimator-id-8\" type=\"checkbox\" checked><label for=\"sk-estimator-id-8\" class=\"sk-toggleable__label sk-toggleable__label-arrow\">XGBRegressor</label><div class=\"sk-toggleable__content\"><pre>XGBRegressor(base_score=None, booster=None, callbacks=None,\n",
       "             colsample_bylevel=None, colsample_bynode=None,\n",
       "             colsample_bytree=None, device=None, early_stopping_rounds=None,\n",
       "             enable_categorical=False, eval_metric=None, feature_types=None,\n",
       "             gamma=None, grow_policy=None, importance_type=None,\n",
       "             interaction_constraints=None, learning_rate=0.01, max_bin=None,\n",
       "             max_cat_threshold=None, max_cat_to_onehot=None,\n",
       "             max_delta_step=None, max_depth=3, max_leaves=None,\n",
       "             min_child_weight=None, missing=nan, monotone_constraints=None,\n",
       "             multi_strategy=None, n_estimators=300, n_jobs=None,\n",
       "             num_parallel_tree=None, random_state=42, ...)</pre></div></div></div></div></div>"
      ],
      "text/plain": [
       "XGBRegressor(base_score=None, booster=None, callbacks=None,\n",
       "             colsample_bylevel=None, colsample_bynode=None,\n",
       "             colsample_bytree=None, device=None, early_stopping_rounds=None,\n",
       "             enable_categorical=False, eval_metric=None, feature_types=None,\n",
       "             gamma=None, grow_policy=None, importance_type=None,\n",
       "             interaction_constraints=None, learning_rate=0.01, max_bin=None,\n",
       "             max_cat_threshold=None, max_cat_to_onehot=None,\n",
       "             max_delta_step=None, max_depth=3, max_leaves=None,\n",
       "             min_child_weight=None, missing=nan, monotone_constraints=None,\n",
       "             multi_strategy=None, n_estimators=300, n_jobs=None,\n",
       "             num_parallel_tree=None, random_state=42, ...)"
      ]
     },
     "execution_count": 116,
     "metadata": {},
     "output_type": "execute_result"
    }
   ],
   "source": [
    "# Fit the best model on the training data\n",
    "best_XGB.fit(X_train_scaled, y_train)"
   ]
  },
  {
   "cell_type": "code",
   "execution_count": 117,
   "id": "35139c77-07ea-4940-9f33-d11188329b89",
   "metadata": {},
   "outputs": [],
   "source": [
    "# Make predictions on the test data\n",
    "y_pred = best_XGB.predict(X_test_scaled)"
   ]
  },
  {
   "cell_type": "code",
   "execution_count": 119,
   "id": "88cf1c55-5945-4c66-b074-79035e750b3a",
   "metadata": {},
   "outputs": [
    {
     "name": "stdout",
     "output_type": "stream",
     "text": [
      "Best_XGB Train R-squared: 0.15405728399630259\n",
      "Best_XGB Test R-squared: 0.10564783103499642\n",
      "Best_XGB MAE: 3.2241384119930476\n",
      "Best_XGB RMSE: 4.065833788432901\n",
      "Best_XGB MSE: 16.531004395162636\n"
     ]
    }
   ],
   "source": [
    "# Print evaluation metrics for the best model\n",
    "best_rmse = mean_squared_error(y_test, y_pred, squared=False)\n",
    "print(f\"Best_XGB Train R-squared: {best_XGB.score(X_train_scaled, y_train)}\")\n",
    "print(f\"Best_XGB Test R-squared: {best_XGB.score(X_test_scaled, y_test)}\")\n",
    "print(f\"Best_XGB MAE: {mean_absolute_error(y_test, y_pred)}\")\n",
    "print(f\"Best_XGB RMSE: {best_rmse}\")\n",
    "print(f\"Best_XGB MSE: {mean_squared_error(y_test, y_pred)}\")"
   ]
  },
  {
   "cell_type": "code",
   "execution_count": 120,
   "id": "1bb02555-4808-4a19-8e61-25b72a5186e4",
   "metadata": {},
   "outputs": [],
   "source": [
    "error_dict['XG Boost'] = [best_params, best_rmse]"
   ]
  },
  {
   "cell_type": "code",
   "execution_count": 121,
   "id": "f5ca32c6-e8e2-453a-97c3-bc226e8c4143",
   "metadata": {},
   "outputs": [
    {
     "data": {
      "text/plain": [
       "defaultdict(float,\n",
       "            {'KNN': [45, 4.093921840711748],\n",
       "             'Ridge': [{'alpha': 100.0}, 4.158989477787983],\n",
       "             'Random Forest': [{'max_depth': 4, 'n_estimators': 100},\n",
       "              4.064566369207579],\n",
       "             'Gradient Boost': [{'learning_rate': 0.01,\n",
       "               'max_depth': 3,\n",
       "               'n_estimators': 300},\n",
       "              4.065429448613024],\n",
       "             'XG Boost': [{'learning_rate': 0.01,\n",
       "               'max_depth': 3,\n",
       "               'n_estimators': 300},\n",
       "              4.065833788432901]})"
      ]
     },
     "execution_count": 121,
     "metadata": {},
     "output_type": "execute_result"
    }
   ],
   "source": [
    "error_dict"
   ]
  },
  {
   "cell_type": "code",
   "execution_count": null,
   "id": "73c49d18-38b1-4b48-b6a3-958a035e9349",
   "metadata": {},
   "outputs": [],
   "source": []
  }
 ],
 "metadata": {
  "kernelspec": {
   "display_name": "Python (nfl_dfs_model)",
   "language": "python",
   "name": "nfl_dfs_model"
  },
  "language_info": {
   "codemirror_mode": {
    "name": "ipython",
    "version": 3
   },
   "file_extension": ".py",
   "mimetype": "text/x-python",
   "name": "python",
   "nbconvert_exporter": "python",
   "pygments_lexer": "ipython3",
   "version": "3.8.19"
  }
 },
 "nbformat": 4,
 "nbformat_minor": 5
}
