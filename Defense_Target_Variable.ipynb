{
 "cells": [
  {
   "cell_type": "markdown",
   "id": "3aaf4a56-8b4c-4534-982e-87e6b6ff986a",
   "metadata": {},
   "source": [
    "# Starting with defense\n",
    "We really need four models. A model to predict fantasy points for quarterbacks, running backs, pass catchers (wide receivers and tight ends, or maybe WRs and TEs separately) and team defense.<br>\n",
    "\n",
    "In theory, defense should be the easiest model, because it's the position that requires the least attention when building lineups. Find the cheapest defense you can tolerate, then spend your time, salary and computational power on the other positions.<br>\n",
    "\n",
    "So hopefully we can build a defense model relatively quickly. It should also give us a chance to dip our toe a little deeper into the vast ocean of data in the [nfl_data_py](https://github.com/nflverse/nfl_data_py) package, which was cloned from [nflfastr](https://www.nflfastr.com/articles/beginners_guide.html).<br>\n",
    "\n",
    "The goal of this notebook is to derive the target variable so that we have the FanDuel and DraftKings points scored by every defense in every game since 2000.<br>\n",
    "\n",
    "## FanDuel and DraftKings scoring\n",
    "\n",
    "The first thing we'll do is show scoring systems for defense on the two major DFS sites. The scoring system is exactly the same."
   ]
  },
  {
   "cell_type": "code",
   "execution_count": 286,
   "id": "a065ad14-9b3d-4b5f-98c0-18e096481786",
   "metadata": {},
   "outputs": [],
   "source": [
    "##Defensive fantasy points for FanDuel and DraftKings\n",
    "# Sacks = 1\n",
    "# Opponent-fumbles recovered = 2\n",
    "# Return touchdowns = 6\n",
    "# Extra Point Return = 2\n",
    "# Safeties = 2\n",
    "# Blocked Punt/Kick = 2\n",
    "# Interceptions made = 2\n",
    "# 0 points allowed = 10\n",
    "# 1-6 points allowed = 7\n",
    "# 7-13 points allowed = 4\n",
    "# 14-20 points allowed = 1\n",
    "# 21-27 points allowed = 0\n",
    "# 28-34 points allowed = -1\n",
    "# 35+ points allowed = -4"
   ]
  },
  {
   "cell_type": "code",
   "execution_count": 299,
   "id": "4b6b54ae-f652-41af-b3b1-43b18c3fa419",
   "metadata": {},
   "outputs": [],
   "source": [
    "import numpy as np\n",
    "import pandas as pd\n",
    "import matplotlib.pyplot as plt\n",
    "import nfl_data_py as nfl"
   ]
  },
  {
   "cell_type": "code",
   "execution_count": 300,
   "id": "96e3e07c-11e1-4b9a-b5d0-64ab7dadf0a1",
   "metadata": {},
   "outputs": [],
   "source": [
    "#nfl.see_weekly_cols()"
   ]
  },
  {
   "cell_type": "code",
   "execution_count": 301,
   "id": "9bb15e0f-de10-4ce0-b7f1-e5c64adf92fe",
   "metadata": {},
   "outputs": [],
   "source": [
    "#weekly = nfl.import_weekly_data([2023], ['player_name', 'player_display_name', 'fantasy_points', 'fantasy_points_ppr'])"
   ]
  },
  {
   "cell_type": "code",
   "execution_count": 302,
   "id": "4363d0a0-822c-48d3-b488-09d00a68efdd",
   "metadata": {},
   "outputs": [],
   "source": [
    "#weekly.head()"
   ]
  },
  {
   "cell_type": "code",
   "execution_count": 303,
   "id": "39a267c0-4e56-48f3-b9f7-bc384df387ad",
   "metadata": {},
   "outputs": [],
   "source": [
    "#seasons = list(np.arange(2000, 2024, 1))"
   ]
  },
  {
   "cell_type": "code",
   "execution_count": 304,
   "id": "6ce62984-5b47-4e71-b62e-c0526c0bad4c",
   "metadata": {},
   "outputs": [],
   "source": [
    "#nfl_pbp = nfl.import_pbp_data(seasons)"
   ]
  },
  {
   "cell_type": "markdown",
   "id": "2b678230-6b4e-49b5-9e7f-b31b5d78bb51",
   "metadata": {},
   "source": [
    "This is the list of columns we extracted from the nfl play-by-play data"
   ]
  },
  {
   "cell_type": "code",
   "execution_count": 305,
   "id": "7679afa8-c0e8-41e2-9f59-aa454ace2d44",
   "metadata": {},
   "outputs": [],
   "source": [
    "defense_cols = ['play_id', 'game_id', 'old_game_id', 'home_team', 'away_team', 'season_type', 'week', 'posteam', 'posteam_type', 'defteam',\\\n",
    "'sp', 'play_type', 'field_goal_result', 'extra_point_result', 'two_point_conv_result', 'td_team', 'punt_blocked', 'interception',\\\n",
    "'fumble_forced', 'fumble_not_forced', 'safety', 'fumble_lost', 'own_kickoff_recovery', 'own_kickoff_recovery_td', 'sack', 'touchdown',\\\n",
    "                'pass_touchdown', 'rush_touchdown', 'return_touchdown', 'extra_point_attempt',\\\n",
    "'two_point_attempt', 'field_goal_attempt', 'kickoff_attempt', 'punt_attempt', 'fumble', 'forced_fumble_player_1_team', 'forced_fumble_player_2_team',\\\n",
    "'fumbled_1_team', 'fumbled_2_team', 'fumble_recovery_1_team', 'fumble_recovery_2_team', 'return_team', 'defensive_two_point_attempt',\\\n",
    "'defensive_two_point_conv', 'defensive_extra_point_attempt', 'defensive_extra_point_conv', 'season', 'drive_ended_with_score', 'away_score',\\\n",
    "'home_score', 'location', 'result', 'total', 'spread_line', 'total_line', 'div_game', 'roof', 'surface', 'pass', 'rush',\\\n",
    "                'posteam_score', 'posteam_score_post', 'defteam_score', 'defteam_score_post', 'desc']\t"
   ]
  },
  {
   "cell_type": "markdown",
   "id": "6a447d22-61f4-43bb-a51f-46038a7ab2f5",
   "metadata": {},
   "source": [
    "# Defensive data\n",
    "We extracted all the play_by_play data from the nfl_data_py package, then filtered by all the columns above for our defense model. We've also created an sqlite database to store the data. Previously, we had stored the data in CSVs, but those files were too big to push to our GitHub repo."
   ]
  },
  {
   "cell_type": "code",
   "execution_count": 306,
   "id": "ecec1876-f203-46a5-b575-74105c68d569",
   "metadata": {},
   "outputs": [],
   "source": [
    "#defense_df = nfl_pbp[defense_cols]"
   ]
  },
  {
   "cell_type": "code",
   "execution_count": 307,
   "id": "e7fae9bc-da31-463f-ae50-47df0771b507",
   "metadata": {},
   "outputs": [],
   "source": [
    "#defense_df.info()"
   ]
  },
  {
   "cell_type": "code",
   "execution_count": 308,
   "id": "6c5ec852-8da2-4236-a1b8-27226b10e592",
   "metadata": {},
   "outputs": [],
   "source": [
    "#defense_df.to_csv('defense_df.csv')"
   ]
  },
  {
   "cell_type": "code",
   "execution_count": 309,
   "id": "e3cc4232-83d8-41bf-a735-6304fdb8d938",
   "metadata": {},
   "outputs": [],
   "source": [
    "#defense_df = pd.read_csv('defense_df.csv')"
   ]
  },
  {
   "cell_type": "code",
   "execution_count": 310,
   "id": "b1f63bc6-5703-4bec-85c2-2be313cf27cd",
   "metadata": {},
   "outputs": [],
   "source": [
    "import sqlite3"
   ]
  },
  {
   "cell_type": "code",
   "execution_count": 311,
   "id": "059d7590-4e5e-4d8b-b441-f7f127f6a087",
   "metadata": {},
   "outputs": [],
   "source": [
    "# # Connect to the SQLite database\n",
    "# conn = sqlite3.connect('nfl_dfs.db')\n",
    "\n",
    "# # Create a cursor object to execute SQL commands\n",
    "# cursor = conn.cursor()\n",
    "\n",
    "# # List all tables in the database\n",
    "# cursor.execute(\"SELECT name FROM sqlite_master WHERE type='table';\")\n",
    "# tables = cursor.fetchall()\n",
    "# print(\"Tables in the database:\")\n",
    "# for table in tables:\n",
    "#     print(table[0])\n",
    "\n",
    "# # Check if the 'team_defense' table exists\n",
    "# table_name = 'team_defense'\n",
    "# if (table_name,) in tables:\n",
    "#     print(f\"\\nTable '{table_name}' exists. Retrieving the first 5 rows:\")\n",
    "#     cursor.execute(f\"SELECT * FROM {table_name} LIMIT 5;\")\n",
    "#     rows = cursor.fetchall()\n",
    "#     for row in rows:\n",
    "#         print(row)\n",
    "# else:\n",
    "#     print(f\"\\nTable '{table_name}' does not exist.\")\n",
    "\n",
    "# # Close the connection\n",
    "# conn.close()\n"
   ]
  },
  {
   "cell_type": "code",
   "execution_count": 312,
   "id": "afc4b525-4e4b-498c-b25f-9f70449297b5",
   "metadata": {},
   "outputs": [],
   "source": [
    "# #defense_df = pd.read_csv('defense_df.csv')\n",
    "\n",
    "# # Add a primary key column\n",
    "# defense_df.reset_index(inplace=True)\n",
    "# defense_df.rename(columns={'index': 'id'}, inplace=True)\n",
    "\n",
    "# # Connect to SQLite database (creates the database if it doesn't exist)\n",
    "# conn = sqlite3.connect('nfl_dfs.db')\n",
    "# cursor = conn.cursor()\n",
    "\n",
    "# # Define the SQL schema with a primary key\n",
    "# create_table_query = '''\n",
    "# CREATE TABLE IF NOT EXISTS team_defense (\n",
    "#     id INTEGER PRIMARY KEY,\n",
    "#     play_id FLOAT,\n",
    "#     game_id TEXT,\n",
    "#     old_game_id TEXT,\n",
    "#     home_team TEXT,\n",
    "#     away_team TEXT,\n",
    "#     season_type TEXT,\n",
    "#     week INTEGER,\n",
    "#     posteam TEXT,\n",
    "#     posteam_type TEXT,\n",
    "#     defteam TEXT,\n",
    "#     sp FLOAT,\n",
    "#     play_type TEXT,\n",
    "#     field_goal_result TEXT,\n",
    "#     extra_point_result TEXT,\n",
    "#     two_point_conv_result TEXT,\n",
    "#     td_team TEXT,\n",
    "#     punt_blocked FLOAT,\n",
    "#     interception FLOAT,\n",
    "#     fumble_forced FLOAT,\n",
    "#     fumble_not_forced FLOAT,\n",
    "#     safety FLOAT,\n",
    "#     fumble_lost FLOAT,\n",
    "#     own_kickoff_recovery FLOAT,\n",
    "#     own_kickoff_recovery_td FLOAT,\n",
    "#     sack FLOAT,\n",
    "#     touchdown FLOAT,\n",
    "#     pass_touchdown FLOAT,\n",
    "#     rush_touchdown FLOAT,\n",
    "#     return_touchdown FLOAT,\n",
    "#     extra_point_attempt FLOAT,\n",
    "#     two_point_attempt FLOAT,\n",
    "#     field_goal_attempt FLOAT,\n",
    "#     kickoff_attempt FLOAT,\n",
    "#     punt_attempt FLOAT,\n",
    "#     fumble FLOAT,\n",
    "#     forced_fumble_player_1_team TEXT,\n",
    "#     forced_fumble_player_2_team TEXT,\n",
    "#     fumbled_1_team TEXT,\n",
    "#     fumbled_2_team TEXT,\n",
    "#     fumble_recovery_1_team TEXT,\n",
    "#     fumble_recovery_2_team TEXT,\n",
    "#     return_team TEXT,\n",
    "#     defensive_two_point_attempt FLOAT,\n",
    "#     defensive_two_point_conv FLOAT,\n",
    "#     defensive_extra_point_attempt FLOAT,\n",
    "#     defensive_extra_point_conv FLOAT,\n",
    "#     season INTEGER,\n",
    "#     drive_ended_with_score FLOAT,\n",
    "#     away_score INTEGER,\n",
    "#     home_score INTEGER,\n",
    "#     location TEXT,\n",
    "#     result INTEGER,\n",
    "#     total INTEGER,\n",
    "#     spread_line FLOAT,\n",
    "#     total_line FLOAT,\n",
    "#     div_game INTEGER,\n",
    "#     roof TEXT,\n",
    "#     surface TEXT,\n",
    "#     pass FLOAT,\n",
    "#     rush FLOAT,\n",
    "#     posteam_score FLOAT,\n",
    "#     defteam_score FLOAT,\n",
    "#     posteam_score_post FLOAT,\n",
    "#     defteam_score_post FLOAT,\n",
    "#     desc TEXT\n",
    "# )\n",
    "# '''\n",
    "\n",
    "# # Create the table\n",
    "# cursor.execute(create_table_query)\n",
    "\n",
    "# # Load DataFrame into SQLite\n",
    "# defense_df.to_sql('team_defense', conn, if_exists='replace', index=False)\n",
    "\n",
    "# # Verify data was loaded\n",
    "# cursor.execute('SELECT * FROM team_defense LIMIT 5')\n",
    "# rows = cursor.fetchall()\n",
    "# for row in rows:\n",
    "#     print(row)\n",
    "\n",
    "# # Close the connection\n",
    "# conn.close()\n",
    "\n",
    "\n",
    "\n"
   ]
  },
  {
   "cell_type": "markdown",
   "id": "4162bfce-5a6d-4b75-80d3-4b8039cd663f",
   "metadata": {},
   "source": [
    "# Our first database query\n",
    "We've commented out the code that only needed to run once. Now we run the code below to get the dataframe we need to run this notebook."
   ]
  },
  {
   "cell_type": "code",
   "execution_count": 313,
   "id": "d6333fe9-ed95-496f-90ca-58150f71c726",
   "metadata": {},
   "outputs": [
    {
     "name": "stdout",
     "output_type": "stream",
     "text": [
      "   id  Unnamed: 0  play_id          game_id  old_game_id home_team away_team  \\\n",
      "0   0           0     34.0  2000_01_ARI_NYG   2000090300       NYG       ARI   \n",
      "1   1           1     70.0  2000_01_ARI_NYG   2000090300       NYG       ARI   \n",
      "2   2           2    106.0  2000_01_ARI_NYG   2000090300       NYG       ARI   \n",
      "3   3           3    131.0  2000_01_ARI_NYG   2000090300       NYG       ARI   \n",
      "4   4           4    148.0  2000_01_ARI_NYG   2000090300       NYG       ARI   \n",
      "\n",
      "  season_type  week posteam  ... div_game      roof  surface pass rush  \\\n",
      "0         REG     1     ARI  ...        1  outdoors    grass  0.0  0.0   \n",
      "1         REG     1     ARI  ...        1  outdoors    grass  0.0  0.0   \n",
      "2         REG     1     ARI  ...        1  outdoors    grass  0.0  1.0   \n",
      "3         REG     1     ARI  ...        1  outdoors    grass  1.0  0.0   \n",
      "4         REG     1     ARI  ...        1  outdoors    grass  1.0  0.0   \n",
      "\n",
      "  posteam_score posteam_score_post defteam_score  defteam_score_post  \\\n",
      "0           NaN                0.0           NaN                 0.0   \n",
      "1           0.0                0.0           0.0                 0.0   \n",
      "2           0.0                0.0           0.0                 0.0   \n",
      "3           0.0                0.0           0.0                 0.0   \n",
      "4           0.0                0.0           0.0                 0.0   \n",
      "\n",
      "                                                desc  \n",
      "0  B.Daluiso kicks 72 yards from NYG 30 to ARI -2...  \n",
      "1  B.Daluiso kicks 69 yards from NYG 25 to ARI 6....  \n",
      "2  (15:00) T.Jones left end to ARI 37 for 2 yards...  \n",
      "3      (14:04) J.Plummer pass incomplete to T.Jones.  \n",
      "4  (13:57) (Shotgun) J.Plummer pass incomplete to...  \n",
      "\n",
      "[5 rows x 67 columns]\n"
     ]
    }
   ],
   "source": [
    "# Connect to the SQLite database\n",
    "conn = sqlite3.connect('nfl_dfs.db')\n",
    "\n",
    "# Query specific columns from the table\n",
    "query = \"SELECT * FROM team_defense\"\n",
    "defense_df = pd.read_sql_query(query, conn)\n",
    "\n",
    "# Close the connection\n",
    "conn.close()\n",
    "\n",
    "# Display the DataFrame\n",
    "print(defense_df.head())  # Display the first few rows of the DataFrame"
   ]
  },
  {
   "cell_type": "code",
   "execution_count": 314,
   "id": "14901e47-a255-4dc0-bf2d-f96f7f14a97c",
   "metadata": {},
   "outputs": [
    {
     "name": "stdout",
     "output_type": "stream",
     "text": [
      "<class 'pandas.core.frame.DataFrame'>\n",
      "RangeIndex: 1135207 entries, 0 to 1135206\n",
      "Data columns (total 67 columns):\n",
      " #   Column                         Non-Null Count    Dtype  \n",
      "---  ------                         --------------    -----  \n",
      " 0   id                             1135207 non-null  int64  \n",
      " 1   Unnamed: 0                     1135207 non-null  int64  \n",
      " 2   play_id                        1135207 non-null  float64\n",
      " 3   game_id                        1135207 non-null  object \n",
      " 4   old_game_id                    1135207 non-null  int64  \n",
      " 5   home_team                      1135207 non-null  object \n",
      " 6   away_team                      1135207 non-null  object \n",
      " 7   season_type                    1135207 non-null  object \n",
      " 8   week                           1135207 non-null  int64  \n",
      " 9   posteam                        1071824 non-null  object \n",
      " 10  posteam_type                   1071888 non-null  object \n",
      " 11  defteam                        1071888 non-null  object \n",
      " 12  sp                             1135207 non-null  float64\n",
      " 13  play_type                      1098706 non-null  object \n",
      " 14  field_goal_result              24471 non-null    object \n",
      " 15  extra_point_result             29793 non-null    object \n",
      " 16  two_point_conv_result          2134 non-null     object \n",
      " 17  td_team                        32059 non-null    object \n",
      " 18  punt_blocked                   1099760 non-null  float64\n",
      " 19  interception                   1099760 non-null  float64\n",
      " 20  fumble_forced                  1099760 non-null  float64\n",
      " 21  fumble_not_forced              1099760 non-null  float64\n",
      " 22  safety                         1099760 non-null  float64\n",
      " 23  fumble_lost                    1099760 non-null  float64\n",
      " 24  own_kickoff_recovery           1099760 non-null  float64\n",
      " 25  own_kickoff_recovery_td        1099760 non-null  float64\n",
      " 26  sack                           1099760 non-null  float64\n",
      " 27  touchdown                      1099760 non-null  float64\n",
      " 28  pass_touchdown                 1099760 non-null  float64\n",
      " 29  rush_touchdown                 1099760 non-null  float64\n",
      " 30  return_touchdown               1099760 non-null  float64\n",
      " 31  extra_point_attempt            1099760 non-null  float64\n",
      " 32  two_point_attempt              1099760 non-null  float64\n",
      " 33  field_goal_attempt             1099760 non-null  float64\n",
      " 34  kickoff_attempt                1099787 non-null  float64\n",
      " 35  punt_attempt                   1099760 non-null  float64\n",
      " 36  fumble                         1099760 non-null  float64\n",
      " 37  forced_fumble_player_1_team    11821 non-null    object \n",
      " 38  forced_fumble_player_2_team    73 non-null       object \n",
      " 39  fumbled_1_team                 17526 non-null    object \n",
      " 40  fumbled_2_team                 127 non-null      object \n",
      " 41  fumble_recovery_1_team         16136 non-null    object \n",
      " 42  fumble_recovery_2_team         134 non-null      object \n",
      " 43  return_team                    133999 non-null   object \n",
      " 44  defensive_two_point_attempt    1099760 non-null  float64\n",
      " 45  defensive_two_point_conv       1099760 non-null  float64\n",
      " 46  defensive_extra_point_attempt  1099760 non-null  float64\n",
      " 47  defensive_extra_point_conv     1099760 non-null  float64\n",
      " 48  season                         1135207 non-null  int64  \n",
      " 49  drive_ended_with_score         1126320 non-null  float64\n",
      " 50  away_score                     1135207 non-null  int64  \n",
      " 51  home_score                     1135207 non-null  int64  \n",
      " 52  location                       1135207 non-null  object \n",
      " 53  result                         1135207 non-null  int64  \n",
      " 54  total                          1135207 non-null  int64  \n",
      " 55  spread_line                    1135207 non-null  float64\n",
      " 56  total_line                     1135207 non-null  float64\n",
      " 57  div_game                       1135207 non-null  int64  \n",
      " 58  roof                           1135207 non-null  object \n",
      " 59  surface                        1127984 non-null  object \n",
      " 60  pass                           1135207 non-null  float64\n",
      " 61  rush                           1135207 non-null  float64\n",
      " 62  posteam_score                  1071420 non-null  float64\n",
      " 63  posteam_score_post             1071888 non-null  float64\n",
      " 64  defteam_score                  1071420 non-null  float64\n",
      " 65  defteam_score_post             1071888 non-null  float64\n",
      " 66  desc                           1135207 non-null  object \n",
      "dtypes: float64(34), int64(10), object(23)\n",
      "memory usage: 580.3+ MB\n"
     ]
    }
   ],
   "source": [
    "defense_df.info()"
   ]
  },
  {
   "cell_type": "markdown",
   "id": "27f68531-9bfb-401f-9d34-6d18b5dc91f5",
   "metadata": {},
   "source": [
    "# Functions\n",
    "We're going to do a lot of grouping of dataframes, and these two functions will be useful. The first one can be used when we're aggregating multiple columns. The second one can be used when we just aggregate a single column.<br>\n",
    "\n",
    "The third function basically expands our base dataframe every time we aggregate a new column.<br>\n",
    "\n",
    "First, we'll create three lists that will be used as arguments to the functions, and below the functions is the aggregration dictionary that will be used as an argument the first time we use the group_cols function."
   ]
  },
  {
   "cell_type": "code",
   "execution_count": 315,
   "id": "d80b847b-3c55-41ae-8536-14e7f1745c02",
   "metadata": {},
   "outputs": [],
   "source": [
    "cols_to_group_defteam = ['season', 'week', 'game_id', 'defteam'] #defteam is the last item in the list\n",
    "cols_to_group_tdteam = ['season', 'week', 'game_id', 'td_team'] #td team is the last item in the list\n",
    "cols_to_group_posteam = ['season', 'week', 'game_id', 'posteam'] #posteam is the last item in the list"
   ]
  },
  {
   "cell_type": "code",
   "execution_count": 316,
   "id": "e0246632-d48e-4c60-bcaf-56787c1a63ed",
   "metadata": {},
   "outputs": [],
   "source": [
    "def group_cols(df, cols, agg_dict):\n",
    "    \"\"\"\n",
    "    Function that groups columns with an aggregation dictionary\n",
    "    \"\"\"\n",
    "    group_df = df.groupby(cols).agg(agg_dict).reset_index()\n",
    "    return group_df"
   ]
  },
  {
   "cell_type": "code",
   "execution_count": 317,
   "id": "472f1e72-4bcb-4703-a11b-82019e6431af",
   "metadata": {},
   "outputs": [],
   "source": [
    "def group_cols_count(df, cols, output_col_name='count'):\n",
    "    \"\"\"\n",
    "    Function that groups columns and counts the occurrences, outputting one column with a custom name.\n",
    "    \"\"\"\n",
    "    group_df = df.groupby(cols).size().reset_index(name=output_col_name)\n",
    "    return group_df"
   ]
  },
  {
   "cell_type": "code",
   "execution_count": 318,
   "id": "2bce0486-d6b7-46dd-85f6-b040e463e272",
   "metadata": {},
   "outputs": [],
   "source": [
    "def expand_base_df(left, right, list):\n",
    "    \"\"\"\n",
    "    This function merges our existing dataframe with a new one that essentially adds a column to it. It then fills the null values with 0.\n",
    "    \"\"\"\n",
    "    base_df = pd.merge(left, right, on = list, how = 'left')\n",
    "    base_df = base_df.fillna(0)\n",
    "    return base_df"
   ]
  },
  {
   "cell_type": "code",
   "execution_count": 319,
   "id": "3e0012fb-dc96-4e7d-9115-63258a44936c",
   "metadata": {},
   "outputs": [],
   "source": [
    "ints_sacks_agg = {'interception': 'sum', 'sack': 'sum', 'safety': 'sum'}"
   ]
  },
  {
   "cell_type": "markdown",
   "id": "632dccc9-7065-4e08-b31b-235213db32cd",
   "metadata": {},
   "source": [
    "# Creating base dataframe\n",
    "We'll start by grouping the defense dataframe so that there's an observation for every team in every game. The defteam variable gives us the plays in which that team was on defense. We'll group here for interception, sack and safety totals in each game for every team. Then we'll join the subsequent dataframes we create to this one."
   ]
  },
  {
   "cell_type": "code",
   "execution_count": 320,
   "id": "b67f516b-e7c2-4c6f-b5b6-ee0204f10ef2",
   "metadata": {},
   "outputs": [],
   "source": [
    "base_df = group_cols(defense_df, cols_to_group_defteam, ints_sacks_agg)"
   ]
  },
  {
   "cell_type": "code",
   "execution_count": 321,
   "id": "28b8b6b2-190e-447e-9b85-a054fdf1fc98",
   "metadata": {},
   "outputs": [
    {
     "data": {
      "text/html": [
       "<div>\n",
       "<style scoped>\n",
       "    .dataframe tbody tr th:only-of-type {\n",
       "        vertical-align: middle;\n",
       "    }\n",
       "\n",
       "    .dataframe tbody tr th {\n",
       "        vertical-align: top;\n",
       "    }\n",
       "\n",
       "    .dataframe thead th {\n",
       "        text-align: right;\n",
       "    }\n",
       "</style>\n",
       "<table border=\"1\" class=\"dataframe\">\n",
       "  <thead>\n",
       "    <tr style=\"text-align: right;\">\n",
       "      <th></th>\n",
       "      <th>season</th>\n",
       "      <th>week</th>\n",
       "      <th>game_id</th>\n",
       "      <th>defteam</th>\n",
       "      <th>interception</th>\n",
       "      <th>sack</th>\n",
       "      <th>safety</th>\n",
       "    </tr>\n",
       "  </thead>\n",
       "  <tbody>\n",
       "    <tr>\n",
       "      <th>0</th>\n",
       "      <td>2000</td>\n",
       "      <td>1</td>\n",
       "      <td>2000_01_ARI_NYG</td>\n",
       "      <td>ARI</td>\n",
       "      <td>1.0</td>\n",
       "      <td>0.0</td>\n",
       "      <td>0.0</td>\n",
       "    </tr>\n",
       "    <tr>\n",
       "      <th>1</th>\n",
       "      <td>2000</td>\n",
       "      <td>1</td>\n",
       "      <td>2000_01_ARI_NYG</td>\n",
       "      <td>NYG</td>\n",
       "      <td>3.0</td>\n",
       "      <td>1.0</td>\n",
       "      <td>0.0</td>\n",
       "    </tr>\n",
       "    <tr>\n",
       "      <th>2</th>\n",
       "      <td>2000</td>\n",
       "      <td>1</td>\n",
       "      <td>2000_01_BAL_PIT</td>\n",
       "      <td>BAL</td>\n",
       "      <td>0.0</td>\n",
       "      <td>1.0</td>\n",
       "      <td>0.0</td>\n",
       "    </tr>\n",
       "    <tr>\n",
       "      <th>3</th>\n",
       "      <td>2000</td>\n",
       "      <td>1</td>\n",
       "      <td>2000_01_BAL_PIT</td>\n",
       "      <td>PIT</td>\n",
       "      <td>0.0</td>\n",
       "      <td>1.0</td>\n",
       "      <td>0.0</td>\n",
       "    </tr>\n",
       "    <tr>\n",
       "      <th>4</th>\n",
       "      <td>2000</td>\n",
       "      <td>1</td>\n",
       "      <td>2000_01_CAR_WAS</td>\n",
       "      <td>CAR</td>\n",
       "      <td>0.0</td>\n",
       "      <td>0.0</td>\n",
       "      <td>0.0</td>\n",
       "    </tr>\n",
       "  </tbody>\n",
       "</table>\n",
       "</div>"
      ],
      "text/plain": [
       "   season  week          game_id defteam  interception  sack  safety\n",
       "0    2000     1  2000_01_ARI_NYG     ARI           1.0   0.0     0.0\n",
       "1    2000     1  2000_01_ARI_NYG     NYG           3.0   1.0     0.0\n",
       "2    2000     1  2000_01_BAL_PIT     BAL           0.0   1.0     0.0\n",
       "3    2000     1  2000_01_BAL_PIT     PIT           0.0   1.0     0.0\n",
       "4    2000     1  2000_01_CAR_WAS     CAR           0.0   0.0     0.0"
      ]
     },
     "execution_count": 321,
     "metadata": {},
     "output_type": "execute_result"
    }
   ],
   "source": [
    "base_df.head()"
   ]
  },
  {
   "cell_type": "code",
   "execution_count": 322,
   "id": "7c67b2d8-61ed-4b1f-8ed8-2ab921c02c13",
   "metadata": {},
   "outputs": [
    {
     "name": "stdout",
     "output_type": "stream",
     "text": [
      "<class 'pandas.core.frame.DataFrame'>\n",
      "RangeIndex: 12890 entries, 0 to 12889\n",
      "Data columns (total 7 columns):\n",
      " #   Column        Non-Null Count  Dtype  \n",
      "---  ------        --------------  -----  \n",
      " 0   season        12890 non-null  int64  \n",
      " 1   week          12890 non-null  int64  \n",
      " 2   game_id       12890 non-null  object \n",
      " 3   defteam       12890 non-null  object \n",
      " 4   interception  12890 non-null  float64\n",
      " 5   sack          12890 non-null  float64\n",
      " 6   safety        12890 non-null  float64\n",
      "dtypes: float64(3), int64(2), object(2)\n",
      "memory usage: 705.0+ KB\n"
     ]
    }
   ],
   "source": [
    "base_df.info()"
   ]
  },
  {
   "cell_type": "markdown",
   "id": "bb69ad8f-5dc2-44c7-a976-c2292508ab59",
   "metadata": {},
   "source": [
    "# Return touchdowns\n",
    "There are lots of ways return touchdowns can be scored: interceptions, fumble recoveries, kickoffs, punts, blocked punts or field goals. We were going to filter for all of them individually, but since all of them are worth six points for a fantasy defense, we'll just filter for all return touchdowns. There are some cases where a kickoff was fumbled, recovered by the kicking team and returned for a touchdown. Something like this could be counted twice if we filtered for kickoff returns and fumble returns individually."
   ]
  },
  {
   "cell_type": "code",
   "execution_count": 323,
   "id": "c3fa403d-b3ab-4a84-b888-3b817506a8f9",
   "metadata": {},
   "outputs": [],
   "source": [
    "return_tds = defense_df[(defense_df['return_touchdown'] == 1)]"
   ]
  },
  {
   "cell_type": "code",
   "execution_count": 324,
   "id": "7cb6a027-6078-4de6-8c6d-6a222a65c31a",
   "metadata": {},
   "outputs": [],
   "source": [
    "return_tds = group_cols_count(return_tds, cols_to_group_tdteam, 'return_tds')"
   ]
  },
  {
   "cell_type": "code",
   "execution_count": 325,
   "id": "136ce8ca-4e20-4e4a-943e-08706f2193d7",
   "metadata": {},
   "outputs": [
    {
     "data": {
      "text/html": [
       "<div>\n",
       "<style scoped>\n",
       "    .dataframe tbody tr th:only-of-type {\n",
       "        vertical-align: middle;\n",
       "    }\n",
       "\n",
       "    .dataframe tbody tr th {\n",
       "        vertical-align: top;\n",
       "    }\n",
       "\n",
       "    .dataframe thead th {\n",
       "        text-align: right;\n",
       "    }\n",
       "</style>\n",
       "<table border=\"1\" class=\"dataframe\">\n",
       "  <thead>\n",
       "    <tr style=\"text-align: right;\">\n",
       "      <th></th>\n",
       "      <th>season</th>\n",
       "      <th>week</th>\n",
       "      <th>game_id</th>\n",
       "      <th>td_team</th>\n",
       "      <th>return_tds</th>\n",
       "    </tr>\n",
       "  </thead>\n",
       "  <tbody>\n",
       "    <tr>\n",
       "      <th>0</th>\n",
       "      <td>2000</td>\n",
       "      <td>1</td>\n",
       "      <td>2000_01_CAR_WAS</td>\n",
       "      <td>CAR</td>\n",
       "      <td>1</td>\n",
       "    </tr>\n",
       "    <tr>\n",
       "      <th>1</th>\n",
       "      <td>2000</td>\n",
       "      <td>1</td>\n",
       "      <td>2000_01_DEN_STL</td>\n",
       "      <td>DEN</td>\n",
       "      <td>1</td>\n",
       "    </tr>\n",
       "    <tr>\n",
       "      <th>2</th>\n",
       "      <td>2000</td>\n",
       "      <td>1</td>\n",
       "      <td>2000_01_DEN_STL</td>\n",
       "      <td>LA</td>\n",
       "      <td>1</td>\n",
       "    </tr>\n",
       "    <tr>\n",
       "      <th>3</th>\n",
       "      <td>2000</td>\n",
       "      <td>1</td>\n",
       "      <td>2000_01_DET_NO</td>\n",
       "      <td>DET</td>\n",
       "      <td>1</td>\n",
       "    </tr>\n",
       "    <tr>\n",
       "      <th>4</th>\n",
       "      <td>2000</td>\n",
       "      <td>1</td>\n",
       "      <td>2000_01_DET_NO</td>\n",
       "      <td>NO</td>\n",
       "      <td>1</td>\n",
       "    </tr>\n",
       "  </tbody>\n",
       "</table>\n",
       "</div>"
      ],
      "text/plain": [
       "   season  week          game_id td_team  return_tds\n",
       "0    2000     1  2000_01_CAR_WAS     CAR           1\n",
       "1    2000     1  2000_01_DEN_STL     DEN           1\n",
       "2    2000     1  2000_01_DEN_STL      LA           1\n",
       "3    2000     1   2000_01_DET_NO     DET           1\n",
       "4    2000     1   2000_01_DET_NO      NO           1"
      ]
     },
     "execution_count": 325,
     "metadata": {},
     "output_type": "execute_result"
    }
   ],
   "source": [
    "return_tds.head()"
   ]
  },
  {
   "cell_type": "code",
   "execution_count": 326,
   "id": "e7a7dd5a-5107-4a8f-9031-9ab536a839f8",
   "metadata": {},
   "outputs": [
    {
     "data": {
      "text/plain": [
       "return_tds\n",
       "1    1907\n",
       "2     213\n",
       "3      25\n",
       "4       1\n",
       "Name: count, dtype: int64"
      ]
     },
     "execution_count": 326,
     "metadata": {},
     "output_type": "execute_result"
    }
   ],
   "source": [
    "return_tds['return_tds'].value_counts()"
   ]
  },
  {
   "cell_type": "code",
   "execution_count": 327,
   "id": "19190e2f-eb55-4473-bfb5-d85813833d54",
   "metadata": {},
   "outputs": [
    {
     "data": {
      "text/html": [
       "<div>\n",
       "<style scoped>\n",
       "    .dataframe tbody tr th:only-of-type {\n",
       "        vertical-align: middle;\n",
       "    }\n",
       "\n",
       "    .dataframe tbody tr th {\n",
       "        vertical-align: top;\n",
       "    }\n",
       "\n",
       "    .dataframe thead th {\n",
       "        text-align: right;\n",
       "    }\n",
       "</style>\n",
       "<table border=\"1\" class=\"dataframe\">\n",
       "  <thead>\n",
       "    <tr style=\"text-align: right;\">\n",
       "      <th></th>\n",
       "      <th>season</th>\n",
       "      <th>week</th>\n",
       "      <th>game_id</th>\n",
       "      <th>td_team</th>\n",
       "      <th>return_tds</th>\n",
       "    </tr>\n",
       "  </thead>\n",
       "  <tbody>\n",
       "    <tr>\n",
       "      <th>1284</th>\n",
       "      <td>2012</td>\n",
       "      <td>17</td>\n",
       "      <td>2012_17_JAX_TEN</td>\n",
       "      <td>TEN</td>\n",
       "      <td>4</td>\n",
       "    </tr>\n",
       "    <tr>\n",
       "      <th>569</th>\n",
       "      <td>2005</td>\n",
       "      <td>13</td>\n",
       "      <td>2005_13_SEA_PHI</td>\n",
       "      <td>SEA</td>\n",
       "      <td>3</td>\n",
       "    </tr>\n",
       "    <tr>\n",
       "      <th>276</th>\n",
       "      <td>2002</td>\n",
       "      <td>14</td>\n",
       "      <td>2002_14_STL_KC</td>\n",
       "      <td>KC</td>\n",
       "      <td>3</td>\n",
       "    </tr>\n",
       "    <tr>\n",
       "      <th>663</th>\n",
       "      <td>2006</td>\n",
       "      <td>15</td>\n",
       "      <td>2006_15_JAX_TEN</td>\n",
       "      <td>TEN</td>\n",
       "      <td>3</td>\n",
       "    </tr>\n",
       "    <tr>\n",
       "      <th>1245</th>\n",
       "      <td>2012</td>\n",
       "      <td>11</td>\n",
       "      <td>2012_11_IND_NE</td>\n",
       "      <td>NE</td>\n",
       "      <td>3</td>\n",
       "    </tr>\n",
       "    <tr>\n",
       "      <th>...</th>\n",
       "      <td>...</td>\n",
       "      <td>...</td>\n",
       "      <td>...</td>\n",
       "      <td>...</td>\n",
       "      <td>...</td>\n",
       "    </tr>\n",
       "    <tr>\n",
       "      <th>744</th>\n",
       "      <td>2007</td>\n",
       "      <td>9</td>\n",
       "      <td>2007_09_WAS_NYJ</td>\n",
       "      <td>NYJ</td>\n",
       "      <td>1</td>\n",
       "    </tr>\n",
       "    <tr>\n",
       "      <th>743</th>\n",
       "      <td>2007</td>\n",
       "      <td>9</td>\n",
       "      <td>2007_09_SEA_CLE</td>\n",
       "      <td>SEA</td>\n",
       "      <td>1</td>\n",
       "    </tr>\n",
       "    <tr>\n",
       "      <th>742</th>\n",
       "      <td>2007</td>\n",
       "      <td>9</td>\n",
       "      <td>2007_09_JAX_NO</td>\n",
       "      <td>NO</td>\n",
       "      <td>1</td>\n",
       "    </tr>\n",
       "    <tr>\n",
       "      <th>741</th>\n",
       "      <td>2007</td>\n",
       "      <td>9</td>\n",
       "      <td>2007_09_JAX_NO</td>\n",
       "      <td>JAX</td>\n",
       "      <td>1</td>\n",
       "    </tr>\n",
       "    <tr>\n",
       "      <th>2145</th>\n",
       "      <td>2023</td>\n",
       "      <td>20</td>\n",
       "      <td>2023_20_HOU_BAL</td>\n",
       "      <td>HOU</td>\n",
       "      <td>1</td>\n",
       "    </tr>\n",
       "  </tbody>\n",
       "</table>\n",
       "<p>2146 rows × 5 columns</p>\n",
       "</div>"
      ],
      "text/plain": [
       "      season  week          game_id td_team  return_tds\n",
       "1284    2012    17  2012_17_JAX_TEN     TEN           4\n",
       "569     2005    13  2005_13_SEA_PHI     SEA           3\n",
       "276     2002    14   2002_14_STL_KC      KC           3\n",
       "663     2006    15  2006_15_JAX_TEN     TEN           3\n",
       "1245    2012    11   2012_11_IND_NE      NE           3\n",
       "...      ...   ...              ...     ...         ...\n",
       "744     2007     9  2007_09_WAS_NYJ     NYJ           1\n",
       "743     2007     9  2007_09_SEA_CLE     SEA           1\n",
       "742     2007     9   2007_09_JAX_NO      NO           1\n",
       "741     2007     9   2007_09_JAX_NO     JAX           1\n",
       "2145    2023    20  2023_20_HOU_BAL     HOU           1\n",
       "\n",
       "[2146 rows x 5 columns]"
      ]
     },
     "execution_count": 327,
     "metadata": {},
     "output_type": "execute_result"
    }
   ],
   "source": [
    "return_tds.sort_values(by = 'return_tds', ascending = False)"
   ]
  },
  {
   "cell_type": "markdown",
   "id": "36916f3a-cb8a-421c-b591-b825633f45ed",
   "metadata": {},
   "source": [
    "Once in a while, we'll need to change the column name from td_team or posteam to defteam, which is the column name we'll use in our final dataframe. "
   ]
  },
  {
   "cell_type": "code",
   "execution_count": 328,
   "id": "7c14cf8b-be3f-449c-a8e7-689026287de7",
   "metadata": {},
   "outputs": [],
   "source": [
    "return_tds.rename(columns = {'td_team': 'defteam'}, inplace = True)"
   ]
  },
  {
   "cell_type": "code",
   "execution_count": 329,
   "id": "b1df3c0c-f391-4101-afee-100c722e3eea",
   "metadata": {},
   "outputs": [],
   "source": [
    "base_df = expand_base_df(base_df, return_tds, cols_to_group_defteam)"
   ]
  },
  {
   "cell_type": "code",
   "execution_count": 330,
   "id": "348cd0c0-b1a4-4177-b304-c68f22c568d3",
   "metadata": {},
   "outputs": [
    {
     "data": {
      "text/html": [
       "<div>\n",
       "<style scoped>\n",
       "    .dataframe tbody tr th:only-of-type {\n",
       "        vertical-align: middle;\n",
       "    }\n",
       "\n",
       "    .dataframe tbody tr th {\n",
       "        vertical-align: top;\n",
       "    }\n",
       "\n",
       "    .dataframe thead th {\n",
       "        text-align: right;\n",
       "    }\n",
       "</style>\n",
       "<table border=\"1\" class=\"dataframe\">\n",
       "  <thead>\n",
       "    <tr style=\"text-align: right;\">\n",
       "      <th></th>\n",
       "      <th>season</th>\n",
       "      <th>week</th>\n",
       "      <th>game_id</th>\n",
       "      <th>defteam</th>\n",
       "      <th>interception</th>\n",
       "      <th>sack</th>\n",
       "      <th>safety</th>\n",
       "      <th>return_tds</th>\n",
       "    </tr>\n",
       "  </thead>\n",
       "  <tbody>\n",
       "    <tr>\n",
       "      <th>0</th>\n",
       "      <td>2000</td>\n",
       "      <td>1</td>\n",
       "      <td>2000_01_ARI_NYG</td>\n",
       "      <td>ARI</td>\n",
       "      <td>1.0</td>\n",
       "      <td>0.0</td>\n",
       "      <td>0.0</td>\n",
       "      <td>0.0</td>\n",
       "    </tr>\n",
       "    <tr>\n",
       "      <th>1</th>\n",
       "      <td>2000</td>\n",
       "      <td>1</td>\n",
       "      <td>2000_01_ARI_NYG</td>\n",
       "      <td>NYG</td>\n",
       "      <td>3.0</td>\n",
       "      <td>1.0</td>\n",
       "      <td>0.0</td>\n",
       "      <td>0.0</td>\n",
       "    </tr>\n",
       "    <tr>\n",
       "      <th>2</th>\n",
       "      <td>2000</td>\n",
       "      <td>1</td>\n",
       "      <td>2000_01_BAL_PIT</td>\n",
       "      <td>BAL</td>\n",
       "      <td>0.0</td>\n",
       "      <td>1.0</td>\n",
       "      <td>0.0</td>\n",
       "      <td>0.0</td>\n",
       "    </tr>\n",
       "    <tr>\n",
       "      <th>3</th>\n",
       "      <td>2000</td>\n",
       "      <td>1</td>\n",
       "      <td>2000_01_BAL_PIT</td>\n",
       "      <td>PIT</td>\n",
       "      <td>0.0</td>\n",
       "      <td>1.0</td>\n",
       "      <td>0.0</td>\n",
       "      <td>0.0</td>\n",
       "    </tr>\n",
       "    <tr>\n",
       "      <th>4</th>\n",
       "      <td>2000</td>\n",
       "      <td>1</td>\n",
       "      <td>2000_01_CAR_WAS</td>\n",
       "      <td>CAR</td>\n",
       "      <td>0.0</td>\n",
       "      <td>0.0</td>\n",
       "      <td>0.0</td>\n",
       "      <td>1.0</td>\n",
       "    </tr>\n",
       "  </tbody>\n",
       "</table>\n",
       "</div>"
      ],
      "text/plain": [
       "   season  week          game_id defteam  interception  sack  safety  \\\n",
       "0    2000     1  2000_01_ARI_NYG     ARI           1.0   0.0     0.0   \n",
       "1    2000     1  2000_01_ARI_NYG     NYG           3.0   1.0     0.0   \n",
       "2    2000     1  2000_01_BAL_PIT     BAL           0.0   1.0     0.0   \n",
       "3    2000     1  2000_01_BAL_PIT     PIT           0.0   1.0     0.0   \n",
       "4    2000     1  2000_01_CAR_WAS     CAR           0.0   0.0     0.0   \n",
       "\n",
       "   return_tds  \n",
       "0         0.0  \n",
       "1         0.0  \n",
       "2         0.0  \n",
       "3         0.0  \n",
       "4         1.0  "
      ]
     },
     "execution_count": 330,
     "metadata": {},
     "output_type": "execute_result"
    }
   ],
   "source": [
    "base_df.head()"
   ]
  },
  {
   "cell_type": "markdown",
   "id": "a5c9548a-a4d3-459a-be85-e8119b3853d9",
   "metadata": {},
   "source": [
    "# Fumble recoveries\n",
    "\n",
    "First we have to filter for defensive fumble recoveries on non-punts, because it seems that when a team punts, it's still considered the offensive team. So if the team receiving the punt loses a fumble, it's not credited to the defense. Teams kicking off are considered the defensive team. On non-punt plays, if defteam matches fumble_recovery_1_team or fumble_recovery_2_team, it should count as a fumble recovery for the defense."
   ]
  },
  {
   "cell_type": "code",
   "execution_count": 331,
   "id": "f74f0eb3-c787-4b71-8abb-061790ea5e37",
   "metadata": {},
   "outputs": [],
   "source": [
    "fumble_df = defense_df[defense_df['fumble_lost'] == True]"
   ]
  },
  {
   "cell_type": "code",
   "execution_count": 332,
   "id": "c13b99d2-77ea-4af3-973b-ad585d8f1886",
   "metadata": {},
   "outputs": [],
   "source": [
    "fumble_no_punt = defense_df[(defense_df['fumble_lost'] == True) & (defense_df['punt_attempt'] == False)]"
   ]
  },
  {
   "cell_type": "code",
   "execution_count": 333,
   "id": "6ce56385-145d-418b-a792-83ddddcdfdc1",
   "metadata": {},
   "outputs": [],
   "source": [
    "fumble_no_punt = fumble_no_punt[(fumble_no_punt['defteam'] == fumble_no_punt['fumble_recovery_1_team']) | (fumble_no_punt['defteam'] == fumble_no_punt['fumble_recovery_2_team'])]"
   ]
  },
  {
   "cell_type": "code",
   "execution_count": 334,
   "id": "b310f2ed-2af4-4bce-bf5a-c077dfa450f1",
   "metadata": {},
   "outputs": [],
   "source": [
    "fumble_recoveries = group_cols_count(fumble_no_punt, cols_to_group_defteam, 'fumble_recoveries')"
   ]
  },
  {
   "cell_type": "code",
   "execution_count": 335,
   "id": "6e57a5de-4968-4c57-8f97-4755d2edaff4",
   "metadata": {},
   "outputs": [
    {
     "data": {
      "text/html": [
       "<div>\n",
       "<style scoped>\n",
       "    .dataframe tbody tr th:only-of-type {\n",
       "        vertical-align: middle;\n",
       "    }\n",
       "\n",
       "    .dataframe tbody tr th {\n",
       "        vertical-align: top;\n",
       "    }\n",
       "\n",
       "    .dataframe thead th {\n",
       "        text-align: right;\n",
       "    }\n",
       "</style>\n",
       "<table border=\"1\" class=\"dataframe\">\n",
       "  <thead>\n",
       "    <tr style=\"text-align: right;\">\n",
       "      <th></th>\n",
       "      <th>season</th>\n",
       "      <th>week</th>\n",
       "      <th>game_id</th>\n",
       "      <th>defteam</th>\n",
       "      <th>fumble_recoveries</th>\n",
       "    </tr>\n",
       "  </thead>\n",
       "  <tbody>\n",
       "    <tr>\n",
       "      <th>0</th>\n",
       "      <td>2000</td>\n",
       "      <td>1</td>\n",
       "      <td>2000_01_ARI_NYG</td>\n",
       "      <td>ARI</td>\n",
       "      <td>1</td>\n",
       "    </tr>\n",
       "    <tr>\n",
       "      <th>1</th>\n",
       "      <td>2000</td>\n",
       "      <td>1</td>\n",
       "      <td>2000_01_ARI_NYG</td>\n",
       "      <td>NYG</td>\n",
       "      <td>1</td>\n",
       "    </tr>\n",
       "    <tr>\n",
       "      <th>2</th>\n",
       "      <td>2000</td>\n",
       "      <td>1</td>\n",
       "      <td>2000_01_BAL_PIT</td>\n",
       "      <td>BAL</td>\n",
       "      <td>1</td>\n",
       "    </tr>\n",
       "    <tr>\n",
       "      <th>3</th>\n",
       "      <td>2000</td>\n",
       "      <td>1</td>\n",
       "      <td>2000_01_CAR_WAS</td>\n",
       "      <td>WAS</td>\n",
       "      <td>1</td>\n",
       "    </tr>\n",
       "    <tr>\n",
       "      <th>4</th>\n",
       "      <td>2000</td>\n",
       "      <td>1</td>\n",
       "      <td>2000_01_CHI_MIN</td>\n",
       "      <td>MIN</td>\n",
       "      <td>1</td>\n",
       "    </tr>\n",
       "  </tbody>\n",
       "</table>\n",
       "</div>"
      ],
      "text/plain": [
       "   season  week          game_id defteam  fumble_recoveries\n",
       "0    2000     1  2000_01_ARI_NYG     ARI                  1\n",
       "1    2000     1  2000_01_ARI_NYG     NYG                  1\n",
       "2    2000     1  2000_01_BAL_PIT     BAL                  1\n",
       "3    2000     1  2000_01_CAR_WAS     WAS                  1\n",
       "4    2000     1  2000_01_CHI_MIN     MIN                  1"
      ]
     },
     "execution_count": 335,
     "metadata": {},
     "output_type": "execute_result"
    }
   ],
   "source": [
    "fumble_recoveries.head()"
   ]
  },
  {
   "cell_type": "code",
   "execution_count": 336,
   "id": "7c120326-c5ba-46c7-ad1c-330fc3d65968",
   "metadata": {},
   "outputs": [],
   "source": [
    "base_df = expand_base_df(base_df, fumble_recoveries, cols_to_group_defteam)"
   ]
  },
  {
   "cell_type": "markdown",
   "id": "3e9eacbe-dba3-4eeb-a6da-537b1b562eac",
   "metadata": {},
   "source": [
    "Apparently, DraftKings awards a fumble recovery to a defense if the offensive team recovers a defensive fumble after fumbling a ball away to the defense. So we'll create a column for that."
   ]
  },
  {
   "cell_type": "code",
   "execution_count": 337,
   "id": "a2b1d784-10df-4d29-9e40-f93bc1c2c9bf",
   "metadata": {},
   "outputs": [],
   "source": [
    "fumble_rec_dk = fumble_no_punt[fumble_no_punt['posteam'] == fumble_no_punt['fumble_recovery_2_team']]"
   ]
  },
  {
   "cell_type": "code",
   "execution_count": 338,
   "id": "f9683ca2-a1fa-473f-9500-f7234972dcb8",
   "metadata": {},
   "outputs": [],
   "source": [
    "fumble_rec_dk = group_cols_count(fumble_rec_dk, cols_to_group_posteam, 'off_fum_rec_dk')"
   ]
  },
  {
   "cell_type": "code",
   "execution_count": 339,
   "id": "a5517978-13e9-49fe-ba4a-1db80a01bb34",
   "metadata": {},
   "outputs": [],
   "source": [
    "fumble_rec_dk.rename(columns = {'posteam': 'defteam'}, inplace = True)"
   ]
  },
  {
   "cell_type": "code",
   "execution_count": 340,
   "id": "38999028-7201-4ad7-80cc-e04c0cfe129b",
   "metadata": {},
   "outputs": [],
   "source": [
    "base_df = expand_base_df(base_df, fumble_rec_dk, cols_to_group_defteam)"
   ]
  },
  {
   "cell_type": "markdown",
   "id": "bfee276b-3cfd-4de2-8d04-787cc31ac745",
   "metadata": {},
   "source": [
    "# Fumble recoveries on punts\n",
    "Since a punting team is still considered the team with possession of the ball (posteam), if the team receiving the punt loses the ball on a fumble, we need to ensure that the fantasy defense is credited with a fumble recovery."
   ]
  },
  {
   "cell_type": "code",
   "execution_count": 341,
   "id": "599a2149-ef19-4b4d-8114-b62bcbf72758",
   "metadata": {},
   "outputs": [],
   "source": [
    "fumble_punt = defense_df[(defense_df['fumble_lost'] == True) & (defense_df['punt_attempt'] == True)]"
   ]
  },
  {
   "cell_type": "code",
   "execution_count": 342,
   "id": "d898433e-d596-4e9c-ae5a-d4a82f8f8e0f",
   "metadata": {},
   "outputs": [],
   "source": [
    "fumble_punt = fumble_punt[(fumble_punt['posteam'] == fumble_punt['fumble_recovery_1_team'])\\\n",
    "| (fumble_punt['posteam'] == fumble_punt['fumble_recovery_2_team'])]"
   ]
  },
  {
   "cell_type": "code",
   "execution_count": 343,
   "id": "0ecbb45c-4c9f-4e8b-819e-afd94321b1b7",
   "metadata": {},
   "outputs": [],
   "source": [
    "fumble_punt = group_cols_count(fumble_punt, cols_to_group_posteam, 'punt_fum_rec')"
   ]
  },
  {
   "cell_type": "code",
   "execution_count": 344,
   "id": "28847ce8-b8d3-4d96-92c7-5eec8bf94111",
   "metadata": {},
   "outputs": [],
   "source": [
    "fumble_punt.rename(columns = {'posteam': 'defteam'}, inplace = True)"
   ]
  },
  {
   "cell_type": "code",
   "execution_count": 345,
   "id": "53999982-2a86-471c-92c4-dc337f3741a2",
   "metadata": {},
   "outputs": [],
   "source": [
    "base_df = expand_base_df(base_df, fumble_punt, cols_to_group_defteam)"
   ]
  },
  {
   "cell_type": "code",
   "execution_count": 346,
   "id": "882ca088-e6a9-4992-8209-3d6c9eb31de7",
   "metadata": {},
   "outputs": [
    {
     "data": {
      "text/html": [
       "<div>\n",
       "<style scoped>\n",
       "    .dataframe tbody tr th:only-of-type {\n",
       "        vertical-align: middle;\n",
       "    }\n",
       "\n",
       "    .dataframe tbody tr th {\n",
       "        vertical-align: top;\n",
       "    }\n",
       "\n",
       "    .dataframe thead th {\n",
       "        text-align: right;\n",
       "    }\n",
       "</style>\n",
       "<table border=\"1\" class=\"dataframe\">\n",
       "  <thead>\n",
       "    <tr style=\"text-align: right;\">\n",
       "      <th></th>\n",
       "      <th>season</th>\n",
       "      <th>week</th>\n",
       "      <th>game_id</th>\n",
       "      <th>defteam</th>\n",
       "      <th>interception</th>\n",
       "      <th>sack</th>\n",
       "      <th>safety</th>\n",
       "      <th>return_tds</th>\n",
       "      <th>fumble_recoveries</th>\n",
       "      <th>off_fum_rec_dk</th>\n",
       "      <th>punt_fum_rec</th>\n",
       "    </tr>\n",
       "  </thead>\n",
       "  <tbody>\n",
       "    <tr>\n",
       "      <th>0</th>\n",
       "      <td>2000</td>\n",
       "      <td>1</td>\n",
       "      <td>2000_01_ARI_NYG</td>\n",
       "      <td>ARI</td>\n",
       "      <td>1.0</td>\n",
       "      <td>0.0</td>\n",
       "      <td>0.0</td>\n",
       "      <td>0.0</td>\n",
       "      <td>1.0</td>\n",
       "      <td>0.0</td>\n",
       "      <td>0.0</td>\n",
       "    </tr>\n",
       "    <tr>\n",
       "      <th>1</th>\n",
       "      <td>2000</td>\n",
       "      <td>1</td>\n",
       "      <td>2000_01_ARI_NYG</td>\n",
       "      <td>NYG</td>\n",
       "      <td>3.0</td>\n",
       "      <td>1.0</td>\n",
       "      <td>0.0</td>\n",
       "      <td>0.0</td>\n",
       "      <td>1.0</td>\n",
       "      <td>0.0</td>\n",
       "      <td>0.0</td>\n",
       "    </tr>\n",
       "    <tr>\n",
       "      <th>2</th>\n",
       "      <td>2000</td>\n",
       "      <td>1</td>\n",
       "      <td>2000_01_BAL_PIT</td>\n",
       "      <td>BAL</td>\n",
       "      <td>0.0</td>\n",
       "      <td>1.0</td>\n",
       "      <td>0.0</td>\n",
       "      <td>0.0</td>\n",
       "      <td>1.0</td>\n",
       "      <td>0.0</td>\n",
       "      <td>0.0</td>\n",
       "    </tr>\n",
       "    <tr>\n",
       "      <th>3</th>\n",
       "      <td>2000</td>\n",
       "      <td>1</td>\n",
       "      <td>2000_01_BAL_PIT</td>\n",
       "      <td>PIT</td>\n",
       "      <td>0.0</td>\n",
       "      <td>1.0</td>\n",
       "      <td>0.0</td>\n",
       "      <td>0.0</td>\n",
       "      <td>0.0</td>\n",
       "      <td>0.0</td>\n",
       "      <td>0.0</td>\n",
       "    </tr>\n",
       "    <tr>\n",
       "      <th>4</th>\n",
       "      <td>2000</td>\n",
       "      <td>1</td>\n",
       "      <td>2000_01_CAR_WAS</td>\n",
       "      <td>CAR</td>\n",
       "      <td>0.0</td>\n",
       "      <td>0.0</td>\n",
       "      <td>0.0</td>\n",
       "      <td>1.0</td>\n",
       "      <td>0.0</td>\n",
       "      <td>0.0</td>\n",
       "      <td>0.0</td>\n",
       "    </tr>\n",
       "  </tbody>\n",
       "</table>\n",
       "</div>"
      ],
      "text/plain": [
       "   season  week          game_id defteam  interception  sack  safety  \\\n",
       "0    2000     1  2000_01_ARI_NYG     ARI           1.0   0.0     0.0   \n",
       "1    2000     1  2000_01_ARI_NYG     NYG           3.0   1.0     0.0   \n",
       "2    2000     1  2000_01_BAL_PIT     BAL           0.0   1.0     0.0   \n",
       "3    2000     1  2000_01_BAL_PIT     PIT           0.0   1.0     0.0   \n",
       "4    2000     1  2000_01_CAR_WAS     CAR           0.0   0.0     0.0   \n",
       "\n",
       "   return_tds  fumble_recoveries  off_fum_rec_dk  punt_fum_rec  \n",
       "0         0.0                1.0             0.0           0.0  \n",
       "1         0.0                1.0             0.0           0.0  \n",
       "2         0.0                1.0             0.0           0.0  \n",
       "3         0.0                0.0             0.0           0.0  \n",
       "4         1.0                0.0             0.0           0.0  "
      ]
     },
     "execution_count": 346,
     "metadata": {},
     "output_type": "execute_result"
    }
   ],
   "source": [
    "base_df.head()"
   ]
  },
  {
   "cell_type": "markdown",
   "id": "8f4bec5d-335f-4dce-b399-d80512768022",
   "metadata": {},
   "source": [
    "# Blocked punts, field goals and extra points"
   ]
  },
  {
   "cell_type": "code",
   "execution_count": 347,
   "id": "e49b23ca-7982-494f-bab2-c361e5856b52",
   "metadata": {},
   "outputs": [],
   "source": [
    "blocked_punts = defense_df[defense_df['punt_blocked'] == True]"
   ]
  },
  {
   "cell_type": "code",
   "execution_count": 348,
   "id": "5feb28c5-0495-4791-a6e0-65b7603bdb15",
   "metadata": {},
   "outputs": [],
   "source": [
    "blocked_punts = group_cols_count(blocked_punts, cols_to_group_defteam, 'blocked_punts')"
   ]
  },
  {
   "cell_type": "code",
   "execution_count": 349,
   "id": "5468ecee-3da3-44e3-bb7d-74c886042f36",
   "metadata": {},
   "outputs": [
    {
     "data": {
      "text/html": [
       "<div>\n",
       "<style scoped>\n",
       "    .dataframe tbody tr th:only-of-type {\n",
       "        vertical-align: middle;\n",
       "    }\n",
       "\n",
       "    .dataframe tbody tr th {\n",
       "        vertical-align: top;\n",
       "    }\n",
       "\n",
       "    .dataframe thead th {\n",
       "        text-align: right;\n",
       "    }\n",
       "</style>\n",
       "<table border=\"1\" class=\"dataframe\">\n",
       "  <thead>\n",
       "    <tr style=\"text-align: right;\">\n",
       "      <th></th>\n",
       "      <th>season</th>\n",
       "      <th>week</th>\n",
       "      <th>game_id</th>\n",
       "      <th>defteam</th>\n",
       "      <th>blocked_punts</th>\n",
       "    </tr>\n",
       "  </thead>\n",
       "  <tbody>\n",
       "    <tr>\n",
       "      <th>0</th>\n",
       "      <td>2000</td>\n",
       "      <td>3</td>\n",
       "      <td>2000_03_ATL_CAR</td>\n",
       "      <td>ATL</td>\n",
       "      <td>1</td>\n",
       "    </tr>\n",
       "    <tr>\n",
       "      <th>1</th>\n",
       "      <td>2000</td>\n",
       "      <td>3</td>\n",
       "      <td>2000_03_DEN_OAK</td>\n",
       "      <td>LV</td>\n",
       "      <td>1</td>\n",
       "    </tr>\n",
       "    <tr>\n",
       "      <th>2</th>\n",
       "      <td>2000</td>\n",
       "      <td>3</td>\n",
       "      <td>2000_03_TB_DET</td>\n",
       "      <td>TB</td>\n",
       "      <td>1</td>\n",
       "    </tr>\n",
       "    <tr>\n",
       "      <th>3</th>\n",
       "      <td>2000</td>\n",
       "      <td>5</td>\n",
       "      <td>2000_05_PIT_JAX</td>\n",
       "      <td>JAX</td>\n",
       "      <td>1</td>\n",
       "    </tr>\n",
       "    <tr>\n",
       "      <th>4</th>\n",
       "      <td>2000</td>\n",
       "      <td>6</td>\n",
       "      <td>2000_06_OAK_SF</td>\n",
       "      <td>LV</td>\n",
       "      <td>1</td>\n",
       "    </tr>\n",
       "  </tbody>\n",
       "</table>\n",
       "</div>"
      ],
      "text/plain": [
       "   season  week          game_id defteam  blocked_punts\n",
       "0    2000     3  2000_03_ATL_CAR     ATL              1\n",
       "1    2000     3  2000_03_DEN_OAK      LV              1\n",
       "2    2000     3   2000_03_TB_DET      TB              1\n",
       "3    2000     5  2000_05_PIT_JAX     JAX              1\n",
       "4    2000     6   2000_06_OAK_SF      LV              1"
      ]
     },
     "execution_count": 349,
     "metadata": {},
     "output_type": "execute_result"
    }
   ],
   "source": [
    "blocked_punts.head()"
   ]
  },
  {
   "cell_type": "code",
   "execution_count": 350,
   "id": "1e76a6d5-e216-4679-b750-a77cc7d03ae6",
   "metadata": {},
   "outputs": [],
   "source": [
    "base_df = expand_base_df(base_df, blocked_punts, cols_to_group_defteam)"
   ]
  },
  {
   "cell_type": "code",
   "execution_count": 351,
   "id": "5cca93d8-c68f-4351-b8c1-e29fed6183d0",
   "metadata": {},
   "outputs": [
    {
     "data": {
      "text/html": [
       "<div>\n",
       "<style scoped>\n",
       "    .dataframe tbody tr th:only-of-type {\n",
       "        vertical-align: middle;\n",
       "    }\n",
       "\n",
       "    .dataframe tbody tr th {\n",
       "        vertical-align: top;\n",
       "    }\n",
       "\n",
       "    .dataframe thead th {\n",
       "        text-align: right;\n",
       "    }\n",
       "</style>\n",
       "<table border=\"1\" class=\"dataframe\">\n",
       "  <thead>\n",
       "    <tr style=\"text-align: right;\">\n",
       "      <th></th>\n",
       "      <th>season</th>\n",
       "      <th>week</th>\n",
       "      <th>game_id</th>\n",
       "      <th>defteam</th>\n",
       "      <th>interception</th>\n",
       "      <th>sack</th>\n",
       "      <th>safety</th>\n",
       "      <th>return_tds</th>\n",
       "      <th>fumble_recoveries</th>\n",
       "      <th>off_fum_rec_dk</th>\n",
       "      <th>punt_fum_rec</th>\n",
       "      <th>blocked_punts</th>\n",
       "    </tr>\n",
       "  </thead>\n",
       "  <tbody>\n",
       "    <tr>\n",
       "      <th>0</th>\n",
       "      <td>2000</td>\n",
       "      <td>1</td>\n",
       "      <td>2000_01_ARI_NYG</td>\n",
       "      <td>ARI</td>\n",
       "      <td>1.0</td>\n",
       "      <td>0.0</td>\n",
       "      <td>0.0</td>\n",
       "      <td>0.0</td>\n",
       "      <td>1.0</td>\n",
       "      <td>0.0</td>\n",
       "      <td>0.0</td>\n",
       "      <td>0.0</td>\n",
       "    </tr>\n",
       "    <tr>\n",
       "      <th>1</th>\n",
       "      <td>2000</td>\n",
       "      <td>1</td>\n",
       "      <td>2000_01_ARI_NYG</td>\n",
       "      <td>NYG</td>\n",
       "      <td>3.0</td>\n",
       "      <td>1.0</td>\n",
       "      <td>0.0</td>\n",
       "      <td>0.0</td>\n",
       "      <td>1.0</td>\n",
       "      <td>0.0</td>\n",
       "      <td>0.0</td>\n",
       "      <td>0.0</td>\n",
       "    </tr>\n",
       "    <tr>\n",
       "      <th>2</th>\n",
       "      <td>2000</td>\n",
       "      <td>1</td>\n",
       "      <td>2000_01_BAL_PIT</td>\n",
       "      <td>BAL</td>\n",
       "      <td>0.0</td>\n",
       "      <td>1.0</td>\n",
       "      <td>0.0</td>\n",
       "      <td>0.0</td>\n",
       "      <td>1.0</td>\n",
       "      <td>0.0</td>\n",
       "      <td>0.0</td>\n",
       "      <td>0.0</td>\n",
       "    </tr>\n",
       "    <tr>\n",
       "      <th>3</th>\n",
       "      <td>2000</td>\n",
       "      <td>1</td>\n",
       "      <td>2000_01_BAL_PIT</td>\n",
       "      <td>PIT</td>\n",
       "      <td>0.0</td>\n",
       "      <td>1.0</td>\n",
       "      <td>0.0</td>\n",
       "      <td>0.0</td>\n",
       "      <td>0.0</td>\n",
       "      <td>0.0</td>\n",
       "      <td>0.0</td>\n",
       "      <td>0.0</td>\n",
       "    </tr>\n",
       "    <tr>\n",
       "      <th>4</th>\n",
       "      <td>2000</td>\n",
       "      <td>1</td>\n",
       "      <td>2000_01_CAR_WAS</td>\n",
       "      <td>CAR</td>\n",
       "      <td>0.0</td>\n",
       "      <td>0.0</td>\n",
       "      <td>0.0</td>\n",
       "      <td>1.0</td>\n",
       "      <td>0.0</td>\n",
       "      <td>0.0</td>\n",
       "      <td>0.0</td>\n",
       "      <td>0.0</td>\n",
       "    </tr>\n",
       "  </tbody>\n",
       "</table>\n",
       "</div>"
      ],
      "text/plain": [
       "   season  week          game_id defteam  interception  sack  safety  \\\n",
       "0    2000     1  2000_01_ARI_NYG     ARI           1.0   0.0     0.0   \n",
       "1    2000     1  2000_01_ARI_NYG     NYG           3.0   1.0     0.0   \n",
       "2    2000     1  2000_01_BAL_PIT     BAL           0.0   1.0     0.0   \n",
       "3    2000     1  2000_01_BAL_PIT     PIT           0.0   1.0     0.0   \n",
       "4    2000     1  2000_01_CAR_WAS     CAR           0.0   0.0     0.0   \n",
       "\n",
       "   return_tds  fumble_recoveries  off_fum_rec_dk  punt_fum_rec  blocked_punts  \n",
       "0         0.0                1.0             0.0           0.0            0.0  \n",
       "1         0.0                1.0             0.0           0.0            0.0  \n",
       "2         0.0                1.0             0.0           0.0            0.0  \n",
       "3         0.0                0.0             0.0           0.0            0.0  \n",
       "4         1.0                0.0             0.0           0.0            0.0  "
      ]
     },
     "execution_count": 351,
     "metadata": {},
     "output_type": "execute_result"
    }
   ],
   "source": [
    "base_df.head()"
   ]
  },
  {
   "cell_type": "code",
   "execution_count": 352,
   "id": "15cb29b3-f115-4880-830a-b2dc0170a11e",
   "metadata": {},
   "outputs": [],
   "source": [
    "blocked_FGs = defense_df[(defense_df['field_goal_attempt'] == True) & (defense_df['field_goal_result'] == 'blocked')]"
   ]
  },
  {
   "cell_type": "code",
   "execution_count": 353,
   "id": "1b93a366-84ec-44d9-a23d-5915f4d489aa",
   "metadata": {},
   "outputs": [],
   "source": [
    "blocked_FGs = group_cols_count(blocked_FGs, cols_to_group_defteam, 'blocked_FG')"
   ]
  },
  {
   "cell_type": "code",
   "execution_count": 354,
   "id": "2f28d762-f322-45c9-b286-e2a7d4695e15",
   "metadata": {},
   "outputs": [],
   "source": [
    "base_df = expand_base_df(base_df, blocked_FGs, cols_to_group_defteam)"
   ]
  },
  {
   "cell_type": "code",
   "execution_count": 355,
   "id": "e9614c6b-e2ba-4e32-bdad-b0061ef75986",
   "metadata": {},
   "outputs": [],
   "source": [
    "blocked_XPs = defense_df[(defense_df['extra_point_attempt'] == True) & (defense_df['extra_point_result'] == 'blocked')]"
   ]
  },
  {
   "cell_type": "code",
   "execution_count": 356,
   "id": "2905d015-26cf-41ac-a38b-747555c111c2",
   "metadata": {},
   "outputs": [],
   "source": [
    "blocked_XPs = group_cols_count(blocked_XPs, cols_to_group_defteam, 'blocked_XP')"
   ]
  },
  {
   "cell_type": "code",
   "execution_count": 357,
   "id": "a4db22fd-27e2-4d86-bc56-e37abfa8a897",
   "metadata": {},
   "outputs": [],
   "source": [
    "base_df = expand_base_df(base_df, blocked_XPs, cols_to_group_defteam)"
   ]
  },
  {
   "cell_type": "code",
   "execution_count": 358,
   "id": "2f310d1d-44d3-4805-8056-1149f8d3ef6f",
   "metadata": {},
   "outputs": [
    {
     "data": {
      "text/html": [
       "<div>\n",
       "<style scoped>\n",
       "    .dataframe tbody tr th:only-of-type {\n",
       "        vertical-align: middle;\n",
       "    }\n",
       "\n",
       "    .dataframe tbody tr th {\n",
       "        vertical-align: top;\n",
       "    }\n",
       "\n",
       "    .dataframe thead th {\n",
       "        text-align: right;\n",
       "    }\n",
       "</style>\n",
       "<table border=\"1\" class=\"dataframe\">\n",
       "  <thead>\n",
       "    <tr style=\"text-align: right;\">\n",
       "      <th></th>\n",
       "      <th>season</th>\n",
       "      <th>week</th>\n",
       "      <th>game_id</th>\n",
       "      <th>defteam</th>\n",
       "      <th>interception</th>\n",
       "      <th>sack</th>\n",
       "      <th>safety</th>\n",
       "      <th>return_tds</th>\n",
       "      <th>fumble_recoveries</th>\n",
       "      <th>off_fum_rec_dk</th>\n",
       "      <th>punt_fum_rec</th>\n",
       "      <th>blocked_punts</th>\n",
       "      <th>blocked_FG</th>\n",
       "      <th>blocked_XP</th>\n",
       "    </tr>\n",
       "  </thead>\n",
       "  <tbody>\n",
       "    <tr>\n",
       "      <th>0</th>\n",
       "      <td>2000</td>\n",
       "      <td>1</td>\n",
       "      <td>2000_01_ARI_NYG</td>\n",
       "      <td>ARI</td>\n",
       "      <td>1.0</td>\n",
       "      <td>0.0</td>\n",
       "      <td>0.0</td>\n",
       "      <td>0.0</td>\n",
       "      <td>1.0</td>\n",
       "      <td>0.0</td>\n",
       "      <td>0.0</td>\n",
       "      <td>0.0</td>\n",
       "      <td>0.0</td>\n",
       "      <td>0.0</td>\n",
       "    </tr>\n",
       "    <tr>\n",
       "      <th>1</th>\n",
       "      <td>2000</td>\n",
       "      <td>1</td>\n",
       "      <td>2000_01_ARI_NYG</td>\n",
       "      <td>NYG</td>\n",
       "      <td>3.0</td>\n",
       "      <td>1.0</td>\n",
       "      <td>0.0</td>\n",
       "      <td>0.0</td>\n",
       "      <td>1.0</td>\n",
       "      <td>0.0</td>\n",
       "      <td>0.0</td>\n",
       "      <td>0.0</td>\n",
       "      <td>0.0</td>\n",
       "      <td>0.0</td>\n",
       "    </tr>\n",
       "    <tr>\n",
       "      <th>2</th>\n",
       "      <td>2000</td>\n",
       "      <td>1</td>\n",
       "      <td>2000_01_BAL_PIT</td>\n",
       "      <td>BAL</td>\n",
       "      <td>0.0</td>\n",
       "      <td>1.0</td>\n",
       "      <td>0.0</td>\n",
       "      <td>0.0</td>\n",
       "      <td>1.0</td>\n",
       "      <td>0.0</td>\n",
       "      <td>0.0</td>\n",
       "      <td>0.0</td>\n",
       "      <td>0.0</td>\n",
       "      <td>0.0</td>\n",
       "    </tr>\n",
       "    <tr>\n",
       "      <th>3</th>\n",
       "      <td>2000</td>\n",
       "      <td>1</td>\n",
       "      <td>2000_01_BAL_PIT</td>\n",
       "      <td>PIT</td>\n",
       "      <td>0.0</td>\n",
       "      <td>1.0</td>\n",
       "      <td>0.0</td>\n",
       "      <td>0.0</td>\n",
       "      <td>0.0</td>\n",
       "      <td>0.0</td>\n",
       "      <td>0.0</td>\n",
       "      <td>0.0</td>\n",
       "      <td>0.0</td>\n",
       "      <td>0.0</td>\n",
       "    </tr>\n",
       "    <tr>\n",
       "      <th>4</th>\n",
       "      <td>2000</td>\n",
       "      <td>1</td>\n",
       "      <td>2000_01_CAR_WAS</td>\n",
       "      <td>CAR</td>\n",
       "      <td>0.0</td>\n",
       "      <td>0.0</td>\n",
       "      <td>0.0</td>\n",
       "      <td>1.0</td>\n",
       "      <td>0.0</td>\n",
       "      <td>0.0</td>\n",
       "      <td>0.0</td>\n",
       "      <td>0.0</td>\n",
       "      <td>0.0</td>\n",
       "      <td>0.0</td>\n",
       "    </tr>\n",
       "  </tbody>\n",
       "</table>\n",
       "</div>"
      ],
      "text/plain": [
       "   season  week          game_id defteam  interception  sack  safety  \\\n",
       "0    2000     1  2000_01_ARI_NYG     ARI           1.0   0.0     0.0   \n",
       "1    2000     1  2000_01_ARI_NYG     NYG           3.0   1.0     0.0   \n",
       "2    2000     1  2000_01_BAL_PIT     BAL           0.0   1.0     0.0   \n",
       "3    2000     1  2000_01_BAL_PIT     PIT           0.0   1.0     0.0   \n",
       "4    2000     1  2000_01_CAR_WAS     CAR           0.0   0.0     0.0   \n",
       "\n",
       "   return_tds  fumble_recoveries  off_fum_rec_dk  punt_fum_rec  blocked_punts  \\\n",
       "0         0.0                1.0             0.0           0.0            0.0   \n",
       "1         0.0                1.0             0.0           0.0            0.0   \n",
       "2         0.0                1.0             0.0           0.0            0.0   \n",
       "3         0.0                0.0             0.0           0.0            0.0   \n",
       "4         1.0                0.0             0.0           0.0            0.0   \n",
       "\n",
       "   blocked_FG  blocked_XP  \n",
       "0         0.0         0.0  \n",
       "1         0.0         0.0  \n",
       "2         0.0         0.0  \n",
       "3         0.0         0.0  \n",
       "4         0.0         0.0  "
      ]
     },
     "execution_count": 358,
     "metadata": {},
     "output_type": "execute_result"
    }
   ],
   "source": [
    "base_df.head()"
   ]
  },
  {
   "cell_type": "markdown",
   "id": "b1cb74ea-07cd-4f8b-a3ca-e702138ef5f2",
   "metadata": {},
   "source": [
    "# Defensive 2-point conversion returns\n",
    "We've only had 12 of these since 2000."
   ]
  },
  {
   "cell_type": "code",
   "execution_count": 359,
   "id": "38024c84-de13-479f-a981-eef908656245",
   "metadata": {},
   "outputs": [],
   "source": [
    "conv_returns = defense_df[(defense_df['defensive_two_point_conv'] == True)\\\n",
    "| (defense_df['defensive_extra_point_conv'] == True)].reset_index()"
   ]
  },
  {
   "cell_type": "code",
   "execution_count": 360,
   "id": "cdb554c9-78f9-4878-9fcd-c64a9dc11150",
   "metadata": {},
   "outputs": [],
   "source": [
    "conv_returns = conv_returns[['season', 'week', 'game_id', 'defteam', 'defensive_two_point_conv', 'defensive_extra_point_conv']]"
   ]
  },
  {
   "cell_type": "code",
   "execution_count": 361,
   "id": "b39ad30f-2bd4-4cba-9471-70a05abf0295",
   "metadata": {},
   "outputs": [],
   "source": [
    "#No need to group here. These all happened in different games"
   ]
  },
  {
   "cell_type": "code",
   "execution_count": 362,
   "id": "9bc5a40c-2ab4-40e2-9101-89bc154a728c",
   "metadata": {},
   "outputs": [],
   "source": [
    "base_df = expand_base_df(base_df, conv_returns, cols_to_group_defteam)"
   ]
  },
  {
   "cell_type": "code",
   "execution_count": 363,
   "id": "a779ec70-80f5-42bf-8591-ced3d82b6a1b",
   "metadata": {},
   "outputs": [
    {
     "data": {
      "text/html": [
       "<div>\n",
       "<style scoped>\n",
       "    .dataframe tbody tr th:only-of-type {\n",
       "        vertical-align: middle;\n",
       "    }\n",
       "\n",
       "    .dataframe tbody tr th {\n",
       "        vertical-align: top;\n",
       "    }\n",
       "\n",
       "    .dataframe thead th {\n",
       "        text-align: right;\n",
       "    }\n",
       "</style>\n",
       "<table border=\"1\" class=\"dataframe\">\n",
       "  <thead>\n",
       "    <tr style=\"text-align: right;\">\n",
       "      <th></th>\n",
       "      <th>season</th>\n",
       "      <th>week</th>\n",
       "      <th>game_id</th>\n",
       "      <th>defteam</th>\n",
       "      <th>interception</th>\n",
       "      <th>sack</th>\n",
       "      <th>safety</th>\n",
       "      <th>return_tds</th>\n",
       "      <th>fumble_recoveries</th>\n",
       "      <th>off_fum_rec_dk</th>\n",
       "      <th>punt_fum_rec</th>\n",
       "      <th>blocked_punts</th>\n",
       "      <th>blocked_FG</th>\n",
       "      <th>blocked_XP</th>\n",
       "      <th>defensive_two_point_conv</th>\n",
       "      <th>defensive_extra_point_conv</th>\n",
       "    </tr>\n",
       "  </thead>\n",
       "  <tbody>\n",
       "    <tr>\n",
       "      <th>0</th>\n",
       "      <td>2000</td>\n",
       "      <td>1</td>\n",
       "      <td>2000_01_ARI_NYG</td>\n",
       "      <td>ARI</td>\n",
       "      <td>1.0</td>\n",
       "      <td>0.0</td>\n",
       "      <td>0.0</td>\n",
       "      <td>0.0</td>\n",
       "      <td>1.0</td>\n",
       "      <td>0.0</td>\n",
       "      <td>0.0</td>\n",
       "      <td>0.0</td>\n",
       "      <td>0.0</td>\n",
       "      <td>0.0</td>\n",
       "      <td>0.0</td>\n",
       "      <td>0.0</td>\n",
       "    </tr>\n",
       "    <tr>\n",
       "      <th>1</th>\n",
       "      <td>2000</td>\n",
       "      <td>1</td>\n",
       "      <td>2000_01_ARI_NYG</td>\n",
       "      <td>NYG</td>\n",
       "      <td>3.0</td>\n",
       "      <td>1.0</td>\n",
       "      <td>0.0</td>\n",
       "      <td>0.0</td>\n",
       "      <td>1.0</td>\n",
       "      <td>0.0</td>\n",
       "      <td>0.0</td>\n",
       "      <td>0.0</td>\n",
       "      <td>0.0</td>\n",
       "      <td>0.0</td>\n",
       "      <td>0.0</td>\n",
       "      <td>0.0</td>\n",
       "    </tr>\n",
       "    <tr>\n",
       "      <th>2</th>\n",
       "      <td>2000</td>\n",
       "      <td>1</td>\n",
       "      <td>2000_01_BAL_PIT</td>\n",
       "      <td>BAL</td>\n",
       "      <td>0.0</td>\n",
       "      <td>1.0</td>\n",
       "      <td>0.0</td>\n",
       "      <td>0.0</td>\n",
       "      <td>1.0</td>\n",
       "      <td>0.0</td>\n",
       "      <td>0.0</td>\n",
       "      <td>0.0</td>\n",
       "      <td>0.0</td>\n",
       "      <td>0.0</td>\n",
       "      <td>0.0</td>\n",
       "      <td>0.0</td>\n",
       "    </tr>\n",
       "    <tr>\n",
       "      <th>3</th>\n",
       "      <td>2000</td>\n",
       "      <td>1</td>\n",
       "      <td>2000_01_BAL_PIT</td>\n",
       "      <td>PIT</td>\n",
       "      <td>0.0</td>\n",
       "      <td>1.0</td>\n",
       "      <td>0.0</td>\n",
       "      <td>0.0</td>\n",
       "      <td>0.0</td>\n",
       "      <td>0.0</td>\n",
       "      <td>0.0</td>\n",
       "      <td>0.0</td>\n",
       "      <td>0.0</td>\n",
       "      <td>0.0</td>\n",
       "      <td>0.0</td>\n",
       "      <td>0.0</td>\n",
       "    </tr>\n",
       "    <tr>\n",
       "      <th>4</th>\n",
       "      <td>2000</td>\n",
       "      <td>1</td>\n",
       "      <td>2000_01_CAR_WAS</td>\n",
       "      <td>CAR</td>\n",
       "      <td>0.0</td>\n",
       "      <td>0.0</td>\n",
       "      <td>0.0</td>\n",
       "      <td>1.0</td>\n",
       "      <td>0.0</td>\n",
       "      <td>0.0</td>\n",
       "      <td>0.0</td>\n",
       "      <td>0.0</td>\n",
       "      <td>0.0</td>\n",
       "      <td>0.0</td>\n",
       "      <td>0.0</td>\n",
       "      <td>0.0</td>\n",
       "    </tr>\n",
       "  </tbody>\n",
       "</table>\n",
       "</div>"
      ],
      "text/plain": [
       "   season  week          game_id defteam  interception  sack  safety  \\\n",
       "0    2000     1  2000_01_ARI_NYG     ARI           1.0   0.0     0.0   \n",
       "1    2000     1  2000_01_ARI_NYG     NYG           3.0   1.0     0.0   \n",
       "2    2000     1  2000_01_BAL_PIT     BAL           0.0   1.0     0.0   \n",
       "3    2000     1  2000_01_BAL_PIT     PIT           0.0   1.0     0.0   \n",
       "4    2000     1  2000_01_CAR_WAS     CAR           0.0   0.0     0.0   \n",
       "\n",
       "   return_tds  fumble_recoveries  off_fum_rec_dk  punt_fum_rec  blocked_punts  \\\n",
       "0         0.0                1.0             0.0           0.0            0.0   \n",
       "1         0.0                1.0             0.0           0.0            0.0   \n",
       "2         0.0                1.0             0.0           0.0            0.0   \n",
       "3         0.0                0.0             0.0           0.0            0.0   \n",
       "4         1.0                0.0             0.0           0.0            0.0   \n",
       "\n",
       "   blocked_FG  blocked_XP  defensive_two_point_conv  \\\n",
       "0         0.0         0.0                       0.0   \n",
       "1         0.0         0.0                       0.0   \n",
       "2         0.0         0.0                       0.0   \n",
       "3         0.0         0.0                       0.0   \n",
       "4         0.0         0.0                       0.0   \n",
       "\n",
       "   defensive_extra_point_conv  \n",
       "0                         0.0  \n",
       "1                         0.0  \n",
       "2                         0.0  \n",
       "3                         0.0  \n",
       "4                         0.0  "
      ]
     },
     "execution_count": 363,
     "metadata": {},
     "output_type": "execute_result"
    }
   ],
   "source": [
    "base_df.head()"
   ]
  },
  {
   "cell_type": "code",
   "execution_count": 364,
   "id": "e0c32c9d-f931-4aad-94cc-ddda3749b4e2",
   "metadata": {},
   "outputs": [],
   "source": [
    "#Next: Points Allowed!"
   ]
  },
  {
   "cell_type": "markdown",
   "id": "a21f013b-f93f-441d-bcb4-eca994322332",
   "metadata": {},
   "source": [
    "# Final scores\n",
    "We'll create a dataframe with the final scores for each home team and away team for every game, and we'll also indicate the home and away team."
   ]
  },
  {
   "cell_type": "code",
   "execution_count": 365,
   "id": "9f5bb1c4-16db-4b79-bdb8-c5090ee988a9",
   "metadata": {},
   "outputs": [],
   "source": [
    "final_scores = defense_df.groupby(['season', 'week', 'game_id']).agg({'away_score': 'max', 'home_score': 'max'}).reset_index()"
   ]
  },
  {
   "cell_type": "code",
   "execution_count": 366,
   "id": "413fed20-90f5-4971-a0b8-161743d75ba6",
   "metadata": {},
   "outputs": [
    {
     "data": {
      "text/html": [
       "<div>\n",
       "<style scoped>\n",
       "    .dataframe tbody tr th:only-of-type {\n",
       "        vertical-align: middle;\n",
       "    }\n",
       "\n",
       "    .dataframe tbody tr th {\n",
       "        vertical-align: top;\n",
       "    }\n",
       "\n",
       "    .dataframe thead th {\n",
       "        text-align: right;\n",
       "    }\n",
       "</style>\n",
       "<table border=\"1\" class=\"dataframe\">\n",
       "  <thead>\n",
       "    <tr style=\"text-align: right;\">\n",
       "      <th></th>\n",
       "      <th>season</th>\n",
       "      <th>week</th>\n",
       "      <th>game_id</th>\n",
       "      <th>away_score</th>\n",
       "      <th>home_score</th>\n",
       "    </tr>\n",
       "  </thead>\n",
       "  <tbody>\n",
       "    <tr>\n",
       "      <th>0</th>\n",
       "      <td>2000</td>\n",
       "      <td>1</td>\n",
       "      <td>2000_01_ARI_NYG</td>\n",
       "      <td>16</td>\n",
       "      <td>21</td>\n",
       "    </tr>\n",
       "    <tr>\n",
       "      <th>1</th>\n",
       "      <td>2000</td>\n",
       "      <td>1</td>\n",
       "      <td>2000_01_BAL_PIT</td>\n",
       "      <td>16</td>\n",
       "      <td>0</td>\n",
       "    </tr>\n",
       "    <tr>\n",
       "      <th>2</th>\n",
       "      <td>2000</td>\n",
       "      <td>1</td>\n",
       "      <td>2000_01_CAR_WAS</td>\n",
       "      <td>17</td>\n",
       "      <td>20</td>\n",
       "    </tr>\n",
       "    <tr>\n",
       "      <th>3</th>\n",
       "      <td>2000</td>\n",
       "      <td>1</td>\n",
       "      <td>2000_01_CHI_MIN</td>\n",
       "      <td>27</td>\n",
       "      <td>30</td>\n",
       "    </tr>\n",
       "    <tr>\n",
       "      <th>4</th>\n",
       "      <td>2000</td>\n",
       "      <td>1</td>\n",
       "      <td>2000_01_DEN_STL</td>\n",
       "      <td>36</td>\n",
       "      <td>41</td>\n",
       "    </tr>\n",
       "  </tbody>\n",
       "</table>\n",
       "</div>"
      ],
      "text/plain": [
       "   season  week          game_id  away_score  home_score\n",
       "0    2000     1  2000_01_ARI_NYG          16          21\n",
       "1    2000     1  2000_01_BAL_PIT          16           0\n",
       "2    2000     1  2000_01_CAR_WAS          17          20\n",
       "3    2000     1  2000_01_CHI_MIN          27          30\n",
       "4    2000     1  2000_01_DEN_STL          36          41"
      ]
     },
     "execution_count": 366,
     "metadata": {},
     "output_type": "execute_result"
    }
   ],
   "source": [
    "final_scores.head()"
   ]
  },
  {
   "cell_type": "code",
   "execution_count": 367,
   "id": "fee2fdd4-d8d7-4fdd-8f76-aeb6e3992cb9",
   "metadata": {},
   "outputs": [],
   "source": [
    "home_away_df = defense_df[['season', 'week', 'game_id', 'away_team', 'home_team']]"
   ]
  },
  {
   "cell_type": "code",
   "execution_count": 368,
   "id": "e8e20cd5-9f21-405f-b43b-5279c41ff019",
   "metadata": {},
   "outputs": [],
   "source": [
    "final_scores = pd.merge(final_scores, home_away_df, on = ['season', 'week', 'game_id'], how = 'left')"
   ]
  },
  {
   "cell_type": "code",
   "execution_count": 369,
   "id": "29043ca8-a64c-42ca-9b00-eaab96074eb8",
   "metadata": {},
   "outputs": [],
   "source": [
    "final_scores = final_scores.drop_duplicates()"
   ]
  },
  {
   "cell_type": "code",
   "execution_count": 370,
   "id": "933ac04c-69da-45aa-a049-792d74b7f701",
   "metadata": {},
   "outputs": [
    {
     "data": {
      "text/html": [
       "<div>\n",
       "<style scoped>\n",
       "    .dataframe tbody tr th:only-of-type {\n",
       "        vertical-align: middle;\n",
       "    }\n",
       "\n",
       "    .dataframe tbody tr th {\n",
       "        vertical-align: top;\n",
       "    }\n",
       "\n",
       "    .dataframe thead th {\n",
       "        text-align: right;\n",
       "    }\n",
       "</style>\n",
       "<table border=\"1\" class=\"dataframe\">\n",
       "  <thead>\n",
       "    <tr style=\"text-align: right;\">\n",
       "      <th></th>\n",
       "      <th>season</th>\n",
       "      <th>week</th>\n",
       "      <th>game_id</th>\n",
       "      <th>away_score</th>\n",
       "      <th>home_score</th>\n",
       "      <th>away_team</th>\n",
       "      <th>home_team</th>\n",
       "    </tr>\n",
       "  </thead>\n",
       "  <tbody>\n",
       "    <tr>\n",
       "      <th>0</th>\n",
       "      <td>2000</td>\n",
       "      <td>1</td>\n",
       "      <td>2000_01_ARI_NYG</td>\n",
       "      <td>16</td>\n",
       "      <td>21</td>\n",
       "      <td>ARI</td>\n",
       "      <td>NYG</td>\n",
       "    </tr>\n",
       "    <tr>\n",
       "      <th>182</th>\n",
       "      <td>2000</td>\n",
       "      <td>1</td>\n",
       "      <td>2000_01_BAL_PIT</td>\n",
       "      <td>16</td>\n",
       "      <td>0</td>\n",
       "      <td>BAL</td>\n",
       "      <td>PIT</td>\n",
       "    </tr>\n",
       "    <tr>\n",
       "      <th>355</th>\n",
       "      <td>2000</td>\n",
       "      <td>1</td>\n",
       "      <td>2000_01_CAR_WAS</td>\n",
       "      <td>17</td>\n",
       "      <td>20</td>\n",
       "      <td>CAR</td>\n",
       "      <td>WAS</td>\n",
       "    </tr>\n",
       "    <tr>\n",
       "      <th>520</th>\n",
       "      <td>2000</td>\n",
       "      <td>1</td>\n",
       "      <td>2000_01_CHI_MIN</td>\n",
       "      <td>27</td>\n",
       "      <td>30</td>\n",
       "      <td>CHI</td>\n",
       "      <td>MIN</td>\n",
       "    </tr>\n",
       "    <tr>\n",
       "      <th>695</th>\n",
       "      <td>2000</td>\n",
       "      <td>1</td>\n",
       "      <td>2000_01_DEN_STL</td>\n",
       "      <td>36</td>\n",
       "      <td>41</td>\n",
       "      <td>DEN</td>\n",
       "      <td>LA</td>\n",
       "    </tr>\n",
       "  </tbody>\n",
       "</table>\n",
       "</div>"
      ],
      "text/plain": [
       "     season  week          game_id  away_score  home_score away_team home_team\n",
       "0      2000     1  2000_01_ARI_NYG          16          21       ARI       NYG\n",
       "182    2000     1  2000_01_BAL_PIT          16           0       BAL       PIT\n",
       "355    2000     1  2000_01_CAR_WAS          17          20       CAR       WAS\n",
       "520    2000     1  2000_01_CHI_MIN          27          30       CHI       MIN\n",
       "695    2000     1  2000_01_DEN_STL          36          41       DEN        LA"
      ]
     },
     "execution_count": 370,
     "metadata": {},
     "output_type": "execute_result"
    }
   ],
   "source": [
    "final_scores.head()"
   ]
  },
  {
   "cell_type": "markdown",
   "id": "6b4258d3-580e-4bb1-a6ae-6faae3a3952c",
   "metadata": {},
   "source": [
    "# Scoring change dataframe\n",
    "Filtering each row of the play-by-play data for each scoring change in which the score changes for the team on defense, and then we'll filter the same thing for offense. Then we'll concatenate into one dataframe and sort by the index so all the plays are in sequence."
   ]
  },
  {
   "cell_type": "code",
   "execution_count": 371,
   "id": "1f0ec58b-8319-4a91-9003-67cfc6d93d91",
   "metadata": {},
   "outputs": [],
   "source": [
    "def_score_changes = defense_df[defense_df['defteam_score'] < defense_df['defteam_score_post']]"
   ]
  },
  {
   "cell_type": "code",
   "execution_count": 372,
   "id": "7c26b198-e3dc-4286-a626-cf9bcb53bd13",
   "metadata": {},
   "outputs": [],
   "source": [
    "off_score_changes = defense_df[defense_df['posteam_score'] < defense_df['posteam_score_post']]"
   ]
  },
  {
   "cell_type": "code",
   "execution_count": 373,
   "id": "8f7b979b-754b-48b6-b1b1-942ebfd6998c",
   "metadata": {},
   "outputs": [],
   "source": [
    "all_score_changes = pd.concat([def_score_changes, off_score_changes])"
   ]
  },
  {
   "cell_type": "code",
   "execution_count": 374,
   "id": "9af62781-3824-48dc-b783-4506644dff3e",
   "metadata": {},
   "outputs": [],
   "source": [
    "all_score_changes = all_score_changes.sort_index()"
   ]
  },
  {
   "cell_type": "code",
   "execution_count": 375,
   "id": "8f8c4f08-b63d-454d-8a82-dc4c46e98299",
   "metadata": {},
   "outputs": [],
   "source": [
    "#all_score_changes = all_score_changes.sort_values(by = ['season', 'week', 'game_id', 'away_score', 'home_score'])"
   ]
  },
  {
   "cell_type": "code",
   "execution_count": 376,
   "id": "8a52bc31-e65b-4fd9-8238-0edd137f0efe",
   "metadata": {},
   "outputs": [],
   "source": [
    "all_score_changes['has_ball'] = np.where(all_score_changes['away_team'] == all_score_changes['posteam'], 'away', 'home')"
   ]
  },
  {
   "cell_type": "code",
   "execution_count": 377,
   "id": "07813020-0937-4779-ac30-89f2199da37d",
   "metadata": {},
   "outputs": [
    {
     "data": {
      "text/plain": [
       "82459"
      ]
     },
     "execution_count": 377,
     "metadata": {},
     "output_type": "execute_result"
    }
   ],
   "source": [
    "len(all_score_changes)"
   ]
  },
  {
   "cell_type": "markdown",
   "id": "620846ab-8e42-4101-8cfc-ea3e5e849a39",
   "metadata": {},
   "source": [
    "# Functions to create columns indicating scores against a fantasy defense\n",
    "We need to account for touchdowns, field goals, extra points and 2-point conversions."
   ]
  },
  {
   "cell_type": "code",
   "execution_count": 378,
   "id": "32f5c2f4-eb64-4c80-a034-c187f7041035",
   "metadata": {},
   "outputs": [],
   "source": [
    "def score_vs_def_col(diff, poss):\n",
    "    \"\"\"\n",
    "    This function creates columns that indicate whether a touchdown or field goal was scored \n",
    "    against a fantasy defense on that particular play. The diff argument is the scoring difference, three or six points.\n",
    "    The poss is the team that has the ball.\n",
    "    \"\"\"\n",
    "    new_column = np.where(((all_score_changes['posteam_score_post'] - all_score_changes['posteam_score']) == diff)\\\n",
    "                          & (all_score_changes['has_ball'] == poss), 1, 0)\n",
    "    return new_column"
   ]
  },
  {
   "cell_type": "code",
   "execution_count": 379,
   "id": "4e0bee9e-11fd-4504-9ab7-ec372b5c9aa7",
   "metadata": {},
   "outputs": [],
   "source": [
    "def punt_td_vs_def(poss):\n",
    "    \"\"\"\n",
    "    This function creates columns to indicate whether a punt was returned for a touchdown. Even though the defensive unit isn't on the field,\n",
    "    this still should count as points against a fantasy defense. We need to write this function separately because the data indicates\n",
    "    the defensive team as the scoring team when punts are returned for touchdowns.\n",
    "    \"\"\"\n",
    "    new_column = np.where(((all_score_changes['defteam_score_post'] - all_score_changes['defteam_score']) == 6)\\\n",
    "                          & (all_score_changes['punt_attempt'] == True) & (all_score_changes['has_ball'] != poss), 1, 0)\n",
    "    return new_column"
   ]
  },
  {
   "cell_type": "code",
   "execution_count": 380,
   "id": "98af0592-aef0-4375-96ca-8830fdf6c778",
   "metadata": {},
   "outputs": [],
   "source": [
    "all_score_changes['td_vs_H'] = score_vs_def_col(6, 'away')"
   ]
  },
  {
   "cell_type": "code",
   "execution_count": 381,
   "id": "74e4fbaa-0a9f-4c5a-9f50-506ffb832948",
   "metadata": {},
   "outputs": [],
   "source": [
    "all_score_changes['fg_vs_H'] = score_vs_def_col(3, 'away')"
   ]
  },
  {
   "cell_type": "code",
   "execution_count": 382,
   "id": "71284a8c-2699-456c-b3ec-0e320617ac45",
   "metadata": {},
   "outputs": [],
   "source": [
    "all_score_changes['td_vs_A'] = score_vs_def_col(6, 'home')"
   ]
  },
  {
   "cell_type": "code",
   "execution_count": 383,
   "id": "fe4e7183-d1a4-48c5-b1b5-9ca26a8fad26",
   "metadata": {},
   "outputs": [],
   "source": [
    "all_score_changes['fg_vs_A'] = score_vs_def_col(3, 'home')"
   ]
  },
  {
   "cell_type": "code",
   "execution_count": 384,
   "id": "95c31be2-d76b-4b3d-acd6-9098aa0eba58",
   "metadata": {},
   "outputs": [],
   "source": [
    "all_score_changes['punt_TD_vs_H'] = punt_td_vs_def('away')"
   ]
  },
  {
   "cell_type": "code",
   "execution_count": 385,
   "id": "87e9a9d8-05f9-4d56-9542-3f955d0dcbb0",
   "metadata": {},
   "outputs": [],
   "source": [
    "all_score_changes['punt_TD_vs_A'] = punt_td_vs_def('home')"
   ]
  },
  {
   "cell_type": "code",
   "execution_count": 386,
   "id": "036d6df5-7168-4898-8a50-71b439cb410a",
   "metadata": {},
   "outputs": [],
   "source": [
    "def xp_vs_def_col(poss):\n",
    "    \"\"\"\n",
    "    This function rounds up all the successful extra points that count against a fantasy defense.\n",
    "    It checks that the possession team's score has increased by one and also checks that the possession team's score\n",
    "    increased by six in the previous row. Otherwise, it was a defensive touchdown and the XP wouldn't be charged to the fantasy defense.\n",
    "    \"\"\"\n",
    "    new_column = np.where(((all_score_changes['posteam_score_post'] - all_score_changes['posteam_score']) == 1)\\\n",
    "    & ((all_score_changes['posteam_score_post'].shift(1) - all_score_changes['posteam_score'].shift(1)) == 6)\\\n",
    "                          & ((all_score_changes['has_ball'] == poss)), 1, 0)  \n",
    "    return new_column"
   ]
  },
  {
   "cell_type": "code",
   "execution_count": 387,
   "id": "8c4e657d-cf9e-4b2c-a22b-0b06581eef72",
   "metadata": {},
   "outputs": [],
   "source": [
    "def xp2_vs_def_col(poss):\n",
    "    \"\"\"\n",
    "    This function rounds up all the successful 2-point conversions that count against a fantasy defense.\n",
    "    It checks that the possession team's score has increased by two and also checks that the possession team's score\n",
    "    increased by six in the previous row. Otherwise, it was a defensive touchdown and the XP wouldn't be charged to the fantasy defense.\n",
    "    \"\"\"\n",
    "    new_column = np.where(((all_score_changes['posteam_score_post'] - all_score_changes['posteam_score']) == 2)\\\n",
    "    & ((all_score_changes['posteam_score_post'].shift(1) - all_score_changes['posteam_score'].shift(1)) == 6)\\\n",
    "                          & (all_score_changes['has_ball'] == poss), 1, 0)  \n",
    "    return new_column"
   ]
  },
  {
   "cell_type": "code",
   "execution_count": 388,
   "id": "56c180de-0345-432c-ada6-221352400b78",
   "metadata": {},
   "outputs": [],
   "source": [
    "def xp_after_punt(poss):\n",
    "    \"\"\"\n",
    "    This function creates a column to indicate successful extra points after a punt is returned for a touchdown. This time,\n",
    "    it checks that the defensive team's score increases by six in the previous row and also that the play was a punt attempt.\n",
    "    \"\"\"\n",
    "    new_column = np.where(((all_score_changes['posteam_score_post'] - all_score_changes['posteam_score']) == 1)\\\n",
    "                          & ((all_score_changes['defteam_score_post'].shift(1) - all_score_changes['defteam_score'].shift(1)) == 6)\\\n",
    "                          & (all_score_changes['punt_attempt'].shift(1) == True)\\\n",
    "                          & (all_score_changes['has_ball'] == poss), 1, 0)  \n",
    "    return new_column"
   ]
  },
  {
   "cell_type": "code",
   "execution_count": 389,
   "id": "91a31403-9686-41eb-88b2-dfbeee039700",
   "metadata": {},
   "outputs": [],
   "source": [
    "def xp2_after_punt(poss):\n",
    "    \"\"\"\n",
    "    This function creates a column to indicate successful 2-point conversions after a punt is returned for a touchdown. This time,\n",
    "    it checks that the defensive team's score increases by six in the previous row and also that the play was a punt attempt.\n",
    "    \"\"\"\n",
    "    new_column = np.where(((all_score_changes['posteam_score_post'] - all_score_changes['posteam_score']) == 2)\\\n",
    "                          & ((all_score_changes['defteam_score_post'].shift(1) - all_score_changes['defteam_score'].shift(1)) == 6)\\\n",
    "                          & (all_score_changes['punt_attempt'].shift(1) == True)\\\n",
    "                          & (all_score_changes['has_ball'] == poss), 1, 0)  \n",
    "    return new_column"
   ]
  },
  {
   "cell_type": "code",
   "execution_count": 390,
   "id": "9fc84fe6-06c6-4b14-8a5a-e4bd4c58db70",
   "metadata": {},
   "outputs": [],
   "source": [
    "all_score_changes['xp_vs_H'] = xp_vs_def_col('away')"
   ]
  },
  {
   "cell_type": "code",
   "execution_count": 391,
   "id": "2ec70c64-0e82-4acb-a345-61b17f3c2b3b",
   "metadata": {},
   "outputs": [],
   "source": [
    "all_score_changes['xp_vs_A'] = xp_vs_def_col('home')"
   ]
  },
  {
   "cell_type": "code",
   "execution_count": 392,
   "id": "000ec475-35eb-4511-84bc-8375e6351ee1",
   "metadata": {},
   "outputs": [],
   "source": [
    "all_score_changes['xp2_vs_H'] = xp2_vs_def_col('away')"
   ]
  },
  {
   "cell_type": "code",
   "execution_count": 393,
   "id": "7a5e2967-1a66-4a55-b47a-39b32bc87aff",
   "metadata": {},
   "outputs": [],
   "source": [
    "all_score_changes['xp2_vs_A'] = xp2_vs_def_col('home')"
   ]
  },
  {
   "cell_type": "code",
   "execution_count": 394,
   "id": "98cd1b45-1220-4327-b593-433b42ff18cb",
   "metadata": {},
   "outputs": [],
   "source": [
    "all_score_changes['xp_after_punt_vs_H'] = xp_after_punt('away')"
   ]
  },
  {
   "cell_type": "code",
   "execution_count": 395,
   "id": "1829dccf-c1b6-4fd0-a5e6-bf0355112ca0",
   "metadata": {},
   "outputs": [],
   "source": [
    "all_score_changes['xp_after_punt_vs_A'] = xp_after_punt('home')"
   ]
  },
  {
   "cell_type": "code",
   "execution_count": 396,
   "id": "07dd473e-b8d6-41e5-a5b5-7c213e92177f",
   "metadata": {},
   "outputs": [],
   "source": [
    "all_score_changes['xp2_after_punt_vs_H'] = xp2_after_punt('away')"
   ]
  },
  {
   "cell_type": "code",
   "execution_count": 397,
   "id": "3c34ae86-6001-45ea-af4c-c500d4012018",
   "metadata": {},
   "outputs": [],
   "source": [
    "all_score_changes['xp2_after_punt_vs_A'] = xp2_after_punt('home')"
   ]
  },
  {
   "cell_type": "code",
   "execution_count": 398,
   "id": "9df11016-d083-4a2e-b943-5ebb5af36975",
   "metadata": {},
   "outputs": [
    {
     "data": {
      "text/plain": [
       "82459"
      ]
     },
     "execution_count": 398,
     "metadata": {},
     "output_type": "execute_result"
    }
   ],
   "source": [
    "len(all_score_changes)"
   ]
  },
  {
   "cell_type": "code",
   "execution_count": 399,
   "id": "22621865-2fa5-4856-99fa-0ea6dac76380",
   "metadata": {},
   "outputs": [],
   "source": [
    "all_score_changes = all_score_changes[['season', 'week', 'game_id', 'away_team', 'home_team', 'td_vs_H', 'td_vs_A',\\\n",
    "                                      'fg_vs_H', 'fg_vs_A', 'punt_TD_vs_H', 'punt_TD_vs_A', 'xp_vs_H', 'xp_vs_A',\\\n",
    "                                      'xp2_vs_H', 'xp2_vs_A', 'xp_after_punt_vs_H', 'xp_after_punt_vs_A',\\\n",
    "                                      'xp2_after_punt_vs_H', 'xp2_after_punt_vs_A']]"
   ]
  },
  {
   "cell_type": "code",
   "execution_count": 400,
   "id": "8f527207-a988-4bb4-afab-f4a57c8f82ab",
   "metadata": {},
   "outputs": [],
   "source": [
    "all_score_changes = all_score_changes.groupby(['season', 'week', 'game_id', 'away_team', 'home_team']).sum().reset_index()"
   ]
  },
  {
   "cell_type": "code",
   "execution_count": 401,
   "id": "0af8455a-35b9-42f7-832e-703bbd0cb242",
   "metadata": {},
   "outputs": [
    {
     "data": {
      "text/plain": [
       "6445"
      ]
     },
     "execution_count": 401,
     "metadata": {},
     "output_type": "execute_result"
    }
   ],
   "source": [
    "len(all_score_changes)"
   ]
  },
  {
   "cell_type": "markdown",
   "id": "c8c24201-24d4-42cd-b7b4-8a66419ccd3e",
   "metadata": {},
   "source": [
    "# Combine columns function\n",
    "We'll need to consolidate some of the columns, so that touchdowns on non-punts and touchdowns on punts are in the same column."
   ]
  },
  {
   "cell_type": "code",
   "execution_count": 402,
   "id": "f7829e6c-b648-4888-adca-d186f407e35f",
   "metadata": {},
   "outputs": [],
   "source": [
    "def combine_cols(df, new_col_name, *args):\n",
    "    \"\"\"\n",
    "    We can consolidate a lot of the columns in the all_score_changes dataframes as well as the base_df.\n",
    "    For example, td_vs_A and punt_td_vs_A can be added together into one column.\n",
    "    This function will sum the column values and then drop the columns we don't need\n",
    "    \"\"\"\n",
    "    df[new_col_name] = df[list(args)].sum(axis = 1)\n",
    "    df.drop(columns = list(args), inplace = True)\n",
    "    return df"
   ]
  },
  {
   "cell_type": "code",
   "execution_count": 403,
   "id": "ff951520-221e-49e2-8d10-aacc2d5cc3ad",
   "metadata": {},
   "outputs": [
    {
     "data": {
      "text/html": [
       "<div>\n",
       "<style scoped>\n",
       "    .dataframe tbody tr th:only-of-type {\n",
       "        vertical-align: middle;\n",
       "    }\n",
       "\n",
       "    .dataframe tbody tr th {\n",
       "        vertical-align: top;\n",
       "    }\n",
       "\n",
       "    .dataframe thead th {\n",
       "        text-align: right;\n",
       "    }\n",
       "</style>\n",
       "<table border=\"1\" class=\"dataframe\">\n",
       "  <thead>\n",
       "    <tr style=\"text-align: right;\">\n",
       "      <th></th>\n",
       "      <th>season</th>\n",
       "      <th>week</th>\n",
       "      <th>game_id</th>\n",
       "      <th>away_team</th>\n",
       "      <th>home_team</th>\n",
       "      <th>td_vs_H</th>\n",
       "      <th>td_vs_A</th>\n",
       "      <th>fg_vs_H</th>\n",
       "      <th>fg_vs_A</th>\n",
       "      <th>punt_TD_vs_H</th>\n",
       "      <th>punt_TD_vs_A</th>\n",
       "      <th>xp_vs_H</th>\n",
       "      <th>xp_vs_A</th>\n",
       "      <th>xp2_vs_H</th>\n",
       "      <th>xp2_vs_A</th>\n",
       "      <th>xp_after_punt_vs_H</th>\n",
       "      <th>xp_after_punt_vs_A</th>\n",
       "      <th>xp2_after_punt_vs_H</th>\n",
       "      <th>xp2_after_punt_vs_A</th>\n",
       "    </tr>\n",
       "  </thead>\n",
       "  <tbody>\n",
       "    <tr>\n",
       "      <th>0</th>\n",
       "      <td>2000</td>\n",
       "      <td>1</td>\n",
       "      <td>2000_01_ARI_NYG</td>\n",
       "      <td>ARI</td>\n",
       "      <td>NYG</td>\n",
       "      <td>2</td>\n",
       "      <td>3</td>\n",
       "      <td>1</td>\n",
       "      <td>0</td>\n",
       "      <td>0</td>\n",
       "      <td>0</td>\n",
       "      <td>1</td>\n",
       "      <td>3</td>\n",
       "      <td>0</td>\n",
       "      <td>0</td>\n",
       "      <td>0</td>\n",
       "      <td>0</td>\n",
       "      <td>0</td>\n",
       "      <td>0</td>\n",
       "    </tr>\n",
       "    <tr>\n",
       "      <th>1</th>\n",
       "      <td>2000</td>\n",
       "      <td>1</td>\n",
       "      <td>2000_01_BAL_PIT</td>\n",
       "      <td>BAL</td>\n",
       "      <td>PIT</td>\n",
       "      <td>1</td>\n",
       "      <td>0</td>\n",
       "      <td>3</td>\n",
       "      <td>0</td>\n",
       "      <td>0</td>\n",
       "      <td>0</td>\n",
       "      <td>1</td>\n",
       "      <td>0</td>\n",
       "      <td>0</td>\n",
       "      <td>0</td>\n",
       "      <td>0</td>\n",
       "      <td>0</td>\n",
       "      <td>0</td>\n",
       "      <td>0</td>\n",
       "    </tr>\n",
       "    <tr>\n",
       "      <th>2</th>\n",
       "      <td>2000</td>\n",
       "      <td>1</td>\n",
       "      <td>2000_01_CAR_WAS</td>\n",
       "      <td>CAR</td>\n",
       "      <td>WAS</td>\n",
       "      <td>2</td>\n",
       "      <td>2</td>\n",
       "      <td>1</td>\n",
       "      <td>2</td>\n",
       "      <td>0</td>\n",
       "      <td>0</td>\n",
       "      <td>2</td>\n",
       "      <td>2</td>\n",
       "      <td>0</td>\n",
       "      <td>0</td>\n",
       "      <td>0</td>\n",
       "      <td>0</td>\n",
       "      <td>0</td>\n",
       "      <td>0</td>\n",
       "    </tr>\n",
       "    <tr>\n",
       "      <th>3</th>\n",
       "      <td>2000</td>\n",
       "      <td>1</td>\n",
       "      <td>2000_01_CHI_MIN</td>\n",
       "      <td>CHI</td>\n",
       "      <td>MIN</td>\n",
       "      <td>3</td>\n",
       "      <td>3</td>\n",
       "      <td>2</td>\n",
       "      <td>3</td>\n",
       "      <td>0</td>\n",
       "      <td>0</td>\n",
       "      <td>3</td>\n",
       "      <td>3</td>\n",
       "      <td>0</td>\n",
       "      <td>0</td>\n",
       "      <td>0</td>\n",
       "      <td>0</td>\n",
       "      <td>0</td>\n",
       "      <td>0</td>\n",
       "    </tr>\n",
       "    <tr>\n",
       "      <th>4</th>\n",
       "      <td>2000</td>\n",
       "      <td>1</td>\n",
       "      <td>2000_01_DEN_STL</td>\n",
       "      <td>DEN</td>\n",
       "      <td>LA</td>\n",
       "      <td>3</td>\n",
       "      <td>5</td>\n",
       "      <td>3</td>\n",
       "      <td>0</td>\n",
       "      <td>0</td>\n",
       "      <td>1</td>\n",
       "      <td>3</td>\n",
       "      <td>4</td>\n",
       "      <td>0</td>\n",
       "      <td>0</td>\n",
       "      <td>0</td>\n",
       "      <td>1</td>\n",
       "      <td>0</td>\n",
       "      <td>0</td>\n",
       "    </tr>\n",
       "  </tbody>\n",
       "</table>\n",
       "</div>"
      ],
      "text/plain": [
       "   season  week          game_id away_team home_team  td_vs_H  td_vs_A  \\\n",
       "0    2000     1  2000_01_ARI_NYG       ARI       NYG        2        3   \n",
       "1    2000     1  2000_01_BAL_PIT       BAL       PIT        1        0   \n",
       "2    2000     1  2000_01_CAR_WAS       CAR       WAS        2        2   \n",
       "3    2000     1  2000_01_CHI_MIN       CHI       MIN        3        3   \n",
       "4    2000     1  2000_01_DEN_STL       DEN        LA        3        5   \n",
       "\n",
       "   fg_vs_H  fg_vs_A  punt_TD_vs_H  punt_TD_vs_A  xp_vs_H  xp_vs_A  xp2_vs_H  \\\n",
       "0        1        0             0             0        1        3         0   \n",
       "1        3        0             0             0        1        0         0   \n",
       "2        1        2             0             0        2        2         0   \n",
       "3        2        3             0             0        3        3         0   \n",
       "4        3        0             0             1        3        4         0   \n",
       "\n",
       "   xp2_vs_A  xp_after_punt_vs_H  xp_after_punt_vs_A  xp2_after_punt_vs_H  \\\n",
       "0         0                   0                   0                    0   \n",
       "1         0                   0                   0                    0   \n",
       "2         0                   0                   0                    0   \n",
       "3         0                   0                   0                    0   \n",
       "4         0                   0                   1                    0   \n",
       "\n",
       "   xp2_after_punt_vs_A  \n",
       "0                    0  \n",
       "1                    0  \n",
       "2                    0  \n",
       "3                    0  \n",
       "4                    0  "
      ]
     },
     "execution_count": 403,
     "metadata": {},
     "output_type": "execute_result"
    }
   ],
   "source": [
    "all_score_changes.head()"
   ]
  },
  {
   "cell_type": "code",
   "execution_count": 404,
   "id": "f0bca3a9-5347-42cc-85a7-7642b10f04db",
   "metadata": {},
   "outputs": [],
   "source": [
    "all_score_changes = combine_cols(all_score_changes, 'TD_vs_H', 'td_vs_H', 'punt_TD_vs_H')"
   ]
  },
  {
   "cell_type": "code",
   "execution_count": 405,
   "id": "c8969774-6358-40eb-9465-66709a06580b",
   "metadata": {},
   "outputs": [],
   "source": [
    "all_score_changes = combine_cols(all_score_changes, 'TD_vs_A', 'td_vs_A', 'punt_TD_vs_A')"
   ]
  },
  {
   "cell_type": "code",
   "execution_count": 406,
   "id": "8e3433c3-f90e-4e84-97dc-a43a1b50c05d",
   "metadata": {},
   "outputs": [],
   "source": [
    "all_score_changes = combine_cols(all_score_changes, 'XP_vs_H', 'xp_vs_H', 'xp_after_punt_vs_H')"
   ]
  },
  {
   "cell_type": "code",
   "execution_count": 407,
   "id": "21a22c96-8f18-47bb-834a-bd9975c27d9c",
   "metadata": {},
   "outputs": [],
   "source": [
    "all_score_changes = combine_cols(all_score_changes, 'XP_vs_A', 'xp_vs_A', 'xp_after_punt_vs_A')"
   ]
  },
  {
   "cell_type": "code",
   "execution_count": 408,
   "id": "ab8401d6-c615-4ce2-bcb3-97f7d487d83b",
   "metadata": {},
   "outputs": [],
   "source": [
    "all_score_changes = combine_cols(all_score_changes, 'XP2_vs_H', 'xp2_vs_H', 'xp2_after_punt_vs_H')"
   ]
  },
  {
   "cell_type": "code",
   "execution_count": 409,
   "id": "61058f7e-7dc8-46a0-b4bf-04a0c94c9554",
   "metadata": {},
   "outputs": [],
   "source": [
    "all_score_changes = combine_cols(all_score_changes, 'XP2_vs_A', 'xp2_vs_A', 'xp2_after_punt_vs_A')"
   ]
  },
  {
   "cell_type": "code",
   "execution_count": 410,
   "id": "73debe11-906a-448a-8e8e-116e074c1d4b",
   "metadata": {},
   "outputs": [
    {
     "data": {
      "text/html": [
       "<div>\n",
       "<style scoped>\n",
       "    .dataframe tbody tr th:only-of-type {\n",
       "        vertical-align: middle;\n",
       "    }\n",
       "\n",
       "    .dataframe tbody tr th {\n",
       "        vertical-align: top;\n",
       "    }\n",
       "\n",
       "    .dataframe thead th {\n",
       "        text-align: right;\n",
       "    }\n",
       "</style>\n",
       "<table border=\"1\" class=\"dataframe\">\n",
       "  <thead>\n",
       "    <tr style=\"text-align: right;\">\n",
       "      <th></th>\n",
       "      <th>season</th>\n",
       "      <th>week</th>\n",
       "      <th>game_id</th>\n",
       "      <th>away_team</th>\n",
       "      <th>home_team</th>\n",
       "      <th>fg_vs_H</th>\n",
       "      <th>fg_vs_A</th>\n",
       "      <th>TD_vs_H</th>\n",
       "      <th>TD_vs_A</th>\n",
       "      <th>XP_vs_H</th>\n",
       "      <th>XP_vs_A</th>\n",
       "      <th>XP2_vs_H</th>\n",
       "      <th>XP2_vs_A</th>\n",
       "    </tr>\n",
       "  </thead>\n",
       "  <tbody>\n",
       "    <tr>\n",
       "      <th>0</th>\n",
       "      <td>2000</td>\n",
       "      <td>1</td>\n",
       "      <td>2000_01_ARI_NYG</td>\n",
       "      <td>ARI</td>\n",
       "      <td>NYG</td>\n",
       "      <td>1</td>\n",
       "      <td>0</td>\n",
       "      <td>2</td>\n",
       "      <td>3</td>\n",
       "      <td>1</td>\n",
       "      <td>3</td>\n",
       "      <td>0</td>\n",
       "      <td>0</td>\n",
       "    </tr>\n",
       "    <tr>\n",
       "      <th>1</th>\n",
       "      <td>2000</td>\n",
       "      <td>1</td>\n",
       "      <td>2000_01_BAL_PIT</td>\n",
       "      <td>BAL</td>\n",
       "      <td>PIT</td>\n",
       "      <td>3</td>\n",
       "      <td>0</td>\n",
       "      <td>1</td>\n",
       "      <td>0</td>\n",
       "      <td>1</td>\n",
       "      <td>0</td>\n",
       "      <td>0</td>\n",
       "      <td>0</td>\n",
       "    </tr>\n",
       "    <tr>\n",
       "      <th>2</th>\n",
       "      <td>2000</td>\n",
       "      <td>1</td>\n",
       "      <td>2000_01_CAR_WAS</td>\n",
       "      <td>CAR</td>\n",
       "      <td>WAS</td>\n",
       "      <td>1</td>\n",
       "      <td>2</td>\n",
       "      <td>2</td>\n",
       "      <td>2</td>\n",
       "      <td>2</td>\n",
       "      <td>2</td>\n",
       "      <td>0</td>\n",
       "      <td>0</td>\n",
       "    </tr>\n",
       "    <tr>\n",
       "      <th>3</th>\n",
       "      <td>2000</td>\n",
       "      <td>1</td>\n",
       "      <td>2000_01_CHI_MIN</td>\n",
       "      <td>CHI</td>\n",
       "      <td>MIN</td>\n",
       "      <td>2</td>\n",
       "      <td>3</td>\n",
       "      <td>3</td>\n",
       "      <td>3</td>\n",
       "      <td>3</td>\n",
       "      <td>3</td>\n",
       "      <td>0</td>\n",
       "      <td>0</td>\n",
       "    </tr>\n",
       "    <tr>\n",
       "      <th>4</th>\n",
       "      <td>2000</td>\n",
       "      <td>1</td>\n",
       "      <td>2000_01_DEN_STL</td>\n",
       "      <td>DEN</td>\n",
       "      <td>LA</td>\n",
       "      <td>3</td>\n",
       "      <td>0</td>\n",
       "      <td>3</td>\n",
       "      <td>6</td>\n",
       "      <td>3</td>\n",
       "      <td>5</td>\n",
       "      <td>0</td>\n",
       "      <td>0</td>\n",
       "    </tr>\n",
       "  </tbody>\n",
       "</table>\n",
       "</div>"
      ],
      "text/plain": [
       "   season  week          game_id away_team home_team  fg_vs_H  fg_vs_A  \\\n",
       "0    2000     1  2000_01_ARI_NYG       ARI       NYG        1        0   \n",
       "1    2000     1  2000_01_BAL_PIT       BAL       PIT        3        0   \n",
       "2    2000     1  2000_01_CAR_WAS       CAR       WAS        1        2   \n",
       "3    2000     1  2000_01_CHI_MIN       CHI       MIN        2        3   \n",
       "4    2000     1  2000_01_DEN_STL       DEN        LA        3        0   \n",
       "\n",
       "   TD_vs_H  TD_vs_A  XP_vs_H  XP_vs_A  XP2_vs_H  XP2_vs_A  \n",
       "0        2        3        1        3         0         0  \n",
       "1        1        0        1        0         0         0  \n",
       "2        2        2        2        2         0         0  \n",
       "3        3        3        3        3         0         0  \n",
       "4        3        6        3        5         0         0  "
      ]
     },
     "execution_count": 410,
     "metadata": {},
     "output_type": "execute_result"
    }
   ],
   "source": [
    "all_score_changes.head()"
   ]
  },
  {
   "cell_type": "markdown",
   "id": "b2ef3e98-8743-496d-9318-e4801ab4ba80",
   "metadata": {},
   "source": [
    "# Getting one row for each team in each game\n",
    "We currently have one row for each game, with points against home teams and away teams in separate columns. Now we'll turn this into a dataframe with two rows for each game, one for the home team and one for the away team.<br>\n",
    "\n",
    "Then we'll multiply the values by the appropriate points, and use np.select to convert the raw point total into the corresponding fantasy points."
   ]
  },
  {
   "cell_type": "code",
   "execution_count": 411,
   "id": "f7cc1017-4494-4a04-a8cb-ad60ff883426",
   "metadata": {},
   "outputs": [],
   "source": [
    "all_score_changes_away = all_score_changes.copy()\n",
    "all_score_changes_home = all_score_changes.copy()"
   ]
  },
  {
   "cell_type": "code",
   "execution_count": 412,
   "id": "a9198ea6-4131-4df9-a995-96be310652a4",
   "metadata": {},
   "outputs": [],
   "source": [
    "# Assign new column 'def_team' and keep only necessary columns for each new row\n",
    "all_score_changes_away['defteam'] = all_score_changes_away['away_team']\n",
    "all_score_changes_away = all_score_changes_away[['season', 'week', 'game_id', 'defteam', 'fg_vs_A', 'TD_vs_A', 'XP_vs_A', 'XP2_vs_A']]\n",
    "all_score_changes_away.columns = ['season', 'week', 'game_id', 'defteam', 'FG_allowed', 'TD_allowed', 'XP_allowed', 'XP2_allowed']\n",
    "\n",
    "all_score_changes_home['defteam'] = all_score_changes_home['home_team']\n",
    "all_score_changes_home = all_score_changes_home[['season', 'week', 'game_id', 'defteam', 'fg_vs_H', 'TD_vs_H', 'XP_vs_H', 'XP2_vs_H']]\n",
    "all_score_changes_home.columns = ['season', 'week', 'game_id', 'defteam', 'FG_allowed', 'TD_allowed', 'XP_allowed', 'XP2_allowed']"
   ]
  },
  {
   "cell_type": "code",
   "execution_count": 413,
   "id": "48627c18-62f1-4a78-86db-fd6c4209d3bf",
   "metadata": {},
   "outputs": [],
   "source": [
    "# Concatenate the rows back together\n",
    "scoring_vs_def = pd.concat([all_score_changes_away, all_score_changes_home])"
   ]
  },
  {
   "cell_type": "code",
   "execution_count": 414,
   "id": "f8fb5674-089d-42fb-9865-29ab17814229",
   "metadata": {},
   "outputs": [],
   "source": [
    "# Sort by season, week, and game_id to maintain the original order\n",
    "scoring_vs_def = scoring_vs_def.sort_values(by=['season', 'week', 'game_id']).reset_index(drop=True)"
   ]
  },
  {
   "cell_type": "code",
   "execution_count": 415,
   "id": "a945e678-4b85-427a-9d2f-48719a5f0d2d",
   "metadata": {},
   "outputs": [],
   "source": [
    "scoring_vs_def['TD_allowed'] = scoring_vs_def['TD_allowed'] * 6\n",
    "scoring_vs_def['FG_allowed'] = scoring_vs_def['FG_allowed'] * 3\n",
    "scoring_vs_def['XP2_allowed'] = scoring_vs_def['XP2_allowed'] * 2"
   ]
  },
  {
   "cell_type": "code",
   "execution_count": 416,
   "id": "b43c0b5d-1865-4b1b-a55b-c58e4b3f5f89",
   "metadata": {},
   "outputs": [],
   "source": [
    "scoring_vs_def['points_against'] = scoring_vs_def['TD_allowed'] + scoring_vs_def['FG_allowed'] + scoring_vs_def['XP_allowed'] + scoring_vs_def['XP2_allowed']"
   ]
  },
  {
   "cell_type": "code",
   "execution_count": 417,
   "id": "48450bb9-ac66-41c4-a7b1-d7b5bbfd888e",
   "metadata": {},
   "outputs": [],
   "source": [
    "scoring_vs_def.drop(columns = ['TD_allowed', 'FG_allowed', 'XP2_allowed', 'XP_allowed'], inplace = True)"
   ]
  },
  {
   "cell_type": "code",
   "execution_count": 418,
   "id": "d03d3499-3bac-407e-95d3-07cd78cc0d6a",
   "metadata": {},
   "outputs": [],
   "source": [
    "conditions = [\n",
    "    (scoring_vs_def['points_against'] == 0),\n",
    "    (scoring_vs_def['points_against'] >= 1) & (scoring_vs_def['points_against'] <= 6),\n",
    "    (scoring_vs_def['points_against'] >= 7) & (scoring_vs_def['points_against'] <= 13),\n",
    "    (scoring_vs_def['points_against'] >= 14) & (scoring_vs_def['points_against'] <= 20),\n",
    "    (scoring_vs_def['points_against'] >= 21) & (scoring_vs_def['points_against'] <= 27),\n",
    "    (scoring_vs_def['points_against'] >= 28) & (scoring_vs_def['points_against'] <= 34),\n",
    "    (scoring_vs_def['points_against'] >= 35)\n",
    "]\n",
    "\n",
    "# Define corresponding values\n",
    "values = [10, 7, 4, 1, 0, -1, -4]\n",
    "\n",
    "# Apply np.select to create the new column with updated values\n",
    "scoring_vs_def['points_against'] = np.select(conditions, values)"
   ]
  },
  {
   "cell_type": "code",
   "execution_count": 419,
   "id": "0358a7a5-3191-4083-a875-fc73ca926764",
   "metadata": {},
   "outputs": [
    {
     "data": {
      "text/html": [
       "<div>\n",
       "<style scoped>\n",
       "    .dataframe tbody tr th:only-of-type {\n",
       "        vertical-align: middle;\n",
       "    }\n",
       "\n",
       "    .dataframe tbody tr th {\n",
       "        vertical-align: top;\n",
       "    }\n",
       "\n",
       "    .dataframe thead th {\n",
       "        text-align: right;\n",
       "    }\n",
       "</style>\n",
       "<table border=\"1\" class=\"dataframe\">\n",
       "  <thead>\n",
       "    <tr style=\"text-align: right;\">\n",
       "      <th></th>\n",
       "      <th>season</th>\n",
       "      <th>week</th>\n",
       "      <th>game_id</th>\n",
       "      <th>defteam</th>\n",
       "      <th>points_against</th>\n",
       "    </tr>\n",
       "  </thead>\n",
       "  <tbody>\n",
       "    <tr>\n",
       "      <th>0</th>\n",
       "      <td>2000</td>\n",
       "      <td>1</td>\n",
       "      <td>2000_01_ARI_NYG</td>\n",
       "      <td>ARI</td>\n",
       "      <td>0</td>\n",
       "    </tr>\n",
       "    <tr>\n",
       "      <th>1</th>\n",
       "      <td>2000</td>\n",
       "      <td>1</td>\n",
       "      <td>2000_01_ARI_NYG</td>\n",
       "      <td>NYG</td>\n",
       "      <td>1</td>\n",
       "    </tr>\n",
       "    <tr>\n",
       "      <th>2</th>\n",
       "      <td>2000</td>\n",
       "      <td>1</td>\n",
       "      <td>2000_01_BAL_PIT</td>\n",
       "      <td>BAL</td>\n",
       "      <td>10</td>\n",
       "    </tr>\n",
       "    <tr>\n",
       "      <th>3</th>\n",
       "      <td>2000</td>\n",
       "      <td>1</td>\n",
       "      <td>2000_01_BAL_PIT</td>\n",
       "      <td>PIT</td>\n",
       "      <td>1</td>\n",
       "    </tr>\n",
       "    <tr>\n",
       "      <th>4</th>\n",
       "      <td>2000</td>\n",
       "      <td>1</td>\n",
       "      <td>2000_01_CAR_WAS</td>\n",
       "      <td>CAR</td>\n",
       "      <td>1</td>\n",
       "    </tr>\n",
       "  </tbody>\n",
       "</table>\n",
       "</div>"
      ],
      "text/plain": [
       "   season  week          game_id defteam  points_against\n",
       "0    2000     1  2000_01_ARI_NYG     ARI               0\n",
       "1    2000     1  2000_01_ARI_NYG     NYG               1\n",
       "2    2000     1  2000_01_BAL_PIT     BAL              10\n",
       "3    2000     1  2000_01_BAL_PIT     PIT               1\n",
       "4    2000     1  2000_01_CAR_WAS     CAR               1"
      ]
     },
     "execution_count": 419,
     "metadata": {},
     "output_type": "execute_result"
    }
   ],
   "source": [
    "scoring_vs_def.head()"
   ]
  },
  {
   "cell_type": "code",
   "execution_count": 420,
   "id": "07008026-e9aa-4aef-a2cd-d4969461b9bd",
   "metadata": {},
   "outputs": [
    {
     "data": {
      "text/html": [
       "<div>\n",
       "<style scoped>\n",
       "    .dataframe tbody tr th:only-of-type {\n",
       "        vertical-align: middle;\n",
       "    }\n",
       "\n",
       "    .dataframe tbody tr th {\n",
       "        vertical-align: top;\n",
       "    }\n",
       "\n",
       "    .dataframe thead th {\n",
       "        text-align: right;\n",
       "    }\n",
       "</style>\n",
       "<table border=\"1\" class=\"dataframe\">\n",
       "  <thead>\n",
       "    <tr style=\"text-align: right;\">\n",
       "      <th></th>\n",
       "      <th>season</th>\n",
       "      <th>week</th>\n",
       "      <th>game_id</th>\n",
       "      <th>defteam</th>\n",
       "      <th>interception</th>\n",
       "      <th>sack</th>\n",
       "      <th>safety</th>\n",
       "      <th>return_tds</th>\n",
       "      <th>fumble_recoveries</th>\n",
       "      <th>off_fum_rec_dk</th>\n",
       "      <th>punt_fum_rec</th>\n",
       "      <th>blocked_punts</th>\n",
       "      <th>blocked_FG</th>\n",
       "      <th>blocked_XP</th>\n",
       "      <th>defensive_two_point_conv</th>\n",
       "      <th>defensive_extra_point_conv</th>\n",
       "    </tr>\n",
       "  </thead>\n",
       "  <tbody>\n",
       "    <tr>\n",
       "      <th>0</th>\n",
       "      <td>2000</td>\n",
       "      <td>1</td>\n",
       "      <td>2000_01_ARI_NYG</td>\n",
       "      <td>ARI</td>\n",
       "      <td>1.0</td>\n",
       "      <td>0.0</td>\n",
       "      <td>0.0</td>\n",
       "      <td>0.0</td>\n",
       "      <td>1.0</td>\n",
       "      <td>0.0</td>\n",
       "      <td>0.0</td>\n",
       "      <td>0.0</td>\n",
       "      <td>0.0</td>\n",
       "      <td>0.0</td>\n",
       "      <td>0.0</td>\n",
       "      <td>0.0</td>\n",
       "    </tr>\n",
       "    <tr>\n",
       "      <th>1</th>\n",
       "      <td>2000</td>\n",
       "      <td>1</td>\n",
       "      <td>2000_01_ARI_NYG</td>\n",
       "      <td>NYG</td>\n",
       "      <td>3.0</td>\n",
       "      <td>1.0</td>\n",
       "      <td>0.0</td>\n",
       "      <td>0.0</td>\n",
       "      <td>1.0</td>\n",
       "      <td>0.0</td>\n",
       "      <td>0.0</td>\n",
       "      <td>0.0</td>\n",
       "      <td>0.0</td>\n",
       "      <td>0.0</td>\n",
       "      <td>0.0</td>\n",
       "      <td>0.0</td>\n",
       "    </tr>\n",
       "    <tr>\n",
       "      <th>2</th>\n",
       "      <td>2000</td>\n",
       "      <td>1</td>\n",
       "      <td>2000_01_BAL_PIT</td>\n",
       "      <td>BAL</td>\n",
       "      <td>0.0</td>\n",
       "      <td>1.0</td>\n",
       "      <td>0.0</td>\n",
       "      <td>0.0</td>\n",
       "      <td>1.0</td>\n",
       "      <td>0.0</td>\n",
       "      <td>0.0</td>\n",
       "      <td>0.0</td>\n",
       "      <td>0.0</td>\n",
       "      <td>0.0</td>\n",
       "      <td>0.0</td>\n",
       "      <td>0.0</td>\n",
       "    </tr>\n",
       "    <tr>\n",
       "      <th>3</th>\n",
       "      <td>2000</td>\n",
       "      <td>1</td>\n",
       "      <td>2000_01_BAL_PIT</td>\n",
       "      <td>PIT</td>\n",
       "      <td>0.0</td>\n",
       "      <td>1.0</td>\n",
       "      <td>0.0</td>\n",
       "      <td>0.0</td>\n",
       "      <td>0.0</td>\n",
       "      <td>0.0</td>\n",
       "      <td>0.0</td>\n",
       "      <td>0.0</td>\n",
       "      <td>0.0</td>\n",
       "      <td>0.0</td>\n",
       "      <td>0.0</td>\n",
       "      <td>0.0</td>\n",
       "    </tr>\n",
       "    <tr>\n",
       "      <th>4</th>\n",
       "      <td>2000</td>\n",
       "      <td>1</td>\n",
       "      <td>2000_01_CAR_WAS</td>\n",
       "      <td>CAR</td>\n",
       "      <td>0.0</td>\n",
       "      <td>0.0</td>\n",
       "      <td>0.0</td>\n",
       "      <td>1.0</td>\n",
       "      <td>0.0</td>\n",
       "      <td>0.0</td>\n",
       "      <td>0.0</td>\n",
       "      <td>0.0</td>\n",
       "      <td>0.0</td>\n",
       "      <td>0.0</td>\n",
       "      <td>0.0</td>\n",
       "      <td>0.0</td>\n",
       "    </tr>\n",
       "  </tbody>\n",
       "</table>\n",
       "</div>"
      ],
      "text/plain": [
       "   season  week          game_id defteam  interception  sack  safety  \\\n",
       "0    2000     1  2000_01_ARI_NYG     ARI           1.0   0.0     0.0   \n",
       "1    2000     1  2000_01_ARI_NYG     NYG           3.0   1.0     0.0   \n",
       "2    2000     1  2000_01_BAL_PIT     BAL           0.0   1.0     0.0   \n",
       "3    2000     1  2000_01_BAL_PIT     PIT           0.0   1.0     0.0   \n",
       "4    2000     1  2000_01_CAR_WAS     CAR           0.0   0.0     0.0   \n",
       "\n",
       "   return_tds  fumble_recoveries  off_fum_rec_dk  punt_fum_rec  blocked_punts  \\\n",
       "0         0.0                1.0             0.0           0.0            0.0   \n",
       "1         0.0                1.0             0.0           0.0            0.0   \n",
       "2         0.0                1.0             0.0           0.0            0.0   \n",
       "3         0.0                0.0             0.0           0.0            0.0   \n",
       "4         1.0                0.0             0.0           0.0            0.0   \n",
       "\n",
       "   blocked_FG  blocked_XP  defensive_two_point_conv  \\\n",
       "0         0.0         0.0                       0.0   \n",
       "1         0.0         0.0                       0.0   \n",
       "2         0.0         0.0                       0.0   \n",
       "3         0.0         0.0                       0.0   \n",
       "4         0.0         0.0                       0.0   \n",
       "\n",
       "   defensive_extra_point_conv  \n",
       "0                         0.0  \n",
       "1                         0.0  \n",
       "2                         0.0  \n",
       "3                         0.0  \n",
       "4                         0.0  "
      ]
     },
     "execution_count": 420,
     "metadata": {},
     "output_type": "execute_result"
    }
   ],
   "source": [
    "base_df.head()"
   ]
  },
  {
   "cell_type": "code",
   "execution_count": 421,
   "id": "02f1f22f-f4d3-46c7-baf3-74368b13d5a4",
   "metadata": {},
   "outputs": [],
   "source": [
    "base_df = combine_cols(base_df, 'fumble_rec', 'fumble_recoveries', 'punt_fum_rec')"
   ]
  },
  {
   "cell_type": "code",
   "execution_count": 422,
   "id": "f3beb58c-7c88-4138-8dcd-0c610a500dcf",
   "metadata": {},
   "outputs": [],
   "source": [
    "base_df = combine_cols(base_df, 'blocked_kicks', 'blocked_punts', 'blocked_FG', 'blocked_XP')"
   ]
  },
  {
   "cell_type": "code",
   "execution_count": 423,
   "id": "b65ab02d-431d-4102-ab11-b1c05a55e8dc",
   "metadata": {},
   "outputs": [
    {
     "name": "stdout",
     "output_type": "stream",
     "text": [
      "<class 'pandas.core.frame.DataFrame'>\n",
      "RangeIndex: 12890 entries, 0 to 12889\n",
      "Data columns (total 13 columns):\n",
      " #   Column                      Non-Null Count  Dtype  \n",
      "---  ------                      --------------  -----  \n",
      " 0   season                      12890 non-null  int64  \n",
      " 1   week                        12890 non-null  int64  \n",
      " 2   game_id                     12890 non-null  object \n",
      " 3   defteam                     12890 non-null  object \n",
      " 4   interception                12890 non-null  float64\n",
      " 5   sack                        12890 non-null  float64\n",
      " 6   safety                      12890 non-null  float64\n",
      " 7   return_tds                  12890 non-null  float64\n",
      " 8   off_fum_rec_dk              12890 non-null  float64\n",
      " 9   defensive_two_point_conv    12890 non-null  float64\n",
      " 10  defensive_extra_point_conv  12890 non-null  float64\n",
      " 11  fumble_rec                  12890 non-null  float64\n",
      " 12  blocked_kicks               12890 non-null  float64\n",
      "dtypes: float64(9), int64(2), object(2)\n",
      "memory usage: 1.3+ MB\n"
     ]
    }
   ],
   "source": [
    "base_df.info()"
   ]
  },
  {
   "cell_type": "markdown",
   "id": "669328e6-17a8-441d-bc15-92ebda4d03f8",
   "metadata": {},
   "source": [
    "Here the scoring_vs_def column is merged with the base_df. Then we'll apply the scoring system to get actual fantasy points scored for every team's defense in every game."
   ]
  },
  {
   "cell_type": "code",
   "execution_count": 424,
   "id": "f893ab95-203c-4bf4-833a-dbb8067c56ce",
   "metadata": {},
   "outputs": [],
   "source": [
    "base_df = expand_base_df(base_df, scoring_vs_def, cols_to_group_defteam)"
   ]
  },
  {
   "cell_type": "code",
   "execution_count": 425,
   "id": "55eb9e92-0200-49e7-9a8a-0052550fe06a",
   "metadata": {},
   "outputs": [
    {
     "data": {
      "text/html": [
       "<div>\n",
       "<style scoped>\n",
       "    .dataframe tbody tr th:only-of-type {\n",
       "        vertical-align: middle;\n",
       "    }\n",
       "\n",
       "    .dataframe tbody tr th {\n",
       "        vertical-align: top;\n",
       "    }\n",
       "\n",
       "    .dataframe thead th {\n",
       "        text-align: right;\n",
       "    }\n",
       "</style>\n",
       "<table border=\"1\" class=\"dataframe\">\n",
       "  <thead>\n",
       "    <tr style=\"text-align: right;\">\n",
       "      <th></th>\n",
       "      <th>season</th>\n",
       "      <th>week</th>\n",
       "      <th>game_id</th>\n",
       "      <th>defteam</th>\n",
       "      <th>interception</th>\n",
       "      <th>sack</th>\n",
       "      <th>safety</th>\n",
       "      <th>return_tds</th>\n",
       "      <th>off_fum_rec_dk</th>\n",
       "      <th>defensive_two_point_conv</th>\n",
       "      <th>defensive_extra_point_conv</th>\n",
       "      <th>fumble_rec</th>\n",
       "      <th>blocked_kicks</th>\n",
       "      <th>points_against</th>\n",
       "    </tr>\n",
       "  </thead>\n",
       "  <tbody>\n",
       "    <tr>\n",
       "      <th>0</th>\n",
       "      <td>2000</td>\n",
       "      <td>1</td>\n",
       "      <td>2000_01_ARI_NYG</td>\n",
       "      <td>ARI</td>\n",
       "      <td>1.0</td>\n",
       "      <td>0.0</td>\n",
       "      <td>0.0</td>\n",
       "      <td>0.0</td>\n",
       "      <td>0.0</td>\n",
       "      <td>0.0</td>\n",
       "      <td>0.0</td>\n",
       "      <td>1.0</td>\n",
       "      <td>0.0</td>\n",
       "      <td>0</td>\n",
       "    </tr>\n",
       "    <tr>\n",
       "      <th>1</th>\n",
       "      <td>2000</td>\n",
       "      <td>1</td>\n",
       "      <td>2000_01_ARI_NYG</td>\n",
       "      <td>NYG</td>\n",
       "      <td>3.0</td>\n",
       "      <td>1.0</td>\n",
       "      <td>0.0</td>\n",
       "      <td>0.0</td>\n",
       "      <td>0.0</td>\n",
       "      <td>0.0</td>\n",
       "      <td>0.0</td>\n",
       "      <td>1.0</td>\n",
       "      <td>0.0</td>\n",
       "      <td>1</td>\n",
       "    </tr>\n",
       "    <tr>\n",
       "      <th>2</th>\n",
       "      <td>2000</td>\n",
       "      <td>1</td>\n",
       "      <td>2000_01_BAL_PIT</td>\n",
       "      <td>BAL</td>\n",
       "      <td>0.0</td>\n",
       "      <td>1.0</td>\n",
       "      <td>0.0</td>\n",
       "      <td>0.0</td>\n",
       "      <td>0.0</td>\n",
       "      <td>0.0</td>\n",
       "      <td>0.0</td>\n",
       "      <td>1.0</td>\n",
       "      <td>0.0</td>\n",
       "      <td>10</td>\n",
       "    </tr>\n",
       "    <tr>\n",
       "      <th>3</th>\n",
       "      <td>2000</td>\n",
       "      <td>1</td>\n",
       "      <td>2000_01_BAL_PIT</td>\n",
       "      <td>PIT</td>\n",
       "      <td>0.0</td>\n",
       "      <td>1.0</td>\n",
       "      <td>0.0</td>\n",
       "      <td>0.0</td>\n",
       "      <td>0.0</td>\n",
       "      <td>0.0</td>\n",
       "      <td>0.0</td>\n",
       "      <td>0.0</td>\n",
       "      <td>0.0</td>\n",
       "      <td>1</td>\n",
       "    </tr>\n",
       "    <tr>\n",
       "      <th>4</th>\n",
       "      <td>2000</td>\n",
       "      <td>1</td>\n",
       "      <td>2000_01_CAR_WAS</td>\n",
       "      <td>CAR</td>\n",
       "      <td>0.0</td>\n",
       "      <td>0.0</td>\n",
       "      <td>0.0</td>\n",
       "      <td>1.0</td>\n",
       "      <td>0.0</td>\n",
       "      <td>0.0</td>\n",
       "      <td>0.0</td>\n",
       "      <td>0.0</td>\n",
       "      <td>0.0</td>\n",
       "      <td>1</td>\n",
       "    </tr>\n",
       "  </tbody>\n",
       "</table>\n",
       "</div>"
      ],
      "text/plain": [
       "   season  week          game_id defteam  interception  sack  safety  \\\n",
       "0    2000     1  2000_01_ARI_NYG     ARI           1.0   0.0     0.0   \n",
       "1    2000     1  2000_01_ARI_NYG     NYG           3.0   1.0     0.0   \n",
       "2    2000     1  2000_01_BAL_PIT     BAL           0.0   1.0     0.0   \n",
       "3    2000     1  2000_01_BAL_PIT     PIT           0.0   1.0     0.0   \n",
       "4    2000     1  2000_01_CAR_WAS     CAR           0.0   0.0     0.0   \n",
       "\n",
       "   return_tds  off_fum_rec_dk  defensive_two_point_conv  \\\n",
       "0         0.0             0.0                       0.0   \n",
       "1         0.0             0.0                       0.0   \n",
       "2         0.0             0.0                       0.0   \n",
       "3         0.0             0.0                       0.0   \n",
       "4         1.0             0.0                       0.0   \n",
       "\n",
       "   defensive_extra_point_conv  fumble_rec  blocked_kicks  points_against  \n",
       "0                         0.0         1.0            0.0               0  \n",
       "1                         0.0         1.0            0.0               1  \n",
       "2                         0.0         1.0            0.0              10  \n",
       "3                         0.0         0.0            0.0               1  \n",
       "4                         0.0         0.0            0.0               1  "
      ]
     },
     "execution_count": 425,
     "metadata": {},
     "output_type": "execute_result"
    }
   ],
   "source": [
    "base_df.head()"
   ]
  },
  {
   "cell_type": "code",
   "execution_count": 426,
   "id": "43049877-51e6-4e9a-85cb-00e336db7ae6",
   "metadata": {},
   "outputs": [],
   "source": [
    "base_df['FD_Pts'] = base_df['sack'] + (base_df['fumble_rec'] * 2) + (base_df['return_tds'] * 6)\\\n",
    "+ (base_df['defensive_two_point_conv'] * 2) + (base_df['safety'] * 2) + (base_df['blocked_kicks'] * 2)\\\n",
    "+ (base_df['interception'] * 2) + base_df['points_against']"
   ]
  },
  {
   "cell_type": "code",
   "execution_count": 427,
   "id": "a18ce260-e2f9-4b41-ad95-8930737fa5a2",
   "metadata": {},
   "outputs": [],
   "source": [
    "base_df['DK_Pts'] = base_df['sack'] + (base_df['fumble_rec'] * 2) + (base_df['return_tds'] * 6)\\\n",
    "+ (base_df['defensive_two_point_conv'] * 2) + (base_df['safety'] * 2) + (base_df['blocked_kicks'] * 2)\\\n",
    "+ (base_df['interception'] * 2) + base_df['off_fum_rec_dk'] + base_df['points_against']"
   ]
  },
  {
   "cell_type": "code",
   "execution_count": 428,
   "id": "4a1b93c4-8bb4-4d9d-a30f-acdd50f7f345",
   "metadata": {},
   "outputs": [],
   "source": [
    "def_target_var = base_df[['season', 'week', 'game_id', 'defteam', 'FD_Pts', 'DK_Pts']]"
   ]
  },
  {
   "cell_type": "code",
   "execution_count": 429,
   "id": "b8287736-446a-4c3a-8bd8-22d52538bfed",
   "metadata": {},
   "outputs": [
    {
     "data": {
      "text/html": [
       "<div>\n",
       "<style scoped>\n",
       "    .dataframe tbody tr th:only-of-type {\n",
       "        vertical-align: middle;\n",
       "    }\n",
       "\n",
       "    .dataframe tbody tr th {\n",
       "        vertical-align: top;\n",
       "    }\n",
       "\n",
       "    .dataframe thead th {\n",
       "        text-align: right;\n",
       "    }\n",
       "</style>\n",
       "<table border=\"1\" class=\"dataframe\">\n",
       "  <thead>\n",
       "    <tr style=\"text-align: right;\">\n",
       "      <th></th>\n",
       "      <th>season</th>\n",
       "      <th>week</th>\n",
       "      <th>game_id</th>\n",
       "      <th>defteam</th>\n",
       "      <th>FD_Pts</th>\n",
       "      <th>DK_Pts</th>\n",
       "    </tr>\n",
       "  </thead>\n",
       "  <tbody>\n",
       "    <tr>\n",
       "      <th>0</th>\n",
       "      <td>2000</td>\n",
       "      <td>1</td>\n",
       "      <td>2000_01_ARI_NYG</td>\n",
       "      <td>ARI</td>\n",
       "      <td>4.0</td>\n",
       "      <td>4.0</td>\n",
       "    </tr>\n",
       "    <tr>\n",
       "      <th>1</th>\n",
       "      <td>2000</td>\n",
       "      <td>1</td>\n",
       "      <td>2000_01_ARI_NYG</td>\n",
       "      <td>NYG</td>\n",
       "      <td>10.0</td>\n",
       "      <td>10.0</td>\n",
       "    </tr>\n",
       "    <tr>\n",
       "      <th>2</th>\n",
       "      <td>2000</td>\n",
       "      <td>1</td>\n",
       "      <td>2000_01_BAL_PIT</td>\n",
       "      <td>BAL</td>\n",
       "      <td>13.0</td>\n",
       "      <td>13.0</td>\n",
       "    </tr>\n",
       "    <tr>\n",
       "      <th>3</th>\n",
       "      <td>2000</td>\n",
       "      <td>1</td>\n",
       "      <td>2000_01_BAL_PIT</td>\n",
       "      <td>PIT</td>\n",
       "      <td>2.0</td>\n",
       "      <td>2.0</td>\n",
       "    </tr>\n",
       "    <tr>\n",
       "      <th>4</th>\n",
       "      <td>2000</td>\n",
       "      <td>1</td>\n",
       "      <td>2000_01_CAR_WAS</td>\n",
       "      <td>CAR</td>\n",
       "      <td>7.0</td>\n",
       "      <td>7.0</td>\n",
       "    </tr>\n",
       "  </tbody>\n",
       "</table>\n",
       "</div>"
      ],
      "text/plain": [
       "   season  week          game_id defteam  FD_Pts  DK_Pts\n",
       "0    2000     1  2000_01_ARI_NYG     ARI     4.0     4.0\n",
       "1    2000     1  2000_01_ARI_NYG     NYG    10.0    10.0\n",
       "2    2000     1  2000_01_BAL_PIT     BAL    13.0    13.0\n",
       "3    2000     1  2000_01_BAL_PIT     PIT     2.0     2.0\n",
       "4    2000     1  2000_01_CAR_WAS     CAR     7.0     7.0"
      ]
     },
     "execution_count": 429,
     "metadata": {},
     "output_type": "execute_result"
    }
   ],
   "source": [
    "def_target_var.head()"
   ]
  },
  {
   "cell_type": "code",
   "execution_count": 430,
   "id": "6a67ccf7-bc51-4014-8a7b-97104d8087e7",
   "metadata": {},
   "outputs": [
    {
     "data": {
      "image/png": "[encoded data removed]",
      "text/plain": [
       "<Figure size 640x480 with 1 Axes>"
      ]
     },
     "metadata": {},
     "output_type": "display_data"
    }
   ],
   "source": [
    "# Plot FD_Pts\n",
    "plt.hist(def_target_var['FD_Pts'], bins=30, alpha=0.5, label='FD_Pts')\n",
    "\n",
    "# Adding titles and labels\n",
    "plt.title('Distribution of FD_Pts and DK_Pts')\n",
    "plt.xlabel('Points')\n",
    "plt.ylabel('Frequency')\n",
    "plt.legend(loc='upper right')\n",
    "\n",
    "# Show the plot\n",
    "plt.show()"
   ]
  },
  {
   "cell_type": "code",
   "execution_count": null,
   "id": "2ed395d7-5b15-4f5d-8e40-f74f3d8a21d0",
   "metadata": {},
   "outputs": [],
   "source": []
  },
  {
   "cell_type": "code",
   "execution_count": 444,
   "id": "10952016-0321-469a-86e0-984e8ee69dfd",
   "metadata": {},
   "outputs": [
    {
     "name": "stdout",
     "output_type": "stream",
     "text": [
      "Data written to table defense_target in SQLite database nfl_fantasy.db\n"
     ]
    }
   ],
   "source": [
    "conn = sqlite3.connect('nfl_dfs.db')\n",
    "\n",
    "# Define the table name\n",
    "table_name = 'defense_target'\n",
    "\n",
    "# Specify data types\n",
    "dtype = {\n",
    "    'season': 'INTEGER',\n",
    "    'week': 'INTEGER',\n",
    "    'game_id': 'TEXT',\n",
    "    'defteam': 'TEXT',\n",
    "    'FD_Pts': 'REAL',\n",
    "    'DK_Pts': 'REAL'\n",
    "}\n",
    "\n",
    "# Write the dataframe to the SQLite table\n",
    "def_target_var.to_sql(table_name, conn, if_exists='replace', index=False, dtype=dtype)\n",
    "\n",
    "# Confirm that the data has been written\n",
    "print(f\"Data written to table {table_name} in SQLite database nfl_fantasy.db\")\n",
    "\n",
    "# Close the connection\n",
    "conn.close()"
   ]
  },
  {
   "cell_type": "code",
   "execution_count": 445,
   "id": "41922d49-968e-44d5-a6ac-82cecab99378",
   "metadata": {},
   "outputs": [
    {
     "name": "stdout",
     "output_type": "stream",
     "text": [
      "Tables in the database:\n",
      "team_defense\n",
      "defense_target\n"
     ]
    }
   ],
   "source": [
    "# Connect to SQLite database\n",
    "conn = sqlite3.connect('nfl_dfs.db')\n",
    "\n",
    "# Create a cursor object\n",
    "cursor = conn.cursor()\n",
    "\n",
    "# Execute a query to get the list of tables\n",
    "cursor.execute(\"SELECT name FROM sqlite_master WHERE type='table';\")\n",
    "\n",
    "# Fetch all results\n",
    "tables = cursor.fetchall()\n",
    "\n",
    "# Print the list of tables\n",
    "print(\"Tables in the database:\")\n",
    "for table in tables:\n",
    "    print(table[0])\n",
    "\n",
    "# Close the connection\n",
    "conn.close()"
   ]
  },
  {
   "cell_type": "code",
   "execution_count": null,
   "id": "939f30b3-2ce7-4fed-b618-711628ef028d",
   "metadata": {},
   "outputs": [],
   "source": []
  }
 ],
 "metadata": {
  "kernelspec": {
   "display_name": "Python (nfl_dfs_model)",
   "language": "python",
   "name": "nfl_dfs_model"
  },
  "language_info": {
   "codemirror_mode": {
    "name": "ipython",
    "version": 3
   },
   "file_extension": ".py",
   "mimetype": "text/x-python",
   "name": "python",
   "nbconvert_exporter": "python",
   "pygments_lexer": "ipython3",
   "version": "3.8.19"
  }
 },
 "nbformat": 4,
 "nbformat_minor": 5
}
