{
 "cells": [
  {
   "cell_type": "markdown",
   "id": "a6cd397f-09a1-4801-b261-3bb4c9b89830",
   "metadata": {},
   "source": [
    "# Processing FanDuel and DraftKings CSVs\n",
    "This notebook, the first step in the live deployment of our model, takes the player lists and processes them into a format that can be merged with the data that will be used for the model.<br>\n",
    "\n",
    "This notebook can be repeated at various points during the week to update injury status, as that information is included in the FanDuel csv and will be transferred to the DraftKings csv."
   ]
  },
  {
   "cell_type": "code",
   "execution_count": 1,
   "id": "a9829924-153b-4d4a-b8d2-8bce75cbce9d",
   "metadata": {},
   "outputs": [],
   "source": [
    "import numpy as np\n",
    "import pandas as pd\n",
    "#from datetime import datetime, timedelta\n",
    "import os\n",
    "from functions import get_current_weekday, calculate_nfl_week, get_next_sunday, get_current_year"
   ]
  },
  {
   "cell_type": "markdown",
   "id": "ebf40943-a9ae-4a71-8459-bd837b313789",
   "metadata": {},
   "source": [
    "# Automating datestring\n",
    "This function gets the date string we need to read the CSVs. It returns the date of the next Sunday. Then the following function uses the date to get the week number of the season."
   ]
  },
  {
   "cell_type": "code",
   "execution_count": 2,
   "id": "9d567117-b73f-4183-89a6-231c7d2fb30c",
   "metadata": {},
   "outputs": [],
   "source": [
    "day = get_current_weekday()"
   ]
  },
  {
   "cell_type": "code",
   "execution_count": 3,
   "id": "e06c988a-aa76-404d-b221-835d7de78f69",
   "metadata": {},
   "outputs": [],
   "source": [
    "date_string = get_next_sunday(day)"
   ]
  },
  {
   "cell_type": "code",
   "execution_count": 4,
   "id": "2812f103-8bc3-40ea-a846-727501919526",
   "metadata": {},
   "outputs": [
    {
     "data": {
      "text/plain": [
       "'2024-09-22'"
      ]
     },
     "execution_count": 4,
     "metadata": {},
     "output_type": "execute_result"
    }
   ],
   "source": [
    "date_string"
   ]
  },
  {
   "cell_type": "code",
   "execution_count": 5,
   "id": "dc13a692-3ba7-4bbf-9b28-a69362248456",
   "metadata": {},
   "outputs": [],
   "source": [
    "week = calculate_nfl_week(date_string)"
   ]
  },
  {
   "cell_type": "code",
   "execution_count": 6,
   "id": "90711bc9-8499-4505-b509-39fc4f663145",
   "metadata": {},
   "outputs": [],
   "source": [
    "season = get_current_year()"
   ]
  },
  {
   "cell_type": "markdown",
   "id": "d4c4afbb-861c-41cd-a029-cf1c3976c288",
   "metadata": {},
   "source": [
    "# Renaming CSVs\n",
    "So that we can just download the CSVs and move them into our directory without renaming them, the code below will rename the FanDuel and DraftKings player lists.<br>\n",
    "\n",
    "**This requires a little bit of housekeeping** as we first need to delete the previous week's FanDuel and DraftKings CSVs before downloading the new ones. Yes, it would be easier to automate the process of deleting the CSVs and then downloading the new ones, but we don't want to do any scraping on the FanDuel and DraftKings sites. If we do too much of it, we're blocked from playing."
   ]
  },
  {
   "cell_type": "code",
   "execution_count": 7,
   "id": "67a99694-80e6-46ea-9341-35924e719b1f",
   "metadata": {},
   "outputs": [],
   "source": [
    "# Get the list of files in the current directory\n",
    "files = os.listdir()"
   ]
  },
  {
   "cell_type": "code",
   "execution_count": 8,
   "id": "b37f7d93-0524-4780-93de-12293537e303",
   "metadata": {},
   "outputs": [
    {
     "name": "stdout",
     "output_type": "stream",
     "text": [
      "Renamed DK CSV to: DK_2024-09-22_list.csv\n",
      "Renamed FanDuel CSV to: FD_2024-09-22_list.csv\n"
     ]
    }
   ],
   "source": [
    "# Loop through each file in the directory\n",
    "for file_name in files:\n",
    "    if file_name.startswith(\"FanDuel\"):\n",
    "        # Read the FanDuel CSV file\n",
    "        fd_df = pd.read_csv(file_name)\n",
    "        \n",
    "        # Create the new filename\n",
    "        new_fd_filename = f\"FD_{date_string}_list.csv\"\n",
    "        \n",
    "        # Save the DataFrame with the new filename\n",
    "        fd_df.to_csv(new_fd_filename, index=False)\n",
    "        \n",
    "        print(f\"Renamed FanDuel CSV to: {new_fd_filename}\")\n",
    "\n",
    "        # Delete the original FanDuel CSV file\n",
    "        os.remove(file_name)\n",
    "        print(f\"Deleted original FanDuel CSV: {file_name}\")\n",
    "    \n",
    "    elif file_name.startswith(\"DKSalaries\"):\n",
    "        # Read the DK CSV file\n",
    "        dk_df = pd.read_csv(file_name)\n",
    "        \n",
    "        # Create the new filename\n",
    "        new_dk_filename = f\"DK_{date_string}_list.csv\"\n",
    "        \n",
    "        # Save the DataFrame with the new filename\n",
    "        dk_df.to_csv(new_dk_filename, index=False)\n",
    "        \n",
    "        print(f\"Renamed DK CSV to: {new_dk_filename}\")\n",
    "\n",
    "        # Delete the original FanDuel CSV file\n",
    "        os.remove(file_name)\n",
    "        print(f\"Deleted original FanDuel CSV: {file_name}\")"
   ]
  },
  {
   "cell_type": "code",
   "execution_count": null,
   "id": "342b5882-4356-4ca1-96b8-485f4547c7fb",
   "metadata": {},
   "outputs": [],
   "source": []
  },
  {
   "cell_type": "markdown",
   "id": "a6b37619-87f7-4757-970b-fe2ebce8bc62",
   "metadata": {},
   "source": [
    "# Reading and processing FanDuel csv"
   ]
  },
  {
   "cell_type": "code",
   "execution_count": 9,
   "id": "fd368aba-6dae-41b9-a3f3-ffa71c32926a",
   "metadata": {},
   "outputs": [],
   "source": [
    "fd_df = pd.read_csv('FD_' + date_string + '_list.csv')"
   ]
  },
  {
   "cell_type": "code",
   "execution_count": 10,
   "id": "63776142-65bc-45bf-9bd2-a4058165b990",
   "metadata": {},
   "outputs": [],
   "source": [
    "fd_df.rename(columns = {'Nickname': 'Name'}, inplace = True)"
   ]
  },
  {
   "cell_type": "code",
   "execution_count": 11,
   "id": "86237bf3-b53f-41a2-96a1-897f9e0d0771",
   "metadata": {},
   "outputs": [],
   "source": [
    "fd_df = fd_df[['Id', 'Position', 'First Name', 'Name', 'Last Name', 'Salary', 'Game', 'Team', 'Opponent', 'Injury Indicator']]"
   ]
  },
  {
   "cell_type": "code",
   "execution_count": 12,
   "id": "ff5be3be-baba-4ebf-9c9f-5e95a8f6af86",
   "metadata": {},
   "outputs": [],
   "source": [
    "fd_df[['Away_Team', 'Home_Team']] = fd_df['Game'].str.split('@', expand=True)"
   ]
  },
  {
   "cell_type": "code",
   "execution_count": 13,
   "id": "330d7d1d-cb7a-4fe6-946b-d28fc0bb5b86",
   "metadata": {},
   "outputs": [],
   "source": [
    "fd_df.drop(columns = ['Game'], inplace = True)"
   ]
  },
  {
   "cell_type": "code",
   "execution_count": 14,
   "id": "09d13fc1-103f-4afd-b224-94067389278a",
   "metadata": {},
   "outputs": [],
   "source": [
    "fd_df['home_team'] = np.where(fd_df['Team'] == fd_df['Home_Team'], 1, 0)"
   ]
  },
  {
   "cell_type": "code",
   "execution_count": 15,
   "id": "fcb862ac-0eae-4908-ae46-1fcfa0a2bbd0",
   "metadata": {},
   "outputs": [],
   "source": [
    "fd_df.drop(columns = ['Home_Team', 'Away_Team'], inplace = True)"
   ]
  },
  {
   "cell_type": "code",
   "execution_count": 16,
   "id": "3abb46ac-2643-4c3e-9ea4-722e7aff7eaa",
   "metadata": {},
   "outputs": [],
   "source": [
    "#We might have to add more teams to this process\n",
    "#This is just the Week 1 main slate so there might be more team string discrepancies between FanDuel and DraftKings\n",
    "fd_df['Team'] = fd_df['Team'].replace({'JAC' : 'JAX'})\n",
    "fd_df['Opponent'] = fd_df['Opponent'].replace({'JAC' : 'JAX'})"
   ]
  },
  {
   "cell_type": "code",
   "execution_count": 17,
   "id": "d2b7588c-f4f2-4456-b0c7-ad846b8fd9ce",
   "metadata": {},
   "outputs": [
    {
     "data": {
      "text/html": [
       "<div>\n",
       "<style scoped>\n",
       "    .dataframe tbody tr th:only-of-type {\n",
       "        vertical-align: middle;\n",
       "    }\n",
       "\n",
       "    .dataframe tbody tr th {\n",
       "        vertical-align: top;\n",
       "    }\n",
       "\n",
       "    .dataframe thead th {\n",
       "        text-align: right;\n",
       "    }\n",
       "</style>\n",
       "<table border=\"1\" class=\"dataframe\">\n",
       "  <thead>\n",
       "    <tr style=\"text-align: right;\">\n",
       "      <th></th>\n",
       "      <th>Id</th>\n",
       "      <th>Position</th>\n",
       "      <th>First Name</th>\n",
       "      <th>Name</th>\n",
       "      <th>Last Name</th>\n",
       "      <th>Salary</th>\n",
       "      <th>Team</th>\n",
       "      <th>Opponent</th>\n",
       "      <th>Injury Indicator</th>\n",
       "      <th>home_team</th>\n",
       "    </tr>\n",
       "  </thead>\n",
       "  <tbody>\n",
       "    <tr>\n",
       "      <th>0</th>\n",
       "      <td>107027-86631</td>\n",
       "      <td>WR</td>\n",
       "      <td>CeeDee</td>\n",
       "      <td>CeeDee Lamb</td>\n",
       "      <td>Lamb</td>\n",
       "      <td>9300</td>\n",
       "      <td>DAL</td>\n",
       "      <td>BAL</td>\n",
       "      <td>NaN</td>\n",
       "      <td>1</td>\n",
       "    </tr>\n",
       "    <tr>\n",
       "      <th>1</th>\n",
       "      <td>107027-85671</td>\n",
       "      <td>WR</td>\n",
       "      <td>Justin</td>\n",
       "      <td>Justin Jefferson</td>\n",
       "      <td>Jefferson</td>\n",
       "      <td>9200</td>\n",
       "      <td>MIN</td>\n",
       "      <td>HOU</td>\n",
       "      <td>NaN</td>\n",
       "      <td>1</td>\n",
       "    </tr>\n",
       "    <tr>\n",
       "      <th>2</th>\n",
       "      <td>107027-86997</td>\n",
       "      <td>WR</td>\n",
       "      <td>Amon-Ra</td>\n",
       "      <td>Amon-Ra St. Brown</td>\n",
       "      <td>St. Brown</td>\n",
       "      <td>9100</td>\n",
       "      <td>DET</td>\n",
       "      <td>ARI</td>\n",
       "      <td>NaN</td>\n",
       "      <td>0</td>\n",
       "    </tr>\n",
       "    <tr>\n",
       "      <th>3</th>\n",
       "      <td>107027-53681</td>\n",
       "      <td>WR</td>\n",
       "      <td>Tyreek</td>\n",
       "      <td>Tyreek Hill</td>\n",
       "      <td>Hill</td>\n",
       "      <td>9000</td>\n",
       "      <td>MIA</td>\n",
       "      <td>SEA</td>\n",
       "      <td>NaN</td>\n",
       "      <td>0</td>\n",
       "    </tr>\n",
       "    <tr>\n",
       "      <th>4</th>\n",
       "      <td>107027-63115</td>\n",
       "      <td>QB</td>\n",
       "      <td>Lamar</td>\n",
       "      <td>Lamar Jackson</td>\n",
       "      <td>Jackson</td>\n",
       "      <td>8800</td>\n",
       "      <td>BAL</td>\n",
       "      <td>DAL</td>\n",
       "      <td>NaN</td>\n",
       "      <td>0</td>\n",
       "    </tr>\n",
       "  </tbody>\n",
       "</table>\n",
       "</div>"
      ],
      "text/plain": [
       "             Id Position First Name               Name  Last Name  Salary  \\\n",
       "0  107027-86631       WR     CeeDee        CeeDee Lamb       Lamb    9300   \n",
       "1  107027-85671       WR     Justin   Justin Jefferson  Jefferson    9200   \n",
       "2  107027-86997       WR    Amon-Ra  Amon-Ra St. Brown  St. Brown    9100   \n",
       "3  107027-53681       WR     Tyreek        Tyreek Hill       Hill    9000   \n",
       "4  107027-63115       QB      Lamar      Lamar Jackson    Jackson    8800   \n",
       "\n",
       "  Team Opponent Injury Indicator  home_team  \n",
       "0  DAL      BAL              NaN          1  \n",
       "1  MIN      HOU              NaN          1  \n",
       "2  DET      ARI              NaN          0  \n",
       "3  MIA      SEA              NaN          0  \n",
       "4  BAL      DAL              NaN          0  "
      ]
     },
     "execution_count": 17,
     "metadata": {},
     "output_type": "execute_result"
    }
   ],
   "source": [
    "fd_df.head()"
   ]
  },
  {
   "cell_type": "code",
   "execution_count": null,
   "id": "8b6d57f3-bd7a-4cca-881f-ddc25bff58d9",
   "metadata": {},
   "outputs": [],
   "source": []
  },
  {
   "cell_type": "markdown",
   "id": "b1462c76-7174-4cdf-9762-b468cd53bf6b",
   "metadata": {},
   "source": [
    "# Reading and processing DraftKings csv"
   ]
  },
  {
   "cell_type": "code",
   "execution_count": 18,
   "id": "c42eb245-aae5-4a0c-814b-4ad46f0d4e3b",
   "metadata": {},
   "outputs": [],
   "source": [
    "dk_df = pd.read_csv('DK_' + date_string + '_list.csv')"
   ]
  },
  {
   "cell_type": "code",
   "execution_count": 19,
   "id": "1f9d17b9-5cba-42d1-9907-96159adff8c7",
   "metadata": {},
   "outputs": [
    {
     "name": "stdout",
     "output_type": "stream",
     "text": [
      "<class 'pandas.core.frame.DataFrame'>\n",
      "RangeIndex: 587 entries, 0 to 586\n",
      "Data columns (total 9 columns):\n",
      " #   Column            Non-Null Count  Dtype  \n",
      "---  ------            --------------  -----  \n",
      " 0   Position          587 non-null    object \n",
      " 1   Name + ID         587 non-null    object \n",
      " 2   Name              587 non-null    object \n",
      " 3   ID                587 non-null    int64  \n",
      " 4   Roster Position   587 non-null    object \n",
      " 5   Salary            587 non-null    int64  \n",
      " 6   Game Info         587 non-null    object \n",
      " 7   TeamAbbrev        587 non-null    object \n",
      " 8   AvgPointsPerGame  587 non-null    float64\n",
      "dtypes: float64(1), int64(2), object(6)\n",
      "memory usage: 41.4+ KB\n"
     ]
    }
   ],
   "source": [
    "dk_df.info()"
   ]
  },
  {
   "cell_type": "code",
   "execution_count": 20,
   "id": "c46fa05c-9f06-4728-8704-d8434cae66a7",
   "metadata": {},
   "outputs": [],
   "source": [
    "##We'll need to match FD and DK names so we can merge FD injury designations to DK.\n",
    "#Then hopefully the names we have will match the names used for the model.\n",
    "#Then we'll pare down the DK columns, create a mini df for home teams and merge that with DK\n",
    "#The goal of this notebook should be to have FD and DK dataframes that include:\n",
    "#full name, salary, position, team, opponent, home team (binary), injury designation, id (just in case)"
   ]
  },
  {
   "cell_type": "markdown",
   "id": "7766679a-4593-4bde-ba1d-7f312140460b",
   "metadata": {},
   "source": [
    "This dictionary and function will be used later to convert team names to abbrevation strings"
   ]
  },
  {
   "cell_type": "code",
   "execution_count": 21,
   "id": "06255213-66ed-422b-8ecd-9108597fc7a1",
   "metadata": {},
   "outputs": [],
   "source": [
    "nfl_teams = [\n",
    "    'Bills', 'Dolphins', 'Patriots', 'Jets',\n",
    "    'Bengals', 'Browns', 'Ravens', 'Steelers',\n",
    "    'Texans', 'Colts', 'Jaguars', 'Titans',\n",
    "    'Broncos', 'Chiefs', 'Raiders', 'Chargers',\n",
    "    'Cowboys', 'Giants', 'Eagles', 'Commanders',\n",
    "    'Bears', 'Lions', 'Packers', 'Vikings',\n",
    "    'Falcons', 'Panthers', 'Saints', 'Buccaneers',\n",
    "    'Cardinals', 'Rams', '49ers', 'Seahawks'\n",
    "]"
   ]
  },
  {
   "cell_type": "code",
   "execution_count": 22,
   "id": "994465dd-bcf4-42be-9aae-8836195877b3",
   "metadata": {},
   "outputs": [],
   "source": [
    "team_abbreviations = [\n",
    "    'BUF', 'MIA', 'NE', 'NYJ',\n",
    "    'CIN', 'CLE', 'BAL', 'PIT',\n",
    "    'HOU', 'IND', 'JAX', 'TEN',\n",
    "    'DEN', 'KC', 'LV', 'LAC',\n",
    "    'DAL', 'NYG', 'PHI', 'WAS',\n",
    "    'CHI', 'DET', 'GB', 'MIN',\n",
    "    'ATL', 'CAR', 'NO', 'TB',\n",
    "    'ARI', 'LAR', 'SF', 'SEA'\n",
    "]"
   ]
  },
  {
   "cell_type": "code",
   "execution_count": 23,
   "id": "a641afd9-aa03-40ad-8776-3bb185f6cd03",
   "metadata": {},
   "outputs": [],
   "source": [
    "# Creating the dictionary\n",
    "team_abbrev = dict(zip(nfl_teams, team_abbreviations))"
   ]
  },
  {
   "cell_type": "code",
   "execution_count": 24,
   "id": "f717cda2-e52d-45c5-86a8-a8cc296d4c94",
   "metadata": {},
   "outputs": [
    {
     "data": {
      "text/plain": [
       "{'Bills': 'BUF',\n",
       " 'Dolphins': 'MIA',\n",
       " 'Patriots': 'NE',\n",
       " 'Jets': 'NYJ',\n",
       " 'Bengals': 'CIN',\n",
       " 'Browns': 'CLE',\n",
       " 'Ravens': 'BAL',\n",
       " 'Steelers': 'PIT',\n",
       " 'Texans': 'HOU',\n",
       " 'Colts': 'IND',\n",
       " 'Jaguars': 'JAX',\n",
       " 'Titans': 'TEN',\n",
       " 'Broncos': 'DEN',\n",
       " 'Chiefs': 'KC',\n",
       " 'Raiders': 'LV',\n",
       " 'Chargers': 'LAC',\n",
       " 'Cowboys': 'DAL',\n",
       " 'Giants': 'NYG',\n",
       " 'Eagles': 'PHI',\n",
       " 'Commanders': 'WAS',\n",
       " 'Bears': 'CHI',\n",
       " 'Lions': 'DET',\n",
       " 'Packers': 'GB',\n",
       " 'Vikings': 'MIN',\n",
       " 'Falcons': 'ATL',\n",
       " 'Panthers': 'CAR',\n",
       " 'Saints': 'NO',\n",
       " 'Buccaneers': 'TB',\n",
       " 'Cardinals': 'ARI',\n",
       " 'Rams': 'LAR',\n",
       " '49ers': 'SF',\n",
       " 'Seahawks': 'SEA'}"
      ]
     },
     "execution_count": 24,
     "metadata": {},
     "output_type": "execute_result"
    }
   ],
   "source": [
    "team_abbrev"
   ]
  },
  {
   "cell_type": "code",
   "execution_count": 25,
   "id": "ab1cc3d6-fdd2-4185-b70e-6413fdba6fb6",
   "metadata": {},
   "outputs": [],
   "source": [
    "# Function to convert team names to abbreviations, leaving other values unchanged\n",
    "def convert_team_names(opponent):\n",
    "    return team_abbrev.get(opponent, opponent)"
   ]
  },
  {
   "cell_type": "code",
   "execution_count": null,
   "id": "6b26bd05-09a7-4d52-bb6e-8fd4eaa01675",
   "metadata": {},
   "outputs": [],
   "source": []
  },
  {
   "cell_type": "code",
   "execution_count": 26,
   "id": "4d1b0d61-a327-4ae6-a11e-8273f54a0789",
   "metadata": {},
   "outputs": [],
   "source": [
    "fd_def = fd_df[fd_df['Position'] == 'D']"
   ]
  },
  {
   "cell_type": "markdown",
   "id": "70747b7b-cc62-4cf0-89db-7a1873dbb538",
   "metadata": {},
   "source": [
    "# Name matching\n",
    "Name matching will be a chore. Let's start with defense, where DK uses just team name while FD uses city and name. We'll change it to just names in FD.<br>\n",
    "\n",
    "The following line of code takes the city names off defense for FD."
   ]
  },
  {
   "cell_type": "code",
   "execution_count": 27,
   "id": "1080ec32-383d-45e9-9812-2d870aa2437d",
   "metadata": {},
   "outputs": [],
   "source": [
    "fd_df['Name'] = np.where(fd_df['Position'] == 'D', fd_df['Last Name'], fd_df['Name'])"
   ]
  },
  {
   "cell_type": "code",
   "execution_count": 28,
   "id": "00bd5ded-7728-41e7-b407-b8d5d6fe3ebb",
   "metadata": {},
   "outputs": [],
   "source": [
    "dk_df['Name'] = dk_df['Name'].str.strip()"
   ]
  },
  {
   "cell_type": "markdown",
   "id": "68cca1fc-cb3a-4ab8-813b-f89ea62f13a5",
   "metadata": {},
   "source": [
    "# Merging columns to DK\n",
    "We'll merge Opponent, home_team (binary) and Status (injury) to the DK dataframe."
   ]
  },
  {
   "cell_type": "code",
   "execution_count": 29,
   "id": "c03fb2df-406f-4d5e-b486-62359035a921",
   "metadata": {},
   "outputs": [],
   "source": [
    "fd_df.rename(columns = {'Injury Indicator': 'Status', 'Id': 'ID'}, inplace = True)"
   ]
  },
  {
   "cell_type": "code",
   "execution_count": 30,
   "id": "c93b3a07-2a81-4fe7-84bb-a1cca747d4ea",
   "metadata": {},
   "outputs": [],
   "source": [
    "dk_df.rename(columns = {'TeamAbbrev': 'Team'}, inplace = True)"
   ]
  },
  {
   "cell_type": "code",
   "execution_count": 31,
   "id": "d3eb245a-7ab8-4c07-b3ea-617c6be9811d",
   "metadata": {},
   "outputs": [],
   "source": [
    "fd_merge = fd_df[['Name', 'Team', 'Opponent', 'home_team', 'Status']]"
   ]
  },
  {
   "cell_type": "code",
   "execution_count": 32,
   "id": "3ac95f69-2e99-4189-9610-2dcd85b142a4",
   "metadata": {},
   "outputs": [],
   "source": [
    "dk_df = pd.merge(dk_df, fd_merge, on = ['Name', 'Team'], how = 'left')"
   ]
  },
  {
   "cell_type": "markdown",
   "id": "6937574d-67e3-4e0a-acd9-d7f6e7ae3793",
   "metadata": {},
   "source": [
    "Now we still have to fill missing Opponent and home_team values in DK for the players not in the FD list."
   ]
  },
  {
   "cell_type": "code",
   "execution_count": 33,
   "id": "1fcbb957-32eb-4aab-88b7-707bcf26d50c",
   "metadata": {},
   "outputs": [],
   "source": [
    "team_dict = {team: (group['Opponent'].values[0], group['home_team'].values[0]) \n",
    "             for team, group in fd_df.groupby('Team')}"
   ]
  },
  {
   "cell_type": "code",
   "execution_count": 34,
   "id": "c48c2d6d-8041-48af-98fc-c2703f45de78",
   "metadata": {},
   "outputs": [],
   "source": [
    "dk_df['Opponent_filled'] = dk_df['Team'].map(lambda x: team_dict.get(x, (None, None))[0])\n",
    "dk_df['home_team_filled'] = dk_df['Team'].map(lambda x: team_dict.get(x, (None, None))[1])\n",
    "\n",
    "# Fill missing values in the original columns with the new columns\n",
    "dk_df['Opponent'].fillna(dk_df['Opponent_filled'], inplace=True)\n",
    "dk_df['home_team'].fillna(dk_df['home_team_filled'], inplace=True)\n",
    "\n",
    "# Drop the temporary filled columns\n",
    "dk_df.drop(columns=['Opponent_filled', 'home_team_filled'], inplace=True)"
   ]
  },
  {
   "cell_type": "code",
   "execution_count": 35,
   "id": "d996e2f6-74b9-43f6-9c4d-6b48214f1cc6",
   "metadata": {},
   "outputs": [],
   "source": [
    "dk_df = dk_df[['ID', 'Name', 'Position', 'Salary', 'Team', 'Opponent', 'home_team', 'Status']]\n",
    "fd_df = fd_df[['ID', 'Name', 'Position', 'Salary', 'Team', 'Opponent', 'home_team', 'Status']]"
   ]
  },
  {
   "cell_type": "code",
   "execution_count": 36,
   "id": "48aa8722-6a84-4e09-b1d2-d1684731fb46",
   "metadata": {},
   "outputs": [],
   "source": [
    "#Adding date and week indicator columns\n",
    "fd_df['Date'] = pd.to_datetime(date_string).strftime('%m-%d-%Y')\n",
    "dk_df['Date'] = pd.to_datetime(date_string).strftime('%m-%d-%Y')\n",
    "fd_df['Week'] = week\n",
    "dk_df['Week'] = week"
   ]
  },
  {
   "cell_type": "code",
   "execution_count": 37,
   "id": "2be419fc-74cb-4e88-9719-95a2ba37a75d",
   "metadata": {},
   "outputs": [
    {
     "data": {
      "text/html": [
       "<div>\n",
       "<style scoped>\n",
       "    .dataframe tbody tr th:only-of-type {\n",
       "        vertical-align: middle;\n",
       "    }\n",
       "\n",
       "    .dataframe tbody tr th {\n",
       "        vertical-align: top;\n",
       "    }\n",
       "\n",
       "    .dataframe thead th {\n",
       "        text-align: right;\n",
       "    }\n",
       "</style>\n",
       "<table border=\"1\" class=\"dataframe\">\n",
       "  <thead>\n",
       "    <tr style=\"text-align: right;\">\n",
       "      <th></th>\n",
       "      <th>ID</th>\n",
       "      <th>Name</th>\n",
       "      <th>Position</th>\n",
       "      <th>Salary</th>\n",
       "      <th>Team</th>\n",
       "      <th>Opponent</th>\n",
       "      <th>home_team</th>\n",
       "      <th>Status</th>\n",
       "      <th>Date</th>\n",
       "      <th>Week</th>\n",
       "    </tr>\n",
       "  </thead>\n",
       "  <tbody>\n",
       "    <tr>\n",
       "      <th>0</th>\n",
       "      <td>107027-86631</td>\n",
       "      <td>CeeDee Lamb</td>\n",
       "      <td>WR</td>\n",
       "      <td>9300</td>\n",
       "      <td>DAL</td>\n",
       "      <td>BAL</td>\n",
       "      <td>1</td>\n",
       "      <td>NaN</td>\n",
       "      <td>09-22-2024</td>\n",
       "      <td>3</td>\n",
       "    </tr>\n",
       "    <tr>\n",
       "      <th>1</th>\n",
       "      <td>107027-85671</td>\n",
       "      <td>Justin Jefferson</td>\n",
       "      <td>WR</td>\n",
       "      <td>9200</td>\n",
       "      <td>MIN</td>\n",
       "      <td>HOU</td>\n",
       "      <td>1</td>\n",
       "      <td>NaN</td>\n",
       "      <td>09-22-2024</td>\n",
       "      <td>3</td>\n",
       "    </tr>\n",
       "    <tr>\n",
       "      <th>2</th>\n",
       "      <td>107027-86997</td>\n",
       "      <td>Amon-Ra St. Brown</td>\n",
       "      <td>WR</td>\n",
       "      <td>9100</td>\n",
       "      <td>DET</td>\n",
       "      <td>ARI</td>\n",
       "      <td>0</td>\n",
       "      <td>NaN</td>\n",
       "      <td>09-22-2024</td>\n",
       "      <td>3</td>\n",
       "    </tr>\n",
       "    <tr>\n",
       "      <th>3</th>\n",
       "      <td>107027-53681</td>\n",
       "      <td>Tyreek Hill</td>\n",
       "      <td>WR</td>\n",
       "      <td>9000</td>\n",
       "      <td>MIA</td>\n",
       "      <td>SEA</td>\n",
       "      <td>0</td>\n",
       "      <td>NaN</td>\n",
       "      <td>09-22-2024</td>\n",
       "      <td>3</td>\n",
       "    </tr>\n",
       "    <tr>\n",
       "      <th>4</th>\n",
       "      <td>107027-63115</td>\n",
       "      <td>Lamar Jackson</td>\n",
       "      <td>QB</td>\n",
       "      <td>8800</td>\n",
       "      <td>BAL</td>\n",
       "      <td>DAL</td>\n",
       "      <td>0</td>\n",
       "      <td>NaN</td>\n",
       "      <td>09-22-2024</td>\n",
       "      <td>3</td>\n",
       "    </tr>\n",
       "  </tbody>\n",
       "</table>\n",
       "</div>"
      ],
      "text/plain": [
       "             ID               Name Position  Salary Team Opponent  home_team  \\\n",
       "0  107027-86631        CeeDee Lamb       WR    9300  DAL      BAL          1   \n",
       "1  107027-85671   Justin Jefferson       WR    9200  MIN      HOU          1   \n",
       "2  107027-86997  Amon-Ra St. Brown       WR    9100  DET      ARI          0   \n",
       "3  107027-53681        Tyreek Hill       WR    9000  MIA      SEA          0   \n",
       "4  107027-63115      Lamar Jackson       QB    8800  BAL      DAL          0   \n",
       "\n",
       "  Status        Date  Week  \n",
       "0    NaN  09-22-2024     3  \n",
       "1    NaN  09-22-2024     3  \n",
       "2    NaN  09-22-2024     3  \n",
       "3    NaN  09-22-2024     3  \n",
       "4    NaN  09-22-2024     3  "
      ]
     },
     "execution_count": 37,
     "metadata": {},
     "output_type": "execute_result"
    }
   ],
   "source": [
    "fd_df.head()"
   ]
  },
  {
   "cell_type": "code",
   "execution_count": 38,
   "id": "ffac7f43-a5cb-410a-9968-ad28645d8bb7",
   "metadata": {},
   "outputs": [
    {
     "data": {
      "text/html": [
       "<div>\n",
       "<style scoped>\n",
       "    .dataframe tbody tr th:only-of-type {\n",
       "        vertical-align: middle;\n",
       "    }\n",
       "\n",
       "    .dataframe tbody tr th {\n",
       "        vertical-align: top;\n",
       "    }\n",
       "\n",
       "    .dataframe thead th {\n",
       "        text-align: right;\n",
       "    }\n",
       "</style>\n",
       "<table border=\"1\" class=\"dataframe\">\n",
       "  <thead>\n",
       "    <tr style=\"text-align: right;\">\n",
       "      <th></th>\n",
       "      <th>ID</th>\n",
       "      <th>Name</th>\n",
       "      <th>Position</th>\n",
       "      <th>Salary</th>\n",
       "      <th>Team</th>\n",
       "      <th>Opponent</th>\n",
       "      <th>home_team</th>\n",
       "      <th>Status</th>\n",
       "      <th>Date</th>\n",
       "      <th>Week</th>\n",
       "    </tr>\n",
       "  </thead>\n",
       "  <tbody>\n",
       "    <tr>\n",
       "      <th>0</th>\n",
       "      <td>35940249</td>\n",
       "      <td>CeeDee Lamb</td>\n",
       "      <td>WR</td>\n",
       "      <td>8800</td>\n",
       "      <td>DAL</td>\n",
       "      <td>BAL</td>\n",
       "      <td>1.0</td>\n",
       "      <td>NaN</td>\n",
       "      <td>09-22-2024</td>\n",
       "      <td>3</td>\n",
       "    </tr>\n",
       "    <tr>\n",
       "      <th>1</th>\n",
       "      <td>35940251</td>\n",
       "      <td>Justin Jefferson</td>\n",
       "      <td>WR</td>\n",
       "      <td>8600</td>\n",
       "      <td>MIN</td>\n",
       "      <td>HOU</td>\n",
       "      <td>1.0</td>\n",
       "      <td>NaN</td>\n",
       "      <td>09-22-2024</td>\n",
       "      <td>3</td>\n",
       "    </tr>\n",
       "    <tr>\n",
       "      <th>2</th>\n",
       "      <td>35939981</td>\n",
       "      <td>Christian McCaffrey</td>\n",
       "      <td>RB</td>\n",
       "      <td>8500</td>\n",
       "      <td>SF</td>\n",
       "      <td>LAR</td>\n",
       "      <td>0.0</td>\n",
       "      <td>IR</td>\n",
       "      <td>09-22-2024</td>\n",
       "      <td>3</td>\n",
       "    </tr>\n",
       "    <tr>\n",
       "      <th>3</th>\n",
       "      <td>35940253</td>\n",
       "      <td>Tyreek Hill</td>\n",
       "      <td>WR</td>\n",
       "      <td>8400</td>\n",
       "      <td>MIA</td>\n",
       "      <td>SEA</td>\n",
       "      <td>0.0</td>\n",
       "      <td>NaN</td>\n",
       "      <td>09-22-2024</td>\n",
       "      <td>3</td>\n",
       "    </tr>\n",
       "    <tr>\n",
       "      <th>4</th>\n",
       "      <td>35940255</td>\n",
       "      <td>Amon-Ra St. Brown</td>\n",
       "      <td>WR</td>\n",
       "      <td>8200</td>\n",
       "      <td>DET</td>\n",
       "      <td>ARI</td>\n",
       "      <td>0.0</td>\n",
       "      <td>NaN</td>\n",
       "      <td>09-22-2024</td>\n",
       "      <td>3</td>\n",
       "    </tr>\n",
       "  </tbody>\n",
       "</table>\n",
       "</div>"
      ],
      "text/plain": [
       "         ID                 Name Position  Salary Team Opponent  home_team  \\\n",
       "0  35940249          CeeDee Lamb       WR    8800  DAL      BAL        1.0   \n",
       "1  35940251     Justin Jefferson       WR    8600  MIN      HOU        1.0   \n",
       "2  35939981  Christian McCaffrey       RB    8500   SF      LAR        0.0   \n",
       "3  35940253          Tyreek Hill       WR    8400  MIA      SEA        0.0   \n",
       "4  35940255    Amon-Ra St. Brown       WR    8200  DET      ARI        0.0   \n",
       "\n",
       "  Status        Date  Week  \n",
       "0    NaN  09-22-2024     3  \n",
       "1    NaN  09-22-2024     3  \n",
       "2     IR  09-22-2024     3  \n",
       "3    NaN  09-22-2024     3  \n",
       "4    NaN  09-22-2024     3  "
      ]
     },
     "execution_count": 38,
     "metadata": {},
     "output_type": "execute_result"
    }
   ],
   "source": [
    "dk_df.head()"
   ]
  },
  {
   "cell_type": "code",
   "execution_count": 39,
   "id": "3d7f2ce1-e9b1-4d79-b669-2646fe5c9438",
   "metadata": {},
   "outputs": [
    {
     "name": "stdout",
     "output_type": "stream",
     "text": [
      "<class 'pandas.core.frame.DataFrame'>\n",
      "RangeIndex: 587 entries, 0 to 586\n",
      "Data columns (total 10 columns):\n",
      " #   Column     Non-Null Count  Dtype  \n",
      "---  ------     --------------  -----  \n",
      " 0   ID         587 non-null    int64  \n",
      " 1   Name       587 non-null    object \n",
      " 2   Position   587 non-null    object \n",
      " 3   Salary     587 non-null    int64  \n",
      " 4   Team       587 non-null    object \n",
      " 5   Opponent   587 non-null    object \n",
      " 6   home_team  587 non-null    float64\n",
      " 7   Status     80 non-null     object \n",
      " 8   Date       587 non-null    object \n",
      " 9   Week       587 non-null    int64  \n",
      "dtypes: float64(1), int64(3), object(6)\n",
      "memory usage: 46.0+ KB\n"
     ]
    }
   ],
   "source": [
    "dk_df.info()"
   ]
  },
  {
   "cell_type": "code",
   "execution_count": 40,
   "id": "686ef594-e33d-41e5-8328-a7529e0910c2",
   "metadata": {},
   "outputs": [
    {
     "name": "stdout",
     "output_type": "stream",
     "text": [
      "<class 'pandas.core.frame.DataFrame'>\n",
      "RangeIndex: 880 entries, 0 to 879\n",
      "Data columns (total 10 columns):\n",
      " #   Column     Non-Null Count  Dtype \n",
      "---  ------     --------------  ----- \n",
      " 0   ID         880 non-null    object\n",
      " 1   Name       880 non-null    object\n",
      " 2   Position   880 non-null    object\n",
      " 3   Salary     880 non-null    int64 \n",
      " 4   Team       880 non-null    object\n",
      " 5   Opponent   880 non-null    object\n",
      " 6   home_team  880 non-null    int32 \n",
      " 7   Status     147 non-null    object\n",
      " 8   Date       880 non-null    object\n",
      " 9   Week       880 non-null    int64 \n",
      "dtypes: int32(1), int64(2), object(7)\n",
      "memory usage: 65.4+ KB\n"
     ]
    }
   ],
   "source": [
    "fd_df.info()"
   ]
  },
  {
   "cell_type": "code",
   "execution_count": 41,
   "id": "06267167-68e2-4fb7-88c9-6c56a22245cd",
   "metadata": {},
   "outputs": [
    {
     "data": {
      "text/html": [
       "<div>\n",
       "<style scoped>\n",
       "    .dataframe tbody tr th:only-of-type {\n",
       "        vertical-align: middle;\n",
       "    }\n",
       "\n",
       "    .dataframe tbody tr th {\n",
       "        vertical-align: top;\n",
       "    }\n",
       "\n",
       "    .dataframe thead th {\n",
       "        text-align: right;\n",
       "    }\n",
       "</style>\n",
       "<table border=\"1\" class=\"dataframe\">\n",
       "  <thead>\n",
       "    <tr style=\"text-align: right;\">\n",
       "      <th></th>\n",
       "      <th>ID</th>\n",
       "      <th>Name</th>\n",
       "      <th>Position</th>\n",
       "      <th>Salary</th>\n",
       "      <th>Team</th>\n",
       "      <th>Opponent</th>\n",
       "      <th>home_team</th>\n",
       "      <th>Status</th>\n",
       "      <th>Date</th>\n",
       "      <th>Week</th>\n",
       "    </tr>\n",
       "  </thead>\n",
       "  <tbody>\n",
       "  </tbody>\n",
       "</table>\n",
       "</div>"
      ],
      "text/plain": [
       "Empty DataFrame\n",
       "Columns: [ID, Name, Position, Salary, Team, Opponent, home_team, Status, Date, Week]\n",
       "Index: []"
      ]
     },
     "execution_count": 41,
     "metadata": {},
     "output_type": "execute_result"
    }
   ],
   "source": [
    "dk_df[dk_df[['Opponent', 'home_team']].isnull().any(axis = 1)]"
   ]
  },
  {
   "cell_type": "code",
   "execution_count": 42,
   "id": "da837974-0ff6-4e27-b295-bf46196cd44c",
   "metadata": {},
   "outputs": [],
   "source": [
    "#Drops all free agents since they can't be rostered\n",
    "dk_df = dk_df[dk_df['Team'] != 'FA']\n",
    "fd_df = fd_df[fd_df['Team'] != 'FA']"
   ]
  },
  {
   "cell_type": "code",
   "execution_count": 43,
   "id": "c243943a-f4bc-460c-bcbc-f66e7cc5d2a8",
   "metadata": {},
   "outputs": [],
   "source": [
    "#Filling Status missing values with Active, which we'll assume since there is no injury designation.\n",
    "dk_df['Status'].fillna('Active', inplace=True)\n",
    "fd_df['Status'].fillna('Active', inplace = True)"
   ]
  },
  {
   "cell_type": "code",
   "execution_count": 44,
   "id": "0ad48b44-0351-4125-ab76-5b31371f902c",
   "metadata": {},
   "outputs": [],
   "source": [
    "dk_df['Position'] = dk_df['Position'].replace({'DST':'D'})\n",
    "dk_df['home_team'] = dk_df['home_team'].astype('int')\n",
    "dk_df.reset_index(drop = True, inplace = True)"
   ]
  },
  {
   "cell_type": "code",
   "execution_count": 45,
   "id": "c2a1033b-9b54-4792-a3a0-e12541963ddd",
   "metadata": {},
   "outputs": [],
   "source": [
    "# Converting team names in opponent columns for FD and DK\n",
    "fd_df['Name'] = fd_df['Name'].apply(convert_team_names)"
   ]
  },
  {
   "cell_type": "code",
   "execution_count": 46,
   "id": "f260fb23-6807-45c8-9050-92e9547a15f1",
   "metadata": {},
   "outputs": [],
   "source": [
    "dk_df['Name'] = dk_df['Name'].apply(convert_team_names)"
   ]
  },
  {
   "cell_type": "code",
   "execution_count": 47,
   "id": "8cdca3b4-9a91-4165-9597-bccb4ad7cb7f",
   "metadata": {},
   "outputs": [],
   "source": [
    "fd_df.rename(columns = {'Name': 'name', 'Position': 'position', 'Salary': 'salary', 'Team': 'team', 'Opponent': 'opponent',\\\n",
    "                       'Status': 'status', 'Date': 'date', 'Week': 'week'}, inplace = True)"
   ]
  },
  {
   "cell_type": "code",
   "execution_count": 48,
   "id": "19c0a865-e657-4e7c-a4b9-8dd17b287991",
   "metadata": {},
   "outputs": [],
   "source": [
    "dk_df.rename(columns = {'Name': 'name', 'Position': 'position', 'Salary': 'salary', 'Team': 'team', 'Opponent': 'opponent',\\\n",
    "                       'Status': 'status', 'Date': 'date', 'Week': 'week'}, inplace = True)"
   ]
  },
  {
   "cell_type": "code",
   "execution_count": 49,
   "id": "1b1223db-3e7a-49da-a7aa-865d473563a2",
   "metadata": {},
   "outputs": [
    {
     "name": "stdout",
     "output_type": "stream",
     "text": [
      "<class 'pandas.core.frame.DataFrame'>\n",
      "RangeIndex: 880 entries, 0 to 879\n",
      "Data columns (total 10 columns):\n",
      " #   Column     Non-Null Count  Dtype \n",
      "---  ------     --------------  ----- \n",
      " 0   ID         880 non-null    object\n",
      " 1   name       880 non-null    object\n",
      " 2   position   880 non-null    object\n",
      " 3   salary     880 non-null    int64 \n",
      " 4   team       880 non-null    object\n",
      " 5   opponent   880 non-null    object\n",
      " 6   home_team  880 non-null    int32 \n",
      " 7   status     880 non-null    object\n",
      " 8   date       880 non-null    object\n",
      " 9   week       880 non-null    int64 \n",
      "dtypes: int32(1), int64(2), object(7)\n",
      "memory usage: 65.4+ KB\n"
     ]
    }
   ],
   "source": [
    "fd_df.info()"
   ]
  },
  {
   "cell_type": "code",
   "execution_count": 50,
   "id": "dd0fe80e-570b-49bd-a44e-552a88e6c693",
   "metadata": {},
   "outputs": [
    {
     "name": "stdout",
     "output_type": "stream",
     "text": [
      "<class 'pandas.core.frame.DataFrame'>\n",
      "RangeIndex: 587 entries, 0 to 586\n",
      "Data columns (total 10 columns):\n",
      " #   Column     Non-Null Count  Dtype \n",
      "---  ------     --------------  ----- \n",
      " 0   ID         587 non-null    int64 \n",
      " 1   name       587 non-null    object\n",
      " 2   position   587 non-null    object\n",
      " 3   salary     587 non-null    int64 \n",
      " 4   team       587 non-null    object\n",
      " 5   opponent   587 non-null    object\n",
      " 6   home_team  587 non-null    int32 \n",
      " 7   status     587 non-null    object\n",
      " 8   date       587 non-null    object\n",
      " 9   week       587 non-null    int64 \n",
      "dtypes: int32(1), int64(3), object(6)\n",
      "memory usage: 43.7+ KB\n"
     ]
    }
   ],
   "source": [
    "dk_df.info()"
   ]
  },
  {
   "cell_type": "code",
   "execution_count": 51,
   "id": "75f0d454-9868-4a86-b27a-3e32ff4dfa2b",
   "metadata": {},
   "outputs": [
    {
     "data": {
      "text/html": [
       "<div>\n",
       "<style scoped>\n",
       "    .dataframe tbody tr th:only-of-type {\n",
       "        vertical-align: middle;\n",
       "    }\n",
       "\n",
       "    .dataframe tbody tr th {\n",
       "        vertical-align: top;\n",
       "    }\n",
       "\n",
       "    .dataframe thead th {\n",
       "        text-align: right;\n",
       "    }\n",
       "</style>\n",
       "<table border=\"1\" class=\"dataframe\">\n",
       "  <thead>\n",
       "    <tr style=\"text-align: right;\">\n",
       "      <th></th>\n",
       "      <th>ID</th>\n",
       "      <th>name</th>\n",
       "      <th>position</th>\n",
       "      <th>salary</th>\n",
       "      <th>team</th>\n",
       "      <th>opponent</th>\n",
       "      <th>home_team</th>\n",
       "      <th>status</th>\n",
       "      <th>date</th>\n",
       "      <th>week</th>\n",
       "    </tr>\n",
       "  </thead>\n",
       "  <tbody>\n",
       "    <tr>\n",
       "      <th>0</th>\n",
       "      <td>107027-86631</td>\n",
       "      <td>CeeDee Lamb</td>\n",
       "      <td>WR</td>\n",
       "      <td>9300</td>\n",
       "      <td>DAL</td>\n",
       "      <td>BAL</td>\n",
       "      <td>1</td>\n",
       "      <td>Active</td>\n",
       "      <td>09-22-2024</td>\n",
       "      <td>3</td>\n",
       "    </tr>\n",
       "    <tr>\n",
       "      <th>1</th>\n",
       "      <td>107027-85671</td>\n",
       "      <td>Justin Jefferson</td>\n",
       "      <td>WR</td>\n",
       "      <td>9200</td>\n",
       "      <td>MIN</td>\n",
       "      <td>HOU</td>\n",
       "      <td>1</td>\n",
       "      <td>Active</td>\n",
       "      <td>09-22-2024</td>\n",
       "      <td>3</td>\n",
       "    </tr>\n",
       "    <tr>\n",
       "      <th>2</th>\n",
       "      <td>107027-86997</td>\n",
       "      <td>Amon-Ra St. Brown</td>\n",
       "      <td>WR</td>\n",
       "      <td>9100</td>\n",
       "      <td>DET</td>\n",
       "      <td>ARI</td>\n",
       "      <td>0</td>\n",
       "      <td>Active</td>\n",
       "      <td>09-22-2024</td>\n",
       "      <td>3</td>\n",
       "    </tr>\n",
       "    <tr>\n",
       "      <th>3</th>\n",
       "      <td>107027-53681</td>\n",
       "      <td>Tyreek Hill</td>\n",
       "      <td>WR</td>\n",
       "      <td>9000</td>\n",
       "      <td>MIA</td>\n",
       "      <td>SEA</td>\n",
       "      <td>0</td>\n",
       "      <td>Active</td>\n",
       "      <td>09-22-2024</td>\n",
       "      <td>3</td>\n",
       "    </tr>\n",
       "    <tr>\n",
       "      <th>4</th>\n",
       "      <td>107027-63115</td>\n",
       "      <td>Lamar Jackson</td>\n",
       "      <td>QB</td>\n",
       "      <td>8800</td>\n",
       "      <td>BAL</td>\n",
       "      <td>DAL</td>\n",
       "      <td>0</td>\n",
       "      <td>Active</td>\n",
       "      <td>09-22-2024</td>\n",
       "      <td>3</td>\n",
       "    </tr>\n",
       "  </tbody>\n",
       "</table>\n",
       "</div>"
      ],
      "text/plain": [
       "             ID               name position  salary team opponent  home_team  \\\n",
       "0  107027-86631        CeeDee Lamb       WR    9300  DAL      BAL          1   \n",
       "1  107027-85671   Justin Jefferson       WR    9200  MIN      HOU          1   \n",
       "2  107027-86997  Amon-Ra St. Brown       WR    9100  DET      ARI          0   \n",
       "3  107027-53681        Tyreek Hill       WR    9000  MIA      SEA          0   \n",
       "4  107027-63115      Lamar Jackson       QB    8800  BAL      DAL          0   \n",
       "\n",
       "   status        date  week  \n",
       "0  Active  09-22-2024     3  \n",
       "1  Active  09-22-2024     3  \n",
       "2  Active  09-22-2024     3  \n",
       "3  Active  09-22-2024     3  \n",
       "4  Active  09-22-2024     3  "
      ]
     },
     "execution_count": 51,
     "metadata": {},
     "output_type": "execute_result"
    }
   ],
   "source": [
    "fd_df.head()"
   ]
  },
  {
   "cell_type": "code",
   "execution_count": 52,
   "id": "4a607e5d-d176-406c-aac4-d4f35d59a662",
   "metadata": {},
   "outputs": [
    {
     "data": {
      "text/html": [
       "<div>\n",
       "<style scoped>\n",
       "    .dataframe tbody tr th:only-of-type {\n",
       "        vertical-align: middle;\n",
       "    }\n",
       "\n",
       "    .dataframe tbody tr th {\n",
       "        vertical-align: top;\n",
       "    }\n",
       "\n",
       "    .dataframe thead th {\n",
       "        text-align: right;\n",
       "    }\n",
       "</style>\n",
       "<table border=\"1\" class=\"dataframe\">\n",
       "  <thead>\n",
       "    <tr style=\"text-align: right;\">\n",
       "      <th></th>\n",
       "      <th>ID</th>\n",
       "      <th>name</th>\n",
       "      <th>position</th>\n",
       "      <th>salary</th>\n",
       "      <th>team</th>\n",
       "      <th>opponent</th>\n",
       "      <th>home_team</th>\n",
       "      <th>status</th>\n",
       "      <th>date</th>\n",
       "      <th>week</th>\n",
       "    </tr>\n",
       "  </thead>\n",
       "  <tbody>\n",
       "    <tr>\n",
       "      <th>0</th>\n",
       "      <td>35940249</td>\n",
       "      <td>CeeDee Lamb</td>\n",
       "      <td>WR</td>\n",
       "      <td>8800</td>\n",
       "      <td>DAL</td>\n",
       "      <td>BAL</td>\n",
       "      <td>1</td>\n",
       "      <td>Active</td>\n",
       "      <td>09-22-2024</td>\n",
       "      <td>3</td>\n",
       "    </tr>\n",
       "    <tr>\n",
       "      <th>1</th>\n",
       "      <td>35940251</td>\n",
       "      <td>Justin Jefferson</td>\n",
       "      <td>WR</td>\n",
       "      <td>8600</td>\n",
       "      <td>MIN</td>\n",
       "      <td>HOU</td>\n",
       "      <td>1</td>\n",
       "      <td>Active</td>\n",
       "      <td>09-22-2024</td>\n",
       "      <td>3</td>\n",
       "    </tr>\n",
       "    <tr>\n",
       "      <th>2</th>\n",
       "      <td>35939981</td>\n",
       "      <td>Christian McCaffrey</td>\n",
       "      <td>RB</td>\n",
       "      <td>8500</td>\n",
       "      <td>SF</td>\n",
       "      <td>LAR</td>\n",
       "      <td>0</td>\n",
       "      <td>IR</td>\n",
       "      <td>09-22-2024</td>\n",
       "      <td>3</td>\n",
       "    </tr>\n",
       "    <tr>\n",
       "      <th>3</th>\n",
       "      <td>35940253</td>\n",
       "      <td>Tyreek Hill</td>\n",
       "      <td>WR</td>\n",
       "      <td>8400</td>\n",
       "      <td>MIA</td>\n",
       "      <td>SEA</td>\n",
       "      <td>0</td>\n",
       "      <td>Active</td>\n",
       "      <td>09-22-2024</td>\n",
       "      <td>3</td>\n",
       "    </tr>\n",
       "    <tr>\n",
       "      <th>4</th>\n",
       "      <td>35940255</td>\n",
       "      <td>Amon-Ra St. Brown</td>\n",
       "      <td>WR</td>\n",
       "      <td>8200</td>\n",
       "      <td>DET</td>\n",
       "      <td>ARI</td>\n",
       "      <td>0</td>\n",
       "      <td>Active</td>\n",
       "      <td>09-22-2024</td>\n",
       "      <td>3</td>\n",
       "    </tr>\n",
       "  </tbody>\n",
       "</table>\n",
       "</div>"
      ],
      "text/plain": [
       "         ID                 name position  salary team opponent  home_team  \\\n",
       "0  35940249          CeeDee Lamb       WR    8800  DAL      BAL          1   \n",
       "1  35940251     Justin Jefferson       WR    8600  MIN      HOU          1   \n",
       "2  35939981  Christian McCaffrey       RB    8500   SF      LAR          0   \n",
       "3  35940253          Tyreek Hill       WR    8400  MIA      SEA          0   \n",
       "4  35940255    Amon-Ra St. Brown       WR    8200  DET      ARI          0   \n",
       "\n",
       "   status        date  week  \n",
       "0  Active  09-22-2024     3  \n",
       "1  Active  09-22-2024     3  \n",
       "2      IR  09-22-2024     3  \n",
       "3  Active  09-22-2024     3  \n",
       "4  Active  09-22-2024     3  "
      ]
     },
     "execution_count": 52,
     "metadata": {},
     "output_type": "execute_result"
    }
   ],
   "source": [
    "dk_df.head()"
   ]
  },
  {
   "cell_type": "code",
   "execution_count": 53,
   "id": "75cc5ff2-be67-41af-b005-ee29824f49b6",
   "metadata": {},
   "outputs": [
    {
     "data": {
      "text/html": [
       "<div>\n",
       "<style scoped>\n",
       "    .dataframe tbody tr th:only-of-type {\n",
       "        vertical-align: middle;\n",
       "    }\n",
       "\n",
       "    .dataframe tbody tr th {\n",
       "        vertical-align: top;\n",
       "    }\n",
       "\n",
       "    .dataframe thead th {\n",
       "        text-align: right;\n",
       "    }\n",
       "</style>\n",
       "<table border=\"1\" class=\"dataframe\">\n",
       "  <thead>\n",
       "    <tr style=\"text-align: right;\">\n",
       "      <th></th>\n",
       "      <th>ID</th>\n",
       "      <th>name</th>\n",
       "      <th>position</th>\n",
       "      <th>salary</th>\n",
       "      <th>team</th>\n",
       "      <th>opponent</th>\n",
       "      <th>home_team</th>\n",
       "      <th>status</th>\n",
       "      <th>date</th>\n",
       "      <th>week</th>\n",
       "    </tr>\n",
       "  </thead>\n",
       "  <tbody>\n",
       "    <tr>\n",
       "      <th>582</th>\n",
       "      <td>35940805</td>\n",
       "      <td>Miller Forristall</td>\n",
       "      <td>TE</td>\n",
       "      <td>2500</td>\n",
       "      <td>LAR</td>\n",
       "      <td>SF</td>\n",
       "      <td>1</td>\n",
       "      <td>Active</td>\n",
       "      <td>09-22-2024</td>\n",
       "      <td>3</td>\n",
       "    </tr>\n",
       "    <tr>\n",
       "      <th>583</th>\n",
       "      <td>35940973</td>\n",
       "      <td>MIN</td>\n",
       "      <td>D</td>\n",
       "      <td>2400</td>\n",
       "      <td>MIN</td>\n",
       "      <td>HOU</td>\n",
       "      <td>1</td>\n",
       "      <td>Active</td>\n",
       "      <td>09-22-2024</td>\n",
       "      <td>3</td>\n",
       "    </tr>\n",
       "    <tr>\n",
       "      <th>584</th>\n",
       "      <td>35940974</td>\n",
       "      <td>CAR</td>\n",
       "      <td>D</td>\n",
       "      <td>2400</td>\n",
       "      <td>CAR</td>\n",
       "      <td>LV</td>\n",
       "      <td>0</td>\n",
       "      <td>Active</td>\n",
       "      <td>09-22-2024</td>\n",
       "      <td>3</td>\n",
       "    </tr>\n",
       "    <tr>\n",
       "      <th>585</th>\n",
       "      <td>35940975</td>\n",
       "      <td>ARI</td>\n",
       "      <td>D</td>\n",
       "      <td>2300</td>\n",
       "      <td>ARI</td>\n",
       "      <td>DET</td>\n",
       "      <td>1</td>\n",
       "      <td>Active</td>\n",
       "      <td>09-22-2024</td>\n",
       "      <td>3</td>\n",
       "    </tr>\n",
       "    <tr>\n",
       "      <th>586</th>\n",
       "      <td>35940976</td>\n",
       "      <td>LAR</td>\n",
       "      <td>D</td>\n",
       "      <td>2300</td>\n",
       "      <td>LAR</td>\n",
       "      <td>SF</td>\n",
       "      <td>1</td>\n",
       "      <td>Active</td>\n",
       "      <td>09-22-2024</td>\n",
       "      <td>3</td>\n",
       "    </tr>\n",
       "  </tbody>\n",
       "</table>\n",
       "</div>"
      ],
      "text/plain": [
       "           ID               name position  salary team opponent  home_team  \\\n",
       "582  35940805  Miller Forristall       TE    2500  LAR       SF          1   \n",
       "583  35940973                MIN        D    2400  MIN      HOU          1   \n",
       "584  35940974                CAR        D    2400  CAR       LV          0   \n",
       "585  35940975                ARI        D    2300  ARI      DET          1   \n",
       "586  35940976                LAR        D    2300  LAR       SF          1   \n",
       "\n",
       "     status        date  week  \n",
       "582  Active  09-22-2024     3  \n",
       "583  Active  09-22-2024     3  \n",
       "584  Active  09-22-2024     3  \n",
       "585  Active  09-22-2024     3  \n",
       "586  Active  09-22-2024     3  "
      ]
     },
     "execution_count": 53,
     "metadata": {},
     "output_type": "execute_result"
    }
   ],
   "source": [
    "dk_df.tail()"
   ]
  },
  {
   "cell_type": "code",
   "execution_count": 54,
   "id": "8ea72fb1-2eb5-42c4-af18-fbe353e3678b",
   "metadata": {},
   "outputs": [],
   "source": [
    "fd_names = set(list(fd_df['name']))"
   ]
  },
  {
   "cell_type": "code",
   "execution_count": 55,
   "id": "7516b22a-6660-4aa8-afda-e15c3b365918",
   "metadata": {},
   "outputs": [],
   "source": [
    "dk_names = set(list(dk_df['name']))"
   ]
  },
  {
   "cell_type": "code",
   "execution_count": 56,
   "id": "136a0f24-c1d9-4189-a0e8-5a00b8216d26",
   "metadata": {},
   "outputs": [],
   "source": [
    "fd_not_in_dk = list(fd_names.difference(dk_names))"
   ]
  },
  {
   "cell_type": "code",
   "execution_count": 57,
   "id": "e49b8987-ff76-4708-a53b-e2585337dc00",
   "metadata": {},
   "outputs": [],
   "source": [
    "dk_not_in_fd = list(dk_names.difference(fd_names))"
   ]
  },
  {
   "cell_type": "code",
   "execution_count": 58,
   "id": "9ca5534d-6ec2-484f-9b0d-047669b3880a",
   "metadata": {},
   "outputs": [
    {
     "data": {
      "text/plain": [
       "{'Evan Deckers', 'Sione Vaki', 'Zach Wood'}"
      ]
     },
     "execution_count": 58,
     "metadata": {},
     "output_type": "execute_result"
    }
   ],
   "source": [
    "dk_names.difference(fd_names)"
   ]
  },
  {
   "cell_type": "code",
   "execution_count": 59,
   "id": "affc298f-a47c-4047-99f7-f2649f2fa9f8",
   "metadata": {},
   "outputs": [],
   "source": [
    "#It seems as though FanDuel just naturally lists more available players than DraftKings.\n",
    "#FanDuel now includes Sunday night games in its main slate, but that alone doesn't account\n",
    "#for all the names in the FanDuel list that aren't in the DraftKings list.\n",
    "#What really matters is whether these names for both sites match up \n",
    "#with the way the names are written in the nfl_data_py package"
   ]
  },
  {
   "cell_type": "markdown",
   "id": "8e24434a-ffa3-4ace-887a-07f150a983fc",
   "metadata": {},
   "source": [
    "# Adding to database\n",
    "This will put the data we've just wrangled into our database, and it will be joined with the features used to make predictions."
   ]
  },
  {
   "cell_type": "code",
   "execution_count": 60,
   "id": "f29f994d-5a95-49eb-862d-8dc8ac39fcc5",
   "metadata": {},
   "outputs": [
    {
     "name": "stdout",
     "output_type": "stream",
     "text": [
      "Data written to table fd_table_3_24 in SQLite database nfl_dfs.db\n",
      "Data written to table dk_table_3_24 in SQLite database nfl_dfs.db\n"
     ]
    }
   ],
   "source": [
    "import sqlite3\n",
    "\n",
    "# Establish the connection to the database\n",
    "conn = sqlite3.connect('nfl_dfs.db')\n",
    "\n",
    "# Define the table names for FanDuel and DraftKings\n",
    "fd_table_name = 'fd_table_' + str(week) + '_24'\n",
    "dk_table_name = 'dk_table_' + str(week) + '_24'\n",
    "\n",
    "# Specify data types for the FanDuel dataframe\n",
    "fd_dtype = {\n",
    "    'ID': 'TEXT',\n",
    "    'Name': 'TEXT',\n",
    "    'Position': 'TEXT',\n",
    "    'Salary': 'INTEGER',\n",
    "    'Team': 'TEXT',\n",
    "    'Opponent': 'TEXT',\n",
    "    'home_team': 'INTEGER',\n",
    "    'Status': 'TEXT',\n",
    "    'Date': 'TEXT',\n",
    "    'Week': 'INTEGER'\n",
    "}\n",
    "\n",
    "# Write the FanDuel dataframe to the SQLite table\n",
    "fd_df.to_sql(fd_table_name, conn, if_exists='replace', index=False, dtype=fd_dtype)\n",
    "\n",
    "# Confirm that the FanDuel data has been written\n",
    "print(f\"Data written to table {fd_table_name} in SQLite database nfl_dfs.db\")\n",
    "\n",
    "# Specify data types for the DraftKings dataframe\n",
    "dk_dtype = {\n",
    "    'ID': 'INTEGER',\n",
    "    'Name': 'TEXT',\n",
    "    'Position': 'TEXT',\n",
    "    'Salary': 'INTEGER',\n",
    "    'Team': 'TEXT',\n",
    "    'Opponent': 'TEXT',\n",
    "    'home_team': 'INTEGER',\n",
    "    'Status': 'TEXT',\n",
    "    'Date': 'TEXT',\n",
    "    'Week': 'INTEGER'\n",
    "}\n",
    "\n",
    "# Write the DraftKings dataframe to the SQLite table\n",
    "dk_df.to_sql(dk_table_name, conn, if_exists='replace', index=False, dtype=dk_dtype)\n",
    "\n",
    "# Confirm that the DraftKings data has been written\n",
    "print(f\"Data written to table {dk_table_name} in SQLite database nfl_dfs.db\")\n",
    "\n",
    "# Close the connection\n",
    "conn.close()\n"
   ]
  },
  {
   "cell_type": "code",
   "execution_count": null,
   "id": "825c38b5-81c9-49cd-8350-bef4920ff6d1",
   "metadata": {},
   "outputs": [],
   "source": []
  },
  {
   "cell_type": "code",
   "execution_count": null,
   "id": "4818bb9e-dfee-48ce-a6ed-07bddcb8ef06",
   "metadata": {},
   "outputs": [],
   "source": []
  },
  {
   "cell_type": "code",
   "execution_count": 61,
   "id": "ed8034e3-a764-4de4-8c05-84d4d73b9eb1",
   "metadata": {},
   "outputs": [],
   "source": [
    "# fd_df.to_csv('FD_' + date_string + '_prep.csv', index = False)\n",
    "# dk_df.to_csv('DK_' + date_string + '_prep.csv', index = False)"
   ]
  },
  {
   "cell_type": "code",
   "execution_count": null,
   "id": "8cdd74c3-5a56-490e-8077-c53aa2080a72",
   "metadata": {},
   "outputs": [],
   "source": []
  }
 ],
 "metadata": {
  "kernelspec": {
   "display_name": "Python (nfl_dfs_model)",
   "language": "python",
   "name": "nfl_dfs_model"
  },
  "language_info": {
   "codemirror_mode": {
    "name": "ipython",
    "version": 3
   },
   "file_extension": ".py",
   "mimetype": "text/x-python",
   "name": "python",
   "nbconvert_exporter": "python",
   "pygments_lexer": "ipython3",
   "version": "3.8.19"
  }
 },
 "nbformat": 4,
 "nbformat_minor": 5
}
