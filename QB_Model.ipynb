{
 "cells": [
  {
   "cell_type": "markdown",
   "id": "e581f059-438b-4c7a-8e21-047e990e1e03",
   "metadata": {},
   "source": [
    "# Quarterback model\n",
    "We've already created our dataset, so hopefully we can bring it in and it can be a relatively smooth process that can be a guide for out TE, WR and RB models."
   ]
  },
  {
   "cell_type": "code",
   "execution_count": 296,
   "id": "28909481-8321-40f2-b571-08ed1fde1783",
   "metadata": {},
   "outputs": [],
   "source": [
    "import numpy as np\n",
    "import pandas as pd\n",
    "import matplotlib.pyplot as plt\n",
    "import nfl_data_py as nfl\n",
    "import sqlite3"
   ]
  },
  {
   "cell_type": "code",
   "execution_count": 297,
   "id": "1135c428-1816-4c01-b711-b52142ab9fbd",
   "metadata": {},
   "outputs": [],
   "source": [
    "from collections import defaultdict"
   ]
  },
  {
   "cell_type": "markdown",
   "id": "5f159a75-27b0-4c25-9530-4bcd603273e9",
   "metadata": {},
   "source": [
    "Let's set up our error dictionaries to keep track of the models. We'll need separate models for FanDuel and DraftKings since the scoring is a little different."
   ]
  },
  {
   "cell_type": "code",
   "execution_count": 298,
   "id": "19559f53-3c9d-4afa-aa3b-8ac4cc796162",
   "metadata": {},
   "outputs": [],
   "source": [
    "error_dict_FD = defaultdict(float)\n",
    "error_dict_DK = defaultdict(float)"
   ]
  },
  {
   "cell_type": "markdown",
   "id": "84c373da-2250-4a22-8201-fbc38732384a",
   "metadata": {},
   "source": [
    "Let's bring in our dataset from the database."
   ]
  },
  {
   "cell_type": "code",
   "execution_count": 299,
   "id": "c47ef344-80fe-4434-8988-caa04378f8c3",
   "metadata": {},
   "outputs": [],
   "source": [
    "# # Connect to the SQLite database\n",
    "# conn = sqlite3.connect('nfl_dfs.db')\n",
    "\n",
    "# # Query specific columns from the table\n",
    "# query = \"SELECT * FROM qb_dataset\"\n",
    "# quarterback_df = pd.read_sql_query(query, conn)\n",
    "\n",
    "# # Close the connection\n",
    "# conn.close()"
   ]
  },
  {
   "cell_type": "code",
   "execution_count": 300,
   "id": "93f37886-bff4-4c8f-8553-78cbe4ba0e0e",
   "metadata": {},
   "outputs": [
    {
     "data": {
      "text/html": [
       "<div>\n",
       "<style scoped>\n",
       "    .dataframe tbody tr th:only-of-type {\n",
       "        vertical-align: middle;\n",
       "    }\n",
       "\n",
       "    .dataframe tbody tr th {\n",
       "        vertical-align: top;\n",
       "    }\n",
       "\n",
       "    .dataframe thead th {\n",
       "        text-align: right;\n",
       "    }\n",
       "</style>\n",
       "<table border=\"1\" class=\"dataframe\">\n",
       "  <thead>\n",
       "    <tr style=\"text-align: right;\">\n",
       "      <th></th>\n",
       "      <th>season</th>\n",
       "      <th>week</th>\n",
       "      <th>player_id</th>\n",
       "      <th>player_display_name</th>\n",
       "      <th>team</th>\n",
       "      <th>FD_Pts</th>\n",
       "      <th>DK_Pts</th>\n",
       "      <th>FD_Pts_DvP</th>\n",
       "      <th>DK_Pts_DvP</th>\n",
       "      <th>QB_role</th>\n",
       "      <th>...</th>\n",
       "      <th>wind</th>\n",
       "      <th>div_game</th>\n",
       "      <th>opponent</th>\n",
       "      <th>spread_line</th>\n",
       "      <th>total_line</th>\n",
       "      <th>outdoors</th>\n",
       "      <th>grass</th>\n",
       "      <th>home_team</th>\n",
       "      <th>pred_total</th>\n",
       "      <th>opp_total</th>\n",
       "    </tr>\n",
       "  </thead>\n",
       "  <tbody>\n",
       "    <tr>\n",
       "      <th>0</th>\n",
       "      <td>2006</td>\n",
       "      <td>6</td>\n",
       "      <td>00-0000865</td>\n",
       "      <td>Charlie Batch</td>\n",
       "      <td>PIT</td>\n",
       "      <td>0.04</td>\n",
       "      <td>0.04</td>\n",
       "      <td>9.8575</td>\n",
       "      <td>10.4825</td>\n",
       "      <td>2.0</td>\n",
       "      <td>...</td>\n",
       "      <td>6.0</td>\n",
       "      <td>0.0</td>\n",
       "      <td>KC</td>\n",
       "      <td>6.5</td>\n",
       "      <td>37.0</td>\n",
       "      <td>1</td>\n",
       "      <td>0</td>\n",
       "      <td>1</td>\n",
       "      <td>21.75</td>\n",
       "      <td>15.25</td>\n",
       "    </tr>\n",
       "    <tr>\n",
       "      <th>1</th>\n",
       "      <td>2006</td>\n",
       "      <td>7</td>\n",
       "      <td>00-0000865</td>\n",
       "      <td>Charlie Batch</td>\n",
       "      <td>PIT</td>\n",
       "      <td>15.80</td>\n",
       "      <td>15.80</td>\n",
       "      <td>8.8600</td>\n",
       "      <td>9.6100</td>\n",
       "      <td>2.0</td>\n",
       "      <td>...</td>\n",
       "      <td>0.0</td>\n",
       "      <td>0.0</td>\n",
       "      <td>ATL</td>\n",
       "      <td>2.5</td>\n",
       "      <td>39.5</td>\n",
       "      <td>0</td>\n",
       "      <td>0</td>\n",
       "      <td>0</td>\n",
       "      <td>21.00</td>\n",
       "      <td>18.50</td>\n",
       "    </tr>\n",
       "    <tr>\n",
       "      <th>2</th>\n",
       "      <td>2006</td>\n",
       "      <td>12</td>\n",
       "      <td>00-0000865</td>\n",
       "      <td>Charlie Batch</td>\n",
       "      <td>PIT</td>\n",
       "      <td>0.40</td>\n",
       "      <td>0.40</td>\n",
       "      <td>15.7625</td>\n",
       "      <td>16.6375</td>\n",
       "      <td>2.0</td>\n",
       "      <td>...</td>\n",
       "      <td>4.0</td>\n",
       "      <td>1.0</td>\n",
       "      <td>BAL</td>\n",
       "      <td>-3.0</td>\n",
       "      <td>40.5</td>\n",
       "      <td>1</td>\n",
       "      <td>0</td>\n",
       "      <td>0</td>\n",
       "      <td>18.75</td>\n",
       "      <td>21.75</td>\n",
       "    </tr>\n",
       "    <tr>\n",
       "      <th>3</th>\n",
       "      <td>2006</td>\n",
       "      <td>14</td>\n",
       "      <td>00-0000865</td>\n",
       "      <td>Charlie Batch</td>\n",
       "      <td>PIT</td>\n",
       "      <td>-0.20</td>\n",
       "      <td>-0.20</td>\n",
       "      <td>14.6325</td>\n",
       "      <td>14.8825</td>\n",
       "      <td>2.0</td>\n",
       "      <td>...</td>\n",
       "      <td>12.0</td>\n",
       "      <td>1.0</td>\n",
       "      <td>CLE</td>\n",
       "      <td>7.0</td>\n",
       "      <td>34.0</td>\n",
       "      <td>1</td>\n",
       "      <td>0</td>\n",
       "      <td>1</td>\n",
       "      <td>20.50</td>\n",
       "      <td>13.50</td>\n",
       "    </tr>\n",
       "    <tr>\n",
       "      <th>4</th>\n",
       "      <td>2006</td>\n",
       "      <td>15</td>\n",
       "      <td>00-0000865</td>\n",
       "      <td>Charlie Batch</td>\n",
       "      <td>PIT</td>\n",
       "      <td>0.22</td>\n",
       "      <td>0.22</td>\n",
       "      <td>16.1475</td>\n",
       "      <td>16.6475</td>\n",
       "      <td>2.0</td>\n",
       "      <td>...</td>\n",
       "      <td>5.0</td>\n",
       "      <td>0.0</td>\n",
       "      <td>CAR</td>\n",
       "      <td>3.0</td>\n",
       "      <td>39.0</td>\n",
       "      <td>1</td>\n",
       "      <td>1</td>\n",
       "      <td>0</td>\n",
       "      <td>21.00</td>\n",
       "      <td>18.00</td>\n",
       "    </tr>\n",
       "  </tbody>\n",
       "</table>\n",
       "<p>5 rows × 36 columns</p>\n",
       "</div>"
      ],
      "text/plain": [
       "   season  week   player_id player_display_name team  FD_Pts  DK_Pts  \\\n",
       "0    2006     6  00-0000865       Charlie Batch  PIT    0.04    0.04   \n",
       "1    2006     7  00-0000865       Charlie Batch  PIT   15.80   15.80   \n",
       "2    2006    12  00-0000865       Charlie Batch  PIT    0.40    0.40   \n",
       "3    2006    14  00-0000865       Charlie Batch  PIT   -0.20   -0.20   \n",
       "4    2006    15  00-0000865       Charlie Batch  PIT    0.22    0.22   \n",
       "\n",
       "   FD_Pts_DvP  DK_Pts_DvP  QB_role  ...  wind  div_game  opponent  \\\n",
       "0      9.8575     10.4825      2.0  ...   6.0       0.0        KC   \n",
       "1      8.8600      9.6100      2.0  ...   0.0       0.0       ATL   \n",
       "2     15.7625     16.6375      2.0  ...   4.0       1.0       BAL   \n",
       "3     14.6325     14.8825      2.0  ...  12.0       1.0       CLE   \n",
       "4     16.1475     16.6475      2.0  ...   5.0       0.0       CAR   \n",
       "\n",
       "   spread_line  total_line  outdoors  grass  home_team  pred_total  opp_total  \n",
       "0          6.5        37.0         1      0          1       21.75      15.25  \n",
       "1          2.5        39.5         0      0          0       21.00      18.50  \n",
       "2         -3.0        40.5         1      0          0       18.75      21.75  \n",
       "3          7.0        34.0         1      0          1       20.50      13.50  \n",
       "4          3.0        39.0         1      1          0       21.00      18.00  \n",
       "\n",
       "[5 rows x 36 columns]"
      ]
     },
     "execution_count": 300,
     "metadata": {},
     "output_type": "execute_result"
    }
   ],
   "source": [
    "quarterback_df.head()"
   ]
  },
  {
   "cell_type": "code",
   "execution_count": 301,
   "id": "8c4689cc-ea22-4c0b-b719-40cb3fa26367",
   "metadata": {},
   "outputs": [
    {
     "data": {
      "text/html": [
       "<div>\n",
       "<style scoped>\n",
       "    .dataframe tbody tr th:only-of-type {\n",
       "        vertical-align: middle;\n",
       "    }\n",
       "\n",
       "    .dataframe tbody tr th {\n",
       "        vertical-align: top;\n",
       "    }\n",
       "\n",
       "    .dataframe thead th {\n",
       "        text-align: right;\n",
       "    }\n",
       "</style>\n",
       "<table border=\"1\" class=\"dataframe\">\n",
       "  <thead>\n",
       "    <tr style=\"text-align: right;\">\n",
       "      <th></th>\n",
       "      <th>season</th>\n",
       "      <th>week</th>\n",
       "      <th>player_id</th>\n",
       "      <th>player_display_name</th>\n",
       "      <th>team</th>\n",
       "      <th>FD_Pts</th>\n",
       "      <th>DK_Pts</th>\n",
       "      <th>FD_Pts_DvP</th>\n",
       "      <th>DK_Pts_DvP</th>\n",
       "      <th>QB_role</th>\n",
       "      <th>...</th>\n",
       "      <th>wind</th>\n",
       "      <th>div_game</th>\n",
       "      <th>opponent</th>\n",
       "      <th>spread_line</th>\n",
       "      <th>total_line</th>\n",
       "      <th>outdoors</th>\n",
       "      <th>grass</th>\n",
       "      <th>home_team</th>\n",
       "      <th>pred_total</th>\n",
       "      <th>opp_total</th>\n",
       "    </tr>\n",
       "  </thead>\n",
       "  <tbody>\n",
       "    <tr>\n",
       "      <th>11219</th>\n",
       "      <td>2023</td>\n",
       "      <td>19</td>\n",
       "      <td>00-0039163</td>\n",
       "      <td>C.J. Stroud</td>\n",
       "      <td>HOU</td>\n",
       "      <td>23.06</td>\n",
       "      <td>23.06</td>\n",
       "      <td>16.1000</td>\n",
       "      <td>16.2250</td>\n",
       "      <td>1.0</td>\n",
       "      <td>...</td>\n",
       "      <td>0.000000</td>\n",
       "      <td>0.0</td>\n",
       "      <td>CLE</td>\n",
       "      <td>-2.5</td>\n",
       "      <td>45.0</td>\n",
       "      <td>0</td>\n",
       "      <td>0</td>\n",
       "      <td>1</td>\n",
       "      <td>21.25</td>\n",
       "      <td>23.75</td>\n",
       "    </tr>\n",
       "    <tr>\n",
       "      <th>11220</th>\n",
       "      <td>2023</td>\n",
       "      <td>20</td>\n",
       "      <td>00-0039163</td>\n",
       "      <td>C.J. Stroud</td>\n",
       "      <td>HOU</td>\n",
       "      <td>7.90</td>\n",
       "      <td>7.90</td>\n",
       "      <td>15.7225</td>\n",
       "      <td>16.3475</td>\n",
       "      <td>1.0</td>\n",
       "      <td>...</td>\n",
       "      <td>16.000000</td>\n",
       "      <td>0.0</td>\n",
       "      <td>BAL</td>\n",
       "      <td>-10.0</td>\n",
       "      <td>44.0</td>\n",
       "      <td>1</td>\n",
       "      <td>1</td>\n",
       "      <td>0</td>\n",
       "      <td>17.00</td>\n",
       "      <td>27.00</td>\n",
       "    </tr>\n",
       "    <tr>\n",
       "      <th>11221</th>\n",
       "      <td>2023</td>\n",
       "      <td>2</td>\n",
       "      <td>00-0039164</td>\n",
       "      <td>Anthony Richardson</td>\n",
       "      <td>IND</td>\n",
       "      <td>17.74</td>\n",
       "      <td>17.74</td>\n",
       "      <td>13.9200</td>\n",
       "      <td>14.5450</td>\n",
       "      <td>2.0</td>\n",
       "      <td>...</td>\n",
       "      <td>8.438166</td>\n",
       "      <td>1.0</td>\n",
       "      <td>HOU</td>\n",
       "      <td>1.0</td>\n",
       "      <td>40.0</td>\n",
       "      <td>1</td>\n",
       "      <td>0</td>\n",
       "      <td>0</td>\n",
       "      <td>20.50</td>\n",
       "      <td>19.50</td>\n",
       "    </tr>\n",
       "    <tr>\n",
       "      <th>11222</th>\n",
       "      <td>2023</td>\n",
       "      <td>4</td>\n",
       "      <td>00-0039164</td>\n",
       "      <td>Anthony Richardson</td>\n",
       "      <td>IND</td>\n",
       "      <td>29.60</td>\n",
       "      <td>30.60</td>\n",
       "      <td>11.8575</td>\n",
       "      <td>11.8575</td>\n",
       "      <td>1.0</td>\n",
       "      <td>...</td>\n",
       "      <td>8.438166</td>\n",
       "      <td>0.0</td>\n",
       "      <td>LA</td>\n",
       "      <td>-1.0</td>\n",
       "      <td>44.5</td>\n",
       "      <td>1</td>\n",
       "      <td>0</td>\n",
       "      <td>1</td>\n",
       "      <td>21.75</td>\n",
       "      <td>22.75</td>\n",
       "    </tr>\n",
       "    <tr>\n",
       "      <th>11223</th>\n",
       "      <td>2023</td>\n",
       "      <td>5</td>\n",
       "      <td>00-0039164</td>\n",
       "      <td>Anthony Richardson</td>\n",
       "      <td>IND</td>\n",
       "      <td>4.42</td>\n",
       "      <td>4.42</td>\n",
       "      <td>14.3700</td>\n",
       "      <td>15.9325</td>\n",
       "      <td>2.0</td>\n",
       "      <td>...</td>\n",
       "      <td>8.438166</td>\n",
       "      <td>1.0</td>\n",
       "      <td>TEN</td>\n",
       "      <td>-2.5</td>\n",
       "      <td>43.5</td>\n",
       "      <td>1</td>\n",
       "      <td>0</td>\n",
       "      <td>1</td>\n",
       "      <td>20.50</td>\n",
       "      <td>23.00</td>\n",
       "    </tr>\n",
       "  </tbody>\n",
       "</table>\n",
       "<p>5 rows × 36 columns</p>\n",
       "</div>"
      ],
      "text/plain": [
       "       season  week   player_id player_display_name team  FD_Pts  DK_Pts  \\\n",
       "11219    2023    19  00-0039163         C.J. Stroud  HOU   23.06   23.06   \n",
       "11220    2023    20  00-0039163         C.J. Stroud  HOU    7.90    7.90   \n",
       "11221    2023     2  00-0039164  Anthony Richardson  IND   17.74   17.74   \n",
       "11222    2023     4  00-0039164  Anthony Richardson  IND   29.60   30.60   \n",
       "11223    2023     5  00-0039164  Anthony Richardson  IND    4.42    4.42   \n",
       "\n",
       "       FD_Pts_DvP  DK_Pts_DvP  QB_role  ...       wind  div_game  opponent  \\\n",
       "11219     16.1000     16.2250      1.0  ...   0.000000       0.0       CLE   \n",
       "11220     15.7225     16.3475      1.0  ...  16.000000       0.0       BAL   \n",
       "11221     13.9200     14.5450      2.0  ...   8.438166       1.0       HOU   \n",
       "11222     11.8575     11.8575      1.0  ...   8.438166       0.0        LA   \n",
       "11223     14.3700     15.9325      2.0  ...   8.438166       1.0       TEN   \n",
       "\n",
       "       spread_line  total_line  outdoors  grass  home_team  pred_total  \\\n",
       "11219         -2.5        45.0         0      0          1       21.25   \n",
       "11220        -10.0        44.0         1      1          0       17.00   \n",
       "11221          1.0        40.0         1      0          0       20.50   \n",
       "11222         -1.0        44.5         1      0          1       21.75   \n",
       "11223         -2.5        43.5         1      0          1       20.50   \n",
       "\n",
       "       opp_total  \n",
       "11219      23.75  \n",
       "11220      27.00  \n",
       "11221      19.50  \n",
       "11222      22.75  \n",
       "11223      23.00  \n",
       "\n",
       "[5 rows x 36 columns]"
      ]
     },
     "execution_count": 301,
     "metadata": {},
     "output_type": "execute_result"
    }
   ],
   "source": [
    "quarterback_df.tail()"
   ]
  },
  {
   "cell_type": "code",
   "execution_count": 302,
   "id": "f10b469f-4511-423d-822f-ffcc8406a7e6",
   "metadata": {},
   "outputs": [
    {
     "name": "stdout",
     "output_type": "stream",
     "text": [
      "<class 'pandas.core.frame.DataFrame'>\n",
      "RangeIndex: 11224 entries, 0 to 11223\n",
      "Data columns (total 36 columns):\n",
      " #   Column                Non-Null Count  Dtype  \n",
      "---  ------                --------------  -----  \n",
      " 0   season                11224 non-null  int64  \n",
      " 1   week                  11224 non-null  int64  \n",
      " 2   player_id             11224 non-null  object \n",
      " 3   player_display_name   11224 non-null  object \n",
      " 4   team                  11224 non-null  object \n",
      " 5   FD_Pts                11224 non-null  float64\n",
      " 6   DK_Pts                11224 non-null  float64\n",
      " 7   FD_Pts_DvP            11224 non-null  float64\n",
      " 8   DK_Pts_DvP            11224 non-null  float64\n",
      " 9   QB_role               11224 non-null  float64\n",
      " 10  completions_L8        11224 non-null  float64\n",
      " 11  attempts_L8           11224 non-null  float64\n",
      " 12  passing_yards_L8      11224 non-null  float64\n",
      " 13  passing_tds_L8        11224 non-null  float64\n",
      " 14  interceptions_L8      11224 non-null  float64\n",
      " 15  sacks_L8              11224 non-null  float64\n",
      " 16  passing_air_yards_L8  11224 non-null  float64\n",
      " 17  pacr_L8               11224 non-null  float64\n",
      " 18  carries_L8            11224 non-null  float64\n",
      " 19  rushing_yards_L8      11224 non-null  float64\n",
      " 20  rushing_tds_L8        11224 non-null  float64\n",
      " 21  comp_pct              11224 non-null  float64\n",
      " 22  yds_per_attempt       11224 non-null  float64\n",
      " 23  td_pct                11224 non-null  float64\n",
      " 24  sack_pct              11224 non-null  float64\n",
      " 25  int_pct               11224 non-null  float64\n",
      " 26  wind                  11224 non-null  float64\n",
      " 27  div_game              11224 non-null  float64\n",
      " 28  opponent              11224 non-null  object \n",
      " 29  spread_line           11224 non-null  float64\n",
      " 30  total_line            11224 non-null  float64\n",
      " 31  outdoors              11224 non-null  int64  \n",
      " 32  grass                 11224 non-null  int64  \n",
      " 33  home_team             11224 non-null  int64  \n",
      " 34  pred_total            11224 non-null  float64\n",
      " 35  opp_total             11224 non-null  float64\n",
      "dtypes: float64(27), int64(5), object(4)\n",
      "memory usage: 3.1+ MB\n"
     ]
    }
   ],
   "source": [
    "quarterback_df.info()"
   ]
  },
  {
   "cell_type": "code",
   "execution_count": 303,
   "id": "e04ecc24-3395-439b-89b9-e151eb2b25ab",
   "metadata": {},
   "outputs": [],
   "source": [
    "from sklearn.metrics import mean_squared_error, mean_absolute_error, r2_score \n",
    "from sklearn.model_selection import train_test_split \n",
    "from sklearn import linear_model, preprocessing "
   ]
  },
  {
   "cell_type": "code",
   "execution_count": 304,
   "id": "77203064-93e3-4aa9-b4ab-5e35e39f624b",
   "metadata": {},
   "outputs": [],
   "source": [
    "qb_model_even = quarterback_df[quarterback_df['season']%2 == 0]"
   ]
  },
  {
   "cell_type": "code",
   "execution_count": 305,
   "id": "544cf777-cc18-47f5-8e54-413ad9d97ee3",
   "metadata": {},
   "outputs": [],
   "source": [
    "main_df = qb_model_even"
   ]
  },
  {
   "cell_type": "code",
   "execution_count": 306,
   "id": "053e62f6-f57d-41db-81c6-a973e7720654",
   "metadata": {},
   "outputs": [
    {
     "data": {
      "text/html": [
       "<div>\n",
       "<style scoped>\n",
       "    .dataframe tbody tr th:only-of-type {\n",
       "        vertical-align: middle;\n",
       "    }\n",
       "\n",
       "    .dataframe tbody tr th {\n",
       "        vertical-align: top;\n",
       "    }\n",
       "\n",
       "    .dataframe thead th {\n",
       "        text-align: right;\n",
       "    }\n",
       "</style>\n",
       "<table border=\"1\" class=\"dataframe\">\n",
       "  <thead>\n",
       "    <tr style=\"text-align: right;\">\n",
       "      <th></th>\n",
       "      <th>count</th>\n",
       "      <th>mean</th>\n",
       "      <th>std</th>\n",
       "      <th>min</th>\n",
       "      <th>25%</th>\n",
       "      <th>50%</th>\n",
       "      <th>75%</th>\n",
       "      <th>max</th>\n",
       "    </tr>\n",
       "  </thead>\n",
       "  <tbody>\n",
       "    <tr>\n",
       "      <th>season</th>\n",
       "      <td>5522.0</td>\n",
       "      <td>2014.208620</td>\n",
       "      <td>5.162943</td>\n",
       "      <td>2006.0000</td>\n",
       "      <td>2010.000000</td>\n",
       "      <td>2014.000000</td>\n",
       "      <td>2018.000000</td>\n",
       "      <td>2022.000000</td>\n",
       "    </tr>\n",
       "    <tr>\n",
       "      <th>week</th>\n",
       "      <td>5522.0</td>\n",
       "      <td>9.750091</td>\n",
       "      <td>5.272662</td>\n",
       "      <td>1.0000</td>\n",
       "      <td>5.000000</td>\n",
       "      <td>10.000000</td>\n",
       "      <td>14.000000</td>\n",
       "      <td>22.000000</td>\n",
       "    </tr>\n",
       "    <tr>\n",
       "      <th>FD_Pts</th>\n",
       "      <td>5522.0</td>\n",
       "      <td>14.314904</td>\n",
       "      <td>8.667187</td>\n",
       "      <td>-4.0000</td>\n",
       "      <td>8.100000</td>\n",
       "      <td>14.380000</td>\n",
       "      <td>19.900000</td>\n",
       "      <td>49.320000</td>\n",
       "    </tr>\n",
       "    <tr>\n",
       "      <th>DK_Pts</th>\n",
       "      <td>5522.0</td>\n",
       "      <td>15.082923</td>\n",
       "      <td>9.338452</td>\n",
       "      <td>-2.8000</td>\n",
       "      <td>8.400000</td>\n",
       "      <td>14.740000</td>\n",
       "      <td>20.960000</td>\n",
       "      <td>52.320000</td>\n",
       "    </tr>\n",
       "    <tr>\n",
       "      <th>FD_Pts_DvP</th>\n",
       "      <td>5522.0</td>\n",
       "      <td>16.606452</td>\n",
       "      <td>3.269338</td>\n",
       "      <td>7.4000</td>\n",
       "      <td>14.295000</td>\n",
       "      <td>16.620000</td>\n",
       "      <td>18.779375</td>\n",
       "      <td>27.850000</td>\n",
       "    </tr>\n",
       "    <tr>\n",
       "      <th>DK_Pts_DvP</th>\n",
       "      <td>5522.0</td>\n",
       "      <td>17.501112</td>\n",
       "      <td>3.559702</td>\n",
       "      <td>7.9375</td>\n",
       "      <td>14.932500</td>\n",
       "      <td>17.455000</td>\n",
       "      <td>19.885625</td>\n",
       "      <td>30.350000</td>\n",
       "    </tr>\n",
       "    <tr>\n",
       "      <th>QB_role</th>\n",
       "      <td>5522.0</td>\n",
       "      <td>1.143245</td>\n",
       "      <td>0.361048</td>\n",
       "      <td>1.0000</td>\n",
       "      <td>1.000000</td>\n",
       "      <td>1.000000</td>\n",
       "      <td>1.000000</td>\n",
       "      <td>3.000000</td>\n",
       "    </tr>\n",
       "    <tr>\n",
       "      <th>completions_L8</th>\n",
       "      <td>5522.0</td>\n",
       "      <td>18.294558</td>\n",
       "      <td>6.626725</td>\n",
       "      <td>0.0000</td>\n",
       "      <td>15.625000</td>\n",
       "      <td>19.625000</td>\n",
       "      <td>22.842857</td>\n",
       "      <td>34.000000</td>\n",
       "    </tr>\n",
       "    <tr>\n",
       "      <th>attempts_L8</th>\n",
       "      <td>5522.0</td>\n",
       "      <td>29.242082</td>\n",
       "      <td>9.854806</td>\n",
       "      <td>0.1250</td>\n",
       "      <td>26.250000</td>\n",
       "      <td>31.625000</td>\n",
       "      <td>35.666667</td>\n",
       "      <td>61.000000</td>\n",
       "    </tr>\n",
       "    <tr>\n",
       "      <th>passing_yards_L8</th>\n",
       "      <td>5522.0</td>\n",
       "      <td>208.276123</td>\n",
       "      <td>77.333883</td>\n",
       "      <td>-3.0000</td>\n",
       "      <td>175.156250</td>\n",
       "      <td>222.812500</td>\n",
       "      <td>262.000000</td>\n",
       "      <td>423.000000</td>\n",
       "    </tr>\n",
       "    <tr>\n",
       "      <th>passing_tds_L8</th>\n",
       "      <td>5522.0</td>\n",
       "      <td>1.284261</td>\n",
       "      <td>0.696229</td>\n",
       "      <td>0.0000</td>\n",
       "      <td>0.875000</td>\n",
       "      <td>1.250000</td>\n",
       "      <td>1.750000</td>\n",
       "      <td>3.750000</td>\n",
       "    </tr>\n",
       "    <tr>\n",
       "      <th>interceptions_L8</th>\n",
       "      <td>5522.0</td>\n",
       "      <td>0.743290</td>\n",
       "      <td>0.426325</td>\n",
       "      <td>0.0000</td>\n",
       "      <td>0.500000</td>\n",
       "      <td>0.750000</td>\n",
       "      <td>1.000000</td>\n",
       "      <td>4.000000</td>\n",
       "    </tr>\n",
       "    <tr>\n",
       "      <th>sacks_L8</th>\n",
       "      <td>5522.0</td>\n",
       "      <td>1.920730</td>\n",
       "      <td>0.909393</td>\n",
       "      <td>0.0000</td>\n",
       "      <td>1.375000</td>\n",
       "      <td>1.875000</td>\n",
       "      <td>2.500000</td>\n",
       "      <td>7.000000</td>\n",
       "    </tr>\n",
       "    <tr>\n",
       "      <th>passing_air_yards_L8</th>\n",
       "      <td>5522.0</td>\n",
       "      <td>240.484837</td>\n",
       "      <td>85.614689</td>\n",
       "      <td>-9.0000</td>\n",
       "      <td>208.446429</td>\n",
       "      <td>254.500000</td>\n",
       "      <td>297.375000</td>\n",
       "      <td>543.000000</td>\n",
       "    </tr>\n",
       "    <tr>\n",
       "      <th>pacr_L8</th>\n",
       "      <td>5522.0</td>\n",
       "      <td>0.936943</td>\n",
       "      <td>0.319544</td>\n",
       "      <td>0.0000</td>\n",
       "      <td>0.799392</td>\n",
       "      <td>0.909878</td>\n",
       "      <td>1.022794</td>\n",
       "      <td>8.871665</td>\n",
       "    </tr>\n",
       "    <tr>\n",
       "      <th>carries_L8</th>\n",
       "      <td>5522.0</td>\n",
       "      <td>2.828430</td>\n",
       "      <td>1.885793</td>\n",
       "      <td>0.0000</td>\n",
       "      <td>1.625000</td>\n",
       "      <td>2.375000</td>\n",
       "      <td>3.500000</td>\n",
       "      <td>15.500000</td>\n",
       "    </tr>\n",
       "    <tr>\n",
       "      <th>rushing_yards_L8</th>\n",
       "      <td>5522.0</td>\n",
       "      <td>11.576275</td>\n",
       "      <td>13.265533</td>\n",
       "      <td>-16.0000</td>\n",
       "      <td>2.625000</td>\n",
       "      <td>7.250000</td>\n",
       "      <td>16.000000</td>\n",
       "      <td>104.000000</td>\n",
       "    </tr>\n",
       "    <tr>\n",
       "      <th>rushing_tds_L8</th>\n",
       "      <td>5522.0</td>\n",
       "      <td>0.109968</td>\n",
       "      <td>0.166696</td>\n",
       "      <td>0.0000</td>\n",
       "      <td>0.000000</td>\n",
       "      <td>0.000000</td>\n",
       "      <td>0.125000</td>\n",
       "      <td>2.000000</td>\n",
       "    </tr>\n",
       "    <tr>\n",
       "      <th>comp_pct</th>\n",
       "      <td>5522.0</td>\n",
       "      <td>0.617516</td>\n",
       "      <td>0.085866</td>\n",
       "      <td>0.0000</td>\n",
       "      <td>0.584585</td>\n",
       "      <td>0.625469</td>\n",
       "      <td>0.659933</td>\n",
       "      <td>1.000000</td>\n",
       "    </tr>\n",
       "    <tr>\n",
       "      <th>yds_per_attempt</th>\n",
       "      <td>5522.0</td>\n",
       "      <td>7.072754</td>\n",
       "      <td>1.674171</td>\n",
       "      <td>-3.0000</td>\n",
       "      <td>6.456522</td>\n",
       "      <td>7.075496</td>\n",
       "      <td>7.692135</td>\n",
       "      <td>36.000000</td>\n",
       "    </tr>\n",
       "    <tr>\n",
       "      <th>td_pct</th>\n",
       "      <td>5522.0</td>\n",
       "      <td>0.042824</td>\n",
       "      <td>0.033848</td>\n",
       "      <td>0.0000</td>\n",
       "      <td>0.030303</td>\n",
       "      <td>0.041390</td>\n",
       "      <td>0.053846</td>\n",
       "      <td>1.000000</td>\n",
       "    </tr>\n",
       "    <tr>\n",
       "      <th>sack_pct</th>\n",
       "      <td>5522.0</td>\n",
       "      <td>0.070515</td>\n",
       "      <td>0.060789</td>\n",
       "      <td>0.0000</td>\n",
       "      <td>0.045724</td>\n",
       "      <td>0.063963</td>\n",
       "      <td>0.085398</td>\n",
       "      <td>2.000000</td>\n",
       "    </tr>\n",
       "    <tr>\n",
       "      <th>int_pct</th>\n",
       "      <td>5522.0</td>\n",
       "      <td>0.027950</td>\n",
       "      <td>0.042719</td>\n",
       "      <td>0.0000</td>\n",
       "      <td>0.015873</td>\n",
       "      <td>0.024096</td>\n",
       "      <td>0.033666</td>\n",
       "      <td>1.000000</td>\n",
       "    </tr>\n",
       "    <tr>\n",
       "      <th>wind</th>\n",
       "      <td>5522.0</td>\n",
       "      <td>6.290328</td>\n",
       "      <td>6.041869</td>\n",
       "      <td>0.0000</td>\n",
       "      <td>0.000000</td>\n",
       "      <td>6.000000</td>\n",
       "      <td>10.000000</td>\n",
       "      <td>71.000000</td>\n",
       "    </tr>\n",
       "    <tr>\n",
       "      <th>div_game</th>\n",
       "      <td>5522.0</td>\n",
       "      <td>0.367439</td>\n",
       "      <td>0.482151</td>\n",
       "      <td>0.0000</td>\n",
       "      <td>0.000000</td>\n",
       "      <td>0.000000</td>\n",
       "      <td>1.000000</td>\n",
       "      <td>1.000000</td>\n",
       "    </tr>\n",
       "    <tr>\n",
       "      <th>spread_line</th>\n",
       "      <td>5522.0</td>\n",
       "      <td>0.147501</td>\n",
       "      <td>6.288700</td>\n",
       "      <td>-20.0000</td>\n",
       "      <td>-4.000000</td>\n",
       "      <td>1.000000</td>\n",
       "      <td>4.500000</td>\n",
       "      <td>20.000000</td>\n",
       "    </tr>\n",
       "    <tr>\n",
       "      <th>total_line</th>\n",
       "      <td>5522.0</td>\n",
       "      <td>44.632470</td>\n",
       "      <td>4.789461</td>\n",
       "      <td>31.0000</td>\n",
       "      <td>41.500000</td>\n",
       "      <td>44.500000</td>\n",
       "      <td>47.500000</td>\n",
       "      <td>63.500000</td>\n",
       "    </tr>\n",
       "    <tr>\n",
       "      <th>outdoors</th>\n",
       "      <td>5522.0</td>\n",
       "      <td>0.741217</td>\n",
       "      <td>0.438006</td>\n",
       "      <td>0.0000</td>\n",
       "      <td>0.000000</td>\n",
       "      <td>1.000000</td>\n",
       "      <td>1.000000</td>\n",
       "      <td>1.000000</td>\n",
       "    </tr>\n",
       "    <tr>\n",
       "      <th>grass</th>\n",
       "      <td>5522.0</td>\n",
       "      <td>0.559037</td>\n",
       "      <td>0.496547</td>\n",
       "      <td>0.0000</td>\n",
       "      <td>0.000000</td>\n",
       "      <td>1.000000</td>\n",
       "      <td>1.000000</td>\n",
       "      <td>1.000000</td>\n",
       "    </tr>\n",
       "    <tr>\n",
       "      <th>home_team</th>\n",
       "      <td>5522.0</td>\n",
       "      <td>0.503622</td>\n",
       "      <td>0.500032</td>\n",
       "      <td>0.0000</td>\n",
       "      <td>0.000000</td>\n",
       "      <td>1.000000</td>\n",
       "      <td>1.000000</td>\n",
       "      <td>1.000000</td>\n",
       "    </tr>\n",
       "    <tr>\n",
       "      <th>pred_total</th>\n",
       "      <td>5522.0</td>\n",
       "      <td>22.389986</td>\n",
       "      <td>3.957696</td>\n",
       "      <td>10.5000</td>\n",
       "      <td>19.500000</td>\n",
       "      <td>22.250000</td>\n",
       "      <td>25.250000</td>\n",
       "      <td>36.250000</td>\n",
       "    </tr>\n",
       "    <tr>\n",
       "      <th>opp_total</th>\n",
       "      <td>5522.0</td>\n",
       "      <td>22.242485</td>\n",
       "      <td>3.947148</td>\n",
       "      <td>9.7500</td>\n",
       "      <td>19.500000</td>\n",
       "      <td>22.250000</td>\n",
       "      <td>25.000000</td>\n",
       "      <td>36.250000</td>\n",
       "    </tr>\n",
       "  </tbody>\n",
       "</table>\n",
       "</div>"
      ],
      "text/plain": [
       "                       count         mean        std        min          25%  \\\n",
       "season                5522.0  2014.208620   5.162943  2006.0000  2010.000000   \n",
       "week                  5522.0     9.750091   5.272662     1.0000     5.000000   \n",
       "FD_Pts                5522.0    14.314904   8.667187    -4.0000     8.100000   \n",
       "DK_Pts                5522.0    15.082923   9.338452    -2.8000     8.400000   \n",
       "FD_Pts_DvP            5522.0    16.606452   3.269338     7.4000    14.295000   \n",
       "DK_Pts_DvP            5522.0    17.501112   3.559702     7.9375    14.932500   \n",
       "QB_role               5522.0     1.143245   0.361048     1.0000     1.000000   \n",
       "completions_L8        5522.0    18.294558   6.626725     0.0000    15.625000   \n",
       "attempts_L8           5522.0    29.242082   9.854806     0.1250    26.250000   \n",
       "passing_yards_L8      5522.0   208.276123  77.333883    -3.0000   175.156250   \n",
       "passing_tds_L8        5522.0     1.284261   0.696229     0.0000     0.875000   \n",
       "interceptions_L8      5522.0     0.743290   0.426325     0.0000     0.500000   \n",
       "sacks_L8              5522.0     1.920730   0.909393     0.0000     1.375000   \n",
       "passing_air_yards_L8  5522.0   240.484837  85.614689    -9.0000   208.446429   \n",
       "pacr_L8               5522.0     0.936943   0.319544     0.0000     0.799392   \n",
       "carries_L8            5522.0     2.828430   1.885793     0.0000     1.625000   \n",
       "rushing_yards_L8      5522.0    11.576275  13.265533   -16.0000     2.625000   \n",
       "rushing_tds_L8        5522.0     0.109968   0.166696     0.0000     0.000000   \n",
       "comp_pct              5522.0     0.617516   0.085866     0.0000     0.584585   \n",
       "yds_per_attempt       5522.0     7.072754   1.674171    -3.0000     6.456522   \n",
       "td_pct                5522.0     0.042824   0.033848     0.0000     0.030303   \n",
       "sack_pct              5522.0     0.070515   0.060789     0.0000     0.045724   \n",
       "int_pct               5522.0     0.027950   0.042719     0.0000     0.015873   \n",
       "wind                  5522.0     6.290328   6.041869     0.0000     0.000000   \n",
       "div_game              5522.0     0.367439   0.482151     0.0000     0.000000   \n",
       "spread_line           5522.0     0.147501   6.288700   -20.0000    -4.000000   \n",
       "total_line            5522.0    44.632470   4.789461    31.0000    41.500000   \n",
       "outdoors              5522.0     0.741217   0.438006     0.0000     0.000000   \n",
       "grass                 5522.0     0.559037   0.496547     0.0000     0.000000   \n",
       "home_team             5522.0     0.503622   0.500032     0.0000     0.000000   \n",
       "pred_total            5522.0    22.389986   3.957696    10.5000    19.500000   \n",
       "opp_total             5522.0    22.242485   3.947148     9.7500    19.500000   \n",
       "\n",
       "                              50%          75%          max  \n",
       "season                2014.000000  2018.000000  2022.000000  \n",
       "week                    10.000000    14.000000    22.000000  \n",
       "FD_Pts                  14.380000    19.900000    49.320000  \n",
       "DK_Pts                  14.740000    20.960000    52.320000  \n",
       "FD_Pts_DvP              16.620000    18.779375    27.850000  \n",
       "DK_Pts_DvP              17.455000    19.885625    30.350000  \n",
       "QB_role                  1.000000     1.000000     3.000000  \n",
       "completions_L8          19.625000    22.842857    34.000000  \n",
       "attempts_L8             31.625000    35.666667    61.000000  \n",
       "passing_yards_L8       222.812500   262.000000   423.000000  \n",
       "passing_tds_L8           1.250000     1.750000     3.750000  \n",
       "interceptions_L8         0.750000     1.000000     4.000000  \n",
       "sacks_L8                 1.875000     2.500000     7.000000  \n",
       "passing_air_yards_L8   254.500000   297.375000   543.000000  \n",
       "pacr_L8                  0.909878     1.022794     8.871665  \n",
       "carries_L8               2.375000     3.500000    15.500000  \n",
       "rushing_yards_L8         7.250000    16.000000   104.000000  \n",
       "rushing_tds_L8           0.000000     0.125000     2.000000  \n",
       "comp_pct                 0.625469     0.659933     1.000000  \n",
       "yds_per_attempt          7.075496     7.692135    36.000000  \n",
       "td_pct                   0.041390     0.053846     1.000000  \n",
       "sack_pct                 0.063963     0.085398     2.000000  \n",
       "int_pct                  0.024096     0.033666     1.000000  \n",
       "wind                     6.000000    10.000000    71.000000  \n",
       "div_game                 0.000000     1.000000     1.000000  \n",
       "spread_line              1.000000     4.500000    20.000000  \n",
       "total_line              44.500000    47.500000    63.500000  \n",
       "outdoors                 1.000000     1.000000     1.000000  \n",
       "grass                    1.000000     1.000000     1.000000  \n",
       "home_team                1.000000     1.000000     1.000000  \n",
       "pred_total              22.250000    25.250000    36.250000  \n",
       "opp_total               22.250000    25.000000    36.250000  "
      ]
     },
     "execution_count": 306,
     "metadata": {},
     "output_type": "execute_result"
    }
   ],
   "source": [
    "main_df.describe().T"
   ]
  },
  {
   "cell_type": "markdown",
   "id": "f8cb481e-55e5-46e9-9562-ccab7ebeb74f",
   "metadata": {},
   "source": [
    "# Fixing wind\n",
    "We checked that 71 mph wind for the Giants-Steelers game in 2017. Turns out it was only 7 mph."
   ]
  },
  {
   "cell_type": "code",
   "execution_count": 307,
   "id": "3ed017aa-fc7d-4cae-826f-8cd9f01f1411",
   "metadata": {},
   "outputs": [],
   "source": [
    "main_df.loc[main_df['wind'] == 71, 'wind'] = 7"
   ]
  },
  {
   "cell_type": "code",
   "execution_count": 308,
   "id": "0dabba18-d5ff-4090-9014-e08b07d311fa",
   "metadata": {},
   "outputs": [
    {
     "data": {
      "text/html": [
       "<div>\n",
       "<style scoped>\n",
       "    .dataframe tbody tr th:only-of-type {\n",
       "        vertical-align: middle;\n",
       "    }\n",
       "\n",
       "    .dataframe tbody tr th {\n",
       "        vertical-align: top;\n",
       "    }\n",
       "\n",
       "    .dataframe thead th {\n",
       "        text-align: right;\n",
       "    }\n",
       "</style>\n",
       "<table border=\"1\" class=\"dataframe\">\n",
       "  <thead>\n",
       "    <tr style=\"text-align: right;\">\n",
       "      <th></th>\n",
       "      <th>count</th>\n",
       "      <th>mean</th>\n",
       "      <th>std</th>\n",
       "      <th>min</th>\n",
       "      <th>25%</th>\n",
       "      <th>50%</th>\n",
       "      <th>75%</th>\n",
       "      <th>max</th>\n",
       "    </tr>\n",
       "  </thead>\n",
       "  <tbody>\n",
       "    <tr>\n",
       "      <th>season</th>\n",
       "      <td>5522.0</td>\n",
       "      <td>2014.208620</td>\n",
       "      <td>5.162943</td>\n",
       "      <td>2006.0000</td>\n",
       "      <td>2010.000000</td>\n",
       "      <td>2014.000000</td>\n",
       "      <td>2018.000000</td>\n",
       "      <td>2022.000000</td>\n",
       "    </tr>\n",
       "    <tr>\n",
       "      <th>week</th>\n",
       "      <td>5522.0</td>\n",
       "      <td>9.750091</td>\n",
       "      <td>5.272662</td>\n",
       "      <td>1.0000</td>\n",
       "      <td>5.000000</td>\n",
       "      <td>10.000000</td>\n",
       "      <td>14.000000</td>\n",
       "      <td>22.000000</td>\n",
       "    </tr>\n",
       "    <tr>\n",
       "      <th>FD_Pts</th>\n",
       "      <td>5522.0</td>\n",
       "      <td>14.314904</td>\n",
       "      <td>8.667187</td>\n",
       "      <td>-4.0000</td>\n",
       "      <td>8.100000</td>\n",
       "      <td>14.380000</td>\n",
       "      <td>19.900000</td>\n",
       "      <td>49.320000</td>\n",
       "    </tr>\n",
       "    <tr>\n",
       "      <th>DK_Pts</th>\n",
       "      <td>5522.0</td>\n",
       "      <td>15.082923</td>\n",
       "      <td>9.338452</td>\n",
       "      <td>-2.8000</td>\n",
       "      <td>8.400000</td>\n",
       "      <td>14.740000</td>\n",
       "      <td>20.960000</td>\n",
       "      <td>52.320000</td>\n",
       "    </tr>\n",
       "    <tr>\n",
       "      <th>FD_Pts_DvP</th>\n",
       "      <td>5522.0</td>\n",
       "      <td>16.606452</td>\n",
       "      <td>3.269338</td>\n",
       "      <td>7.4000</td>\n",
       "      <td>14.295000</td>\n",
       "      <td>16.620000</td>\n",
       "      <td>18.779375</td>\n",
       "      <td>27.850000</td>\n",
       "    </tr>\n",
       "    <tr>\n",
       "      <th>DK_Pts_DvP</th>\n",
       "      <td>5522.0</td>\n",
       "      <td>17.501112</td>\n",
       "      <td>3.559702</td>\n",
       "      <td>7.9375</td>\n",
       "      <td>14.932500</td>\n",
       "      <td>17.455000</td>\n",
       "      <td>19.885625</td>\n",
       "      <td>30.350000</td>\n",
       "    </tr>\n",
       "    <tr>\n",
       "      <th>QB_role</th>\n",
       "      <td>5522.0</td>\n",
       "      <td>1.143245</td>\n",
       "      <td>0.361048</td>\n",
       "      <td>1.0000</td>\n",
       "      <td>1.000000</td>\n",
       "      <td>1.000000</td>\n",
       "      <td>1.000000</td>\n",
       "      <td>3.000000</td>\n",
       "    </tr>\n",
       "    <tr>\n",
       "      <th>completions_L8</th>\n",
       "      <td>5522.0</td>\n",
       "      <td>18.294558</td>\n",
       "      <td>6.626725</td>\n",
       "      <td>0.0000</td>\n",
       "      <td>15.625000</td>\n",
       "      <td>19.625000</td>\n",
       "      <td>22.842857</td>\n",
       "      <td>34.000000</td>\n",
       "    </tr>\n",
       "    <tr>\n",
       "      <th>attempts_L8</th>\n",
       "      <td>5522.0</td>\n",
       "      <td>29.242082</td>\n",
       "      <td>9.854806</td>\n",
       "      <td>0.1250</td>\n",
       "      <td>26.250000</td>\n",
       "      <td>31.625000</td>\n",
       "      <td>35.666667</td>\n",
       "      <td>61.000000</td>\n",
       "    </tr>\n",
       "    <tr>\n",
       "      <th>passing_yards_L8</th>\n",
       "      <td>5522.0</td>\n",
       "      <td>208.276123</td>\n",
       "      <td>77.333883</td>\n",
       "      <td>-3.0000</td>\n",
       "      <td>175.156250</td>\n",
       "      <td>222.812500</td>\n",
       "      <td>262.000000</td>\n",
       "      <td>423.000000</td>\n",
       "    </tr>\n",
       "    <tr>\n",
       "      <th>passing_tds_L8</th>\n",
       "      <td>5522.0</td>\n",
       "      <td>1.284261</td>\n",
       "      <td>0.696229</td>\n",
       "      <td>0.0000</td>\n",
       "      <td>0.875000</td>\n",
       "      <td>1.250000</td>\n",
       "      <td>1.750000</td>\n",
       "      <td>3.750000</td>\n",
       "    </tr>\n",
       "    <tr>\n",
       "      <th>interceptions_L8</th>\n",
       "      <td>5522.0</td>\n",
       "      <td>0.743290</td>\n",
       "      <td>0.426325</td>\n",
       "      <td>0.0000</td>\n",
       "      <td>0.500000</td>\n",
       "      <td>0.750000</td>\n",
       "      <td>1.000000</td>\n",
       "      <td>4.000000</td>\n",
       "    </tr>\n",
       "    <tr>\n",
       "      <th>sacks_L8</th>\n",
       "      <td>5522.0</td>\n",
       "      <td>1.920730</td>\n",
       "      <td>0.909393</td>\n",
       "      <td>0.0000</td>\n",
       "      <td>1.375000</td>\n",
       "      <td>1.875000</td>\n",
       "      <td>2.500000</td>\n",
       "      <td>7.000000</td>\n",
       "    </tr>\n",
       "    <tr>\n",
       "      <th>passing_air_yards_L8</th>\n",
       "      <td>5522.0</td>\n",
       "      <td>240.484837</td>\n",
       "      <td>85.614689</td>\n",
       "      <td>-9.0000</td>\n",
       "      <td>208.446429</td>\n",
       "      <td>254.500000</td>\n",
       "      <td>297.375000</td>\n",
       "      <td>543.000000</td>\n",
       "    </tr>\n",
       "    <tr>\n",
       "      <th>pacr_L8</th>\n",
       "      <td>5522.0</td>\n",
       "      <td>0.936943</td>\n",
       "      <td>0.319544</td>\n",
       "      <td>0.0000</td>\n",
       "      <td>0.799392</td>\n",
       "      <td>0.909878</td>\n",
       "      <td>1.022794</td>\n",
       "      <td>8.871665</td>\n",
       "    </tr>\n",
       "    <tr>\n",
       "      <th>carries_L8</th>\n",
       "      <td>5522.0</td>\n",
       "      <td>2.828430</td>\n",
       "      <td>1.885793</td>\n",
       "      <td>0.0000</td>\n",
       "      <td>1.625000</td>\n",
       "      <td>2.375000</td>\n",
       "      <td>3.500000</td>\n",
       "      <td>15.500000</td>\n",
       "    </tr>\n",
       "    <tr>\n",
       "      <th>rushing_yards_L8</th>\n",
       "      <td>5522.0</td>\n",
       "      <td>11.576275</td>\n",
       "      <td>13.265533</td>\n",
       "      <td>-16.0000</td>\n",
       "      <td>2.625000</td>\n",
       "      <td>7.250000</td>\n",
       "      <td>16.000000</td>\n",
       "      <td>104.000000</td>\n",
       "    </tr>\n",
       "    <tr>\n",
       "      <th>rushing_tds_L8</th>\n",
       "      <td>5522.0</td>\n",
       "      <td>0.109968</td>\n",
       "      <td>0.166696</td>\n",
       "      <td>0.0000</td>\n",
       "      <td>0.000000</td>\n",
       "      <td>0.000000</td>\n",
       "      <td>0.125000</td>\n",
       "      <td>2.000000</td>\n",
       "    </tr>\n",
       "    <tr>\n",
       "      <th>comp_pct</th>\n",
       "      <td>5522.0</td>\n",
       "      <td>0.617516</td>\n",
       "      <td>0.085866</td>\n",
       "      <td>0.0000</td>\n",
       "      <td>0.584585</td>\n",
       "      <td>0.625469</td>\n",
       "      <td>0.659933</td>\n",
       "      <td>1.000000</td>\n",
       "    </tr>\n",
       "    <tr>\n",
       "      <th>yds_per_attempt</th>\n",
       "      <td>5522.0</td>\n",
       "      <td>7.072754</td>\n",
       "      <td>1.674171</td>\n",
       "      <td>-3.0000</td>\n",
       "      <td>6.456522</td>\n",
       "      <td>7.075496</td>\n",
       "      <td>7.692135</td>\n",
       "      <td>36.000000</td>\n",
       "    </tr>\n",
       "    <tr>\n",
       "      <th>td_pct</th>\n",
       "      <td>5522.0</td>\n",
       "      <td>0.042824</td>\n",
       "      <td>0.033848</td>\n",
       "      <td>0.0000</td>\n",
       "      <td>0.030303</td>\n",
       "      <td>0.041390</td>\n",
       "      <td>0.053846</td>\n",
       "      <td>1.000000</td>\n",
       "    </tr>\n",
       "    <tr>\n",
       "      <th>sack_pct</th>\n",
       "      <td>5522.0</td>\n",
       "      <td>0.070515</td>\n",
       "      <td>0.060789</td>\n",
       "      <td>0.0000</td>\n",
       "      <td>0.045724</td>\n",
       "      <td>0.063963</td>\n",
       "      <td>0.085398</td>\n",
       "      <td>2.000000</td>\n",
       "    </tr>\n",
       "    <tr>\n",
       "      <th>int_pct</th>\n",
       "      <td>5522.0</td>\n",
       "      <td>0.027950</td>\n",
       "      <td>0.042719</td>\n",
       "      <td>0.0000</td>\n",
       "      <td>0.015873</td>\n",
       "      <td>0.024096</td>\n",
       "      <td>0.033666</td>\n",
       "      <td>1.000000</td>\n",
       "    </tr>\n",
       "    <tr>\n",
       "      <th>wind</th>\n",
       "      <td>5522.0</td>\n",
       "      <td>6.255558</td>\n",
       "      <td>5.850464</td>\n",
       "      <td>0.0000</td>\n",
       "      <td>0.000000</td>\n",
       "      <td>6.000000</td>\n",
       "      <td>9.000000</td>\n",
       "      <td>70.000000</td>\n",
       "    </tr>\n",
       "    <tr>\n",
       "      <th>div_game</th>\n",
       "      <td>5522.0</td>\n",
       "      <td>0.367439</td>\n",
       "      <td>0.482151</td>\n",
       "      <td>0.0000</td>\n",
       "      <td>0.000000</td>\n",
       "      <td>0.000000</td>\n",
       "      <td>1.000000</td>\n",
       "      <td>1.000000</td>\n",
       "    </tr>\n",
       "    <tr>\n",
       "      <th>spread_line</th>\n",
       "      <td>5522.0</td>\n",
       "      <td>0.147501</td>\n",
       "      <td>6.288700</td>\n",
       "      <td>-20.0000</td>\n",
       "      <td>-4.000000</td>\n",
       "      <td>1.000000</td>\n",
       "      <td>4.500000</td>\n",
       "      <td>20.000000</td>\n",
       "    </tr>\n",
       "    <tr>\n",
       "      <th>total_line</th>\n",
       "      <td>5522.0</td>\n",
       "      <td>44.632470</td>\n",
       "      <td>4.789461</td>\n",
       "      <td>31.0000</td>\n",
       "      <td>41.500000</td>\n",
       "      <td>44.500000</td>\n",
       "      <td>47.500000</td>\n",
       "      <td>63.500000</td>\n",
       "    </tr>\n",
       "    <tr>\n",
       "      <th>outdoors</th>\n",
       "      <td>5522.0</td>\n",
       "      <td>0.741217</td>\n",
       "      <td>0.438006</td>\n",
       "      <td>0.0000</td>\n",
       "      <td>0.000000</td>\n",
       "      <td>1.000000</td>\n",
       "      <td>1.000000</td>\n",
       "      <td>1.000000</td>\n",
       "    </tr>\n",
       "    <tr>\n",
       "      <th>grass</th>\n",
       "      <td>5522.0</td>\n",
       "      <td>0.559037</td>\n",
       "      <td>0.496547</td>\n",
       "      <td>0.0000</td>\n",
       "      <td>0.000000</td>\n",
       "      <td>1.000000</td>\n",
       "      <td>1.000000</td>\n",
       "      <td>1.000000</td>\n",
       "    </tr>\n",
       "    <tr>\n",
       "      <th>home_team</th>\n",
       "      <td>5522.0</td>\n",
       "      <td>0.503622</td>\n",
       "      <td>0.500032</td>\n",
       "      <td>0.0000</td>\n",
       "      <td>0.000000</td>\n",
       "      <td>1.000000</td>\n",
       "      <td>1.000000</td>\n",
       "      <td>1.000000</td>\n",
       "    </tr>\n",
       "    <tr>\n",
       "      <th>pred_total</th>\n",
       "      <td>5522.0</td>\n",
       "      <td>22.389986</td>\n",
       "      <td>3.957696</td>\n",
       "      <td>10.5000</td>\n",
       "      <td>19.500000</td>\n",
       "      <td>22.250000</td>\n",
       "      <td>25.250000</td>\n",
       "      <td>36.250000</td>\n",
       "    </tr>\n",
       "    <tr>\n",
       "      <th>opp_total</th>\n",
       "      <td>5522.0</td>\n",
       "      <td>22.242485</td>\n",
       "      <td>3.947148</td>\n",
       "      <td>9.7500</td>\n",
       "      <td>19.500000</td>\n",
       "      <td>22.250000</td>\n",
       "      <td>25.000000</td>\n",
       "      <td>36.250000</td>\n",
       "    </tr>\n",
       "  </tbody>\n",
       "</table>\n",
       "</div>"
      ],
      "text/plain": [
       "                       count         mean        std        min          25%  \\\n",
       "season                5522.0  2014.208620   5.162943  2006.0000  2010.000000   \n",
       "week                  5522.0     9.750091   5.272662     1.0000     5.000000   \n",
       "FD_Pts                5522.0    14.314904   8.667187    -4.0000     8.100000   \n",
       "DK_Pts                5522.0    15.082923   9.338452    -2.8000     8.400000   \n",
       "FD_Pts_DvP            5522.0    16.606452   3.269338     7.4000    14.295000   \n",
       "DK_Pts_DvP            5522.0    17.501112   3.559702     7.9375    14.932500   \n",
       "QB_role               5522.0     1.143245   0.361048     1.0000     1.000000   \n",
       "completions_L8        5522.0    18.294558   6.626725     0.0000    15.625000   \n",
       "attempts_L8           5522.0    29.242082   9.854806     0.1250    26.250000   \n",
       "passing_yards_L8      5522.0   208.276123  77.333883    -3.0000   175.156250   \n",
       "passing_tds_L8        5522.0     1.284261   0.696229     0.0000     0.875000   \n",
       "interceptions_L8      5522.0     0.743290   0.426325     0.0000     0.500000   \n",
       "sacks_L8              5522.0     1.920730   0.909393     0.0000     1.375000   \n",
       "passing_air_yards_L8  5522.0   240.484837  85.614689    -9.0000   208.446429   \n",
       "pacr_L8               5522.0     0.936943   0.319544     0.0000     0.799392   \n",
       "carries_L8            5522.0     2.828430   1.885793     0.0000     1.625000   \n",
       "rushing_yards_L8      5522.0    11.576275  13.265533   -16.0000     2.625000   \n",
       "rushing_tds_L8        5522.0     0.109968   0.166696     0.0000     0.000000   \n",
       "comp_pct              5522.0     0.617516   0.085866     0.0000     0.584585   \n",
       "yds_per_attempt       5522.0     7.072754   1.674171    -3.0000     6.456522   \n",
       "td_pct                5522.0     0.042824   0.033848     0.0000     0.030303   \n",
       "sack_pct              5522.0     0.070515   0.060789     0.0000     0.045724   \n",
       "int_pct               5522.0     0.027950   0.042719     0.0000     0.015873   \n",
       "wind                  5522.0     6.255558   5.850464     0.0000     0.000000   \n",
       "div_game              5522.0     0.367439   0.482151     0.0000     0.000000   \n",
       "spread_line           5522.0     0.147501   6.288700   -20.0000    -4.000000   \n",
       "total_line            5522.0    44.632470   4.789461    31.0000    41.500000   \n",
       "outdoors              5522.0     0.741217   0.438006     0.0000     0.000000   \n",
       "grass                 5522.0     0.559037   0.496547     0.0000     0.000000   \n",
       "home_team             5522.0     0.503622   0.500032     0.0000     0.000000   \n",
       "pred_total            5522.0    22.389986   3.957696    10.5000    19.500000   \n",
       "opp_total             5522.0    22.242485   3.947148     9.7500    19.500000   \n",
       "\n",
       "                              50%          75%          max  \n",
       "season                2014.000000  2018.000000  2022.000000  \n",
       "week                    10.000000    14.000000    22.000000  \n",
       "FD_Pts                  14.380000    19.900000    49.320000  \n",
       "DK_Pts                  14.740000    20.960000    52.320000  \n",
       "FD_Pts_DvP              16.620000    18.779375    27.850000  \n",
       "DK_Pts_DvP              17.455000    19.885625    30.350000  \n",
       "QB_role                  1.000000     1.000000     3.000000  \n",
       "completions_L8          19.625000    22.842857    34.000000  \n",
       "attempts_L8             31.625000    35.666667    61.000000  \n",
       "passing_yards_L8       222.812500   262.000000   423.000000  \n",
       "passing_tds_L8           1.250000     1.750000     3.750000  \n",
       "interceptions_L8         0.750000     1.000000     4.000000  \n",
       "sacks_L8                 1.875000     2.500000     7.000000  \n",
       "passing_air_yards_L8   254.500000   297.375000   543.000000  \n",
       "pacr_L8                  0.909878     1.022794     8.871665  \n",
       "carries_L8               2.375000     3.500000    15.500000  \n",
       "rushing_yards_L8         7.250000    16.000000   104.000000  \n",
       "rushing_tds_L8           0.000000     0.125000     2.000000  \n",
       "comp_pct                 0.625469     0.659933     1.000000  \n",
       "yds_per_attempt          7.075496     7.692135    36.000000  \n",
       "td_pct                   0.041390     0.053846     1.000000  \n",
       "sack_pct                 0.063963     0.085398     2.000000  \n",
       "int_pct                  0.024096     0.033666     1.000000  \n",
       "wind                     6.000000     9.000000    70.000000  \n",
       "div_game                 0.000000     1.000000     1.000000  \n",
       "spread_line              1.000000     4.500000    20.000000  \n",
       "total_line              44.500000    47.500000    63.500000  \n",
       "outdoors                 1.000000     1.000000     1.000000  \n",
       "grass                    1.000000     1.000000     1.000000  \n",
       "home_team                1.000000     1.000000     1.000000  \n",
       "pred_total              22.250000    25.250000    36.250000  \n",
       "opp_total               22.250000    25.000000    36.250000  "
      ]
     },
     "execution_count": 308,
     "metadata": {},
     "output_type": "execute_result"
    }
   ],
   "source": [
    "main_df.describe().T"
   ]
  },
  {
   "cell_type": "code",
   "execution_count": 309,
   "id": "f9ab776d-4e0f-44d3-b08a-6fb3f6a08b5b",
   "metadata": {},
   "outputs": [],
   "source": [
    "main_df.set_index(['season', 'week', 'player_id', 'player_display_name', 'team', 'opponent'], inplace = True)"
   ]
  },
  {
   "cell_type": "code",
   "execution_count": null,
   "id": "f350cf1c-f43a-4427-8c08-c8178b3fd37c",
   "metadata": {},
   "outputs": [],
   "source": []
  },
  {
   "cell_type": "markdown",
   "id": "4bf57c9b-68d7-48c3-b925-51df2d4919a2",
   "metadata": {},
   "source": [
    "# Correlations"
   ]
  },
  {
   "cell_type": "code",
   "execution_count": 310,
   "id": "3bdbfed6-6116-459d-a882-45dd1108c8bc",
   "metadata": {},
   "outputs": [],
   "source": [
    "corr_df = main_df.corr()"
   ]
  },
  {
   "cell_type": "code",
   "execution_count": 311,
   "id": "b09353a1-d1a2-44ab-9e42-9b27d6f780d4",
   "metadata": {},
   "outputs": [
    {
     "data": {
      "text/plain": [
       "FD_Pts                  1.000000\n",
       "DK_Pts                  0.992776\n",
       "passing_yards_L8        0.455490\n",
       "completions_L8          0.437358\n",
       "passing_tds_L8          0.426063\n",
       "attempts_L8             0.412388\n",
       "passing_air_yards_L8    0.400585\n",
       "pred_total              0.243384\n",
       "total_line              0.236444\n",
       "carries_L8              0.232548\n",
       "comp_pct                0.214563\n",
       "rushing_yards_L8        0.194757\n",
       "rushing_tds_L8          0.176714\n",
       "sacks_L8                0.171356\n",
       "yds_per_attempt         0.154119\n",
       "td_pct                  0.138846\n",
       "spread_line             0.126264\n",
       "DK_Pts_DvP              0.083466\n",
       "FD_Pts_DvP              0.082020\n",
       "interceptions_L8        0.063616\n",
       "pacr_L8                 0.043292\n",
       "opp_total               0.042867\n",
       "home_team               0.039084\n",
       "grass                  -0.013487\n",
       "div_game               -0.042500\n",
       "outdoors               -0.057928\n",
       "wind                   -0.082092\n",
       "int_pct                -0.111464\n",
       "sack_pct               -0.113107\n",
       "QB_role                -0.552248\n",
       "Name: FD_Pts, dtype: float64"
      ]
     },
     "execution_count": 311,
     "metadata": {},
     "output_type": "execute_result"
    }
   ],
   "source": [
    "corr_df['FD_Pts'].sort_values(ascending = False)"
   ]
  },
  {
   "cell_type": "code",
   "execution_count": 312,
   "id": "329c2c1d-a709-4211-9a61-eab3699dddde",
   "metadata": {},
   "outputs": [
    {
     "data": {
      "image/png": "[encoded data removed]",
      "text/plain": [
       "<Figure size 640x480 with 1 Axes>"
      ]
     },
     "metadata": {},
     "output_type": "display_data"
    }
   ],
   "source": [
    "# Create the scatter plot\n",
    "plt.scatter(main_df['passing_air_yards_L8'][:1000], main_df['FD_Pts'][:1000], label='Data points')\n",
    "\n",
    "# Calculate the line of best fit\n",
    "m, b = np.polyfit(main_df['passing_air_yards_L8'][:1000], main_df['FD_Pts'][:1000], 1)\n",
    "\n",
    "# Plot the fit line\n",
    "plt.plot(main_df['passing_air_yards_L8'][:1000], m*main_df['passing_air_yards_L8'][:1000] + b, color='red', label='Fit line')\n",
    "\n",
    "# Add labels and legend\n",
    "plt.xlabel('Passing Air Yards (Last 8)')\n",
    "plt.ylabel('FD Points')\n",
    "plt.legend()\n",
    "\n",
    "# Show the plot\n",
    "plt.show()\n"
   ]
  },
  {
   "cell_type": "code",
   "execution_count": 313,
   "id": "f181a1e8-ae6b-4d36-9d53-0a060ccbdd9b",
   "metadata": {},
   "outputs": [
    {
     "data": {
      "image/png": "[encoded data removed]",
      "text/plain": [
       "<Figure size 640x480 with 1 Axes>"
      ]
     },
     "metadata": {},
     "output_type": "display_data"
    }
   ],
   "source": [
    "# Create the scatter plot\n",
    "plt.scatter(main_df['interceptions_L8'][:1000], main_df['FD_Pts'][:1000], label='Data points')\n",
    "\n",
    "# Calculate the line of best fit\n",
    "m, b = np.polyfit(main_df['interceptions_L8'][:1000], main_df['FD_Pts'][:1000], 1)\n",
    "\n",
    "# Plot the fit line\n",
    "plt.plot(main_df['interceptions_L8'][:1000], m*main_df['interceptions_L8'][:1000] + b, color='red', label='Fit line')\n",
    "\n",
    "# Add labels and legend\n",
    "plt.xlabel('interceptions_L8')\n",
    "plt.ylabel('FD Points')\n",
    "plt.legend()\n",
    "\n",
    "# Show the plot\n",
    "plt.show()"
   ]
  },
  {
   "cell_type": "code",
   "execution_count": null,
   "id": "68814997-3ace-49fe-9e75-86f834f4e920",
   "metadata": {},
   "outputs": [],
   "source": []
  },
  {
   "cell_type": "code",
   "execution_count": 314,
   "id": "e27eacb5-8220-4180-aae1-d89b2e8e7d3e",
   "metadata": {},
   "outputs": [
    {
     "data": {
      "text/plain": [
       "DK_Pts                  1.000000\n",
       "FD_Pts                  0.992776\n",
       "passing_yards_L8        0.455599\n",
       "completions_L8          0.437459\n",
       "passing_tds_L8          0.427524\n",
       "attempts_L8             0.411831\n",
       "passing_air_yards_L8    0.399742\n",
       "pred_total              0.246849\n",
       "total_line              0.245450\n",
       "carries_L8              0.220635\n",
       "comp_pct                0.213130\n",
       "rushing_yards_L8        0.183319\n",
       "rushing_tds_L8          0.171593\n",
       "sacks_L8                0.165899\n",
       "yds_per_attempt         0.153826\n",
       "td_pct                  0.139635\n",
       "spread_line             0.123766\n",
       "DK_Pts_DvP              0.084818\n",
       "FD_Pts_DvP              0.083408\n",
       "interceptions_L8        0.062032\n",
       "opp_total               0.050320\n",
       "pacr_L8                 0.041925\n",
       "home_team               0.035659\n",
       "grass                  -0.016048\n",
       "div_game               -0.043721\n",
       "outdoors               -0.062022\n",
       "wind                   -0.085288\n",
       "int_pct                -0.109183\n",
       "sack_pct               -0.114214\n",
       "QB_role                -0.540567\n",
       "Name: DK_Pts, dtype: float64"
      ]
     },
     "execution_count": 314,
     "metadata": {},
     "output_type": "execute_result"
    }
   ],
   "source": [
    "corr_df['DK_Pts'].sort_values(ascending = False)"
   ]
  },
  {
   "cell_type": "code",
   "execution_count": 315,
   "id": "10e2760a-8584-4107-ba8c-6c539e6c5834",
   "metadata": {},
   "outputs": [],
   "source": [
    "X_FD = main_df.drop(columns = ['FD_Pts', 'DK_Pts'])\n",
    "X_DK = main_df.drop(columns = ['FD_Pts', 'DK_Pts'])"
   ]
  },
  {
   "cell_type": "code",
   "execution_count": 316,
   "id": "7f5bf4c4-f71c-4013-a33a-a375cb03cc7d",
   "metadata": {},
   "outputs": [],
   "source": [
    "y_FD = main_df[['FD_Pts']]\n",
    "y_DK = main_df[['DK_Pts']]"
   ]
  },
  {
   "cell_type": "code",
   "execution_count": 317,
   "id": "1f203820-5f2d-48b0-8cbd-85d3dca562da",
   "metadata": {},
   "outputs": [],
   "source": [
    "X_FD_train, X_FD_test, y_FD_train, y_FD_test = train_test_split(X_FD, y_FD, test_size = .25, random_state = 42)"
   ]
  },
  {
   "cell_type": "code",
   "execution_count": 318,
   "id": "6a59ccfa-0653-4525-a61c-fa9b7810753d",
   "metadata": {},
   "outputs": [],
   "source": [
    "X_DK_train, X_DK_test, y_DK_train, y_DK_test = train_test_split(X_DK, y_DK, test_size = .25, random_state = 42)"
   ]
  },
  {
   "cell_type": "code",
   "execution_count": 319,
   "id": "183e9f4c-c479-437d-92aa-6104971241e4",
   "metadata": {},
   "outputs": [],
   "source": [
    "from sklearn.preprocessing import StandardScaler"
   ]
  },
  {
   "cell_type": "code",
   "execution_count": 320,
   "id": "f6f106ec-7a3a-415e-85c2-8acc8b9ed3b0",
   "metadata": {},
   "outputs": [],
   "source": [
    "# Initialize the scaler\n",
    "scaler_fd = StandardScaler()\n",
    "scaler_dk = StandardScaler()"
   ]
  },
  {
   "cell_type": "code",
   "execution_count": 321,
   "id": "fc23e6aa-c198-4439-84f0-d8dcb6fa7baf",
   "metadata": {},
   "outputs": [],
   "source": [
    "# Fit the scaler on the training data and transform the training data for FanDuel\n",
    "X_FD_train_scaled = scaler_fd.fit_transform(X_FD_train)"
   ]
  },
  {
   "cell_type": "code",
   "execution_count": 322,
   "id": "51e45ebb-9136-4e66-b0cb-c624c6865e04",
   "metadata": {},
   "outputs": [],
   "source": [
    "# Use the already-fitted scaler to transform the test data for FanDuel\n",
    "X_FD_test_scaled = scaler_fd.transform(X_FD_test)"
   ]
  },
  {
   "cell_type": "code",
   "execution_count": 323,
   "id": "7ed7a796-2896-4398-90c5-a27243343cc3",
   "metadata": {},
   "outputs": [],
   "source": [
    "# Fit the scaler on the training data and transform the training data for DraftKings\n",
    "X_DK_train_scaled = scaler_dk.fit_transform(X_DK_train)"
   ]
  },
  {
   "cell_type": "code",
   "execution_count": 324,
   "id": "2d4b6797-41e6-44c8-ac03-0e0619ca92b1",
   "metadata": {},
   "outputs": [],
   "source": [
    "# Use the already-fitted scaler to transform the test data for DraftKings\n",
    "X_DK_test_scaled = scaler_dk.transform(X_DK_test)"
   ]
  },
  {
   "cell_type": "code",
   "execution_count": 325,
   "id": "dcaf9318-e1f2-44bb-a194-1abdfe21c4e8",
   "metadata": {},
   "outputs": [],
   "source": [
    "X_FD_scaled_df = pd.DataFrame(X_FD_train_scaled, columns = X_FD_train.columns)"
   ]
  },
  {
   "cell_type": "code",
   "execution_count": 326,
   "id": "ace7b3a3-90b4-4d77-bb9f-00d12c2934de",
   "metadata": {},
   "outputs": [
    {
     "name": "stdout",
     "output_type": "stream",
     "text": [
      "FanDuel Scaled Data - Mean:\n",
      "FD_Pts_DvP              4.804443e-16\n",
      "DK_Pts_DvP              5.936918e-16\n",
      "QB_role                 2.076206e-16\n",
      "completions_L8          1.286904e-16\n",
      "attempts_L8            -1.870301e-16\n",
      "passing_yards_L8       -2.179158e-16\n",
      "passing_tds_L8         -7.893013e-17\n",
      "interceptions_L8       -1.295484e-16\n",
      "sacks_L8               -4.547062e-17\n",
      "passing_air_yards_L8    5.833966e-17\n",
      "pacr_L8                 6.949283e-17\n",
      "carries_L8              1.638658e-16\n",
      "rushing_yards_L8       -3.431745e-18\n",
      "rushing_tds_L8          7.549838e-17\n",
      "comp_pct                5.971236e-16\n",
      "yds_per_attempt        -1.630079e-17\n",
      "td_pct                  2.573809e-17\n",
      "sack_pct               -2.488015e-17\n",
      "int_pct                -5.147617e-18\n",
      "wind                    2.166289e-17\n",
      "div_game                4.246784e-17\n",
      "spread_line             8.579362e-19\n",
      "total_line             -1.278325e-16\n",
      "outdoors               -1.372698e-17\n",
      "grass                  -5.490791e-17\n",
      "home_team               6.863489e-18\n",
      "pred_total              3.646229e-16\n",
      "opp_total               3.854278e-16\n",
      "dtype: float64\n",
      "\n",
      "FanDuel Scaled Data - Standard Deviation:\n",
      "FD_Pts_DvP              1.000121\n",
      "DK_Pts_DvP              1.000121\n",
      "QB_role                 1.000121\n",
      "completions_L8          1.000121\n",
      "attempts_L8             1.000121\n",
      "passing_yards_L8        1.000121\n",
      "passing_tds_L8          1.000121\n",
      "interceptions_L8        1.000121\n",
      "sacks_L8                1.000121\n",
      "passing_air_yards_L8    1.000121\n",
      "pacr_L8                 1.000121\n",
      "carries_L8              1.000121\n",
      "rushing_yards_L8        1.000121\n",
      "rushing_tds_L8          1.000121\n",
      "comp_pct                1.000121\n",
      "yds_per_attempt         1.000121\n",
      "td_pct                  1.000121\n",
      "sack_pct                1.000121\n",
      "int_pct                 1.000121\n",
      "wind                    1.000121\n",
      "div_game                1.000121\n",
      "spread_line             1.000121\n",
      "total_line              1.000121\n",
      "outdoors                1.000121\n",
      "grass                   1.000121\n",
      "home_team               1.000121\n",
      "pred_total              1.000121\n",
      "opp_total               1.000121\n",
      "dtype: float64\n"
     ]
    }
   ],
   "source": [
    "# Check the mean and standard deviation of the scaled data\n",
    "print(\"FanDuel Scaled Data - Mean:\")\n",
    "print(X_FD_scaled_df.mean(axis=0))\n",
    "\n",
    "print(\"\\nFanDuel Scaled Data - Standard Deviation:\")\n",
    "print(X_FD_scaled_df.std(axis=0))"
   ]
  },
  {
   "cell_type": "code",
   "execution_count": 327,
   "id": "2bef6743-a909-44f1-8296-736f13f43646",
   "metadata": {},
   "outputs": [],
   "source": [
    "X_DK_scaled_df = pd.DataFrame(X_DK_train_scaled, columns = X_DK_train.columns)"
   ]
  },
  {
   "cell_type": "code",
   "execution_count": 328,
   "id": "f03ae33a-1a37-4e0c-b2b8-7adac18aa6ff",
   "metadata": {},
   "outputs": [
    {
     "name": "stdout",
     "output_type": "stream",
     "text": [
      "\n",
      "DraftKings Scaled Data - Mean:\n",
      "FD_Pts_DvP              4.804443e-16\n",
      "DK_Pts_DvP              5.936918e-16\n",
      "QB_role                 2.076206e-16\n",
      "completions_L8          1.286904e-16\n",
      "attempts_L8            -1.870301e-16\n",
      "passing_yards_L8       -2.179158e-16\n",
      "passing_tds_L8         -7.893013e-17\n",
      "interceptions_L8       -1.295484e-16\n",
      "sacks_L8               -4.547062e-17\n",
      "passing_air_yards_L8    5.833966e-17\n",
      "pacr_L8                 6.949283e-17\n",
      "carries_L8              1.638658e-16\n",
      "rushing_yards_L8       -3.431745e-18\n",
      "rushing_tds_L8          7.549838e-17\n",
      "comp_pct                5.971236e-16\n",
      "yds_per_attempt        -1.630079e-17\n",
      "td_pct                  2.573809e-17\n",
      "sack_pct               -2.488015e-17\n",
      "int_pct                -5.147617e-18\n",
      "wind                    2.166289e-17\n",
      "div_game                4.246784e-17\n",
      "spread_line             8.579362e-19\n",
      "total_line             -1.278325e-16\n",
      "outdoors               -1.372698e-17\n",
      "grass                  -5.490791e-17\n",
      "home_team               6.863489e-18\n",
      "pred_total              3.646229e-16\n",
      "opp_total               3.854278e-16\n",
      "dtype: float64\n",
      "\n",
      "DraftKings Scaled Data - Standard Deviation:\n",
      "FD_Pts_DvP              1.000121\n",
      "DK_Pts_DvP              1.000121\n",
      "QB_role                 1.000121\n",
      "completions_L8          1.000121\n",
      "attempts_L8             1.000121\n",
      "passing_yards_L8        1.000121\n",
      "passing_tds_L8          1.000121\n",
      "interceptions_L8        1.000121\n",
      "sacks_L8                1.000121\n",
      "passing_air_yards_L8    1.000121\n",
      "pacr_L8                 1.000121\n",
      "carries_L8              1.000121\n",
      "rushing_yards_L8        1.000121\n",
      "rushing_tds_L8          1.000121\n",
      "comp_pct                1.000121\n",
      "yds_per_attempt         1.000121\n",
      "td_pct                  1.000121\n",
      "sack_pct                1.000121\n",
      "int_pct                 1.000121\n",
      "wind                    1.000121\n",
      "div_game                1.000121\n",
      "spread_line             1.000121\n",
      "total_line              1.000121\n",
      "outdoors                1.000121\n",
      "grass                   1.000121\n",
      "home_team               1.000121\n",
      "pred_total              1.000121\n",
      "opp_total               1.000121\n",
      "dtype: float64\n"
     ]
    }
   ],
   "source": [
    "# Check the mean and standard deviation of the scaled data\n",
    "print(\"\\nDraftKings Scaled Data - Mean:\")\n",
    "print(X_DK_scaled_df.mean(axis=0))\n",
    "\n",
    "print(\"\\nDraftKings Scaled Data - Standard Deviation:\")\n",
    "print(X_DK_scaled_df.std(axis=0))"
   ]
  },
  {
   "cell_type": "code",
   "execution_count": null,
   "id": "7f25d2b5-4aaa-464b-a849-2d95a5e31196",
   "metadata": {},
   "outputs": [],
   "source": []
  },
  {
   "cell_type": "code",
   "execution_count": null,
   "id": "b67ab697-c279-4d60-ba67-0b59bc99ca28",
   "metadata": {},
   "outputs": [],
   "source": []
  },
  {
   "cell_type": "code",
   "execution_count": 329,
   "id": "84490f71-fe43-4306-a941-9affae5a613b",
   "metadata": {},
   "outputs": [],
   "source": [
    "from sklearn.linear_model import LinearRegression\n",
    "from sklearn.neighbors import KNeighborsRegressor"
   ]
  },
  {
   "cell_type": "code",
   "execution_count": 330,
   "id": "555e6113-ea81-4a46-bc2f-09d3d0add452",
   "metadata": {},
   "outputs": [],
   "source": [
    "from sklearn.metrics import mean_absolute_error"
   ]
  },
  {
   "cell_type": "code",
   "execution_count": 331,
   "id": "f49749f3-16cc-4e7b-9e83-1869dea8a3d9",
   "metadata": {},
   "outputs": [],
   "source": [
    "from sklearn.model_selection import GridSearchCV"
   ]
  },
  {
   "cell_type": "code",
   "execution_count": null,
   "id": "5a70465d-a0f3-4262-ae95-850210f067a3",
   "metadata": {},
   "outputs": [],
   "source": []
  },
  {
   "cell_type": "markdown",
   "id": "76174aa0-b8b5-4054-9f6f-a1c093c282f2",
   "metadata": {},
   "source": [
    "# K Nearest Neighbors\n",
    "## FanDuel"
   ]
  },
  {
   "cell_type": "code",
   "execution_count": 332,
   "id": "b4134f59-f52b-4518-a0f0-7c7387fcaf6a",
   "metadata": {},
   "outputs": [],
   "source": [
    "# Lists to store the RMSE values and corresponding number of neighbors\n",
    "# rmse_list_FD = []\n",
    "# neighbors_list_FD = []"
   ]
  },
  {
   "cell_type": "code",
   "execution_count": 333,
   "id": "9586670d-da16-4ab5-aa70-b643d8e4eca9",
   "metadata": {},
   "outputs": [],
   "source": [
    "param_grid = {\n",
    "    'n_neighbors': range(1, 101),  # Testing n_neighbors from 1 to 100\n",
    "}"
   ]
  },
  {
   "cell_type": "code",
   "execution_count": 334,
   "id": "c7a8a19a-23e0-4dd2-aa7c-7fcc0440b3d6",
   "metadata": {},
   "outputs": [],
   "source": [
    "knn_FD = KNeighborsRegressor()"
   ]
  },
  {
   "cell_type": "code",
   "execution_count": 335,
   "id": "c3fa1f65-edcd-4cfe-988e-efecab696208",
   "metadata": {},
   "outputs": [],
   "source": [
    "grid_search = GridSearchCV(knn_FD, param_grid, cv=5, scoring='neg_mean_squared_error', verbose=1, n_jobs=-1)"
   ]
  },
  {
   "cell_type": "code",
   "execution_count": 336,
   "id": "ccf293ef-7619-41da-b1f4-9b94b064ebde",
   "metadata": {},
   "outputs": [
    {
     "name": "stdout",
     "output_type": "stream",
     "text": [
      "Fitting 5 folds for each of 100 candidates, totalling 500 fits\n"
     ]
    },
    {
     "data": {
      "text/html": [
       "<style>#sk-container-id-9 {color: black;}#sk-container-id-9 pre{padding: 0;}#sk-container-id-9 div.sk-toggleable {background-color: white;}#sk-container-id-9 label.sk-toggleable__label {cursor: pointer;display: block;width: 100%;margin-bottom: 0;padding: 0.3em;box-sizing: border-box;text-align: center;}#sk-container-id-9 label.sk-toggleable__label-arrow:before {content: \"▸\";float: left;margin-right: 0.25em;color: #696969;}#sk-container-id-9 label.sk-toggleable__label-arrow:hover:before {color: black;}#sk-container-id-9 div.sk-estimator:hover label.sk-toggleable__label-arrow:before {color: black;}#sk-container-id-9 div.sk-toggleable__content {max-height: 0;max-width: 0;overflow: hidden;text-align: left;background-color: #f0f8ff;}#sk-container-id-9 div.sk-toggleable__content pre {margin: 0.2em;color: black;border-radius: 0.25em;background-color: #f0f8ff;}#sk-container-id-9 input.sk-toggleable__control:checked~div.sk-toggleable__content {max-height: 200px;max-width: 100%;overflow: auto;}#sk-container-id-9 input.sk-toggleable__control:checked~label.sk-toggleable__label-arrow:before {content: \"▾\";}#sk-container-id-9 div.sk-estimator input.sk-toggleable__control:checked~label.sk-toggleable__label {background-color: #d4ebff;}#sk-container-id-9 div.sk-label input.sk-toggleable__control:checked~label.sk-toggleable__label {background-color: #d4ebff;}#sk-container-id-9 input.sk-hidden--visually {border: 0;clip: rect(1px 1px 1px 1px);clip: rect(1px, 1px, 1px, 1px);height: 1px;margin: -1px;overflow: hidden;padding: 0;position: absolute;width: 1px;}#sk-container-id-9 div.sk-estimator {font-family: monospace;background-color: #f0f8ff;border: 1px dotted black;border-radius: 0.25em;box-sizing: border-box;margin-bottom: 0.5em;}#sk-container-id-9 div.sk-estimator:hover {background-color: #d4ebff;}#sk-container-id-9 div.sk-parallel-item::after {content: \"\";width: 100%;border-bottom: 1px solid gray;flex-grow: 1;}#sk-container-id-9 div.sk-label:hover label.sk-toggleable__label {background-color: #d4ebff;}#sk-container-id-9 div.sk-serial::before {content: \"\";position: absolute;border-left: 1px solid gray;box-sizing: border-box;top: 0;bottom: 0;left: 50%;z-index: 0;}#sk-container-id-9 div.sk-serial {display: flex;flex-direction: column;align-items: center;background-color: white;padding-right: 0.2em;padding-left: 0.2em;position: relative;}#sk-container-id-9 div.sk-item {position: relative;z-index: 1;}#sk-container-id-9 div.sk-parallel {display: flex;align-items: stretch;justify-content: center;background-color: white;position: relative;}#sk-container-id-9 div.sk-item::before, #sk-container-id-9 div.sk-parallel-item::before {content: \"\";position: absolute;border-left: 1px solid gray;box-sizing: border-box;top: 0;bottom: 0;left: 50%;z-index: -1;}#sk-container-id-9 div.sk-parallel-item {display: flex;flex-direction: column;z-index: 1;position: relative;background-color: white;}#sk-container-id-9 div.sk-parallel-item:first-child::after {align-self: flex-end;width: 50%;}#sk-container-id-9 div.sk-parallel-item:last-child::after {align-self: flex-start;width: 50%;}#sk-container-id-9 div.sk-parallel-item:only-child::after {width: 0;}#sk-container-id-9 div.sk-dashed-wrapped {border: 1px dashed gray;margin: 0 0.4em 0.5em 0.4em;box-sizing: border-box;padding-bottom: 0.4em;background-color: white;}#sk-container-id-9 div.sk-label label {font-family: monospace;font-weight: bold;display: inline-block;line-height: 1.2em;}#sk-container-id-9 div.sk-label-container {text-align: center;}#sk-container-id-9 div.sk-container {/* jupyter's `normalize.less` sets `[hidden] { display: none; }` but bootstrap.min.css set `[hidden] { display: none !important; }` so we also need the `!important` here to be able to override the default hidden behavior on the sphinx rendered scikit-learn.org. See: https://github.com/scikit-learn/scikit-learn/issues/21755 */display: inline-block !important;position: relative;}#sk-container-id-9 div.sk-text-repr-fallback {display: none;}</style><div id=\"sk-container-id-9\" class=\"sk-top-container\"><div class=\"sk-text-repr-fallback\"><pre>GridSearchCV(cv=5, estimator=KNeighborsRegressor(), n_jobs=-1,\n",
       "             param_grid={&#x27;n_neighbors&#x27;: range(1, 101)},\n",
       "             scoring=&#x27;neg_mean_squared_error&#x27;, verbose=1)</pre><b>In a Jupyter environment, please rerun this cell to show the HTML representation or trust the notebook. <br />On GitHub, the HTML representation is unable to render, please try loading this page with nbviewer.org.</b></div><div class=\"sk-container\" hidden><div class=\"sk-item sk-dashed-wrapped\"><div class=\"sk-label-container\"><div class=\"sk-label sk-toggleable\"><input class=\"sk-toggleable__control sk-hidden--visually\" id=\"sk-estimator-id-19\" type=\"checkbox\" ><label for=\"sk-estimator-id-19\" class=\"sk-toggleable__label sk-toggleable__label-arrow\">GridSearchCV</label><div class=\"sk-toggleable__content\"><pre>GridSearchCV(cv=5, estimator=KNeighborsRegressor(), n_jobs=-1,\n",
       "             param_grid={&#x27;n_neighbors&#x27;: range(1, 101)},\n",
       "             scoring=&#x27;neg_mean_squared_error&#x27;, verbose=1)</pre></div></div></div><div class=\"sk-parallel\"><div class=\"sk-parallel-item\"><div class=\"sk-item\"><div class=\"sk-label-container\"><div class=\"sk-label sk-toggleable\"><input class=\"sk-toggleable__control sk-hidden--visually\" id=\"sk-estimator-id-20\" type=\"checkbox\" ><label for=\"sk-estimator-id-20\" class=\"sk-toggleable__label sk-toggleable__label-arrow\">estimator: KNeighborsRegressor</label><div class=\"sk-toggleable__content\"><pre>KNeighborsRegressor()</pre></div></div></div><div class=\"sk-serial\"><div class=\"sk-item\"><div class=\"sk-estimator sk-toggleable\"><input class=\"sk-toggleable__control sk-hidden--visually\" id=\"sk-estimator-id-21\" type=\"checkbox\" ><label for=\"sk-estimator-id-21\" class=\"sk-toggleable__label sk-toggleable__label-arrow\">KNeighborsRegressor</label><div class=\"sk-toggleable__content\"><pre>KNeighborsRegressor()</pre></div></div></div></div></div></div></div></div></div></div>"
      ],
      "text/plain": [
       "GridSearchCV(cv=5, estimator=KNeighborsRegressor(), n_jobs=-1,\n",
       "             param_grid={'n_neighbors': range(1, 101)},\n",
       "             scoring='neg_mean_squared_error', verbose=1)"
      ]
     },
     "execution_count": 336,
     "metadata": {},
     "output_type": "execute_result"
    }
   ],
   "source": [
    "grid_search.fit(X_FD_train_scaled, y_FD_train)"
   ]
  },
  {
   "cell_type": "code",
   "execution_count": 337,
   "id": "36484cbc-2797-4e72-8a05-8403d06de6ba",
   "metadata": {},
   "outputs": [
    {
     "name": "stdout",
     "output_type": "stream",
     "text": [
      "Best parameters: {'n_neighbors': 35}\n",
      "Mean Absolute Error: 5.581500775835316\n",
      "Root Mean Squared Error: 7.077679118367947\n"
     ]
    }
   ],
   "source": [
    "# Best parameters found by GridSearchCV\n",
    "best_params = grid_search.best_params_\n",
    "print(f\"Best parameters: {best_params}\")\n",
    "\n",
    "# Best model\n",
    "best_knn_model = grid_search.best_estimator_\n",
    "\n",
    "# Evaluate on the test set\n",
    "y_pred = best_knn_model.predict(X_FD_test_scaled)\n",
    "\n",
    "best_rmse = mean_squared_error(y_FD_test, y_pred, squared=False)\n",
    "# Calculate and print the final errors\n",
    "print(f\"Mean Absolute Error: {mean_absolute_error(y_FD_test, y_pred)}\")\n",
    "print(f\"Root Mean Squared Error: {best_rmse}\")"
   ]
  },
  {
   "cell_type": "code",
   "execution_count": 338,
   "id": "d42556cb-6f50-48b4-9ff3-198f5600be81",
   "metadata": {},
   "outputs": [],
   "source": [
    "error_dict_FD['KNN'] = {'best_params': best_params, 'best_rmse': best_rmse}"
   ]
  },
  {
   "cell_type": "markdown",
   "id": "b5779aad-de1c-4921-aea6-b0b1ea9a5615",
   "metadata": {},
   "source": [
    "## DraftKings"
   ]
  },
  {
   "cell_type": "code",
   "execution_count": 339,
   "id": "75298a96-2bf9-470c-bf0b-f4d35c091d09",
   "metadata": {},
   "outputs": [],
   "source": [
    "knn_DK = KNeighborsRegressor()"
   ]
  },
  {
   "cell_type": "code",
   "execution_count": 340,
   "id": "0ede9d16-aca1-4b41-ae19-39950679a1af",
   "metadata": {},
   "outputs": [],
   "source": [
    "grid_search = GridSearchCV(knn_DK, param_grid, cv=5, scoring='neg_mean_squared_error', verbose=1, n_jobs=-1)"
   ]
  },
  {
   "cell_type": "code",
   "execution_count": 341,
   "id": "3d5e0bcc-3785-428a-8b85-da3f374435d1",
   "metadata": {},
   "outputs": [
    {
     "name": "stdout",
     "output_type": "stream",
     "text": [
      "Fitting 5 folds for each of 100 candidates, totalling 500 fits\n"
     ]
    },
    {
     "data": {
      "text/html": [
       "<style>#sk-container-id-10 {color: black;}#sk-container-id-10 pre{padding: 0;}#sk-container-id-10 div.sk-toggleable {background-color: white;}#sk-container-id-10 label.sk-toggleable__label {cursor: pointer;display: block;width: 100%;margin-bottom: 0;padding: 0.3em;box-sizing: border-box;text-align: center;}#sk-container-id-10 label.sk-toggleable__label-arrow:before {content: \"▸\";float: left;margin-right: 0.25em;color: #696969;}#sk-container-id-10 label.sk-toggleable__label-arrow:hover:before {color: black;}#sk-container-id-10 div.sk-estimator:hover label.sk-toggleable__label-arrow:before {color: black;}#sk-container-id-10 div.sk-toggleable__content {max-height: 0;max-width: 0;overflow: hidden;text-align: left;background-color: #f0f8ff;}#sk-container-id-10 div.sk-toggleable__content pre {margin: 0.2em;color: black;border-radius: 0.25em;background-color: #f0f8ff;}#sk-container-id-10 input.sk-toggleable__control:checked~div.sk-toggleable__content {max-height: 200px;max-width: 100%;overflow: auto;}#sk-container-id-10 input.sk-toggleable__control:checked~label.sk-toggleable__label-arrow:before {content: \"▾\";}#sk-container-id-10 div.sk-estimator input.sk-toggleable__control:checked~label.sk-toggleable__label {background-color: #d4ebff;}#sk-container-id-10 div.sk-label input.sk-toggleable__control:checked~label.sk-toggleable__label {background-color: #d4ebff;}#sk-container-id-10 input.sk-hidden--visually {border: 0;clip: rect(1px 1px 1px 1px);clip: rect(1px, 1px, 1px, 1px);height: 1px;margin: -1px;overflow: hidden;padding: 0;position: absolute;width: 1px;}#sk-container-id-10 div.sk-estimator {font-family: monospace;background-color: #f0f8ff;border: 1px dotted black;border-radius: 0.25em;box-sizing: border-box;margin-bottom: 0.5em;}#sk-container-id-10 div.sk-estimator:hover {background-color: #d4ebff;}#sk-container-id-10 div.sk-parallel-item::after {content: \"\";width: 100%;border-bottom: 1px solid gray;flex-grow: 1;}#sk-container-id-10 div.sk-label:hover label.sk-toggleable__label {background-color: #d4ebff;}#sk-container-id-10 div.sk-serial::before {content: \"\";position: absolute;border-left: 1px solid gray;box-sizing: border-box;top: 0;bottom: 0;left: 50%;z-index: 0;}#sk-container-id-10 div.sk-serial {display: flex;flex-direction: column;align-items: center;background-color: white;padding-right: 0.2em;padding-left: 0.2em;position: relative;}#sk-container-id-10 div.sk-item {position: relative;z-index: 1;}#sk-container-id-10 div.sk-parallel {display: flex;align-items: stretch;justify-content: center;background-color: white;position: relative;}#sk-container-id-10 div.sk-item::before, #sk-container-id-10 div.sk-parallel-item::before {content: \"\";position: absolute;border-left: 1px solid gray;box-sizing: border-box;top: 0;bottom: 0;left: 50%;z-index: -1;}#sk-container-id-10 div.sk-parallel-item {display: flex;flex-direction: column;z-index: 1;position: relative;background-color: white;}#sk-container-id-10 div.sk-parallel-item:first-child::after {align-self: flex-end;width: 50%;}#sk-container-id-10 div.sk-parallel-item:last-child::after {align-self: flex-start;width: 50%;}#sk-container-id-10 div.sk-parallel-item:only-child::after {width: 0;}#sk-container-id-10 div.sk-dashed-wrapped {border: 1px dashed gray;margin: 0 0.4em 0.5em 0.4em;box-sizing: border-box;padding-bottom: 0.4em;background-color: white;}#sk-container-id-10 div.sk-label label {font-family: monospace;font-weight: bold;display: inline-block;line-height: 1.2em;}#sk-container-id-10 div.sk-label-container {text-align: center;}#sk-container-id-10 div.sk-container {/* jupyter's `normalize.less` sets `[hidden] { display: none; }` but bootstrap.min.css set `[hidden] { display: none !important; }` so we also need the `!important` here to be able to override the default hidden behavior on the sphinx rendered scikit-learn.org. See: https://github.com/scikit-learn/scikit-learn/issues/21755 */display: inline-block !important;position: relative;}#sk-container-id-10 div.sk-text-repr-fallback {display: none;}</style><div id=\"sk-container-id-10\" class=\"sk-top-container\"><div class=\"sk-text-repr-fallback\"><pre>GridSearchCV(cv=5, estimator=KNeighborsRegressor(), n_jobs=-1,\n",
       "             param_grid={&#x27;n_neighbors&#x27;: range(1, 101)},\n",
       "             scoring=&#x27;neg_mean_squared_error&#x27;, verbose=1)</pre><b>In a Jupyter environment, please rerun this cell to show the HTML representation or trust the notebook. <br />On GitHub, the HTML representation is unable to render, please try loading this page with nbviewer.org.</b></div><div class=\"sk-container\" hidden><div class=\"sk-item sk-dashed-wrapped\"><div class=\"sk-label-container\"><div class=\"sk-label sk-toggleable\"><input class=\"sk-toggleable__control sk-hidden--visually\" id=\"sk-estimator-id-22\" type=\"checkbox\" ><label for=\"sk-estimator-id-22\" class=\"sk-toggleable__label sk-toggleable__label-arrow\">GridSearchCV</label><div class=\"sk-toggleable__content\"><pre>GridSearchCV(cv=5, estimator=KNeighborsRegressor(), n_jobs=-1,\n",
       "             param_grid={&#x27;n_neighbors&#x27;: range(1, 101)},\n",
       "             scoring=&#x27;neg_mean_squared_error&#x27;, verbose=1)</pre></div></div></div><div class=\"sk-parallel\"><div class=\"sk-parallel-item\"><div class=\"sk-item\"><div class=\"sk-label-container\"><div class=\"sk-label sk-toggleable\"><input class=\"sk-toggleable__control sk-hidden--visually\" id=\"sk-estimator-id-23\" type=\"checkbox\" ><label for=\"sk-estimator-id-23\" class=\"sk-toggleable__label sk-toggleable__label-arrow\">estimator: KNeighborsRegressor</label><div class=\"sk-toggleable__content\"><pre>KNeighborsRegressor()</pre></div></div></div><div class=\"sk-serial\"><div class=\"sk-item\"><div class=\"sk-estimator sk-toggleable\"><input class=\"sk-toggleable__control sk-hidden--visually\" id=\"sk-estimator-id-24\" type=\"checkbox\" ><label for=\"sk-estimator-id-24\" class=\"sk-toggleable__label sk-toggleable__label-arrow\">KNeighborsRegressor</label><div class=\"sk-toggleable__content\"><pre>KNeighborsRegressor()</pre></div></div></div></div></div></div></div></div></div></div>"
      ],
      "text/plain": [
       "GridSearchCV(cv=5, estimator=KNeighborsRegressor(), n_jobs=-1,\n",
       "             param_grid={'n_neighbors': range(1, 101)},\n",
       "             scoring='neg_mean_squared_error', verbose=1)"
      ]
     },
     "execution_count": 341,
     "metadata": {},
     "output_type": "execute_result"
    }
   ],
   "source": [
    "grid_search.fit(X_DK_train_scaled, y_DK_train)"
   ]
  },
  {
   "cell_type": "code",
   "execution_count": 342,
   "id": "f11150f2-f4c6-486a-ab46-ceca8b878ad8",
   "metadata": {},
   "outputs": [
    {
     "name": "stdout",
     "output_type": "stream",
     "text": [
      "Best parameters: {'n_neighbors': 35}\n",
      "Mean Absolute Error: 6.078503775731871\n",
      "Root Mean Squared Error: 7.704548048681453\n"
     ]
    }
   ],
   "source": [
    "# Best parameters found by GridSearchCV\n",
    "best_params = grid_search.best_params_\n",
    "print(f\"Best parameters: {best_params}\")\n",
    "\n",
    "# Best model\n",
    "best_knn_model = grid_search.best_estimator_\n",
    "\n",
    "# Evaluate on the test set\n",
    "y_pred = best_knn_model.predict(X_DK_test_scaled)\n",
    "\n",
    "best_rmse = mean_squared_error(y_DK_test, y_pred, squared=False)\n",
    "# Calculate and print the final errors\n",
    "print(f\"Mean Absolute Error: {mean_absolute_error(y_DK_test, y_pred)}\")\n",
    "print(f\"Root Mean Squared Error: {best_rmse}\")"
   ]
  },
  {
   "cell_type": "code",
   "execution_count": 343,
   "id": "e4b8e7b9-0d68-42b4-b872-3f0bd81e5573",
   "metadata": {},
   "outputs": [],
   "source": [
    "error_dict_DK['KNN'] = {'best_params': best_params, 'best_rmse': best_rmse}"
   ]
  },
  {
   "cell_type": "code",
   "execution_count": null,
   "id": "95c32ac1-470f-47a2-b3b5-79ede965c675",
   "metadata": {},
   "outputs": [],
   "source": []
  },
  {
   "cell_type": "markdown",
   "id": "92936982-1c29-40e9-8202-da9dff60c724",
   "metadata": {},
   "source": [
    "# Linear Regression"
   ]
  },
  {
   "cell_type": "markdown",
   "id": "caf20651-a0c6-4166-b353-8992152efe8c",
   "metadata": {},
   "source": [
    "## FanDuel"
   ]
  },
  {
   "cell_type": "code",
   "execution_count": 344,
   "id": "6b46a21f-f0b9-4281-b135-0cfbf7b43465",
   "metadata": {},
   "outputs": [],
   "source": [
    "base_LR_FD = LinearRegression()"
   ]
  },
  {
   "cell_type": "code",
   "execution_count": 345,
   "id": "b36eba9f-3f90-4b07-8595-e0cb0088e0b2",
   "metadata": {},
   "outputs": [
    {
     "data": {
      "text/html": [
       "<style>#sk-container-id-11 {color: black;}#sk-container-id-11 pre{padding: 0;}#sk-container-id-11 div.sk-toggleable {background-color: white;}#sk-container-id-11 label.sk-toggleable__label {cursor: pointer;display: block;width: 100%;margin-bottom: 0;padding: 0.3em;box-sizing: border-box;text-align: center;}#sk-container-id-11 label.sk-toggleable__label-arrow:before {content: \"▸\";float: left;margin-right: 0.25em;color: #696969;}#sk-container-id-11 label.sk-toggleable__label-arrow:hover:before {color: black;}#sk-container-id-11 div.sk-estimator:hover label.sk-toggleable__label-arrow:before {color: black;}#sk-container-id-11 div.sk-toggleable__content {max-height: 0;max-width: 0;overflow: hidden;text-align: left;background-color: #f0f8ff;}#sk-container-id-11 div.sk-toggleable__content pre {margin: 0.2em;color: black;border-radius: 0.25em;background-color: #f0f8ff;}#sk-container-id-11 input.sk-toggleable__control:checked~div.sk-toggleable__content {max-height: 200px;max-width: 100%;overflow: auto;}#sk-container-id-11 input.sk-toggleable__control:checked~label.sk-toggleable__label-arrow:before {content: \"▾\";}#sk-container-id-11 div.sk-estimator input.sk-toggleable__control:checked~label.sk-toggleable__label {background-color: #d4ebff;}#sk-container-id-11 div.sk-label input.sk-toggleable__control:checked~label.sk-toggleable__label {background-color: #d4ebff;}#sk-container-id-11 input.sk-hidden--visually {border: 0;clip: rect(1px 1px 1px 1px);clip: rect(1px, 1px, 1px, 1px);height: 1px;margin: -1px;overflow: hidden;padding: 0;position: absolute;width: 1px;}#sk-container-id-11 div.sk-estimator {font-family: monospace;background-color: #f0f8ff;border: 1px dotted black;border-radius: 0.25em;box-sizing: border-box;margin-bottom: 0.5em;}#sk-container-id-11 div.sk-estimator:hover {background-color: #d4ebff;}#sk-container-id-11 div.sk-parallel-item::after {content: \"\";width: 100%;border-bottom: 1px solid gray;flex-grow: 1;}#sk-container-id-11 div.sk-label:hover label.sk-toggleable__label {background-color: #d4ebff;}#sk-container-id-11 div.sk-serial::before {content: \"\";position: absolute;border-left: 1px solid gray;box-sizing: border-box;top: 0;bottom: 0;left: 50%;z-index: 0;}#sk-container-id-11 div.sk-serial {display: flex;flex-direction: column;align-items: center;background-color: white;padding-right: 0.2em;padding-left: 0.2em;position: relative;}#sk-container-id-11 div.sk-item {position: relative;z-index: 1;}#sk-container-id-11 div.sk-parallel {display: flex;align-items: stretch;justify-content: center;background-color: white;position: relative;}#sk-container-id-11 div.sk-item::before, #sk-container-id-11 div.sk-parallel-item::before {content: \"\";position: absolute;border-left: 1px solid gray;box-sizing: border-box;top: 0;bottom: 0;left: 50%;z-index: -1;}#sk-container-id-11 div.sk-parallel-item {display: flex;flex-direction: column;z-index: 1;position: relative;background-color: white;}#sk-container-id-11 div.sk-parallel-item:first-child::after {align-self: flex-end;width: 50%;}#sk-container-id-11 div.sk-parallel-item:last-child::after {align-self: flex-start;width: 50%;}#sk-container-id-11 div.sk-parallel-item:only-child::after {width: 0;}#sk-container-id-11 div.sk-dashed-wrapped {border: 1px dashed gray;margin: 0 0.4em 0.5em 0.4em;box-sizing: border-box;padding-bottom: 0.4em;background-color: white;}#sk-container-id-11 div.sk-label label {font-family: monospace;font-weight: bold;display: inline-block;line-height: 1.2em;}#sk-container-id-11 div.sk-label-container {text-align: center;}#sk-container-id-11 div.sk-container {/* jupyter's `normalize.less` sets `[hidden] { display: none; }` but bootstrap.min.css set `[hidden] { display: none !important; }` so we also need the `!important` here to be able to override the default hidden behavior on the sphinx rendered scikit-learn.org. See: https://github.com/scikit-learn/scikit-learn/issues/21755 */display: inline-block !important;position: relative;}#sk-container-id-11 div.sk-text-repr-fallback {display: none;}</style><div id=\"sk-container-id-11\" class=\"sk-top-container\"><div class=\"sk-text-repr-fallback\"><pre>LinearRegression()</pre><b>In a Jupyter environment, please rerun this cell to show the HTML representation or trust the notebook. <br />On GitHub, the HTML representation is unable to render, please try loading this page with nbviewer.org.</b></div><div class=\"sk-container\" hidden><div class=\"sk-item\"><div class=\"sk-estimator sk-toggleable\"><input class=\"sk-toggleable__control sk-hidden--visually\" id=\"sk-estimator-id-25\" type=\"checkbox\" checked><label for=\"sk-estimator-id-25\" class=\"sk-toggleable__label sk-toggleable__label-arrow\">LinearRegression</label><div class=\"sk-toggleable__content\"><pre>LinearRegression()</pre></div></div></div></div></div>"
      ],
      "text/plain": [
       "LinearRegression()"
      ]
     },
     "execution_count": 345,
     "metadata": {},
     "output_type": "execute_result"
    }
   ],
   "source": [
    "base_LR_FD.fit(X_FD_train_scaled, y_FD_train)"
   ]
  },
  {
   "cell_type": "code",
   "execution_count": 346,
   "id": "77b8af86-514b-4315-9ce0-0b90c3bfd82e",
   "metadata": {},
   "outputs": [],
   "source": [
    "base_LR_FD_pred = base_LR_FD.predict(X_FD_test_scaled)"
   ]
  },
  {
   "cell_type": "code",
   "execution_count": 347,
   "id": "048218e5-4154-4530-8a1e-56c17eb91fad",
   "metadata": {},
   "outputs": [
    {
     "name": "stdout",
     "output_type": "stream",
     "text": [
      "R_squared_train: 0.42686396082398403\n",
      "R_squared_test: 0.3982738890340183\n",
      "MAE: 5.340233944477924\n",
      "MSE: 46.94719042582289\n",
      "RMSE: 6.851801983845045\n"
     ]
    }
   ],
   "source": [
    "print(f\"R_squared_train: {base_LR_FD.score(X_FD_train_scaled, y_FD_train)}\")\n",
    "print(f\"R_squared_test: {base_LR_FD.score(X_FD_test_scaled, y_FD_test)}\")\n",
    "print(f\"MAE: {mean_absolute_error(y_FD_test, base_LR_FD_pred)}\")\n",
    "print(f\"MSE: {mean_squared_error(y_FD_test, base_LR_FD_pred)}\")\n",
    "print(f\"RMSE: {mean_squared_error(y_FD_test, base_LR_FD_pred, squared = False)}\")"
   ]
  },
  {
   "cell_type": "code",
   "execution_count": 348,
   "id": "f0591168-a0ea-4e95-b19d-7739148670f1",
   "metadata": {},
   "outputs": [],
   "source": [
    "from sklearn.linear_model import Ridge"
   ]
  },
  {
   "cell_type": "code",
   "execution_count": 349,
   "id": "b621b127-d72b-401d-a138-b14044bd4efa",
   "metadata": {},
   "outputs": [],
   "source": [
    "alpha_values = np.linspace(0.1, 100, 50)"
   ]
  },
  {
   "cell_type": "code",
   "execution_count": 350,
   "id": "cfb460bf-0721-45fc-9fd0-1a145f794c29",
   "metadata": {},
   "outputs": [
    {
     "name": "stdout",
     "output_type": "stream",
     "text": [
      "Ridge_model best params: {'alpha': 36.79795918367348}\n",
      "Ridge_model best score: 6.559775768704431\n"
     ]
    }
   ],
   "source": [
    "param_grid = {'alpha': alpha_values}\n",
    "Ridge_LR_FD = Ridge()\n",
    "Ridge_CV_FD = GridSearchCV(Ridge_LR_FD, param_grid, cv = 5, scoring = 'neg_root_mean_squared_error')\n",
    "Ridge_CV_FD.fit(X_FD_train_scaled, y_FD_train)\n",
    "best_params = Ridge_CV_FD.best_params_\n",
    "print(f\"Ridge_model best params: {best_params}\")\n",
    "print(f\"Ridge_model best score: {-Ridge_CV_FD.best_score_}\")"
   ]
  },
  {
   "cell_type": "code",
   "execution_count": 351,
   "id": "0b7b1779-4d06-4b89-af9e-7016ac42dba9",
   "metadata": {},
   "outputs": [
    {
     "name": "stdout",
     "output_type": "stream",
     "text": [
      "best_ridge train R-squared: 0.4265494180098788\n",
      "best_ridge test R-squared: 0.39830172984368606\n",
      "best_ridge MAE: 5.347921729257699\n",
      "best_ridge RMSE: 6.851643471593359\n",
      "best_ridge MSE: 46.945018261827904\n"
     ]
    }
   ],
   "source": [
    "best_ridge_FD = Ridge(alpha=36.79795918367348, random_state=42)\n",
    "best_ridge_FD.fit(X_FD_train_scaled, y_FD_train)  # Use the correct variable name\n",
    "y_pred = best_ridge_FD.predict(X_FD_test_scaled)  # Use the correct variable name\n",
    "\n",
    "best_rmse = mean_squared_error(y_FD_test, y_pred, squared=False)\n",
    "print(f\"best_ridge train R-squared: {best_ridge_FD.score(X_FD_train_scaled, y_FD_train)}\")\n",
    "print(f\"best_ridge test R-squared: {best_ridge_FD.score(X_FD_test_scaled, y_FD_test)}\")\n",
    "print(f\"best_ridge MAE: {mean_absolute_error(y_FD_test, y_pred)}\")\n",
    "print(f\"best_ridge RMSE: {best_rmse}\")\n",
    "print(f\"best_ridge MSE: {mean_squared_error(y_FD_test, y_pred)}\")"
   ]
  },
  {
   "cell_type": "code",
   "execution_count": 352,
   "id": "5ce5373d-4b6f-4c07-b599-b94b741296bd",
   "metadata": {},
   "outputs": [],
   "source": [
    "error_dict_FD['Linear_Regression'] = {'best_params': best_params, 'best_rmse': best_rmse}"
   ]
  },
  {
   "cell_type": "markdown",
   "id": "8be93ed4-816b-4051-8053-850b79536068",
   "metadata": {},
   "source": [
    "## DraftKings"
   ]
  },
  {
   "cell_type": "code",
   "execution_count": 353,
   "id": "1b46628e-3a3b-4e2f-af6e-17a441604015",
   "metadata": {},
   "outputs": [],
   "source": [
    "base_LR_DK = LinearRegression()"
   ]
  },
  {
   "cell_type": "code",
   "execution_count": 354,
   "id": "069f00ab-59dd-41ef-9c82-bca47f8d7f69",
   "metadata": {},
   "outputs": [
    {
     "data": {
      "text/html": [
       "<style>#sk-container-id-12 {color: black;}#sk-container-id-12 pre{padding: 0;}#sk-container-id-12 div.sk-toggleable {background-color: white;}#sk-container-id-12 label.sk-toggleable__label {cursor: pointer;display: block;width: 100%;margin-bottom: 0;padding: 0.3em;box-sizing: border-box;text-align: center;}#sk-container-id-12 label.sk-toggleable__label-arrow:before {content: \"▸\";float: left;margin-right: 0.25em;color: #696969;}#sk-container-id-12 label.sk-toggleable__label-arrow:hover:before {color: black;}#sk-container-id-12 div.sk-estimator:hover label.sk-toggleable__label-arrow:before {color: black;}#sk-container-id-12 div.sk-toggleable__content {max-height: 0;max-width: 0;overflow: hidden;text-align: left;background-color: #f0f8ff;}#sk-container-id-12 div.sk-toggleable__content pre {margin: 0.2em;color: black;border-radius: 0.25em;background-color: #f0f8ff;}#sk-container-id-12 input.sk-toggleable__control:checked~div.sk-toggleable__content {max-height: 200px;max-width: 100%;overflow: auto;}#sk-container-id-12 input.sk-toggleable__control:checked~label.sk-toggleable__label-arrow:before {content: \"▾\";}#sk-container-id-12 div.sk-estimator input.sk-toggleable__control:checked~label.sk-toggleable__label {background-color: #d4ebff;}#sk-container-id-12 div.sk-label input.sk-toggleable__control:checked~label.sk-toggleable__label {background-color: #d4ebff;}#sk-container-id-12 input.sk-hidden--visually {border: 0;clip: rect(1px 1px 1px 1px);clip: rect(1px, 1px, 1px, 1px);height: 1px;margin: -1px;overflow: hidden;padding: 0;position: absolute;width: 1px;}#sk-container-id-12 div.sk-estimator {font-family: monospace;background-color: #f0f8ff;border: 1px dotted black;border-radius: 0.25em;box-sizing: border-box;margin-bottom: 0.5em;}#sk-container-id-12 div.sk-estimator:hover {background-color: #d4ebff;}#sk-container-id-12 div.sk-parallel-item::after {content: \"\";width: 100%;border-bottom: 1px solid gray;flex-grow: 1;}#sk-container-id-12 div.sk-label:hover label.sk-toggleable__label {background-color: #d4ebff;}#sk-container-id-12 div.sk-serial::before {content: \"\";position: absolute;border-left: 1px solid gray;box-sizing: border-box;top: 0;bottom: 0;left: 50%;z-index: 0;}#sk-container-id-12 div.sk-serial {display: flex;flex-direction: column;align-items: center;background-color: white;padding-right: 0.2em;padding-left: 0.2em;position: relative;}#sk-container-id-12 div.sk-item {position: relative;z-index: 1;}#sk-container-id-12 div.sk-parallel {display: flex;align-items: stretch;justify-content: center;background-color: white;position: relative;}#sk-container-id-12 div.sk-item::before, #sk-container-id-12 div.sk-parallel-item::before {content: \"\";position: absolute;border-left: 1px solid gray;box-sizing: border-box;top: 0;bottom: 0;left: 50%;z-index: -1;}#sk-container-id-12 div.sk-parallel-item {display: flex;flex-direction: column;z-index: 1;position: relative;background-color: white;}#sk-container-id-12 div.sk-parallel-item:first-child::after {align-self: flex-end;width: 50%;}#sk-container-id-12 div.sk-parallel-item:last-child::after {align-self: flex-start;width: 50%;}#sk-container-id-12 div.sk-parallel-item:only-child::after {width: 0;}#sk-container-id-12 div.sk-dashed-wrapped {border: 1px dashed gray;margin: 0 0.4em 0.5em 0.4em;box-sizing: border-box;padding-bottom: 0.4em;background-color: white;}#sk-container-id-12 div.sk-label label {font-family: monospace;font-weight: bold;display: inline-block;line-height: 1.2em;}#sk-container-id-12 div.sk-label-container {text-align: center;}#sk-container-id-12 div.sk-container {/* jupyter's `normalize.less` sets `[hidden] { display: none; }` but bootstrap.min.css set `[hidden] { display: none !important; }` so we also need the `!important` here to be able to override the default hidden behavior on the sphinx rendered scikit-learn.org. See: https://github.com/scikit-learn/scikit-learn/issues/21755 */display: inline-block !important;position: relative;}#sk-container-id-12 div.sk-text-repr-fallback {display: none;}</style><div id=\"sk-container-id-12\" class=\"sk-top-container\"><div class=\"sk-text-repr-fallback\"><pre>LinearRegression()</pre><b>In a Jupyter environment, please rerun this cell to show the HTML representation or trust the notebook. <br />On GitHub, the HTML representation is unable to render, please try loading this page with nbviewer.org.</b></div><div class=\"sk-container\" hidden><div class=\"sk-item\"><div class=\"sk-estimator sk-toggleable\"><input class=\"sk-toggleable__control sk-hidden--visually\" id=\"sk-estimator-id-26\" type=\"checkbox\" checked><label for=\"sk-estimator-id-26\" class=\"sk-toggleable__label sk-toggleable__label-arrow\">LinearRegression</label><div class=\"sk-toggleable__content\"><pre>LinearRegression()</pre></div></div></div></div></div>"
      ],
      "text/plain": [
       "LinearRegression()"
      ]
     },
     "execution_count": 354,
     "metadata": {},
     "output_type": "execute_result"
    }
   ],
   "source": [
    "base_LR_DK.fit(X_DK_train_scaled, y_DK_train)"
   ]
  },
  {
   "cell_type": "code",
   "execution_count": 355,
   "id": "4ddbfa21-a0e2-46fe-ba89-fcc89b35ed84",
   "metadata": {},
   "outputs": [],
   "source": [
    "base_LR_DK_pred = base_LR_DK.predict(X_DK_test_scaled)"
   ]
  },
  {
   "cell_type": "code",
   "execution_count": 356,
   "id": "a9f52c99-2744-473d-baf5-c3e9e475c860",
   "metadata": {},
   "outputs": [
    {
     "name": "stdout",
     "output_type": "stream",
     "text": [
      "R_squared_train: 0.41584987238061843\n",
      "R_squared_test: 0.3878165431738878\n",
      "MAE: 5.822807114710806\n",
      "MSE: 55.808573217514265\n",
      "RMSE: 7.470513584588028\n"
     ]
    }
   ],
   "source": [
    "print(f\"R_squared_train: {base_LR_DK.score(X_DK_train_scaled, y_DK_train)}\")\n",
    "print(f\"R_squared_test: {base_LR_DK.score(X_DK_test_scaled, y_DK_test)}\")\n",
    "print(f\"MAE: {mean_absolute_error(y_DK_test, base_LR_DK_pred)}\")\n",
    "print(f\"MSE: {mean_squared_error(y_DK_test, base_LR_DK_pred)}\")\n",
    "print(f\"RMSE: {mean_squared_error(y_DK_test, base_LR_DK_pred, squared = False)}\")"
   ]
  },
  {
   "cell_type": "code",
   "execution_count": 357,
   "id": "63cbe50c-6d08-498e-939a-a19422124614",
   "metadata": {},
   "outputs": [],
   "source": [
    "alpha_values = np.linspace(0.1, 100, 50)"
   ]
  },
  {
   "cell_type": "code",
   "execution_count": 358,
   "id": "6ba90c54-fdc7-4a52-98e9-2f190dde851e",
   "metadata": {},
   "outputs": [
    {
     "name": "stdout",
     "output_type": "stream",
     "text": [
      "Ridge_model best params: {'alpha': 24.565306122448984}\n",
      "Ridge_model best score: 7.126070971354375\n"
     ]
    }
   ],
   "source": [
    "param_grid = {'alpha': alpha_values}\n",
    "Ridge_LR_DK = Ridge()\n",
    "Ridge_CV_DK = GridSearchCV(Ridge_LR_DK, param_grid, cv = 5, scoring = 'neg_root_mean_squared_error')\n",
    "Ridge_CV_DK.fit(X_DK_train_scaled, y_DK_train)\n",
    "best_params = Ridge_CV_DK.best_params_\n",
    "print(f\"Ridge_model best params: {best_params}\")\n",
    "print(f\"Ridge_model best score: {-Ridge_CV_DK.best_score_}\")"
   ]
  },
  {
   "cell_type": "code",
   "execution_count": 359,
   "id": "410e3dfa-8ef4-4b55-95f6-eb477ad7e819",
   "metadata": {},
   "outputs": [
    {
     "name": "stdout",
     "output_type": "stream",
     "text": [
      "best_ridge train R-squared: 0.41562934174267885\n",
      "best_ridge test R-squared: 0.38787745190510214\n",
      "best_ridge MAE: 5.827783726793055\n",
      "best_ridge RMSE: 7.470141938786919\n",
      "best_ridge MSE: 55.803020585623194\n"
     ]
    }
   ],
   "source": [
    "best_ridge_DK = Ridge(alpha=24.565306122448984, random_state=42)\n",
    "best_ridge_DK.fit(X_DK_train_scaled, y_DK_train)  # Use the correct variable name\n",
    "y_pred = best_ridge_DK.predict(X_DK_test_scaled)  # Use the correct variable name\n",
    "\n",
    "best_rmse = mean_squared_error(y_DK_test, y_pred, squared=False)\n",
    "print(f\"best_ridge train R-squared: {best_ridge_DK.score(X_DK_train_scaled, y_DK_train)}\")\n",
    "print(f\"best_ridge test R-squared: {best_ridge_DK.score(X_DK_test_scaled, y_DK_test)}\")\n",
    "print(f\"best_ridge MAE: {mean_absolute_error(y_DK_test, y_pred)}\")\n",
    "print(f\"best_ridge RMSE: {best_rmse}\")\n",
    "print(f\"best_ridge MSE: {mean_squared_error(y_DK_test, y_pred)}\")"
   ]
  },
  {
   "cell_type": "code",
   "execution_count": 360,
   "id": "51c3338b-b322-488a-8078-e43e5b806ea7",
   "metadata": {},
   "outputs": [],
   "source": [
    "error_dict_DK['Linear_Regression'] = {'best_params': best_params, 'best_rmse': best_rmse}"
   ]
  },
  {
   "cell_type": "code",
   "execution_count": 361,
   "id": "bc66980b-d406-4c59-9e49-7ba1b5e2a8d4",
   "metadata": {},
   "outputs": [
    {
     "data": {
      "text/plain": [
       "defaultdict(float,\n",
       "            {'KNN': {'best_params': {'n_neighbors': 35},\n",
       "              'best_rmse': 7.704548048681453},\n",
       "             'Linear_Regression': {'best_params': {'alpha': 24.565306122448984},\n",
       "              'best_rmse': 7.470141938786919}})"
      ]
     },
     "execution_count": 361,
     "metadata": {},
     "output_type": "execute_result"
    }
   ],
   "source": [
    "error_dict_DK"
   ]
  },
  {
   "cell_type": "code",
   "execution_count": null,
   "id": "aea05d68-1b0e-4657-a6e8-ef9248be78ad",
   "metadata": {},
   "outputs": [],
   "source": []
  },
  {
   "cell_type": "code",
   "execution_count": 362,
   "id": "815f4520-9425-4c26-a85a-dee458432f27",
   "metadata": {},
   "outputs": [],
   "source": [
    "from sklearn.metrics import make_scorer"
   ]
  },
  {
   "cell_type": "code",
   "execution_count": 363,
   "id": "40c4c924-fa7a-4776-aa76-f72278f70f1d",
   "metadata": {},
   "outputs": [],
   "source": [
    "rmse_scorer = make_scorer(mean_squared_error, squared=False, greater_is_better=False)"
   ]
  },
  {
   "cell_type": "code",
   "execution_count": 364,
   "id": "fe6a92c0-6629-4b50-a160-607389f59a67",
   "metadata": {},
   "outputs": [],
   "source": [
    "from sklearn.ensemble import RandomForestRegressor"
   ]
  },
  {
   "cell_type": "markdown",
   "id": "79bba62f-9d82-4e4a-b99c-4a076bdd7fe4",
   "metadata": {},
   "source": [
    "# Random Forest"
   ]
  },
  {
   "cell_type": "markdown",
   "id": "20357f98-e665-47cb-ada3-e9ec7c0ec5b8",
   "metadata": {},
   "source": [
    "## FanDuel"
   ]
  },
  {
   "cell_type": "code",
   "execution_count": 365,
   "id": "c8e44e85-7cbf-456c-8bfb-f2a67510008c",
   "metadata": {},
   "outputs": [],
   "source": [
    "base_RF_FD = RandomForestRegressor(random_state = 42)"
   ]
  },
  {
   "cell_type": "code",
   "execution_count": 366,
   "id": "aae9317d-ea07-4ee4-ade9-87473da5bd2f",
   "metadata": {},
   "outputs": [
    {
     "name": "stderr",
     "output_type": "stream",
     "text": [
      "C:\\Users\\Owner\\anaconda3\\envs\\nfl_dfs_model\\lib\\site-packages\\sklearn\\base.py:1152: DataConversionWarning: A column-vector y was passed when a 1d array was expected. Please change the shape of y to (n_samples,), for example using ravel().\n",
      "  return fit_method(estimator, *args, **kwargs)\n"
     ]
    },
    {
     "data": {
      "text/html": [
       "<style>#sk-container-id-13 {color: black;}#sk-container-id-13 pre{padding: 0;}#sk-container-id-13 div.sk-toggleable {background-color: white;}#sk-container-id-13 label.sk-toggleable__label {cursor: pointer;display: block;width: 100%;margin-bottom: 0;padding: 0.3em;box-sizing: border-box;text-align: center;}#sk-container-id-13 label.sk-toggleable__label-arrow:before {content: \"▸\";float: left;margin-right: 0.25em;color: #696969;}#sk-container-id-13 label.sk-toggleable__label-arrow:hover:before {color: black;}#sk-container-id-13 div.sk-estimator:hover label.sk-toggleable__label-arrow:before {color: black;}#sk-container-id-13 div.sk-toggleable__content {max-height: 0;max-width: 0;overflow: hidden;text-align: left;background-color: #f0f8ff;}#sk-container-id-13 div.sk-toggleable__content pre {margin: 0.2em;color: black;border-radius: 0.25em;background-color: #f0f8ff;}#sk-container-id-13 input.sk-toggleable__control:checked~div.sk-toggleable__content {max-height: 200px;max-width: 100%;overflow: auto;}#sk-container-id-13 input.sk-toggleable__control:checked~label.sk-toggleable__label-arrow:before {content: \"▾\";}#sk-container-id-13 div.sk-estimator input.sk-toggleable__control:checked~label.sk-toggleable__label {background-color: #d4ebff;}#sk-container-id-13 div.sk-label input.sk-toggleable__control:checked~label.sk-toggleable__label {background-color: #d4ebff;}#sk-container-id-13 input.sk-hidden--visually {border: 0;clip: rect(1px 1px 1px 1px);clip: rect(1px, 1px, 1px, 1px);height: 1px;margin: -1px;overflow: hidden;padding: 0;position: absolute;width: 1px;}#sk-container-id-13 div.sk-estimator {font-family: monospace;background-color: #f0f8ff;border: 1px dotted black;border-radius: 0.25em;box-sizing: border-box;margin-bottom: 0.5em;}#sk-container-id-13 div.sk-estimator:hover {background-color: #d4ebff;}#sk-container-id-13 div.sk-parallel-item::after {content: \"\";width: 100%;border-bottom: 1px solid gray;flex-grow: 1;}#sk-container-id-13 div.sk-label:hover label.sk-toggleable__label {background-color: #d4ebff;}#sk-container-id-13 div.sk-serial::before {content: \"\";position: absolute;border-left: 1px solid gray;box-sizing: border-box;top: 0;bottom: 0;left: 50%;z-index: 0;}#sk-container-id-13 div.sk-serial {display: flex;flex-direction: column;align-items: center;background-color: white;padding-right: 0.2em;padding-left: 0.2em;position: relative;}#sk-container-id-13 div.sk-item {position: relative;z-index: 1;}#sk-container-id-13 div.sk-parallel {display: flex;align-items: stretch;justify-content: center;background-color: white;position: relative;}#sk-container-id-13 div.sk-item::before, #sk-container-id-13 div.sk-parallel-item::before {content: \"\";position: absolute;border-left: 1px solid gray;box-sizing: border-box;top: 0;bottom: 0;left: 50%;z-index: -1;}#sk-container-id-13 div.sk-parallel-item {display: flex;flex-direction: column;z-index: 1;position: relative;background-color: white;}#sk-container-id-13 div.sk-parallel-item:first-child::after {align-self: flex-end;width: 50%;}#sk-container-id-13 div.sk-parallel-item:last-child::after {align-self: flex-start;width: 50%;}#sk-container-id-13 div.sk-parallel-item:only-child::after {width: 0;}#sk-container-id-13 div.sk-dashed-wrapped {border: 1px dashed gray;margin: 0 0.4em 0.5em 0.4em;box-sizing: border-box;padding-bottom: 0.4em;background-color: white;}#sk-container-id-13 div.sk-label label {font-family: monospace;font-weight: bold;display: inline-block;line-height: 1.2em;}#sk-container-id-13 div.sk-label-container {text-align: center;}#sk-container-id-13 div.sk-container {/* jupyter's `normalize.less` sets `[hidden] { display: none; }` but bootstrap.min.css set `[hidden] { display: none !important; }` so we also need the `!important` here to be able to override the default hidden behavior on the sphinx rendered scikit-learn.org. See: https://github.com/scikit-learn/scikit-learn/issues/21755 */display: inline-block !important;position: relative;}#sk-container-id-13 div.sk-text-repr-fallback {display: none;}</style><div id=\"sk-container-id-13\" class=\"sk-top-container\"><div class=\"sk-text-repr-fallback\"><pre>RandomForestRegressor(random_state=42)</pre><b>In a Jupyter environment, please rerun this cell to show the HTML representation or trust the notebook. <br />On GitHub, the HTML representation is unable to render, please try loading this page with nbviewer.org.</b></div><div class=\"sk-container\" hidden><div class=\"sk-item\"><div class=\"sk-estimator sk-toggleable\"><input class=\"sk-toggleable__control sk-hidden--visually\" id=\"sk-estimator-id-27\" type=\"checkbox\" checked><label for=\"sk-estimator-id-27\" class=\"sk-toggleable__label sk-toggleable__label-arrow\">RandomForestRegressor</label><div class=\"sk-toggleable__content\"><pre>RandomForestRegressor(random_state=42)</pre></div></div></div></div></div>"
      ],
      "text/plain": [
       "RandomForestRegressor(random_state=42)"
      ]
     },
     "execution_count": 366,
     "metadata": {},
     "output_type": "execute_result"
    }
   ],
   "source": [
    "base_RF_FD.fit(X_FD_train_scaled, y_FD_train)"
   ]
  },
  {
   "cell_type": "code",
   "execution_count": 367,
   "id": "1cdbacf5-c5ff-4f9b-9f98-afd31009ba86",
   "metadata": {},
   "outputs": [],
   "source": [
    "base_RF_FD_pred = base_RF_FD.predict(X_FD_test_scaled)"
   ]
  },
  {
   "cell_type": "code",
   "execution_count": 368,
   "id": "c749ebe3-d8d1-4b30-b7a2-1110ef4459f0",
   "metadata": {},
   "outputs": [
    {
     "name": "stdout",
     "output_type": "stream",
     "text": [
      "R_squared_train: 0.9172535126454029\n",
      "R_squared_test: 0.38187930824730143\n",
      "MAE: 5.356937291817523\n",
      "MSE: 48.22630976619841\n",
      "RMSE: 6.944516525014424\n"
     ]
    }
   ],
   "source": [
    "print(f\"R_squared_train: {base_RF_FD.score(X_FD_train_scaled, y_FD_train)}\")\n",
    "print(f\"R_squared_test: {base_RF_FD.score(X_FD_test_scaled, y_FD_test)}\")\n",
    "print(f\"MAE: {mean_absolute_error(y_FD_test, base_RF_FD_pred)}\")\n",
    "print(f\"MSE: {mean_squared_error(y_FD_test, base_RF_FD_pred)}\")\n",
    "print(f\"RMSE: {mean_squared_error(y_FD_test, base_RF_FD_pred, squared = False)}\")"
   ]
  },
  {
   "cell_type": "code",
   "execution_count": 369,
   "id": "c9f83772-1b55-4edd-b9e9-1b79761f6ce1",
   "metadata": {},
   "outputs": [],
   "source": [
    "from sklearn.model_selection import RandomizedSearchCV"
   ]
  },
  {
   "cell_type": "code",
   "execution_count": 370,
   "id": "73830dad-47c4-47cb-82aa-e6e42643b648",
   "metadata": {},
   "outputs": [
    {
     "name": "stdout",
     "output_type": "stream",
     "text": [
      "Fitting 3 folds for each of 60 candidates, totalling 180 fits\n",
      "Tuned Random Forest Best Estimator: RandomForestRegressor(max_depth=6, min_samples_leaf=4, min_samples_split=5,\n",
      "                      n_estimators=300, random_state=42)\n",
      "Tuned Random Forest Best Score: -6.495983191348486\n",
      "Tuned Random Forest Best Params: {'n_estimators': 300, 'min_samples_split': 5, 'min_samples_leaf': 4, 'max_depth': 6}\n"
     ]
    }
   ],
   "source": [
    "param_dist = {'max_depth': [3, 6, 9, 12, 15],\\\n",
    "              'n_estimators': [100, 300, 500, 700],\\\n",
    "             'min_samples_split': [2, 5, 10],\\\n",
    "              'min_samples_leaf': [1, 2, 4]}\n",
    "y_FD_train = y_FD_train.values.ravel()\n",
    "RF_Random_CV_FD = RandomizedSearchCV(base_RF_FD, param_distributions=param_dist, n_iter=60, scoring=rmse_scorer,\\\n",
    "                                     cv=3, n_jobs=2, verbose=2, random_state=42)\n",
    "RF_Random_CV_FD.fit(X_FD_train_scaled, y_FD_train)\n",
    "best_params = RF_Random_CV_FD.best_params_\n",
    "print(f\"Tuned Random Forest Best Estimator: {RF_Random_CV_FD.best_estimator_}\")\n",
    "print(f\"Tuned Random Forest Best Score: {RF_Random_CV_FD.best_score_}\")\n",
    "print(f\"Tuned Random Forest Best Params: {best_params}\")"
   ]
  },
  {
   "cell_type": "code",
   "execution_count": 371,
   "id": "03fdfcb4-fffa-4f36-a11b-e44f8563bcee",
   "metadata": {},
   "outputs": [
    {
     "name": "stdout",
     "output_type": "stream",
     "text": [
      "Best_RF Train R-squared: 0.5057513081130933\n",
      "Best_RF Test R-squared: 0.40828760962168187\n",
      "Best_RF MAE: 5.230291444694439\n",
      "Best_RF RMSE: 6.794550117882793\n",
      "Best_RF MSE: 46.16591130442109\n"
     ]
    }
   ],
   "source": [
    "best_RF_FD = RandomForestRegressor(max_depth=6, n_estimators=300, min_samples_split = 5, min_samples_leaf = 4, random_state=42)\n",
    "best_RF_FD.fit(X_FD_train_scaled, y_FD_train)  # Correct the variable name for consistency\n",
    "y_pred = best_RF_FD.predict(X_FD_test_scaled)  # Correct the variable name for consistency\n",
    "\n",
    "best_rmse = mean_squared_error(y_FD_test, y_pred, squared=False)\n",
    "print(f\"Best_RF Train R-squared: {best_RF_FD.score(X_FD_train_scaled, y_FD_train)}\")\n",
    "print(f\"Best_RF Test R-squared: {best_RF_FD.score(X_FD_test_scaled, y_FD_test)}\")\n",
    "print(f\"Best_RF MAE: {mean_absolute_error(y_FD_test, y_pred)}\")\n",
    "print(f\"Best_RF RMSE: {best_rmse}\")\n",
    "print(f\"Best_RF MSE: {mean_squared_error(y_FD_test, y_pred)}\")"
   ]
  },
  {
   "cell_type": "code",
   "execution_count": 372,
   "id": "e4f88cb8-0756-4438-a7f0-fad828afb1b9",
   "metadata": {},
   "outputs": [],
   "source": [
    "error_dict_FD['Random_Forest'] = {'best_params': best_params, 'best_rmse': best_rmse}"
   ]
  },
  {
   "cell_type": "markdown",
   "id": "e4ffdc64-074f-488b-9b6c-d1136c11a22f",
   "metadata": {},
   "source": [
    "# DraftKings\n",
    "Since the param_grid took a while for FanDuel, even with a randomized search, we're going to reel the grid in a little bit for DraftKings."
   ]
  },
  {
   "cell_type": "code",
   "execution_count": 374,
   "id": "fb498f79-bf2f-4e78-8fb9-bfea49e550e9",
   "metadata": {},
   "outputs": [],
   "source": [
    "base_RF_DK = RandomForestRegressor(random_state = 42)"
   ]
  },
  {
   "cell_type": "code",
   "execution_count": 375,
   "id": "8f1593b9-cd7d-48f7-ab67-821812974215",
   "metadata": {},
   "outputs": [
    {
     "name": "stderr",
     "output_type": "stream",
     "text": [
      "C:\\Users\\Owner\\anaconda3\\envs\\nfl_dfs_model\\lib\\site-packages\\sklearn\\base.py:1152: DataConversionWarning: A column-vector y was passed when a 1d array was expected. Please change the shape of y to (n_samples,), for example using ravel().\n",
      "  return fit_method(estimator, *args, **kwargs)\n"
     ]
    },
    {
     "data": {
      "text/html": [
       "<style>#sk-container-id-14 {color: black;}#sk-container-id-14 pre{padding: 0;}#sk-container-id-14 div.sk-toggleable {background-color: white;}#sk-container-id-14 label.sk-toggleable__label {cursor: pointer;display: block;width: 100%;margin-bottom: 0;padding: 0.3em;box-sizing: border-box;text-align: center;}#sk-container-id-14 label.sk-toggleable__label-arrow:before {content: \"▸\";float: left;margin-right: 0.25em;color: #696969;}#sk-container-id-14 label.sk-toggleable__label-arrow:hover:before {color: black;}#sk-container-id-14 div.sk-estimator:hover label.sk-toggleable__label-arrow:before {color: black;}#sk-container-id-14 div.sk-toggleable__content {max-height: 0;max-width: 0;overflow: hidden;text-align: left;background-color: #f0f8ff;}#sk-container-id-14 div.sk-toggleable__content pre {margin: 0.2em;color: black;border-radius: 0.25em;background-color: #f0f8ff;}#sk-container-id-14 input.sk-toggleable__control:checked~div.sk-toggleable__content {max-height: 200px;max-width: 100%;overflow: auto;}#sk-container-id-14 input.sk-toggleable__control:checked~label.sk-toggleable__label-arrow:before {content: \"▾\";}#sk-container-id-14 div.sk-estimator input.sk-toggleable__control:checked~label.sk-toggleable__label {background-color: #d4ebff;}#sk-container-id-14 div.sk-label input.sk-toggleable__control:checked~label.sk-toggleable__label {background-color: #d4ebff;}#sk-container-id-14 input.sk-hidden--visually {border: 0;clip: rect(1px 1px 1px 1px);clip: rect(1px, 1px, 1px, 1px);height: 1px;margin: -1px;overflow: hidden;padding: 0;position: absolute;width: 1px;}#sk-container-id-14 div.sk-estimator {font-family: monospace;background-color: #f0f8ff;border: 1px dotted black;border-radius: 0.25em;box-sizing: border-box;margin-bottom: 0.5em;}#sk-container-id-14 div.sk-estimator:hover {background-color: #d4ebff;}#sk-container-id-14 div.sk-parallel-item::after {content: \"\";width: 100%;border-bottom: 1px solid gray;flex-grow: 1;}#sk-container-id-14 div.sk-label:hover label.sk-toggleable__label {background-color: #d4ebff;}#sk-container-id-14 div.sk-serial::before {content: \"\";position: absolute;border-left: 1px solid gray;box-sizing: border-box;top: 0;bottom: 0;left: 50%;z-index: 0;}#sk-container-id-14 div.sk-serial {display: flex;flex-direction: column;align-items: center;background-color: white;padding-right: 0.2em;padding-left: 0.2em;position: relative;}#sk-container-id-14 div.sk-item {position: relative;z-index: 1;}#sk-container-id-14 div.sk-parallel {display: flex;align-items: stretch;justify-content: center;background-color: white;position: relative;}#sk-container-id-14 div.sk-item::before, #sk-container-id-14 div.sk-parallel-item::before {content: \"\";position: absolute;border-left: 1px solid gray;box-sizing: border-box;top: 0;bottom: 0;left: 50%;z-index: -1;}#sk-container-id-14 div.sk-parallel-item {display: flex;flex-direction: column;z-index: 1;position: relative;background-color: white;}#sk-container-id-14 div.sk-parallel-item:first-child::after {align-self: flex-end;width: 50%;}#sk-container-id-14 div.sk-parallel-item:last-child::after {align-self: flex-start;width: 50%;}#sk-container-id-14 div.sk-parallel-item:only-child::after {width: 0;}#sk-container-id-14 div.sk-dashed-wrapped {border: 1px dashed gray;margin: 0 0.4em 0.5em 0.4em;box-sizing: border-box;padding-bottom: 0.4em;background-color: white;}#sk-container-id-14 div.sk-label label {font-family: monospace;font-weight: bold;display: inline-block;line-height: 1.2em;}#sk-container-id-14 div.sk-label-container {text-align: center;}#sk-container-id-14 div.sk-container {/* jupyter's `normalize.less` sets `[hidden] { display: none; }` but bootstrap.min.css set `[hidden] { display: none !important; }` so we also need the `!important` here to be able to override the default hidden behavior on the sphinx rendered scikit-learn.org. See: https://github.com/scikit-learn/scikit-learn/issues/21755 */display: inline-block !important;position: relative;}#sk-container-id-14 div.sk-text-repr-fallback {display: none;}</style><div id=\"sk-container-id-14\" class=\"sk-top-container\"><div class=\"sk-text-repr-fallback\"><pre>RandomForestRegressor(random_state=42)</pre><b>In a Jupyter environment, please rerun this cell to show the HTML representation or trust the notebook. <br />On GitHub, the HTML representation is unable to render, please try loading this page with nbviewer.org.</b></div><div class=\"sk-container\" hidden><div class=\"sk-item\"><div class=\"sk-estimator sk-toggleable\"><input class=\"sk-toggleable__control sk-hidden--visually\" id=\"sk-estimator-id-28\" type=\"checkbox\" checked><label for=\"sk-estimator-id-28\" class=\"sk-toggleable__label sk-toggleable__label-arrow\">RandomForestRegressor</label><div class=\"sk-toggleable__content\"><pre>RandomForestRegressor(random_state=42)</pre></div></div></div></div></div>"
      ],
      "text/plain": [
       "RandomForestRegressor(random_state=42)"
      ]
     },
     "execution_count": 375,
     "metadata": {},
     "output_type": "execute_result"
    }
   ],
   "source": [
    "base_RF_DK.fit(X_DK_train_scaled, y_DK_train)"
   ]
  },
  {
   "cell_type": "code",
   "execution_count": 376,
   "id": "a2e88c3d-5d01-4d62-bce0-6cb7fbda4cbe",
   "metadata": {},
   "outputs": [],
   "source": [
    "base_RF_DK_pred = base_RF_DK.predict(X_DK_test_scaled)"
   ]
  },
  {
   "cell_type": "code",
   "execution_count": 377,
   "id": "88b2856a-1774-4cac-900f-6ebeecee63a2",
   "metadata": {},
   "outputs": [
    {
     "name": "stdout",
     "output_type": "stream",
     "text": [
      "R_squared_train: 0.9158434037532067\n",
      "R_squared_test: 0.37311146654056726\n",
      "MAE: 5.8336713975380174\n",
      "MSE: 57.14913434638668\n",
      "RMSE: 7.559704646769388\n"
     ]
    }
   ],
   "source": [
    "print(f\"R_squared_train: {base_RF_DK.score(X_DK_train_scaled, y_DK_train)}\")\n",
    "print(f\"R_squared_test: {base_RF_DK.score(X_DK_test_scaled, y_DK_test)}\")\n",
    "print(f\"MAE: {mean_absolute_error(y_DK_test, base_RF_DK_pred)}\")\n",
    "print(f\"MSE: {mean_squared_error(y_DK_test, base_RF_DK_pred)}\")\n",
    "print(f\"RMSE: {mean_squared_error(y_DK_test, base_RF_DK_pred, squared = False)}\")"
   ]
  },
  {
   "cell_type": "code",
   "execution_count": 378,
   "id": "c1da4d22-5dd2-4840-b398-ce37a2a4d06e",
   "metadata": {},
   "outputs": [
    {
     "name": "stdout",
     "output_type": "stream",
     "text": [
      "Fitting 3 folds for each of 36 candidates, totalling 108 fits\n",
      "Tuned Random Forest Best Estimator: RandomForestRegressor(max_depth=6, min_samples_leaf=4, n_estimators=500,\n",
      "                      random_state=42)\n",
      "Tuned Random Forest Best Score: -7.062306044854563\n",
      "Tuned Random Forest Best Params: {'n_estimators': 500, 'min_samples_split': 2, 'min_samples_leaf': 4, 'max_depth': 6}\n"
     ]
    }
   ],
   "source": [
    "param_dist = {'max_depth': [3, 6, 9, 12],\\\n",
    "              'n_estimators': [100, 300, 500],\\\n",
    "             'min_samples_split': [2, 5, 10],\\\n",
    "              'min_samples_leaf': [1, 2, 4]}\n",
    "y_DK_train = y_DK_train.values.ravel()\n",
    "RF_Random_CV_DK = RandomizedSearchCV(base_RF_DK, param_distributions=param_dist, n_iter=36, scoring=rmse_scorer,\\\n",
    "                                     cv=3, n_jobs=2, verbose=2, random_state=42)\n",
    "RF_Random_CV_DK.fit(X_DK_train_scaled, y_DK_train)\n",
    "best_params = RF_Random_CV_DK.best_params_\n",
    "print(f\"Tuned Random Forest Best Estimator: {RF_Random_CV_DK.best_estimator_}\")\n",
    "print(f\"Tuned Random Forest Best Score: {RF_Random_CV_DK.best_score_}\")\n",
    "print(f\"Tuned Random Forest Best Params: {best_params}\")"
   ]
  },
  {
   "cell_type": "code",
   "execution_count": 379,
   "id": "3f94571a-0d0d-4b6c-be6e-e01f7d3e6d95",
   "metadata": {},
   "outputs": [
    {
     "name": "stdout",
     "output_type": "stream",
     "text": [
      "Best_RF Train R-squared: 0.4953441848044511\n",
      "Best_RF Test R-squared: 0.3984614243131859\n",
      "Best_RF MAE: 5.696693365299007\n",
      "Best_RF RMSE: 7.405278678453883\n",
      "Best_RF MSE: 54.838152305563696\n"
     ]
    }
   ],
   "source": [
    "best_RF_DK = RandomForestRegressor(max_depth=6, n_estimators=500, min_samples_split = 2, min_samples_leaf = 4, random_state=42)\n",
    "best_RF_DK.fit(X_DK_train_scaled, y_DK_train)  # Correct the variable name for consistency\n",
    "y_pred = best_RF_DK.predict(X_DK_test_scaled)  # Correct the variable name for consistency\n",
    "\n",
    "best_rmse = mean_squared_error(y_DK_test, y_pred, squared=False)\n",
    "print(f\"Best_RF Train R-squared: {best_RF_DK.score(X_DK_train_scaled, y_DK_train)}\")\n",
    "print(f\"Best_RF Test R-squared: {best_RF_DK.score(X_DK_test_scaled, y_DK_test)}\")\n",
    "print(f\"Best_RF MAE: {mean_absolute_error(y_DK_test, y_pred)}\")\n",
    "print(f\"Best_RF RMSE: {best_rmse}\")\n",
    "print(f\"Best_RF MSE: {mean_squared_error(y_DK_test, y_pred)}\")"
   ]
  },
  {
   "cell_type": "code",
   "execution_count": 380,
   "id": "47c0c8e1-be7e-4d7c-bec2-91a46c8e6d0d",
   "metadata": {},
   "outputs": [],
   "source": [
    "error_dict_DK['Random_Forest'] = {'best_params': best_params, 'best_rmse': best_rmse}"
   ]
  },
  {
   "cell_type": "code",
   "execution_count": 381,
   "id": "2e85194b-5f1c-4811-bc54-f0fdafb43037",
   "metadata": {},
   "outputs": [
    {
     "data": {
      "text/plain": [
       "defaultdict(float,\n",
       "            {'KNN': {'best_params': {'n_neighbors': 35},\n",
       "              'best_rmse': 7.704548048681453},\n",
       "             'Linear_Regression': {'best_params': {'alpha': 24.565306122448984},\n",
       "              'best_rmse': 7.470141938786919},\n",
       "             'Random_Forest': {'best_params': {'n_estimators': 500,\n",
       "               'min_samples_split': 2,\n",
       "               'min_samples_leaf': 4,\n",
       "               'max_depth': 6},\n",
       "              'best_rmse': 7.405278678453883}})"
      ]
     },
     "execution_count": 381,
     "metadata": {},
     "output_type": "execute_result"
    }
   ],
   "source": [
    "error_dict_DK"
   ]
  },
  {
   "cell_type": "code",
   "execution_count": null,
   "id": "a7c9e3e4-0ec5-46a7-96c1-9d068c482f1a",
   "metadata": {},
   "outputs": [],
   "source": []
  },
  {
   "cell_type": "code",
   "execution_count": 382,
   "id": "429a305f-1212-40e5-bf30-d5ccf2f15875",
   "metadata": {},
   "outputs": [],
   "source": [
    "from sklearn.ensemble import GradientBoostingRegressor"
   ]
  },
  {
   "cell_type": "markdown",
   "id": "fdd4247a-418d-418d-bcd7-c89e1fa08556",
   "metadata": {},
   "source": [
    "# Gradient Boost"
   ]
  },
  {
   "cell_type": "markdown",
   "id": "579b68fc-13b0-4603-9067-76b7c0b6c375",
   "metadata": {},
   "source": [
    "## DraftKings\n",
    "For this one, we'll do DraftKings first, then if we have to compromise the grid, this time it will be FanDuel that gets the reduced grid."
   ]
  },
  {
   "cell_type": "code",
   "execution_count": 383,
   "id": "658666e1-9559-4131-a538-096648599e23",
   "metadata": {},
   "outputs": [],
   "source": [
    "base_GB_DK = GradientBoostingRegressor(random_state = 42)"
   ]
  },
  {
   "cell_type": "code",
   "execution_count": 384,
   "id": "75a657bf-2a61-4154-8c66-60a47a35caf4",
   "metadata": {},
   "outputs": [
    {
     "data": {
      "text/html": [
       "<style>#sk-container-id-15 {color: black;}#sk-container-id-15 pre{padding: 0;}#sk-container-id-15 div.sk-toggleable {background-color: white;}#sk-container-id-15 label.sk-toggleable__label {cursor: pointer;display: block;width: 100%;margin-bottom: 0;padding: 0.3em;box-sizing: border-box;text-align: center;}#sk-container-id-15 label.sk-toggleable__label-arrow:before {content: \"▸\";float: left;margin-right: 0.25em;color: #696969;}#sk-container-id-15 label.sk-toggleable__label-arrow:hover:before {color: black;}#sk-container-id-15 div.sk-estimator:hover label.sk-toggleable__label-arrow:before {color: black;}#sk-container-id-15 div.sk-toggleable__content {max-height: 0;max-width: 0;overflow: hidden;text-align: left;background-color: #f0f8ff;}#sk-container-id-15 div.sk-toggleable__content pre {margin: 0.2em;color: black;border-radius: 0.25em;background-color: #f0f8ff;}#sk-container-id-15 input.sk-toggleable__control:checked~div.sk-toggleable__content {max-height: 200px;max-width: 100%;overflow: auto;}#sk-container-id-15 input.sk-toggleable__control:checked~label.sk-toggleable__label-arrow:before {content: \"▾\";}#sk-container-id-15 div.sk-estimator input.sk-toggleable__control:checked~label.sk-toggleable__label {background-color: #d4ebff;}#sk-container-id-15 div.sk-label input.sk-toggleable__control:checked~label.sk-toggleable__label {background-color: #d4ebff;}#sk-container-id-15 input.sk-hidden--visually {border: 0;clip: rect(1px 1px 1px 1px);clip: rect(1px, 1px, 1px, 1px);height: 1px;margin: -1px;overflow: hidden;padding: 0;position: absolute;width: 1px;}#sk-container-id-15 div.sk-estimator {font-family: monospace;background-color: #f0f8ff;border: 1px dotted black;border-radius: 0.25em;box-sizing: border-box;margin-bottom: 0.5em;}#sk-container-id-15 div.sk-estimator:hover {background-color: #d4ebff;}#sk-container-id-15 div.sk-parallel-item::after {content: \"\";width: 100%;border-bottom: 1px solid gray;flex-grow: 1;}#sk-container-id-15 div.sk-label:hover label.sk-toggleable__label {background-color: #d4ebff;}#sk-container-id-15 div.sk-serial::before {content: \"\";position: absolute;border-left: 1px solid gray;box-sizing: border-box;top: 0;bottom: 0;left: 50%;z-index: 0;}#sk-container-id-15 div.sk-serial {display: flex;flex-direction: column;align-items: center;background-color: white;padding-right: 0.2em;padding-left: 0.2em;position: relative;}#sk-container-id-15 div.sk-item {position: relative;z-index: 1;}#sk-container-id-15 div.sk-parallel {display: flex;align-items: stretch;justify-content: center;background-color: white;position: relative;}#sk-container-id-15 div.sk-item::before, #sk-container-id-15 div.sk-parallel-item::before {content: \"\";position: absolute;border-left: 1px solid gray;box-sizing: border-box;top: 0;bottom: 0;left: 50%;z-index: -1;}#sk-container-id-15 div.sk-parallel-item {display: flex;flex-direction: column;z-index: 1;position: relative;background-color: white;}#sk-container-id-15 div.sk-parallel-item:first-child::after {align-self: flex-end;width: 50%;}#sk-container-id-15 div.sk-parallel-item:last-child::after {align-self: flex-start;width: 50%;}#sk-container-id-15 div.sk-parallel-item:only-child::after {width: 0;}#sk-container-id-15 div.sk-dashed-wrapped {border: 1px dashed gray;margin: 0 0.4em 0.5em 0.4em;box-sizing: border-box;padding-bottom: 0.4em;background-color: white;}#sk-container-id-15 div.sk-label label {font-family: monospace;font-weight: bold;display: inline-block;line-height: 1.2em;}#sk-container-id-15 div.sk-label-container {text-align: center;}#sk-container-id-15 div.sk-container {/* jupyter's `normalize.less` sets `[hidden] { display: none; }` but bootstrap.min.css set `[hidden] { display: none !important; }` so we also need the `!important` here to be able to override the default hidden behavior on the sphinx rendered scikit-learn.org. See: https://github.com/scikit-learn/scikit-learn/issues/21755 */display: inline-block !important;position: relative;}#sk-container-id-15 div.sk-text-repr-fallback {display: none;}</style><div id=\"sk-container-id-15\" class=\"sk-top-container\"><div class=\"sk-text-repr-fallback\"><pre>GradientBoostingRegressor(random_state=42)</pre><b>In a Jupyter environment, please rerun this cell to show the HTML representation or trust the notebook. <br />On GitHub, the HTML representation is unable to render, please try loading this page with nbviewer.org.</b></div><div class=\"sk-container\" hidden><div class=\"sk-item\"><div class=\"sk-estimator sk-toggleable\"><input class=\"sk-toggleable__control sk-hidden--visually\" id=\"sk-estimator-id-29\" type=\"checkbox\" checked><label for=\"sk-estimator-id-29\" class=\"sk-toggleable__label sk-toggleable__label-arrow\">GradientBoostingRegressor</label><div class=\"sk-toggleable__content\"><pre>GradientBoostingRegressor(random_state=42)</pre></div></div></div></div></div>"
      ],
      "text/plain": [
       "GradientBoostingRegressor(random_state=42)"
      ]
     },
     "execution_count": 384,
     "metadata": {},
     "output_type": "execute_result"
    }
   ],
   "source": [
    "base_GB_DK.fit(X_DK_train_scaled, y_DK_train)"
   ]
  },
  {
   "cell_type": "code",
   "execution_count": 385,
   "id": "cbd9be70-17e2-4aaa-bce7-316f34bd89e9",
   "metadata": {},
   "outputs": [],
   "source": [
    "y_pred = base_GB_DK.predict(X_DK_test_scaled)"
   ]
  },
  {
   "cell_type": "code",
   "execution_count": 386,
   "id": "93e6e467-dc5f-4cba-908e-4d02de69dd0b",
   "metadata": {},
   "outputs": [
    {
     "name": "stdout",
     "output_type": "stream",
     "text": [
      "Base GB R_squared_train: 0.5156171250949564\n",
      "Base GB R_squared_test: 0.39074198888195\n",
      "Base GB MAE: 5.760131997569609\n",
      "Base GB MSE: 55.54188036723912\n",
      "Base GB RMSE: 7.4526425090191415\n"
     ]
    }
   ],
   "source": [
    "print(f\"Base GB R_squared_train: {base_GB_DK.score(X_DK_train_scaled, y_DK_train)}\")\n",
    "print(f\"Base GB R_squared_test: {base_GB_DK.score(X_DK_test_scaled, y_DK_test)}\")\n",
    "print(f\"Base GB MAE: {mean_absolute_error(y_DK_test, y_pred)}\")\n",
    "print(f\"Base GB MSE: {mean_squared_error(y_DK_test, y_pred)}\")\n",
    "print(f\"Base GB RMSE: {mean_squared_error(y_DK_test, y_pred, squared = False)}\")"
   ]
  },
  {
   "cell_type": "code",
   "execution_count": 387,
   "id": "7727db9d-5c81-4313-ac2b-d990bc0d4623",
   "metadata": {},
   "outputs": [],
   "source": [
    "param_dist = {\n",
    "    'n_estimators': [100, 300, 500],\n",
    "    'learning_rate': [0.001, 0.01, 0.05, 0.1, 0.2, 0.3],  # Expanded learning rates\n",
    "    'max_depth': [2, 4, 6]\n",
    "}"
   ]
  },
  {
   "cell_type": "code",
   "execution_count": 388,
   "id": "717e87d7-fe20-43f1-83cf-37422254811f",
   "metadata": {},
   "outputs": [
    {
     "name": "stdout",
     "output_type": "stream",
     "text": [
      "Fitting 3 folds for each of 50 candidates, totalling 150 fits\n",
      "Tuned Gradient Boost Best Estimator: GradientBoostingRegressor(max_depth=2, random_state=42)\n",
      "Tuned Gradient Boost Best Score: -7.075255405795531\n",
      "Tuned Gradient Boost Best Params: {'n_estimators': 100, 'max_depth': 2, 'learning_rate': 0.1}\n"
     ]
    }
   ],
   "source": [
    "GB_CV_DK = RandomizedSearchCV(base_GB_DK, param_dist, scoring=rmse_scorer, cv = 3, n_iter = 50, n_jobs = 2, verbose = 3)\n",
    "GB_CV_DK.fit(X_DK_train_scaled, y_DK_train)\n",
    "best_params = GB_CV_DK.best_params_\n",
    "print(f\"Tuned Gradient Boost Best Estimator: {GB_CV_DK.best_estimator_}\")\n",
    "print(f\"Tuned Gradient Boost Best Score: {GB_CV_DK.best_score_}\")\n",
    "print(f\"Tuned Gradient Boost Best Params: {best_params}\")"
   ]
  },
  {
   "cell_type": "code",
   "execution_count": 389,
   "id": "389bc452-96c4-403d-8b91-3ac7fdcddf5a",
   "metadata": {},
   "outputs": [
    {
     "name": "stdout",
     "output_type": "stream",
     "text": [
      "Best_GB Train R-squared: 0.4702669310080311\n",
      "Best_GB Test R-squared: 0.39261562035386444\n",
      "Best_GB MAE: 5.767116372123758\n",
      "Best_GB RMSE: 7.44117424990967\n",
      "Best_GB MSE: 55.37107421751874\n"
     ]
    }
   ],
   "source": [
    "best_GB_DK = GradientBoostingRegressor(max_depth=2, n_estimators=100, learning_rate = 0.1, random_state=42)\n",
    "best_GB_DK.fit(X_DK_train_scaled, y_DK_train)  # Correct the variable name for consistency\n",
    "y_pred = best_GB_DK.predict(X_DK_test_scaled)  # Correct the variable name for consistency\n",
    "\n",
    "best_rmse = mean_squared_error(y_DK_test, y_pred, squared=False)\n",
    "print(f\"Best_GB Train R-squared: {best_GB_DK.score(X_DK_train_scaled, y_DK_train)}\")\n",
    "print(f\"Best_GB Test R-squared: {best_GB_DK.score(X_DK_test_scaled, y_DK_test)}\")\n",
    "print(f\"Best_GB MAE: {mean_absolute_error(y_DK_test, y_pred)}\")\n",
    "print(f\"Best_GB RMSE: {best_rmse}\")\n",
    "print(f\"Best_GB MSE: {mean_squared_error(y_DK_test, y_pred)}\")"
   ]
  },
  {
   "cell_type": "code",
   "execution_count": 390,
   "id": "8a744fef-578c-4812-8318-f18439a82eff",
   "metadata": {},
   "outputs": [],
   "source": [
    "error_dict_DK['Gradient_Boost'] = {'best_params': best_params, 'best_rmse': best_rmse}"
   ]
  },
  {
   "cell_type": "code",
   "execution_count": 391,
   "id": "ecd5e0b4-fb1c-4b84-9438-fbf24a1b8452",
   "metadata": {},
   "outputs": [
    {
     "data": {
      "text/plain": [
       "defaultdict(float,\n",
       "            {'KNN': {'best_params': {'n_neighbors': 35},\n",
       "              'best_rmse': 7.704548048681453},\n",
       "             'Linear_Regression': {'best_params': {'alpha': 24.565306122448984},\n",
       "              'best_rmse': 7.470141938786919},\n",
       "             'Random_Forest': {'best_params': {'n_estimators': 500,\n",
       "               'min_samples_split': 2,\n",
       "               'min_samples_leaf': 4,\n",
       "               'max_depth': 6},\n",
       "              'best_rmse': 7.405278678453883},\n",
       "             'Gradient_Boost': {'best_params': {'n_estimators': 100,\n",
       "               'max_depth': 2,\n",
       "               'learning_rate': 0.1},\n",
       "              'best_rmse': 7.44117424990967}})"
      ]
     },
     "execution_count": 391,
     "metadata": {},
     "output_type": "execute_result"
    }
   ],
   "source": [
    "error_dict_DK"
   ]
  },
  {
   "cell_type": "markdown",
   "id": "7141b5d7-488f-4757-8f93-2b994ed76497",
   "metadata": {},
   "source": [
    "## FanDuel"
   ]
  },
  {
   "cell_type": "code",
   "execution_count": 392,
   "id": "6d669f2f-4c9c-4f0d-9389-fc258e2d1193",
   "metadata": {},
   "outputs": [],
   "source": [
    "base_GB_FD = GradientBoostingRegressor(random_state = 42)"
   ]
  },
  {
   "cell_type": "code",
   "execution_count": 393,
   "id": "fc5075a2-c361-470e-bd91-ae605a10776c",
   "metadata": {},
   "outputs": [
    {
     "data": {
      "text/html": [
       "<style>#sk-container-id-16 {color: black;}#sk-container-id-16 pre{padding: 0;}#sk-container-id-16 div.sk-toggleable {background-color: white;}#sk-container-id-16 label.sk-toggleable__label {cursor: pointer;display: block;width: 100%;margin-bottom: 0;padding: 0.3em;box-sizing: border-box;text-align: center;}#sk-container-id-16 label.sk-toggleable__label-arrow:before {content: \"▸\";float: left;margin-right: 0.25em;color: #696969;}#sk-container-id-16 label.sk-toggleable__label-arrow:hover:before {color: black;}#sk-container-id-16 div.sk-estimator:hover label.sk-toggleable__label-arrow:before {color: black;}#sk-container-id-16 div.sk-toggleable__content {max-height: 0;max-width: 0;overflow: hidden;text-align: left;background-color: #f0f8ff;}#sk-container-id-16 div.sk-toggleable__content pre {margin: 0.2em;color: black;border-radius: 0.25em;background-color: #f0f8ff;}#sk-container-id-16 input.sk-toggleable__control:checked~div.sk-toggleable__content {max-height: 200px;max-width: 100%;overflow: auto;}#sk-container-id-16 input.sk-toggleable__control:checked~label.sk-toggleable__label-arrow:before {content: \"▾\";}#sk-container-id-16 div.sk-estimator input.sk-toggleable__control:checked~label.sk-toggleable__label {background-color: #d4ebff;}#sk-container-id-16 div.sk-label input.sk-toggleable__control:checked~label.sk-toggleable__label {background-color: #d4ebff;}#sk-container-id-16 input.sk-hidden--visually {border: 0;clip: rect(1px 1px 1px 1px);clip: rect(1px, 1px, 1px, 1px);height: 1px;margin: -1px;overflow: hidden;padding: 0;position: absolute;width: 1px;}#sk-container-id-16 div.sk-estimator {font-family: monospace;background-color: #f0f8ff;border: 1px dotted black;border-radius: 0.25em;box-sizing: border-box;margin-bottom: 0.5em;}#sk-container-id-16 div.sk-estimator:hover {background-color: #d4ebff;}#sk-container-id-16 div.sk-parallel-item::after {content: \"\";width: 100%;border-bottom: 1px solid gray;flex-grow: 1;}#sk-container-id-16 div.sk-label:hover label.sk-toggleable__label {background-color: #d4ebff;}#sk-container-id-16 div.sk-serial::before {content: \"\";position: absolute;border-left: 1px solid gray;box-sizing: border-box;top: 0;bottom: 0;left: 50%;z-index: 0;}#sk-container-id-16 div.sk-serial {display: flex;flex-direction: column;align-items: center;background-color: white;padding-right: 0.2em;padding-left: 0.2em;position: relative;}#sk-container-id-16 div.sk-item {position: relative;z-index: 1;}#sk-container-id-16 div.sk-parallel {display: flex;align-items: stretch;justify-content: center;background-color: white;position: relative;}#sk-container-id-16 div.sk-item::before, #sk-container-id-16 div.sk-parallel-item::before {content: \"\";position: absolute;border-left: 1px solid gray;box-sizing: border-box;top: 0;bottom: 0;left: 50%;z-index: -1;}#sk-container-id-16 div.sk-parallel-item {display: flex;flex-direction: column;z-index: 1;position: relative;background-color: white;}#sk-container-id-16 div.sk-parallel-item:first-child::after {align-self: flex-end;width: 50%;}#sk-container-id-16 div.sk-parallel-item:last-child::after {align-self: flex-start;width: 50%;}#sk-container-id-16 div.sk-parallel-item:only-child::after {width: 0;}#sk-container-id-16 div.sk-dashed-wrapped {border: 1px dashed gray;margin: 0 0.4em 0.5em 0.4em;box-sizing: border-box;padding-bottom: 0.4em;background-color: white;}#sk-container-id-16 div.sk-label label {font-family: monospace;font-weight: bold;display: inline-block;line-height: 1.2em;}#sk-container-id-16 div.sk-label-container {text-align: center;}#sk-container-id-16 div.sk-container {/* jupyter's `normalize.less` sets `[hidden] { display: none; }` but bootstrap.min.css set `[hidden] { display: none !important; }` so we also need the `!important` here to be able to override the default hidden behavior on the sphinx rendered scikit-learn.org. See: https://github.com/scikit-learn/scikit-learn/issues/21755 */display: inline-block !important;position: relative;}#sk-container-id-16 div.sk-text-repr-fallback {display: none;}</style><div id=\"sk-container-id-16\" class=\"sk-top-container\"><div class=\"sk-text-repr-fallback\"><pre>GradientBoostingRegressor(random_state=42)</pre><b>In a Jupyter environment, please rerun this cell to show the HTML representation or trust the notebook. <br />On GitHub, the HTML representation is unable to render, please try loading this page with nbviewer.org.</b></div><div class=\"sk-container\" hidden><div class=\"sk-item\"><div class=\"sk-estimator sk-toggleable\"><input class=\"sk-toggleable__control sk-hidden--visually\" id=\"sk-estimator-id-30\" type=\"checkbox\" checked><label for=\"sk-estimator-id-30\" class=\"sk-toggleable__label sk-toggleable__label-arrow\">GradientBoostingRegressor</label><div class=\"sk-toggleable__content\"><pre>GradientBoostingRegressor(random_state=42)</pre></div></div></div></div></div>"
      ],
      "text/plain": [
       "GradientBoostingRegressor(random_state=42)"
      ]
     },
     "execution_count": 393,
     "metadata": {},
     "output_type": "execute_result"
    }
   ],
   "source": [
    "base_GB_FD.fit(X_FD_train_scaled, y_FD_train)"
   ]
  },
  {
   "cell_type": "code",
   "execution_count": 394,
   "id": "a69f0988-c68f-4485-a1be-92d46d04019e",
   "metadata": {},
   "outputs": [],
   "source": [
    "y_pred = base_GB_FD.predict(X_FD_test_scaled)"
   ]
  },
  {
   "cell_type": "code",
   "execution_count": 395,
   "id": "9f90c1d8-3148-4a2a-9a47-7ceee0b54641",
   "metadata": {},
   "outputs": [
    {
     "name": "stdout",
     "output_type": "stream",
     "text": [
      "Base GB R_squared_train: 0.5264194237956745\n",
      "Base GB R_squared_test: 0.39830581150487\n",
      "Base GB MAE: 5.310633126335354\n",
      "Base GB MSE: 46.94469980710014\n",
      "Base GB RMSE: 6.851620232258947\n"
     ]
    }
   ],
   "source": [
    "print(f\"Base GB R_squared_train: {base_GB_FD.score(X_FD_train_scaled, y_FD_train)}\")\n",
    "print(f\"Base GB R_squared_test: {base_GB_FD.score(X_FD_test_scaled, y_FD_test)}\")\n",
    "print(f\"Base GB MAE: {mean_absolute_error(y_FD_test, y_pred)}\")\n",
    "print(f\"Base GB MSE: {mean_squared_error(y_FD_test, y_pred)}\")\n",
    "print(f\"Base GB RMSE: {mean_squared_error(y_FD_test, y_pred, squared = False)}\")"
   ]
  },
  {
   "cell_type": "code",
   "execution_count": 397,
   "id": "74a0e77b-f15a-4ad2-ab7a-729db555241a",
   "metadata": {},
   "outputs": [],
   "source": [
    "param_dist = {\n",
    "    'n_estimators': [100, 200, 300],\n",
    "    'learning_rate': [0.01, 0.05, 0.1, 0.2],  # Expanded learning rates\n",
    "    'max_depth': [2, 3, 4]\n",
    "}"
   ]
  },
  {
   "cell_type": "code",
   "execution_count": 398,
   "id": "baa061ca-4297-4436-93a6-43292cb3e9ac",
   "metadata": {},
   "outputs": [
    {
     "name": "stdout",
     "output_type": "stream",
     "text": [
      "Fitting 3 folds for each of 36 candidates, totalling 108 fits\n",
      "Tuned Gradient Boost Best Estimator: GradientBoostingRegressor(learning_rate=0.05, max_depth=2, random_state=42)\n",
      "Tuned Gradient Boost Best Score: -6.516655856776173\n",
      "Tuned Gradient Boost Best Params: {'n_estimators': 100, 'max_depth': 2, 'learning_rate': 0.05}\n"
     ]
    }
   ],
   "source": [
    "GB_CV_FD = RandomizedSearchCV(base_GB_FD, param_dist, scoring=rmse_scorer, cv = 3, n_iter = 36, n_jobs = 2, verbose = 3)\n",
    "GB_CV_FD.fit(X_FD_train_scaled, y_FD_train)\n",
    "best_params = GB_CV_FD.best_params_\n",
    "print(f\"Tuned Gradient Boost Best Estimator: {GB_CV_FD.best_estimator_}\")\n",
    "print(f\"Tuned Gradient Boost Best Score: {GB_CV_FD.best_score_}\")\n",
    "print(f\"Tuned Gradient Boost Best Params: {best_params}\")"
   ]
  },
  {
   "cell_type": "code",
   "execution_count": 399,
   "id": "71785e21-7c96-4de6-9759-1758da68df53",
   "metadata": {},
   "outputs": [
    {
     "name": "stdout",
     "output_type": "stream",
     "text": [
      "Best_GB Train R-squared: 0.45811779291510357\n",
      "Best_GB Test R-squared: 0.4008588042419452\n",
      "Best_GB MAE: 5.304478169656613\n",
      "Best_GB RMSE: 6.837069043873724\n",
      "Best_GB MSE: 46.74551311069636\n"
     ]
    }
   ],
   "source": [
    "best_GB_FD = GradientBoostingRegressor(max_depth=2, n_estimators=100, learning_rate = 0.05, random_state=42)\n",
    "best_GB_FD.fit(X_FD_train_scaled, y_FD_train)  # Correct the variable name for consistency\n",
    "y_pred = best_GB_FD.predict(X_FD_test_scaled)  # Correct the variable name for consistency\n",
    "\n",
    "best_rmse = mean_squared_error(y_FD_test, y_pred, squared=False)\n",
    "print(f\"Best_GB Train R-squared: {best_GB_FD.score(X_FD_train_scaled, y_FD_train)}\")\n",
    "print(f\"Best_GB Test R-squared: {best_GB_FD.score(X_FD_test_scaled, y_FD_test)}\")\n",
    "print(f\"Best_GB MAE: {mean_absolute_error(y_FD_test, y_pred)}\")\n",
    "print(f\"Best_GB RMSE: {best_rmse}\")\n",
    "print(f\"Best_GB MSE: {mean_squared_error(y_FD_test, y_pred)}\")"
   ]
  },
  {
   "cell_type": "code",
   "execution_count": 400,
   "id": "8f6b09e3-d790-473a-a83d-a351db83b426",
   "metadata": {},
   "outputs": [],
   "source": [
    "error_dict_FD['Gradient_Boost'] = {'best_params': best_params, 'best_rmse': best_rmse}"
   ]
  },
  {
   "cell_type": "code",
   "execution_count": 401,
   "id": "fc3bcb9f-3043-41bd-a8c4-c379422e6958",
   "metadata": {},
   "outputs": [
    {
     "data": {
      "text/plain": [
       "defaultdict(float,\n",
       "            {'KNN': {'best_params': {'n_neighbors': 35},\n",
       "              'best_rmse': 7.077679118367947},\n",
       "             'Linear_Regression': {'best_params': {'alpha': 36.79795918367348},\n",
       "              'best_rmse': 6.851643471593359},\n",
       "             'Random_Forest': {'best_params': {'n_estimators': 300,\n",
       "               'min_samples_split': 5,\n",
       "               'min_samples_leaf': 4,\n",
       "               'max_depth': 6},\n",
       "              'best_rmse': 6.794550117882793},\n",
       "             'Gradient_Boost': {'best_params': {'n_estimators': 100,\n",
       "               'max_depth': 2,\n",
       "               'learning_rate': 0.05},\n",
       "              'best_rmse': 6.837069043873724}})"
      ]
     },
     "execution_count": 401,
     "metadata": {},
     "output_type": "execute_result"
    }
   ],
   "source": [
    "error_dict_FD"
   ]
  },
  {
   "cell_type": "code",
   "execution_count": null,
   "id": "7c5edcc5-d5db-4354-b66d-ceb80369b02e",
   "metadata": {},
   "outputs": [],
   "source": []
  },
  {
   "cell_type": "markdown",
   "id": "a76bfdfb-f33a-4712-832b-c90d7980ee5b",
   "metadata": {},
   "source": [
    "# XGBoost"
   ]
  },
  {
   "cell_type": "markdown",
   "id": "7cc1c918-cffb-454e-86fc-fa8b3b07c561",
   "metadata": {},
   "source": [
    "## FanDuel"
   ]
  },
  {
   "cell_type": "code",
   "execution_count": 402,
   "id": "482dd171-e9dd-465a-b7ed-b7150e356f08",
   "metadata": {},
   "outputs": [],
   "source": [
    "import xgboost as xgb"
   ]
  },
  {
   "cell_type": "code",
   "execution_count": 403,
   "id": "d6ba790a-968d-4233-9697-5aa4831ba143",
   "metadata": {},
   "outputs": [],
   "source": [
    "base_XGB_FD = xgb.XGBRegressor(objective='reg:squarederror', random_state=42)"
   ]
  },
  {
   "cell_type": "code",
   "execution_count": 404,
   "id": "8fd6d63b-53eb-4531-bc91-139df34fac81",
   "metadata": {},
   "outputs": [
    {
     "data": {
      "text/html": [
       "<style>#sk-container-id-17 {color: black;}#sk-container-id-17 pre{padding: 0;}#sk-container-id-17 div.sk-toggleable {background-color: white;}#sk-container-id-17 label.sk-toggleable__label {cursor: pointer;display: block;width: 100%;margin-bottom: 0;padding: 0.3em;box-sizing: border-box;text-align: center;}#sk-container-id-17 label.sk-toggleable__label-arrow:before {content: \"▸\";float: left;margin-right: 0.25em;color: #696969;}#sk-container-id-17 label.sk-toggleable__label-arrow:hover:before {color: black;}#sk-container-id-17 div.sk-estimator:hover label.sk-toggleable__label-arrow:before {color: black;}#sk-container-id-17 div.sk-toggleable__content {max-height: 0;max-width: 0;overflow: hidden;text-align: left;background-color: #f0f8ff;}#sk-container-id-17 div.sk-toggleable__content pre {margin: 0.2em;color: black;border-radius: 0.25em;background-color: #f0f8ff;}#sk-container-id-17 input.sk-toggleable__control:checked~div.sk-toggleable__content {max-height: 200px;max-width: 100%;overflow: auto;}#sk-container-id-17 input.sk-toggleable__control:checked~label.sk-toggleable__label-arrow:before {content: \"▾\";}#sk-container-id-17 div.sk-estimator input.sk-toggleable__control:checked~label.sk-toggleable__label {background-color: #d4ebff;}#sk-container-id-17 div.sk-label input.sk-toggleable__control:checked~label.sk-toggleable__label {background-color: #d4ebff;}#sk-container-id-17 input.sk-hidden--visually {border: 0;clip: rect(1px 1px 1px 1px);clip: rect(1px, 1px, 1px, 1px);height: 1px;margin: -1px;overflow: hidden;padding: 0;position: absolute;width: 1px;}#sk-container-id-17 div.sk-estimator {font-family: monospace;background-color: #f0f8ff;border: 1px dotted black;border-radius: 0.25em;box-sizing: border-box;margin-bottom: 0.5em;}#sk-container-id-17 div.sk-estimator:hover {background-color: #d4ebff;}#sk-container-id-17 div.sk-parallel-item::after {content: \"\";width: 100%;border-bottom: 1px solid gray;flex-grow: 1;}#sk-container-id-17 div.sk-label:hover label.sk-toggleable__label {background-color: #d4ebff;}#sk-container-id-17 div.sk-serial::before {content: \"\";position: absolute;border-left: 1px solid gray;box-sizing: border-box;top: 0;bottom: 0;left: 50%;z-index: 0;}#sk-container-id-17 div.sk-serial {display: flex;flex-direction: column;align-items: center;background-color: white;padding-right: 0.2em;padding-left: 0.2em;position: relative;}#sk-container-id-17 div.sk-item {position: relative;z-index: 1;}#sk-container-id-17 div.sk-parallel {display: flex;align-items: stretch;justify-content: center;background-color: white;position: relative;}#sk-container-id-17 div.sk-item::before, #sk-container-id-17 div.sk-parallel-item::before {content: \"\";position: absolute;border-left: 1px solid gray;box-sizing: border-box;top: 0;bottom: 0;left: 50%;z-index: -1;}#sk-container-id-17 div.sk-parallel-item {display: flex;flex-direction: column;z-index: 1;position: relative;background-color: white;}#sk-container-id-17 div.sk-parallel-item:first-child::after {align-self: flex-end;width: 50%;}#sk-container-id-17 div.sk-parallel-item:last-child::after {align-self: flex-start;width: 50%;}#sk-container-id-17 div.sk-parallel-item:only-child::after {width: 0;}#sk-container-id-17 div.sk-dashed-wrapped {border: 1px dashed gray;margin: 0 0.4em 0.5em 0.4em;box-sizing: border-box;padding-bottom: 0.4em;background-color: white;}#sk-container-id-17 div.sk-label label {font-family: monospace;font-weight: bold;display: inline-block;line-height: 1.2em;}#sk-container-id-17 div.sk-label-container {text-align: center;}#sk-container-id-17 div.sk-container {/* jupyter's `normalize.less` sets `[hidden] { display: none; }` but bootstrap.min.css set `[hidden] { display: none !important; }` so we also need the `!important` here to be able to override the default hidden behavior on the sphinx rendered scikit-learn.org. See: https://github.com/scikit-learn/scikit-learn/issues/21755 */display: inline-block !important;position: relative;}#sk-container-id-17 div.sk-text-repr-fallback {display: none;}</style><div id=\"sk-container-id-17\" class=\"sk-top-container\"><div class=\"sk-text-repr-fallback\"><pre>XGBRegressor(base_score=None, booster=None, callbacks=None,\n",
       "             colsample_bylevel=None, colsample_bynode=None,\n",
       "             colsample_bytree=None, device=None, early_stopping_rounds=None,\n",
       "             enable_categorical=False, eval_metric=None, feature_types=None,\n",
       "             gamma=None, grow_policy=None, importance_type=None,\n",
       "             interaction_constraints=None, learning_rate=None, max_bin=None,\n",
       "             max_cat_threshold=None, max_cat_to_onehot=None,\n",
       "             max_delta_step=None, max_depth=None, max_leaves=None,\n",
       "             min_child_weight=None, missing=nan, monotone_constraints=None,\n",
       "             multi_strategy=None, n_estimators=None, n_jobs=None,\n",
       "             num_parallel_tree=None, random_state=42, ...)</pre><b>In a Jupyter environment, please rerun this cell to show the HTML representation or trust the notebook. <br />On GitHub, the HTML representation is unable to render, please try loading this page with nbviewer.org.</b></div><div class=\"sk-container\" hidden><div class=\"sk-item\"><div class=\"sk-estimator sk-toggleable\"><input class=\"sk-toggleable__control sk-hidden--visually\" id=\"sk-estimator-id-31\" type=\"checkbox\" checked><label for=\"sk-estimator-id-31\" class=\"sk-toggleable__label sk-toggleable__label-arrow\">XGBRegressor</label><div class=\"sk-toggleable__content\"><pre>XGBRegressor(base_score=None, booster=None, callbacks=None,\n",
       "             colsample_bylevel=None, colsample_bynode=None,\n",
       "             colsample_bytree=None, device=None, early_stopping_rounds=None,\n",
       "             enable_categorical=False, eval_metric=None, feature_types=None,\n",
       "             gamma=None, grow_policy=None, importance_type=None,\n",
       "             interaction_constraints=None, learning_rate=None, max_bin=None,\n",
       "             max_cat_threshold=None, max_cat_to_onehot=None,\n",
       "             max_delta_step=None, max_depth=None, max_leaves=None,\n",
       "             min_child_weight=None, missing=nan, monotone_constraints=None,\n",
       "             multi_strategy=None, n_estimators=None, n_jobs=None,\n",
       "             num_parallel_tree=None, random_state=42, ...)</pre></div></div></div></div></div>"
      ],
      "text/plain": [
       "XGBRegressor(base_score=None, booster=None, callbacks=None,\n",
       "             colsample_bylevel=None, colsample_bynode=None,\n",
       "             colsample_bytree=None, device=None, early_stopping_rounds=None,\n",
       "             enable_categorical=False, eval_metric=None, feature_types=None,\n",
       "             gamma=None, grow_policy=None, importance_type=None,\n",
       "             interaction_constraints=None, learning_rate=None, max_bin=None,\n",
       "             max_cat_threshold=None, max_cat_to_onehot=None,\n",
       "             max_delta_step=None, max_depth=None, max_leaves=None,\n",
       "             min_child_weight=None, missing=nan, monotone_constraints=None,\n",
       "             multi_strategy=None, n_estimators=None, n_jobs=None,\n",
       "             num_parallel_tree=None, random_state=42, ...)"
      ]
     },
     "execution_count": 404,
     "metadata": {},
     "output_type": "execute_result"
    }
   ],
   "source": [
    "# Fit the best model on the training data\n",
    "base_XGB_FD.fit(X_FD_train_scaled, y_FD_train)"
   ]
  },
  {
   "cell_type": "code",
   "execution_count": 405,
   "id": "beae3cc6-fe96-4076-adf3-a71a734d5587",
   "metadata": {},
   "outputs": [],
   "source": [
    "# Make predictions on the test data\n",
    "y_pred = base_XGB_FD.predict(X_FD_test_scaled)"
   ]
  },
  {
   "cell_type": "code",
   "execution_count": 406,
   "id": "d3c605ea-fd40-4ecb-b19c-aa1a9fed3a3d",
   "metadata": {},
   "outputs": [
    {
     "name": "stdout",
     "output_type": "stream",
     "text": [
      "Base XGB R_squared_train: 0.9507239865058638\n",
      "Base XGB R_squared_test: 0.3151580873454596\n",
      "Base XGB MAE: 5.592475257761222\n",
      "Base XGB MSE: 53.43195699678577\n",
      "Base XGB RMSE: 7.309716615354235\n"
     ]
    }
   ],
   "source": [
    "print(f\"Base XGB R_squared_train: {base_XGB_FD.score(X_FD_train_scaled, y_FD_train)}\")\n",
    "print(f\"Base XGB R_squared_test: {base_XGB_FD.score(X_FD_test_scaled, y_FD_test)}\")\n",
    "print(f\"Base XGB MAE: {mean_absolute_error(y_FD_test, y_pred)}\")\n",
    "print(f\"Base XGB MSE: {mean_squared_error(y_FD_test, y_pred)}\")\n",
    "print(f\"Base XGB RMSE: {mean_squared_error(y_FD_test, y_pred, squared=False)}\")"
   ]
  },
  {
   "cell_type": "code",
   "execution_count": 407,
   "id": "155e3872-7f1e-4418-980e-6236740066e1",
   "metadata": {},
   "outputs": [],
   "source": [
    "param_dist = {\n",
    "    'n_estimators': [100, 200, 300],\n",
    "    'learning_rate': [0.01, 0.05, 0.1, 0.2, 0.3],\n",
    "    'max_depth': [2, 4, 6],\n",
    "    'subsample': [0.6, 0.8, 1.0],\n",
    "    'colsample_bytree': [0.6, 0.8, 1.0],\n",
    "    'gamma': [0, 0.1, 0.3],\n",
    "    'reg_alpha': [0, 0.01, 0.1],\n",
    "    'reg_lambda': [1, 1.5, 2]\n",
    "}"
   ]
  },
  {
   "cell_type": "code",
   "execution_count": 408,
   "id": "4d86c24d-b7f5-48b0-9a16-61a66ff11c38",
   "metadata": {},
   "outputs": [
    {
     "name": "stdout",
     "output_type": "stream",
     "text": [
      "Fitting 3 folds for each of 100 candidates, totalling 300 fits\n",
      "Tuned XGBoost Best Estimator: XGBRegressor(base_score=None, booster=None, callbacks=None,\n",
      "             colsample_bylevel=None, colsample_bynode=None,\n",
      "             colsample_bytree=1.0, device=None, early_stopping_rounds=None,\n",
      "             enable_categorical=False, eval_metric=None, feature_types=None,\n",
      "             gamma=0.3, grow_policy=None, importance_type=None,\n",
      "             interaction_constraints=None, learning_rate=0.05, max_bin=None,\n",
      "             max_cat_threshold=None, max_cat_to_onehot=None,\n",
      "             max_delta_step=None, max_depth=2, max_leaves=None,\n",
      "             min_child_weight=None, missing=nan, monotone_constraints=None,\n",
      "             multi_strategy=None, n_estimators=100, n_jobs=None,\n",
      "             num_parallel_tree=None, random_state=42, ...)\n",
      "Tuned XGBoost Best Score: -6.506796603196059\n",
      "Tuned XGBoost Best Params: {'subsample': 0.6, 'reg_lambda': 1.5, 'reg_alpha': 0.01, 'n_estimators': 100, 'max_depth': 2, 'learning_rate': 0.05, 'gamma': 0.3, 'colsample_bytree': 1.0}\n"
     ]
    }
   ],
   "source": [
    "# Set up the GridSearchCV with XGBoost\n",
    "XGB_CV_FD = RandomizedSearchCV(base_XGB_FD, param_dist, scoring=rmse_scorer, n_iter = 100, cv=3, n_jobs=2, verbose=3)\n",
    "XGB_CV_FD.fit(X_FD_train_scaled, y_FD_train)\n",
    "best_params = XGB_CV_FD.best_params_\n",
    "print(f\"Tuned XGBoost Best Estimator: {XGB_CV_FD.best_estimator_}\")\n",
    "print(f\"Tuned XGBoost Best Score: {XGB_CV_FD.best_score_}\")\n",
    "print(f\"Tuned XGBoost Best Params: {best_params}\")"
   ]
  },
  {
   "cell_type": "code",
   "execution_count": 409,
   "id": "c65309f9-9c2d-4164-86f2-755714e452f6",
   "metadata": {},
   "outputs": [],
   "source": [
    "best_XGB_FD = xgb.XGBRegressor(max_depth=2, n_estimators=100, learning_rate=0.05,\\\n",
    "                               subsample = 0.6, reg_lambda = 1.5, reg_alpha = 0.01,\\\n",
    "                               gamma = 0.3, colsample_bytree = 1.0, objective='reg:squarederror', random_state=42)"
   ]
  },
  {
   "cell_type": "code",
   "execution_count": 410,
   "id": "af77ab66-cbf4-424b-8516-21428eadd256",
   "metadata": {},
   "outputs": [],
   "source": [
    "best_XGB_FD.fit(X_FD_train_scaled, y_FD_train)\n",
    "y_pred = best_XGB_FD.predict(X_FD_test_scaled)"
   ]
  },
  {
   "cell_type": "code",
   "execution_count": 411,
   "id": "cd4eff80-a884-4533-b57f-fee2438fb3dd",
   "metadata": {},
   "outputs": [
    {
     "name": "stdout",
     "output_type": "stream",
     "text": [
      "Best_XGB Train R-squared: 0.45851020007727183\n",
      "Best_XGB Test R-squared: 0.4028048837437981\n",
      "Best_XGB MAE: 5.293067392242897\n",
      "Best_XGB RMSE: 6.825956219360698\n",
      "Best_XGB MSE: 46.593678308629\n"
     ]
    }
   ],
   "source": [
    "# Print evaluation metrics for the best model\n",
    "best_rmse = mean_squared_error(y_FD_test, y_pred, squared=False)\n",
    "print(f\"Best_XGB Train R-squared: {best_XGB_FD.score(X_FD_train_scaled, y_FD_train)}\")\n",
    "print(f\"Best_XGB Test R-squared: {best_XGB_FD.score(X_FD_test_scaled, y_FD_test)}\")\n",
    "print(f\"Best_XGB MAE: {mean_absolute_error(y_FD_test, y_pred)}\")\n",
    "print(f\"Best_XGB RMSE: {best_rmse}\")\n",
    "print(f\"Best_XGB MSE: {mean_squared_error(y_FD_test, y_pred)}\")"
   ]
  },
  {
   "cell_type": "code",
   "execution_count": 412,
   "id": "118eb9cf-93ef-4ddb-965d-a683ff16d009",
   "metadata": {},
   "outputs": [],
   "source": [
    "error_dict_FD['XGBoost'] = {'best_params': best_params, 'best_rmse': best_rmse}"
   ]
  },
  {
   "cell_type": "code",
   "execution_count": 413,
   "id": "8434ba09-532c-4d4d-adeb-e4fde3e545e6",
   "metadata": {},
   "outputs": [
    {
     "data": {
      "text/plain": [
       "defaultdict(float,\n",
       "            {'KNN': {'best_params': {'n_neighbors': 35},\n",
       "              'best_rmse': 7.077679118367947},\n",
       "             'Linear_Regression': {'best_params': {'alpha': 36.79795918367348},\n",
       "              'best_rmse': 6.851643471593359},\n",
       "             'Random_Forest': {'best_params': {'n_estimators': 300,\n",
       "               'min_samples_split': 5,\n",
       "               'min_samples_leaf': 4,\n",
       "               'max_depth': 6},\n",
       "              'best_rmse': 6.794550117882793},\n",
       "             'Gradient_Boost': {'best_params': {'n_estimators': 100,\n",
       "               'max_depth': 2,\n",
       "               'learning_rate': 0.05},\n",
       "              'best_rmse': 6.837069043873724},\n",
       "             'XGBoost': {'best_params': {'subsample': 0.6,\n",
       "               'reg_lambda': 1.5,\n",
       "               'reg_alpha': 0.01,\n",
       "               'n_estimators': 100,\n",
       "               'max_depth': 2,\n",
       "               'learning_rate': 0.05,\n",
       "               'gamma': 0.3,\n",
       "               'colsample_bytree': 1.0},\n",
       "              'best_rmse': 6.825956219360698}})"
      ]
     },
     "execution_count": 413,
     "metadata": {},
     "output_type": "execute_result"
    }
   ],
   "source": [
    "error_dict_FD"
   ]
  },
  {
   "cell_type": "code",
   "execution_count": 414,
   "id": "bf658b7c-7ae3-407e-8e67-3a240163ae94",
   "metadata": {},
   "outputs": [],
   "source": [
    "errors_FD = pd.DataFrame(error_dict_FD)"
   ]
  },
  {
   "cell_type": "code",
   "execution_count": 415,
   "id": "15d553e2-1f24-4210-b36d-02c702b54521",
   "metadata": {},
   "outputs": [
    {
     "data": {
      "text/html": [
       "<div>\n",
       "<style scoped>\n",
       "    .dataframe tbody tr th:only-of-type {\n",
       "        vertical-align: middle;\n",
       "    }\n",
       "\n",
       "    .dataframe tbody tr th {\n",
       "        vertical-align: top;\n",
       "    }\n",
       "\n",
       "    .dataframe thead th {\n",
       "        text-align: right;\n",
       "    }\n",
       "</style>\n",
       "<table border=\"1\" class=\"dataframe\">\n",
       "  <thead>\n",
       "    <tr style=\"text-align: right;\">\n",
       "      <th></th>\n",
       "      <th>KNN</th>\n",
       "      <th>Linear_Regression</th>\n",
       "      <th>Random_Forest</th>\n",
       "      <th>Gradient_Boost</th>\n",
       "      <th>XGBoost</th>\n",
       "    </tr>\n",
       "  </thead>\n",
       "  <tbody>\n",
       "    <tr>\n",
       "      <th>best_params</th>\n",
       "      <td>{'n_neighbors': 35}</td>\n",
       "      <td>{'alpha': 36.79795918367348}</td>\n",
       "      <td>{'n_estimators': 300, 'min_samples_split': 5, ...</td>\n",
       "      <td>{'n_estimators': 100, 'max_depth': 2, 'learnin...</td>\n",
       "      <td>{'subsample': 0.6, 'reg_lambda': 1.5, 'reg_alp...</td>\n",
       "    </tr>\n",
       "    <tr>\n",
       "      <th>best_rmse</th>\n",
       "      <td>7.077679</td>\n",
       "      <td>6.851643</td>\n",
       "      <td>6.79455</td>\n",
       "      <td>6.837069</td>\n",
       "      <td>6.825956</td>\n",
       "    </tr>\n",
       "  </tbody>\n",
       "</table>\n",
       "</div>"
      ],
      "text/plain": [
       "                             KNN             Linear_Regression  \\\n",
       "best_params  {'n_neighbors': 35}  {'alpha': 36.79795918367348}   \n",
       "best_rmse               7.077679                      6.851643   \n",
       "\n",
       "                                                 Random_Forest  \\\n",
       "best_params  {'n_estimators': 300, 'min_samples_split': 5, ...   \n",
       "best_rmse                                              6.79455   \n",
       "\n",
       "                                                Gradient_Boost  \\\n",
       "best_params  {'n_estimators': 100, 'max_depth': 2, 'learnin...   \n",
       "best_rmse                                             6.837069   \n",
       "\n",
       "                                                       XGBoost  \n",
       "best_params  {'subsample': 0.6, 'reg_lambda': 1.5, 'reg_alp...  \n",
       "best_rmse                                             6.825956  "
      ]
     },
     "execution_count": 415,
     "metadata": {},
     "output_type": "execute_result"
    }
   ],
   "source": [
    "errors_FD"
   ]
  },
  {
   "cell_type": "code",
   "execution_count": 416,
   "id": "18044c3d-40f0-40ed-be06-b3710384420a",
   "metadata": {},
   "outputs": [],
   "source": [
    "errors_FD.to_csv('errors_QB_FD.csv', index = False)"
   ]
  },
  {
   "cell_type": "code",
   "execution_count": 425,
   "id": "a5f39485-9071-465d-aec3-7c5fa59dd425",
   "metadata": {},
   "outputs": [
    {
     "data": {
      "text/plain": [
       "{'subsample': 0.6,\n",
       " 'reg_lambda': 1.5,\n",
       " 'reg_alpha': 0.01,\n",
       " 'n_estimators': 100,\n",
       " 'max_depth': 2,\n",
       " 'learning_rate': 0.05,\n",
       " 'gamma': 0.3,\n",
       " 'colsample_bytree': 1.0}"
      ]
     },
     "execution_count": 425,
     "metadata": {},
     "output_type": "execute_result"
    }
   ],
   "source": [
    "errors_FD.loc['best_params', 'XGBoost']"
   ]
  },
  {
   "cell_type": "markdown",
   "id": "6935d7b4-cd96-472f-a010-c0c969120c9d",
   "metadata": {},
   "source": [
    "## DraftKings"
   ]
  },
  {
   "cell_type": "code",
   "execution_count": 417,
   "id": "213a825a-8b6a-4fe5-862f-a3b85a752824",
   "metadata": {},
   "outputs": [],
   "source": [
    "base_XGB_DK = xgb.XGBRegressor(objective='reg:squarederror', random_state=42)"
   ]
  },
  {
   "cell_type": "code",
   "execution_count": 418,
   "id": "41c9d8ed-b926-4445-8e56-ab931ae4bd88",
   "metadata": {},
   "outputs": [
    {
     "data": {
      "text/html": [
       "<style>#sk-container-id-18 {color: black;}#sk-container-id-18 pre{padding: 0;}#sk-container-id-18 div.sk-toggleable {background-color: white;}#sk-container-id-18 label.sk-toggleable__label {cursor: pointer;display: block;width: 100%;margin-bottom: 0;padding: 0.3em;box-sizing: border-box;text-align: center;}#sk-container-id-18 label.sk-toggleable__label-arrow:before {content: \"▸\";float: left;margin-right: 0.25em;color: #696969;}#sk-container-id-18 label.sk-toggleable__label-arrow:hover:before {color: black;}#sk-container-id-18 div.sk-estimator:hover label.sk-toggleable__label-arrow:before {color: black;}#sk-container-id-18 div.sk-toggleable__content {max-height: 0;max-width: 0;overflow: hidden;text-align: left;background-color: #f0f8ff;}#sk-container-id-18 div.sk-toggleable__content pre {margin: 0.2em;color: black;border-radius: 0.25em;background-color: #f0f8ff;}#sk-container-id-18 input.sk-toggleable__control:checked~div.sk-toggleable__content {max-height: 200px;max-width: 100%;overflow: auto;}#sk-container-id-18 input.sk-toggleable__control:checked~label.sk-toggleable__label-arrow:before {content: \"▾\";}#sk-container-id-18 div.sk-estimator input.sk-toggleable__control:checked~label.sk-toggleable__label {background-color: #d4ebff;}#sk-container-id-18 div.sk-label input.sk-toggleable__control:checked~label.sk-toggleable__label {background-color: #d4ebff;}#sk-container-id-18 input.sk-hidden--visually {border: 0;clip: rect(1px 1px 1px 1px);clip: rect(1px, 1px, 1px, 1px);height: 1px;margin: -1px;overflow: hidden;padding: 0;position: absolute;width: 1px;}#sk-container-id-18 div.sk-estimator {font-family: monospace;background-color: #f0f8ff;border: 1px dotted black;border-radius: 0.25em;box-sizing: border-box;margin-bottom: 0.5em;}#sk-container-id-18 div.sk-estimator:hover {background-color: #d4ebff;}#sk-container-id-18 div.sk-parallel-item::after {content: \"\";width: 100%;border-bottom: 1px solid gray;flex-grow: 1;}#sk-container-id-18 div.sk-label:hover label.sk-toggleable__label {background-color: #d4ebff;}#sk-container-id-18 div.sk-serial::before {content: \"\";position: absolute;border-left: 1px solid gray;box-sizing: border-box;top: 0;bottom: 0;left: 50%;z-index: 0;}#sk-container-id-18 div.sk-serial {display: flex;flex-direction: column;align-items: center;background-color: white;padding-right: 0.2em;padding-left: 0.2em;position: relative;}#sk-container-id-18 div.sk-item {position: relative;z-index: 1;}#sk-container-id-18 div.sk-parallel {display: flex;align-items: stretch;justify-content: center;background-color: white;position: relative;}#sk-container-id-18 div.sk-item::before, #sk-container-id-18 div.sk-parallel-item::before {content: \"\";position: absolute;border-left: 1px solid gray;box-sizing: border-box;top: 0;bottom: 0;left: 50%;z-index: -1;}#sk-container-id-18 div.sk-parallel-item {display: flex;flex-direction: column;z-index: 1;position: relative;background-color: white;}#sk-container-id-18 div.sk-parallel-item:first-child::after {align-self: flex-end;width: 50%;}#sk-container-id-18 div.sk-parallel-item:last-child::after {align-self: flex-start;width: 50%;}#sk-container-id-18 div.sk-parallel-item:only-child::after {width: 0;}#sk-container-id-18 div.sk-dashed-wrapped {border: 1px dashed gray;margin: 0 0.4em 0.5em 0.4em;box-sizing: border-box;padding-bottom: 0.4em;background-color: white;}#sk-container-id-18 div.sk-label label {font-family: monospace;font-weight: bold;display: inline-block;line-height: 1.2em;}#sk-container-id-18 div.sk-label-container {text-align: center;}#sk-container-id-18 div.sk-container {/* jupyter's `normalize.less` sets `[hidden] { display: none; }` but bootstrap.min.css set `[hidden] { display: none !important; }` so we also need the `!important` here to be able to override the default hidden behavior on the sphinx rendered scikit-learn.org. See: https://github.com/scikit-learn/scikit-learn/issues/21755 */display: inline-block !important;position: relative;}#sk-container-id-18 div.sk-text-repr-fallback {display: none;}</style><div id=\"sk-container-id-18\" class=\"sk-top-container\"><div class=\"sk-text-repr-fallback\"><pre>XGBRegressor(base_score=None, booster=None, callbacks=None,\n",
       "             colsample_bylevel=None, colsample_bynode=None,\n",
       "             colsample_bytree=None, device=None, early_stopping_rounds=None,\n",
       "             enable_categorical=False, eval_metric=None, feature_types=None,\n",
       "             gamma=None, grow_policy=None, importance_type=None,\n",
       "             interaction_constraints=None, learning_rate=None, max_bin=None,\n",
       "             max_cat_threshold=None, max_cat_to_onehot=None,\n",
       "             max_delta_step=None, max_depth=None, max_leaves=None,\n",
       "             min_child_weight=None, missing=nan, monotone_constraints=None,\n",
       "             multi_strategy=None, n_estimators=None, n_jobs=None,\n",
       "             num_parallel_tree=None, random_state=42, ...)</pre><b>In a Jupyter environment, please rerun this cell to show the HTML representation or trust the notebook. <br />On GitHub, the HTML representation is unable to render, please try loading this page with nbviewer.org.</b></div><div class=\"sk-container\" hidden><div class=\"sk-item\"><div class=\"sk-estimator sk-toggleable\"><input class=\"sk-toggleable__control sk-hidden--visually\" id=\"sk-estimator-id-32\" type=\"checkbox\" checked><label for=\"sk-estimator-id-32\" class=\"sk-toggleable__label sk-toggleable__label-arrow\">XGBRegressor</label><div class=\"sk-toggleable__content\"><pre>XGBRegressor(base_score=None, booster=None, callbacks=None,\n",
       "             colsample_bylevel=None, colsample_bynode=None,\n",
       "             colsample_bytree=None, device=None, early_stopping_rounds=None,\n",
       "             enable_categorical=False, eval_metric=None, feature_types=None,\n",
       "             gamma=None, grow_policy=None, importance_type=None,\n",
       "             interaction_constraints=None, learning_rate=None, max_bin=None,\n",
       "             max_cat_threshold=None, max_cat_to_onehot=None,\n",
       "             max_delta_step=None, max_depth=None, max_leaves=None,\n",
       "             min_child_weight=None, missing=nan, monotone_constraints=None,\n",
       "             multi_strategy=None, n_estimators=None, n_jobs=None,\n",
       "             num_parallel_tree=None, random_state=42, ...)</pre></div></div></div></div></div>"
      ],
      "text/plain": [
       "XGBRegressor(base_score=None, booster=None, callbacks=None,\n",
       "             colsample_bylevel=None, colsample_bynode=None,\n",
       "             colsample_bytree=None, device=None, early_stopping_rounds=None,\n",
       "             enable_categorical=False, eval_metric=None, feature_types=None,\n",
       "             gamma=None, grow_policy=None, importance_type=None,\n",
       "             interaction_constraints=None, learning_rate=None, max_bin=None,\n",
       "             max_cat_threshold=None, max_cat_to_onehot=None,\n",
       "             max_delta_step=None, max_depth=None, max_leaves=None,\n",
       "             min_child_weight=None, missing=nan, monotone_constraints=None,\n",
       "             multi_strategy=None, n_estimators=None, n_jobs=None,\n",
       "             num_parallel_tree=None, random_state=42, ...)"
      ]
     },
     "execution_count": 418,
     "metadata": {},
     "output_type": "execute_result"
    }
   ],
   "source": [
    "# Fit the best model on the training data\n",
    "base_XGB_DK.fit(X_DK_train_scaled, y_DK_train)"
   ]
  },
  {
   "cell_type": "code",
   "execution_count": 419,
   "id": "884c0918-b914-44e1-ad59-27d9b632330f",
   "metadata": {},
   "outputs": [],
   "source": [
    "# Make predictions on the test data\n",
    "y_pred = base_XGB_DK.predict(X_DK_test_scaled)"
   ]
  },
  {
   "cell_type": "code",
   "execution_count": 420,
   "id": "f7ba5602-a4c1-48b9-8789-3730512549a9",
   "metadata": {},
   "outputs": [
    {
     "name": "stdout",
     "output_type": "stream",
     "text": [
      "Base XGB R_squared_train: 0.9489335236119927\n",
      "Base XGB R_squared_test: 0.2811677693064859\n",
      "Base XGB MAE: 6.219388254486635\n",
      "Base XGB MSE: 65.53101154636907\n",
      "Base XGB RMSE: 8.095122701131162\n"
     ]
    }
   ],
   "source": [
    "print(f\"Base XGB R_squared_train: {base_XGB_DK.score(X_DK_train_scaled, y_DK_train)}\")\n",
    "print(f\"Base XGB R_squared_test: {base_XGB_DK.score(X_DK_test_scaled, y_DK_test)}\")\n",
    "print(f\"Base XGB MAE: {mean_absolute_error(y_DK_test, y_pred)}\")\n",
    "print(f\"Base XGB MSE: {mean_squared_error(y_DK_test, y_pred)}\")\n",
    "print(f\"Base XGB RMSE: {mean_squared_error(y_DK_test, y_pred, squared=False)}\")"
   ]
  },
  {
   "cell_type": "code",
   "execution_count": 421,
   "id": "7ad3cb6a-89e6-418b-8605-ec01c9e753a4",
   "metadata": {},
   "outputs": [],
   "source": [
    "param_dist = {\n",
    "    'n_estimators': [100, 200, 300],\n",
    "    'learning_rate': [0.01, 0.05, 0.1, 0.2, 0.3],\n",
    "    'max_depth': [2, 4, 6],\n",
    "    'subsample': [0.6, 0.8, 1.0],\n",
    "    'colsample_bytree': [0.6, 0.8, 1.0],\n",
    "    'gamma': [0, 0.1, 0.3],\n",
    "    'reg_alpha': [0, 0.01, 0.1],\n",
    "    'reg_lambda': [1, 1.5, 2]\n",
    "}"
   ]
  },
  {
   "cell_type": "code",
   "execution_count": 422,
   "id": "970bf29b-3ea3-428a-a6e0-e775eeb42d3d",
   "metadata": {},
   "outputs": [
    {
     "name": "stdout",
     "output_type": "stream",
     "text": [
      "Fitting 3 folds for each of 100 candidates, totalling 300 fits\n",
      "Tuned XGBoost Best Estimator: XGBRegressor(base_score=None, booster=None, callbacks=None,\n",
      "             colsample_bylevel=None, colsample_bynode=None,\n",
      "             colsample_bytree=1.0, device=None, early_stopping_rounds=None,\n",
      "             enable_categorical=False, eval_metric=None, feature_types=None,\n",
      "             gamma=0.1, grow_policy=None, importance_type=None,\n",
      "             interaction_constraints=None, learning_rate=0.05, max_bin=None,\n",
      "             max_cat_threshold=None, max_cat_to_onehot=None,\n",
      "             max_delta_step=None, max_depth=2, max_leaves=None,\n",
      "             min_child_weight=None, missing=nan, monotone_constraints=None,\n",
      "             multi_strategy=None, n_estimators=100, n_jobs=None,\n",
      "             num_parallel_tree=None, random_state=42, ...)\n",
      "Tuned XGBoost Best Score: -7.065917498826315\n",
      "Tuned XGBoost Best Params: {'subsample': 0.8, 'reg_lambda': 1, 'reg_alpha': 0.01, 'n_estimators': 100, 'max_depth': 2, 'learning_rate': 0.05, 'gamma': 0.1, 'colsample_bytree': 1.0}\n"
     ]
    }
   ],
   "source": [
    "# Set up the GridSearchCV with XGBoost\n",
    "XGB_CV_DK = RandomizedSearchCV(base_XGB_DK, param_dist, scoring=rmse_scorer, n_iter = 100, cv=3, n_jobs=2, verbose=3)\n",
    "XGB_CV_DK.fit(X_DK_train_scaled, y_DK_train)\n",
    "best_params = XGB_CV_DK.best_params_\n",
    "print(f\"Tuned XGBoost Best Estimator: {XGB_CV_DK.best_estimator_}\")\n",
    "print(f\"Tuned XGBoost Best Score: {XGB_CV_DK.best_score_}\")\n",
    "print(f\"Tuned XGBoost Best Params: {best_params}\")"
   ]
  },
  {
   "cell_type": "code",
   "execution_count": 426,
   "id": "5ce1d896-aa4b-4d04-8a5d-59c3969228a2",
   "metadata": {},
   "outputs": [],
   "source": [
    "best_XGB_DK = xgb.XGBRegressor(max_depth=2, n_estimators=100, learning_rate=0.05,\\\n",
    "                               subsample = 0.8, reg_lambda = 1, reg_alpha = 0.01,\\\n",
    "                               gamma = 0.1, colsample_bytree = 1.0, objective='reg:squarederror', random_state=42)"
   ]
  },
  {
   "cell_type": "code",
   "execution_count": 427,
   "id": "e5c5e59d-846f-4e93-8fe7-76d6ebe866bd",
   "metadata": {},
   "outputs": [],
   "source": [
    "best_XGB_DK.fit(X_DK_train_scaled, y_DK_train)\n",
    "y_pred = best_XGB_DK.predict(X_DK_test_scaled)"
   ]
  },
  {
   "cell_type": "code",
   "execution_count": 428,
   "id": "909c1c0d-bc31-47e8-b215-838dd9c8ec75",
   "metadata": {},
   "outputs": [
    {
     "name": "stdout",
     "output_type": "stream",
     "text": [
      "Best_XGB Train R-squared: 0.4486701381009479\n",
      "Best_XGB Test R-squared: 0.39122387382390744\n",
      "Best_XGB MAE: 5.769258059433282\n",
      "Best_XGB RMSE: 7.449694639196441\n",
      "Best_XGB MSE: 55.497950217272184\n"
     ]
    }
   ],
   "source": [
    "# Print evaluation metrics for the best model\n",
    "best_rmse = mean_squared_error(y_DK_test, y_pred, squared=False)\n",
    "print(f\"Best_XGB Train R-squared: {best_XGB_DK.score(X_DK_train_scaled, y_DK_train)}\")\n",
    "print(f\"Best_XGB Test R-squared: {best_XGB_DK.score(X_DK_test_scaled, y_DK_test)}\")\n",
    "print(f\"Best_XGB MAE: {mean_absolute_error(y_DK_test, y_pred)}\")\n",
    "print(f\"Best_XGB RMSE: {best_rmse}\")\n",
    "print(f\"Best_XGB MSE: {mean_squared_error(y_DK_test, y_pred)}\")"
   ]
  },
  {
   "cell_type": "code",
   "execution_count": 429,
   "id": "cfa2b907-f624-4c4c-91bd-827c20f5297e",
   "metadata": {},
   "outputs": [],
   "source": [
    "error_dict_DK['XGBoost'] = {'best_params': best_params, 'best_rmse': best_rmse}"
   ]
  },
  {
   "cell_type": "code",
   "execution_count": 430,
   "id": "e3909294-26ae-4d57-9139-53f00e6f6b69",
   "metadata": {},
   "outputs": [
    {
     "data": {
      "text/plain": [
       "defaultdict(float,\n",
       "            {'KNN': {'best_params': {'n_neighbors': 35},\n",
       "              'best_rmse': 7.704548048681453},\n",
       "             'Linear_Regression': {'best_params': {'alpha': 24.565306122448984},\n",
       "              'best_rmse': 7.470141938786919},\n",
       "             'Random_Forest': {'best_params': {'n_estimators': 500,\n",
       "               'min_samples_split': 2,\n",
       "               'min_samples_leaf': 4,\n",
       "               'max_depth': 6},\n",
       "              'best_rmse': 7.405278678453883},\n",
       "             'Gradient_Boost': {'best_params': {'n_estimators': 100,\n",
       "               'max_depth': 2,\n",
       "               'learning_rate': 0.1},\n",
       "              'best_rmse': 7.44117424990967},\n",
       "             'XGBoost': {'best_params': {'subsample': 0.8,\n",
       "               'reg_lambda': 1,\n",
       "               'reg_alpha': 0.01,\n",
       "               'n_estimators': 100,\n",
       "               'max_depth': 2,\n",
       "               'learning_rate': 0.05,\n",
       "               'gamma': 0.1,\n",
       "               'colsample_bytree': 1.0},\n",
       "              'best_rmse': 7.449694639196441}})"
      ]
     },
     "execution_count": 430,
     "metadata": {},
     "output_type": "execute_result"
    }
   ],
   "source": [
    "error_dict_DK"
   ]
  },
  {
   "cell_type": "code",
   "execution_count": 431,
   "id": "9b457e5a-6aff-40f4-b133-a8c6088ab0d1",
   "metadata": {},
   "outputs": [],
   "source": [
    "errors_DK = pd.DataFrame(error_dict_DK)"
   ]
  },
  {
   "cell_type": "code",
   "execution_count": 432,
   "id": "3c238adf-ab9d-4a18-9e76-bb53c5fc12c3",
   "metadata": {},
   "outputs": [
    {
     "data": {
      "text/html": [
       "<div>\n",
       "<style scoped>\n",
       "    .dataframe tbody tr th:only-of-type {\n",
       "        vertical-align: middle;\n",
       "    }\n",
       "\n",
       "    .dataframe tbody tr th {\n",
       "        vertical-align: top;\n",
       "    }\n",
       "\n",
       "    .dataframe thead th {\n",
       "        text-align: right;\n",
       "    }\n",
       "</style>\n",
       "<table border=\"1\" class=\"dataframe\">\n",
       "  <thead>\n",
       "    <tr style=\"text-align: right;\">\n",
       "      <th></th>\n",
       "      <th>KNN</th>\n",
       "      <th>Linear_Regression</th>\n",
       "      <th>Random_Forest</th>\n",
       "      <th>Gradient_Boost</th>\n",
       "      <th>XGBoost</th>\n",
       "    </tr>\n",
       "  </thead>\n",
       "  <tbody>\n",
       "    <tr>\n",
       "      <th>best_params</th>\n",
       "      <td>{'n_neighbors': 35}</td>\n",
       "      <td>{'alpha': 24.565306122448984}</td>\n",
       "      <td>{'n_estimators': 500, 'min_samples_split': 2, ...</td>\n",
       "      <td>{'n_estimators': 100, 'max_depth': 2, 'learnin...</td>\n",
       "      <td>{'subsample': 0.8, 'reg_lambda': 1, 'reg_alpha...</td>\n",
       "    </tr>\n",
       "    <tr>\n",
       "      <th>best_rmse</th>\n",
       "      <td>7.704548</td>\n",
       "      <td>7.470142</td>\n",
       "      <td>7.405279</td>\n",
       "      <td>7.441174</td>\n",
       "      <td>7.449695</td>\n",
       "    </tr>\n",
       "  </tbody>\n",
       "</table>\n",
       "</div>"
      ],
      "text/plain": [
       "                             KNN              Linear_Regression  \\\n",
       "best_params  {'n_neighbors': 35}  {'alpha': 24.565306122448984}   \n",
       "best_rmse               7.704548                       7.470142   \n",
       "\n",
       "                                                 Random_Forest  \\\n",
       "best_params  {'n_estimators': 500, 'min_samples_split': 2, ...   \n",
       "best_rmse                                             7.405279   \n",
       "\n",
       "                                                Gradient_Boost  \\\n",
       "best_params  {'n_estimators': 100, 'max_depth': 2, 'learnin...   \n",
       "best_rmse                                             7.441174   \n",
       "\n",
       "                                                       XGBoost  \n",
       "best_params  {'subsample': 0.8, 'reg_lambda': 1, 'reg_alpha...  \n",
       "best_rmse                                             7.449695  "
      ]
     },
     "execution_count": 432,
     "metadata": {},
     "output_type": "execute_result"
    }
   ],
   "source": [
    "errors_DK"
   ]
  },
  {
   "cell_type": "code",
   "execution_count": 433,
   "id": "2c8df9e4-271d-47b6-812e-be0bbe9fc4d8",
   "metadata": {},
   "outputs": [],
   "source": [
    "errors_DK.to_csv('errors_QB_DK.csv', index = False)"
   ]
  },
  {
   "cell_type": "code",
   "execution_count": null,
   "id": "9492a7e5-e46f-445b-b21a-84c67f0fd145",
   "metadata": {},
   "outputs": [],
   "source": []
  }
 ],
 "metadata": {
  "kernelspec": {
   "display_name": "Python (nfl_dfs_model)",
   "language": "python",
   "name": "nfl_dfs_model"
  },
  "language_info": {
   "codemirror_mode": {
    "name": "ipython",
    "version": 3
   },
   "file_extension": ".py",
   "mimetype": "text/x-python",
   "name": "python",
   "nbconvert_exporter": "python",
   "pygments_lexer": "ipython3",
   "version": "3.8.19"
  }
 },
 "nbformat": 4,
 "nbformat_minor": 5
}
